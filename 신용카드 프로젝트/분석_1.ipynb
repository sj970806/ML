{
 "cells": [
  {
   "cell_type": "markdown",
   "id": "d443950a",
   "metadata": {
    "toc": true
   },
   "source": [
    "<h1>Table of Contents<span class=\"tocSkip\"></span></h1>\n",
    "<div class=\"toc\"><ul class=\"toc-item\"><li><ul class=\"toc-item\"><li><span><a href=\"#import-module\" data-toc-modified-id=\"import-module-0.1\"><span class=\"toc-item-num\">0.1&nbsp;&nbsp;</span>import module</a></span></li><li><span><a href=\"#import-Data-set\" data-toc-modified-id=\"import-Data-set-0.2\"><span class=\"toc-item-num\">0.2&nbsp;&nbsp;</span>import Data set</a></span></li><li><span><a href=\"#train,-validation-set-split\" data-toc-modified-id=\"train,-validation-set-split-0.3\"><span class=\"toc-item-num\">0.3&nbsp;&nbsp;</span>train, validation set split</a></span><ul class=\"toc-item\"><li><span><a href=\"#범주형-변수들-카테고리화\" data-toc-modified-id=\"범주형-변수들-카테고리화-0.3.1\"><span class=\"toc-item-num\">0.3.1&nbsp;&nbsp;</span>범주형 변수들 카테고리화</a></span></li></ul></li><li><span><a href=\"#plot_feature_importance()\" data-toc-modified-id=\"plot_feature_importance()-0.4\"><span class=\"toc-item-num\">0.4&nbsp;&nbsp;</span>plot_feature_importance()</a></span></li></ul></li><li><span><a href=\"#RandomForest\" data-toc-modified-id=\"RandomForest-1\"><span class=\"toc-item-num\">1&nbsp;&nbsp;</span>RandomForest</a></span><ul class=\"toc-item\"><li><ul class=\"toc-item\"><li><span><a href=\"#임의의-하이퍼-파라미터-지정-(테스트용)\" data-toc-modified-id=\"임의의-하이퍼-파라미터-지정-(테스트용)-1.0.1\"><span class=\"toc-item-num\">1.0.1&nbsp;&nbsp;</span>임의의 하이퍼 파라미터 지정 (테스트용)</a></span><ul class=\"toc-item\"><li><span><a href=\"#oversampling-X\" data-toc-modified-id=\"oversampling-X-1.0.1.1\"><span class=\"toc-item-num\">1.0.1.1&nbsp;&nbsp;</span>oversampling X</a></span></li><li><span><a href=\"#oversampling-O\" data-toc-modified-id=\"oversampling-O-1.0.1.2\"><span class=\"toc-item-num\">1.0.1.2&nbsp;&nbsp;</span>oversampling O</a></span></li></ul></li></ul></li><li><span><a href=\"#GridSearchCV\" data-toc-modified-id=\"GridSearchCV-1.1\"><span class=\"toc-item-num\">1.1&nbsp;&nbsp;</span>GridSearchCV</a></span><ul class=\"toc-item\"><li><span><a href=\"#Best-Parameters-조합으로-산출한-validation-set-예측-성능확인\" data-toc-modified-id=\"Best-Parameters-조합으로-산출한-validation-set-예측-성능확인-1.1.1\"><span class=\"toc-item-num\">1.1.1&nbsp;&nbsp;</span>Best Parameters 조합으로 산출한 validation set 예측 성능확인</a></span><ul class=\"toc-item\"><li><span><a href=\"#oversampling-X\" data-toc-modified-id=\"oversampling-X-1.1.1.1\"><span class=\"toc-item-num\">1.1.1.1&nbsp;&nbsp;</span>oversampling X</a></span></li><li><span><a href=\"#oversampling-O\" data-toc-modified-id=\"oversampling-O-1.1.1.2\"><span class=\"toc-item-num\">1.1.1.2&nbsp;&nbsp;</span>oversampling O</a></span></li></ul></li><li><span><a href=\"#feature_importance\" data-toc-modified-id=\"feature_importance-1.1.2\"><span class=\"toc-item-num\">1.1.2&nbsp;&nbsp;</span>feature_importance</a></span></li></ul></li></ul></li><li><span><a href=\"#XGBoost\" data-toc-modified-id=\"XGBoost-2\"><span class=\"toc-item-num\">2&nbsp;&nbsp;</span>XGBoost</a></span><ul class=\"toc-item\"><li><ul class=\"toc-item\"><li><span><a href=\"#임의의-하이퍼-파라미터-지정-(테스트용도)\" data-toc-modified-id=\"임의의-하이퍼-파라미터-지정-(테스트용도)-2.0.1\"><span class=\"toc-item-num\">2.0.1&nbsp;&nbsp;</span>임의의 하이퍼 파라미터 지정 (테스트용도)</a></span><ul class=\"toc-item\"><li><span><a href=\"#oversampling-X\" data-toc-modified-id=\"oversampling-X-2.0.1.1\"><span class=\"toc-item-num\">2.0.1.1&nbsp;&nbsp;</span>oversampling X</a></span></li><li><span><a href=\"#oversampling-O\" data-toc-modified-id=\"oversampling-O-2.0.1.2\"><span class=\"toc-item-num\">2.0.1.2&nbsp;&nbsp;</span>oversampling O</a></span></li></ul></li></ul></li><li><span><a href=\"#GridSearchCV\" data-toc-modified-id=\"GridSearchCV-2.1\"><span class=\"toc-item-num\">2.1&nbsp;&nbsp;</span>GridSearchCV</a></span><ul class=\"toc-item\"><li><span><a href=\"#Best-Parameters-조합으로-산출한-validation-set-예측-성능확인\" data-toc-modified-id=\"Best-Parameters-조합으로-산출한-validation-set-예측-성능확인-2.1.1\"><span class=\"toc-item-num\">2.1.1&nbsp;&nbsp;</span>Best Parameters 조합으로 산출한 validation set 예측 성능확인</a></span><ul class=\"toc-item\"><li><span><a href=\"#oversampling-X\" data-toc-modified-id=\"oversampling-X-2.1.1.1\"><span class=\"toc-item-num\">2.1.1.1&nbsp;&nbsp;</span>oversampling X</a></span></li><li><span><a href=\"#oversampling-O\" data-toc-modified-id=\"oversampling-O-2.1.1.2\"><span class=\"toc-item-num\">2.1.1.2&nbsp;&nbsp;</span>oversampling O</a></span></li></ul></li><li><span><a href=\"#feature_importance\" data-toc-modified-id=\"feature_importance-2.1.2\"><span class=\"toc-item-num\">2.1.2&nbsp;&nbsp;</span>feature_importance</a></span></li></ul></li></ul></li><li><span><a href=\"#LGBM\" data-toc-modified-id=\"LGBM-3\"><span class=\"toc-item-num\">3&nbsp;&nbsp;</span>LGBM</a></span><ul class=\"toc-item\"><li><ul class=\"toc-item\"><li><span><a href=\"#임의의-하이퍼-파라미터-지정-(테스트용도)\" data-toc-modified-id=\"임의의-하이퍼-파라미터-지정-(테스트용도)-3.0.1\"><span class=\"toc-item-num\">3.0.1&nbsp;&nbsp;</span>임의의 하이퍼 파라미터 지정 (테스트용도)</a></span><ul class=\"toc-item\"><li><span><a href=\"#oversampling-X\" data-toc-modified-id=\"oversampling-X-3.0.1.1\"><span class=\"toc-item-num\">3.0.1.1&nbsp;&nbsp;</span>oversampling X</a></span></li><li><span><a href=\"#oversampling-O\" data-toc-modified-id=\"oversampling-O-3.0.1.2\"><span class=\"toc-item-num\">3.0.1.2&nbsp;&nbsp;</span>oversampling O</a></span></li></ul></li></ul></li><li><span><a href=\"#GridSearchCV\" data-toc-modified-id=\"GridSearchCV-3.1\"><span class=\"toc-item-num\">3.1&nbsp;&nbsp;</span>GridSearchCV</a></span><ul class=\"toc-item\"><li><span><a href=\"#Best-Parameters-조합으로-산출한-validation-set-예측-성능확인\" data-toc-modified-id=\"Best-Parameters-조합으로-산출한-validation-set-예측-성능확인-3.1.1\"><span class=\"toc-item-num\">3.1.1&nbsp;&nbsp;</span>Best Parameters 조합으로 산출한 validation set 예측 성능확인</a></span><ul class=\"toc-item\"><li><span><a href=\"#oversampling-X\" data-toc-modified-id=\"oversampling-X-3.1.1.1\"><span class=\"toc-item-num\">3.1.1.1&nbsp;&nbsp;</span>oversampling X</a></span></li><li><span><a href=\"#oversampling-O\" data-toc-modified-id=\"oversampling-O-3.1.1.2\"><span class=\"toc-item-num\">3.1.1.2&nbsp;&nbsp;</span>oversampling O</a></span></li></ul></li><li><span><a href=\"#feature_importance\" data-toc-modified-id=\"feature_importance-3.1.2\"><span class=\"toc-item-num\">3.1.2&nbsp;&nbsp;</span>feature_importance</a></span></li></ul></li></ul></li><li><span><a href=\"#CatBoost\" data-toc-modified-id=\"CatBoost-4\"><span class=\"toc-item-num\">4&nbsp;&nbsp;</span>CatBoost</a></span><ul class=\"toc-item\"><li><ul class=\"toc-item\"><li><span><a href=\"#Catboost-algorithm이-선택한-최적-하이퍼-파라미터\" data-toc-modified-id=\"Catboost-algorithm이-선택한-최적-하이퍼-파라미터-4.0.1\"><span class=\"toc-item-num\">4.0.1&nbsp;&nbsp;</span>Catboost algorithm이 선택한 최적 하이퍼 파라미터</a></span><ul class=\"toc-item\"><li><span><a href=\"#oversampling-X\" data-toc-modified-id=\"oversampling-X-4.0.1.1\"><span class=\"toc-item-num\">4.0.1.1&nbsp;&nbsp;</span>oversampling X</a></span></li><li><span><a href=\"#oversampling-O\" data-toc-modified-id=\"oversampling-O-4.0.1.2\"><span class=\"toc-item-num\">4.0.1.2&nbsp;&nbsp;</span>oversampling O</a></span></li></ul></li><li><span><a href=\"#feature_importance\" data-toc-modified-id=\"feature_importance-4.0.2\"><span class=\"toc-item-num\">4.0.2&nbsp;&nbsp;</span>feature_importance</a></span></li></ul></li></ul></li><li><span><a href=\"#Optuna\" data-toc-modified-id=\"Optuna-5\"><span class=\"toc-item-num\">5&nbsp;&nbsp;</span>Optuna</a></span><ul class=\"toc-item\"><li><span><a href=\"#RandomForest\" data-toc-modified-id=\"RandomForest-5.1\"><span class=\"toc-item-num\">5.1&nbsp;&nbsp;</span>RandomForest</a></span><ul class=\"toc-item\"><li><span><a href=\"#feature_importance\" data-toc-modified-id=\"feature_importance-5.1.1\"><span class=\"toc-item-num\">5.1.1&nbsp;&nbsp;</span>feature_importance</a></span></li></ul></li><li><span><a href=\"#XGBoost\" data-toc-modified-id=\"XGBoost-5.2\"><span class=\"toc-item-num\">5.2&nbsp;&nbsp;</span>XGBoost</a></span></li><li><span><a href=\"#LGBM\" data-toc-modified-id=\"LGBM-5.3\"><span class=\"toc-item-num\">5.3&nbsp;&nbsp;</span>LGBM</a></span></li></ul></li></ul></div>"
   ]
  },
  {
   "cell_type": "code",
   "execution_count": null,
   "id": "497841f1",
   "metadata": {},
   "outputs": [],
   "source": []
  },
  {
   "cell_type": "markdown",
   "id": "77d5ba79",
   "metadata": {
    "id": "f32ab9dd",
    "toc": true
   },
   "source": [
    "<h1>Table of Contents<span class=\"tocSkip\"></span></h1>\n",
    "<div class=\"toc\"><ul class=\"toc-item\"><li><ul class=\"toc-item\"><li><span><a href=\"#import-module\" data-toc-modified-id=\"import-module-0.1\"><span class=\"toc-item-num\">0.1&nbsp;&nbsp;</span>import module</a></span></li><li><span><a href=\"#import-Data-set\" data-toc-modified-id=\"import-Data-set-0.2\"><span class=\"toc-item-num\">0.2&nbsp;&nbsp;</span>import Data set</a></span></li><li><span><a href=\"#train,-validation-set-split\" data-toc-modified-id=\"train,-validation-set-split-0.3\"><span class=\"toc-item-num\">0.3&nbsp;&nbsp;</span>train, validation set split</a></span><ul class=\"toc-item\"><li><span><a href=\"#범주형-변수들-카테고리화\" data-toc-modified-id=\"범주형-변수들-카테고리화-0.3.1\"><span class=\"toc-item-num\">0.3.1&nbsp;&nbsp;</span>범주형 변수들 카테고리화</a></span></li></ul></li></ul></li><li><span><a href=\"#RandomForest\" data-toc-modified-id=\"RandomForest-1\"><span class=\"toc-item-num\">1&nbsp;&nbsp;</span>RandomForest</a></span><ul class=\"toc-item\"><li><ul class=\"toc-item\"><li><span><a href=\"#임의의-하이퍼-파라미터-지정-(테스트용)\" data-toc-modified-id=\"임의의-하이퍼-파라미터-지정-(테스트용)-1.0.1\"><span class=\"toc-item-num\">1.0.1&nbsp;&nbsp;</span>임의의 하이퍼 파라미터 지정 (테스트용)</a></span><ul class=\"toc-item\"><li><span><a href=\"#oversampling-X\" data-toc-modified-id=\"oversampling-X-1.0.1.1\"><span class=\"toc-item-num\">1.0.1.1&nbsp;&nbsp;</span>oversampling X</a></span></li><li><span><a href=\"#oversampling-O\" data-toc-modified-id=\"oversampling-O-1.0.1.2\"><span class=\"toc-item-num\">1.0.1.2&nbsp;&nbsp;</span>oversampling O</a></span></li></ul></li></ul></li><li><span><a href=\"#GridSearchCV\" data-toc-modified-id=\"GridSearchCV-1.1\"><span class=\"toc-item-num\">1.1&nbsp;&nbsp;</span>GridSearchCV</a></span><ul class=\"toc-item\"><li><span><a href=\"#Best-Parameters-조합으로-산출한-validation-set-예측-성능확인\" data-toc-modified-id=\"Best-Parameters-조합으로-산출한-validation-set-예측-성능확인-1.1.1\"><span class=\"toc-item-num\">1.1.1&nbsp;&nbsp;</span>Best Parameters 조합으로 산출한 validation set 예측 성능확인</a></span><ul class=\"toc-item\"><li><span><a href=\"#oversampling-X\" data-toc-modified-id=\"oversampling-X-1.1.1.1\"><span class=\"toc-item-num\">1.1.1.1&nbsp;&nbsp;</span>oversampling X</a></span></li><li><span><a href=\"#oversampling-O\" data-toc-modified-id=\"oversampling-O-1.1.1.2\"><span class=\"toc-item-num\">1.1.1.2&nbsp;&nbsp;</span>oversampling O</a></span></li></ul></li></ul></li></ul></li><li><span><a href=\"#XGBoost\" data-toc-modified-id=\"XGBoost-2\"><span class=\"toc-item-num\">2&nbsp;&nbsp;</span>XGBoost</a></span><ul class=\"toc-item\"><li><ul class=\"toc-item\"><li><span><a href=\"#임의의-하이퍼-파라미터-지정-(테스트용도)\" data-toc-modified-id=\"임의의-하이퍼-파라미터-지정-(테스트용도)-2.0.1\"><span class=\"toc-item-num\">2.0.1&nbsp;&nbsp;</span>임의의 하이퍼 파라미터 지정 (테스트용도)</a></span><ul class=\"toc-item\"><li><span><a href=\"#oversampling-X\" data-toc-modified-id=\"oversampling-X-2.0.1.1\"><span class=\"toc-item-num\">2.0.1.1&nbsp;&nbsp;</span>oversampling X</a></span></li><li><span><a href=\"#oversampling-O\" data-toc-modified-id=\"oversampling-O-2.0.1.2\"><span class=\"toc-item-num\">2.0.1.2&nbsp;&nbsp;</span>oversampling O</a></span></li></ul></li><li><span><a href=\"#발견한점\" data-toc-modified-id=\"발견한점-2.0.2\"><span class=\"toc-item-num\">2.0.2&nbsp;&nbsp;</span>발견한점</a></span></li></ul></li><li><span><a href=\"#GridSearchCV\" data-toc-modified-id=\"GridSearchCV-2.1\"><span class=\"toc-item-num\">2.1&nbsp;&nbsp;</span>GridSearchCV</a></span><ul class=\"toc-item\"><li><span><a href=\"#Best-Parameters-조합으로-산출한-validation-set-log-loss\" data-toc-modified-id=\"Best-Parameters-조합으로-산출한-validation-set-log-loss-2.1.1\"><span class=\"toc-item-num\">2.1.1&nbsp;&nbsp;</span>Best Parameters 조합으로 산출한 validation set log-loss</a></span></li><li><span><a href=\"#Best-Parameters-조합으로-train-set-학습\" data-toc-modified-id=\"Best-Parameters-조합으로-train-set-학습-2.1.2\"><span class=\"toc-item-num\">2.1.2&nbsp;&nbsp;</span>Best Parameters 조합으로 train set 학습</a></span></li><li><span><a href=\"#Oversampling-한-데이터로-학습-했을-때,-best-parameters는?\" data-toc-modified-id=\"Oversampling-한-데이터로-학습-했을-때,-best-parameters는?-2.1.3\"><span class=\"toc-item-num\">2.1.3&nbsp;&nbsp;</span>Oversampling 한 데이터로 학습 했을 때, best parameters는?</a></span></li></ul></li></ul></li><li><span><a href=\"#LGBM\" data-toc-modified-id=\"LGBM-3\"><span class=\"toc-item-num\">3&nbsp;&nbsp;</span>LGBM</a></span><ul class=\"toc-item\"><li><ul class=\"toc-item\"><li><span><a href=\"#임의의-하이퍼-파라미터-지정-(테스트용도)\" data-toc-modified-id=\"임의의-하이퍼-파라미터-지정-(테스트용도)-3.0.1\"><span class=\"toc-item-num\">3.0.1&nbsp;&nbsp;</span>임의의 하이퍼 파라미터 지정 (테스트용도)</a></span><ul class=\"toc-item\"><li><span><a href=\"#oversampling-X\" data-toc-modified-id=\"oversampling-X-3.0.1.1\"><span class=\"toc-item-num\">3.0.1.1&nbsp;&nbsp;</span>oversampling X</a></span></li><li><span><a href=\"#oversampling-O\" data-toc-modified-id=\"oversampling-O-3.0.1.2\"><span class=\"toc-item-num\">3.0.1.2&nbsp;&nbsp;</span>oversampling O</a></span></li></ul></li></ul></li><li><span><a href=\"#GridSearchCV\" data-toc-modified-id=\"GridSearchCV-3.1\"><span class=\"toc-item-num\">3.1&nbsp;&nbsp;</span>GridSearchCV</a></span><ul class=\"toc-item\"><li><span><a href=\"#Best-Parameters-조합으로-산출한-validation-set-log-loss\" data-toc-modified-id=\"Best-Parameters-조합으로-산출한-validation-set-log-loss-3.1.1\"><span class=\"toc-item-num\">3.1.1&nbsp;&nbsp;</span>Best Parameters 조합으로 산출한 validation set log-loss</a></span></li><li><span><a href=\"#y_test-예측-및-기록-(submission용-파일)\" data-toc-modified-id=\"y_test-예측-및-기록-(submission용-파일)-3.1.2\"><span class=\"toc-item-num\">3.1.2&nbsp;&nbsp;</span>y_test 예측 및 기록 (submission용 파일)</a></span></li><li><span><a href=\"#oversampling-한-train-set으로-적합-시킨-결과\" data-toc-modified-id=\"oversampling-한-train-set으로-적합-시킨-결과-3.1.3\"><span class=\"toc-item-num\">3.1.3&nbsp;&nbsp;</span>oversampling 한 train set으로 적합 시킨 결과</a></span></li></ul></li></ul></li><li><span><a href=\"#CatBoost\" data-toc-modified-id=\"CatBoost-4\"><span class=\"toc-item-num\">4&nbsp;&nbsp;</span>CatBoost</a></span><ul class=\"toc-item\"><li><ul class=\"toc-item\"><li><span><a href=\"#임의의-하이퍼-파라미터-지정-(테스트용도)\" data-toc-modified-id=\"임의의-하이퍼-파라미터-지정-(테스트용도)-4.0.1\"><span class=\"toc-item-num\">4.0.1&nbsp;&nbsp;</span>임의의 하이퍼 파라미터 지정 (테스트용도)</a></span><ul class=\"toc-item\"><li><span><a href=\"#oversampling-X\" data-toc-modified-id=\"oversampling-X-4.0.1.1\"><span class=\"toc-item-num\">4.0.1.1&nbsp;&nbsp;</span>oversampling X</a></span></li><li><span><a href=\"#oversampling-O\" data-toc-modified-id=\"oversampling-O-4.0.1.2\"><span class=\"toc-item-num\">4.0.1.2&nbsp;&nbsp;</span>oversampling O</a></span></li></ul></li><li><span><a href=\"#발견한점\" data-toc-modified-id=\"발견한점-4.0.2\"><span class=\"toc-item-num\">4.0.2&nbsp;&nbsp;</span>발견한점</a></span></li></ul></li></ul></li></ul></div>"
   ]
  },
  {
   "cell_type": "markdown",
   "id": "67e53ec0",
   "metadata": {
    "id": "a5a4515c"
   },
   "source": [
    "## import module"
   ]
  },
  {
   "cell_type": "code",
   "execution_count": 1,
   "id": "3baf4386",
   "metadata": {
    "executionInfo": {
     "elapsed": 512,
     "status": "ok",
     "timestamp": 1638422469885,
     "user": {
      "displayName": "유상준",
      "photoUrl": "https://lh3.googleusercontent.com/a-/AOh14GjwhV3OPaZeVbcnb0L540CX4dtB2wGRfCVw4E8=s64",
      "userId": "06620102043085366517"
     },
     "user_tz": -540
    },
    "id": "3735a59a"
   },
   "outputs": [],
   "source": [
    "import pandas as pd\n",
    "import numpy as np\n",
    "import matplotlib.pyplot as plt\n",
    "import seaborn as sns"
   ]
  },
  {
   "cell_type": "markdown",
   "id": "cae27927",
   "metadata": {
    "id": "5f64a7dd"
   },
   "source": [
    "## import Data set"
   ]
  },
  {
   "cell_type": "code",
   "execution_count": 3,
   "id": "9062a86f",
   "metadata": {
    "colab": {
     "base_uri": "https://localhost:8080/",
     "height": 258
    },
    "executionInfo": {
     "elapsed": 1878,
     "status": "ok",
     "timestamp": 1638422540558,
     "user": {
      "displayName": "유상준",
      "photoUrl": "https://lh3.googleusercontent.com/a-/AOh14GjwhV3OPaZeVbcnb0L540CX4dtB2wGRfCVw4E8=s64",
      "userId": "06620102043085366517"
     },
     "user_tz": -540
    },
    "id": "9033e31b",
    "outputId": "2adbfd20-31f0-485f-ba1b-1f36437666fe",
    "scrolled": true
   },
   "outputs": [
    {
     "data": {
      "text/html": [
       "<div>\n",
       "<style scoped>\n",
       "    .dataframe tbody tr th:only-of-type {\n",
       "        vertical-align: middle;\n",
       "    }\n",
       "\n",
       "    .dataframe tbody tr th {\n",
       "        vertical-align: top;\n",
       "    }\n",
       "\n",
       "    .dataframe thead th {\n",
       "        text-align: right;\n",
       "    }\n",
       "</style>\n",
       "<table border=\"1\" class=\"dataframe\">\n",
       "  <thead>\n",
       "    <tr style=\"text-align: right;\">\n",
       "      <th></th>\n",
       "      <th>gender</th>\n",
       "      <th>age</th>\n",
       "      <th>age_range</th>\n",
       "      <th>GET_JOB_AGE</th>\n",
       "      <th>DAYS_BIRTH</th>\n",
       "      <th>occyp_type</th>\n",
       "      <th>car</th>\n",
       "      <th>reality</th>\n",
       "      <th>work_phone</th>\n",
       "      <th>phone</th>\n",
       "      <th>...</th>\n",
       "      <th>begin_month</th>\n",
       "      <th>INCOME_EMPLOYED_RATIO_YEAR</th>\n",
       "      <th>INCOME_EMPLOYED_RATIO_MONTH</th>\n",
       "      <th>INCOME_EMPLOYED_RATIO_WEEK</th>\n",
       "      <th>INCOME_EMPLOYED_RATIO_DAY</th>\n",
       "      <th>INCOME_fam_RATIO</th>\n",
       "      <th>INCOME_child_num_RATIO</th>\n",
       "      <th>income_per_days_birth</th>\n",
       "      <th>income_per_age</th>\n",
       "      <th>credit</th>\n",
       "    </tr>\n",
       "    <tr>\n",
       "      <th>index</th>\n",
       "      <th></th>\n",
       "      <th></th>\n",
       "      <th></th>\n",
       "      <th></th>\n",
       "      <th></th>\n",
       "      <th></th>\n",
       "      <th></th>\n",
       "      <th></th>\n",
       "      <th></th>\n",
       "      <th></th>\n",
       "      <th></th>\n",
       "      <th></th>\n",
       "      <th></th>\n",
       "      <th></th>\n",
       "      <th></th>\n",
       "      <th></th>\n",
       "      <th></th>\n",
       "      <th></th>\n",
       "      <th></th>\n",
       "      <th></th>\n",
       "      <th></th>\n",
       "    </tr>\n",
       "  </thead>\n",
       "  <tbody>\n",
       "    <tr>\n",
       "      <th>0</th>\n",
       "      <td>0</td>\n",
       "      <td>-0.452872</td>\n",
       "      <td>3</td>\n",
       "      <td>-0.914537</td>\n",
       "      <td>-0.490120</td>\n",
       "      <td>1</td>\n",
       "      <td>0</td>\n",
       "      <td>0</td>\n",
       "      <td>0</td>\n",
       "      <td>0</td>\n",
       "      <td>...</td>\n",
       "      <td>-1.215079</td>\n",
       "      <td>-0.901362</td>\n",
       "      <td>-0.845622</td>\n",
       "      <td>-0.781729</td>\n",
       "      <td>-0.379672</td>\n",
       "      <td>0.325710</td>\n",
       "      <td>-0.663569</td>\n",
       "      <td>0.241125</td>\n",
       "      <td>0.221368</td>\n",
       "      <td>1.0</td>\n",
       "    </tr>\n",
       "    <tr>\n",
       "      <th>1</th>\n",
       "      <td>0</td>\n",
       "      <td>-1.060819</td>\n",
       "      <td>3</td>\n",
       "      <td>-0.839529</td>\n",
       "      <td>-1.089625</td>\n",
       "      <td>2</td>\n",
       "      <td>0</td>\n",
       "      <td>1</td>\n",
       "      <td>0</td>\n",
       "      <td>0</td>\n",
       "      <td>...</td>\n",
       "      <td>-1.275466</td>\n",
       "      <td>0.200421</td>\n",
       "      <td>-0.096129</td>\n",
       "      <td>-0.188113</td>\n",
       "      <td>-0.016543</td>\n",
       "      <td>0.001432</td>\n",
       "      <td>1.620097</td>\n",
       "      <td>1.160426</td>\n",
       "      <td>1.126932</td>\n",
       "      <td>1.0</td>\n",
       "    </tr>\n",
       "    <tr>\n",
       "      <th>2</th>\n",
       "      <td>1</td>\n",
       "      <td>0.763023</td>\n",
       "      <td>5</td>\n",
       "      <td>0.210578</td>\n",
       "      <td>0.744590</td>\n",
       "      <td>3</td>\n",
       "      <td>1</td>\n",
       "      <td>1</td>\n",
       "      <td>0</td>\n",
       "      <td>1</td>\n",
       "      <td>...</td>\n",
       "      <td>-0.248902</td>\n",
       "      <td>-0.140434</td>\n",
       "      <td>-0.353456</td>\n",
       "      <td>-0.394394</td>\n",
       "      <td>-0.199249</td>\n",
       "      <td>1.590101</td>\n",
       "      <td>-0.663569</td>\n",
       "      <td>1.394445</td>\n",
       "      <td>1.396311</td>\n",
       "      <td>2.0</td>\n",
       "    </tr>\n",
       "    <tr>\n",
       "      <th>3</th>\n",
       "      <td>0</td>\n",
       "      <td>-0.192323</td>\n",
       "      <td>4</td>\n",
       "      <td>-0.164460</td>\n",
       "      <td>-0.207146</td>\n",
       "      <td>4</td>\n",
       "      <td>0</td>\n",
       "      <td>1</td>\n",
       "      <td>0</td>\n",
       "      <td>1</td>\n",
       "      <td>...</td>\n",
       "      <td>0.656889</td>\n",
       "      <td>-0.164561</td>\n",
       "      <td>-0.382042</td>\n",
       "      <td>-0.415596</td>\n",
       "      <td>-0.213721</td>\n",
       "      <td>0.325710</td>\n",
       "      <td>-0.663569</td>\n",
       "      <td>0.094108</td>\n",
       "      <td>0.089249</td>\n",
       "      <td>0.0</td>\n",
       "    </tr>\n",
       "    <tr>\n",
       "      <th>4</th>\n",
       "      <td>0</td>\n",
       "      <td>-0.192323</td>\n",
       "      <td>4</td>\n",
       "      <td>-0.164460</td>\n",
       "      <td>-0.219284</td>\n",
       "      <td>3</td>\n",
       "      <td>1</td>\n",
       "      <td>1</td>\n",
       "      <td>0</td>\n",
       "      <td>0</td>\n",
       "      <td>...</td>\n",
       "      <td>-0.007358</td>\n",
       "      <td>-0.404053</td>\n",
       "      <td>-0.534458</td>\n",
       "      <td>-0.532157</td>\n",
       "      <td>-0.281513</td>\n",
       "      <td>-0.072229</td>\n",
       "      <td>-0.663569</td>\n",
       "      <td>-0.283265</td>\n",
       "      <td>-0.292427</td>\n",
       "      <td>2.0</td>\n",
       "    </tr>\n",
       "  </tbody>\n",
       "</table>\n",
       "<p>5 rows × 36 columns</p>\n",
       "</div>"
      ],
      "text/plain": [
       "       gender       age  age_range  GET_JOB_AGE  DAYS_BIRTH  occyp_type  car  \\\n",
       "index                                                                          \n",
       "0           0 -0.452872          3    -0.914537   -0.490120           1    0   \n",
       "1           0 -1.060819          3    -0.839529   -1.089625           2    0   \n",
       "2           1  0.763023          5     0.210578    0.744590           3    1   \n",
       "3           0 -0.192323          4    -0.164460   -0.207146           4    0   \n",
       "4           0 -0.192323          4    -0.164460   -0.219284           3    1   \n",
       "\n",
       "       reality  work_phone  phone  ...  begin_month  \\\n",
       "index                              ...                \n",
       "0            0           0      0  ...    -1.215079   \n",
       "1            1           0      0  ...    -1.275466   \n",
       "2            1           0      1  ...    -0.248902   \n",
       "3            1           0      1  ...     0.656889   \n",
       "4            1           0      0  ...    -0.007358   \n",
       "\n",
       "       INCOME_EMPLOYED_RATIO_YEAR  INCOME_EMPLOYED_RATIO_MONTH  \\\n",
       "index                                                            \n",
       "0                       -0.901362                    -0.845622   \n",
       "1                        0.200421                    -0.096129   \n",
       "2                       -0.140434                    -0.353456   \n",
       "3                       -0.164561                    -0.382042   \n",
       "4                       -0.404053                    -0.534458   \n",
       "\n",
       "       INCOME_EMPLOYED_RATIO_WEEK  INCOME_EMPLOYED_RATIO_DAY  \\\n",
       "index                                                          \n",
       "0                       -0.781729                  -0.379672   \n",
       "1                       -0.188113                  -0.016543   \n",
       "2                       -0.394394                  -0.199249   \n",
       "3                       -0.415596                  -0.213721   \n",
       "4                       -0.532157                  -0.281513   \n",
       "\n",
       "       INCOME_fam_RATIO  INCOME_child_num_RATIO  income_per_days_birth  \\\n",
       "index                                                                    \n",
       "0              0.325710               -0.663569               0.241125   \n",
       "1              0.001432                1.620097               1.160426   \n",
       "2              1.590101               -0.663569               1.394445   \n",
       "3              0.325710               -0.663569               0.094108   \n",
       "4             -0.072229               -0.663569              -0.283265   \n",
       "\n",
       "       income_per_age  credit  \n",
       "index                          \n",
       "0            0.221368     1.0  \n",
       "1            1.126932     1.0  \n",
       "2            1.396311     2.0  \n",
       "3            0.089249     0.0  \n",
       "4           -0.292427     2.0  \n",
       "\n",
       "[5 rows x 36 columns]"
      ]
     },
     "execution_count": 3,
     "metadata": {},
     "output_type": "execute_result"
    }
   ],
   "source": [
    "train = pd.read_csv('../data/신용카드/train_ver2.csv', index_col = 0)\n",
    "test = pd.read_csv('../data/신용카드/test_ver2.csv', index_col = 0)\n",
    "\n",
    "train.head()"
   ]
  },
  {
   "cell_type": "code",
   "execution_count": 4,
   "id": "4d164614",
   "metadata": {
    "executionInfo": {
     "elapsed": 783,
     "status": "ok",
     "timestamp": 1638422547080,
     "user": {
      "displayName": "유상준",
      "photoUrl": "https://lh3.googleusercontent.com/a-/AOh14GjwhV3OPaZeVbcnb0L540CX4dtB2wGRfCVw4E8=s64",
      "userId": "06620102043085366517"
     },
     "user_tz": -540
    },
    "id": "7e091716"
   },
   "outputs": [],
   "source": [
    "X = train.iloc[:,:-1]\n",
    "y = train['credit'].astype('category')"
   ]
  },
  {
   "cell_type": "code",
   "execution_count": 5,
   "id": "3c70e717",
   "metadata": {
    "colab": {
     "base_uri": "https://localhost:8080/"
    },
    "executionInfo": {
     "elapsed": 9,
     "status": "ok",
     "timestamp": 1638422548197,
     "user": {
      "displayName": "유상준",
      "photoUrl": "https://lh3.googleusercontent.com/a-/AOh14GjwhV3OPaZeVbcnb0L540CX4dtB2wGRfCVw4E8=s64",
      "userId": "06620102043085366517"
     },
     "user_tz": -540
    },
    "id": "240d8f3c",
    "outputId": "f2665e4f-27bf-46df-8220-6478aecb4d32",
    "scrolled": true
   },
   "outputs": [
    {
     "name": "stdout",
     "output_type": "stream",
     "text": [
      "<class 'pandas.core.frame.DataFrame'>\n",
      "Int64Index: 26451 entries, 0 to 26456\n",
      "Data columns (total 36 columns):\n",
      " #   Column                       Non-Null Count  Dtype  \n",
      "---  ------                       --------------  -----  \n",
      " 0   gender                       26451 non-null  int64  \n",
      " 1   age                          26451 non-null  float64\n",
      " 2   age_range                    26451 non-null  int64  \n",
      " 3   GET_JOB_AGE                  26451 non-null  float64\n",
      " 4   DAYS_BIRTH                   26451 non-null  float64\n",
      " 5   occyp_type                   26451 non-null  int64  \n",
      " 6   car                          26451 non-null  int64  \n",
      " 7   reality                      26451 non-null  int64  \n",
      " 8   work_phone                   26451 non-null  int64  \n",
      " 9   phone                        26451 non-null  int64  \n",
      " 10  email                        26451 non-null  int64  \n",
      " 11  family_size                  26451 non-null  float64\n",
      " 12  child                        26451 non-null  int64  \n",
      " 13  child_num                    26451 non-null  float64\n",
      " 14  income_total                 26451 non-null  float64\n",
      " 15  income_type                  26451 non-null  int64  \n",
      " 16  dual_income                  26451 non-null  float64\n",
      " 17  economical_people            26451 non-null  float64\n",
      " 18  edu_type                     26451 non-null  int64  \n",
      " 19  family_type                  26451 non-null  int64  \n",
      " 20  house_type                   26451 non-null  int64  \n",
      " 21  DAYS_EMPLOYED_YEAR           26451 non-null  float64\n",
      " 22  DAYS_EMPLOYED_MONTH          26451 non-null  float64\n",
      " 23  DAYS_EMPLOYED_WEEK           26451 non-null  float64\n",
      " 24  DAYS_EMPLOYED                26451 non-null  float64\n",
      " 25  begin_year                   26451 non-null  float64\n",
      " 26  begin_month                  26451 non-null  float64\n",
      " 27  INCOME_EMPLOYED_RATIO_YEAR   26451 non-null  float64\n",
      " 28  INCOME_EMPLOYED_RATIO_MONTH  26451 non-null  float64\n",
      " 29  INCOME_EMPLOYED_RATIO_WEEK   26451 non-null  float64\n",
      " 30  INCOME_EMPLOYED_RATIO_DAY    26451 non-null  float64\n",
      " 31  INCOME_fam_RATIO             26451 non-null  float64\n",
      " 32  INCOME_child_num_RATIO       26451 non-null  float64\n",
      " 33  income_per_days_birth        26451 non-null  float64\n",
      " 34  income_per_age               26451 non-null  float64\n",
      " 35  credit                       26451 non-null  float64\n",
      "dtypes: float64(23), int64(13)\n",
      "memory usage: 7.5 MB\n"
     ]
    }
   ],
   "source": [
    "train.info()"
   ]
  },
  {
   "cell_type": "code",
   "execution_count": 6,
   "id": "7b28ff55",
   "metadata": {
    "executionInfo": {
     "elapsed": 3084,
     "status": "ok",
     "timestamp": 1638422553849,
     "user": {
      "displayName": "유상준",
      "photoUrl": "https://lh3.googleusercontent.com/a-/AOh14GjwhV3OPaZeVbcnb0L540CX4dtB2wGRfCVw4E8=s64",
      "userId": "06620102043085366517"
     },
     "user_tz": -540
    },
    "id": "6273f37d"
   },
   "outputs": [],
   "source": [
    "from imblearn.over_sampling import SMOTE\n",
    "\n",
    "smote = SMOTE(random_state = 13)\n",
    "X_over, y_over = smote.fit_resample(X, y)"
   ]
  },
  {
   "cell_type": "code",
   "execution_count": 7,
   "id": "b9166db0",
   "metadata": {
    "colab": {
     "base_uri": "https://localhost:8080/"
    },
    "executionInfo": {
     "elapsed": 9,
     "status": "ok",
     "timestamp": 1638422555714,
     "user": {
      "displayName": "유상준",
      "photoUrl": "https://lh3.googleusercontent.com/a-/AOh14GjwhV3OPaZeVbcnb0L540CX4dtB2wGRfCVw4E8=s64",
      "userId": "06620102043085366517"
     },
     "user_tz": -540
    },
    "id": "ba959470",
    "outputId": "58adbcb0-1322-4cd2-bfe1-d8740886bd9a"
   },
   "outputs": [
    {
     "name": "stdout",
     "output_type": "stream",
     "text": [
      "Before over sampling :  (array([0., 1., 2.]), array([ 3222,  6267, 16962], dtype=int64))\n",
      "After over sampling :  (array([0., 1., 2.]), array([16962, 16962, 16962], dtype=int64))\n"
     ]
    }
   ],
   "source": [
    "print('Before over sampling : ', np.unique(y, return_counts = True))\n",
    "print('After over sampling : ', np.unique(y_over, return_counts = True))"
   ]
  },
  {
   "cell_type": "markdown",
   "id": "672e753c",
   "metadata": {
    "id": "4fedada0"
   },
   "source": [
    "## train, validation set split\n",
    "- 구한 데이터에서 test set의 label이 존재하지 않는다 (y_test가 없다.)\n",
    "- 따라서 train set의 일부를 모델 성능 지표를 평가하기 위한 validation set으로 구분한다."
   ]
  },
  {
   "cell_type": "code",
   "execution_count": 8,
   "id": "6c29b5f8",
   "metadata": {
    "colab": {
     "base_uri": "https://localhost:8080/"
    },
    "executionInfo": {
     "elapsed": 321,
     "status": "ok",
     "timestamp": 1638422558898,
     "user": {
      "displayName": "유상준",
      "photoUrl": "https://lh3.googleusercontent.com/a-/AOh14GjwhV3OPaZeVbcnb0L540CX4dtB2wGRfCVw4E8=s64",
      "userId": "06620102043085366517"
     },
     "user_tz": -540
    },
    "id": "b9144095",
    "outputId": "9a255348-a0c7-40e4-a5d9-b3218ff838e9"
   },
   "outputs": [
    {
     "name": "stdout",
     "output_type": "stream",
     "text": [
      "oversampling 하기 전 샘플 shape :  (21160, 35) (5291, 35)\n",
      "oversampling 한 샘플 shape :  (40708, 35) (10178, 35)\n"
     ]
    }
   ],
   "source": [
    "from sklearn.model_selection import train_test_split\n",
    "\n",
    "X_train, X_val, y_train, y_val = train_test_split(X,y, test_size = 0.2, stratify=y, random_state = 21)\n",
    "X_train_over, X_val_over, y_train_over, y_val_over = train_test_split(X_over,y_over, test_size = 0.2, stratify=y_over, random_state = 21)\n",
    "\n",
    "print('oversampling 하기 전 샘플 shape : ',X_train.shape, X_val.shape)\n",
    "print('oversampling 한 샘플 shape : ',X_train_over.shape, X_val_over.shape)"
   ]
  },
  {
   "cell_type": "markdown",
   "id": "3b14971a",
   "metadata": {
    "id": "WlriOUNVbrVC"
   },
   "source": [
    "### 범주형 변수들 카테고리화"
   ]
  },
  {
   "cell_type": "code",
   "execution_count": 9,
   "id": "1bb678ff",
   "metadata": {
    "collapsed": true,
    "executionInfo": {
     "elapsed": 349,
     "status": "ok",
     "timestamp": 1638422562085,
     "user": {
      "displayName": "유상준",
      "photoUrl": "https://lh3.googleusercontent.com/a-/AOh14GjwhV3OPaZeVbcnb0L540CX4dtB2wGRfCVw4E8=s64",
      "userId": "06620102043085366517"
     },
     "user_tz": -540
    },
    "id": "aQhixPLIbcbA"
   },
   "outputs": [
    {
     "name": "stderr",
     "output_type": "stream",
     "text": [
      "C:\\Users\\RYU\\AppData\\Local\\Temp/ipykernel_15144/2272970639.py:1: SettingWithCopyWarning: \n",
      "A value is trying to be set on a copy of a slice from a DataFrame.\n",
      "Try using .loc[row_indexer,col_indexer] = value instead\n",
      "\n",
      "See the caveats in the documentation: https://pandas.pydata.org/pandas-docs/stable/user_guide/indexing.html#returning-a-view-versus-a-copy\n",
      "  X_train['dual_income'] = X_train['dual_income'].astype('int')\n",
      "C:\\Users\\RYU\\AppData\\Local\\Temp/ipykernel_15144/2272970639.py:7: SettingWithCopyWarning: \n",
      "A value is trying to be set on a copy of a slice from a DataFrame.\n",
      "Try using .loc[row_indexer,col_indexer] = value instead\n",
      "\n",
      "See the caveats in the documentation: https://pandas.pydata.org/pandas-docs/stable/user_guide/indexing.html#returning-a-view-versus-a-copy\n",
      "  X_train[col] = X_train[col].astype('category')\n"
     ]
    }
   ],
   "source": [
    "X_train['dual_income'] = X_train['dual_income'].astype('int')\n",
    "\n",
    "cat_cols = ['gender', 'age_range','occyp_type','car','reality','work_phone','phone','email','child','income_type','dual_income','edu_type',\n",
    "            'family_type','house_type']\n",
    "\n",
    "for col in cat_cols:\n",
    "    X_train[col] = X_train[col].astype('category')"
   ]
  },
  {
   "cell_type": "code",
   "execution_count": 10,
   "id": "2e3b298a",
   "metadata": {
    "collapsed": true,
    "executionInfo": {
     "elapsed": 4,
     "status": "ok",
     "timestamp": 1638422563629,
     "user": {
      "displayName": "유상준",
      "photoUrl": "https://lh3.googleusercontent.com/a-/AOh14GjwhV3OPaZeVbcnb0L540CX4dtB2wGRfCVw4E8=s64",
      "userId": "06620102043085366517"
     },
     "user_tz": -540
    },
    "id": "Afg_-xOfa387"
   },
   "outputs": [
    {
     "name": "stderr",
     "output_type": "stream",
     "text": [
      "C:\\Users\\RYU\\AppData\\Local\\Temp/ipykernel_15144/2579428895.py:1: SettingWithCopyWarning: \n",
      "A value is trying to be set on a copy of a slice from a DataFrame.\n",
      "Try using .loc[row_indexer,col_indexer] = value instead\n",
      "\n",
      "See the caveats in the documentation: https://pandas.pydata.org/pandas-docs/stable/user_guide/indexing.html#returning-a-view-versus-a-copy\n",
      "  X_train_over['dual_income'] = X_train_over['dual_income'].astype('int')\n",
      "C:\\Users\\RYU\\AppData\\Local\\Temp/ipykernel_15144/2579428895.py:7: SettingWithCopyWarning: \n",
      "A value is trying to be set on a copy of a slice from a DataFrame.\n",
      "Try using .loc[row_indexer,col_indexer] = value instead\n",
      "\n",
      "See the caveats in the documentation: https://pandas.pydata.org/pandas-docs/stable/user_guide/indexing.html#returning-a-view-versus-a-copy\n",
      "  X_train_over[col] = X_train_over[col].astype('category')\n"
     ]
    }
   ],
   "source": [
    "X_train_over['dual_income'] = X_train_over['dual_income'].astype('int')\n",
    "\n",
    "cat_cols = ['gender', 'age_range','occyp_type','car','reality','work_phone','phone','email','child','income_type','dual_income','edu_type',\n",
    "            'family_type','house_type']\n",
    "\n",
    "for col in cat_cols:\n",
    "    X_train_over[col] = X_train_over[col].astype('category')"
   ]
  },
  {
   "cell_type": "code",
   "execution_count": 11,
   "id": "f8d8daf9",
   "metadata": {
    "collapsed": true,
    "executionInfo": {
     "elapsed": 3,
     "status": "ok",
     "timestamp": 1638422564856,
     "user": {
      "displayName": "유상준",
      "photoUrl": "https://lh3.googleusercontent.com/a-/AOh14GjwhV3OPaZeVbcnb0L540CX4dtB2wGRfCVw4E8=s64",
      "userId": "06620102043085366517"
     },
     "user_tz": -540
    },
    "id": "ChclPSYxbieP"
   },
   "outputs": [
    {
     "name": "stderr",
     "output_type": "stream",
     "text": [
      "C:\\Users\\RYU\\AppData\\Local\\Temp/ipykernel_15144/1294607563.py:1: SettingWithCopyWarning: \n",
      "A value is trying to be set on a copy of a slice from a DataFrame.\n",
      "Try using .loc[row_indexer,col_indexer] = value instead\n",
      "\n",
      "See the caveats in the documentation: https://pandas.pydata.org/pandas-docs/stable/user_guide/indexing.html#returning-a-view-versus-a-copy\n",
      "  X_val['dual_income'] = X_val['dual_income'].astype('int')\n",
      "C:\\Users\\RYU\\AppData\\Local\\Temp/ipykernel_15144/1294607563.py:7: SettingWithCopyWarning: \n",
      "A value is trying to be set on a copy of a slice from a DataFrame.\n",
      "Try using .loc[row_indexer,col_indexer] = value instead\n",
      "\n",
      "See the caveats in the documentation: https://pandas.pydata.org/pandas-docs/stable/user_guide/indexing.html#returning-a-view-versus-a-copy\n",
      "  X_val[col] = X_val[col].astype('category')\n"
     ]
    }
   ],
   "source": [
    "X_val['dual_income'] = X_val['dual_income'].astype('int')\n",
    "\n",
    "cat_cols = ['gender', 'age_range','occyp_type','car','reality','work_phone','phone','email','child','income_type','dual_income','edu_type',\n",
    "            'family_type','house_type']\n",
    "\n",
    "for col in cat_cols:\n",
    "    X_val[col] = X_val[col].astype('category')"
   ]
  },
  {
   "cell_type": "code",
   "execution_count": 12,
   "id": "e7a9d9f2",
   "metadata": {
    "collapsed": true,
    "executionInfo": {
     "elapsed": 3,
     "status": "ok",
     "timestamp": 1638422566552,
     "user": {
      "displayName": "유상준",
      "photoUrl": "https://lh3.googleusercontent.com/a-/AOh14GjwhV3OPaZeVbcnb0L540CX4dtB2wGRfCVw4E8=s64",
      "userId": "06620102043085366517"
     },
     "user_tz": -540
    },
    "id": "tQevmxdCbmlX"
   },
   "outputs": [
    {
     "name": "stderr",
     "output_type": "stream",
     "text": [
      "C:\\Users\\RYU\\AppData\\Local\\Temp/ipykernel_15144/2388855662.py:1: SettingWithCopyWarning: \n",
      "A value is trying to be set on a copy of a slice from a DataFrame.\n",
      "Try using .loc[row_indexer,col_indexer] = value instead\n",
      "\n",
      "See the caveats in the documentation: https://pandas.pydata.org/pandas-docs/stable/user_guide/indexing.html#returning-a-view-versus-a-copy\n",
      "  X_val_over['dual_income'] = X_val_over['dual_income'].astype('int')\n",
      "C:\\Users\\RYU\\AppData\\Local\\Temp/ipykernel_15144/2388855662.py:7: SettingWithCopyWarning: \n",
      "A value is trying to be set on a copy of a slice from a DataFrame.\n",
      "Try using .loc[row_indexer,col_indexer] = value instead\n",
      "\n",
      "See the caveats in the documentation: https://pandas.pydata.org/pandas-docs/stable/user_guide/indexing.html#returning-a-view-versus-a-copy\n",
      "  X_val_over[col] = X_val_over[col].astype('category')\n"
     ]
    }
   ],
   "source": [
    "X_val_over['dual_income'] = X_val_over['dual_income'].astype('int')\n",
    "\n",
    "cat_cols = ['gender', 'age_range','occyp_type','car','reality','work_phone','phone','email','child','income_type','dual_income','edu_type',\n",
    "            'family_type','house_type']\n",
    "\n",
    "for col in cat_cols:\n",
    "    X_val_over[col] = X_val_over[col].astype('category')"
   ]
  },
  {
   "cell_type": "code",
   "execution_count": 13,
   "id": "a67a7a57",
   "metadata": {},
   "outputs": [],
   "source": [
    "test['dual_income'] = test['dual_income'].astype('int')\n",
    "\n",
    "cat_cols = ['gender', 'age_range','occyp_type','car','reality','work_phone','phone','email','child','income_type','dual_income','edu_type',\n",
    "            'family_type','house_type']\n",
    "\n",
    "for col in cat_cols:\n",
    "    test[col] = test[col].astype('category')"
   ]
  },
  {
   "cell_type": "code",
   "execution_count": 14,
   "id": "3a3bb41f",
   "metadata": {
    "colab": {
     "base_uri": "https://localhost:8080/"
    },
    "executionInfo": {
     "elapsed": 380,
     "status": "ok",
     "timestamp": 1638422569380,
     "user": {
      "displayName": "유상준",
      "photoUrl": "https://lh3.googleusercontent.com/a-/AOh14GjwhV3OPaZeVbcnb0L540CX4dtB2wGRfCVw4E8=s64",
      "userId": "06620102043085366517"
     },
     "user_tz": -540
    },
    "id": "QBx3VvB3aj8F",
    "outputId": "90691afc-ac6a-4bde-b132-48d28a578c4b",
    "scrolled": true
   },
   "outputs": [
    {
     "name": "stdout",
     "output_type": "stream",
     "text": [
      "<class 'pandas.core.frame.DataFrame'>\n",
      "Int64Index: 40708 entries, 29309 to 39178\n",
      "Data columns (total 35 columns):\n",
      " #   Column                       Non-Null Count  Dtype   \n",
      "---  ------                       --------------  -----   \n",
      " 0   gender                       40708 non-null  category\n",
      " 1   age                          40708 non-null  float64 \n",
      " 2   age_range                    40708 non-null  category\n",
      " 3   GET_JOB_AGE                  40708 non-null  float64 \n",
      " 4   DAYS_BIRTH                   40708 non-null  float64 \n",
      " 5   occyp_type                   40708 non-null  category\n",
      " 6   car                          40708 non-null  category\n",
      " 7   reality                      40708 non-null  category\n",
      " 8   work_phone                   40708 non-null  category\n",
      " 9   phone                        40708 non-null  category\n",
      " 10  email                        40708 non-null  category\n",
      " 11  family_size                  40708 non-null  float64 \n",
      " 12  child                        40708 non-null  category\n",
      " 13  child_num                    40708 non-null  float64 \n",
      " 14  income_total                 40708 non-null  float64 \n",
      " 15  income_type                  40708 non-null  category\n",
      " 16  dual_income                  40708 non-null  category\n",
      " 17  economical_people            40708 non-null  float64 \n",
      " 18  edu_type                     40708 non-null  category\n",
      " 19  family_type                  40708 non-null  category\n",
      " 20  house_type                   40708 non-null  category\n",
      " 21  DAYS_EMPLOYED_YEAR           40708 non-null  float64 \n",
      " 22  DAYS_EMPLOYED_MONTH          40708 non-null  float64 \n",
      " 23  DAYS_EMPLOYED_WEEK           40708 non-null  float64 \n",
      " 24  DAYS_EMPLOYED                40708 non-null  float64 \n",
      " 25  begin_year                   40708 non-null  float64 \n",
      " 26  begin_month                  40708 non-null  float64 \n",
      " 27  INCOME_EMPLOYED_RATIO_YEAR   40708 non-null  float64 \n",
      " 28  INCOME_EMPLOYED_RATIO_MONTH  40708 non-null  float64 \n",
      " 29  INCOME_EMPLOYED_RATIO_WEEK   40708 non-null  float64 \n",
      " 30  INCOME_EMPLOYED_RATIO_DAY    40708 non-null  float64 \n",
      " 31  INCOME_fam_RATIO             40708 non-null  float64 \n",
      " 32  INCOME_child_num_RATIO       40708 non-null  float64 \n",
      " 33  income_per_days_birth        40708 non-null  float64 \n",
      " 34  income_per_age               40708 non-null  float64 \n",
      "dtypes: category(14), float64(21)\n",
      "memory usage: 7.4 MB\n"
     ]
    }
   ],
   "source": [
    "X_train_over.info()"
   ]
  },
  {
   "cell_type": "markdown",
   "id": "4e873145",
   "metadata": {},
   "source": [
    "## plot_feature_importance()\n",
    "- feature importance를 그려주는 함수 작성"
   ]
  },
  {
   "cell_type": "code",
   "execution_count": 121,
   "id": "addaf51b",
   "metadata": {},
   "outputs": [],
   "source": [
    "def plot_feature_importance(importance,names,model_type):\n",
    "\n",
    "    feature_importance = np.array(importance)\n",
    "    feature_names = np.array(names)\n",
    "\n",
    "    data={'feature_names':feature_names,'feature_importance':feature_importance}\n",
    "    fi_df = pd.DataFrame(data)\n",
    "\n",
    "    fi_df.sort_values(by=['feature_importance'], ascending=False,inplace=True)\n",
    "\n",
    "    plt.figure(figsize=(10,8))\n",
    "\n",
    "    sns.barplot(x=fi_df['feature_importance'], y=fi_df['feature_names'])\n",
    "\n",
    "    plt.title(model_type + ' Feature Importance')\n",
    "    plt.xlabel('Feature Importance')\n",
    "    plt.ylabel('Feature Names')"
   ]
  },
  {
   "cell_type": "markdown",
   "id": "d02a0171",
   "metadata": {
    "id": "9dd5b324"
   },
   "source": [
    "# RandomForest"
   ]
  },
  {
   "cell_type": "code",
   "execution_count": 15,
   "id": "7e0f1ddd",
   "metadata": {
    "executionInfo": {
     "elapsed": 312,
     "status": "ok",
     "timestamp": 1638425728167,
     "user": {
      "displayName": "유상준",
      "photoUrl": "https://lh3.googleusercontent.com/a-/AOh14GjwhV3OPaZeVbcnb0L540CX4dtB2wGRfCVw4E8=s64",
      "userId": "06620102043085366517"
     },
     "user_tz": -540
    },
    "id": "83b26dc0"
   },
   "outputs": [],
   "source": [
    "from sklearn.ensemble import RandomForestClassifier"
   ]
  },
  {
   "cell_type": "markdown",
   "id": "ed56ed23",
   "metadata": {
    "id": "8a1b21e7"
   },
   "source": [
    "### 임의의 하이퍼 파라미터 지정 (테스트용)"
   ]
  },
  {
   "cell_type": "markdown",
   "id": "ce7d4a43",
   "metadata": {
    "id": "ff07883e"
   },
   "source": [
    "#### oversampling X"
   ]
  },
  {
   "cell_type": "code",
   "execution_count": 16,
   "id": "c10b4956",
   "metadata": {
    "colab": {
     "base_uri": "https://localhost:8080/"
    },
    "executionInfo": {
     "elapsed": 3190,
     "status": "ok",
     "timestamp": 1638425733599,
     "user": {
      "displayName": "유상준",
      "photoUrl": "https://lh3.googleusercontent.com/a-/AOh14GjwhV3OPaZeVbcnb0L540CX4dtB2wGRfCVw4E8=s64",
      "userId": "06620102043085366517"
     },
     "user_tz": -540
    },
    "id": "c4e32014",
    "outputId": "d402f234-206d-4190-cc64-3ab59817f6b5",
    "scrolled": true
   },
   "outputs": [
    {
     "data": {
      "text/plain": [
       "RandomForestClassifier(max_depth=20, n_estimators=50)"
      ]
     },
     "execution_count": 16,
     "metadata": {},
     "output_type": "execute_result"
    }
   ],
   "source": [
    "rf = RandomForestClassifier(n_estimators = 50, max_depth = 20)\n",
    "rf.fit(X_train,y_train)"
   ]
  },
  {
   "cell_type": "code",
   "execution_count": 18,
   "id": "9fd0566d",
   "metadata": {
    "colab": {
     "base_uri": "https://localhost:8080/"
    },
    "executionInfo": {
     "elapsed": 518,
     "status": "ok",
     "timestamp": 1638425736092,
     "user": {
      "displayName": "유상준",
      "photoUrl": "https://lh3.googleusercontent.com/a-/AOh14GjwhV3OPaZeVbcnb0L540CX4dtB2wGRfCVw4E8=s64",
      "userId": "06620102043085366517"
     },
     "user_tz": -540
    },
    "id": "a599a030",
    "outputId": "2a87af40-c8c3-4905-8d5c-2bfb82012043"
   },
   "outputs": [
    {
     "name": "stdout",
     "output_type": "stream",
     "text": [
      "====================\n",
      "Validataion set 예측 성능 평가\n",
      "              precision    recall  f1-score   support\n",
      "\n",
      "         0.0       0.48      0.16      0.24       644\n",
      "         1.0       0.68      0.39      0.50      1254\n",
      "         2.0       0.73      0.93      0.82      3393\n",
      "\n",
      "    accuracy                           0.71      5291\n",
      "   macro avg       0.63      0.50      0.52      5291\n",
      "weighted avg       0.69      0.71      0.67      5291\n",
      "\n",
      "[[ 104   73  467]\n",
      " [  39  491  724]\n",
      " [  72  158 3163]]\n",
      "====================\n",
      "log_loss :  0.7266034801951697\n",
      "accuracy_score :  0.7102627102627103\n"
     ]
    }
   ],
   "source": [
    "from sklearn.metrics import log_loss, accuracy_score, classification_report, confusion_matrix\n",
    "\n",
    "print('='*20)\n",
    "print('Validataion set 예측 성능 평가')\n",
    "print(classification_report(y_val, rf.predict(X_val)))\n",
    "print(confusion_matrix(y_val, rf.predict(X_val)))\n",
    "print('='*20)\n",
    "print('log_loss : ',log_loss(y_val, rf.predict_proba(X_val)))\n",
    "print('accuracy_score : ', accuracy_score(y_val, rf.predict(X_val)))"
   ]
  },
  {
   "cell_type": "markdown",
   "id": "c077a83e",
   "metadata": {
    "id": "5b8f8cb9"
   },
   "source": [
    "#### oversampling O"
   ]
  },
  {
   "cell_type": "code",
   "execution_count": 19,
   "id": "a5ea0b86",
   "metadata": {
    "colab": {
     "base_uri": "https://localhost:8080/"
    },
    "executionInfo": {
     "elapsed": 6760,
     "status": "ok",
     "timestamp": 1638425770351,
     "user": {
      "displayName": "유상준",
      "photoUrl": "https://lh3.googleusercontent.com/a-/AOh14GjwhV3OPaZeVbcnb0L540CX4dtB2wGRfCVw4E8=s64",
      "userId": "06620102043085366517"
     },
     "user_tz": -540
    },
    "id": "af3ddee5",
    "outputId": "2eb18521-8cf1-42a9-a336-85ebc3fd18d1"
   },
   "outputs": [
    {
     "data": {
      "text/plain": [
       "RandomForestClassifier(max_depth=20, n_estimators=50)"
      ]
     },
     "execution_count": 19,
     "metadata": {},
     "output_type": "execute_result"
    }
   ],
   "source": [
    "rf.fit(X_train_over,y_train_over)"
   ]
  },
  {
   "cell_type": "code",
   "execution_count": 20,
   "id": "25c3bf9a",
   "metadata": {
    "colab": {
     "base_uri": "https://localhost:8080/"
    },
    "executionInfo": {
     "elapsed": 441,
     "status": "ok",
     "timestamp": 1638425772037,
     "user": {
      "displayName": "유상준",
      "photoUrl": "https://lh3.googleusercontent.com/a-/AOh14GjwhV3OPaZeVbcnb0L540CX4dtB2wGRfCVw4E8=s64",
      "userId": "06620102043085366517"
     },
     "user_tz": -540
    },
    "id": "f843c094",
    "outputId": "22d31f36-d53c-4589-dc98-52bfab0b426a"
   },
   "outputs": [
    {
     "name": "stdout",
     "output_type": "stream",
     "text": [
      "====================\n",
      "Validataion set 예측 성능 평가\n",
      "              precision    recall  f1-score   support\n",
      "\n",
      "         0.0       0.81      0.81      0.81       644\n",
      "         1.0       0.87      0.86      0.86      1254\n",
      "         2.0       0.93      0.94      0.93      3393\n",
      "\n",
      "    accuracy                           0.90      5291\n",
      "   macro avg       0.87      0.87      0.87      5291\n",
      "weighted avg       0.90      0.90      0.90      5291\n",
      "\n",
      "[[ 519   32   93]\n",
      " [  29 1074  151]\n",
      " [  90  130 3173]]\n",
      "====================\n",
      "log_loss :  0.44715992061085574\n",
      "accuracy_score :  0.9007749007749007\n"
     ]
    }
   ],
   "source": [
    "from sklearn.metrics import log_loss, accuracy_score, classification_report, confusion_matrix\n",
    "\n",
    "print('='*20)\n",
    "print('Validataion set 예측 성능 평가')\n",
    "print(classification_report(y_val, rf.predict(X_val)))\n",
    "print(confusion_matrix(y_val, rf.predict(X_val)))\n",
    "print('='*20)\n",
    "print('log_loss : ',log_loss(y_val, rf.predict_proba(X_val)))\n",
    "print('accuracy_score : ', accuracy_score(y_val, rf.predict(X_val)))"
   ]
  },
  {
   "cell_type": "markdown",
   "id": "dba12a5c",
   "metadata": {
    "id": "3cb91c39"
   },
   "source": [
    "## GridSearchCV"
   ]
  },
  {
   "cell_type": "code",
   "execution_count": 22,
   "id": "540ee840",
   "metadata": {
    "colab": {
     "base_uri": "https://localhost:8080/"
    },
    "executionInfo": {
     "elapsed": 404155,
     "status": "ok",
     "timestamp": 1638410519413,
     "user": {
      "displayName": "유상준",
      "photoUrl": "https://lh3.googleusercontent.com/a-/AOh14GjwhV3OPaZeVbcnb0L540CX4dtB2wGRfCVw4E8=s64",
      "userId": "06620102043085366517"
     },
     "user_tz": -540
    },
    "id": "630a9736",
    "outputId": "46012971-80b5-4b2f-d6ca-455860d52bc7"
   },
   "outputs": [
    {
     "data": {
      "text/plain": [
       "GridSearchCV(cv=5, estimator=RandomForestClassifier(),\n",
       "             param_grid=[{'max_depth': [10, 20, 50, 100],\n",
       "                          'n_estimators': [100, 400]}],\n",
       "             scoring='neg_log_loss')"
      ]
     },
     "execution_count": 22,
     "metadata": {},
     "output_type": "execute_result"
    }
   ],
   "source": [
    "from sklearn.model_selection import GridSearchCV\n",
    "\n",
    "param_grid = [ {\n",
    "    'n_estimators' : [100,400],\n",
    "    'max_depth' : [10,20,50,100]\n",
    "    #'min_samples_leaf' : [20,50]\n",
    "}]\n",
    "\n",
    "rf = RandomForestClassifier()\n",
    "\n",
    "GridSearch = GridSearchCV(estimator = rf, param_grid=param_grid, cv = 5, scoring='neg_log_loss')\n",
    "GridSearch.fit(X_train,y_train)"
   ]
  },
  {
   "cell_type": "code",
   "execution_count": 23,
   "id": "9320c7ae",
   "metadata": {
    "colab": {
     "base_uri": "https://localhost:8080/"
    },
    "executionInfo": {
     "elapsed": 423,
     "status": "ok",
     "timestamp": 1638410580493,
     "user": {
      "displayName": "유상준",
      "photoUrl": "https://lh3.googleusercontent.com/a-/AOh14GjwhV3OPaZeVbcnb0L540CX4dtB2wGRfCVw4E8=s64",
      "userId": "06620102043085366517"
     },
     "user_tz": -540
    },
    "id": "73df92e3",
    "outputId": "ba858327-f305-46e7-bad9-2689d35d0857"
   },
   "outputs": [
    {
     "data": {
      "text/plain": [
       "RandomForestClassifier(max_depth=20, n_estimators=400)"
      ]
     },
     "execution_count": 23,
     "metadata": {},
     "output_type": "execute_result"
    }
   ],
   "source": [
    "GridSearch.best_estimator_"
   ]
  },
  {
   "cell_type": "code",
   "execution_count": 24,
   "id": "6ed20202",
   "metadata": {
    "colab": {
     "base_uri": "https://localhost:8080/"
    },
    "executionInfo": {
     "elapsed": 874,
     "status": "ok",
     "timestamp": 1638410584329,
     "user": {
      "displayName": "유상준",
      "photoUrl": "https://lh3.googleusercontent.com/a-/AOh14GjwhV3OPaZeVbcnb0L540CX4dtB2wGRfCVw4E8=s64",
      "userId": "06620102043085366517"
     },
     "user_tz": -540
    },
    "id": "ae818c86",
    "outputId": "cf2885dc-d5f7-4e11-d229-ea789a733b6e"
   },
   "outputs": [
    {
     "data": {
      "text/plain": [
       "-0.7339818480301054"
      ]
     },
     "execution_count": 24,
     "metadata": {},
     "output_type": "execute_result"
    }
   ],
   "source": [
    "GridSearch.best_score_"
   ]
  },
  {
   "cell_type": "code",
   "execution_count": 25,
   "id": "8225857e",
   "metadata": {
    "colab": {
     "base_uri": "https://localhost:8080/",
     "height": 300
    },
    "executionInfo": {
     "elapsed": 545,
     "status": "ok",
     "timestamp": 1638410586507,
     "user": {
      "displayName": "유상준",
      "photoUrl": "https://lh3.googleusercontent.com/a-/AOh14GjwhV3OPaZeVbcnb0L540CX4dtB2wGRfCVw4E8=s64",
      "userId": "06620102043085366517"
     },
     "user_tz": -540
    },
    "id": "0fc82b07",
    "outputId": "e647afad-0b16-43b5-c09c-fe52f94d0463",
    "scrolled": true
   },
   "outputs": [
    {
     "data": {
      "text/html": [
       "<div>\n",
       "<style scoped>\n",
       "    .dataframe tbody tr th:only-of-type {\n",
       "        vertical-align: middle;\n",
       "    }\n",
       "\n",
       "    .dataframe tbody tr th {\n",
       "        vertical-align: top;\n",
       "    }\n",
       "\n",
       "    .dataframe thead th {\n",
       "        text-align: right;\n",
       "    }\n",
       "</style>\n",
       "<table border=\"1\" class=\"dataframe\">\n",
       "  <thead>\n",
       "    <tr style=\"text-align: right;\">\n",
       "      <th></th>\n",
       "      <th>mean_test_score</th>\n",
       "      <th>rank_test_score</th>\n",
       "    </tr>\n",
       "  </thead>\n",
       "  <tbody>\n",
       "    <tr>\n",
       "      <th>{'max_depth': 20, 'n_estimators': 400}</th>\n",
       "      <td>-0.733982</td>\n",
       "      <td>1</td>\n",
       "    </tr>\n",
       "    <tr>\n",
       "      <th>{'max_depth': 20, 'n_estimators': 100}</th>\n",
       "      <td>-0.739402</td>\n",
       "      <td>2</td>\n",
       "    </tr>\n",
       "    <tr>\n",
       "      <th>{'max_depth': 10, 'n_estimators': 400}</th>\n",
       "      <td>-0.785883</td>\n",
       "      <td>3</td>\n",
       "    </tr>\n",
       "    <tr>\n",
       "      <th>{'max_depth': 10, 'n_estimators': 100}</th>\n",
       "      <td>-0.786864</td>\n",
       "      <td>4</td>\n",
       "    </tr>\n",
       "    <tr>\n",
       "      <th>{'max_depth': 50, 'n_estimators': 400}</th>\n",
       "      <td>-0.804608</td>\n",
       "      <td>5</td>\n",
       "    </tr>\n",
       "    <tr>\n",
       "      <th>{'max_depth': 100, 'n_estimators': 400}</th>\n",
       "      <td>-0.808789</td>\n",
       "      <td>6</td>\n",
       "    </tr>\n",
       "    <tr>\n",
       "      <th>{'max_depth': 50, 'n_estimators': 100}</th>\n",
       "      <td>-0.983369</td>\n",
       "      <td>7</td>\n",
       "    </tr>\n",
       "    <tr>\n",
       "      <th>{'max_depth': 100, 'n_estimators': 100}</th>\n",
       "      <td>-0.993055</td>\n",
       "      <td>8</td>\n",
       "    </tr>\n",
       "  </tbody>\n",
       "</table>\n",
       "</div>"
      ],
      "text/plain": [
       "                                         mean_test_score  rank_test_score\n",
       "{'max_depth': 20, 'n_estimators': 400}         -0.733982                1\n",
       "{'max_depth': 20, 'n_estimators': 100}         -0.739402                2\n",
       "{'max_depth': 10, 'n_estimators': 400}         -0.785883                3\n",
       "{'max_depth': 10, 'n_estimators': 100}         -0.786864                4\n",
       "{'max_depth': 50, 'n_estimators': 400}         -0.804608                5\n",
       "{'max_depth': 100, 'n_estimators': 400}        -0.808789                6\n",
       "{'max_depth': 50, 'n_estimators': 100}         -0.983369                7\n",
       "{'max_depth': 100, 'n_estimators': 100}        -0.993055                8"
      ]
     },
     "execution_count": 25,
     "metadata": {},
     "output_type": "execute_result"
    }
   ],
   "source": [
    "rf_grid = pd.DataFrame(GridSearch.cv_results_, index = GridSearch.cv_results_['params'])[['mean_test_score','rank_test_score']].sort_values('rank_test_score')\n",
    "rf_grid"
   ]
  },
  {
   "cell_type": "markdown",
   "id": "35c5638c",
   "metadata": {
    "id": "bd77b168"
   },
   "source": [
    "### Best Parameters 조합으로 산출한 validation set 예측 성능확인"
   ]
  },
  {
   "cell_type": "markdown",
   "id": "5e3a6830",
   "metadata": {},
   "source": [
    "#### oversampling X"
   ]
  },
  {
   "cell_type": "code",
   "execution_count": 127,
   "id": "5abe86c7",
   "metadata": {
    "colab": {
     "base_uri": "https://localhost:8080/"
    },
    "executionInfo": {
     "elapsed": 21316,
     "status": "ok",
     "timestamp": 1638425840353,
     "user": {
      "displayName": "유상준",
      "photoUrl": "https://lh3.googleusercontent.com/a-/AOh14GjwhV3OPaZeVbcnb0L540CX4dtB2wGRfCVw4E8=s64",
      "userId": "06620102043085366517"
     },
     "user_tz": -540
    },
    "id": "MIK_Yg9Wyarp",
    "outputId": "b55ff2f6-ce29-4428-de50-6f2abb28b1f8"
   },
   "outputs": [],
   "source": [
    "rf = RandomForestClassifier(max_depth=20, n_estimators=400)\n",
    "rf.fit(X_train, y_train)"
   ]
  },
  {
   "cell_type": "code",
   "execution_count": 34,
   "id": "dfd359cb",
   "metadata": {
    "colab": {
     "base_uri": "https://localhost:8080/"
    },
    "executionInfo": {
     "elapsed": 1195,
     "status": "ok",
     "timestamp": 1638425846582,
     "user": {
      "displayName": "유상준",
      "photoUrl": "https://lh3.googleusercontent.com/a-/AOh14GjwhV3OPaZeVbcnb0L540CX4dtB2wGRfCVw4E8=s64",
      "userId": "06620102043085366517"
     },
     "user_tz": -540
    },
    "id": "c9ec54cd",
    "outputId": "c0293427-b7da-4f17-a281-cc7b800d91a0"
   },
   "outputs": [
    {
     "name": "stdout",
     "output_type": "stream",
     "text": [
      "==================================================\n",
      "Validataion set 예측 성능 평가\n",
      "              precision    recall  f1-score   support\n",
      "\n",
      "         0.0       0.49      0.16      0.24       644\n",
      "         1.0       0.67      0.39      0.49      1254\n",
      "         2.0       0.73      0.93      0.82      3393\n",
      "\n",
      "    accuracy                           0.71      5291\n",
      "   macro avg       0.63      0.49      0.52      5291\n",
      "weighted avg       0.68      0.71      0.67      5291\n",
      "\n",
      "[[ 103   75  466]\n",
      " [  41  487  726]\n",
      " [  65  169 3159]]\n",
      "==================================================\n",
      "log_loss :  0.7194832644924728\n",
      "accuracy_score :  0.7085617085617085\n"
     ]
    }
   ],
   "source": [
    "from sklearn.metrics import log_loss, accuracy_score, classification_report, confusion_matrix\n",
    "\n",
    "print('='*50)\n",
    "print('Validataion set 예측 성능 평가')\n",
    "print(classification_report(y_val, rf.predict(X_val)))\n",
    "print(confusion_matrix(y_val, rf.predict(X_val)))\n",
    "print('='*50)\n",
    "print('log_loss : ',log_loss(y_val, rf.predict_proba(X_val)))\n",
    "print('accuracy_score : ', accuracy_score(y_val, rf.predict(X_val)))"
   ]
  },
  {
   "cell_type": "markdown",
   "id": "b07530e8",
   "metadata": {
    "id": "ZzTTd5V345VF"
   },
   "source": [
    "##### y_test 예측 및 기록 (submission용 파일)"
   ]
  },
  {
   "cell_type": "code",
   "execution_count": 26,
   "id": "c7c93709",
   "metadata": {
    "colab": {
     "base_uri": "https://localhost:8080/",
     "height": 238
    },
    "executionInfo": {
     "elapsed": 306,
     "status": "ok",
     "timestamp": 1638425851106,
     "user": {
      "displayName": "유상준",
      "photoUrl": "https://lh3.googleusercontent.com/a-/AOh14GjwhV3OPaZeVbcnb0L540CX4dtB2wGRfCVw4E8=s64",
      "userId": "06620102043085366517"
     },
     "user_tz": -540
    },
    "id": "fflXVWymrM3h",
    "outputId": "7d82e13d-17ff-4218-bab6-01f363c74cc2"
   },
   "outputs": [],
   "source": [
    "sample_submission = pd.read_csv('../data/신용카드/sample_submission.csv', index_col = 0)"
   ]
  },
  {
   "cell_type": "code",
   "execution_count": 27,
   "id": "b1e1a79a",
   "metadata": {
    "colab": {
     "base_uri": "https://localhost:8080/",
     "height": 238
    },
    "executionInfo": {
     "elapsed": 305,
     "status": "ok",
     "timestamp": 1638425886456,
     "user": {
      "displayName": "유상준",
      "photoUrl": "https://lh3.googleusercontent.com/a-/AOh14GjwhV3OPaZeVbcnb0L540CX4dtB2wGRfCVw4E8=s64",
      "userId": "06620102043085366517"
     },
     "user_tz": -540
    },
    "id": "bM8Hl3cn4eon",
    "outputId": "713247ac-4ae6-4d07-e5d8-dcde523ce0cf"
   },
   "outputs": [
    {
     "data": {
      "text/html": [
       "<div>\n",
       "<style scoped>\n",
       "    .dataframe tbody tr th:only-of-type {\n",
       "        vertical-align: middle;\n",
       "    }\n",
       "\n",
       "    .dataframe tbody tr th {\n",
       "        vertical-align: top;\n",
       "    }\n",
       "\n",
       "    .dataframe thead th {\n",
       "        text-align: right;\n",
       "    }\n",
       "</style>\n",
       "<table border=\"1\" class=\"dataframe\">\n",
       "  <thead>\n",
       "    <tr style=\"text-align: right;\">\n",
       "      <th></th>\n",
       "      <th>0</th>\n",
       "      <th>1</th>\n",
       "      <th>2</th>\n",
       "    </tr>\n",
       "    <tr>\n",
       "      <th>index</th>\n",
       "      <th></th>\n",
       "      <th></th>\n",
       "      <th></th>\n",
       "    </tr>\n",
       "  </thead>\n",
       "  <tbody>\n",
       "    <tr>\n",
       "      <th>26457</th>\n",
       "      <td>0.105065</td>\n",
       "      <td>0.182573</td>\n",
       "      <td>0.712362</td>\n",
       "    </tr>\n",
       "    <tr>\n",
       "      <th>26458</th>\n",
       "      <td>0.148903</td>\n",
       "      <td>0.092447</td>\n",
       "      <td>0.758650</td>\n",
       "    </tr>\n",
       "    <tr>\n",
       "      <th>26459</th>\n",
       "      <td>0.072811</td>\n",
       "      <td>0.099305</td>\n",
       "      <td>0.827884</td>\n",
       "    </tr>\n",
       "    <tr>\n",
       "      <th>26460</th>\n",
       "      <td>0.125810</td>\n",
       "      <td>0.178260</td>\n",
       "      <td>0.695930</td>\n",
       "    </tr>\n",
       "    <tr>\n",
       "      <th>26461</th>\n",
       "      <td>0.144722</td>\n",
       "      <td>0.241550</td>\n",
       "      <td>0.613728</td>\n",
       "    </tr>\n",
       "  </tbody>\n",
       "</table>\n",
       "</div>"
      ],
      "text/plain": [
       "              0         1         2\n",
       "index                              \n",
       "26457  0.105065  0.182573  0.712362\n",
       "26458  0.148903  0.092447  0.758650\n",
       "26459  0.072811  0.099305  0.827884\n",
       "26460  0.125810  0.178260  0.695930\n",
       "26461  0.144722  0.241550  0.613728"
      ]
     },
     "execution_count": 27,
     "metadata": {},
     "output_type": "execute_result"
    }
   ],
   "source": [
    "rf_sample_submission = pd.DataFrame(rf.predict_proba(test), index = sample_submission.index)\n",
    "rf_sample_submission.head()"
   ]
  },
  {
   "cell_type": "markdown",
   "id": "2af295f3",
   "metadata": {},
   "source": [
    "#### oversampling O"
   ]
  },
  {
   "cell_type": "code",
   "execution_count": 128,
   "id": "2e06a334",
   "metadata": {},
   "outputs": [
    {
     "data": {
      "text/plain": [
       "RandomForestClassifier(max_depth=20, n_estimators=400)"
      ]
     },
     "execution_count": 128,
     "metadata": {},
     "output_type": "execute_result"
    }
   ],
   "source": [
    "rf.fit(X_train_over, y_train_over)"
   ]
  },
  {
   "cell_type": "code",
   "execution_count": 129,
   "id": "94ba1ad0",
   "metadata": {
    "colab": {
     "base_uri": "https://localhost:8080/"
    },
    "executionInfo": {
     "elapsed": 1311,
     "status": "ok",
     "timestamp": 1638426003669,
     "user": {
      "displayName": "유상준",
      "photoUrl": "https://lh3.googleusercontent.com/a-/AOh14GjwhV3OPaZeVbcnb0L540CX4dtB2wGRfCVw4E8=s64",
      "userId": "06620102043085366517"
     },
     "user_tz": -540
    },
    "id": "QyrcUTWvyxEO",
    "outputId": "7f9f6d8b-d8bb-4fed-9141-d94bdedcc0ee"
   },
   "outputs": [
    {
     "name": "stdout",
     "output_type": "stream",
     "text": [
      "==================================================\n",
      "Validataion set 예측 성능 평가\n",
      "              precision    recall  f1-score   support\n",
      "\n",
      "         0.0       0.83      0.80      0.81       644\n",
      "         1.0       0.86      0.87      0.87      1254\n",
      "         2.0       0.93      0.93      0.93      3393\n",
      "\n",
      "    accuracy                           0.90      5291\n",
      "   macro avg       0.87      0.87      0.87      5291\n",
      "weighted avg       0.90      0.90      0.90      5291\n",
      "\n",
      "[[ 516   31   97]\n",
      " [  30 1093  131]\n",
      " [  79  142 3172]]\n",
      "==================================================\n",
      "log_loss :  0.4333109052992005\n",
      "accuracy_score :  0.9036099036099036\n"
     ]
    }
   ],
   "source": [
    "from sklearn.metrics import log_loss, accuracy_score, classification_report, confusion_matrix\n",
    "\n",
    "print('='*50)\n",
    "print('Validataion set 예측 성능 평가')\n",
    "print(classification_report(y_val, rf.predict(X_val)))\n",
    "print(confusion_matrix(y_val, rf.predict(X_val)))\n",
    "print('='*50)\n",
    "print('log_loss : ',log_loss(y_val, rf.predict_proba(X_val)))\n",
    "print('accuracy_score : ', accuracy_score(y_val, rf.predict(X_val)))"
   ]
  },
  {
   "cell_type": "markdown",
   "id": "9ff57441",
   "metadata": {
    "id": "ZzTTd5V345VF"
   },
   "source": [
    "##### y_test 예측 및 기록 (submission용 파일)"
   ]
  },
  {
   "cell_type": "code",
   "execution_count": 134,
   "id": "fa67ad5e",
   "metadata": {
    "colab": {
     "base_uri": "https://localhost:8080/",
     "height": 238
    },
    "executionInfo": {
     "elapsed": 1939,
     "status": "ok",
     "timestamp": 1638425968394,
     "user": {
      "displayName": "유상준",
      "photoUrl": "https://lh3.googleusercontent.com/a-/AOh14GjwhV3OPaZeVbcnb0L540CX4dtB2wGRfCVw4E8=s64",
      "userId": "06620102043085366517"
     },
     "user_tz": -540
    },
    "id": "n-u63dKry1FA",
    "outputId": "399e61df-4af5-4318-e043-47660de8cd16"
   },
   "outputs": [
    {
     "data": {
      "text/html": [
       "<div>\n",
       "<style scoped>\n",
       "    .dataframe tbody tr th:only-of-type {\n",
       "        vertical-align: middle;\n",
       "    }\n",
       "\n",
       "    .dataframe tbody tr th {\n",
       "        vertical-align: top;\n",
       "    }\n",
       "\n",
       "    .dataframe thead th {\n",
       "        text-align: right;\n",
       "    }\n",
       "</style>\n",
       "<table border=\"1\" class=\"dataframe\">\n",
       "  <thead>\n",
       "    <tr style=\"text-align: right;\">\n",
       "      <th></th>\n",
       "      <th>0</th>\n",
       "      <th>1</th>\n",
       "      <th>2</th>\n",
       "    </tr>\n",
       "    <tr>\n",
       "      <th>index</th>\n",
       "      <th></th>\n",
       "      <th></th>\n",
       "      <th></th>\n",
       "    </tr>\n",
       "  </thead>\n",
       "  <tbody>\n",
       "    <tr>\n",
       "      <th>26457</th>\n",
       "      <td>0.213127</td>\n",
       "      <td>0.297665</td>\n",
       "      <td>0.489208</td>\n",
       "    </tr>\n",
       "    <tr>\n",
       "      <th>26458</th>\n",
       "      <td>0.361349</td>\n",
       "      <td>0.212837</td>\n",
       "      <td>0.425814</td>\n",
       "    </tr>\n",
       "    <tr>\n",
       "      <th>26459</th>\n",
       "      <td>0.138359</td>\n",
       "      <td>0.122369</td>\n",
       "      <td>0.739272</td>\n",
       "    </tr>\n",
       "    <tr>\n",
       "      <th>26460</th>\n",
       "      <td>0.255496</td>\n",
       "      <td>0.201811</td>\n",
       "      <td>0.542693</td>\n",
       "    </tr>\n",
       "    <tr>\n",
       "      <th>26461</th>\n",
       "      <td>0.211000</td>\n",
       "      <td>0.283529</td>\n",
       "      <td>0.505471</td>\n",
       "    </tr>\n",
       "  </tbody>\n",
       "</table>\n",
       "</div>"
      ],
      "text/plain": [
       "              0         1         2\n",
       "index                              \n",
       "26457  0.213127  0.297665  0.489208\n",
       "26458  0.361349  0.212837  0.425814\n",
       "26459  0.138359  0.122369  0.739272\n",
       "26460  0.255496  0.201811  0.542693\n",
       "26461  0.211000  0.283529  0.505471"
      ]
     },
     "execution_count": 134,
     "metadata": {},
     "output_type": "execute_result"
    }
   ],
   "source": [
    "rf_over_sample_submission = pd.DataFrame(rf.predict_proba(test), index = sample_submission.index)\n",
    "rf_over_sample_submission.to_csv('../data/신용카드/rf_over_sample_submission.csv')\n",
    "rf_over_sample_submission.head()"
   ]
  },
  {
   "cell_type": "markdown",
   "id": "eef26ee0",
   "metadata": {},
   "source": [
    "### feature_importance"
   ]
  },
  {
   "cell_type": "code",
   "execution_count": 131,
   "id": "54be0e3e",
   "metadata": {},
   "outputs": [
    {
     "data": {
      "image/png": "[encoded data removed]",
      "text/plain": [
       "<Figure size 720x576 with 1 Axes>"
      ]
     },
     "metadata": {
      "needs_background": "light"
     },
     "output_type": "display_data"
    }
   ],
   "source": [
    "plot_feature_importance(rf.feature_importances_, X_val.columns, 'RandomForest')"
   ]
  },
  {
   "cell_type": "markdown",
   "id": "a6570c6c",
   "metadata": {
    "id": "b2104172"
   },
   "source": [
    "# XGBoost"
   ]
  },
  {
   "cell_type": "code",
   "execution_count": 35,
   "id": "7a404dff",
   "metadata": {
    "id": "be377e22"
   },
   "outputs": [],
   "source": [
    "from xgboost import XGBClassifier"
   ]
  },
  {
   "cell_type": "markdown",
   "id": "55542bde",
   "metadata": {
    "id": "199c90c0"
   },
   "source": [
    "### 임의의 하이퍼 파라미터 지정 (테스트용도)"
   ]
  },
  {
   "cell_type": "markdown",
   "id": "964ce443",
   "metadata": {
    "id": "52c472c3"
   },
   "source": [
    "#### oversampling X"
   ]
  },
  {
   "cell_type": "code",
   "execution_count": 36,
   "id": "fef3ac55",
   "metadata": {
    "collapsed": true,
    "id": "250fb021"
   },
   "outputs": [
    {
     "name": "stderr",
     "output_type": "stream",
     "text": [
      "C:\\Users\\RYU\\anaconda3\\envs\\ds_study\\lib\\site-packages\\xgboost\\sklearn.py:888: UserWarning: The use of label encoder in XGBClassifier is deprecated and will be removed in a future release. To remove this warning, do the following: 1) Pass option use_label_encoder=False when constructing XGBClassifier object; and 2) Encode your labels (y) as integers starting with 0, i.e. 0, 1, 2, ..., [num_class - 1].\n",
      "  warnings.warn(label_encoder_deprecation_msg, UserWarning)\n"
     ]
    },
    {
     "name": "stdout",
     "output_type": "stream",
     "text": [
      "[16:19:07] WARNING: ..\\src\\learner.cc:1061: Starting in XGBoost 1.3.0, the default evaluation metric used with the objective 'multi:softprob' was changed from 'merror' to 'mlogloss'. Explicitly set eval_metric if you'd like to restore the old behavior.\n",
      "[0]\tvalidation_0-mlogloss:1.01304\n",
      "[1]\tvalidation_0-mlogloss:0.95284\n",
      "[2]\tvalidation_0-mlogloss:0.90973\n",
      "[3]\tvalidation_0-mlogloss:0.87786\n",
      "[4]\tvalidation_0-mlogloss:0.85399\n",
      "[5]\tvalidation_0-mlogloss:0.83642\n",
      "[6]\tvalidation_0-mlogloss:0.82203\n",
      "[7]\tvalidation_0-mlogloss:0.81067\n",
      "[8]\tvalidation_0-mlogloss:0.80274\n",
      "[9]\tvalidation_0-mlogloss:0.79561\n",
      "[10]\tvalidation_0-mlogloss:0.78946\n",
      "[11]\tvalidation_0-mlogloss:0.78556\n",
      "[12]\tvalidation_0-mlogloss:0.78230\n",
      "[13]\tvalidation_0-mlogloss:0.78018\n",
      "[14]\tvalidation_0-mlogloss:0.77790\n",
      "[15]\tvalidation_0-mlogloss:0.77601\n",
      "[16]\tvalidation_0-mlogloss:0.77328\n",
      "[17]\tvalidation_0-mlogloss:0.77102\n",
      "[18]\tvalidation_0-mlogloss:0.76880\n",
      "[19]\tvalidation_0-mlogloss:0.76813\n",
      "[20]\tvalidation_0-mlogloss:0.76590\n",
      "[21]\tvalidation_0-mlogloss:0.76413\n",
      "[22]\tvalidation_0-mlogloss:0.76177\n",
      "[23]\tvalidation_0-mlogloss:0.75936\n",
      "[24]\tvalidation_0-mlogloss:0.75765\n",
      "[25]\tvalidation_0-mlogloss:0.75611\n",
      "[26]\tvalidation_0-mlogloss:0.75487\n",
      "[27]\tvalidation_0-mlogloss:0.75346\n",
      "[28]\tvalidation_0-mlogloss:0.75225\n",
      "[29]\tvalidation_0-mlogloss:0.75126\n",
      "[30]\tvalidation_0-mlogloss:0.74994\n",
      "[31]\tvalidation_0-mlogloss:0.74903\n",
      "[32]\tvalidation_0-mlogloss:0.74826\n",
      "[33]\tvalidation_0-mlogloss:0.74683\n",
      "[34]\tvalidation_0-mlogloss:0.74487\n",
      "[35]\tvalidation_0-mlogloss:0.74298\n",
      "[36]\tvalidation_0-mlogloss:0.74253\n",
      "[37]\tvalidation_0-mlogloss:0.74098\n",
      "[38]\tvalidation_0-mlogloss:0.73913\n",
      "[39]\tvalidation_0-mlogloss:0.73798\n",
      "[40]\tvalidation_0-mlogloss:0.73702\n",
      "[41]\tvalidation_0-mlogloss:0.73661\n",
      "[42]\tvalidation_0-mlogloss:0.73624\n",
      "[43]\tvalidation_0-mlogloss:0.73567\n",
      "[44]\tvalidation_0-mlogloss:0.73519\n",
      "[45]\tvalidation_0-mlogloss:0.73490\n",
      "[46]\tvalidation_0-mlogloss:0.73393\n",
      "[47]\tvalidation_0-mlogloss:0.73326\n",
      "[48]\tvalidation_0-mlogloss:0.73295\n",
      "[49]\tvalidation_0-mlogloss:0.73196\n",
      "[50]\tvalidation_0-mlogloss:0.73184\n",
      "[51]\tvalidation_0-mlogloss:0.73077\n",
      "[52]\tvalidation_0-mlogloss:0.73016\n",
      "[53]\tvalidation_0-mlogloss:0.72986\n",
      "[54]\tvalidation_0-mlogloss:0.72937\n",
      "[55]\tvalidation_0-mlogloss:0.72805\n",
      "[56]\tvalidation_0-mlogloss:0.72696\n",
      "[57]\tvalidation_0-mlogloss:0.72652\n",
      "[58]\tvalidation_0-mlogloss:0.72644\n",
      "[59]\tvalidation_0-mlogloss:0.72595\n",
      "[60]\tvalidation_0-mlogloss:0.72597\n",
      "[61]\tvalidation_0-mlogloss:0.72573\n",
      "[62]\tvalidation_0-mlogloss:0.72498\n",
      "[63]\tvalidation_0-mlogloss:0.72507\n",
      "[64]\tvalidation_0-mlogloss:0.72490\n",
      "[65]\tvalidation_0-mlogloss:0.72464\n",
      "[66]\tvalidation_0-mlogloss:0.72380\n",
      "[67]\tvalidation_0-mlogloss:0.72367\n",
      "[68]\tvalidation_0-mlogloss:0.72326\n",
      "[69]\tvalidation_0-mlogloss:0.72295\n",
      "[70]\tvalidation_0-mlogloss:0.72244\n",
      "[71]\tvalidation_0-mlogloss:0.72197\n",
      "[72]\tvalidation_0-mlogloss:0.72204\n",
      "[73]\tvalidation_0-mlogloss:0.72171\n",
      "[74]\tvalidation_0-mlogloss:0.72157\n",
      "[75]\tvalidation_0-mlogloss:0.72151\n",
      "[76]\tvalidation_0-mlogloss:0.72155\n",
      "[77]\tvalidation_0-mlogloss:0.72110\n",
      "[78]\tvalidation_0-mlogloss:0.72090\n",
      "[79]\tvalidation_0-mlogloss:0.72096\n",
      "[80]\tvalidation_0-mlogloss:0.72080\n",
      "[81]\tvalidation_0-mlogloss:0.72057\n",
      "[82]\tvalidation_0-mlogloss:0.72039\n",
      "[83]\tvalidation_0-mlogloss:0.71995\n",
      "[84]\tvalidation_0-mlogloss:0.72008\n",
      "[85]\tvalidation_0-mlogloss:0.71976\n",
      "[86]\tvalidation_0-mlogloss:0.71941\n",
      "[87]\tvalidation_0-mlogloss:0.72000\n",
      "[88]\tvalidation_0-mlogloss:0.72029\n",
      "[89]\tvalidation_0-mlogloss:0.72045\n",
      "[90]\tvalidation_0-mlogloss:0.72026\n",
      "[91]\tvalidation_0-mlogloss:0.71982\n",
      "[92]\tvalidation_0-mlogloss:0.71985\n",
      "[93]\tvalidation_0-mlogloss:0.71936\n",
      "[94]\tvalidation_0-mlogloss:0.71973\n",
      "[95]\tvalidation_0-mlogloss:0.71987\n",
      "[96]\tvalidation_0-mlogloss:0.72040\n",
      "[97]\tvalidation_0-mlogloss:0.72021\n",
      "[98]\tvalidation_0-mlogloss:0.72001\n",
      "[99]\tvalidation_0-mlogloss:0.71997\n",
      "[100]\tvalidation_0-mlogloss:0.72017\n",
      "[101]\tvalidation_0-mlogloss:0.72022\n",
      "[102]\tvalidation_0-mlogloss:0.72028\n",
      "[103]\tvalidation_0-mlogloss:0.71997\n"
     ]
    },
    {
     "data": {
      "text/plain": [
       "XGBClassifier(base_score=0.5, booster='gbtree', colsample_bylevel=1,\n",
       "              colsample_bynode=1, colsample_bytree=1, gamma=0, gpu_id=-1,\n",
       "              importance_type='gain', interaction_constraints='',\n",
       "              learning_rate=0.2, max_delta_step=0, max_depth=9,\n",
       "              min_child_weight=1, missing=nan, monotone_constraints='()',\n",
       "              n_estimators=500, n_jobs=4, num_parallel_tree=1,\n",
       "              objective='multi:softprob', random_state=0, reg_alpha=0,\n",
       "              reg_lambda=1, scale_pos_weight=None, subsample=1,\n",
       "              tree_method='exact', validate_parameters=1, verbosity=None)"
      ]
     },
     "execution_count": 36,
     "metadata": {},
     "output_type": "execute_result"
    }
   ],
   "source": [
    "from xgboost import XGBClassifier\n",
    "\n",
    "evals = [(X_val.values, y_val)]\n",
    "xgb = XGBClassifier(n_estimators = 500, learning_rate = 0.2, max_depth = 9)\n",
    "xgb.fit(X_train.values, y_train, early_stopping_rounds = 10, eval_set = evals)"
   ]
  },
  {
   "cell_type": "code",
   "execution_count": 42,
   "id": "92b93714",
   "metadata": {
    "colab": {
     "base_uri": "https://localhost:8080/"
    },
    "executionInfo": {
     "elapsed": 487,
     "status": "ok",
     "timestamp": 1638369244812,
     "user": {
      "displayName": "유상준",
      "photoUrl": "https://lh3.googleusercontent.com/a-/AOh14GjwhV3OPaZeVbcnb0L540CX4dtB2wGRfCVw4E8=s64",
      "userId": "06620102043085366517"
     },
     "user_tz": -540
    },
    "id": "93424688",
    "outputId": "9198c28f-617c-46f3-a12a-89b348cd74c8"
   },
   "outputs": [
    {
     "name": "stdout",
     "output_type": "stream",
     "text": [
      "==================================================\n",
      "Validataion set 예측 성능 평가\n",
      "              precision    recall  f1-score   support\n",
      "\n",
      "         0.0       0.54      0.15      0.23       644\n",
      "         1.0       0.69      0.38      0.49      1254\n",
      "         2.0       0.73      0.95      0.82      3393\n",
      "\n",
      "    accuracy                           0.72      5291\n",
      "   macro avg       0.65      0.49      0.51      5291\n",
      "weighted avg       0.69      0.72      0.67      5291\n",
      "\n",
      "[[  96   80  468]\n",
      " [  39  475  740]\n",
      " [  43  135 3215]]\n",
      "==================================================\n",
      "log_loss :  0.7193585221687878\n",
      "accuracy_score :  0.7155547155547155\n"
     ]
    }
   ],
   "source": [
    "from sklearn.metrics import log_loss, accuracy_score, classification_report, confusion_matrix\n",
    "\n",
    "print('='*50)\n",
    "print('Validataion set 예측 성능 평가')\n",
    "print(classification_report(y_val, xgb.predict(X_val.values)))\n",
    "print(confusion_matrix(y_val, xgb.predict(X_val.values)))\n",
    "print('='*50)\n",
    "print('log_loss : ',log_loss(y_val, xgb.predict_proba(X_val.values)))\n",
    "print('accuracy_score : ', accuracy_score(y_val, xgb.predict(X_val.values)))"
   ]
  },
  {
   "cell_type": "markdown",
   "id": "8b5f8086",
   "metadata": {
    "id": "e0c0a1a9"
   },
   "source": [
    "#### oversampling O"
   ]
  },
  {
   "cell_type": "code",
   "execution_count": 43,
   "id": "3a5520e3",
   "metadata": {
    "id": "1e3e9124",
    "scrolled": true
   },
   "outputs": [
    {
     "name": "stderr",
     "output_type": "stream",
     "text": [
      "C:\\Users\\RYU\\anaconda3\\envs\\ds_study\\lib\\site-packages\\xgboost\\sklearn.py:888: UserWarning: The use of label encoder in XGBClassifier is deprecated and will be removed in a future release. To remove this warning, do the following: 1) Pass option use_label_encoder=False when constructing XGBClassifier object; and 2) Encode your labels (y) as integers starting with 0, i.e. 0, 1, 2, ..., [num_class - 1].\n",
      "  warnings.warn(label_encoder_deprecation_msg, UserWarning)\n"
     ]
    },
    {
     "name": "stdout",
     "output_type": "stream",
     "text": [
      "[16:26:29] WARNING: ..\\src\\learner.cc:1061: Starting in XGBoost 1.3.0, the default evaluation metric used with the objective 'multi:softprob' was changed from 'merror' to 'mlogloss'. Explicitly set eval_metric if you'd like to restore the old behavior.\n",
      "[0]\tvalidation_0-mlogloss:1.04562\n",
      "[1]\tvalidation_0-mlogloss:1.00342\n",
      "[2]\tvalidation_0-mlogloss:0.96726\n",
      "[3]\tvalidation_0-mlogloss:0.93777\n",
      "[4]\tvalidation_0-mlogloss:0.91194\n",
      "[5]\tvalidation_0-mlogloss:0.89201\n",
      "[6]\tvalidation_0-mlogloss:0.87378\n",
      "[7]\tvalidation_0-mlogloss:0.85735\n",
      "[8]\tvalidation_0-mlogloss:0.83812\n",
      "[9]\tvalidation_0-mlogloss:0.82357\n",
      "[10]\tvalidation_0-mlogloss:0.80940\n",
      "[11]\tvalidation_0-mlogloss:0.79505\n",
      "[12]\tvalidation_0-mlogloss:0.78579\n",
      "[13]\tvalidation_0-mlogloss:0.77858\n",
      "[14]\tvalidation_0-mlogloss:0.76936\n",
      "[15]\tvalidation_0-mlogloss:0.76159\n",
      "[16]\tvalidation_0-mlogloss:0.75324\n",
      "[17]\tvalidation_0-mlogloss:0.74587\n",
      "[18]\tvalidation_0-mlogloss:0.74074\n",
      "[19]\tvalidation_0-mlogloss:0.73484\n",
      "[20]\tvalidation_0-mlogloss:0.72927\n",
      "[21]\tvalidation_0-mlogloss:0.72570\n",
      "[22]\tvalidation_0-mlogloss:0.72211\n",
      "[23]\tvalidation_0-mlogloss:0.71444\n",
      "[24]\tvalidation_0-mlogloss:0.71024\n",
      "[25]\tvalidation_0-mlogloss:0.70709\n",
      "[26]\tvalidation_0-mlogloss:0.70201\n",
      "[27]\tvalidation_0-mlogloss:0.69829\n",
      "[28]\tvalidation_0-mlogloss:0.69609\n",
      "[29]\tvalidation_0-mlogloss:0.69341\n",
      "[30]\tvalidation_0-mlogloss:0.69041\n",
      "[31]\tvalidation_0-mlogloss:0.68690\n",
      "[32]\tvalidation_0-mlogloss:0.68454\n",
      "[33]\tvalidation_0-mlogloss:0.68053\n",
      "[34]\tvalidation_0-mlogloss:0.67867\n",
      "[35]\tvalidation_0-mlogloss:0.67439\n",
      "[36]\tvalidation_0-mlogloss:0.66979\n",
      "[37]\tvalidation_0-mlogloss:0.66602\n",
      "[38]\tvalidation_0-mlogloss:0.66331\n",
      "[39]\tvalidation_0-mlogloss:0.65777\n",
      "[40]\tvalidation_0-mlogloss:0.65590\n",
      "[41]\tvalidation_0-mlogloss:0.65159\n",
      "[42]\tvalidation_0-mlogloss:0.64763\n",
      "[43]\tvalidation_0-mlogloss:0.64657\n",
      "[44]\tvalidation_0-mlogloss:0.64479\n",
      "[45]\tvalidation_0-mlogloss:0.64194\n",
      "[46]\tvalidation_0-mlogloss:0.63904\n",
      "[47]\tvalidation_0-mlogloss:0.63836\n",
      "[48]\tvalidation_0-mlogloss:0.63575\n",
      "[49]\tvalidation_0-mlogloss:0.63140\n",
      "[50]\tvalidation_0-mlogloss:0.63043\n",
      "[51]\tvalidation_0-mlogloss:0.62549\n",
      "[52]\tvalidation_0-mlogloss:0.62288\n",
      "[53]\tvalidation_0-mlogloss:0.62144\n",
      "[54]\tvalidation_0-mlogloss:0.61997\n",
      "[55]\tvalidation_0-mlogloss:0.61807\n",
      "[56]\tvalidation_0-mlogloss:0.61262\n",
      "[57]\tvalidation_0-mlogloss:0.61093\n",
      "[58]\tvalidation_0-mlogloss:0.60871\n",
      "[59]\tvalidation_0-mlogloss:0.60545\n",
      "[60]\tvalidation_0-mlogloss:0.60137\n",
      "[61]\tvalidation_0-mlogloss:0.59995\n",
      "[62]\tvalidation_0-mlogloss:0.59824\n",
      "[63]\tvalidation_0-mlogloss:0.59613\n",
      "[64]\tvalidation_0-mlogloss:0.59477\n",
      "[65]\tvalidation_0-mlogloss:0.59298\n",
      "[66]\tvalidation_0-mlogloss:0.59102\n",
      "[67]\tvalidation_0-mlogloss:0.58873\n",
      "[68]\tvalidation_0-mlogloss:0.58770\n",
      "[69]\tvalidation_0-mlogloss:0.58674\n",
      "[70]\tvalidation_0-mlogloss:0.58520\n",
      "[71]\tvalidation_0-mlogloss:0.58315\n",
      "[72]\tvalidation_0-mlogloss:0.58085\n",
      "[73]\tvalidation_0-mlogloss:0.58042\n",
      "[74]\tvalidation_0-mlogloss:0.57913\n",
      "[75]\tvalidation_0-mlogloss:0.57764\n",
      "[76]\tvalidation_0-mlogloss:0.57591\n",
      "[77]\tvalidation_0-mlogloss:0.57402\n",
      "[78]\tvalidation_0-mlogloss:0.57252\n",
      "[79]\tvalidation_0-mlogloss:0.57037\n",
      "[80]\tvalidation_0-mlogloss:0.56850\n",
      "[81]\tvalidation_0-mlogloss:0.56719\n",
      "[82]\tvalidation_0-mlogloss:0.56537\n",
      "[83]\tvalidation_0-mlogloss:0.56451\n",
      "[84]\tvalidation_0-mlogloss:0.56383\n",
      "[85]\tvalidation_0-mlogloss:0.56209\n",
      "[86]\tvalidation_0-mlogloss:0.56156\n",
      "[87]\tvalidation_0-mlogloss:0.56010\n",
      "[88]\tvalidation_0-mlogloss:0.55930\n",
      "[89]\tvalidation_0-mlogloss:0.55899\n",
      "[90]\tvalidation_0-mlogloss:0.55824\n",
      "[91]\tvalidation_0-mlogloss:0.55662\n",
      "[92]\tvalidation_0-mlogloss:0.55635\n",
      "[93]\tvalidation_0-mlogloss:0.55571\n",
      "[94]\tvalidation_0-mlogloss:0.55409\n",
      "[95]\tvalidation_0-mlogloss:0.55322\n",
      "[96]\tvalidation_0-mlogloss:0.55269\n",
      "[97]\tvalidation_0-mlogloss:0.55241\n",
      "[98]\tvalidation_0-mlogloss:0.55079\n",
      "[99]\tvalidation_0-mlogloss:0.54998\n",
      "[100]\tvalidation_0-mlogloss:0.54870\n",
      "[101]\tvalidation_0-mlogloss:0.54772\n",
      "[102]\tvalidation_0-mlogloss:0.54675\n",
      "[103]\tvalidation_0-mlogloss:0.54598\n",
      "[104]\tvalidation_0-mlogloss:0.54556\n",
      "[105]\tvalidation_0-mlogloss:0.54429\n",
      "[106]\tvalidation_0-mlogloss:0.54404\n",
      "[107]\tvalidation_0-mlogloss:0.54313\n",
      "[108]\tvalidation_0-mlogloss:0.54144\n",
      "[109]\tvalidation_0-mlogloss:0.54036\n",
      "[110]\tvalidation_0-mlogloss:0.53769\n",
      "[111]\tvalidation_0-mlogloss:0.53682\n",
      "[112]\tvalidation_0-mlogloss:0.53544\n",
      "[113]\tvalidation_0-mlogloss:0.53482\n",
      "[114]\tvalidation_0-mlogloss:0.53424\n",
      "[115]\tvalidation_0-mlogloss:0.53387\n",
      "[116]\tvalidation_0-mlogloss:0.53353\n",
      "[117]\tvalidation_0-mlogloss:0.53259\n",
      "[118]\tvalidation_0-mlogloss:0.53189\n",
      "[119]\tvalidation_0-mlogloss:0.53111\n",
      "[120]\tvalidation_0-mlogloss:0.53076\n",
      "[121]\tvalidation_0-mlogloss:0.52961\n",
      "[122]\tvalidation_0-mlogloss:0.52859\n",
      "[123]\tvalidation_0-mlogloss:0.52785\n",
      "[124]\tvalidation_0-mlogloss:0.52742\n",
      "[125]\tvalidation_0-mlogloss:0.52629\n",
      "[126]\tvalidation_0-mlogloss:0.52516\n",
      "[127]\tvalidation_0-mlogloss:0.52389\n",
      "[128]\tvalidation_0-mlogloss:0.52372\n",
      "[129]\tvalidation_0-mlogloss:0.52309\n",
      "[130]\tvalidation_0-mlogloss:0.52253\n",
      "[131]\tvalidation_0-mlogloss:0.52215\n",
      "[132]\tvalidation_0-mlogloss:0.52200\n",
      "[133]\tvalidation_0-mlogloss:0.52136\n",
      "[134]\tvalidation_0-mlogloss:0.52121\n",
      "[135]\tvalidation_0-mlogloss:0.52064\n",
      "[136]\tvalidation_0-mlogloss:0.52042\n",
      "[137]\tvalidation_0-mlogloss:0.51865\n",
      "[138]\tvalidation_0-mlogloss:0.51799\n",
      "[139]\tvalidation_0-mlogloss:0.51700\n",
      "[140]\tvalidation_0-mlogloss:0.51609\n",
      "[141]\tvalidation_0-mlogloss:0.51560\n",
      "[142]\tvalidation_0-mlogloss:0.51528\n",
      "[143]\tvalidation_0-mlogloss:0.51514\n",
      "[144]\tvalidation_0-mlogloss:0.51456\n",
      "[145]\tvalidation_0-mlogloss:0.51438\n",
      "[146]\tvalidation_0-mlogloss:0.51348\n",
      "[147]\tvalidation_0-mlogloss:0.51291\n",
      "[148]\tvalidation_0-mlogloss:0.51211\n",
      "[149]\tvalidation_0-mlogloss:0.51173\n",
      "[150]\tvalidation_0-mlogloss:0.51162\n",
      "[151]\tvalidation_0-mlogloss:0.51053\n",
      "[152]\tvalidation_0-mlogloss:0.50965\n",
      "[153]\tvalidation_0-mlogloss:0.50944\n",
      "[154]\tvalidation_0-mlogloss:0.50899\n",
      "[155]\tvalidation_0-mlogloss:0.50816\n",
      "[156]\tvalidation_0-mlogloss:0.50806\n",
      "[157]\tvalidation_0-mlogloss:0.50811\n",
      "[158]\tvalidation_0-mlogloss:0.50782\n",
      "[159]\tvalidation_0-mlogloss:0.50668\n",
      "[160]\tvalidation_0-mlogloss:0.50628\n",
      "[161]\tvalidation_0-mlogloss:0.50580\n",
      "[162]\tvalidation_0-mlogloss:0.50561\n",
      "[163]\tvalidation_0-mlogloss:0.50511\n",
      "[164]\tvalidation_0-mlogloss:0.50464\n",
      "[165]\tvalidation_0-mlogloss:0.50457\n",
      "[166]\tvalidation_0-mlogloss:0.50438\n",
      "[167]\tvalidation_0-mlogloss:0.50421\n",
      "[168]\tvalidation_0-mlogloss:0.50379\n",
      "[169]\tvalidation_0-mlogloss:0.50308\n",
      "[170]\tvalidation_0-mlogloss:0.50257\n",
      "[171]\tvalidation_0-mlogloss:0.50244\n",
      "[172]\tvalidation_0-mlogloss:0.50204\n",
      "[173]\tvalidation_0-mlogloss:0.50186\n",
      "[174]\tvalidation_0-mlogloss:0.50125\n",
      "[175]\tvalidation_0-mlogloss:0.50119\n",
      "[176]\tvalidation_0-mlogloss:0.50091\n",
      "[177]\tvalidation_0-mlogloss:0.50055\n",
      "[178]\tvalidation_0-mlogloss:0.50031\n",
      "[179]\tvalidation_0-mlogloss:0.50001\n",
      "[180]\tvalidation_0-mlogloss:0.49999\n",
      "[181]\tvalidation_0-mlogloss:0.49949\n",
      "[182]\tvalidation_0-mlogloss:0.49899\n",
      "[183]\tvalidation_0-mlogloss:0.49864\n",
      "[184]\tvalidation_0-mlogloss:0.49829\n",
      "[185]\tvalidation_0-mlogloss:0.49817\n",
      "[186]\tvalidation_0-mlogloss:0.49803\n",
      "[187]\tvalidation_0-mlogloss:0.49801\n",
      "[188]\tvalidation_0-mlogloss:0.49757\n",
      "[189]\tvalidation_0-mlogloss:0.49701\n",
      "[190]\tvalidation_0-mlogloss:0.49646\n",
      "[191]\tvalidation_0-mlogloss:0.49632\n",
      "[192]\tvalidation_0-mlogloss:0.49591\n",
      "[193]\tvalidation_0-mlogloss:0.49583\n",
      "[194]\tvalidation_0-mlogloss:0.49563\n",
      "[195]\tvalidation_0-mlogloss:0.49554\n",
      "[196]\tvalidation_0-mlogloss:0.49526\n",
      "[197]\tvalidation_0-mlogloss:0.49494\n",
      "[198]\tvalidation_0-mlogloss:0.49470\n",
      "[199]\tvalidation_0-mlogloss:0.49457\n",
      "[200]\tvalidation_0-mlogloss:0.49458\n",
      "[201]\tvalidation_0-mlogloss:0.49455\n",
      "[202]\tvalidation_0-mlogloss:0.49435\n",
      "[203]\tvalidation_0-mlogloss:0.49424\n",
      "[204]\tvalidation_0-mlogloss:0.49402\n",
      "[205]\tvalidation_0-mlogloss:0.49371\n",
      "[206]\tvalidation_0-mlogloss:0.49347\n",
      "[207]\tvalidation_0-mlogloss:0.49320\n",
      "[208]\tvalidation_0-mlogloss:0.49306\n",
      "[209]\tvalidation_0-mlogloss:0.49289\n",
      "[210]\tvalidation_0-mlogloss:0.49301\n",
      "[211]\tvalidation_0-mlogloss:0.49271\n",
      "[212]\tvalidation_0-mlogloss:0.49269\n",
      "[213]\tvalidation_0-mlogloss:0.49251\n",
      "[214]\tvalidation_0-mlogloss:0.49244\n",
      "[215]\tvalidation_0-mlogloss:0.49233\n",
      "[216]\tvalidation_0-mlogloss:0.49190\n",
      "[217]\tvalidation_0-mlogloss:0.49157\n",
      "[218]\tvalidation_0-mlogloss:0.49127\n",
      "[219]\tvalidation_0-mlogloss:0.49106\n",
      "[220]\tvalidation_0-mlogloss:0.49082\n",
      "[221]\tvalidation_0-mlogloss:0.49052\n",
      "[222]\tvalidation_0-mlogloss:0.49035\n",
      "[223]\tvalidation_0-mlogloss:0.49022\n"
     ]
    },
    {
     "name": "stdout",
     "output_type": "stream",
     "text": [
      "[224]\tvalidation_0-mlogloss:0.49026\n",
      "[225]\tvalidation_0-mlogloss:0.49028\n",
      "[226]\tvalidation_0-mlogloss:0.49015\n",
      "[227]\tvalidation_0-mlogloss:0.48983\n",
      "[228]\tvalidation_0-mlogloss:0.48952\n",
      "[229]\tvalidation_0-mlogloss:0.48952\n",
      "[230]\tvalidation_0-mlogloss:0.48919\n",
      "[231]\tvalidation_0-mlogloss:0.48916\n",
      "[232]\tvalidation_0-mlogloss:0.48920\n",
      "[233]\tvalidation_0-mlogloss:0.48920\n",
      "[234]\tvalidation_0-mlogloss:0.48922\n",
      "[235]\tvalidation_0-mlogloss:0.48921\n",
      "[236]\tvalidation_0-mlogloss:0.48892\n",
      "[237]\tvalidation_0-mlogloss:0.48861\n",
      "[238]\tvalidation_0-mlogloss:0.48858\n",
      "[239]\tvalidation_0-mlogloss:0.48858\n",
      "[240]\tvalidation_0-mlogloss:0.48868\n",
      "[241]\tvalidation_0-mlogloss:0.48862\n",
      "[242]\tvalidation_0-mlogloss:0.48840\n",
      "[243]\tvalidation_0-mlogloss:0.48828\n",
      "[244]\tvalidation_0-mlogloss:0.48826\n",
      "[245]\tvalidation_0-mlogloss:0.48800\n",
      "[246]\tvalidation_0-mlogloss:0.48774\n",
      "[247]\tvalidation_0-mlogloss:0.48780\n",
      "[248]\tvalidation_0-mlogloss:0.48762\n",
      "[249]\tvalidation_0-mlogloss:0.48750\n",
      "[250]\tvalidation_0-mlogloss:0.48734\n",
      "[251]\tvalidation_0-mlogloss:0.48745\n",
      "[252]\tvalidation_0-mlogloss:0.48750\n",
      "[253]\tvalidation_0-mlogloss:0.48734\n",
      "[254]\tvalidation_0-mlogloss:0.48736\n",
      "[255]\tvalidation_0-mlogloss:0.48728\n",
      "[256]\tvalidation_0-mlogloss:0.48739\n",
      "[257]\tvalidation_0-mlogloss:0.48753\n",
      "[258]\tvalidation_0-mlogloss:0.48747\n",
      "[259]\tvalidation_0-mlogloss:0.48742\n",
      "[260]\tvalidation_0-mlogloss:0.48748\n",
      "[261]\tvalidation_0-mlogloss:0.48726\n",
      "[262]\tvalidation_0-mlogloss:0.48720\n",
      "[263]\tvalidation_0-mlogloss:0.48716\n",
      "[264]\tvalidation_0-mlogloss:0.48717\n",
      "[265]\tvalidation_0-mlogloss:0.48683\n",
      "[266]\tvalidation_0-mlogloss:0.48676\n",
      "[267]\tvalidation_0-mlogloss:0.48665\n",
      "[268]\tvalidation_0-mlogloss:0.48675\n",
      "[269]\tvalidation_0-mlogloss:0.48691\n",
      "[270]\tvalidation_0-mlogloss:0.48675\n",
      "[271]\tvalidation_0-mlogloss:0.48679\n",
      "[272]\tvalidation_0-mlogloss:0.48655\n",
      "[273]\tvalidation_0-mlogloss:0.48671\n",
      "[274]\tvalidation_0-mlogloss:0.48679\n",
      "[275]\tvalidation_0-mlogloss:0.48666\n",
      "[276]\tvalidation_0-mlogloss:0.48681\n",
      "[277]\tvalidation_0-mlogloss:0.48680\n",
      "[278]\tvalidation_0-mlogloss:0.48673\n",
      "[279]\tvalidation_0-mlogloss:0.48687\n",
      "[280]\tvalidation_0-mlogloss:0.48668\n",
      "[281]\tvalidation_0-mlogloss:0.48652\n",
      "[282]\tvalidation_0-mlogloss:0.48635\n",
      "[283]\tvalidation_0-mlogloss:0.48640\n",
      "[284]\tvalidation_0-mlogloss:0.48641\n",
      "[285]\tvalidation_0-mlogloss:0.48641\n",
      "[286]\tvalidation_0-mlogloss:0.48645\n",
      "[287]\tvalidation_0-mlogloss:0.48646\n",
      "[288]\tvalidation_0-mlogloss:0.48604\n",
      "[289]\tvalidation_0-mlogloss:0.48602\n",
      "[290]\tvalidation_0-mlogloss:0.48603\n",
      "[291]\tvalidation_0-mlogloss:0.48606\n",
      "[292]\tvalidation_0-mlogloss:0.48579\n",
      "[293]\tvalidation_0-mlogloss:0.48581\n",
      "[294]\tvalidation_0-mlogloss:0.48607\n",
      "[295]\tvalidation_0-mlogloss:0.48606\n",
      "[296]\tvalidation_0-mlogloss:0.48578\n",
      "[297]\tvalidation_0-mlogloss:0.48563\n",
      "[298]\tvalidation_0-mlogloss:0.48566\n",
      "[299]\tvalidation_0-mlogloss:0.48555\n",
      "[300]\tvalidation_0-mlogloss:0.48544\n",
      "[301]\tvalidation_0-mlogloss:0.48546\n",
      "[302]\tvalidation_0-mlogloss:0.48519\n",
      "[303]\tvalidation_0-mlogloss:0.48526\n",
      "[304]\tvalidation_0-mlogloss:0.48530\n",
      "[305]\tvalidation_0-mlogloss:0.48535\n",
      "[306]\tvalidation_0-mlogloss:0.48538\n",
      "[307]\tvalidation_0-mlogloss:0.48543\n",
      "[308]\tvalidation_0-mlogloss:0.48549\n",
      "[309]\tvalidation_0-mlogloss:0.48561\n",
      "[310]\tvalidation_0-mlogloss:0.48539\n",
      "[311]\tvalidation_0-mlogloss:0.48541\n"
     ]
    },
    {
     "data": {
      "text/plain": [
       "XGBClassifier(base_score=0.5, booster='gbtree', colsample_bylevel=1,\n",
       "              colsample_bynode=1, colsample_bytree=1, gamma=0, gpu_id=-1,\n",
       "              importance_type='gain', interaction_constraints='',\n",
       "              learning_rate=0.2, max_delta_step=0, max_depth=9,\n",
       "              min_child_weight=1, missing=nan, monotone_constraints='()',\n",
       "              n_estimators=500, n_jobs=4, num_parallel_tree=1,\n",
       "              objective='multi:softprob', random_state=0, reg_alpha=0,\n",
       "              reg_lambda=1, scale_pos_weight=None, subsample=1,\n",
       "              tree_method='exact', validate_parameters=1, verbosity=None)"
      ]
     },
     "execution_count": 43,
     "metadata": {},
     "output_type": "execute_result"
    }
   ],
   "source": [
    "from xgboost import XGBClassifier\n",
    "\n",
    "evals = [(X_val_over.values, y_val_over)]\n",
    "xgb = XGBClassifier(n_estimators = 500, learning_rate = 0.2, max_depth = 9)\n",
    "xgb.fit(X_train_over.values, y_train_over, early_stopping_rounds = 10, eval_set = evals)"
   ]
  },
  {
   "cell_type": "code",
   "execution_count": 44,
   "id": "aae0d968",
   "metadata": {
    "colab": {
     "base_uri": "https://localhost:8080/"
    },
    "executionInfo": {
     "elapsed": 1326,
     "status": "ok",
     "timestamp": 1638369331591,
     "user": {
      "displayName": "유상준",
      "photoUrl": "https://lh3.googleusercontent.com/a-/AOh14GjwhV3OPaZeVbcnb0L540CX4dtB2wGRfCVw4E8=s64",
      "userId": "06620102043085366517"
     },
     "user_tz": -540
    },
    "id": "7651a612",
    "outputId": "c43ce98a-4369-4393-f005-dec85a1d7c50"
   },
   "outputs": [
    {
     "name": "stdout",
     "output_type": "stream",
     "text": [
      "==================================================\n",
      "Validataion set 예측 성능 평가\n",
      "              precision    recall  f1-score   support\n",
      "\n",
      "         0.0       0.88      0.73      0.80       644\n",
      "         1.0       0.89      0.81      0.85      1254\n",
      "         2.0       0.90      0.96      0.93      3393\n",
      "\n",
      "    accuracy                           0.90      5291\n",
      "   macro avg       0.89      0.83      0.86      5291\n",
      "weighted avg       0.90      0.90      0.89      5291\n",
      "\n",
      "[[ 470   28  146]\n",
      " [  24 1016  214]\n",
      " [  42   95 3256]]\n",
      "==================================================\n",
      "log_loss :  0.32602024776723004\n",
      "accuracy_score :  0.8962388962388962\n"
     ]
    }
   ],
   "source": [
    "from sklearn.metrics import log_loss, accuracy_score, classification_report, confusion_matrix\n",
    "\n",
    "print('='*50)\n",
    "print('Validataion set 예측 성능 평가')\n",
    "print(classification_report(y_val, xgb.predict(X_val.values)))\n",
    "print(confusion_matrix(y_val, xgb.predict(X_val.values)))\n",
    "print('='*50)\n",
    "print('log_loss : ',log_loss(y_val, xgb.predict_proba(X_val.values)))\n",
    "print('accuracy_score : ', accuracy_score(y_val, xgb.predict(X_val.values)))"
   ]
  },
  {
   "cell_type": "markdown",
   "id": "06c60c56",
   "metadata": {
    "id": "378c0b1d"
   },
   "source": [
    "## GridSearchCV"
   ]
  },
  {
   "cell_type": "code",
   "execution_count": null,
   "id": "27a1078d",
   "metadata": {
    "id": "e70c8f6a",
    "scrolled": true
   },
   "outputs": [],
   "source": [
    "from sklearn.model_selection import GridSearchCV\n",
    "\n",
    "param_grid = [ {\n",
    "    'n_estimators' : [100,200,500], # \n",
    "    'max_depth' : [10,50,100], # \n",
    "    'learning_rate' : [0.2,0.5,1.0] # \n",
    "}]\n",
    "\n",
    "fit_params={\"early_stopping_rounds\":20,  \n",
    "            \"eval_set\" : [(X_val.values, y_val)]}\n",
    "\n",
    "xgb = XGBClassifier()\n",
    "\n",
    "GridSearch = GridSearchCV(estimator = xgb, param_grid=param_grid,\n",
    "                          cv = 5, scoring='neg_log_loss')\n",
    "\n",
    "GridSearch.fit(X_train.values,y_train.values, early_stopping_rounds = 20, eval_set = [(X_val.values, y_val)])"
   ]
  },
  {
   "cell_type": "code",
   "execution_count": null,
   "id": "89541bfc",
   "metadata": {
    "colab": {
     "base_uri": "https://localhost:8080/"
    },
    "executionInfo": {
     "elapsed": 304,
     "status": "ok",
     "timestamp": 1638372913394,
     "user": {
      "displayName": "유상준",
      "photoUrl": "https://lh3.googleusercontent.com/a-/AOh14GjwhV3OPaZeVbcnb0L540CX4dtB2wGRfCVw4E8=s64",
      "userId": "06620102043085366517"
     },
     "user_tz": -540
    },
    "id": "fd8fb61d",
    "outputId": "364aa6a2-f296-4be5-bb87-89455cabb673"
   },
   "outputs": [
    {
     "data": {
      "text/plain": [
       "XGBClassifier(learning_rate=0.2, max_depth=10, objective='multi:softprob')"
      ]
     },
     "execution_count": 30,
     "metadata": {},
     "output_type": "execute_result"
    }
   ],
   "source": [
    "GridSearch.best_estimator_"
   ]
  },
  {
   "cell_type": "code",
   "execution_count": null,
   "id": "c3389d00",
   "metadata": {
    "colab": {
     "base_uri": "https://localhost:8080/"
    },
    "executionInfo": {
     "elapsed": 375,
     "status": "ok",
     "timestamp": 1638372929509,
     "user": {
      "displayName": "유상준",
      "photoUrl": "https://lh3.googleusercontent.com/a-/AOh14GjwhV3OPaZeVbcnb0L540CX4dtB2wGRfCVw4E8=s64",
      "userId": "06620102043085366517"
     },
     "user_tz": -540
    },
    "id": "eb309cc7",
    "outputId": "4ff1bbd7-d027-4a95-ebba-31c83df22c7f"
   },
   "outputs": [
    {
     "data": {
      "text/plain": [
       "-0.7477944357807674"
      ]
     },
     "execution_count": 31,
     "metadata": {},
     "output_type": "execute_result"
    }
   ],
   "source": [
    "GridSearch.best_score_"
   ]
  },
  {
   "cell_type": "code",
   "execution_count": 55,
   "id": "a4e3ea04",
   "metadata": {
    "id": "d186dfa6"
   },
   "outputs": [
    {
     "data": {
      "text/html": [
       "<div>\n",
       "<style scoped>\n",
       "    .dataframe tbody tr th:only-of-type {\n",
       "        vertical-align: middle;\n",
       "    }\n",
       "\n",
       "    .dataframe tbody tr th {\n",
       "        vertical-align: top;\n",
       "    }\n",
       "\n",
       "    .dataframe thead th {\n",
       "        text-align: right;\n",
       "    }\n",
       "</style>\n",
       "<table border=\"1\" class=\"dataframe\">\n",
       "  <thead>\n",
       "    <tr style=\"text-align: right;\">\n",
       "      <th></th>\n",
       "      <th>mean_test_score</th>\n",
       "      <th>rank_test_score</th>\n",
       "    </tr>\n",
       "  </thead>\n",
       "  <tbody>\n",
       "    <tr>\n",
       "      <th>{'learning_rate': 0.2, 'max_depth': 10, 'n_estimators': 100}</th>\n",
       "      <td>-0.747794</td>\n",
       "      <td>1</td>\n",
       "    </tr>\n",
       "    <tr>\n",
       "      <th>{'learning_rate': 0.2, 'max_depth': 10, 'n_estimators': 200}</th>\n",
       "      <td>-0.747794</td>\n",
       "      <td>1</td>\n",
       "    </tr>\n",
       "    <tr>\n",
       "      <th>{'learning_rate': 0.2, 'max_depth': 10, 'n_estimators': 500}</th>\n",
       "      <td>-0.747794</td>\n",
       "      <td>1</td>\n",
       "    </tr>\n",
       "    <tr>\n",
       "      <th>{'learning_rate': 0.5, 'max_depth': 10, 'n_estimators': 100}</th>\n",
       "      <td>-0.753089</td>\n",
       "      <td>4</td>\n",
       "    </tr>\n",
       "    <tr>\n",
       "      <th>{'learning_rate': 0.5, 'max_depth': 10, 'n_estimators': 200}</th>\n",
       "      <td>-0.753089</td>\n",
       "      <td>4</td>\n",
       "    </tr>\n",
       "  </tbody>\n",
       "</table>\n",
       "</div>"
      ],
      "text/plain": [
       "                                                    mean_test_score  \\\n",
       "{'learning_rate': 0.2, 'max_depth': 10, 'n_esti...        -0.747794   \n",
       "{'learning_rate': 0.2, 'max_depth': 10, 'n_esti...        -0.747794   \n",
       "{'learning_rate': 0.2, 'max_depth': 10, 'n_esti...        -0.747794   \n",
       "{'learning_rate': 0.5, 'max_depth': 10, 'n_esti...        -0.753089   \n",
       "{'learning_rate': 0.5, 'max_depth': 10, 'n_esti...        -0.753089   \n",
       "\n",
       "                                                    rank_test_score  \n",
       "{'learning_rate': 0.2, 'max_depth': 10, 'n_esti...                1  \n",
       "{'learning_rate': 0.2, 'max_depth': 10, 'n_esti...                1  \n",
       "{'learning_rate': 0.2, 'max_depth': 10, 'n_esti...                1  \n",
       "{'learning_rate': 0.5, 'max_depth': 10, 'n_esti...                4  \n",
       "{'learning_rate': 0.5, 'max_depth': 10, 'n_esti...                4  "
      ]
     },
     "execution_count": 55,
     "metadata": {},
     "output_type": "execute_result"
    }
   ],
   "source": [
    "xgb_grid = pd.DataFrame(GridSearch.cv_results_, index = GridSearch.cv_results_['params'])[['mean_test_score','rank_test_score']].sort_values('rank_test_score')\n",
    "xgb_grid.head()"
   ]
  },
  {
   "cell_type": "markdown",
   "id": "4b6b888b",
   "metadata": {
    "id": "bd77b168"
   },
   "source": [
    "### Best Parameters 조합으로 산출한 validation set 예측 성능확인"
   ]
  },
  {
   "cell_type": "markdown",
   "id": "edf58a69",
   "metadata": {},
   "source": [
    "#### oversampling X"
   ]
  },
  {
   "cell_type": "code",
   "execution_count": 51,
   "id": "7baf363a",
   "metadata": {
    "scrolled": true
   },
   "outputs": [
    {
     "name": "stdout",
     "output_type": "stream",
     "text": [
      "[16:31:16] WARNING: ..\\src\\learner.cc:1061: Starting in XGBoost 1.3.0, the default evaluation metric used with the objective 'multi:softprob' was changed from 'merror' to 'mlogloss'. Explicitly set eval_metric if you'd like to restore the old behavior.\n",
      "[0]\tvalidation_0-mlogloss:1.01199\n",
      "[1]\tvalidation_0-mlogloss:0.95068\n",
      "[2]\tvalidation_0-mlogloss:0.90693\n",
      "[3]\tvalidation_0-mlogloss:0.87476\n",
      "[4]\tvalidation_0-mlogloss:0.85072\n",
      "[5]\tvalidation_0-mlogloss:0.83315\n",
      "[6]\tvalidation_0-mlogloss:0.81786\n",
      "[7]\tvalidation_0-mlogloss:0.80720\n",
      "[8]\tvalidation_0-mlogloss:0.79801\n",
      "[9]\tvalidation_0-mlogloss:0.79182\n",
      "[10]\tvalidation_0-mlogloss:0.78524\n",
      "[11]\tvalidation_0-mlogloss:0.78086\n",
      "[12]\tvalidation_0-mlogloss:0.77650\n",
      "[13]\tvalidation_0-mlogloss:0.77251\n",
      "[14]\tvalidation_0-mlogloss:0.77036\n",
      "[15]\tvalidation_0-mlogloss:0.76785\n",
      "[16]\tvalidation_0-mlogloss:0.76499\n",
      "[17]\tvalidation_0-mlogloss:0.76315\n",
      "[18]\tvalidation_0-mlogloss:0.75969\n",
      "[19]\tvalidation_0-mlogloss:0.75759\n",
      "[20]\tvalidation_0-mlogloss:0.75470\n",
      "[21]\tvalidation_0-mlogloss:0.75337\n",
      "[22]\tvalidation_0-mlogloss:0.75074\n",
      "[23]\tvalidation_0-mlogloss:0.74959\n",
      "[24]\tvalidation_0-mlogloss:0.74792\n",
      "[25]\tvalidation_0-mlogloss:0.74741\n",
      "[26]\tvalidation_0-mlogloss:0.74589\n",
      "[27]\tvalidation_0-mlogloss:0.74505\n",
      "[28]\tvalidation_0-mlogloss:0.74400\n",
      "[29]\tvalidation_0-mlogloss:0.74233\n",
      "[30]\tvalidation_0-mlogloss:0.74052\n",
      "[31]\tvalidation_0-mlogloss:0.73913\n",
      "[32]\tvalidation_0-mlogloss:0.73904\n",
      "[33]\tvalidation_0-mlogloss:0.73844\n",
      "[34]\tvalidation_0-mlogloss:0.73803\n",
      "[35]\tvalidation_0-mlogloss:0.73699\n",
      "[36]\tvalidation_0-mlogloss:0.73503\n",
      "[37]\tvalidation_0-mlogloss:0.73445\n",
      "[38]\tvalidation_0-mlogloss:0.73433\n",
      "[39]\tvalidation_0-mlogloss:0.73360\n",
      "[40]\tvalidation_0-mlogloss:0.73318\n",
      "[41]\tvalidation_0-mlogloss:0.73237\n",
      "[42]\tvalidation_0-mlogloss:0.73149\n",
      "[43]\tvalidation_0-mlogloss:0.73071\n",
      "[44]\tvalidation_0-mlogloss:0.72953\n",
      "[45]\tvalidation_0-mlogloss:0.72900\n",
      "[46]\tvalidation_0-mlogloss:0.72851\n",
      "[47]\tvalidation_0-mlogloss:0.72785\n",
      "[48]\tvalidation_0-mlogloss:0.72744\n",
      "[49]\tvalidation_0-mlogloss:0.72722\n",
      "[50]\tvalidation_0-mlogloss:0.72650\n",
      "[51]\tvalidation_0-mlogloss:0.72571\n",
      "[52]\tvalidation_0-mlogloss:0.72592\n",
      "[53]\tvalidation_0-mlogloss:0.72541\n",
      "[54]\tvalidation_0-mlogloss:0.72482\n",
      "[55]\tvalidation_0-mlogloss:0.72457\n",
      "[56]\tvalidation_0-mlogloss:0.72460\n",
      "[57]\tvalidation_0-mlogloss:0.72412\n",
      "[58]\tvalidation_0-mlogloss:0.72366\n",
      "[59]\tvalidation_0-mlogloss:0.72405\n",
      "[60]\tvalidation_0-mlogloss:0.72347\n",
      "[61]\tvalidation_0-mlogloss:0.72382\n",
      "[62]\tvalidation_0-mlogloss:0.72303\n",
      "[63]\tvalidation_0-mlogloss:0.72272\n",
      "[64]\tvalidation_0-mlogloss:0.72218\n",
      "[65]\tvalidation_0-mlogloss:0.72201\n",
      "[66]\tvalidation_0-mlogloss:0.72093\n",
      "[67]\tvalidation_0-mlogloss:0.72096\n",
      "[68]\tvalidation_0-mlogloss:0.72118\n",
      "[69]\tvalidation_0-mlogloss:0.72113\n",
      "[70]\tvalidation_0-mlogloss:0.72090\n",
      "[71]\tvalidation_0-mlogloss:0.72053\n",
      "[72]\tvalidation_0-mlogloss:0.72020\n",
      "[73]\tvalidation_0-mlogloss:0.71969\n",
      "[74]\tvalidation_0-mlogloss:0.71970\n",
      "[75]\tvalidation_0-mlogloss:0.71942\n",
      "[76]\tvalidation_0-mlogloss:0.71976\n",
      "[77]\tvalidation_0-mlogloss:0.71967\n",
      "[78]\tvalidation_0-mlogloss:0.71995\n",
      "[79]\tvalidation_0-mlogloss:0.71986\n",
      "[80]\tvalidation_0-mlogloss:0.72014\n",
      "[81]\tvalidation_0-mlogloss:0.72043\n",
      "[82]\tvalidation_0-mlogloss:0.72015\n",
      "[83]\tvalidation_0-mlogloss:0.72070\n",
      "[84]\tvalidation_0-mlogloss:0.72070\n",
      "[85]\tvalidation_0-mlogloss:0.72064\n",
      "[86]\tvalidation_0-mlogloss:0.72084\n",
      "[87]\tvalidation_0-mlogloss:0.72088\n",
      "[88]\tvalidation_0-mlogloss:0.72110\n",
      "[89]\tvalidation_0-mlogloss:0.72178\n",
      "[90]\tvalidation_0-mlogloss:0.72232\n",
      "[91]\tvalidation_0-mlogloss:0.72221\n",
      "[92]\tvalidation_0-mlogloss:0.72260\n",
      "[93]\tvalidation_0-mlogloss:0.72233\n",
      "[94]\tvalidation_0-mlogloss:0.72264\n"
     ]
    },
    {
     "data": {
      "text/plain": [
       "XGBClassifier(base_score=0.5, booster='gbtree', colsample_bylevel=1,\n",
       "              colsample_bynode=1, colsample_bytree=1, gamma=0, gpu_id=-1,\n",
       "              importance_type='gain', interaction_constraints='',\n",
       "              learning_rate=0.2, max_delta_step=0, max_depth=10,\n",
       "              min_child_weight=1, missing=nan, monotone_constraints='()',\n",
       "              n_estimators=100, n_jobs=4, num_parallel_tree=1,\n",
       "              objective='multi:softprob', random_state=0, reg_alpha=0,\n",
       "              reg_lambda=1, scale_pos_weight=None, subsample=1,\n",
       "              tree_method='exact', validate_parameters=1, verbosity=None)"
      ]
     },
     "execution_count": 51,
     "metadata": {},
     "output_type": "execute_result"
    }
   ],
   "source": [
    "xgb = XGBClassifier(learning_rate=0.2, max_depth=10, objective='multi:softprob')\n",
    "xgb.fit(X_train.values, y_train.values, early_stopping_rounds = 20, eval_set = [(X_val.values, y_val)])"
   ]
  },
  {
   "cell_type": "code",
   "execution_count": 53,
   "id": "88e87000",
   "metadata": {
    "scrolled": true
   },
   "outputs": [
    {
     "name": "stdout",
     "output_type": "stream",
     "text": [
      "==================================================\n",
      "Validataion set 예측 성능 평가\n",
      "              precision    recall  f1-score   support\n",
      "\n",
      "         0.0       0.56      0.16      0.25       644\n",
      "         1.0       0.69      0.39      0.50      1254\n",
      "         2.0       0.73      0.95      0.82      3393\n",
      "\n",
      "    accuracy                           0.72      5291\n",
      "   macro avg       0.66      0.50      0.52      5291\n",
      "weighted avg       0.70      0.72      0.68      5291\n",
      "\n",
      "[[ 106   78  460]\n",
      " [  40  485  729]\n",
      " [  43  138 3212]]\n",
      "==================================================\n",
      "log_loss :  0.7194221976093111\n",
      "accuracy_score :  0.7187677187677187\n"
     ]
    }
   ],
   "source": [
    "from sklearn.metrics import log_loss, accuracy_score, classification_report, confusion_matrix\n",
    "\n",
    "print('='*50)\n",
    "print('Validataion set 예측 성능 평가')\n",
    "print(classification_report(y_val, xgb.predict(X_val.values)))\n",
    "print(confusion_matrix(y_val, xgb.predict(X_val.values)))\n",
    "print('='*50)\n",
    "print('log_loss : ',log_loss(y_val, xgb.predict_proba(X_val.values)))\n",
    "print('accuracy_score : ', accuracy_score(y_val, xgb.predict(X_val.values)))"
   ]
  },
  {
   "cell_type": "markdown",
   "id": "c380001e",
   "metadata": {
    "id": "ZzTTd5V345VF"
   },
   "source": [
    "##### y_test 예측 및 기록 (submission용 파일)"
   ]
  },
  {
   "cell_type": "code",
   "execution_count": 56,
   "id": "b6fed69b",
   "metadata": {
    "id": "kBK9hFEAx9b9"
   },
   "outputs": [
    {
     "data": {
      "text/html": [
       "<div>\n",
       "<style scoped>\n",
       "    .dataframe tbody tr th:only-of-type {\n",
       "        vertical-align: middle;\n",
       "    }\n",
       "\n",
       "    .dataframe tbody tr th {\n",
       "        vertical-align: top;\n",
       "    }\n",
       "\n",
       "    .dataframe thead th {\n",
       "        text-align: right;\n",
       "    }\n",
       "</style>\n",
       "<table border=\"1\" class=\"dataframe\">\n",
       "  <thead>\n",
       "    <tr style=\"text-align: right;\">\n",
       "      <th></th>\n",
       "      <th>0</th>\n",
       "      <th>1</th>\n",
       "      <th>2</th>\n",
       "    </tr>\n",
       "    <tr>\n",
       "      <th>index</th>\n",
       "      <th></th>\n",
       "      <th></th>\n",
       "      <th></th>\n",
       "    </tr>\n",
       "  </thead>\n",
       "  <tbody>\n",
       "    <tr>\n",
       "      <th>26457</th>\n",
       "      <td>0.046408</td>\n",
       "      <td>0.129594</td>\n",
       "      <td>0.823999</td>\n",
       "    </tr>\n",
       "    <tr>\n",
       "      <th>26458</th>\n",
       "      <td>0.055683</td>\n",
       "      <td>0.067568</td>\n",
       "      <td>0.876749</td>\n",
       "    </tr>\n",
       "    <tr>\n",
       "      <th>26459</th>\n",
       "      <td>0.050000</td>\n",
       "      <td>0.073227</td>\n",
       "      <td>0.876773</td>\n",
       "    </tr>\n",
       "    <tr>\n",
       "      <th>26460</th>\n",
       "      <td>0.036533</td>\n",
       "      <td>0.157651</td>\n",
       "      <td>0.805816</td>\n",
       "    </tr>\n",
       "    <tr>\n",
       "      <th>26461</th>\n",
       "      <td>0.139839</td>\n",
       "      <td>0.248897</td>\n",
       "      <td>0.611263</td>\n",
       "    </tr>\n",
       "  </tbody>\n",
       "</table>\n",
       "</div>"
      ],
      "text/plain": [
       "              0         1         2\n",
       "index                              \n",
       "26457  0.046408  0.129594  0.823999\n",
       "26458  0.055683  0.067568  0.876749\n",
       "26459  0.050000  0.073227  0.876773\n",
       "26460  0.036533  0.157651  0.805816\n",
       "26461  0.139839  0.248897  0.611263"
      ]
     },
     "execution_count": 56,
     "metadata": {},
     "output_type": "execute_result"
    }
   ],
   "source": [
    "xgb_sample_submission = pd.DataFrame(xgb.predict_proba(test.values), index = sample_submission.index)\n",
    "xgb_sample_submission.head()"
   ]
  },
  {
   "cell_type": "markdown",
   "id": "1db0e4a3",
   "metadata": {},
   "source": [
    "#### oversampling O"
   ]
  },
  {
   "cell_type": "code",
   "execution_count": 135,
   "id": "76b4d4ee",
   "metadata": {
    "colab": {
     "base_uri": "https://localhost:8080/"
    },
    "executionInfo": {
     "elapsed": 293,
     "status": "ok",
     "timestamp": 1638377671575,
     "user": {
      "displayName": "유상준",
      "photoUrl": "https://lh3.googleusercontent.com/a-/AOh14GjwhV3OPaZeVbcnb0L540CX4dtB2wGRfCVw4E8=s64",
      "userId": "06620102043085366517"
     },
     "user_tz": -540
    },
    "id": "AmkugGhE2B6Z",
    "outputId": "d8f7869b-f09f-41f8-f33c-b68362f82b55",
    "scrolled": true
   },
   "outputs": [
    {
     "name": "stderr",
     "output_type": "stream",
     "text": [
      "C:\\Users\\RYU\\anaconda3\\envs\\ds_study\\lib\\site-packages\\xgboost\\sklearn.py:888: UserWarning: The use of label encoder in XGBClassifier is deprecated and will be removed in a future release. To remove this warning, do the following: 1) Pass option use_label_encoder=False when constructing XGBClassifier object; and 2) Encode your labels (y) as integers starting with 0, i.e. 0, 1, 2, ..., [num_class - 1].\n",
      "  warnings.warn(label_encoder_deprecation_msg, UserWarning)\n"
     ]
    },
    {
     "name": "stdout",
     "output_type": "stream",
     "text": [
      "[18:56:23] WARNING: ..\\src\\learner.cc:1061: Starting in XGBoost 1.3.0, the default evaluation metric used with the objective 'multi:softprob' was changed from 'merror' to 'mlogloss'. Explicitly set eval_metric if you'd like to restore the old behavior.\n",
      "[0]\tvalidation_0-mlogloss:1.03489\n",
      "[1]\tvalidation_0-mlogloss:0.98374\n",
      "[2]\tvalidation_0-mlogloss:0.94175\n",
      "[3]\tvalidation_0-mlogloss:0.90557\n",
      "[4]\tvalidation_0-mlogloss:0.87714\n",
      "[5]\tvalidation_0-mlogloss:0.85084\n",
      "[6]\tvalidation_0-mlogloss:0.82688\n",
      "[7]\tvalidation_0-mlogloss:0.80628\n",
      "[8]\tvalidation_0-mlogloss:0.78999\n",
      "[9]\tvalidation_0-mlogloss:0.77252\n",
      "[10]\tvalidation_0-mlogloss:0.76047\n",
      "[11]\tvalidation_0-mlogloss:0.74400\n",
      "[12]\tvalidation_0-mlogloss:0.73037\n",
      "[13]\tvalidation_0-mlogloss:0.72054\n",
      "[14]\tvalidation_0-mlogloss:0.70947\n",
      "[15]\tvalidation_0-mlogloss:0.70082\n",
      "[16]\tvalidation_0-mlogloss:0.69204\n",
      "[17]\tvalidation_0-mlogloss:0.68348\n",
      "[18]\tvalidation_0-mlogloss:0.67309\n",
      "[19]\tvalidation_0-mlogloss:0.66607\n",
      "[20]\tvalidation_0-mlogloss:0.65989\n",
      "[21]\tvalidation_0-mlogloss:0.65554\n",
      "[22]\tvalidation_0-mlogloss:0.65135\n",
      "[23]\tvalidation_0-mlogloss:0.64449\n",
      "[24]\tvalidation_0-mlogloss:0.64053\n",
      "[25]\tvalidation_0-mlogloss:0.63472\n",
      "[26]\tvalidation_0-mlogloss:0.62786\n",
      "[27]\tvalidation_0-mlogloss:0.62224\n",
      "[28]\tvalidation_0-mlogloss:0.61899\n",
      "[29]\tvalidation_0-mlogloss:0.61289\n",
      "[30]\tvalidation_0-mlogloss:0.61027\n",
      "[31]\tvalidation_0-mlogloss:0.60698\n",
      "[32]\tvalidation_0-mlogloss:0.60339\n",
      "[33]\tvalidation_0-mlogloss:0.60009\n",
      "[34]\tvalidation_0-mlogloss:0.59724\n",
      "[35]\tvalidation_0-mlogloss:0.59387\n",
      "[36]\tvalidation_0-mlogloss:0.59145\n",
      "[37]\tvalidation_0-mlogloss:0.58951\n",
      "[38]\tvalidation_0-mlogloss:0.58538\n",
      "[39]\tvalidation_0-mlogloss:0.57825\n",
      "[40]\tvalidation_0-mlogloss:0.57581\n",
      "[41]\tvalidation_0-mlogloss:0.57217\n",
      "[42]\tvalidation_0-mlogloss:0.56829\n",
      "[43]\tvalidation_0-mlogloss:0.56595\n",
      "[44]\tvalidation_0-mlogloss:0.56237\n",
      "[45]\tvalidation_0-mlogloss:0.56029\n",
      "[46]\tvalidation_0-mlogloss:0.55698\n",
      "[47]\tvalidation_0-mlogloss:0.55425\n",
      "[48]\tvalidation_0-mlogloss:0.55055\n",
      "[49]\tvalidation_0-mlogloss:0.54585\n",
      "[50]\tvalidation_0-mlogloss:0.54177\n",
      "[51]\tvalidation_0-mlogloss:0.53912\n",
      "[52]\tvalidation_0-mlogloss:0.53753\n",
      "[53]\tvalidation_0-mlogloss:0.53477\n",
      "[54]\tvalidation_0-mlogloss:0.53153\n",
      "[55]\tvalidation_0-mlogloss:0.52929\n",
      "[56]\tvalidation_0-mlogloss:0.52789\n",
      "[57]\tvalidation_0-mlogloss:0.52444\n",
      "[58]\tvalidation_0-mlogloss:0.52183\n",
      "[59]\tvalidation_0-mlogloss:0.51919\n",
      "[60]\tvalidation_0-mlogloss:0.51611\n",
      "[61]\tvalidation_0-mlogloss:0.51478\n",
      "[62]\tvalidation_0-mlogloss:0.51053\n",
      "[63]\tvalidation_0-mlogloss:0.50729\n",
      "[64]\tvalidation_0-mlogloss:0.50448\n",
      "[65]\tvalidation_0-mlogloss:0.50208\n",
      "[66]\tvalidation_0-mlogloss:0.49857\n",
      "[67]\tvalidation_0-mlogloss:0.49553\n",
      "[68]\tvalidation_0-mlogloss:0.49262\n",
      "[69]\tvalidation_0-mlogloss:0.49127\n",
      "[70]\tvalidation_0-mlogloss:0.48885\n",
      "[71]\tvalidation_0-mlogloss:0.48709\n",
      "[72]\tvalidation_0-mlogloss:0.48510\n",
      "[73]\tvalidation_0-mlogloss:0.48340\n",
      "[74]\tvalidation_0-mlogloss:0.48046\n",
      "[75]\tvalidation_0-mlogloss:0.47939\n",
      "[76]\tvalidation_0-mlogloss:0.47811\n",
      "[77]\tvalidation_0-mlogloss:0.47491\n",
      "[78]\tvalidation_0-mlogloss:0.47428\n",
      "[79]\tvalidation_0-mlogloss:0.47084\n",
      "[80]\tvalidation_0-mlogloss:0.46746\n",
      "[81]\tvalidation_0-mlogloss:0.46590\n",
      "[82]\tvalidation_0-mlogloss:0.46233\n",
      "[83]\tvalidation_0-mlogloss:0.46124\n",
      "[84]\tvalidation_0-mlogloss:0.45909\n",
      "[85]\tvalidation_0-mlogloss:0.45814\n",
      "[86]\tvalidation_0-mlogloss:0.45639\n",
      "[87]\tvalidation_0-mlogloss:0.45296\n",
      "[88]\tvalidation_0-mlogloss:0.45023\n",
      "[89]\tvalidation_0-mlogloss:0.44816\n",
      "[90]\tvalidation_0-mlogloss:0.44695\n",
      "[91]\tvalidation_0-mlogloss:0.44498\n",
      "[92]\tvalidation_0-mlogloss:0.44370\n",
      "[93]\tvalidation_0-mlogloss:0.44244\n",
      "[94]\tvalidation_0-mlogloss:0.44146\n",
      "[95]\tvalidation_0-mlogloss:0.43876\n",
      "[96]\tvalidation_0-mlogloss:0.43679\n",
      "[97]\tvalidation_0-mlogloss:0.43462\n",
      "[98]\tvalidation_0-mlogloss:0.43373\n",
      "[99]\tvalidation_0-mlogloss:0.43307\n"
     ]
    },
    {
     "data": {
      "text/plain": [
       "XGBClassifier(base_score=0.5, booster='gbtree', colsample_bylevel=1,\n",
       "              colsample_bynode=1, colsample_bytree=1, gamma=0, gpu_id=-1,\n",
       "              importance_type='gain', interaction_constraints='',\n",
       "              learning_rate=0.2, max_delta_step=0, max_depth=10,\n",
       "              min_child_weight=1, missing=nan, monotone_constraints='()',\n",
       "              n_estimators=100, n_jobs=4, num_parallel_tree=1,\n",
       "              objective='multi:softprob', random_state=0, reg_alpha=0,\n",
       "              reg_lambda=1, scale_pos_weight=None, subsample=1,\n",
       "              tree_method='exact', validate_parameters=1, verbosity=None)"
      ]
     },
     "execution_count": 135,
     "metadata": {},
     "output_type": "execute_result"
    }
   ],
   "source": [
    "xgb = XGBClassifier(learning_rate=0.2, max_depth=10, objective='multi:softprob')\n",
    "xgb.fit(X_train_over.values, y_train_over.values, early_stopping_rounds = 20, eval_set = [(X_val.values, y_val)])"
   ]
  },
  {
   "cell_type": "code",
   "execution_count": 136,
   "id": "df862482",
   "metadata": {
    "colab": {
     "base_uri": "https://localhost:8080/"
    },
    "executionInfo": {
     "elapsed": 283,
     "status": "ok",
     "timestamp": 1638377678650,
     "user": {
      "displayName": "유상준",
      "photoUrl": "https://lh3.googleusercontent.com/a-/AOh14GjwhV3OPaZeVbcnb0L540CX4dtB2wGRfCVw4E8=s64",
      "userId": "06620102043085366517"
     },
     "user_tz": -540
    },
    "id": "yW4rY5w12B6Z",
    "outputId": "aff3cc64-a0de-45e8-e628-81aa3db712a9"
   },
   "outputs": [
    {
     "name": "stdout",
     "output_type": "stream",
     "text": [
      "==================================================\n",
      "Validataion set 예측 성능 평가\n",
      "              precision    recall  f1-score   support\n",
      "\n",
      "         0.0       0.86      0.60      0.70       644\n",
      "         1.0       0.89      0.69      0.77      1254\n",
      "         2.0       0.85      0.97      0.90      3393\n",
      "\n",
      "    accuracy                           0.86      5291\n",
      "   macro avg       0.86      0.75      0.79      5291\n",
      "weighted avg       0.86      0.86      0.85      5291\n",
      "\n",
      "[[ 385   35  224]\n",
      " [  25  862  367]\n",
      " [  40   75 3278]]\n",
      "==================================================\n",
      "log_loss :  0.433073006306529\n",
      "accuracy_score :  0.8552258552258553\n"
     ]
    }
   ],
   "source": [
    "from sklearn.metrics import log_loss, accuracy_score, classification_report, confusion_matrix\n",
    "\n",
    "print('='*50)\n",
    "print('Validataion set 예측 성능 평가')\n",
    "print(classification_report(y_val, xgb.predict(X_val.values)))\n",
    "print(confusion_matrix(y_val, xgb.predict(X_val.values)))\n",
    "print('='*50)\n",
    "print('log_loss : ',log_loss(y_val, xgb.predict_proba(X_val.values)))\n",
    "print('accuracy_score : ', accuracy_score(y_val, xgb.predict(X_val.values)))"
   ]
  },
  {
   "cell_type": "markdown",
   "id": "ff9f840f",
   "metadata": {
    "id": "ZzTTd5V345VF"
   },
   "source": [
    "##### y_test 예측 및 기록 (submission용 파일)"
   ]
  },
  {
   "cell_type": "code",
   "execution_count": 138,
   "id": "51af552e",
   "metadata": {
    "id": "kBK9hFEAx9b9",
    "scrolled": true
   },
   "outputs": [
    {
     "data": {
      "text/html": [
       "<div>\n",
       "<style scoped>\n",
       "    .dataframe tbody tr th:only-of-type {\n",
       "        vertical-align: middle;\n",
       "    }\n",
       "\n",
       "    .dataframe tbody tr th {\n",
       "        vertical-align: top;\n",
       "    }\n",
       "\n",
       "    .dataframe thead th {\n",
       "        text-align: right;\n",
       "    }\n",
       "</style>\n",
       "<table border=\"1\" class=\"dataframe\">\n",
       "  <thead>\n",
       "    <tr style=\"text-align: right;\">\n",
       "      <th></th>\n",
       "      <th>0</th>\n",
       "      <th>1</th>\n",
       "      <th>2</th>\n",
       "    </tr>\n",
       "    <tr>\n",
       "      <th>index</th>\n",
       "      <th></th>\n",
       "      <th></th>\n",
       "      <th></th>\n",
       "    </tr>\n",
       "  </thead>\n",
       "  <tbody>\n",
       "    <tr>\n",
       "      <th>26457</th>\n",
       "      <td>0.021790</td>\n",
       "      <td>0.139328</td>\n",
       "      <td>0.838882</td>\n",
       "    </tr>\n",
       "    <tr>\n",
       "      <th>26458</th>\n",
       "      <td>0.087419</td>\n",
       "      <td>0.269636</td>\n",
       "      <td>0.642945</td>\n",
       "    </tr>\n",
       "    <tr>\n",
       "      <th>26459</th>\n",
       "      <td>0.179580</td>\n",
       "      <td>0.273035</td>\n",
       "      <td>0.547385</td>\n",
       "    </tr>\n",
       "    <tr>\n",
       "      <th>26460</th>\n",
       "      <td>0.168501</td>\n",
       "      <td>0.566295</td>\n",
       "      <td>0.265204</td>\n",
       "    </tr>\n",
       "    <tr>\n",
       "      <th>26461</th>\n",
       "      <td>0.111568</td>\n",
       "      <td>0.844442</td>\n",
       "      <td>0.043990</td>\n",
       "    </tr>\n",
       "  </tbody>\n",
       "</table>\n",
       "</div>"
      ],
      "text/plain": [
       "              0         1         2\n",
       "index                              \n",
       "26457  0.021790  0.139328  0.838882\n",
       "26458  0.087419  0.269636  0.642945\n",
       "26459  0.179580  0.273035  0.547385\n",
       "26460  0.168501  0.566295  0.265204\n",
       "26461  0.111568  0.844442  0.043990"
      ]
     },
     "execution_count": 138,
     "metadata": {},
     "output_type": "execute_result"
    }
   ],
   "source": [
    "xgb_over_sample_submission = pd.DataFrame(xgb.predict_proba(test.values), index = sample_submission.index)\n",
    "xgb_over_sample_submission.to_csv('../data/신용카드/xgb_over_sample_submission.csv')\n",
    "xgb_over_sample_submission.head()"
   ]
  },
  {
   "cell_type": "markdown",
   "id": "ec35ac35",
   "metadata": {},
   "source": [
    "### feature_importance"
   ]
  },
  {
   "cell_type": "code",
   "execution_count": 139,
   "id": "3d36aeb2",
   "metadata": {},
   "outputs": [
    {
     "data": {
      "image/png": "[encoded data removed]",
      "text/plain": [
       "<Figure size 720x576 with 1 Axes>"
      ]
     },
     "metadata": {
      "needs_background": "light"
     },
     "output_type": "display_data"
    }
   ],
   "source": [
    "plot_feature_importance(xgb.feature_importances_, X_val.columns, 'XGBoost')"
   ]
  },
  {
   "cell_type": "markdown",
   "id": "09c3bab1",
   "metadata": {
    "id": "8468643d"
   },
   "source": [
    "# LGBM"
   ]
  },
  {
   "cell_type": "code",
   "execution_count": 60,
   "id": "bb3a3c08",
   "metadata": {
    "executionInfo": {
     "elapsed": 449,
     "status": "ok",
     "timestamp": 1638422602919,
     "user": {
      "displayName": "유상준",
      "photoUrl": "https://lh3.googleusercontent.com/a-/AOh14GjwhV3OPaZeVbcnb0L540CX4dtB2wGRfCVw4E8=s64",
      "userId": "06620102043085366517"
     },
     "user_tz": -540
    },
    "id": "456e9179"
   },
   "outputs": [],
   "source": [
    "from lightgbm import LGBMClassifier"
   ]
  },
  {
   "cell_type": "markdown",
   "id": "6a3ef8ba",
   "metadata": {
    "id": "28dd7b37"
   },
   "source": [
    "### 임의의 하이퍼 파라미터 지정 (테스트용도)"
   ]
  },
  {
   "cell_type": "markdown",
   "id": "eab71502",
   "metadata": {
    "id": "c87d0a19"
   },
   "source": [
    "#### oversampling X"
   ]
  },
  {
   "cell_type": "markdown",
   "id": "21643c48",
   "metadata": {
    "colab": {
     "base_uri": "https://localhost:8080/"
    },
    "executionInfo": {
     "elapsed": 11325,
     "status": "ok",
     "timestamp": 1638422742928,
     "user": {
      "displayName": "유상준",
      "photoUrl": "https://lh3.googleusercontent.com/a-/AOh14GjwhV3OPaZeVbcnb0L540CX4dtB2wGRfCVw4E8=s64",
      "userId": "06620102043085366517"
     },
     "user_tz": -540
    },
    "id": "5a5c690d",
    "outputId": "d0fc933a-bbe4-404d-d44f-6360ec025068"
   },
   "source": [
    "from lightgbm import LGBMClassifier\n",
    "\n",
    "lgbm = LGBMClassifier(random_state = 13,\n",
    "                      n_estimators = 1000, objective = 'multiclass', metric = 'multi_logloss',max_depth = 20,\n",
    "                      n_jobs = -1, num_leaves = 64,learning_rate = 0.05, min_data_in_leaf = 20, boost_from_average = False)\n",
    "lgbm.fit(X_train, y_train, early_stopping_rounds = 10, eval_set = [(X_val, y_val)])"
   ]
  },
  {
   "cell_type": "markdown",
   "id": "49b8ecfc",
   "metadata": {
    "colab": {
     "base_uri": "https://localhost:8080/"
    },
    "executionInfo": {
     "elapsed": 1206,
     "status": "ok",
     "timestamp": 1638422763063,
     "user": {
      "displayName": "유상준",
      "photoUrl": "https://lh3.googleusercontent.com/a-/AOh14GjwhV3OPaZeVbcnb0L540CX4dtB2wGRfCVw4E8=s64",
      "userId": "06620102043085366517"
     },
     "user_tz": -540
    },
    "id": "e38955ce",
    "outputId": "9b74d227-4d9f-44d7-8967-b91431dcb0f7"
   },
   "source": [
    "from sklearn.metrics import log_loss, accuracy_score, classification_report, confusion_matrix\n",
    "\n",
    "print('='*50)\n",
    "print('Validataion set 예측 성능 평가')\n",
    "print(classification_report(y_val, lgbm.predict(X_val)))\n",
    "print(confusion_matrix(y_val, lgbm.predict(X_val)))\n",
    "print('='*50)\n",
    "print('log_loss : ',log_loss(y_val, lgbm.predict_proba(X_val)))\n",
    "print('accuracy_score : ', accuracy_score(y_val, lgbm.predict(X_val)))"
   ]
  },
  {
   "cell_type": "markdown",
   "id": "af99364a",
   "metadata": {
    "id": "fedbe960"
   },
   "source": [
    "#### oversampling O"
   ]
  },
  {
   "cell_type": "markdown",
   "id": "589ff74a",
   "metadata": {
    "colab": {
     "base_uri": "https://localhost:8080/"
    },
    "collapsed": true,
    "executionInfo": {
     "elapsed": 59485,
     "status": "ok",
     "timestamp": 1638422848562,
     "user": {
      "displayName": "유상준",
      "photoUrl": "https://lh3.googleusercontent.com/a-/AOh14GjwhV3OPaZeVbcnb0L540CX4dtB2wGRfCVw4E8=s64",
      "userId": "06620102043085366517"
     },
     "user_tz": -540
    },
    "id": "98383953",
    "outputId": "69ac8b3b-a70a-4b41-f485-7bcaddb03a4c"
   },
   "source": [
    "from lightgbm import LGBMClassifier\n",
    "\n",
    "lgbm = LGBMClassifier(random_state = 13,\n",
    "                      n_estimators = 1000, objective = 'multiclass', metric = 'multi_logloss',max_depth = 20,\n",
    "                      n_jobs = -1, num_leaves = 64,learning_rate = 0.01, min_data_in_leaf = 20, boost_from_average = False)\n",
    "lgbm.fit(X_train_over, y_train_over,early_stopping_rounds = 10, eval_set = [(X_val, y_val)])"
   ]
  },
  {
   "cell_type": "markdown",
   "id": "308a1812",
   "metadata": {
    "colab": {
     "base_uri": "https://localhost:8080/"
    },
    "executionInfo": {
     "elapsed": 3324,
     "status": "ok",
     "timestamp": 1638422852997,
     "user": {
      "displayName": "유상준",
      "photoUrl": "https://lh3.googleusercontent.com/a-/AOh14GjwhV3OPaZeVbcnb0L540CX4dtB2wGRfCVw4E8=s64",
      "userId": "06620102043085366517"
     },
     "user_tz": -540
    },
    "id": "c62dcbb2",
    "outputId": "ea94a652-11b2-4c26-d956-0bdab7020a50"
   },
   "source": [
    "from sklearn.metrics import log_loss, accuracy_score, classification_report, confusion_matrix\n",
    "\n",
    "print('='*50)\n",
    "print('Validataion set 예측 성능 평가')\n",
    "print(classification_report(y_val, lgbm.predict(X_val)))\n",
    "print(confusion_matrix(y_val, lgbm.predict(X_val)))\n",
    "print('='*50)\n",
    "print('log_loss : ',log_loss(y_val, lgbm.predict_proba(X_val)))\n",
    "print('accuracy_score : ', accuracy_score(y_val, lgbm.predict(X_val)))"
   ]
  },
  {
   "cell_type": "markdown",
   "id": "93bb4ff9",
   "metadata": {
    "id": "de797104"
   },
   "source": [
    "## GridSearchCV"
   ]
  },
  {
   "cell_type": "code",
   "execution_count": null,
   "id": "07a5869c",
   "metadata": {
    "collapsed": true,
    "id": "8578726a"
   },
   "outputs": [],
   "source": [
    "from sklearn.model_selection import GridSearchCV\n",
    "\n",
    "param_grid = [ {\n",
    "    'n_estimators' : [800],\n",
    "    'max_depth' : [15,20,25],\n",
    "    'num_leaves' : [64,128,256],\n",
    "    'learning_rate' : [0.05],\n",
    "    'min_data_in_leaf' : [20,30],\n",
    "}]\n",
    "\n",
    "lgbm = LGBMClassifier(objective = 'multiclass', metric = 'multi_logloss', n_jobs = -1)\n",
    "\n",
    "GridSearch = GridSearchCV(estimator = lgbm, param_grid=param_grid, \n",
    "                          cv = 5, scoring='neg_log_loss')\n",
    "\n",
    "GridSearch.fit(X_train,y_train, early_stopping_rounds = 10, eval_set = [(X_val, y_val)])"
   ]
  },
  {
   "cell_type": "code",
   "execution_count": 31,
   "id": "c568f20c",
   "metadata": {
    "colab": {
     "base_uri": "https://localhost:8080/"
    },
    "executionInfo": {
     "elapsed": 500,
     "status": "ok",
     "timestamp": 1638424128409,
     "user": {
      "displayName": "유상준",
      "photoUrl": "https://lh3.googleusercontent.com/a-/AOh14GjwhV3OPaZeVbcnb0L540CX4dtB2wGRfCVw4E8=s64",
      "userId": "06620102043085366517"
     },
     "user_tz": -540
    },
    "id": "1dYOCYiDRnQb",
    "outputId": "b83ad232-20b5-4293-fb6f-d3d19b68b6e4"
   },
   "outputs": [
    {
     "data": {
      "text/plain": [
       "GridSearchCV(cv=5,\n",
       "             estimator=LGBMClassifier(metric='multi_logloss',\n",
       "                                      objective='multiclass'),\n",
       "             param_grid=[{'learning_rate': [0.05], 'max_depth': [15, 20, 25],\n",
       "                          'min_data_in_leaf': [20, 30], 'n_estimators': [800],\n",
       "                          'num_leaves': [64, 128, 256]}],\n",
       "             scoring='neg_log_loss')"
      ]
     },
     "execution_count": 31,
     "metadata": {},
     "output_type": "execute_result"
    }
   ],
   "source": [
    "GridSearch"
   ]
  },
  {
   "cell_type": "code",
   "execution_count": 33,
   "id": "f3452632",
   "metadata": {
    "colab": {
     "base_uri": "https://localhost:8080/"
    },
    "executionInfo": {
     "elapsed": 488,
     "status": "ok",
     "timestamp": 1638424154641,
     "user": {
      "displayName": "유상준",
      "photoUrl": "https://lh3.googleusercontent.com/a-/AOh14GjwhV3OPaZeVbcnb0L540CX4dtB2wGRfCVw4E8=s64",
      "userId": "06620102043085366517"
     },
     "user_tz": -540
    },
    "id": "ELHaCCF2sGn0",
    "outputId": "3956d250-43cf-4644-8a8b-c978489e79a9"
   },
   "outputs": [
    {
     "data": {
      "text/plain": [
       "LGBMClassifier(learning_rate=0.05, max_depth=20, metric='multi_logloss',\n",
       "               min_data_in_leaf=30, n_estimators=800, num_leaves=128,\n",
       "               objective='multiclass')"
      ]
     },
     "execution_count": 33,
     "metadata": {},
     "output_type": "execute_result"
    }
   ],
   "source": [
    "GridSearch.best_estimator_"
   ]
  },
  {
   "cell_type": "code",
   "execution_count": 34,
   "id": "83e93d65",
   "metadata": {
    "colab": {
     "base_uri": "https://localhost:8080/"
    },
    "executionInfo": {
     "elapsed": 481,
     "status": "ok",
     "timestamp": 1638424173938,
     "user": {
      "displayName": "유상준",
      "photoUrl": "https://lh3.googleusercontent.com/a-/AOh14GjwhV3OPaZeVbcnb0L540CX4dtB2wGRfCVw4E8=s64",
      "userId": "06620102043085366517"
     },
     "user_tz": -540
    },
    "id": "5550e072",
    "outputId": "759c3e64-f2c9-4dfc-838f-8ee4f91c9f7d"
   },
   "outputs": [
    {
     "data": {
      "text/plain": [
       "-0.7327915747252397"
      ]
     },
     "execution_count": 34,
     "metadata": {},
     "output_type": "execute_result"
    }
   ],
   "source": [
    "GridSearch.best_score_"
   ]
  },
  {
   "cell_type": "code",
   "execution_count": 35,
   "id": "a00402a5",
   "metadata": {
    "colab": {
     "base_uri": "https://localhost:8080/",
     "height": 614
    },
    "executionInfo": {
     "elapsed": 9,
     "status": "ok",
     "timestamp": 1638424175395,
     "user": {
      "displayName": "유상준",
      "photoUrl": "https://lh3.googleusercontent.com/a-/AOh14GjwhV3OPaZeVbcnb0L540CX4dtB2wGRfCVw4E8=s64",
      "userId": "06620102043085366517"
     },
     "user_tz": -540
    },
    "id": "741b49b8",
    "outputId": "05031947-2fa7-4777-a7b2-6a686631d889",
    "scrolled": true
   },
   "outputs": [
    {
     "data": {
      "text/html": [
       "<div>\n",
       "<style scoped>\n",
       "    .dataframe tbody tr th:only-of-type {\n",
       "        vertical-align: middle;\n",
       "    }\n",
       "\n",
       "    .dataframe tbody tr th {\n",
       "        vertical-align: top;\n",
       "    }\n",
       "\n",
       "    .dataframe thead th {\n",
       "        text-align: right;\n",
       "    }\n",
       "</style>\n",
       "<table border=\"1\" class=\"dataframe\">\n",
       "  <thead>\n",
       "    <tr style=\"text-align: right;\">\n",
       "      <th></th>\n",
       "      <th>mean_test_score</th>\n",
       "      <th>rank_test_score</th>\n",
       "    </tr>\n",
       "  </thead>\n",
       "  <tbody>\n",
       "    <tr>\n",
       "      <th>{'learning_rate': 0.05, 'max_depth': 20, 'min_data_in_leaf': 30, 'n_estimators': 800, 'num_leaves': 128}</th>\n",
       "      <td>-0.732792</td>\n",
       "      <td>1</td>\n",
       "    </tr>\n",
       "    <tr>\n",
       "      <th>{'learning_rate': 0.05, 'max_depth': 25, 'min_data_in_leaf': 20, 'n_estimators': 800, 'num_leaves': 128}</th>\n",
       "      <td>-0.733590</td>\n",
       "      <td>2</td>\n",
       "    </tr>\n",
       "    <tr>\n",
       "      <th>{'learning_rate': 0.05, 'max_depth': 25, 'min_data_in_leaf': 30, 'n_estimators': 800, 'num_leaves': 128}</th>\n",
       "      <td>-0.733805</td>\n",
       "      <td>3</td>\n",
       "    </tr>\n",
       "    <tr>\n",
       "      <th>{'learning_rate': 0.05, 'max_depth': 25, 'min_data_in_leaf': 30, 'n_estimators': 800, 'num_leaves': 256}</th>\n",
       "      <td>-0.733967</td>\n",
       "      <td>4</td>\n",
       "    </tr>\n",
       "    <tr>\n",
       "      <th>{'learning_rate': 0.05, 'max_depth': 25, 'min_data_in_leaf': 20, 'n_estimators': 800, 'num_leaves': 64}</th>\n",
       "      <td>-0.733975</td>\n",
       "      <td>5</td>\n",
       "    </tr>\n",
       "    <tr>\n",
       "      <th>{'learning_rate': 0.05, 'max_depth': 25, 'min_data_in_leaf': 20, 'n_estimators': 800, 'num_leaves': 256}</th>\n",
       "      <td>-0.734710</td>\n",
       "      <td>6</td>\n",
       "    </tr>\n",
       "    <tr>\n",
       "      <th>{'learning_rate': 0.05, 'max_depth': 20, 'min_data_in_leaf': 20, 'n_estimators': 800, 'num_leaves': 256}</th>\n",
       "      <td>-0.734792</td>\n",
       "      <td>7</td>\n",
       "    </tr>\n",
       "    <tr>\n",
       "      <th>{'learning_rate': 0.05, 'max_depth': 20, 'min_data_in_leaf': 20, 'n_estimators': 800, 'num_leaves': 64}</th>\n",
       "      <td>-0.734815</td>\n",
       "      <td>8</td>\n",
       "    </tr>\n",
       "    <tr>\n",
       "      <th>{'learning_rate': 0.05, 'max_depth': 20, 'min_data_in_leaf': 20, 'n_estimators': 800, 'num_leaves': 128}</th>\n",
       "      <td>-0.734999</td>\n",
       "      <td>9</td>\n",
       "    </tr>\n",
       "    <tr>\n",
       "      <th>{'learning_rate': 0.05, 'max_depth': 15, 'min_data_in_leaf': 30, 'n_estimators': 800, 'num_leaves': 128}</th>\n",
       "      <td>-0.735320</td>\n",
       "      <td>10</td>\n",
       "    </tr>\n",
       "    <tr>\n",
       "      <th>{'learning_rate': 0.05, 'max_depth': 15, 'min_data_in_leaf': 20, 'n_estimators': 800, 'num_leaves': 64}</th>\n",
       "      <td>-0.735536</td>\n",
       "      <td>11</td>\n",
       "    </tr>\n",
       "    <tr>\n",
       "      <th>{'learning_rate': 0.05, 'max_depth': 25, 'min_data_in_leaf': 30, 'n_estimators': 800, 'num_leaves': 64}</th>\n",
       "      <td>-0.735863</td>\n",
       "      <td>12</td>\n",
       "    </tr>\n",
       "    <tr>\n",
       "      <th>{'learning_rate': 0.05, 'max_depth': 20, 'min_data_in_leaf': 30, 'n_estimators': 800, 'num_leaves': 256}</th>\n",
       "      <td>-0.735996</td>\n",
       "      <td>13</td>\n",
       "    </tr>\n",
       "    <tr>\n",
       "      <th>{'learning_rate': 0.05, 'max_depth': 15, 'min_data_in_leaf': 20, 'n_estimators': 800, 'num_leaves': 128}</th>\n",
       "      <td>-0.736093</td>\n",
       "      <td>14</td>\n",
       "    </tr>\n",
       "    <tr>\n",
       "      <th>{'learning_rate': 0.05, 'max_depth': 20, 'min_data_in_leaf': 30, 'n_estimators': 800, 'num_leaves': 64}</th>\n",
       "      <td>-0.736100</td>\n",
       "      <td>15</td>\n",
       "    </tr>\n",
       "    <tr>\n",
       "      <th>{'learning_rate': 0.05, 'max_depth': 15, 'min_data_in_leaf': 30, 'n_estimators': 800, 'num_leaves': 64}</th>\n",
       "      <td>-0.736913</td>\n",
       "      <td>16</td>\n",
       "    </tr>\n",
       "    <tr>\n",
       "      <th>{'learning_rate': 0.05, 'max_depth': 15, 'min_data_in_leaf': 30, 'n_estimators': 800, 'num_leaves': 256}</th>\n",
       "      <td>-0.736938</td>\n",
       "      <td>17</td>\n",
       "    </tr>\n",
       "    <tr>\n",
       "      <th>{'learning_rate': 0.05, 'max_depth': 15, 'min_data_in_leaf': 20, 'n_estimators': 800, 'num_leaves': 256}</th>\n",
       "      <td>-0.737708</td>\n",
       "      <td>18</td>\n",
       "    </tr>\n",
       "  </tbody>\n",
       "</table>\n",
       "</div>"
      ],
      "text/plain": [
       "                                                    mean_test_score  rank_test_score\n",
       "{'learning_rate': 0.05, 'max_depth': 20, 'min_d...        -0.732792                1\n",
       "{'learning_rate': 0.05, 'max_depth': 25, 'min_d...        -0.733590                2\n",
       "{'learning_rate': 0.05, 'max_depth': 25, 'min_d...        -0.733805                3\n",
       "{'learning_rate': 0.05, 'max_depth': 25, 'min_d...        -0.733967                4\n",
       "{'learning_rate': 0.05, 'max_depth': 25, 'min_d...        -0.733975                5\n",
       "{'learning_rate': 0.05, 'max_depth': 25, 'min_d...        -0.734710                6\n",
       "{'learning_rate': 0.05, 'max_depth': 20, 'min_d...        -0.734792                7\n",
       "{'learning_rate': 0.05, 'max_depth': 20, 'min_d...        -0.734815                8\n",
       "{'learning_rate': 0.05, 'max_depth': 20, 'min_d...        -0.734999                9\n",
       "{'learning_rate': 0.05, 'max_depth': 15, 'min_d...        -0.735320               10\n",
       "{'learning_rate': 0.05, 'max_depth': 15, 'min_d...        -0.735536               11\n",
       "{'learning_rate': 0.05, 'max_depth': 25, 'min_d...        -0.735863               12\n",
       "{'learning_rate': 0.05, 'max_depth': 20, 'min_d...        -0.735996               13\n",
       "{'learning_rate': 0.05, 'max_depth': 15, 'min_d...        -0.736093               14\n",
       "{'learning_rate': 0.05, 'max_depth': 20, 'min_d...        -0.736100               15\n",
       "{'learning_rate': 0.05, 'max_depth': 15, 'min_d...        -0.736913               16\n",
       "{'learning_rate': 0.05, 'max_depth': 15, 'min_d...        -0.736938               17\n",
       "{'learning_rate': 0.05, 'max_depth': 15, 'min_d...        -0.737708               18"
      ]
     },
     "execution_count": 35,
     "metadata": {},
     "output_type": "execute_result"
    }
   ],
   "source": [
    "lgbm_grid = pd.DataFrame(GridSearch.cv_results_, index = GridSearch.cv_results_['params'])[['mean_test_score','rank_test_score']].sort_values('rank_test_score')\n",
    "lgbm_grid"
   ]
  },
  {
   "cell_type": "markdown",
   "id": "bb6ca0f8",
   "metadata": {
    "id": "3df94730"
   },
   "source": [
    "### Best Parameters 조합으로 산출한 validation set 예측 성능확인"
   ]
  },
  {
   "cell_type": "markdown",
   "id": "42b681fb",
   "metadata": {},
   "source": [
    "#### oversampling X"
   ]
  },
  {
   "cell_type": "code",
   "execution_count": 67,
   "id": "06a0e4dc",
   "metadata": {
    "scrolled": true
   },
   "outputs": [
    {
     "name": "stderr",
     "output_type": "stream",
     "text": [
      "C:\\Users\\RYU\\anaconda3\\envs\\ds_study\\lib\\site-packages\\lightgbm\\basic.py:1433: UserWarning: Overriding the parameters from Reference Dataset.\n",
      "  _log_warning('Overriding the parameters from Reference Dataset.')\n",
      "C:\\Users\\RYU\\anaconda3\\envs\\ds_study\\lib\\site-packages\\lightgbm\\basic.py:1245: UserWarning: categorical_column in param dict is overridden.\n",
      "  _log_warning('{} in param dict is overridden.'.format(cat_alias))\n"
     ]
    },
    {
     "name": "stdout",
     "output_type": "stream",
     "text": [
      "[1]\tvalid_0's multi_logloss: 0.870835\n",
      "Training until validation scores don't improve for 10 rounds\n",
      "[2]\tvalid_0's multi_logloss: 0.860638\n",
      "[3]\tvalid_0's multi_logloss: 0.852171\n",
      "[4]\tvalid_0's multi_logloss: 0.844456\n",
      "[5]\tvalid_0's multi_logloss: 0.837169\n",
      "[6]\tvalid_0's multi_logloss: 0.830526\n",
      "[7]\tvalid_0's multi_logloss: 0.824764\n",
      "[8]\tvalid_0's multi_logloss: 0.819299\n",
      "[9]\tvalid_0's multi_logloss: 0.814305\n",
      "[10]\tvalid_0's multi_logloss: 0.809771\n",
      "[11]\tvalid_0's multi_logloss: 0.805685\n",
      "[12]\tvalid_0's multi_logloss: 0.801961\n",
      "[13]\tvalid_0's multi_logloss: 0.797825\n",
      "[14]\tvalid_0's multi_logloss: 0.794487\n",
      "[15]\tvalid_0's multi_logloss: 0.791086\n",
      "[16]\tvalid_0's multi_logloss: 0.787783\n",
      "[17]\tvalid_0's multi_logloss: 0.785026\n",
      "[18]\tvalid_0's multi_logloss: 0.782203\n",
      "[19]\tvalid_0's multi_logloss: 0.77984\n",
      "[20]\tvalid_0's multi_logloss: 0.777384\n",
      "[21]\tvalid_0's multi_logloss: 0.775062\n",
      "[22]\tvalid_0's multi_logloss: 0.77295\n",
      "[23]\tvalid_0's multi_logloss: 0.770926\n",
      "[24]\tvalid_0's multi_logloss: 0.768663\n",
      "[25]\tvalid_0's multi_logloss: 0.767048\n",
      "[26]\tvalid_0's multi_logloss: 0.765166\n",
      "[27]\tvalid_0's multi_logloss: 0.763439\n",
      "[28]\tvalid_0's multi_logloss: 0.761618\n",
      "[29]\tvalid_0's multi_logloss: 0.759912\n",
      "[30]\tvalid_0's multi_logloss: 0.758533\n",
      "[31]\tvalid_0's multi_logloss: 0.757411\n",
      "[32]\tvalid_0's multi_logloss: 0.755621\n",
      "[33]\tvalid_0's multi_logloss: 0.754717\n",
      "[34]\tvalid_0's multi_logloss: 0.753017\n",
      "[35]\tvalid_0's multi_logloss: 0.751867\n",
      "[36]\tvalid_0's multi_logloss: 0.750864\n",
      "[37]\tvalid_0's multi_logloss: 0.749866\n",
      "[38]\tvalid_0's multi_logloss: 0.749136\n",
      "[39]\tvalid_0's multi_logloss: 0.748046\n",
      "[40]\tvalid_0's multi_logloss: 0.74729\n",
      "[41]\tvalid_0's multi_logloss: 0.746527\n",
      "[42]\tvalid_0's multi_logloss: 0.745482\n",
      "[43]\tvalid_0's multi_logloss: 0.744412\n",
      "[44]\tvalid_0's multi_logloss: 0.743479\n",
      "[45]\tvalid_0's multi_logloss: 0.742478\n",
      "[46]\tvalid_0's multi_logloss: 0.741668\n",
      "[47]\tvalid_0's multi_logloss: 0.741193\n",
      "[48]\tvalid_0's multi_logloss: 0.740694\n",
      "[49]\tvalid_0's multi_logloss: 0.739895\n",
      "[50]\tvalid_0's multi_logloss: 0.73938\n",
      "[51]\tvalid_0's multi_logloss: 0.739102\n",
      "[52]\tvalid_0's multi_logloss: 0.73905\n",
      "[53]\tvalid_0's multi_logloss: 0.73841\n",
      "[54]\tvalid_0's multi_logloss: 0.737939\n",
      "[55]\tvalid_0's multi_logloss: 0.737316\n",
      "[56]\tvalid_0's multi_logloss: 0.736891\n",
      "[57]\tvalid_0's multi_logloss: 0.736248\n",
      "[58]\tvalid_0's multi_logloss: 0.735751\n",
      "[59]\tvalid_0's multi_logloss: 0.735113\n",
      "[60]\tvalid_0's multi_logloss: 0.734625\n",
      "[61]\tvalid_0's multi_logloss: 0.733966\n",
      "[62]\tvalid_0's multi_logloss: 0.733626\n",
      "[63]\tvalid_0's multi_logloss: 0.732975\n",
      "[64]\tvalid_0's multi_logloss: 0.732288\n",
      "[65]\tvalid_0's multi_logloss: 0.731873\n",
      "[66]\tvalid_0's multi_logloss: 0.73123\n",
      "[67]\tvalid_0's multi_logloss: 0.73073\n",
      "[68]\tvalid_0's multi_logloss: 0.730441\n",
      "[69]\tvalid_0's multi_logloss: 0.730126\n",
      "[70]\tvalid_0's multi_logloss: 0.729658\n",
      "[71]\tvalid_0's multi_logloss: 0.729121\n",
      "[72]\tvalid_0's multi_logloss: 0.728798\n",
      "[73]\tvalid_0's multi_logloss: 0.728751\n",
      "[74]\tvalid_0's multi_logloss: 0.728467\n",
      "[75]\tvalid_0's multi_logloss: 0.728173\n",
      "[76]\tvalid_0's multi_logloss: 0.728004\n",
      "[77]\tvalid_0's multi_logloss: 0.72767\n",
      "[78]\tvalid_0's multi_logloss: 0.727392\n",
      "[79]\tvalid_0's multi_logloss: 0.72713\n",
      "[80]\tvalid_0's multi_logloss: 0.726606\n",
      "[81]\tvalid_0's multi_logloss: 0.726425\n",
      "[82]\tvalid_0's multi_logloss: 0.726081\n",
      "[83]\tvalid_0's multi_logloss: 0.725993\n",
      "[84]\tvalid_0's multi_logloss: 0.725573\n",
      "[85]\tvalid_0's multi_logloss: 0.725025\n",
      "[86]\tvalid_0's multi_logloss: 0.724646\n",
      "[87]\tvalid_0's multi_logloss: 0.724092\n",
      "[88]\tvalid_0's multi_logloss: 0.723721\n",
      "[89]\tvalid_0's multi_logloss: 0.723615\n",
      "[90]\tvalid_0's multi_logloss: 0.723427\n",
      "[91]\tvalid_0's multi_logloss: 0.723169\n",
      "[92]\tvalid_0's multi_logloss: 0.72299\n",
      "[93]\tvalid_0's multi_logloss: 0.722746\n",
      "[94]\tvalid_0's multi_logloss: 0.722464\n",
      "[95]\tvalid_0's multi_logloss: 0.72224\n",
      "[96]\tvalid_0's multi_logloss: 0.722141\n",
      "[97]\tvalid_0's multi_logloss: 0.721848\n",
      "[98]\tvalid_0's multi_logloss: 0.721442\n",
      "[99]\tvalid_0's multi_logloss: 0.721172\n",
      "[100]\tvalid_0's multi_logloss: 0.720838\n",
      "[101]\tvalid_0's multi_logloss: 0.720656\n",
      "[102]\tvalid_0's multi_logloss: 0.720403\n",
      "[103]\tvalid_0's multi_logloss: 0.720243\n",
      "[104]\tvalid_0's multi_logloss: 0.72004\n",
      "[105]\tvalid_0's multi_logloss: 0.719797\n",
      "[106]\tvalid_0's multi_logloss: 0.719622\n",
      "[107]\tvalid_0's multi_logloss: 0.719495\n",
      "[108]\tvalid_0's multi_logloss: 0.719221\n",
      "[109]\tvalid_0's multi_logloss: 0.718949\n",
      "[110]\tvalid_0's multi_logloss: 0.718835\n",
      "[111]\tvalid_0's multi_logloss: 0.718662\n",
      "[112]\tvalid_0's multi_logloss: 0.718419\n",
      "[113]\tvalid_0's multi_logloss: 0.718213\n",
      "[114]\tvalid_0's multi_logloss: 0.718365\n",
      "[115]\tvalid_0's multi_logloss: 0.718017\n",
      "[116]\tvalid_0's multi_logloss: 0.717741\n",
      "[117]\tvalid_0's multi_logloss: 0.717766\n",
      "[118]\tvalid_0's multi_logloss: 0.717772\n",
      "[119]\tvalid_0's multi_logloss: 0.717682\n",
      "[120]\tvalid_0's multi_logloss: 0.717681\n",
      "[121]\tvalid_0's multi_logloss: 0.717528\n",
      "[122]\tvalid_0's multi_logloss: 0.717395\n",
      "[123]\tvalid_0's multi_logloss: 0.717196\n",
      "[124]\tvalid_0's multi_logloss: 0.717035\n",
      "[125]\tvalid_0's multi_logloss: 0.717077\n",
      "[126]\tvalid_0's multi_logloss: 0.7171\n",
      "[127]\tvalid_0's multi_logloss: 0.717109\n",
      "[128]\tvalid_0's multi_logloss: 0.717039\n",
      "[129]\tvalid_0's multi_logloss: 0.717259\n",
      "[130]\tvalid_0's multi_logloss: 0.717127\n",
      "[131]\tvalid_0's multi_logloss: 0.717552\n",
      "[132]\tvalid_0's multi_logloss: 0.717428\n",
      "[133]\tvalid_0's multi_logloss: 0.717281\n",
      "[134]\tvalid_0's multi_logloss: 0.717227\n",
      "Early stopping, best iteration is:\n",
      "[124]\tvalid_0's multi_logloss: 0.717035\n"
     ]
    },
    {
     "data": {
      "text/plain": [
       "LGBMClassifier(learning_rate=0.05, max_depth=20, metric='multi_logloss',\n",
       "               min_data_in_leaf=30, n_estimators=800, num_leaves=128,\n",
       "               objective='multiclass')"
      ]
     },
     "execution_count": 67,
     "metadata": {},
     "output_type": "execute_result"
    }
   ],
   "source": [
    "lgbm = LGBMClassifier(learning_rate=0.05, max_depth=20, metric='multi_logloss',\n",
    "               min_data_in_leaf=30, n_estimators=800, num_leaves=128,\n",
    "               objective='multiclass')\n",
    "lgbm.fit(X_train, y_train,early_stopping_rounds = 10, eval_set = [(X_val, y_val)])"
   ]
  },
  {
   "cell_type": "code",
   "execution_count": 68,
   "id": "d5ec89b1",
   "metadata": {
    "colab": {
     "base_uri": "https://localhost:8080/"
    },
    "executionInfo": {
     "elapsed": 1205,
     "status": "ok",
     "timestamp": 1638424240123,
     "user": {
      "displayName": "유상준",
      "photoUrl": "https://lh3.googleusercontent.com/a-/AOh14GjwhV3OPaZeVbcnb0L540CX4dtB2wGRfCVw4E8=s64",
      "userId": "06620102043085366517"
     },
     "user_tz": -540
    },
    "id": "3e6ce955",
    "outputId": "66400f3b-e0e2-41d1-9b0b-0164613468a2"
   },
   "outputs": [
    {
     "name": "stdout",
     "output_type": "stream",
     "text": [
      "==================================================\n",
      "Validataion set 예측 성능 평가\n",
      "              precision    recall  f1-score   support\n",
      "\n",
      "         0.0       0.57      0.13      0.21       644\n",
      "         1.0       0.70      0.37      0.49      1254\n",
      "         2.0       0.72      0.96      0.82      3393\n",
      "\n",
      "    accuracy                           0.72      5291\n",
      "   macro avg       0.66      0.49      0.51      5291\n",
      "weighted avg       0.70      0.72      0.67      5291\n",
      "\n",
      "[[  82   83  479]\n",
      " [  29  470  755]\n",
      " [  34  117 3242]]\n",
      "==================================================\n",
      "log_loss :  0.7170347348687243\n",
      "accuracy_score :  0.7170667170667171\n"
     ]
    }
   ],
   "source": [
    "from sklearn.metrics import log_loss, accuracy_score, classification_report, confusion_matrix\n",
    "\n",
    "print('='*50)\n",
    "print('Validataion set 예측 성능 평가')\n",
    "print(classification_report(y_val, lgbm.predict(X_val)))\n",
    "print(confusion_matrix(y_val, lgbm.predict(X_val)))\n",
    "print('='*50)\n",
    "print('log_loss : ',log_loss(y_val, lgbm.predict_proba(X_val)))\n",
    "print('accuracy_score : ', accuracy_score(y_val, lgbm.predict(X_val)))"
   ]
  },
  {
   "cell_type": "markdown",
   "id": "e09b0934",
   "metadata": {
    "id": "Gxer6f-k9zJ2"
   },
   "source": [
    "##### y_test 예측 및 기록 (submission용 파일)"
   ]
  },
  {
   "cell_type": "code",
   "execution_count": 72,
   "id": "9bda0998",
   "metadata": {},
   "outputs": [
    {
     "data": {
      "text/html": [
       "<div>\n",
       "<style scoped>\n",
       "    .dataframe tbody tr th:only-of-type {\n",
       "        vertical-align: middle;\n",
       "    }\n",
       "\n",
       "    .dataframe tbody tr th {\n",
       "        vertical-align: top;\n",
       "    }\n",
       "\n",
       "    .dataframe thead th {\n",
       "        text-align: right;\n",
       "    }\n",
       "</style>\n",
       "<table border=\"1\" class=\"dataframe\">\n",
       "  <thead>\n",
       "    <tr style=\"text-align: right;\">\n",
       "      <th></th>\n",
       "      <th>index</th>\n",
       "      <th>0</th>\n",
       "      <th>1</th>\n",
       "      <th>2</th>\n",
       "    </tr>\n",
       "  </thead>\n",
       "  <tbody>\n",
       "    <tr>\n",
       "      <th>0</th>\n",
       "      <td>26457</td>\n",
       "      <td>0.060703</td>\n",
       "      <td>0.165797</td>\n",
       "      <td>0.773499</td>\n",
       "    </tr>\n",
       "    <tr>\n",
       "      <th>1</th>\n",
       "      <td>26458</td>\n",
       "      <td>0.047268</td>\n",
       "      <td>0.110606</td>\n",
       "      <td>0.842126</td>\n",
       "    </tr>\n",
       "    <tr>\n",
       "      <th>2</th>\n",
       "      <td>26459</td>\n",
       "      <td>0.034834</td>\n",
       "      <td>0.076954</td>\n",
       "      <td>0.888212</td>\n",
       "    </tr>\n",
       "    <tr>\n",
       "      <th>3</th>\n",
       "      <td>26460</td>\n",
       "      <td>0.076746</td>\n",
       "      <td>0.158671</td>\n",
       "      <td>0.764583</td>\n",
       "    </tr>\n",
       "    <tr>\n",
       "      <th>4</th>\n",
       "      <td>26461</td>\n",
       "      <td>0.139642</td>\n",
       "      <td>0.115721</td>\n",
       "      <td>0.744637</td>\n",
       "    </tr>\n",
       "  </tbody>\n",
       "</table>\n",
       "</div>"
      ],
      "text/plain": [
       "   index         0         1         2\n",
       "0  26457  0.060703  0.165797  0.773499\n",
       "1  26458  0.047268  0.110606  0.842126\n",
       "2  26459  0.034834  0.076954  0.888212\n",
       "3  26460  0.076746  0.158671  0.764583\n",
       "4  26461  0.139642  0.115721  0.744637"
      ]
     },
     "execution_count": 72,
     "metadata": {},
     "output_type": "execute_result"
    }
   ],
   "source": [
    "lgbm_sample_submission = pd.DataFrame(lgbm.predict_proba(test), index = sample_submission.index)\n",
    "lgbm_sample_submission.head()"
   ]
  },
  {
   "cell_type": "markdown",
   "id": "79375315",
   "metadata": {
    "id": "L83qXib9WIOg"
   },
   "source": [
    "#### oversampling O"
   ]
  },
  {
   "cell_type": "code",
   "execution_count": 141,
   "id": "d6ccd9b7",
   "metadata": {
    "id": "g6MUSJTWVK-X",
    "scrolled": true
   },
   "outputs": [
    {
     "name": "stdout",
     "output_type": "stream",
     "text": [
      "[LightGBM] [Warning] min_data_in_leaf is set=30, min_child_samples=20 will be ignored. Current value: min_data_in_leaf=30\n"
     ]
    },
    {
     "name": "stderr",
     "output_type": "stream",
     "text": [
      "C:\\Users\\RYU\\anaconda3\\envs\\ds_study\\lib\\site-packages\\lightgbm\\basic.py:1433: UserWarning: Overriding the parameters from Reference Dataset.\n",
      "  _log_warning('Overriding the parameters from Reference Dataset.')\n"
     ]
    },
    {
     "name": "stdout",
     "output_type": "stream",
     "text": [
      "[1]\tvalid_0's multi_logloss: 1.07626\n",
      "Training until validation scores don't improve for 10 rounds\n",
      "[2]\tvalid_0's multi_logloss: 1.05542\n",
      "[3]\tvalid_0's multi_logloss: 1.03627\n",
      "[4]\tvalid_0's multi_logloss: 1.01917\n",
      "[5]\tvalid_0's multi_logloss: 1.00301\n",
      "[6]\tvalid_0's multi_logloss: 0.987743\n",
      "[7]\tvalid_0's multi_logloss: 0.974627\n",
      "[8]\tvalid_0's multi_logloss: 0.961425\n",
      "[9]\tvalid_0's multi_logloss: 0.949506\n",
      "[10]\tvalid_0's multi_logloss: 0.937584\n",
      "[11]\tvalid_0's multi_logloss: 0.927854\n",
      "[12]\tvalid_0's multi_logloss: 0.917889\n",
      "[13]\tvalid_0's multi_logloss: 0.908346\n",
      "[14]\tvalid_0's multi_logloss: 0.900093\n",
      "[15]\tvalid_0's multi_logloss: 0.892408\n",
      "[16]\tvalid_0's multi_logloss: 0.885027\n",
      "[17]\tvalid_0's multi_logloss: 0.878162\n",
      "[18]\tvalid_0's multi_logloss: 0.871964\n",
      "[19]\tvalid_0's multi_logloss: 0.865793\n",
      "[20]\tvalid_0's multi_logloss: 0.860294\n",
      "[21]\tvalid_0's multi_logloss: 0.854981\n",
      "[22]\tvalid_0's multi_logloss: 0.849949\n",
      "[23]\tvalid_0's multi_logloss: 0.845154\n",
      "[24]\tvalid_0's multi_logloss: 0.840928\n",
      "[25]\tvalid_0's multi_logloss: 0.836747\n",
      "[26]\tvalid_0's multi_logloss: 0.832591\n",
      "[27]\tvalid_0's multi_logloss: 0.829114\n",
      "[28]\tvalid_0's multi_logloss: 0.826066\n",
      "[29]\tvalid_0's multi_logloss: 0.822826\n",
      "[30]\tvalid_0's multi_logloss: 0.819433\n",
      "[31]\tvalid_0's multi_logloss: 0.816467\n",
      "[32]\tvalid_0's multi_logloss: 0.812898\n",
      "[33]\tvalid_0's multi_logloss: 0.809581\n",
      "[34]\tvalid_0's multi_logloss: 0.806421\n",
      "[35]\tvalid_0's multi_logloss: 0.803801\n",
      "[36]\tvalid_0's multi_logloss: 0.800924\n",
      "[37]\tvalid_0's multi_logloss: 0.798889\n",
      "[38]\tvalid_0's multi_logloss: 0.796732\n",
      "[39]\tvalid_0's multi_logloss: 0.794385\n",
      "[40]\tvalid_0's multi_logloss: 0.791696\n",
      "[41]\tvalid_0's multi_logloss: 0.789689\n",
      "[42]\tvalid_0's multi_logloss: 0.787959\n",
      "[43]\tvalid_0's multi_logloss: 0.78567\n",
      "[44]\tvalid_0's multi_logloss: 0.783917\n",
      "[45]\tvalid_0's multi_logloss: 0.781804\n",
      "[46]\tvalid_0's multi_logloss: 0.78031\n",
      "[47]\tvalid_0's multi_logloss: 0.779242\n",
      "[48]\tvalid_0's multi_logloss: 0.778099\n",
      "[49]\tvalid_0's multi_logloss: 0.776593\n",
      "[50]\tvalid_0's multi_logloss: 0.774862\n",
      "[51]\tvalid_0's multi_logloss: 0.773425\n",
      "[52]\tvalid_0's multi_logloss: 0.772581\n",
      "[53]\tvalid_0's multi_logloss: 0.771316\n",
      "[54]\tvalid_0's multi_logloss: 0.770022\n",
      "[55]\tvalid_0's multi_logloss: 0.768749\n",
      "[56]\tvalid_0's multi_logloss: 0.768411\n",
      "[57]\tvalid_0's multi_logloss: 0.768462\n",
      "[58]\tvalid_0's multi_logloss: 0.766667\n",
      "[59]\tvalid_0's multi_logloss: 0.765284\n",
      "[60]\tvalid_0's multi_logloss: 0.765356\n",
      "[61]\tvalid_0's multi_logloss: 0.76402\n",
      "[62]\tvalid_0's multi_logloss: 0.763056\n",
      "[63]\tvalid_0's multi_logloss: 0.762346\n",
      "[64]\tvalid_0's multi_logloss: 0.761948\n",
      "[65]\tvalid_0's multi_logloss: 0.76076\n",
      "[66]\tvalid_0's multi_logloss: 0.759824\n",
      "[67]\tvalid_0's multi_logloss: 0.758089\n",
      "[68]\tvalid_0's multi_logloss: 0.756902\n",
      "[69]\tvalid_0's multi_logloss: 0.755333\n",
      "[70]\tvalid_0's multi_logloss: 0.75428\n",
      "[71]\tvalid_0's multi_logloss: 0.7535\n",
      "[72]\tvalid_0's multi_logloss: 0.752287\n",
      "[73]\tvalid_0's multi_logloss: 0.751673\n",
      "[74]\tvalid_0's multi_logloss: 0.750363\n",
      "[75]\tvalid_0's multi_logloss: 0.749109\n",
      "[76]\tvalid_0's multi_logloss: 0.748417\n",
      "[77]\tvalid_0's multi_logloss: 0.7483\n",
      "[78]\tvalid_0's multi_logloss: 0.747902\n",
      "[79]\tvalid_0's multi_logloss: 0.747426\n",
      "[80]\tvalid_0's multi_logloss: 0.746028\n",
      "[81]\tvalid_0's multi_logloss: 0.745385\n",
      "[82]\tvalid_0's multi_logloss: 0.744706\n",
      "[83]\tvalid_0's multi_logloss: 0.744296\n",
      "[84]\tvalid_0's multi_logloss: 0.743295\n",
      "[85]\tvalid_0's multi_logloss: 0.742363\n",
      "[86]\tvalid_0's multi_logloss: 0.741545\n",
      "[87]\tvalid_0's multi_logloss: 0.740616\n",
      "[88]\tvalid_0's multi_logloss: 0.739798\n",
      "[89]\tvalid_0's multi_logloss: 0.739257\n",
      "[90]\tvalid_0's multi_logloss: 0.738811\n",
      "[91]\tvalid_0's multi_logloss: 0.737438\n",
      "[92]\tvalid_0's multi_logloss: 0.736505\n",
      "[93]\tvalid_0's multi_logloss: 0.735475\n",
      "[94]\tvalid_0's multi_logloss: 0.734707\n",
      "[95]\tvalid_0's multi_logloss: 0.733776\n",
      "[96]\tvalid_0's multi_logloss: 0.7329\n",
      "[97]\tvalid_0's multi_logloss: 0.731992\n",
      "[98]\tvalid_0's multi_logloss: 0.731096\n",
      "[99]\tvalid_0's multi_logloss: 0.730967\n",
      "[100]\tvalid_0's multi_logloss: 0.730769\n",
      "[101]\tvalid_0's multi_logloss: 0.730046\n",
      "[102]\tvalid_0's multi_logloss: 0.729413\n",
      "[103]\tvalid_0's multi_logloss: 0.728689\n",
      "[104]\tvalid_0's multi_logloss: 0.728053\n",
      "[105]\tvalid_0's multi_logloss: 0.727544\n",
      "[106]\tvalid_0's multi_logloss: 0.726499\n",
      "[107]\tvalid_0's multi_logloss: 0.725134\n",
      "[108]\tvalid_0's multi_logloss: 0.724969\n",
      "[109]\tvalid_0's multi_logloss: 0.724247\n",
      "[110]\tvalid_0's multi_logloss: 0.723342\n",
      "[111]\tvalid_0's multi_logloss: 0.723018\n",
      "[112]\tvalid_0's multi_logloss: 0.722353\n",
      "[113]\tvalid_0's multi_logloss: 0.722326\n",
      "[114]\tvalid_0's multi_logloss: 0.721322\n",
      "[115]\tvalid_0's multi_logloss: 0.721029\n",
      "[116]\tvalid_0's multi_logloss: 0.720527\n",
      "[117]\tvalid_0's multi_logloss: 0.720071\n",
      "[118]\tvalid_0's multi_logloss: 0.719274\n",
      "[119]\tvalid_0's multi_logloss: 0.71884\n",
      "[120]\tvalid_0's multi_logloss: 0.719224\n",
      "[121]\tvalid_0's multi_logloss: 0.717928\n",
      "[122]\tvalid_0's multi_logloss: 0.717359\n",
      "[123]\tvalid_0's multi_logloss: 0.717038\n",
      "[124]\tvalid_0's multi_logloss: 0.716531\n",
      "[125]\tvalid_0's multi_logloss: 0.71582\n",
      "[126]\tvalid_0's multi_logloss: 0.714883\n",
      "[127]\tvalid_0's multi_logloss: 0.715047\n",
      "[128]\tvalid_0's multi_logloss: 0.714728\n",
      "[129]\tvalid_0's multi_logloss: 0.714465\n",
      "[130]\tvalid_0's multi_logloss: 0.71449\n",
      "[131]\tvalid_0's multi_logloss: 0.713962\n",
      "[132]\tvalid_0's multi_logloss: 0.713426\n",
      "[133]\tvalid_0's multi_logloss: 0.712648\n",
      "[134]\tvalid_0's multi_logloss: 0.711969\n",
      "[135]\tvalid_0's multi_logloss: 0.711099\n",
      "[136]\tvalid_0's multi_logloss: 0.710561\n",
      "[137]\tvalid_0's multi_logloss: 0.709964\n",
      "[138]\tvalid_0's multi_logloss: 0.709053\n",
      "[139]\tvalid_0's multi_logloss: 0.708632\n",
      "[140]\tvalid_0's multi_logloss: 0.70813\n",
      "[141]\tvalid_0's multi_logloss: 0.707373\n",
      "[142]\tvalid_0's multi_logloss: 0.706545\n",
      "[143]\tvalid_0's multi_logloss: 0.706079\n",
      "[144]\tvalid_0's multi_logloss: 0.705442\n",
      "[145]\tvalid_0's multi_logloss: 0.704719\n",
      "[146]\tvalid_0's multi_logloss: 0.704526\n",
      "[147]\tvalid_0's multi_logloss: 0.703691\n",
      "[148]\tvalid_0's multi_logloss: 0.70344\n",
      "[149]\tvalid_0's multi_logloss: 0.702722\n",
      "[150]\tvalid_0's multi_logloss: 0.702486\n",
      "[151]\tvalid_0's multi_logloss: 0.701586\n",
      "[152]\tvalid_0's multi_logloss: 0.700901\n",
      "[153]\tvalid_0's multi_logloss: 0.70007\n",
      "[154]\tvalid_0's multi_logloss: 0.69952\n",
      "[155]\tvalid_0's multi_logloss: 0.698643\n",
      "[156]\tvalid_0's multi_logloss: 0.698172\n",
      "[157]\tvalid_0's multi_logloss: 0.697524\n",
      "[158]\tvalid_0's multi_logloss: 0.696924\n",
      "[159]\tvalid_0's multi_logloss: 0.696318\n",
      "[160]\tvalid_0's multi_logloss: 0.695905\n",
      "[161]\tvalid_0's multi_logloss: 0.695452\n",
      "[162]\tvalid_0's multi_logloss: 0.694885\n",
      "[163]\tvalid_0's multi_logloss: 0.694399\n",
      "[164]\tvalid_0's multi_logloss: 0.693436\n",
      "[165]\tvalid_0's multi_logloss: 0.692607\n",
      "[166]\tvalid_0's multi_logloss: 0.691644\n",
      "[167]\tvalid_0's multi_logloss: 0.691021\n",
      "[168]\tvalid_0's multi_logloss: 0.690427\n",
      "[169]\tvalid_0's multi_logloss: 0.689922\n",
      "[170]\tvalid_0's multi_logloss: 0.689683\n",
      "[171]\tvalid_0's multi_logloss: 0.68914\n",
      "[172]\tvalid_0's multi_logloss: 0.688897\n",
      "[173]\tvalid_0's multi_logloss: 0.688416\n",
      "[174]\tvalid_0's multi_logloss: 0.687548\n",
      "[175]\tvalid_0's multi_logloss: 0.687566\n",
      "[176]\tvalid_0's multi_logloss: 0.68696\n",
      "[177]\tvalid_0's multi_logloss: 0.686563\n",
      "[178]\tvalid_0's multi_logloss: 0.685874\n",
      "[179]\tvalid_0's multi_logloss: 0.685507\n",
      "[180]\tvalid_0's multi_logloss: 0.685241\n",
      "[181]\tvalid_0's multi_logloss: 0.684845\n",
      "[182]\tvalid_0's multi_logloss: 0.684281\n",
      "[183]\tvalid_0's multi_logloss: 0.6837\n",
      "[184]\tvalid_0's multi_logloss: 0.68329\n",
      "[185]\tvalid_0's multi_logloss: 0.682803\n",
      "[186]\tvalid_0's multi_logloss: 0.682634\n",
      "[187]\tvalid_0's multi_logloss: 0.682414\n",
      "[188]\tvalid_0's multi_logloss: 0.682356\n",
      "[189]\tvalid_0's multi_logloss: 0.682236\n",
      "[190]\tvalid_0's multi_logloss: 0.68218\n",
      "[191]\tvalid_0's multi_logloss: 0.681889\n",
      "[192]\tvalid_0's multi_logloss: 0.681372\n",
      "[193]\tvalid_0's multi_logloss: 0.680866\n",
      "[194]\tvalid_0's multi_logloss: 0.680527\n",
      "[195]\tvalid_0's multi_logloss: 0.680249\n",
      "[196]\tvalid_0's multi_logloss: 0.680059\n",
      "[197]\tvalid_0's multi_logloss: 0.680109\n",
      "[198]\tvalid_0's multi_logloss: 0.6796\n",
      "[199]\tvalid_0's multi_logloss: 0.679645\n",
      "[200]\tvalid_0's multi_logloss: 0.679077\n",
      "[201]\tvalid_0's multi_logloss: 0.67854\n",
      "[202]\tvalid_0's multi_logloss: 0.6779\n",
      "[203]\tvalid_0's multi_logloss: 0.677154\n",
      "[204]\tvalid_0's multi_logloss: 0.676617\n",
      "[205]\tvalid_0's multi_logloss: 0.676193\n",
      "[206]\tvalid_0's multi_logloss: 0.675604\n",
      "[207]\tvalid_0's multi_logloss: 0.675173\n",
      "[208]\tvalid_0's multi_logloss: 0.675117\n",
      "[209]\tvalid_0's multi_logloss: 0.67464\n"
     ]
    },
    {
     "name": "stdout",
     "output_type": "stream",
     "text": [
      "[210]\tvalid_0's multi_logloss: 0.673949\n",
      "[211]\tvalid_0's multi_logloss: 0.673431\n",
      "[212]\tvalid_0's multi_logloss: 0.672807\n",
      "[213]\tvalid_0's multi_logloss: 0.672584\n",
      "[214]\tvalid_0's multi_logloss: 0.672366\n",
      "[215]\tvalid_0's multi_logloss: 0.671862\n",
      "[216]\tvalid_0's multi_logloss: 0.671396\n",
      "[217]\tvalid_0's multi_logloss: 0.670874\n",
      "[218]\tvalid_0's multi_logloss: 0.670717\n",
      "[219]\tvalid_0's multi_logloss: 0.67027\n",
      "[220]\tvalid_0's multi_logloss: 0.669705\n",
      "[221]\tvalid_0's multi_logloss: 0.668987\n",
      "[222]\tvalid_0's multi_logloss: 0.66869\n",
      "[223]\tvalid_0's multi_logloss: 0.668377\n",
      "[224]\tvalid_0's multi_logloss: 0.667924\n",
      "[225]\tvalid_0's multi_logloss: 0.667306\n",
      "[226]\tvalid_0's multi_logloss: 0.666905\n",
      "[227]\tvalid_0's multi_logloss: 0.666872\n",
      "[228]\tvalid_0's multi_logloss: 0.666447\n",
      "[229]\tvalid_0's multi_logloss: 0.665957\n",
      "[230]\tvalid_0's multi_logloss: 0.665386\n",
      "[231]\tvalid_0's multi_logloss: 0.665175\n",
      "[232]\tvalid_0's multi_logloss: 0.664987\n",
      "[233]\tvalid_0's multi_logloss: 0.665206\n",
      "[234]\tvalid_0's multi_logloss: 0.664633\n",
      "[235]\tvalid_0's multi_logloss: 0.664456\n",
      "[236]\tvalid_0's multi_logloss: 0.663825\n",
      "[237]\tvalid_0's multi_logloss: 0.663649\n",
      "[238]\tvalid_0's multi_logloss: 0.662909\n",
      "[239]\tvalid_0's multi_logloss: 0.662264\n",
      "[240]\tvalid_0's multi_logloss: 0.661916\n",
      "[241]\tvalid_0's multi_logloss: 0.661478\n",
      "[242]\tvalid_0's multi_logloss: 0.661216\n",
      "[243]\tvalid_0's multi_logloss: 0.660865\n",
      "[244]\tvalid_0's multi_logloss: 0.660596\n",
      "[245]\tvalid_0's multi_logloss: 0.660023\n",
      "[246]\tvalid_0's multi_logloss: 0.660273\n",
      "[247]\tvalid_0's multi_logloss: 0.66\n",
      "[248]\tvalid_0's multi_logloss: 0.659852\n",
      "[249]\tvalid_0's multi_logloss: 0.659342\n",
      "[250]\tvalid_0's multi_logloss: 0.659558\n",
      "[251]\tvalid_0's multi_logloss: 0.65908\n",
      "[252]\tvalid_0's multi_logloss: 0.658712\n",
      "[253]\tvalid_0's multi_logloss: 0.658743\n",
      "[254]\tvalid_0's multi_logloss: 0.658362\n",
      "[255]\tvalid_0's multi_logloss: 0.657651\n",
      "[256]\tvalid_0's multi_logloss: 0.657906\n",
      "[257]\tvalid_0's multi_logloss: 0.657282\n",
      "[258]\tvalid_0's multi_logloss: 0.656849\n",
      "[259]\tvalid_0's multi_logloss: 0.656354\n",
      "[260]\tvalid_0's multi_logloss: 0.655997\n",
      "[261]\tvalid_0's multi_logloss: 0.655723\n",
      "[262]\tvalid_0's multi_logloss: 0.655681\n",
      "[263]\tvalid_0's multi_logloss: 0.655179\n",
      "[264]\tvalid_0's multi_logloss: 0.654846\n",
      "[265]\tvalid_0's multi_logloss: 0.654325\n",
      "[266]\tvalid_0's multi_logloss: 0.654028\n",
      "[267]\tvalid_0's multi_logloss: 0.653539\n",
      "[268]\tvalid_0's multi_logloss: 0.653261\n",
      "[269]\tvalid_0's multi_logloss: 0.652493\n",
      "[270]\tvalid_0's multi_logloss: 0.652038\n",
      "[271]\tvalid_0's multi_logloss: 0.65156\n",
      "[272]\tvalid_0's multi_logloss: 0.651278\n",
      "[273]\tvalid_0's multi_logloss: 0.65099\n",
      "[274]\tvalid_0's multi_logloss: 0.65049\n",
      "[275]\tvalid_0's multi_logloss: 0.649854\n",
      "[276]\tvalid_0's multi_logloss: 0.64976\n",
      "[277]\tvalid_0's multi_logloss: 0.649487\n",
      "[278]\tvalid_0's multi_logloss: 0.648797\n",
      "[279]\tvalid_0's multi_logloss: 0.648555\n",
      "[280]\tvalid_0's multi_logloss: 0.648059\n",
      "[281]\tvalid_0's multi_logloss: 0.647835\n",
      "[282]\tvalid_0's multi_logloss: 0.647418\n",
      "[283]\tvalid_0's multi_logloss: 0.647203\n",
      "[284]\tvalid_0's multi_logloss: 0.646711\n",
      "[285]\tvalid_0's multi_logloss: 0.646377\n",
      "[286]\tvalid_0's multi_logloss: 0.64598\n",
      "[287]\tvalid_0's multi_logloss: 0.645679\n",
      "[288]\tvalid_0's multi_logloss: 0.645209\n",
      "[289]\tvalid_0's multi_logloss: 0.644867\n",
      "[290]\tvalid_0's multi_logloss: 0.644287\n",
      "[291]\tvalid_0's multi_logloss: 0.644056\n",
      "[292]\tvalid_0's multi_logloss: 0.64362\n",
      "[293]\tvalid_0's multi_logloss: 0.643376\n",
      "[294]\tvalid_0's multi_logloss: 0.643023\n",
      "[295]\tvalid_0's multi_logloss: 0.642671\n",
      "[296]\tvalid_0's multi_logloss: 0.642595\n",
      "[297]\tvalid_0's multi_logloss: 0.642354\n",
      "[298]\tvalid_0's multi_logloss: 0.64189\n",
      "[299]\tvalid_0's multi_logloss: 0.642327\n",
      "[300]\tvalid_0's multi_logloss: 0.642099\n",
      "[301]\tvalid_0's multi_logloss: 0.64193\n",
      "[302]\tvalid_0's multi_logloss: 0.6416\n",
      "[303]\tvalid_0's multi_logloss: 0.64168\n",
      "[304]\tvalid_0's multi_logloss: 0.641655\n",
      "[305]\tvalid_0's multi_logloss: 0.641216\n",
      "[306]\tvalid_0's multi_logloss: 0.641615\n",
      "[307]\tvalid_0's multi_logloss: 0.641156\n",
      "[308]\tvalid_0's multi_logloss: 0.640935\n",
      "[309]\tvalid_0's multi_logloss: 0.640647\n",
      "[310]\tvalid_0's multi_logloss: 0.640741\n",
      "[311]\tvalid_0's multi_logloss: 0.641023\n",
      "[312]\tvalid_0's multi_logloss: 0.641537\n",
      "[313]\tvalid_0's multi_logloss: 0.641229\n",
      "[314]\tvalid_0's multi_logloss: 0.641214\n",
      "[315]\tvalid_0's multi_logloss: 0.641602\n",
      "[316]\tvalid_0's multi_logloss: 0.640944\n",
      "[317]\tvalid_0's multi_logloss: 0.640507\n",
      "[318]\tvalid_0's multi_logloss: 0.640213\n",
      "[319]\tvalid_0's multi_logloss: 0.639808\n",
      "[320]\tvalid_0's multi_logloss: 0.640134\n",
      "[321]\tvalid_0's multi_logloss: 0.639635\n",
      "[322]\tvalid_0's multi_logloss: 0.639448\n",
      "[323]\tvalid_0's multi_logloss: 0.639187\n",
      "[324]\tvalid_0's multi_logloss: 0.638835\n",
      "[325]\tvalid_0's multi_logloss: 0.638601\n",
      "[326]\tvalid_0's multi_logloss: 0.638166\n",
      "[327]\tvalid_0's multi_logloss: 0.638104\n",
      "[328]\tvalid_0's multi_logloss: 0.638013\n",
      "[329]\tvalid_0's multi_logloss: 0.637552\n",
      "[330]\tvalid_0's multi_logloss: 0.637267\n",
      "[331]\tvalid_0's multi_logloss: 0.637194\n",
      "[332]\tvalid_0's multi_logloss: 0.636939\n",
      "[333]\tvalid_0's multi_logloss: 0.636407\n",
      "[334]\tvalid_0's multi_logloss: 0.635954\n",
      "[335]\tvalid_0's multi_logloss: 0.635569\n",
      "[336]\tvalid_0's multi_logloss: 0.635273\n",
      "[337]\tvalid_0's multi_logloss: 0.634843\n",
      "[338]\tvalid_0's multi_logloss: 0.634317\n",
      "[339]\tvalid_0's multi_logloss: 0.634115\n",
      "[340]\tvalid_0's multi_logloss: 0.63378\n",
      "[341]\tvalid_0's multi_logloss: 0.633605\n",
      "[342]\tvalid_0's multi_logloss: 0.633422\n",
      "[343]\tvalid_0's multi_logloss: 0.633025\n",
      "[344]\tvalid_0's multi_logloss: 0.632911\n",
      "[345]\tvalid_0's multi_logloss: 0.632639\n",
      "[346]\tvalid_0's multi_logloss: 0.632236\n",
      "[347]\tvalid_0's multi_logloss: 0.631985\n",
      "[348]\tvalid_0's multi_logloss: 0.631549\n",
      "[349]\tvalid_0's multi_logloss: 0.631011\n",
      "[350]\tvalid_0's multi_logloss: 0.63073\n",
      "[351]\tvalid_0's multi_logloss: 0.630414\n",
      "[352]\tvalid_0's multi_logloss: 0.630217\n",
      "[353]\tvalid_0's multi_logloss: 0.62996\n",
      "[354]\tvalid_0's multi_logloss: 0.629771\n",
      "[355]\tvalid_0's multi_logloss: 0.629608\n",
      "[356]\tvalid_0's multi_logloss: 0.629543\n",
      "[357]\tvalid_0's multi_logloss: 0.629099\n",
      "[358]\tvalid_0's multi_logloss: 0.628729\n",
      "[359]\tvalid_0's multi_logloss: 0.628316\n",
      "[360]\tvalid_0's multi_logloss: 0.628207\n",
      "[361]\tvalid_0's multi_logloss: 0.62758\n",
      "[362]\tvalid_0's multi_logloss: 0.627814\n",
      "[363]\tvalid_0's multi_logloss: 0.627555\n",
      "[364]\tvalid_0's multi_logloss: 0.627496\n",
      "[365]\tvalid_0's multi_logloss: 0.627214\n",
      "[366]\tvalid_0's multi_logloss: 0.626739\n",
      "[367]\tvalid_0's multi_logloss: 0.626667\n",
      "[368]\tvalid_0's multi_logloss: 0.62646\n",
      "[369]\tvalid_0's multi_logloss: 0.626059\n",
      "[370]\tvalid_0's multi_logloss: 0.625606\n",
      "[371]\tvalid_0's multi_logloss: 0.625385\n",
      "[372]\tvalid_0's multi_logloss: 0.625601\n",
      "[373]\tvalid_0's multi_logloss: 0.625467\n",
      "[374]\tvalid_0's multi_logloss: 0.625611\n",
      "[375]\tvalid_0's multi_logloss: 0.625428\n",
      "[376]\tvalid_0's multi_logloss: 0.625175\n",
      "[377]\tvalid_0's multi_logloss: 0.624793\n",
      "[378]\tvalid_0's multi_logloss: 0.624641\n",
      "[379]\tvalid_0's multi_logloss: 0.624506\n",
      "[380]\tvalid_0's multi_logloss: 0.624257\n",
      "[381]\tvalid_0's multi_logloss: 0.62387\n",
      "[382]\tvalid_0's multi_logloss: 0.62379\n",
      "[383]\tvalid_0's multi_logloss: 0.623694\n",
      "[384]\tvalid_0's multi_logloss: 0.623569\n",
      "[385]\tvalid_0's multi_logloss: 0.623064\n",
      "[386]\tvalid_0's multi_logloss: 0.622893\n",
      "[387]\tvalid_0's multi_logloss: 0.622482\n",
      "[388]\tvalid_0's multi_logloss: 0.622333\n",
      "[389]\tvalid_0's multi_logloss: 0.621958\n",
      "[390]\tvalid_0's multi_logloss: 0.621622\n",
      "[391]\tvalid_0's multi_logloss: 0.621251\n",
      "[392]\tvalid_0's multi_logloss: 0.621375\n",
      "[393]\tvalid_0's multi_logloss: 0.620942\n",
      "[394]\tvalid_0's multi_logloss: 0.620572\n",
      "[395]\tvalid_0's multi_logloss: 0.620295\n",
      "[396]\tvalid_0's multi_logloss: 0.620288\n",
      "[397]\tvalid_0's multi_logloss: 0.619941\n",
      "[398]\tvalid_0's multi_logloss: 0.619567\n",
      "[399]\tvalid_0's multi_logloss: 0.619428\n",
      "[400]\tvalid_0's multi_logloss: 0.618952\n",
      "[401]\tvalid_0's multi_logloss: 0.61855\n",
      "[402]\tvalid_0's multi_logloss: 0.618103\n",
      "[403]\tvalid_0's multi_logloss: 0.618041\n",
      "[404]\tvalid_0's multi_logloss: 0.618\n",
      "[405]\tvalid_0's multi_logloss: 0.618346\n",
      "[406]\tvalid_0's multi_logloss: 0.617933\n",
      "[407]\tvalid_0's multi_logloss: 0.617767\n",
      "[408]\tvalid_0's multi_logloss: 0.617576\n",
      "[409]\tvalid_0's multi_logloss: 0.617342\n",
      "[410]\tvalid_0's multi_logloss: 0.617007\n",
      "[411]\tvalid_0's multi_logloss: 0.616774\n",
      "[412]\tvalid_0's multi_logloss: 0.616603\n",
      "[413]\tvalid_0's multi_logloss: 0.61604\n",
      "[414]\tvalid_0's multi_logloss: 0.615566\n",
      "[415]\tvalid_0's multi_logloss: 0.615544\n",
      "[416]\tvalid_0's multi_logloss: 0.615263\n",
      "[417]\tvalid_0's multi_logloss: 0.61547\n",
      "[418]\tvalid_0's multi_logloss: 0.615536\n"
     ]
    },
    {
     "name": "stdout",
     "output_type": "stream",
     "text": [
      "[419]\tvalid_0's multi_logloss: 0.615157\n",
      "[420]\tvalid_0's multi_logloss: 0.615626\n",
      "[421]\tvalid_0's multi_logloss: 0.615551\n",
      "[422]\tvalid_0's multi_logloss: 0.615277\n",
      "[423]\tvalid_0's multi_logloss: 0.61503\n",
      "[424]\tvalid_0's multi_logloss: 0.614728\n",
      "[425]\tvalid_0's multi_logloss: 0.614763\n",
      "[426]\tvalid_0's multi_logloss: 0.614777\n",
      "[427]\tvalid_0's multi_logloss: 0.614687\n",
      "[428]\tvalid_0's multi_logloss: 0.614744\n",
      "[429]\tvalid_0's multi_logloss: 0.614739\n",
      "[430]\tvalid_0's multi_logloss: 0.614479\n",
      "[431]\tvalid_0's multi_logloss: 0.614343\n",
      "[432]\tvalid_0's multi_logloss: 0.614211\n",
      "[433]\tvalid_0's multi_logloss: 0.613945\n",
      "[434]\tvalid_0's multi_logloss: 0.613761\n",
      "[435]\tvalid_0's multi_logloss: 0.613613\n",
      "[436]\tvalid_0's multi_logloss: 0.613329\n",
      "[437]\tvalid_0's multi_logloss: 0.613296\n",
      "[438]\tvalid_0's multi_logloss: 0.613018\n",
      "[439]\tvalid_0's multi_logloss: 0.612869\n",
      "[440]\tvalid_0's multi_logloss: 0.61271\n",
      "[441]\tvalid_0's multi_logloss: 0.612574\n",
      "[442]\tvalid_0's multi_logloss: 0.612598\n",
      "[443]\tvalid_0's multi_logloss: 0.612392\n",
      "[444]\tvalid_0's multi_logloss: 0.611973\n",
      "[445]\tvalid_0's multi_logloss: 0.61183\n",
      "[446]\tvalid_0's multi_logloss: 0.611486\n",
      "[447]\tvalid_0's multi_logloss: 0.611226\n",
      "[448]\tvalid_0's multi_logloss: 0.610989\n",
      "[449]\tvalid_0's multi_logloss: 0.610571\n",
      "[450]\tvalid_0's multi_logloss: 0.610087\n",
      "[451]\tvalid_0's multi_logloss: 0.609995\n",
      "[452]\tvalid_0's multi_logloss: 0.609866\n",
      "[453]\tvalid_0's multi_logloss: 0.609567\n",
      "[454]\tvalid_0's multi_logloss: 0.609419\n",
      "[455]\tvalid_0's multi_logloss: 0.609195\n",
      "[456]\tvalid_0's multi_logloss: 0.609355\n",
      "[457]\tvalid_0's multi_logloss: 0.608972\n",
      "[458]\tvalid_0's multi_logloss: 0.608715\n",
      "[459]\tvalid_0's multi_logloss: 0.608886\n",
      "[460]\tvalid_0's multi_logloss: 0.608605\n",
      "[461]\tvalid_0's multi_logloss: 0.608643\n",
      "[462]\tvalid_0's multi_logloss: 0.608374\n",
      "[463]\tvalid_0's multi_logloss: 0.608448\n",
      "[464]\tvalid_0's multi_logloss: 0.608356\n",
      "[465]\tvalid_0's multi_logloss: 0.60806\n",
      "[466]\tvalid_0's multi_logloss: 0.608134\n",
      "[467]\tvalid_0's multi_logloss: 0.607924\n",
      "[468]\tvalid_0's multi_logloss: 0.608065\n",
      "[469]\tvalid_0's multi_logloss: 0.608026\n",
      "[470]\tvalid_0's multi_logloss: 0.607791\n",
      "[471]\tvalid_0's multi_logloss: 0.607464\n",
      "[472]\tvalid_0's multi_logloss: 0.607231\n",
      "[473]\tvalid_0's multi_logloss: 0.606865\n",
      "[474]\tvalid_0's multi_logloss: 0.607388\n",
      "[475]\tvalid_0's multi_logloss: 0.607061\n",
      "[476]\tvalid_0's multi_logloss: 0.607089\n",
      "[477]\tvalid_0's multi_logloss: 0.607005\n",
      "[478]\tvalid_0's multi_logloss: 0.606768\n",
      "[479]\tvalid_0's multi_logloss: 0.606566\n",
      "[480]\tvalid_0's multi_logloss: 0.606457\n",
      "[481]\tvalid_0's multi_logloss: 0.606176\n",
      "[482]\tvalid_0's multi_logloss: 0.606023\n",
      "[483]\tvalid_0's multi_logloss: 0.606066\n",
      "[484]\tvalid_0's multi_logloss: 0.605715\n",
      "[485]\tvalid_0's multi_logloss: 0.605348\n",
      "[486]\tvalid_0's multi_logloss: 0.605267\n",
      "[487]\tvalid_0's multi_logloss: 0.605261\n",
      "[488]\tvalid_0's multi_logloss: 0.604975\n",
      "[489]\tvalid_0's multi_logloss: 0.604679\n",
      "[490]\tvalid_0's multi_logloss: 0.604411\n",
      "[491]\tvalid_0's multi_logloss: 0.604252\n",
      "[492]\tvalid_0's multi_logloss: 0.603773\n",
      "[493]\tvalid_0's multi_logloss: 0.603419\n",
      "[494]\tvalid_0's multi_logloss: 0.603079\n",
      "[495]\tvalid_0's multi_logloss: 0.602718\n",
      "[496]\tvalid_0's multi_logloss: 0.602781\n",
      "[497]\tvalid_0's multi_logloss: 0.602355\n",
      "[498]\tvalid_0's multi_logloss: 0.602132\n",
      "[499]\tvalid_0's multi_logloss: 0.602061\n",
      "[500]\tvalid_0's multi_logloss: 0.601799\n",
      "[501]\tvalid_0's multi_logloss: 0.601493\n",
      "[502]\tvalid_0's multi_logloss: 0.601137\n",
      "[503]\tvalid_0's multi_logloss: 0.600917\n",
      "[504]\tvalid_0's multi_logloss: 0.600648\n",
      "[505]\tvalid_0's multi_logloss: 0.600509\n",
      "[506]\tvalid_0's multi_logloss: 0.600511\n",
      "[507]\tvalid_0's multi_logloss: 0.600353\n",
      "[508]\tvalid_0's multi_logloss: 0.60009\n",
      "[509]\tvalid_0's multi_logloss: 0.599887\n",
      "[510]\tvalid_0's multi_logloss: 0.599519\n",
      "[511]\tvalid_0's multi_logloss: 0.599284\n",
      "[512]\tvalid_0's multi_logloss: 0.59897\n",
      "[513]\tvalid_0's multi_logloss: 0.599481\n",
      "[514]\tvalid_0's multi_logloss: 0.599184\n",
      "[515]\tvalid_0's multi_logloss: 0.598871\n",
      "[516]\tvalid_0's multi_logloss: 0.598512\n",
      "[517]\tvalid_0's multi_logloss: 0.598162\n",
      "[518]\tvalid_0's multi_logloss: 0.597865\n",
      "[519]\tvalid_0's multi_logloss: 0.597616\n",
      "[520]\tvalid_0's multi_logloss: 0.597764\n",
      "[521]\tvalid_0's multi_logloss: 0.597764\n",
      "[522]\tvalid_0's multi_logloss: 0.597757\n",
      "[523]\tvalid_0's multi_logloss: 0.597586\n",
      "[524]\tvalid_0's multi_logloss: 0.59764\n",
      "[525]\tvalid_0's multi_logloss: 0.598033\n",
      "[526]\tvalid_0's multi_logloss: 0.597696\n",
      "[527]\tvalid_0's multi_logloss: 0.597617\n",
      "[528]\tvalid_0's multi_logloss: 0.597394\n",
      "[529]\tvalid_0's multi_logloss: 0.597332\n",
      "[530]\tvalid_0's multi_logloss: 0.597313\n",
      "[531]\tvalid_0's multi_logloss: 0.597469\n",
      "[532]\tvalid_0's multi_logloss: 0.59733\n",
      "[533]\tvalid_0's multi_logloss: 0.596992\n",
      "[534]\tvalid_0's multi_logloss: 0.596957\n",
      "[535]\tvalid_0's multi_logloss: 0.596705\n",
      "[536]\tvalid_0's multi_logloss: 0.596366\n",
      "[537]\tvalid_0's multi_logloss: 0.596188\n",
      "[538]\tvalid_0's multi_logloss: 0.596076\n",
      "[539]\tvalid_0's multi_logloss: 0.59596\n",
      "[540]\tvalid_0's multi_logloss: 0.595795\n",
      "[541]\tvalid_0's multi_logloss: 0.595982\n",
      "[542]\tvalid_0's multi_logloss: 0.595679\n",
      "[543]\tvalid_0's multi_logloss: 0.595449\n",
      "[544]\tvalid_0's multi_logloss: 0.59511\n",
      "[545]\tvalid_0's multi_logloss: 0.595124\n",
      "[546]\tvalid_0's multi_logloss: 0.594951\n",
      "[547]\tvalid_0's multi_logloss: 0.594913\n",
      "[548]\tvalid_0's multi_logloss: 0.594494\n",
      "[549]\tvalid_0's multi_logloss: 0.594584\n",
      "[550]\tvalid_0's multi_logloss: 0.594447\n",
      "[551]\tvalid_0's multi_logloss: 0.59431\n",
      "[552]\tvalid_0's multi_logloss: 0.594108\n",
      "[553]\tvalid_0's multi_logloss: 0.594091\n",
      "[554]\tvalid_0's multi_logloss: 0.593804\n",
      "[555]\tvalid_0's multi_logloss: 0.593844\n",
      "[556]\tvalid_0's multi_logloss: 0.593585\n",
      "[557]\tvalid_0's multi_logloss: 0.593564\n",
      "[558]\tvalid_0's multi_logloss: 0.593277\n",
      "[559]\tvalid_0's multi_logloss: 0.592818\n",
      "[560]\tvalid_0's multi_logloss: 0.592729\n",
      "[561]\tvalid_0's multi_logloss: 0.592547\n",
      "[562]\tvalid_0's multi_logloss: 0.592282\n",
      "[563]\tvalid_0's multi_logloss: 0.592039\n",
      "[564]\tvalid_0's multi_logloss: 0.591965\n",
      "[565]\tvalid_0's multi_logloss: 0.591855\n",
      "[566]\tvalid_0's multi_logloss: 0.591506\n",
      "[567]\tvalid_0's multi_logloss: 0.591196\n",
      "[568]\tvalid_0's multi_logloss: 0.590785\n",
      "[569]\tvalid_0's multi_logloss: 0.590517\n",
      "[570]\tvalid_0's multi_logloss: 0.590493\n",
      "[571]\tvalid_0's multi_logloss: 0.590173\n",
      "[572]\tvalid_0's multi_logloss: 0.589814\n",
      "[573]\tvalid_0's multi_logloss: 0.589779\n",
      "[574]\tvalid_0's multi_logloss: 0.59004\n",
      "[575]\tvalid_0's multi_logloss: 0.590503\n",
      "[576]\tvalid_0's multi_logloss: 0.590326\n",
      "[577]\tvalid_0's multi_logloss: 0.590062\n",
      "[578]\tvalid_0's multi_logloss: 0.590158\n",
      "[579]\tvalid_0's multi_logloss: 0.590032\n",
      "[580]\tvalid_0's multi_logloss: 0.590304\n",
      "[581]\tvalid_0's multi_logloss: 0.590433\n",
      "[582]\tvalid_0's multi_logloss: 0.590307\n",
      "[583]\tvalid_0's multi_logloss: 0.590382\n",
      "Early stopping, best iteration is:\n",
      "[573]\tvalid_0's multi_logloss: 0.589779\n"
     ]
    },
    {
     "data": {
      "text/plain": [
       "LGBMClassifier(learning_rate=0.05, max_depth=20, metric='multi_logloss',\n",
       "               min_data_in_leaf=30, n_estimators=800, num_leaves=128,\n",
       "               objective='multiclass')"
      ]
     },
     "execution_count": 141,
     "metadata": {},
     "output_type": "execute_result"
    }
   ],
   "source": [
    "lgbm = LGBMClassifier(learning_rate=0.05, max_depth=20, metric='multi_logloss',\n",
    "               min_data_in_leaf=30, n_estimators=800, num_leaves=128,\n",
    "               objective='multiclass')\n",
    "lgbm.fit(X_train_over, y_train_over, early_stopping_rounds = 10, eval_set = [(X_val.values, y_val)])"
   ]
  },
  {
   "cell_type": "code",
   "execution_count": 142,
   "id": "f0c7634e",
   "metadata": {
    "colab": {
     "base_uri": "https://localhost:8080/"
    },
    "executionInfo": {
     "elapsed": 3188,
     "status": "ok",
     "timestamp": 1638420025669,
     "user": {
      "displayName": "유상준",
      "photoUrl": "https://lh3.googleusercontent.com/a-/AOh14GjwhV3OPaZeVbcnb0L540CX4dtB2wGRfCVw4E8=s64",
      "userId": "06620102043085366517"
     },
     "user_tz": -540
    },
    "id": "9ZQ7aAPAWani",
    "outputId": "f242d448-0cc6-4bcf-f177-c3963d0114ee"
   },
   "outputs": [
    {
     "name": "stdout",
     "output_type": "stream",
     "text": [
      "==================================================\n",
      "Validataion set 예측 성능 평가\n",
      "              precision    recall  f1-score   support\n",
      "\n",
      "         0.0       0.86      0.71      0.78       644\n",
      "         1.0       0.89      0.81      0.85      1254\n",
      "         2.0       0.90      0.96      0.93      3393\n",
      "\n",
      "    accuracy                           0.89      5291\n",
      "   macro avg       0.88      0.83      0.85      5291\n",
      "weighted avg       0.89      0.89      0.89      5291\n",
      "\n",
      "[[ 459   34  151]\n",
      " [  34 1013  207]\n",
      " [  41   92 3260]]\n",
      "==================================================\n",
      "log_loss :  0.33594254081238784\n",
      "accuracy_score :  0.8943488943488943\n"
     ]
    }
   ],
   "source": [
    "from sklearn.metrics import log_loss, accuracy_score, classification_report, confusion_matrix\n",
    "\n",
    "print('='*50)\n",
    "print('Validataion set 예측 성능 평가')\n",
    "print(classification_report(y_val, lgbm.predict(X_val)))\n",
    "print(confusion_matrix(y_val, lgbm.predict(X_val)))\n",
    "print('='*50)\n",
    "print('log_loss : ',log_loss(y_val, lgbm.predict_proba(X_val)))\n",
    "print('accuracy_score : ', accuracy_score(y_val, lgbm.predict(X_val)))"
   ]
  },
  {
   "cell_type": "markdown",
   "id": "f4a82810",
   "metadata": {
    "id": "7HBo8j4FWdJl"
   },
   "source": [
    "- 확실히 oversampling 한 train set으로 학습시켰을때, log_loss 값이 훨씬 좋다\n",
    "- 하지만 같은 train data set에서 분리 된 validation set을 기반으로 계산한 log_loss 값이기에, 실제 test set에서의 성능이 좋지 않을 수도 있다.(overfitting)"
   ]
  },
  {
   "cell_type": "markdown",
   "id": "444e0fe3",
   "metadata": {
    "id": "Gxer6f-k9zJ2"
   },
   "source": [
    "##### y_test 예측 및 기록 (submission용 파일)"
   ]
  },
  {
   "cell_type": "code",
   "execution_count": 143,
   "id": "0d654de5",
   "metadata": {
    "colab": {
     "base_uri": "https://localhost:8080/",
     "height": 238
    },
    "executionInfo": {
     "elapsed": 471,
     "status": "ok",
     "timestamp": 1638424617647,
     "user": {
      "displayName": "유상준",
      "photoUrl": "https://lh3.googleusercontent.com/a-/AOh14GjwhV3OPaZeVbcnb0L540CX4dtB2wGRfCVw4E8=s64",
      "userId": "06620102043085366517"
     },
     "user_tz": -540
    },
    "id": "EtX8qzv0s_vH",
    "outputId": "74b95a76-f60f-4367-bd1f-58cc69c1b7a6"
   },
   "outputs": [
    {
     "data": {
      "text/html": [
       "<div>\n",
       "<style scoped>\n",
       "    .dataframe tbody tr th:only-of-type {\n",
       "        vertical-align: middle;\n",
       "    }\n",
       "\n",
       "    .dataframe tbody tr th {\n",
       "        vertical-align: top;\n",
       "    }\n",
       "\n",
       "    .dataframe thead th {\n",
       "        text-align: right;\n",
       "    }\n",
       "</style>\n",
       "<table border=\"1\" class=\"dataframe\">\n",
       "  <thead>\n",
       "    <tr style=\"text-align: right;\">\n",
       "      <th></th>\n",
       "      <th>0</th>\n",
       "      <th>1</th>\n",
       "      <th>2</th>\n",
       "    </tr>\n",
       "    <tr>\n",
       "      <th>index</th>\n",
       "      <th></th>\n",
       "      <th></th>\n",
       "      <th></th>\n",
       "    </tr>\n",
       "  </thead>\n",
       "  <tbody>\n",
       "    <tr>\n",
       "      <th>26457</th>\n",
       "      <td>0.080187</td>\n",
       "      <td>0.217057</td>\n",
       "      <td>0.702756</td>\n",
       "    </tr>\n",
       "    <tr>\n",
       "      <th>26458</th>\n",
       "      <td>0.041045</td>\n",
       "      <td>0.365034</td>\n",
       "      <td>0.593922</td>\n",
       "    </tr>\n",
       "    <tr>\n",
       "      <th>26459</th>\n",
       "      <td>0.050497</td>\n",
       "      <td>0.114418</td>\n",
       "      <td>0.835085</td>\n",
       "    </tr>\n",
       "    <tr>\n",
       "      <th>26460</th>\n",
       "      <td>0.355107</td>\n",
       "      <td>0.588669</td>\n",
       "      <td>0.056224</td>\n",
       "    </tr>\n",
       "    <tr>\n",
       "      <th>26461</th>\n",
       "      <td>0.146069</td>\n",
       "      <td>0.832218</td>\n",
       "      <td>0.021712</td>\n",
       "    </tr>\n",
       "  </tbody>\n",
       "</table>\n",
       "</div>"
      ],
      "text/plain": [
       "              0         1         2\n",
       "index                              \n",
       "26457  0.080187  0.217057  0.702756\n",
       "26458  0.041045  0.365034  0.593922\n",
       "26459  0.050497  0.114418  0.835085\n",
       "26460  0.355107  0.588669  0.056224\n",
       "26461  0.146069  0.832218  0.021712"
      ]
     },
     "execution_count": 143,
     "metadata": {},
     "output_type": "execute_result"
    }
   ],
   "source": [
    "lgbm_over_sample_submission = pd.DataFrame(lgbm.predict_proba(test), index = sample_submission.index)\n",
    "lgbm_over_sample_submission.to_csv('../data/신용카드/lgbm_over_sample_submission.csv')\n",
    "lgbm_over_sample_submission.head()"
   ]
  },
  {
   "cell_type": "markdown",
   "id": "309dc915",
   "metadata": {},
   "source": [
    "### feature_importance"
   ]
  },
  {
   "cell_type": "code",
   "execution_count": 144,
   "id": "9c83b2a1",
   "metadata": {},
   "outputs": [
    {
     "data": {
      "image/png": "[encoded data removed]",
      "text/plain": [
       "<Figure size 720x576 with 1 Axes>"
      ]
     },
     "metadata": {
      "needs_background": "light"
     },
     "output_type": "display_data"
    }
   ],
   "source": [
    "plot_feature_importance(lgbm.feature_importances_, X_val.columns, 'LGBM')"
   ]
  },
  {
   "cell_type": "markdown",
   "id": "45955f76",
   "metadata": {
    "id": "c4e2314f"
   },
   "source": [
    "# CatBoost"
   ]
  },
  {
   "cell_type": "code",
   "execution_count": 74,
   "id": "3192cff1",
   "metadata": {
    "collapsed": true,
    "id": "tuODnLhUYIWl"
   },
   "outputs": [
    {
     "name": "stdout",
     "output_type": "stream",
     "text": [
      "Collecting catboost\n",
      "  Downloading catboost-1.0.3-cp38-none-win_amd64.whl (77.4 MB)\n",
      "Requirement already satisfied: pandas>=0.24.0 in c:\\users\\ryu\\anaconda3\\envs\\ds_study\\lib\\site-packages (from catboost) (1.3.2)\n",
      "Requirement already satisfied: plotly in c:\\users\\ryu\\anaconda3\\envs\\ds_study\\lib\\site-packages (from catboost) (5.3.1)\n",
      "Requirement already satisfied: numpy>=1.16.0 in c:\\users\\ryu\\anaconda3\\envs\\ds_study\\lib\\site-packages (from catboost) (1.19.5)\n",
      "Requirement already satisfied: scipy in c:\\users\\ryu\\anaconda3\\envs\\ds_study\\lib\\site-packages (from catboost) (1.7.1)\n",
      "Collecting graphviz\n",
      "  Downloading graphviz-0.19-py3-none-any.whl (46 kB)\n",
      "Requirement already satisfied: matplotlib in c:\\users\\ryu\\anaconda3\\envs\\ds_study\\lib\\site-packages (from catboost) (3.4.2)\n",
      "Requirement already satisfied: six in c:\\users\\ryu\\anaconda3\\envs\\ds_study\\lib\\site-packages (from catboost) (1.16.0)\n",
      "Requirement already satisfied: pytz>=2017.3 in c:\\users\\ryu\\anaconda3\\envs\\ds_study\\lib\\site-packages (from pandas>=0.24.0->catboost) (2021.1)\n",
      "Requirement already satisfied: python-dateutil>=2.7.3 in c:\\users\\ryu\\anaconda3\\envs\\ds_study\\lib\\site-packages (from pandas>=0.24.0->catboost) (2.8.2)\n",
      "Requirement already satisfied: kiwisolver>=1.0.1 in c:\\users\\ryu\\anaconda3\\envs\\ds_study\\lib\\site-packages (from matplotlib->catboost) (1.3.1)\n",
      "Requirement already satisfied: pyparsing>=2.2.1 in c:\\users\\ryu\\anaconda3\\envs\\ds_study\\lib\\site-packages (from matplotlib->catboost) (2.4.7)\n",
      "Requirement already satisfied: pillow>=6.2.0 in c:\\users\\ryu\\anaconda3\\envs\\ds_study\\lib\\site-packages (from matplotlib->catboost) (8.3.1)\n",
      "Requirement already satisfied: cycler>=0.10 in c:\\users\\ryu\\anaconda3\\envs\\ds_study\\lib\\site-packages (from matplotlib->catboost) (0.10.0)\n",
      "Requirement already satisfied: tenacity>=6.2.0 in c:\\users\\ryu\\anaconda3\\envs\\ds_study\\lib\\site-packages (from plotly->catboost) (8.0.1)\n",
      "Installing collected packages: graphviz, catboost\n",
      "Successfully installed catboost-1.0.3 graphviz-0.19\n"
     ]
    }
   ],
   "source": [
    "!pip install catboost"
   ]
  },
  {
   "cell_type": "code",
   "execution_count": 75,
   "id": "32c333db",
   "metadata": {
    "executionInfo": {
     "elapsed": 543,
     "status": "ok",
     "timestamp": 1638418933153,
     "user": {
      "displayName": "유상준",
      "photoUrl": "https://lh3.googleusercontent.com/a-/AOh14GjwhV3OPaZeVbcnb0L540CX4dtB2wGRfCVw4E8=s64",
      "userId": "06620102043085366517"
     },
     "user_tz": -540
    },
    "id": "3db681b3"
   },
   "outputs": [],
   "source": [
    "from catboost import CatBoostClassifier"
   ]
  },
  {
   "cell_type": "markdown",
   "id": "38a99b80",
   "metadata": {
    "id": "d139a2b8"
   },
   "source": [
    "### Catboost algorithm이 선택한 최적 하이퍼 파라미터"
   ]
  },
  {
   "cell_type": "markdown",
   "id": "40509344",
   "metadata": {
    "id": "59cf70b4"
   },
   "source": [
    "#### oversampling X"
   ]
  },
  {
   "cell_type": "code",
   "execution_count": 76,
   "id": "0d7a58b1",
   "metadata": {
    "id": "5c96e987",
    "scrolled": true
   },
   "outputs": [
    {
     "name": "stdout",
     "output_type": "stream",
     "text": [
      "Learning rate set to 0.111638\n",
      "0:\tlearn: 1.0365764\ttotal: 200ms\tremaining: 2m 39s\n",
      "1:\tlearn: 0.9900200\ttotal: 367ms\tremaining: 2m 26s\n",
      "2:\tlearn: 0.9539036\ttotal: 555ms\tremaining: 2m 27s\n",
      "3:\tlearn: 0.9258897\ttotal: 718ms\tremaining: 2m 22s\n",
      "4:\tlearn: 0.9034575\ttotal: 821ms\tremaining: 2m 10s\n",
      "5:\tlearn: 0.8855502\ttotal: 1.04s\tremaining: 2m 18s\n",
      "6:\tlearn: 0.8713290\ttotal: 1.37s\tremaining: 2m 35s\n",
      "7:\tlearn: 0.8597411\ttotal: 1.71s\tremaining: 2m 49s\n",
      "8:\tlearn: 0.8503055\ttotal: 1.92s\tremaining: 2m 48s\n",
      "9:\tlearn: 0.8426225\ttotal: 1.99s\tremaining: 2m 37s\n",
      "10:\tlearn: 0.8364962\ttotal: 2.32s\tremaining: 2m 46s\n",
      "11:\tlearn: 0.8316253\ttotal: 2.47s\tremaining: 2m 42s\n",
      "12:\tlearn: 0.8272675\ttotal: 2.55s\tremaining: 2m 34s\n",
      "13:\tlearn: 0.8241863\ttotal: 2.7s\tremaining: 2m 31s\n",
      "14:\tlearn: 0.8216753\ttotal: 2.83s\tremaining: 2m 28s\n",
      "15:\tlearn: 0.8194984\ttotal: 2.89s\tremaining: 2m 21s\n",
      "16:\tlearn: 0.8175049\ttotal: 3.04s\tremaining: 2m 20s\n",
      "17:\tlearn: 0.8162001\ttotal: 3.2s\tremaining: 2m 19s\n",
      "18:\tlearn: 0.8145220\ttotal: 3.45s\tremaining: 2m 21s\n",
      "19:\tlearn: 0.8135799\ttotal: 3.58s\tremaining: 2m 19s\n",
      "20:\tlearn: 0.8120616\ttotal: 3.72s\tremaining: 2m 18s\n",
      "21:\tlearn: 0.8109427\ttotal: 3.85s\tremaining: 2m 16s\n",
      "22:\tlearn: 0.8099194\ttotal: 4.03s\tremaining: 2m 16s\n",
      "23:\tlearn: 0.8090947\ttotal: 4.17s\tremaining: 2m 14s\n",
      "24:\tlearn: 0.8082183\ttotal: 4.32s\tremaining: 2m 13s\n",
      "25:\tlearn: 0.8078210\ttotal: 4.5s\tremaining: 2m 13s\n",
      "26:\tlearn: 0.8074187\ttotal: 4.63s\tremaining: 2m 12s\n",
      "27:\tlearn: 0.8064064\ttotal: 4.76s\tremaining: 2m 11s\n",
      "28:\tlearn: 0.8057208\ttotal: 4.93s\tremaining: 2m 11s\n",
      "29:\tlearn: 0.8054130\ttotal: 5.08s\tremaining: 2m 10s\n",
      "30:\tlearn: 0.8050304\ttotal: 5.21s\tremaining: 2m 9s\n",
      "31:\tlearn: 0.8044300\ttotal: 5.34s\tremaining: 2m 8s\n",
      "32:\tlearn: 0.8041171\ttotal: 5.47s\tremaining: 2m 7s\n",
      "33:\tlearn: 0.8035022\ttotal: 5.71s\tremaining: 2m 8s\n",
      "34:\tlearn: 0.8026485\ttotal: 5.84s\tremaining: 2m 7s\n",
      "35:\tlearn: 0.8022044\ttotal: 5.99s\tremaining: 2m 7s\n",
      "36:\tlearn: 0.8021229\ttotal: 6.11s\tremaining: 2m 5s\n",
      "37:\tlearn: 0.8017395\ttotal: 6.28s\tremaining: 2m 5s\n",
      "38:\tlearn: 0.8012047\ttotal: 6.45s\tremaining: 2m 5s\n",
      "39:\tlearn: 0.8008891\ttotal: 6.6s\tremaining: 2m 5s\n",
      "40:\tlearn: 0.8008468\ttotal: 6.69s\tremaining: 2m 3s\n",
      "41:\tlearn: 0.8005255\ttotal: 6.86s\tremaining: 2m 3s\n",
      "42:\tlearn: 0.8004382\ttotal: 7.01s\tremaining: 2m 3s\n",
      "43:\tlearn: 0.8000084\ttotal: 7.16s\tremaining: 2m 2s\n",
      "44:\tlearn: 0.7998985\ttotal: 7.21s\tremaining: 2m 1s\n",
      "45:\tlearn: 0.7995171\ttotal: 7.34s\tremaining: 2m\n",
      "46:\tlearn: 0.7991919\ttotal: 7.51s\tremaining: 2m\n",
      "47:\tlearn: 0.7987477\ttotal: 7.66s\tremaining: 2m\n",
      "48:\tlearn: 0.7980813\ttotal: 7.89s\tremaining: 2m\n",
      "49:\tlearn: 0.7976809\ttotal: 8.04s\tremaining: 2m\n",
      "50:\tlearn: 0.7973526\ttotal: 8.16s\tremaining: 1m 59s\n",
      "51:\tlearn: 0.7971878\ttotal: 8.3s\tremaining: 1m 59s\n",
      "52:\tlearn: 0.7968261\ttotal: 8.44s\tremaining: 1m 58s\n",
      "53:\tlearn: 0.7964997\ttotal: 8.57s\tremaining: 1m 58s\n",
      "54:\tlearn: 0.7958627\ttotal: 8.74s\tremaining: 1m 58s\n",
      "55:\tlearn: 0.7954537\ttotal: 8.97s\tremaining: 1m 59s\n",
      "56:\tlearn: 0.7953765\ttotal: 9.12s\tremaining: 1m 58s\n",
      "57:\tlearn: 0.7950443\ttotal: 9.25s\tremaining: 1m 58s\n",
      "58:\tlearn: 0.7945461\ttotal: 9.38s\tremaining: 1m 57s\n",
      "59:\tlearn: 0.7944650\ttotal: 9.59s\tremaining: 1m 58s\n",
      "60:\tlearn: 0.7942706\ttotal: 9.77s\tremaining: 1m 58s\n",
      "61:\tlearn: 0.7934422\ttotal: 9.92s\tremaining: 1m 58s\n",
      "62:\tlearn: 0.7932769\ttotal: 10.1s\tremaining: 1m 58s\n",
      "63:\tlearn: 0.7928828\ttotal: 10.3s\tremaining: 1m 58s\n",
      "64:\tlearn: 0.7927547\ttotal: 10.5s\tremaining: 1m 58s\n",
      "65:\tlearn: 0.7925500\ttotal: 10.6s\tremaining: 1m 58s\n",
      "66:\tlearn: 0.7923598\ttotal: 10.8s\tremaining: 1m 57s\n",
      "67:\tlearn: 0.7919757\ttotal: 11s\tremaining: 1m 57s\n",
      "68:\tlearn: 0.7914386\ttotal: 11.1s\tremaining: 1m 57s\n",
      "69:\tlearn: 0.7909727\ttotal: 11.4s\tremaining: 1m 58s\n",
      "70:\tlearn: 0.7907091\ttotal: 11.5s\tremaining: 1m 58s\n",
      "71:\tlearn: 0.7903256\ttotal: 11.7s\tremaining: 1m 57s\n",
      "72:\tlearn: 0.7901985\ttotal: 11.8s\tremaining: 1m 57s\n",
      "73:\tlearn: 0.7899188\ttotal: 12s\tremaining: 1m 57s\n",
      "74:\tlearn: 0.7895874\ttotal: 12.1s\tremaining: 1m 57s\n",
      "75:\tlearn: 0.7895631\ttotal: 12.2s\tremaining: 1m 56s\n",
      "76:\tlearn: 0.7891902\ttotal: 12.4s\tremaining: 1m 56s\n",
      "77:\tlearn: 0.7890690\ttotal: 12.5s\tremaining: 1m 55s\n",
      "78:\tlearn: 0.7882323\ttotal: 12.7s\tremaining: 1m 55s\n",
      "79:\tlearn: 0.7880414\ttotal: 12.9s\tremaining: 1m 56s\n",
      "80:\tlearn: 0.7879724\ttotal: 13s\tremaining: 1m 55s\n",
      "81:\tlearn: 0.7876781\ttotal: 13.2s\tremaining: 1m 55s\n",
      "82:\tlearn: 0.7869051\ttotal: 13.4s\tremaining: 1m 55s\n",
      "83:\tlearn: 0.7867114\ttotal: 13.5s\tremaining: 1m 55s\n",
      "84:\tlearn: 0.7865765\ttotal: 13.7s\tremaining: 1m 55s\n",
      "85:\tlearn: 0.7859516\ttotal: 13.8s\tremaining: 1m 54s\n",
      "86:\tlearn: 0.7853801\ttotal: 14s\tremaining: 1m 54s\n",
      "87:\tlearn: 0.7849946\ttotal: 14.1s\tremaining: 1m 54s\n",
      "88:\tlearn: 0.7845074\ttotal: 14.3s\tremaining: 1m 54s\n",
      "89:\tlearn: 0.7843252\ttotal: 14.4s\tremaining: 1m 53s\n",
      "90:\tlearn: 0.7837394\ttotal: 14.7s\tremaining: 1m 54s\n",
      "91:\tlearn: 0.7831937\ttotal: 14.8s\tremaining: 1m 54s\n",
      "92:\tlearn: 0.7827071\ttotal: 15.1s\tremaining: 1m 54s\n",
      "93:\tlearn: 0.7826308\ttotal: 15.3s\tremaining: 1m 55s\n",
      "94:\tlearn: 0.7819271\ttotal: 15.5s\tremaining: 1m 55s\n",
      "95:\tlearn: 0.7813683\ttotal: 15.7s\tremaining: 1m 55s\n",
      "96:\tlearn: 0.7811817\ttotal: 15.9s\tremaining: 1m 55s\n",
      "97:\tlearn: 0.7807070\ttotal: 16.1s\tremaining: 1m 55s\n",
      "98:\tlearn: 0.7803715\ttotal: 16.4s\tremaining: 1m 55s\n",
      "99:\tlearn: 0.7801138\ttotal: 16.6s\tremaining: 1m 55s\n",
      "100:\tlearn: 0.7797166\ttotal: 16.8s\tremaining: 1m 56s\n",
      "101:\tlearn: 0.7794766\ttotal: 17s\tremaining: 1m 56s\n",
      "102:\tlearn: 0.7792081\ttotal: 17.1s\tremaining: 1m 55s\n",
      "103:\tlearn: 0.7789146\ttotal: 17.3s\tremaining: 1m 55s\n",
      "104:\tlearn: 0.7781674\ttotal: 17.4s\tremaining: 1m 55s\n",
      "105:\tlearn: 0.7779032\ttotal: 17.6s\tremaining: 1m 55s\n",
      "106:\tlearn: 0.7775308\ttotal: 17.7s\tremaining: 1m 54s\n",
      "107:\tlearn: 0.7770010\ttotal: 18s\tremaining: 1m 55s\n",
      "108:\tlearn: 0.7768845\ttotal: 18.2s\tremaining: 1m 55s\n",
      "109:\tlearn: 0.7767473\ttotal: 18.4s\tremaining: 1m 55s\n",
      "110:\tlearn: 0.7766072\ttotal: 18.5s\tremaining: 1m 54s\n",
      "111:\tlearn: 0.7760852\ttotal: 18.7s\tremaining: 1m 54s\n",
      "112:\tlearn: 0.7755773\ttotal: 18.8s\tremaining: 1m 54s\n",
      "113:\tlearn: 0.7751529\ttotal: 19s\tremaining: 1m 54s\n",
      "114:\tlearn: 0.7749564\ttotal: 19.3s\tremaining: 1m 54s\n",
      "115:\tlearn: 0.7746209\ttotal: 19.4s\tremaining: 1m 54s\n",
      "116:\tlearn: 0.7739131\ttotal: 19.6s\tremaining: 1m 54s\n",
      "117:\tlearn: 0.7734591\ttotal: 19.7s\tremaining: 1m 54s\n",
      "118:\tlearn: 0.7727884\ttotal: 19.9s\tremaining: 1m 53s\n",
      "119:\tlearn: 0.7725536\ttotal: 20s\tremaining: 1m 53s\n",
      "120:\tlearn: 0.7722838\ttotal: 20.2s\tremaining: 1m 53s\n",
      "121:\tlearn: 0.7719600\ttotal: 20.4s\tremaining: 1m 53s\n",
      "122:\tlearn: 0.7716121\ttotal: 20.5s\tremaining: 1m 52s\n",
      "123:\tlearn: 0.7711878\ttotal: 20.7s\tremaining: 1m 52s\n",
      "124:\tlearn: 0.7708854\ttotal: 20.8s\tremaining: 1m 52s\n",
      "125:\tlearn: 0.7705026\ttotal: 21s\tremaining: 1m 52s\n",
      "126:\tlearn: 0.7695381\ttotal: 21.1s\tremaining: 1m 51s\n",
      "127:\tlearn: 0.7691054\ttotal: 21.5s\tremaining: 1m 52s\n",
      "128:\tlearn: 0.7686028\ttotal: 21.8s\tremaining: 1m 53s\n",
      "129:\tlearn: 0.7683160\ttotal: 22s\tremaining: 1m 53s\n",
      "130:\tlearn: 0.7680571\ttotal: 22.2s\tremaining: 1m 53s\n",
      "131:\tlearn: 0.7672219\ttotal: 22.5s\tremaining: 1m 53s\n",
      "132:\tlearn: 0.7667427\ttotal: 22.7s\tremaining: 1m 53s\n",
      "133:\tlearn: 0.7663326\ttotal: 22.9s\tremaining: 1m 53s\n",
      "134:\tlearn: 0.7659220\ttotal: 23.1s\tremaining: 1m 53s\n",
      "135:\tlearn: 0.7653522\ttotal: 23.4s\tremaining: 1m 54s\n",
      "136:\tlearn: 0.7650983\ttotal: 23.7s\tremaining: 1m 54s\n",
      "137:\tlearn: 0.7648281\ttotal: 23.9s\tremaining: 1m 54s\n",
      "138:\tlearn: 0.7644303\ttotal: 24.1s\tremaining: 1m 54s\n",
      "139:\tlearn: 0.7639941\ttotal: 24.3s\tremaining: 1m 54s\n",
      "140:\tlearn: 0.7630898\ttotal: 24.5s\tremaining: 1m 54s\n",
      "141:\tlearn: 0.7629341\ttotal: 24.6s\tremaining: 1m 54s\n",
      "142:\tlearn: 0.7623401\ttotal: 24.8s\tremaining: 1m 54s\n",
      "143:\tlearn: 0.7619068\ttotal: 25s\tremaining: 1m 53s\n",
      "144:\tlearn: 0.7610393\ttotal: 25.1s\tremaining: 1m 53s\n",
      "145:\tlearn: 0.7608897\ttotal: 25.3s\tremaining: 1m 53s\n",
      "146:\tlearn: 0.7605172\ttotal: 25.4s\tremaining: 1m 52s\n",
      "147:\tlearn: 0.7600044\ttotal: 25.6s\tremaining: 1m 52s\n",
      "148:\tlearn: 0.7597034\ttotal: 25.7s\tremaining: 1m 52s\n",
      "149:\tlearn: 0.7593846\ttotal: 26s\tremaining: 1m 52s\n",
      "150:\tlearn: 0.7589730\ttotal: 26.2s\tremaining: 1m 52s\n",
      "151:\tlearn: 0.7585702\ttotal: 26.4s\tremaining: 1m 52s\n",
      "152:\tlearn: 0.7583884\ttotal: 26.5s\tremaining: 1m 52s\n",
      "153:\tlearn: 0.7580604\ttotal: 26.7s\tremaining: 1m 51s\n",
      "154:\tlearn: 0.7578121\ttotal: 26.8s\tremaining: 1m 51s\n",
      "155:\tlearn: 0.7576423\ttotal: 27s\tremaining: 1m 51s\n",
      "156:\tlearn: 0.7574108\ttotal: 27.2s\tremaining: 1m 51s\n",
      "157:\tlearn: 0.7571537\ttotal: 27.3s\tremaining: 1m 51s\n",
      "158:\tlearn: 0.7566402\ttotal: 27.5s\tremaining: 1m 50s\n"
     ]
    },
    {
     "name": "stdout",
     "output_type": "stream",
     "text": [
      "159:\tlearn: 0.7559914\ttotal: 27.6s\tremaining: 1m 50s\n",
      "160:\tlearn: 0.7555041\ttotal: 27.8s\tremaining: 1m 50s\n",
      "161:\tlearn: 0.7552884\ttotal: 28.1s\tremaining: 1m 50s\n",
      "162:\tlearn: 0.7549761\ttotal: 28.3s\tremaining: 1m 50s\n",
      "163:\tlearn: 0.7543057\ttotal: 28.5s\tremaining: 1m 50s\n",
      "164:\tlearn: 0.7539327\ttotal: 28.7s\tremaining: 1m 50s\n",
      "165:\tlearn: 0.7536124\ttotal: 28.9s\tremaining: 1m 50s\n",
      "166:\tlearn: 0.7534519\ttotal: 29s\tremaining: 1m 49s\n",
      "167:\tlearn: 0.7532835\ttotal: 29.1s\tremaining: 1m 49s\n",
      "168:\tlearn: 0.7531582\ttotal: 29.3s\tremaining: 1m 49s\n",
      "169:\tlearn: 0.7529932\ttotal: 29.5s\tremaining: 1m 49s\n",
      "170:\tlearn: 0.7526450\ttotal: 29.6s\tremaining: 1m 49s\n",
      "171:\tlearn: 0.7522027\ttotal: 29.8s\tremaining: 1m 48s\n",
      "172:\tlearn: 0.7518607\ttotal: 30s\tremaining: 1m 48s\n",
      "173:\tlearn: 0.7516527\ttotal: 30.1s\tremaining: 1m 48s\n",
      "174:\tlearn: 0.7510646\ttotal: 30.3s\tremaining: 1m 48s\n",
      "175:\tlearn: 0.7508288\ttotal: 30.6s\tremaining: 1m 48s\n",
      "176:\tlearn: 0.7505357\ttotal: 30.7s\tremaining: 1m 48s\n",
      "177:\tlearn: 0.7501524\ttotal: 30.9s\tremaining: 1m 47s\n",
      "178:\tlearn: 0.7497199\ttotal: 31s\tremaining: 1m 47s\n",
      "179:\tlearn: 0.7494498\ttotal: 31.2s\tremaining: 1m 47s\n",
      "180:\tlearn: 0.7492778\ttotal: 31.3s\tremaining: 1m 47s\n",
      "181:\tlearn: 0.7487951\ttotal: 31.5s\tremaining: 1m 47s\n",
      "182:\tlearn: 0.7484931\ttotal: 31.7s\tremaining: 1m 46s\n",
      "183:\tlearn: 0.7481285\ttotal: 31.8s\tremaining: 1m 46s\n",
      "184:\tlearn: 0.7478643\ttotal: 32s\tremaining: 1m 46s\n",
      "185:\tlearn: 0.7474114\ttotal: 32.2s\tremaining: 1m 46s\n",
      "186:\tlearn: 0.7470650\ttotal: 32.4s\tremaining: 1m 46s\n",
      "187:\tlearn: 0.7468684\ttotal: 32.5s\tremaining: 1m 45s\n",
      "188:\tlearn: 0.7467217\ttotal: 32.7s\tremaining: 1m 45s\n",
      "189:\tlearn: 0.7466381\ttotal: 32.9s\tremaining: 1m 45s\n",
      "190:\tlearn: 0.7461479\ttotal: 33s\tremaining: 1m 45s\n",
      "191:\tlearn: 0.7456537\ttotal: 33.2s\tremaining: 1m 45s\n",
      "192:\tlearn: 0.7453920\ttotal: 33.3s\tremaining: 1m 44s\n",
      "193:\tlearn: 0.7452441\ttotal: 33.5s\tremaining: 1m 44s\n",
      "194:\tlearn: 0.7450409\ttotal: 33.7s\tremaining: 1m 44s\n",
      "195:\tlearn: 0.7447895\ttotal: 33.9s\tremaining: 1m 44s\n",
      "196:\tlearn: 0.7446252\ttotal: 34s\tremaining: 1m 44s\n",
      "197:\tlearn: 0.7441690\ttotal: 34.2s\tremaining: 1m 43s\n",
      "198:\tlearn: 0.7440091\ttotal: 34.3s\tremaining: 1m 43s\n",
      "199:\tlearn: 0.7436647\ttotal: 34.5s\tremaining: 1m 43s\n",
      "200:\tlearn: 0.7436028\ttotal: 34.6s\tremaining: 1m 43s\n",
      "201:\tlearn: 0.7431601\ttotal: 34.8s\tremaining: 1m 42s\n",
      "202:\tlearn: 0.7429271\ttotal: 35s\tremaining: 1m 42s\n",
      "203:\tlearn: 0.7422191\ttotal: 35.1s\tremaining: 1m 42s\n",
      "204:\tlearn: 0.7417283\ttotal: 35.3s\tremaining: 1m 42s\n",
      "205:\tlearn: 0.7416047\ttotal: 35.5s\tremaining: 1m 42s\n",
      "206:\tlearn: 0.7412433\ttotal: 35.8s\tremaining: 1m 42s\n",
      "207:\tlearn: 0.7411227\ttotal: 36s\tremaining: 1m 42s\n",
      "208:\tlearn: 0.7405852\ttotal: 36.4s\tremaining: 1m 42s\n",
      "209:\tlearn: 0.7403894\ttotal: 36.6s\tremaining: 1m 42s\n",
      "210:\tlearn: 0.7402383\ttotal: 36.8s\tremaining: 1m 42s\n",
      "211:\tlearn: 0.7397570\ttotal: 37s\tremaining: 1m 42s\n",
      "212:\tlearn: 0.7394984\ttotal: 37.3s\tremaining: 1m 42s\n",
      "213:\tlearn: 0.7389956\ttotal: 37.5s\tremaining: 1m 42s\n",
      "214:\tlearn: 0.7384698\ttotal: 37.7s\tremaining: 1m 42s\n",
      "215:\tlearn: 0.7381928\ttotal: 37.8s\tremaining: 1m 42s\n",
      "216:\tlearn: 0.7379343\ttotal: 38s\tremaining: 1m 42s\n",
      "217:\tlearn: 0.7374809\ttotal: 38.1s\tremaining: 1m 41s\n",
      "218:\tlearn: 0.7373290\ttotal: 38.4s\tremaining: 1m 41s\n",
      "219:\tlearn: 0.7368075\ttotal: 38.6s\tremaining: 1m 41s\n",
      "220:\tlearn: 0.7364543\ttotal: 38.8s\tremaining: 1m 41s\n",
      "221:\tlearn: 0.7360960\ttotal: 39s\tremaining: 1m 41s\n",
      "222:\tlearn: 0.7358948\ttotal: 39.2s\tremaining: 1m 41s\n",
      "223:\tlearn: 0.7357591\ttotal: 39.4s\tremaining: 1m 41s\n",
      "224:\tlearn: 0.7356010\ttotal: 39.7s\tremaining: 1m 41s\n",
      "225:\tlearn: 0.7353118\ttotal: 39.9s\tremaining: 1m 41s\n",
      "226:\tlearn: 0.7351011\ttotal: 40.2s\tremaining: 1m 41s\n",
      "227:\tlearn: 0.7345894\ttotal: 40.3s\tremaining: 1m 41s\n",
      "228:\tlearn: 0.7344780\ttotal: 40.5s\tremaining: 1m 40s\n",
      "229:\tlearn: 0.7342386\ttotal: 40.8s\tremaining: 1m 41s\n",
      "230:\tlearn: 0.7340899\ttotal: 40.9s\tremaining: 1m 40s\n",
      "231:\tlearn: 0.7333923\ttotal: 41.1s\tremaining: 1m 40s\n",
      "232:\tlearn: 0.7325822\ttotal: 41.2s\tremaining: 1m 40s\n",
      "233:\tlearn: 0.7324247\ttotal: 41.4s\tremaining: 1m 40s\n",
      "234:\tlearn: 0.7322389\ttotal: 41.6s\tremaining: 1m 40s\n",
      "235:\tlearn: 0.7318479\ttotal: 41.9s\tremaining: 1m 40s\n",
      "236:\tlearn: 0.7315523\ttotal: 42.1s\tremaining: 1m 39s\n",
      "237:\tlearn: 0.7311382\ttotal: 42.3s\tremaining: 1m 39s\n",
      "238:\tlearn: 0.7309371\ttotal: 42.5s\tremaining: 1m 39s\n",
      "239:\tlearn: 0.7304374\ttotal: 42.6s\tremaining: 1m 39s\n",
      "240:\tlearn: 0.7301691\ttotal: 42.8s\tremaining: 1m 39s\n",
      "241:\tlearn: 0.7299523\ttotal: 43.1s\tremaining: 1m 39s\n",
      "242:\tlearn: 0.7296714\ttotal: 43.2s\tremaining: 1m 39s\n",
      "243:\tlearn: 0.7293351\ttotal: 43.4s\tremaining: 1m 38s\n",
      "244:\tlearn: 0.7284891\ttotal: 43.6s\tremaining: 1m 38s\n",
      "245:\tlearn: 0.7281911\ttotal: 43.7s\tremaining: 1m 38s\n",
      "246:\tlearn: 0.7277161\ttotal: 43.9s\tremaining: 1m 38s\n",
      "247:\tlearn: 0.7273779\ttotal: 44.2s\tremaining: 1m 38s\n",
      "248:\tlearn: 0.7268395\ttotal: 44.3s\tremaining: 1m 38s\n",
      "249:\tlearn: 0.7266537\ttotal: 44.5s\tremaining: 1m 37s\n",
      "250:\tlearn: 0.7261365\ttotal: 44.6s\tremaining: 1m 37s\n",
      "251:\tlearn: 0.7259751\ttotal: 44.8s\tremaining: 1m 37s\n",
      "252:\tlearn: 0.7256140\ttotal: 44.9s\tremaining: 1m 37s\n",
      "253:\tlearn: 0.7254760\ttotal: 45.1s\tremaining: 1m 36s\n",
      "254:\tlearn: 0.7252303\ttotal: 45.3s\tremaining: 1m 36s\n",
      "255:\tlearn: 0.7250996\ttotal: 45.5s\tremaining: 1m 36s\n",
      "256:\tlearn: 0.7248689\ttotal: 45.7s\tremaining: 1m 36s\n",
      "257:\tlearn: 0.7247202\ttotal: 45.8s\tremaining: 1m 36s\n",
      "258:\tlearn: 0.7245189\ttotal: 46s\tremaining: 1m 36s\n",
      "259:\tlearn: 0.7244116\ttotal: 46.1s\tremaining: 1m 35s\n",
      "260:\tlearn: 0.7242177\ttotal: 46.3s\tremaining: 1m 35s\n",
      "261:\tlearn: 0.7239333\ttotal: 46.5s\tremaining: 1m 35s\n",
      "262:\tlearn: 0.7234559\ttotal: 46.6s\tremaining: 1m 35s\n",
      "263:\tlearn: 0.7232612\ttotal: 46.8s\tremaining: 1m 34s\n",
      "264:\tlearn: 0.7230893\ttotal: 46.9s\tremaining: 1m 34s\n",
      "265:\tlearn: 0.7229077\ttotal: 47s\tremaining: 1m 34s\n",
      "266:\tlearn: 0.7226660\ttotal: 47.2s\tremaining: 1m 34s\n",
      "267:\tlearn: 0.7225181\ttotal: 47.4s\tremaining: 1m 34s\n",
      "268:\tlearn: 0.7223717\ttotal: 47.6s\tremaining: 1m 33s\n",
      "269:\tlearn: 0.7218989\ttotal: 47.7s\tremaining: 1m 33s\n",
      "270:\tlearn: 0.7216112\ttotal: 47.9s\tremaining: 1m 33s\n",
      "271:\tlearn: 0.7214837\ttotal: 48.1s\tremaining: 1m 33s\n",
      "272:\tlearn: 0.7211647\ttotal: 48.2s\tremaining: 1m 33s\n",
      "273:\tlearn: 0.7210966\ttotal: 48.4s\tremaining: 1m 32s\n",
      "274:\tlearn: 0.7208004\ttotal: 48.6s\tremaining: 1m 32s\n",
      "275:\tlearn: 0.7205397\ttotal: 48.7s\tremaining: 1m 32s\n",
      "276:\tlearn: 0.7204244\ttotal: 48.9s\tremaining: 1m 32s\n",
      "277:\tlearn: 0.7202432\ttotal: 49.1s\tremaining: 1m 32s\n",
      "278:\tlearn: 0.7199034\ttotal: 49.2s\tremaining: 1m 31s\n",
      "279:\tlearn: 0.7195680\ttotal: 49.4s\tremaining: 1m 31s\n",
      "280:\tlearn: 0.7189823\ttotal: 49.6s\tremaining: 1m 31s\n",
      "281:\tlearn: 0.7187213\ttotal: 49.8s\tremaining: 1m 31s\n",
      "282:\tlearn: 0.7185549\ttotal: 49.9s\tremaining: 1m 31s\n",
      "283:\tlearn: 0.7184539\ttotal: 50.1s\tremaining: 1m 31s\n",
      "284:\tlearn: 0.7180079\ttotal: 50.3s\tremaining: 1m 30s\n",
      "285:\tlearn: 0.7179119\ttotal: 50.4s\tremaining: 1m 30s\n",
      "286:\tlearn: 0.7173154\ttotal: 50.6s\tremaining: 1m 30s\n",
      "287:\tlearn: 0.7171428\ttotal: 50.8s\tremaining: 1m 30s\n",
      "288:\tlearn: 0.7167413\ttotal: 51s\tremaining: 1m 30s\n",
      "289:\tlearn: 0.7165118\ttotal: 51.1s\tremaining: 1m 29s\n",
      "290:\tlearn: 0.7164573\ttotal: 51.3s\tremaining: 1m 29s\n",
      "291:\tlearn: 0.7160847\ttotal: 51.5s\tremaining: 1m 29s\n",
      "292:\tlearn: 0.7157689\ttotal: 51.6s\tremaining: 1m 29s\n",
      "293:\tlearn: 0.7155403\ttotal: 51.8s\tremaining: 1m 29s\n",
      "294:\tlearn: 0.7152793\ttotal: 52.1s\tremaining: 1m 29s\n",
      "295:\tlearn: 0.7149224\ttotal: 52.3s\tremaining: 1m 29s\n",
      "296:\tlearn: 0.7147759\ttotal: 52.5s\tremaining: 1m 28s\n",
      "297:\tlearn: 0.7143308\ttotal: 52.6s\tremaining: 1m 28s\n",
      "298:\tlearn: 0.7140262\ttotal: 52.8s\tremaining: 1m 28s\n",
      "299:\tlearn: 0.7135299\ttotal: 53.1s\tremaining: 1m 28s\n",
      "300:\tlearn: 0.7132451\ttotal: 53.3s\tremaining: 1m 28s\n",
      "301:\tlearn: 0.7130189\ttotal: 53.4s\tremaining: 1m 28s\n",
      "302:\tlearn: 0.7127712\ttotal: 53.5s\tremaining: 1m 27s\n",
      "303:\tlearn: 0.7126209\ttotal: 53.7s\tremaining: 1m 27s\n",
      "304:\tlearn: 0.7125343\ttotal: 53.8s\tremaining: 1m 27s\n",
      "305:\tlearn: 0.7123312\ttotal: 54s\tremaining: 1m 27s\n",
      "306:\tlearn: 0.7121010\ttotal: 54.2s\tremaining: 1m 27s\n",
      "307:\tlearn: 0.7116653\ttotal: 54.3s\tremaining: 1m 26s\n",
      "308:\tlearn: 0.7110304\ttotal: 54.5s\tremaining: 1m 26s\n",
      "309:\tlearn: 0.7107755\ttotal: 54.7s\tremaining: 1m 26s\n",
      "310:\tlearn: 0.7102945\ttotal: 54.8s\tremaining: 1m 26s\n",
      "311:\tlearn: 0.7100160\ttotal: 55s\tremaining: 1m 26s\n",
      "312:\tlearn: 0.7099611\ttotal: 55.2s\tremaining: 1m 25s\n",
      "313:\tlearn: 0.7098977\ttotal: 55.4s\tremaining: 1m 25s\n",
      "314:\tlearn: 0.7096258\ttotal: 55.6s\tremaining: 1m 25s\n"
     ]
    },
    {
     "name": "stdout",
     "output_type": "stream",
     "text": [
      "315:\tlearn: 0.7094255\ttotal: 55.8s\tremaining: 1m 25s\n",
      "316:\tlearn: 0.7091715\ttotal: 55.9s\tremaining: 1m 25s\n",
      "317:\tlearn: 0.7085825\ttotal: 56.1s\tremaining: 1m 25s\n",
      "318:\tlearn: 0.7084603\ttotal: 56.2s\tremaining: 1m 24s\n",
      "319:\tlearn: 0.7081337\ttotal: 56.4s\tremaining: 1m 24s\n",
      "320:\tlearn: 0.7076751\ttotal: 56.6s\tremaining: 1m 24s\n",
      "321:\tlearn: 0.7073398\ttotal: 56.8s\tremaining: 1m 24s\n",
      "322:\tlearn: 0.7071570\ttotal: 56.9s\tremaining: 1m 24s\n",
      "323:\tlearn: 0.7067699\ttotal: 57s\tremaining: 1m 23s\n",
      "324:\tlearn: 0.7065557\ttotal: 57.2s\tremaining: 1m 23s\n",
      "325:\tlearn: 0.7063320\ttotal: 57.3s\tremaining: 1m 23s\n",
      "326:\tlearn: 0.7060169\ttotal: 57.4s\tremaining: 1m 23s\n",
      "327:\tlearn: 0.7057487\ttotal: 57.6s\tremaining: 1m 22s\n",
      "328:\tlearn: 0.7055346\ttotal: 57.8s\tremaining: 1m 22s\n",
      "329:\tlearn: 0.7053076\ttotal: 57.9s\tremaining: 1m 22s\n",
      "330:\tlearn: 0.7050661\ttotal: 58s\tremaining: 1m 22s\n",
      "331:\tlearn: 0.7049857\ttotal: 58.2s\tremaining: 1m 22s\n",
      "332:\tlearn: 0.7048447\ttotal: 58.3s\tremaining: 1m 21s\n",
      "333:\tlearn: 0.7046903\ttotal: 58.4s\tremaining: 1m 21s\n",
      "334:\tlearn: 0.7043730\ttotal: 58.6s\tremaining: 1m 21s\n",
      "335:\tlearn: 0.7038530\ttotal: 58.8s\tremaining: 1m 21s\n",
      "336:\tlearn: 0.7034736\ttotal: 58.9s\tremaining: 1m 20s\n",
      "337:\tlearn: 0.7033800\ttotal: 59.1s\tremaining: 1m 20s\n",
      "338:\tlearn: 0.7031218\ttotal: 59.2s\tremaining: 1m 20s\n",
      "339:\tlearn: 0.7028231\ttotal: 59.3s\tremaining: 1m 20s\n",
      "340:\tlearn: 0.7025222\ttotal: 59.5s\tremaining: 1m 20s\n",
      "341:\tlearn: 0.7023238\ttotal: 59.6s\tremaining: 1m 19s\n",
      "342:\tlearn: 0.7019998\ttotal: 59.8s\tremaining: 1m 19s\n",
      "343:\tlearn: 0.7017606\ttotal: 60s\tremaining: 1m 19s\n",
      "344:\tlearn: 0.7015877\ttotal: 1m\tremaining: 1m 19s\n",
      "345:\tlearn: 0.7015022\ttotal: 1m\tremaining: 1m 19s\n",
      "346:\tlearn: 0.7011966\ttotal: 1m\tremaining: 1m 18s\n",
      "347:\tlearn: 0.7008626\ttotal: 1m\tremaining: 1m 18s\n",
      "348:\tlearn: 0.7005876\ttotal: 1m\tremaining: 1m 18s\n",
      "349:\tlearn: 0.7001593\ttotal: 1m\tremaining: 1m 18s\n",
      "350:\tlearn: 0.6999924\ttotal: 1m 1s\tremaining: 1m 18s\n",
      "351:\tlearn: 0.6997676\ttotal: 1m 1s\tremaining: 1m 17s\n",
      "352:\tlearn: 0.6994563\ttotal: 1m 1s\tremaining: 1m 17s\n",
      "353:\tlearn: 0.6993800\ttotal: 1m 1s\tremaining: 1m 17s\n",
      "354:\tlearn: 0.6991986\ttotal: 1m 1s\tremaining: 1m 17s\n",
      "355:\tlearn: 0.6990285\ttotal: 1m 1s\tremaining: 1m 17s\n",
      "356:\tlearn: 0.6987844\ttotal: 1m 2s\tremaining: 1m 17s\n",
      "357:\tlearn: 0.6985021\ttotal: 1m 2s\tremaining: 1m 16s\n",
      "358:\tlearn: 0.6984462\ttotal: 1m 2s\tremaining: 1m 16s\n",
      "359:\tlearn: 0.6982109\ttotal: 1m 2s\tremaining: 1m 16s\n",
      "360:\tlearn: 0.6978413\ttotal: 1m 2s\tremaining: 1m 16s\n",
      "361:\tlearn: 0.6976610\ttotal: 1m 2s\tremaining: 1m 16s\n",
      "362:\tlearn: 0.6973259\ttotal: 1m 3s\tremaining: 1m 16s\n",
      "363:\tlearn: 0.6969536\ttotal: 1m 3s\tremaining: 1m 15s\n",
      "364:\tlearn: 0.6968815\ttotal: 1m 3s\tremaining: 1m 15s\n",
      "365:\tlearn: 0.6967152\ttotal: 1m 3s\tremaining: 1m 15s\n",
      "366:\tlearn: 0.6963604\ttotal: 1m 3s\tremaining: 1m 15s\n",
      "367:\tlearn: 0.6961711\ttotal: 1m 3s\tremaining: 1m 15s\n",
      "368:\tlearn: 0.6958621\ttotal: 1m 4s\tremaining: 1m 14s\n",
      "369:\tlearn: 0.6954404\ttotal: 1m 4s\tremaining: 1m 14s\n",
      "370:\tlearn: 0.6953394\ttotal: 1m 4s\tremaining: 1m 14s\n",
      "371:\tlearn: 0.6950613\ttotal: 1m 4s\tremaining: 1m 14s\n",
      "372:\tlearn: 0.6947976\ttotal: 1m 4s\tremaining: 1m 14s\n",
      "373:\tlearn: 0.6943342\ttotal: 1m 4s\tremaining: 1m 13s\n",
      "374:\tlearn: 0.6942002\ttotal: 1m 5s\tremaining: 1m 13s\n",
      "375:\tlearn: 0.6941524\ttotal: 1m 5s\tremaining: 1m 13s\n",
      "376:\tlearn: 0.6940562\ttotal: 1m 5s\tremaining: 1m 13s\n",
      "377:\tlearn: 0.6937068\ttotal: 1m 5s\tremaining: 1m 13s\n",
      "378:\tlearn: 0.6933761\ttotal: 1m 5s\tremaining: 1m 12s\n",
      "379:\tlearn: 0.6930094\ttotal: 1m 5s\tremaining: 1m 12s\n",
      "380:\tlearn: 0.6926916\ttotal: 1m 6s\tremaining: 1m 12s\n",
      "381:\tlearn: 0.6924281\ttotal: 1m 6s\tremaining: 1m 12s\n",
      "382:\tlearn: 0.6920784\ttotal: 1m 6s\tremaining: 1m 12s\n",
      "383:\tlearn: 0.6920271\ttotal: 1m 6s\tremaining: 1m 12s\n",
      "384:\tlearn: 0.6917819\ttotal: 1m 6s\tremaining: 1m 12s\n",
      "385:\tlearn: 0.6914656\ttotal: 1m 6s\tremaining: 1m 11s\n",
      "386:\tlearn: 0.6912910\ttotal: 1m 7s\tremaining: 1m 11s\n",
      "387:\tlearn: 0.6912260\ttotal: 1m 7s\tremaining: 1m 11s\n",
      "388:\tlearn: 0.6910051\ttotal: 1m 7s\tremaining: 1m 11s\n",
      "389:\tlearn: 0.6909197\ttotal: 1m 7s\tremaining: 1m 11s\n",
      "390:\tlearn: 0.6906825\ttotal: 1m 7s\tremaining: 1m 11s\n",
      "391:\tlearn: 0.6906068\ttotal: 1m 8s\tremaining: 1m 10s\n",
      "392:\tlearn: 0.6904105\ttotal: 1m 8s\tremaining: 1m 10s\n",
      "393:\tlearn: 0.6902471\ttotal: 1m 8s\tremaining: 1m 10s\n",
      "394:\tlearn: 0.6898605\ttotal: 1m 8s\tremaining: 1m 10s\n",
      "395:\tlearn: 0.6895000\ttotal: 1m 8s\tremaining: 1m 10s\n",
      "396:\tlearn: 0.6892783\ttotal: 1m 8s\tremaining: 1m 10s\n",
      "397:\tlearn: 0.6891692\ttotal: 1m 9s\tremaining: 1m 9s\n",
      "398:\tlearn: 0.6888252\ttotal: 1m 9s\tremaining: 1m 9s\n",
      "399:\tlearn: 0.6886489\ttotal: 1m 9s\tremaining: 1m 9s\n",
      "400:\tlearn: 0.6881431\ttotal: 1m 9s\tremaining: 1m 9s\n",
      "401:\tlearn: 0.6879759\ttotal: 1m 9s\tremaining: 1m 9s\n",
      "402:\tlearn: 0.6877982\ttotal: 1m 9s\tremaining: 1m 8s\n",
      "403:\tlearn: 0.6875659\ttotal: 1m 10s\tremaining: 1m 8s\n",
      "404:\tlearn: 0.6871029\ttotal: 1m 10s\tremaining: 1m 8s\n",
      "405:\tlearn: 0.6868006\ttotal: 1m 10s\tremaining: 1m 8s\n",
      "406:\tlearn: 0.6866944\ttotal: 1m 10s\tremaining: 1m 8s\n",
      "407:\tlearn: 0.6864253\ttotal: 1m 10s\tremaining: 1m 8s\n",
      "408:\tlearn: 0.6861502\ttotal: 1m 11s\tremaining: 1m 7s\n",
      "409:\tlearn: 0.6856229\ttotal: 1m 11s\tremaining: 1m 7s\n",
      "410:\tlearn: 0.6852846\ttotal: 1m 11s\tremaining: 1m 7s\n",
      "411:\tlearn: 0.6850760\ttotal: 1m 11s\tremaining: 1m 7s\n",
      "412:\tlearn: 0.6848132\ttotal: 1m 11s\tremaining: 1m 7s\n",
      "413:\tlearn: 0.6846356\ttotal: 1m 12s\tremaining: 1m 7s\n",
      "414:\tlearn: 0.6844705\ttotal: 1m 12s\tremaining: 1m 7s\n",
      "415:\tlearn: 0.6841742\ttotal: 1m 12s\tremaining: 1m 6s\n",
      "416:\tlearn: 0.6838539\ttotal: 1m 12s\tremaining: 1m 6s\n",
      "417:\tlearn: 0.6836736\ttotal: 1m 12s\tremaining: 1m 6s\n",
      "418:\tlearn: 0.6834434\ttotal: 1m 13s\tremaining: 1m 6s\n",
      "419:\tlearn: 0.6831580\ttotal: 1m 13s\tremaining: 1m 6s\n",
      "420:\tlearn: 0.6830523\ttotal: 1m 13s\tremaining: 1m 6s\n",
      "421:\tlearn: 0.6828484\ttotal: 1m 13s\tremaining: 1m 5s\n",
      "422:\tlearn: 0.6826022\ttotal: 1m 13s\tremaining: 1m 5s\n",
      "423:\tlearn: 0.6825109\ttotal: 1m 13s\tremaining: 1m 5s\n",
      "424:\tlearn: 0.6822860\ttotal: 1m 14s\tremaining: 1m 5s\n",
      "425:\tlearn: 0.6821400\ttotal: 1m 14s\tremaining: 1m 5s\n",
      "426:\tlearn: 0.6819245\ttotal: 1m 14s\tremaining: 1m 4s\n",
      "427:\tlearn: 0.6816561\ttotal: 1m 14s\tremaining: 1m 4s\n",
      "428:\tlearn: 0.6814578\ttotal: 1m 14s\tremaining: 1m 4s\n",
      "429:\tlearn: 0.6812424\ttotal: 1m 14s\tremaining: 1m 4s\n",
      "430:\tlearn: 0.6810741\ttotal: 1m 15s\tremaining: 1m 4s\n",
      "431:\tlearn: 0.6806570\ttotal: 1m 15s\tremaining: 1m 4s\n",
      "432:\tlearn: 0.6802952\ttotal: 1m 15s\tremaining: 1m 3s\n",
      "433:\tlearn: 0.6802155\ttotal: 1m 15s\tremaining: 1m 3s\n",
      "434:\tlearn: 0.6799680\ttotal: 1m 15s\tremaining: 1m 3s\n",
      "435:\tlearn: 0.6796131\ttotal: 1m 15s\tremaining: 1m 3s\n",
      "436:\tlearn: 0.6794766\ttotal: 1m 16s\tremaining: 1m 3s\n",
      "437:\tlearn: 0.6792244\ttotal: 1m 16s\tremaining: 1m 2s\n",
      "438:\tlearn: 0.6790136\ttotal: 1m 16s\tremaining: 1m 2s\n",
      "439:\tlearn: 0.6789374\ttotal: 1m 16s\tremaining: 1m 2s\n",
      "440:\tlearn: 0.6788219\ttotal: 1m 16s\tremaining: 1m 2s\n",
      "441:\tlearn: 0.6786523\ttotal: 1m 16s\tremaining: 1m 2s\n",
      "442:\tlearn: 0.6783995\ttotal: 1m 16s\tremaining: 1m 2s\n",
      "443:\tlearn: 0.6780848\ttotal: 1m 17s\tremaining: 1m 1s\n",
      "444:\tlearn: 0.6780021\ttotal: 1m 17s\tremaining: 1m 1s\n",
      "445:\tlearn: 0.6778072\ttotal: 1m 17s\tremaining: 1m 1s\n",
      "446:\tlearn: 0.6776433\ttotal: 1m 17s\tremaining: 1m 1s\n",
      "447:\tlearn: 0.6774951\ttotal: 1m 17s\tremaining: 1m 1s\n",
      "448:\tlearn: 0.6773103\ttotal: 1m 17s\tremaining: 1m\n",
      "449:\tlearn: 0.6771918\ttotal: 1m 18s\tremaining: 1m\n",
      "450:\tlearn: 0.6770722\ttotal: 1m 18s\tremaining: 1m\n",
      "451:\tlearn: 0.6769932\ttotal: 1m 18s\tremaining: 1m\n",
      "452:\tlearn: 0.6769197\ttotal: 1m 18s\tremaining: 1m\n",
      "453:\tlearn: 0.6767149\ttotal: 1m 18s\tremaining: 1m\n",
      "454:\tlearn: 0.6766827\ttotal: 1m 18s\tremaining: 59.8s\n",
      "455:\tlearn: 0.6765923\ttotal: 1m 19s\tremaining: 59.7s\n",
      "456:\tlearn: 0.6763837\ttotal: 1m 19s\tremaining: 59.5s\n",
      "457:\tlearn: 0.6760616\ttotal: 1m 19s\tremaining: 59.3s\n",
      "458:\tlearn: 0.6759427\ttotal: 1m 19s\tremaining: 59.2s\n",
      "459:\tlearn: 0.6757677\ttotal: 1m 19s\tremaining: 59s\n",
      "460:\tlearn: 0.6755784\ttotal: 1m 19s\tremaining: 58.8s\n",
      "461:\tlearn: 0.6752565\ttotal: 1m 20s\tremaining: 58.7s\n",
      "462:\tlearn: 0.6747265\ttotal: 1m 20s\tremaining: 58.5s\n",
      "463:\tlearn: 0.6744946\ttotal: 1m 20s\tremaining: 58.3s\n",
      "464:\tlearn: 0.6742156\ttotal: 1m 20s\tremaining: 58.1s\n",
      "465:\tlearn: 0.6739879\ttotal: 1m 20s\tremaining: 57.9s\n",
      "466:\tlearn: 0.6737551\ttotal: 1m 20s\tremaining: 57.7s\n",
      "467:\tlearn: 0.6735753\ttotal: 1m 21s\tremaining: 57.5s\n",
      "468:\tlearn: 0.6733310\ttotal: 1m 21s\tremaining: 57.4s\n",
      "469:\tlearn: 0.6730652\ttotal: 1m 21s\tremaining: 57.2s\n",
      "470:\tlearn: 0.6727664\ttotal: 1m 21s\tremaining: 57.1s\n",
      "471:\tlearn: 0.6725132\ttotal: 1m 21s\tremaining: 56.9s\n"
     ]
    },
    {
     "name": "stdout",
     "output_type": "stream",
     "text": [
      "472:\tlearn: 0.6720960\ttotal: 1m 22s\tremaining: 56.7s\n",
      "473:\tlearn: 0.6720354\ttotal: 1m 22s\tremaining: 56.6s\n",
      "474:\tlearn: 0.6719353\ttotal: 1m 22s\tremaining: 56.5s\n",
      "475:\tlearn: 0.6714687\ttotal: 1m 22s\tremaining: 56.3s\n",
      "476:\tlearn: 0.6713013\ttotal: 1m 22s\tremaining: 56.1s\n",
      "477:\tlearn: 0.6711516\ttotal: 1m 23s\tremaining: 56s\n",
      "478:\tlearn: 0.6708489\ttotal: 1m 23s\tremaining: 55.8s\n",
      "479:\tlearn: 0.6706785\ttotal: 1m 23s\tremaining: 55.6s\n",
      "480:\tlearn: 0.6706197\ttotal: 1m 23s\tremaining: 55.5s\n",
      "481:\tlearn: 0.6704437\ttotal: 1m 23s\tremaining: 55.3s\n",
      "482:\tlearn: 0.6703061\ttotal: 1m 23s\tremaining: 55.1s\n",
      "483:\tlearn: 0.6698301\ttotal: 1m 24s\tremaining: 54.9s\n",
      "484:\tlearn: 0.6697338\ttotal: 1m 24s\tremaining: 54.7s\n",
      "485:\tlearn: 0.6696212\ttotal: 1m 24s\tremaining: 54.5s\n",
      "486:\tlearn: 0.6695069\ttotal: 1m 24s\tremaining: 54.4s\n",
      "487:\tlearn: 0.6693071\ttotal: 1m 24s\tremaining: 54.2s\n",
      "488:\tlearn: 0.6689688\ttotal: 1m 24s\tremaining: 54s\n",
      "489:\tlearn: 0.6685273\ttotal: 1m 25s\tremaining: 53.9s\n",
      "490:\tlearn: 0.6683752\ttotal: 1m 25s\tremaining: 53.7s\n",
      "491:\tlearn: 0.6681762\ttotal: 1m 25s\tremaining: 53.6s\n",
      "492:\tlearn: 0.6680169\ttotal: 1m 25s\tremaining: 53.5s\n",
      "493:\tlearn: 0.6678418\ttotal: 1m 26s\tremaining: 53.3s\n",
      "494:\tlearn: 0.6676641\ttotal: 1m 26s\tremaining: 53.1s\n",
      "495:\tlearn: 0.6672686\ttotal: 1m 26s\tremaining: 52.9s\n",
      "496:\tlearn: 0.6671189\ttotal: 1m 26s\tremaining: 52.8s\n",
      "497:\tlearn: 0.6669665\ttotal: 1m 26s\tremaining: 52.6s\n",
      "498:\tlearn: 0.6668471\ttotal: 1m 26s\tremaining: 52.4s\n",
      "499:\tlearn: 0.6666929\ttotal: 1m 27s\tremaining: 52.2s\n",
      "500:\tlearn: 0.6665023\ttotal: 1m 27s\tremaining: 52s\n",
      "501:\tlearn: 0.6662288\ttotal: 1m 27s\tremaining: 51.8s\n",
      "502:\tlearn: 0.6661374\ttotal: 1m 27s\tremaining: 51.6s\n",
      "503:\tlearn: 0.6657838\ttotal: 1m 27s\tremaining: 51.5s\n",
      "504:\tlearn: 0.6655599\ttotal: 1m 27s\tremaining: 51.3s\n",
      "505:\tlearn: 0.6654262\ttotal: 1m 28s\tremaining: 51.2s\n",
      "506:\tlearn: 0.6652433\ttotal: 1m 28s\tremaining: 51s\n",
      "507:\tlearn: 0.6649842\ttotal: 1m 28s\tremaining: 50.9s\n",
      "508:\tlearn: 0.6648136\ttotal: 1m 28s\tremaining: 50.7s\n",
      "509:\tlearn: 0.6646408\ttotal: 1m 28s\tremaining: 50.5s\n",
      "510:\tlearn: 0.6644804\ttotal: 1m 28s\tremaining: 50.3s\n",
      "511:\tlearn: 0.6643551\ttotal: 1m 29s\tremaining: 50.1s\n",
      "512:\tlearn: 0.6642322\ttotal: 1m 29s\tremaining: 50s\n",
      "513:\tlearn: 0.6641025\ttotal: 1m 29s\tremaining: 49.8s\n",
      "514:\tlearn: 0.6640775\ttotal: 1m 29s\tremaining: 49.6s\n",
      "515:\tlearn: 0.6639407\ttotal: 1m 29s\tremaining: 49.4s\n",
      "516:\tlearn: 0.6638224\ttotal: 1m 29s\tremaining: 49.2s\n",
      "517:\tlearn: 0.6634589\ttotal: 1m 30s\tremaining: 49s\n",
      "518:\tlearn: 0.6633038\ttotal: 1m 30s\tremaining: 48.9s\n",
      "519:\tlearn: 0.6630577\ttotal: 1m 30s\tremaining: 48.7s\n",
      "520:\tlearn: 0.6629100\ttotal: 1m 30s\tremaining: 48.6s\n",
      "521:\tlearn: 0.6627723\ttotal: 1m 30s\tremaining: 48.4s\n",
      "522:\tlearn: 0.6626317\ttotal: 1m 30s\tremaining: 48.2s\n",
      "523:\tlearn: 0.6623886\ttotal: 1m 31s\tremaining: 48s\n",
      "524:\tlearn: 0.6622552\ttotal: 1m 31s\tremaining: 47.8s\n",
      "525:\tlearn: 0.6620124\ttotal: 1m 31s\tremaining: 47.7s\n",
      "526:\tlearn: 0.6618457\ttotal: 1m 31s\tremaining: 47.5s\n",
      "527:\tlearn: 0.6617695\ttotal: 1m 31s\tremaining: 47.3s\n",
      "528:\tlearn: 0.6615496\ttotal: 1m 32s\tremaining: 47.1s\n",
      "529:\tlearn: 0.6613402\ttotal: 1m 32s\tremaining: 46.9s\n",
      "530:\tlearn: 0.6609502\ttotal: 1m 32s\tremaining: 46.8s\n",
      "531:\tlearn: 0.6608831\ttotal: 1m 32s\tremaining: 46.6s\n",
      "532:\tlearn: 0.6607970\ttotal: 1m 32s\tremaining: 46.5s\n",
      "533:\tlearn: 0.6606856\ttotal: 1m 32s\tremaining: 46.3s\n",
      "534:\tlearn: 0.6604624\ttotal: 1m 33s\tremaining: 46.1s\n",
      "535:\tlearn: 0.6602644\ttotal: 1m 33s\tremaining: 45.9s\n",
      "536:\tlearn: 0.6600492\ttotal: 1m 33s\tremaining: 45.7s\n",
      "537:\tlearn: 0.6597868\ttotal: 1m 33s\tremaining: 45.5s\n",
      "538:\tlearn: 0.6597376\ttotal: 1m 33s\tremaining: 45.4s\n",
      "539:\tlearn: 0.6595544\ttotal: 1m 33s\tremaining: 45.2s\n",
      "540:\tlearn: 0.6592739\ttotal: 1m 33s\tremaining: 45s\n",
      "541:\tlearn: 0.6591561\ttotal: 1m 34s\tremaining: 44.8s\n",
      "542:\tlearn: 0.6590327\ttotal: 1m 34s\tremaining: 44.6s\n",
      "543:\tlearn: 0.6588442\ttotal: 1m 34s\tremaining: 44.5s\n",
      "544:\tlearn: 0.6586771\ttotal: 1m 34s\tremaining: 44.3s\n",
      "545:\tlearn: 0.6583624\ttotal: 1m 34s\tremaining: 44.1s\n",
      "546:\tlearn: 0.6582525\ttotal: 1m 34s\tremaining: 43.9s\n",
      "547:\tlearn: 0.6579330\ttotal: 1m 35s\tremaining: 43.7s\n",
      "548:\tlearn: 0.6577104\ttotal: 1m 35s\tremaining: 43.6s\n",
      "549:\tlearn: 0.6573752\ttotal: 1m 35s\tremaining: 43.4s\n",
      "550:\tlearn: 0.6572286\ttotal: 1m 35s\tremaining: 43.3s\n",
      "551:\tlearn: 0.6570216\ttotal: 1m 36s\tremaining: 43.2s\n",
      "552:\tlearn: 0.6567902\ttotal: 1m 36s\tremaining: 43s\n",
      "553:\tlearn: 0.6566852\ttotal: 1m 36s\tremaining: 42.8s\n",
      "554:\tlearn: 0.6564666\ttotal: 1m 36s\tremaining: 42.6s\n",
      "555:\tlearn: 0.6563317\ttotal: 1m 36s\tremaining: 42.4s\n",
      "556:\tlearn: 0.6560963\ttotal: 1m 36s\tremaining: 42.3s\n",
      "557:\tlearn: 0.6560412\ttotal: 1m 37s\tremaining: 42.1s\n",
      "558:\tlearn: 0.6557850\ttotal: 1m 37s\tremaining: 41.9s\n",
      "559:\tlearn: 0.6556671\ttotal: 1m 37s\tremaining: 41.8s\n",
      "560:\tlearn: 0.6555523\ttotal: 1m 37s\tremaining: 41.6s\n",
      "561:\tlearn: 0.6548503\ttotal: 1m 37s\tremaining: 41.4s\n",
      "562:\tlearn: 0.6547631\ttotal: 1m 37s\tremaining: 41.2s\n",
      "563:\tlearn: 0.6546124\ttotal: 1m 38s\tremaining: 41s\n",
      "564:\tlearn: 0.6542493\ttotal: 1m 38s\tremaining: 40.9s\n",
      "565:\tlearn: 0.6539266\ttotal: 1m 38s\tremaining: 40.7s\n",
      "566:\tlearn: 0.6537691\ttotal: 1m 38s\tremaining: 40.5s\n",
      "567:\tlearn: 0.6536692\ttotal: 1m 38s\tremaining: 40.3s\n",
      "568:\tlearn: 0.6536124\ttotal: 1m 38s\tremaining: 40.1s\n",
      "569:\tlearn: 0.6534046\ttotal: 1m 39s\tremaining: 40s\n",
      "570:\tlearn: 0.6530698\ttotal: 1m 39s\tremaining: 39.8s\n",
      "571:\tlearn: 0.6527801\ttotal: 1m 39s\tremaining: 39.6s\n",
      "572:\tlearn: 0.6526130\ttotal: 1m 39s\tremaining: 39.5s\n",
      "573:\tlearn: 0.6525384\ttotal: 1m 39s\tremaining: 39.3s\n",
      "574:\tlearn: 0.6523130\ttotal: 1m 39s\tremaining: 39.1s\n",
      "575:\tlearn: 0.6521311\ttotal: 1m 40s\tremaining: 38.9s\n",
      "576:\tlearn: 0.6518716\ttotal: 1m 40s\tremaining: 38.7s\n",
      "577:\tlearn: 0.6517011\ttotal: 1m 40s\tremaining: 38.6s\n",
      "578:\tlearn: 0.6515079\ttotal: 1m 40s\tremaining: 38.4s\n",
      "579:\tlearn: 0.6511739\ttotal: 1m 40s\tremaining: 38.2s\n",
      "580:\tlearn: 0.6511034\ttotal: 1m 40s\tremaining: 38s\n",
      "581:\tlearn: 0.6508391\ttotal: 1m 41s\tremaining: 37.9s\n",
      "582:\tlearn: 0.6507306\ttotal: 1m 41s\tremaining: 37.7s\n",
      "583:\tlearn: 0.6505625\ttotal: 1m 41s\tremaining: 37.6s\n",
      "584:\tlearn: 0.6503968\ttotal: 1m 41s\tremaining: 37.4s\n",
      "585:\tlearn: 0.6500485\ttotal: 1m 42s\tremaining: 37.3s\n",
      "586:\tlearn: 0.6498805\ttotal: 1m 42s\tremaining: 37.2s\n",
      "587:\tlearn: 0.6497511\ttotal: 1m 42s\tremaining: 37.1s\n",
      "588:\tlearn: 0.6495733\ttotal: 1m 43s\tremaining: 37s\n",
      "589:\tlearn: 0.6494461\ttotal: 1m 43s\tremaining: 36.8s\n",
      "590:\tlearn: 0.6493208\ttotal: 1m 43s\tremaining: 36.7s\n",
      "591:\tlearn: 0.6491002\ttotal: 1m 43s\tremaining: 36.5s\n",
      "592:\tlearn: 0.6489606\ttotal: 1m 44s\tremaining: 36.3s\n",
      "593:\tlearn: 0.6486551\ttotal: 1m 44s\tremaining: 36.2s\n",
      "594:\tlearn: 0.6484553\ttotal: 1m 44s\tremaining: 36s\n",
      "595:\tlearn: 0.6481619\ttotal: 1m 44s\tremaining: 35.8s\n",
      "596:\tlearn: 0.6479058\ttotal: 1m 44s\tremaining: 35.6s\n",
      "597:\tlearn: 0.6478369\ttotal: 1m 44s\tremaining: 35.5s\n",
      "598:\tlearn: 0.6476401\ttotal: 1m 45s\tremaining: 35.3s\n",
      "599:\tlearn: 0.6475772\ttotal: 1m 45s\tremaining: 35.1s\n",
      "600:\tlearn: 0.6473092\ttotal: 1m 45s\tremaining: 35s\n",
      "601:\tlearn: 0.6471154\ttotal: 1m 45s\tremaining: 34.8s\n",
      "602:\tlearn: 0.6470215\ttotal: 1m 45s\tremaining: 34.6s\n",
      "603:\tlearn: 0.6468734\ttotal: 1m 46s\tremaining: 34.4s\n",
      "604:\tlearn: 0.6467461\ttotal: 1m 46s\tremaining: 34.3s\n",
      "605:\tlearn: 0.6464476\ttotal: 1m 46s\tremaining: 34.1s\n",
      "606:\tlearn: 0.6461645\ttotal: 1m 46s\tremaining: 33.9s\n",
      "607:\tlearn: 0.6460292\ttotal: 1m 46s\tremaining: 33.7s\n",
      "608:\tlearn: 0.6458583\ttotal: 1m 46s\tremaining: 33.5s\n",
      "609:\tlearn: 0.6456914\ttotal: 1m 47s\tremaining: 33.3s\n",
      "610:\tlearn: 0.6456474\ttotal: 1m 47s\tremaining: 33.2s\n",
      "611:\tlearn: 0.6455132\ttotal: 1m 47s\tremaining: 33s\n",
      "612:\tlearn: 0.6454616\ttotal: 1m 47s\tremaining: 32.8s\n",
      "613:\tlearn: 0.6450924\ttotal: 1m 47s\tremaining: 32.7s\n",
      "614:\tlearn: 0.6448791\ttotal: 1m 48s\tremaining: 32.5s\n",
      "615:\tlearn: 0.6447927\ttotal: 1m 48s\tremaining: 32.3s\n",
      "616:\tlearn: 0.6445605\ttotal: 1m 48s\tremaining: 32.1s\n",
      "617:\tlearn: 0.6442297\ttotal: 1m 48s\tremaining: 32s\n",
      "618:\tlearn: 0.6439733\ttotal: 1m 48s\tremaining: 31.8s\n",
      "619:\tlearn: 0.6437387\ttotal: 1m 48s\tremaining: 31.6s\n",
      "620:\tlearn: 0.6435896\ttotal: 1m 49s\tremaining: 31.4s\n",
      "621:\tlearn: 0.6435387\ttotal: 1m 49s\tremaining: 31.3s\n",
      "622:\tlearn: 0.6433798\ttotal: 1m 49s\tremaining: 31.1s\n",
      "623:\tlearn: 0.6430504\ttotal: 1m 49s\tremaining: 30.9s\n",
      "624:\tlearn: 0.6429690\ttotal: 1m 49s\tremaining: 30.7s\n",
      "625:\tlearn: 0.6428635\ttotal: 1m 49s\tremaining: 30.6s\n",
      "626:\tlearn: 0.6427716\ttotal: 1m 50s\tremaining: 30.4s\n",
      "627:\tlearn: 0.6424001\ttotal: 1m 50s\tremaining: 30.2s\n",
      "628:\tlearn: 0.6422431\ttotal: 1m 50s\tremaining: 30s\n"
     ]
    },
    {
     "name": "stdout",
     "output_type": "stream",
     "text": [
      "629:\tlearn: 0.6419839\ttotal: 1m 50s\tremaining: 29.8s\n",
      "630:\tlearn: 0.6417192\ttotal: 1m 50s\tremaining: 29.7s\n",
      "631:\tlearn: 0.6415614\ttotal: 1m 50s\tremaining: 29.5s\n",
      "632:\tlearn: 0.6412750\ttotal: 1m 51s\tremaining: 29.3s\n",
      "633:\tlearn: 0.6410238\ttotal: 1m 51s\tremaining: 29.1s\n",
      "634:\tlearn: 0.6409164\ttotal: 1m 51s\tremaining: 29s\n",
      "635:\tlearn: 0.6408183\ttotal: 1m 51s\tremaining: 28.8s\n",
      "636:\tlearn: 0.6406590\ttotal: 1m 51s\tremaining: 28.6s\n",
      "637:\tlearn: 0.6404709\ttotal: 1m 52s\tremaining: 28.4s\n",
      "638:\tlearn: 0.6402193\ttotal: 1m 52s\tremaining: 28.3s\n",
      "639:\tlearn: 0.6401208\ttotal: 1m 52s\tremaining: 28.1s\n",
      "640:\tlearn: 0.6398392\ttotal: 1m 52s\tremaining: 27.9s\n",
      "641:\tlearn: 0.6395792\ttotal: 1m 52s\tremaining: 27.7s\n",
      "642:\tlearn: 0.6394978\ttotal: 1m 52s\tremaining: 27.6s\n",
      "643:\tlearn: 0.6393215\ttotal: 1m 53s\tremaining: 27.4s\n",
      "644:\tlearn: 0.6391717\ttotal: 1m 53s\tremaining: 27.2s\n",
      "645:\tlearn: 0.6391189\ttotal: 1m 53s\tremaining: 27s\n",
      "646:\tlearn: 0.6389965\ttotal: 1m 53s\tremaining: 26.9s\n",
      "647:\tlearn: 0.6388103\ttotal: 1m 53s\tremaining: 26.7s\n",
      "648:\tlearn: 0.6386562\ttotal: 1m 53s\tremaining: 26.5s\n",
      "649:\tlearn: 0.6384414\ttotal: 1m 54s\tremaining: 26.3s\n",
      "650:\tlearn: 0.6382726\ttotal: 1m 54s\tremaining: 26.2s\n",
      "651:\tlearn: 0.6381859\ttotal: 1m 54s\tremaining: 26s\n",
      "652:\tlearn: 0.6378505\ttotal: 1m 54s\tremaining: 25.8s\n",
      "653:\tlearn: 0.6376886\ttotal: 1m 54s\tremaining: 25.6s\n",
      "654:\tlearn: 0.6375810\ttotal: 1m 54s\tremaining: 25.4s\n",
      "655:\tlearn: 0.6374233\ttotal: 1m 55s\tremaining: 25.3s\n",
      "656:\tlearn: 0.6373036\ttotal: 1m 55s\tremaining: 25.1s\n",
      "657:\tlearn: 0.6372078\ttotal: 1m 55s\tremaining: 24.9s\n",
      "658:\tlearn: 0.6369653\ttotal: 1m 55s\tremaining: 24.7s\n",
      "659:\tlearn: 0.6367645\ttotal: 1m 55s\tremaining: 24.5s\n",
      "660:\tlearn: 0.6363989\ttotal: 1m 55s\tremaining: 24.4s\n",
      "661:\tlearn: 0.6362492\ttotal: 1m 55s\tremaining: 24.2s\n",
      "662:\tlearn: 0.6359946\ttotal: 1m 56s\tremaining: 24s\n",
      "663:\tlearn: 0.6357152\ttotal: 1m 56s\tremaining: 23.8s\n",
      "664:\tlearn: 0.6355048\ttotal: 1m 56s\tremaining: 23.6s\n",
      "665:\tlearn: 0.6354024\ttotal: 1m 56s\tremaining: 23.4s\n",
      "666:\tlearn: 0.6349533\ttotal: 1m 56s\tremaining: 23.3s\n",
      "667:\tlearn: 0.6347614\ttotal: 1m 56s\tremaining: 23.1s\n",
      "668:\tlearn: 0.6346319\ttotal: 1m 56s\tremaining: 22.9s\n",
      "669:\tlearn: 0.6344589\ttotal: 1m 57s\tremaining: 22.7s\n",
      "670:\tlearn: 0.6341058\ttotal: 1m 57s\tremaining: 22.5s\n",
      "671:\tlearn: 0.6340279\ttotal: 1m 57s\tremaining: 22.4s\n",
      "672:\tlearn: 0.6339131\ttotal: 1m 57s\tremaining: 22.2s\n",
      "673:\tlearn: 0.6336321\ttotal: 1m 57s\tremaining: 22s\n",
      "674:\tlearn: 0.6334426\ttotal: 1m 57s\tremaining: 21.8s\n",
      "675:\tlearn: 0.6331511\ttotal: 1m 57s\tremaining: 21.6s\n",
      "676:\tlearn: 0.6330360\ttotal: 1m 58s\tremaining: 21.5s\n",
      "677:\tlearn: 0.6328458\ttotal: 1m 58s\tremaining: 21.3s\n",
      "678:\tlearn: 0.6325444\ttotal: 1m 58s\tremaining: 21.1s\n",
      "679:\tlearn: 0.6323398\ttotal: 1m 58s\tremaining: 20.9s\n",
      "680:\tlearn: 0.6322109\ttotal: 1m 58s\tremaining: 20.7s\n",
      "681:\tlearn: 0.6321597\ttotal: 1m 58s\tremaining: 20.6s\n",
      "682:\tlearn: 0.6318511\ttotal: 1m 58s\tremaining: 20.4s\n",
      "683:\tlearn: 0.6317581\ttotal: 1m 59s\tremaining: 20.2s\n",
      "684:\tlearn: 0.6313541\ttotal: 1m 59s\tremaining: 20s\n",
      "685:\tlearn: 0.6312013\ttotal: 1m 59s\tremaining: 19.8s\n",
      "686:\tlearn: 0.6310744\ttotal: 1m 59s\tremaining: 19.7s\n",
      "687:\tlearn: 0.6308497\ttotal: 1m 59s\tremaining: 19.5s\n",
      "688:\tlearn: 0.6307964\ttotal: 1m 59s\tremaining: 19.3s\n",
      "689:\tlearn: 0.6304379\ttotal: 1m 59s\tremaining: 19.1s\n",
      "690:\tlearn: 0.6302593\ttotal: 2m\tremaining: 18.9s\n",
      "691:\tlearn: 0.6300939\ttotal: 2m\tremaining: 18.8s\n",
      "692:\tlearn: 0.6299125\ttotal: 2m\tremaining: 18.6s\n",
      "693:\tlearn: 0.6298238\ttotal: 2m\tremaining: 18.4s\n",
      "694:\tlearn: 0.6295546\ttotal: 2m\tremaining: 18.2s\n",
      "695:\tlearn: 0.6294194\ttotal: 2m\tremaining: 18.1s\n",
      "696:\tlearn: 0.6293028\ttotal: 2m\tremaining: 17.9s\n",
      "697:\tlearn: 0.6291481\ttotal: 2m 1s\tremaining: 17.7s\n",
      "698:\tlearn: 0.6289592\ttotal: 2m 1s\tremaining: 17.5s\n",
      "699:\tlearn: 0.6287812\ttotal: 2m 1s\tremaining: 17.3s\n",
      "700:\tlearn: 0.6287342\ttotal: 2m 1s\tremaining: 17.2s\n",
      "701:\tlearn: 0.6283180\ttotal: 2m 1s\tremaining: 17s\n",
      "702:\tlearn: 0.6281287\ttotal: 2m 1s\tremaining: 16.8s\n",
      "703:\tlearn: 0.6279621\ttotal: 2m 2s\tremaining: 16.6s\n",
      "704:\tlearn: 0.6278819\ttotal: 2m 2s\tremaining: 16.5s\n",
      "705:\tlearn: 0.6277560\ttotal: 2m 2s\tremaining: 16.3s\n",
      "706:\tlearn: 0.6277081\ttotal: 2m 2s\tremaining: 16.1s\n",
      "707:\tlearn: 0.6275336\ttotal: 2m 2s\tremaining: 15.9s\n",
      "708:\tlearn: 0.6273585\ttotal: 2m 2s\tremaining: 15.7s\n",
      "709:\tlearn: 0.6271823\ttotal: 2m 2s\tremaining: 15.6s\n",
      "710:\tlearn: 0.6270012\ttotal: 2m 2s\tremaining: 15.4s\n",
      "711:\tlearn: 0.6268728\ttotal: 2m 3s\tremaining: 15.2s\n",
      "712:\tlearn: 0.6267937\ttotal: 2m 3s\tremaining: 15s\n",
      "713:\tlearn: 0.6265919\ttotal: 2m 3s\tremaining: 14.9s\n",
      "714:\tlearn: 0.6264215\ttotal: 2m 3s\tremaining: 14.7s\n",
      "715:\tlearn: 0.6263125\ttotal: 2m 3s\tremaining: 14.5s\n",
      "716:\tlearn: 0.6262526\ttotal: 2m 3s\tremaining: 14.3s\n",
      "717:\tlearn: 0.6261422\ttotal: 2m 4s\tremaining: 14.2s\n",
      "718:\tlearn: 0.6260404\ttotal: 2m 4s\tremaining: 14s\n",
      "719:\tlearn: 0.6258872\ttotal: 2m 4s\tremaining: 13.8s\n",
      "720:\tlearn: 0.6258268\ttotal: 2m 4s\tremaining: 13.7s\n",
      "721:\tlearn: 0.6255924\ttotal: 2m 4s\tremaining: 13.5s\n",
      "722:\tlearn: 0.6254714\ttotal: 2m 5s\tremaining: 13.3s\n",
      "723:\tlearn: 0.6253898\ttotal: 2m 5s\tremaining: 13.1s\n",
      "724:\tlearn: 0.6250676\ttotal: 2m 5s\tremaining: 13s\n",
      "725:\tlearn: 0.6249609\ttotal: 2m 5s\tremaining: 12.8s\n",
      "726:\tlearn: 0.6247245\ttotal: 2m 5s\tremaining: 12.6s\n",
      "727:\tlearn: 0.6245457\ttotal: 2m 6s\tremaining: 12.5s\n",
      "728:\tlearn: 0.6241647\ttotal: 2m 6s\tremaining: 12.3s\n",
      "729:\tlearn: 0.6238237\ttotal: 2m 6s\tremaining: 12.1s\n",
      "730:\tlearn: 0.6236949\ttotal: 2m 6s\tremaining: 11.9s\n",
      "731:\tlearn: 0.6236158\ttotal: 2m 6s\tremaining: 11.8s\n",
      "732:\tlearn: 0.6233313\ttotal: 2m 6s\tremaining: 11.6s\n",
      "733:\tlearn: 0.6231485\ttotal: 2m 6s\tremaining: 11.4s\n",
      "734:\tlearn: 0.6229078\ttotal: 2m 7s\tremaining: 11.2s\n",
      "735:\tlearn: 0.6227252\ttotal: 2m 7s\tremaining: 11.1s\n",
      "736:\tlearn: 0.6226237\ttotal: 2m 7s\tremaining: 10.9s\n",
      "737:\tlearn: 0.6224679\ttotal: 2m 7s\tremaining: 10.7s\n",
      "738:\tlearn: 0.6223240\ttotal: 2m 7s\tremaining: 10.5s\n",
      "739:\tlearn: 0.6222002\ttotal: 2m 7s\tremaining: 10.4s\n",
      "740:\tlearn: 0.6220077\ttotal: 2m 8s\tremaining: 10.2s\n",
      "741:\tlearn: 0.6218679\ttotal: 2m 8s\tremaining: 10s\n",
      "742:\tlearn: 0.6217054\ttotal: 2m 8s\tremaining: 9.84s\n",
      "743:\tlearn: 0.6215294\ttotal: 2m 8s\tremaining: 9.67s\n",
      "744:\tlearn: 0.6212834\ttotal: 2m 8s\tremaining: 9.5s\n",
      "745:\tlearn: 0.6210458\ttotal: 2m 8s\tremaining: 9.32s\n",
      "746:\tlearn: 0.6208047\ttotal: 2m 8s\tremaining: 9.15s\n",
      "747:\tlearn: 0.6206514\ttotal: 2m 9s\tremaining: 8.97s\n",
      "748:\tlearn: 0.6205120\ttotal: 2m 9s\tremaining: 8.8s\n",
      "749:\tlearn: 0.6202933\ttotal: 2m 9s\tremaining: 8.63s\n",
      "750:\tlearn: 0.6201191\ttotal: 2m 9s\tremaining: 8.45s\n",
      "751:\tlearn: 0.6199118\ttotal: 2m 9s\tremaining: 8.28s\n",
      "752:\tlearn: 0.6197703\ttotal: 2m 9s\tremaining: 8.1s\n",
      "753:\tlearn: 0.6193223\ttotal: 2m 9s\tremaining: 7.93s\n",
      "754:\tlearn: 0.6190043\ttotal: 2m 10s\tremaining: 7.76s\n",
      "755:\tlearn: 0.6188471\ttotal: 2m 10s\tremaining: 7.58s\n",
      "756:\tlearn: 0.6186931\ttotal: 2m 10s\tremaining: 7.41s\n",
      "757:\tlearn: 0.6185302\ttotal: 2m 10s\tremaining: 7.23s\n",
      "758:\tlearn: 0.6182612\ttotal: 2m 10s\tremaining: 7.06s\n",
      "759:\tlearn: 0.6181978\ttotal: 2m 10s\tremaining: 6.89s\n",
      "760:\tlearn: 0.6179773\ttotal: 2m 11s\tremaining: 6.72s\n",
      "761:\tlearn: 0.6178031\ttotal: 2m 11s\tremaining: 6.54s\n",
      "762:\tlearn: 0.6176537\ttotal: 2m 11s\tremaining: 6.37s\n",
      "763:\tlearn: 0.6175277\ttotal: 2m 11s\tremaining: 6.2s\n",
      "764:\tlearn: 0.6174613\ttotal: 2m 11s\tremaining: 6.02s\n",
      "765:\tlearn: 0.6173483\ttotal: 2m 11s\tremaining: 5.85s\n",
      "766:\tlearn: 0.6171175\ttotal: 2m 11s\tremaining: 5.68s\n",
      "767:\tlearn: 0.6168073\ttotal: 2m 12s\tremaining: 5.5s\n",
      "768:\tlearn: 0.6165481\ttotal: 2m 12s\tremaining: 5.33s\n",
      "769:\tlearn: 0.6164511\ttotal: 2m 12s\tremaining: 5.16s\n",
      "770:\tlearn: 0.6163157\ttotal: 2m 12s\tremaining: 4.99s\n",
      "771:\tlearn: 0.6159904\ttotal: 2m 12s\tremaining: 4.81s\n",
      "772:\tlearn: 0.6157602\ttotal: 2m 12s\tremaining: 4.64s\n",
      "773:\tlearn: 0.6156730\ttotal: 2m 13s\tremaining: 4.47s\n",
      "774:\tlearn: 0.6154191\ttotal: 2m 13s\tremaining: 4.3s\n",
      "775:\tlearn: 0.6152757\ttotal: 2m 13s\tremaining: 4.13s\n",
      "776:\tlearn: 0.6150026\ttotal: 2m 13s\tremaining: 3.95s\n",
      "777:\tlearn: 0.6147834\ttotal: 2m 13s\tremaining: 3.78s\n",
      "778:\tlearn: 0.6145503\ttotal: 2m 13s\tremaining: 3.61s\n",
      "779:\tlearn: 0.6142743\ttotal: 2m 14s\tremaining: 3.44s\n",
      "780:\tlearn: 0.6141980\ttotal: 2m 14s\tremaining: 3.26s\n",
      "781:\tlearn: 0.6140428\ttotal: 2m 14s\tremaining: 3.09s\n",
      "782:\tlearn: 0.6138979\ttotal: 2m 14s\tremaining: 2.92s\n",
      "783:\tlearn: 0.6137090\ttotal: 2m 14s\tremaining: 2.75s\n",
      "784:\tlearn: 0.6134394\ttotal: 2m 14s\tremaining: 2.58s\n",
      "785:\tlearn: 0.6131449\ttotal: 2m 15s\tremaining: 2.4s\n"
     ]
    },
    {
     "name": "stdout",
     "output_type": "stream",
     "text": [
      "786:\tlearn: 0.6130776\ttotal: 2m 15s\tremaining: 2.23s\n",
      "787:\tlearn: 0.6130209\ttotal: 2m 15s\tremaining: 2.06s\n",
      "788:\tlearn: 0.6129751\ttotal: 2m 15s\tremaining: 1.89s\n",
      "789:\tlearn: 0.6127881\ttotal: 2m 15s\tremaining: 1.72s\n",
      "790:\tlearn: 0.6127124\ttotal: 2m 15s\tremaining: 1.54s\n",
      "791:\tlearn: 0.6124726\ttotal: 2m 15s\tremaining: 1.37s\n",
      "792:\tlearn: 0.6123739\ttotal: 2m 16s\tremaining: 1.2s\n",
      "793:\tlearn: 0.6121789\ttotal: 2m 16s\tremaining: 1.03s\n",
      "794:\tlearn: 0.6120398\ttotal: 2m 16s\tremaining: 857ms\n",
      "795:\tlearn: 0.6117955\ttotal: 2m 16s\tremaining: 686ms\n",
      "796:\tlearn: 0.6116075\ttotal: 2m 16s\tremaining: 514ms\n",
      "797:\tlearn: 0.6114980\ttotal: 2m 16s\tremaining: 343ms\n",
      "798:\tlearn: 0.6112741\ttotal: 2m 16s\tremaining: 171ms\n",
      "799:\tlearn: 0.6111349\ttotal: 2m 17s\tremaining: 0us\n"
     ]
    },
    {
     "data": {
      "text/plain": [
       "<catboost.core.CatBoostClassifier at 0x1b852824a30>"
      ]
     },
     "execution_count": 76,
     "metadata": {},
     "output_type": "execute_result"
    }
   ],
   "source": [
    "from catboost import CatBoostClassifier\n",
    "\n",
    "cat_features = [0,2,5,6,7,8,9,10,12,15,16,18,19,20]\n",
    "cat = CatBoostClassifier(random_state = 13,\n",
    "                        n_estimators = 800, cat_features = cat_features)\n",
    "cat.fit(X_train, y_train)"
   ]
  },
  {
   "cell_type": "code",
   "execution_count": 77,
   "id": "bbca7e10",
   "metadata": {
    "colab": {
     "base_uri": "https://localhost:8080/"
    },
    "executionInfo": {
     "elapsed": 615,
     "status": "ok",
     "timestamp": 1638421187607,
     "user": {
      "displayName": "유상준",
      "photoUrl": "https://lh3.googleusercontent.com/a-/AOh14GjwhV3OPaZeVbcnb0L540CX4dtB2wGRfCVw4E8=s64",
      "userId": "06620102043085366517"
     },
     "user_tz": -540
    },
    "id": "1f50d6eb",
    "outputId": "0b2516d8-07eb-493b-b96a-d53521922b03"
   },
   "outputs": [
    {
     "name": "stdout",
     "output_type": "stream",
     "text": [
      "==================================================\n",
      "Validataion set 예측 성능 평가\n",
      "              precision    recall  f1-score   support\n",
      "\n",
      "         0.0       0.60      0.05      0.09       644\n",
      "         1.0       0.72      0.31      0.43      1254\n",
      "         2.0       0.71      0.98      0.82      3393\n",
      "\n",
      "    accuracy                           0.71      5291\n",
      "   macro avg       0.67      0.44      0.45      5291\n",
      "weighted avg       0.70      0.71      0.64      5291\n",
      "\n",
      "[[  31   84  529]\n",
      " [  13  383  858]\n",
      " [   8   66 3319]]\n",
      "==================================================\n",
      "log_loss :  0.7503044117969756\n",
      "accuracy_score :  0.7055377055377056\n"
     ]
    }
   ],
   "source": [
    "from sklearn.metrics import log_loss, accuracy_score, classification_report, confusion_matrix\n",
    "\n",
    "print('='*50)\n",
    "print('Validataion set 예측 성능 평가')\n",
    "print(classification_report(y_val, cat.predict(X_val)))\n",
    "print(confusion_matrix(y_val, cat.predict(X_val)))\n",
    "print('='*50)\n",
    "print('log_loss : ',log_loss(y_val, cat.predict_proba(X_val)))\n",
    "print('accuracy_score : ', accuracy_score(y_val, cat.predict(X_val)))"
   ]
  },
  {
   "cell_type": "markdown",
   "id": "d2e0666c",
   "metadata": {
    "id": "dd5ca457"
   },
   "source": [
    "#### oversampling O"
   ]
  },
  {
   "cell_type": "code",
   "execution_count": 78,
   "id": "db49ef1e",
   "metadata": {
    "id": "1f6f13e0",
    "scrolled": true
   },
   "outputs": [
    {
     "name": "stdout",
     "output_type": "stream",
     "text": [
      "Learning rate set to 0.115427\n",
      "0:\tlearn: 1.0841123\ttotal: 221ms\tremaining: 2m 56s\n",
      "1:\tlearn: 1.0720471\ttotal: 524ms\tremaining: 3m 29s\n",
      "2:\tlearn: 1.0635040\ttotal: 869ms\tremaining: 3m 50s\n",
      "3:\tlearn: 1.0512696\ttotal: 1.22s\tremaining: 4m 1s\n",
      "4:\tlearn: 1.0404052\ttotal: 1.51s\tremaining: 3m 59s\n",
      "5:\tlearn: 1.0348616\ttotal: 1.81s\tremaining: 4m\n",
      "6:\tlearn: 1.0275749\ttotal: 2.12s\tremaining: 4m\n",
      "7:\tlearn: 1.0221304\ttotal: 2.48s\tremaining: 4m 5s\n",
      "8:\tlearn: 1.0148903\ttotal: 2.77s\tremaining: 4m 3s\n",
      "9:\tlearn: 1.0065720\ttotal: 3.06s\tremaining: 4m 1s\n",
      "10:\tlearn: 1.0025736\ttotal: 3.33s\tremaining: 3m 59s\n",
      "11:\tlearn: 0.9966279\ttotal: 3.67s\tremaining: 4m\n",
      "12:\tlearn: 0.9887820\ttotal: 4.09s\tremaining: 4m 7s\n",
      "13:\tlearn: 0.9855027\ttotal: 4.39s\tremaining: 4m 6s\n",
      "14:\tlearn: 0.9816253\ttotal: 4.67s\tremaining: 4m 4s\n",
      "15:\tlearn: 0.9781949\ttotal: 4.99s\tremaining: 4m 4s\n",
      "16:\tlearn: 0.9754164\ttotal: 5.33s\tremaining: 4m 5s\n",
      "17:\tlearn: 0.9732102\ttotal: 5.64s\tremaining: 4m 5s\n",
      "18:\tlearn: 0.9706127\ttotal: 5.97s\tremaining: 4m 5s\n",
      "19:\tlearn: 0.9657773\ttotal: 6.28s\tremaining: 4m 4s\n",
      "20:\tlearn: 0.9638340\ttotal: 6.54s\tremaining: 4m 2s\n",
      "21:\tlearn: 0.9618192\ttotal: 6.88s\tremaining: 4m 3s\n",
      "22:\tlearn: 0.9593997\ttotal: 7.15s\tremaining: 4m 1s\n",
      "23:\tlearn: 0.9571381\ttotal: 7.54s\tremaining: 4m 3s\n",
      "24:\tlearn: 0.9550829\ttotal: 7.84s\tremaining: 4m 3s\n",
      "25:\tlearn: 0.9530812\ttotal: 8.18s\tremaining: 4m 3s\n",
      "26:\tlearn: 0.9516714\ttotal: 8.59s\tremaining: 4m 5s\n",
      "27:\tlearn: 0.9505168\ttotal: 8.89s\tremaining: 4m 5s\n",
      "28:\tlearn: 0.9489678\ttotal: 9.13s\tremaining: 4m 2s\n",
      "29:\tlearn: 0.9470096\ttotal: 9.39s\tremaining: 4m\n",
      "30:\tlearn: 0.9453238\ttotal: 9.64s\tremaining: 3m 59s\n",
      "31:\tlearn: 0.9441386\ttotal: 9.9s\tremaining: 3m 57s\n",
      "32:\tlearn: 0.9416489\ttotal: 10.2s\tremaining: 3m 56s\n",
      "33:\tlearn: 0.9394703\ttotal: 10.4s\tremaining: 3m 54s\n",
      "34:\tlearn: 0.9379197\ttotal: 10.7s\tremaining: 3m 53s\n",
      "35:\tlearn: 0.9368556\ttotal: 11s\tremaining: 3m 53s\n",
      "36:\tlearn: 0.9359382\ttotal: 11.2s\tremaining: 3m 50s\n",
      "37:\tlearn: 0.9348405\ttotal: 11.4s\tremaining: 3m 48s\n",
      "38:\tlearn: 0.9337115\ttotal: 11.6s\tremaining: 3m 46s\n",
      "39:\tlearn: 0.9327498\ttotal: 11.8s\tremaining: 3m 44s\n",
      "40:\tlearn: 0.9318685\ttotal: 12.2s\tremaining: 3m 45s\n",
      "41:\tlearn: 0.9294754\ttotal: 12.4s\tremaining: 3m 43s\n",
      "42:\tlearn: 0.9285112\ttotal: 12.6s\tremaining: 3m 42s\n",
      "43:\tlearn: 0.9276093\ttotal: 12.9s\tremaining: 3m 41s\n",
      "44:\tlearn: 0.9258124\ttotal: 13.2s\tremaining: 3m 41s\n",
      "45:\tlearn: 0.9241955\ttotal: 13.5s\tremaining: 3m 41s\n",
      "46:\tlearn: 0.9222932\ttotal: 13.8s\tremaining: 3m 40s\n",
      "47:\tlearn: 0.9203654\ttotal: 14.1s\tremaining: 3m 40s\n",
      "48:\tlearn: 0.9190628\ttotal: 14.4s\tremaining: 3m 41s\n",
      "49:\tlearn: 0.9177137\ttotal: 14.7s\tremaining: 3m 40s\n",
      "50:\tlearn: 0.9171170\ttotal: 14.9s\tremaining: 3m 39s\n",
      "51:\tlearn: 0.9155683\ttotal: 15.3s\tremaining: 3m 39s\n",
      "52:\tlearn: 0.9138139\ttotal: 15.6s\tremaining: 3m 40s\n",
      "53:\tlearn: 0.9131299\ttotal: 15.9s\tremaining: 3m 39s\n",
      "54:\tlearn: 0.9114885\ttotal: 16.3s\tremaining: 3m 40s\n",
      "55:\tlearn: 0.9113689\ttotal: 16.4s\tremaining: 3m 37s\n",
      "56:\tlearn: 0.9104339\ttotal: 16.7s\tremaining: 3m 37s\n",
      "57:\tlearn: 0.9097444\ttotal: 17.1s\tremaining: 3m 39s\n",
      "58:\tlearn: 0.9091990\ttotal: 17.5s\tremaining: 3m 40s\n",
      "59:\tlearn: 0.9076554\ttotal: 17.9s\tremaining: 3m 40s\n",
      "60:\tlearn: 0.9069154\ttotal: 18.1s\tremaining: 3m 39s\n",
      "61:\tlearn: 0.9063551\ttotal: 18.3s\tremaining: 3m 38s\n",
      "62:\tlearn: 0.9052167\ttotal: 18.7s\tremaining: 3m 38s\n",
      "63:\tlearn: 0.9031262\ttotal: 19s\tremaining: 3m 38s\n",
      "64:\tlearn: 0.9021966\ttotal: 19.3s\tremaining: 3m 37s\n",
      "65:\tlearn: 0.9011109\ttotal: 19.5s\tremaining: 3m 37s\n",
      "66:\tlearn: 0.9003155\ttotal: 19.8s\tremaining: 3m 36s\n",
      "67:\tlearn: 0.8988804\ttotal: 20s\tremaining: 3m 35s\n",
      "68:\tlearn: 0.8960139\ttotal: 20.3s\tremaining: 3m 35s\n",
      "69:\tlearn: 0.8950270\ttotal: 20.6s\tremaining: 3m 34s\n",
      "70:\tlearn: 0.8940299\ttotal: 20.9s\tremaining: 3m 34s\n",
      "71:\tlearn: 0.8929218\ttotal: 21.2s\tremaining: 3m 34s\n",
      "72:\tlearn: 0.8916410\ttotal: 21.5s\tremaining: 3m 34s\n",
      "73:\tlearn: 0.8910164\ttotal: 21.8s\tremaining: 3m 34s\n",
      "74:\tlearn: 0.8905192\ttotal: 22.1s\tremaining: 3m 33s\n",
      "75:\tlearn: 0.8894033\ttotal: 22.3s\tremaining: 3m 32s\n",
      "76:\tlearn: 0.8890625\ttotal: 22.7s\tremaining: 3m 33s\n",
      "77:\tlearn: 0.8881567\ttotal: 23s\tremaining: 3m 32s\n",
      "78:\tlearn: 0.8866962\ttotal: 23.3s\tremaining: 3m 32s\n",
      "79:\tlearn: 0.8854866\ttotal: 23.6s\tremaining: 3m 32s\n",
      "80:\tlearn: 0.8843893\ttotal: 23.8s\tremaining: 3m 31s\n",
      "81:\tlearn: 0.8833978\ttotal: 24.1s\tremaining: 3m 30s\n",
      "82:\tlearn: 0.8815650\ttotal: 24.3s\tremaining: 3m 29s\n",
      "83:\tlearn: 0.8802932\ttotal: 24.6s\tremaining: 3m 29s\n",
      "84:\tlearn: 0.8793268\ttotal: 24.8s\tremaining: 3m 28s\n",
      "85:\tlearn: 0.8787047\ttotal: 25.1s\tremaining: 3m 28s\n",
      "86:\tlearn: 0.8773268\ttotal: 25.3s\tremaining: 3m 27s\n",
      "87:\tlearn: 0.8759665\ttotal: 25.6s\tremaining: 3m 27s\n",
      "88:\tlearn: 0.8748312\ttotal: 25.8s\tremaining: 3m 26s\n",
      "89:\tlearn: 0.8736178\ttotal: 26.1s\tremaining: 3m 25s\n",
      "90:\tlearn: 0.8726558\ttotal: 26.4s\tremaining: 3m 25s\n",
      "91:\tlearn: 0.8714441\ttotal: 26.8s\tremaining: 3m 26s\n",
      "92:\tlearn: 0.8707076\ttotal: 27.3s\tremaining: 3m 27s\n",
      "93:\tlearn: 0.8693002\ttotal: 27.6s\tremaining: 3m 27s\n",
      "94:\tlearn: 0.8677849\ttotal: 27.9s\tremaining: 3m 27s\n",
      "95:\tlearn: 0.8661717\ttotal: 28.2s\tremaining: 3m 26s\n",
      "96:\tlearn: 0.8651285\ttotal: 28.5s\tremaining: 3m 26s\n",
      "97:\tlearn: 0.8640576\ttotal: 28.7s\tremaining: 3m 25s\n",
      "98:\tlearn: 0.8632956\ttotal: 29s\tremaining: 3m 25s\n",
      "99:\tlearn: 0.8623595\ttotal: 29.2s\tremaining: 3m 24s\n",
      "100:\tlearn: 0.8615207\ttotal: 29.5s\tremaining: 3m 24s\n",
      "101:\tlearn: 0.8608663\ttotal: 29.7s\tremaining: 3m 23s\n",
      "102:\tlearn: 0.8585641\ttotal: 30.1s\tremaining: 3m 23s\n",
      "103:\tlearn: 0.8578006\ttotal: 30.4s\tremaining: 3m 23s\n",
      "104:\tlearn: 0.8572688\ttotal: 30.7s\tremaining: 3m 23s\n",
      "105:\tlearn: 0.8561206\ttotal: 31.1s\tremaining: 3m 23s\n",
      "106:\tlearn: 0.8549116\ttotal: 31.4s\tremaining: 3m 23s\n",
      "107:\tlearn: 0.8541764\ttotal: 31.7s\tremaining: 3m 23s\n",
      "108:\tlearn: 0.8526882\ttotal: 32s\tremaining: 3m 22s\n",
      "109:\tlearn: 0.8516271\ttotal: 32.3s\tremaining: 3m 22s\n",
      "110:\tlearn: 0.8507177\ttotal: 32.6s\tremaining: 3m 22s\n",
      "111:\tlearn: 0.8497153\ttotal: 32.8s\tremaining: 3m 21s\n",
      "112:\tlearn: 0.8481008\ttotal: 33s\tremaining: 3m 20s\n",
      "113:\tlearn: 0.8474251\ttotal: 33.2s\tremaining: 3m 19s\n",
      "114:\tlearn: 0.8462700\ttotal: 33.5s\tremaining: 3m 19s\n",
      "115:\tlearn: 0.8450936\ttotal: 33.9s\tremaining: 3m 19s\n",
      "116:\tlearn: 0.8443247\ttotal: 34.2s\tremaining: 3m 19s\n",
      "117:\tlearn: 0.8433231\ttotal: 34.5s\tremaining: 3m 19s\n",
      "118:\tlearn: 0.8425199\ttotal: 34.8s\tremaining: 3m 19s\n",
      "119:\tlearn: 0.8413400\ttotal: 35.1s\tremaining: 3m 18s\n",
      "120:\tlearn: 0.8405884\ttotal: 35.4s\tremaining: 3m 18s\n",
      "121:\tlearn: 0.8393633\ttotal: 35.7s\tremaining: 3m 18s\n",
      "122:\tlearn: 0.8383841\ttotal: 36s\tremaining: 3m 17s\n",
      "123:\tlearn: 0.8373132\ttotal: 36.4s\tremaining: 3m 18s\n",
      "124:\tlearn: 0.8361523\ttotal: 36.6s\tremaining: 3m 17s\n",
      "125:\tlearn: 0.8351003\ttotal: 37.1s\tremaining: 3m 18s\n",
      "126:\tlearn: 0.8341085\ttotal: 37.3s\tremaining: 3m 17s\n",
      "127:\tlearn: 0.8327492\ttotal: 37.7s\tremaining: 3m 17s\n",
      "128:\tlearn: 0.8320976\ttotal: 38s\tremaining: 3m 17s\n",
      "129:\tlearn: 0.8304214\ttotal: 38.3s\tremaining: 3m 17s\n",
      "130:\tlearn: 0.8299586\ttotal: 38.5s\tremaining: 3m 16s\n",
      "131:\tlearn: 0.8289263\ttotal: 38.8s\tremaining: 3m 16s\n",
      "132:\tlearn: 0.8275931\ttotal: 39.2s\tremaining: 3m 16s\n",
      "133:\tlearn: 0.8269775\ttotal: 39.5s\tremaining: 3m 16s\n",
      "134:\tlearn: 0.8260909\ttotal: 39.7s\tremaining: 3m 15s\n",
      "135:\tlearn: 0.8253538\ttotal: 40s\tremaining: 3m 15s\n",
      "136:\tlearn: 0.8243598\ttotal: 40.3s\tremaining: 3m 15s\n",
      "137:\tlearn: 0.8232646\ttotal: 40.7s\tremaining: 3m 15s\n",
      "138:\tlearn: 0.8223501\ttotal: 41s\tremaining: 3m 14s\n",
      "139:\tlearn: 0.8215854\ttotal: 41.4s\tremaining: 3m 14s\n",
      "140:\tlearn: 0.8210053\ttotal: 41.6s\tremaining: 3m 14s\n",
      "141:\tlearn: 0.8203942\ttotal: 41.9s\tremaining: 3m 13s\n",
      "142:\tlearn: 0.8194497\ttotal: 42.1s\tremaining: 3m 13s\n",
      "143:\tlearn: 0.8187396\ttotal: 42.5s\tremaining: 3m 13s\n",
      "144:\tlearn: 0.8179083\ttotal: 42.7s\tremaining: 3m 13s\n",
      "145:\tlearn: 0.8162707\ttotal: 43s\tremaining: 3m 12s\n",
      "146:\tlearn: 0.8151399\ttotal: 43.3s\tremaining: 3m 12s\n",
      "147:\tlearn: 0.8143439\ttotal: 43.6s\tremaining: 3m 12s\n",
      "148:\tlearn: 0.8135111\ttotal: 43.9s\tremaining: 3m 11s\n",
      "149:\tlearn: 0.8124129\ttotal: 44.2s\tremaining: 3m 11s\n",
      "150:\tlearn: 0.8116855\ttotal: 44.4s\tremaining: 3m 10s\n",
      "151:\tlearn: 0.8110364\ttotal: 44.9s\tremaining: 3m 11s\n",
      "152:\tlearn: 0.8101048\ttotal: 45.1s\tremaining: 3m 10s\n",
      "153:\tlearn: 0.8092311\ttotal: 45.4s\tremaining: 3m 10s\n",
      "154:\tlearn: 0.8083591\ttotal: 45.8s\tremaining: 3m 10s\n",
      "155:\tlearn: 0.8076053\ttotal: 46s\tremaining: 3m 10s\n",
      "156:\tlearn: 0.8065313\ttotal: 46.3s\tremaining: 3m 9s\n",
      "157:\tlearn: 0.8054882\ttotal: 46.5s\tremaining: 3m 8s\n"
     ]
    },
    {
     "name": "stdout",
     "output_type": "stream",
     "text": [
      "158:\tlearn: 0.8037435\ttotal: 46.7s\tremaining: 3m 8s\n",
      "159:\tlearn: 0.8022628\ttotal: 47.1s\tremaining: 3m 8s\n",
      "160:\tlearn: 0.8015819\ttotal: 47.4s\tremaining: 3m 8s\n",
      "161:\tlearn: 0.8010397\ttotal: 47.7s\tremaining: 3m 7s\n",
      "162:\tlearn: 0.8004656\ttotal: 48s\tremaining: 3m 7s\n",
      "163:\tlearn: 0.8001951\ttotal: 48.3s\tremaining: 3m 7s\n",
      "164:\tlearn: 0.7992657\ttotal: 48.5s\tremaining: 3m 6s\n",
      "165:\tlearn: 0.7984102\ttotal: 48.8s\tremaining: 3m 6s\n",
      "166:\tlearn: 0.7974430\ttotal: 49s\tremaining: 3m 5s\n",
      "167:\tlearn: 0.7967294\ttotal: 49.4s\tremaining: 3m 5s\n",
      "168:\tlearn: 0.7955566\ttotal: 49.6s\tremaining: 3m 5s\n",
      "169:\tlearn: 0.7948995\ttotal: 49.8s\tremaining: 3m 4s\n",
      "170:\tlearn: 0.7941148\ttotal: 50.1s\tremaining: 3m 4s\n",
      "171:\tlearn: 0.7929193\ttotal: 50.4s\tremaining: 3m 4s\n",
      "172:\tlearn: 0.7919635\ttotal: 50.7s\tremaining: 3m 3s\n",
      "173:\tlearn: 0.7912696\ttotal: 50.9s\tremaining: 3m 3s\n",
      "174:\tlearn: 0.7908314\ttotal: 51.2s\tremaining: 3m 2s\n",
      "175:\tlearn: 0.7902837\ttotal: 51.4s\tremaining: 3m 2s\n",
      "176:\tlearn: 0.7896682\ttotal: 51.7s\tremaining: 3m 1s\n",
      "177:\tlearn: 0.7886512\ttotal: 51.9s\tremaining: 3m 1s\n",
      "178:\tlearn: 0.7874692\ttotal: 52.1s\tremaining: 3m\n",
      "179:\tlearn: 0.7866214\ttotal: 52.3s\tremaining: 3m\n",
      "180:\tlearn: 0.7857611\ttotal: 52.6s\tremaining: 2m 59s\n",
      "181:\tlearn: 0.7845609\ttotal: 52.8s\tremaining: 2m 59s\n",
      "182:\tlearn: 0.7838464\ttotal: 53s\tremaining: 2m 58s\n",
      "183:\tlearn: 0.7832409\ttotal: 53.3s\tremaining: 2m 58s\n",
      "184:\tlearn: 0.7828221\ttotal: 53.5s\tremaining: 2m 57s\n",
      "185:\tlearn: 0.7824147\ttotal: 53.9s\tremaining: 2m 58s\n",
      "186:\tlearn: 0.7819492\ttotal: 54.2s\tremaining: 2m 57s\n",
      "187:\tlearn: 0.7808430\ttotal: 54.4s\tremaining: 2m 57s\n",
      "188:\tlearn: 0.7803078\ttotal: 54.6s\tremaining: 2m 56s\n",
      "189:\tlearn: 0.7799246\ttotal: 54.9s\tremaining: 2m 56s\n",
      "190:\tlearn: 0.7790084\ttotal: 55.2s\tremaining: 2m 55s\n",
      "191:\tlearn: 0.7785594\ttotal: 55.4s\tremaining: 2m 55s\n",
      "192:\tlearn: 0.7775468\ttotal: 55.7s\tremaining: 2m 55s\n",
      "193:\tlearn: 0.7769789\ttotal: 55.9s\tremaining: 2m 54s\n",
      "194:\tlearn: 0.7766636\ttotal: 56.3s\tremaining: 2m 54s\n",
      "195:\tlearn: 0.7762362\ttotal: 56.5s\tremaining: 2m 54s\n",
      "196:\tlearn: 0.7752936\ttotal: 56.8s\tremaining: 2m 53s\n",
      "197:\tlearn: 0.7742122\ttotal: 57.1s\tremaining: 2m 53s\n",
      "198:\tlearn: 0.7733891\ttotal: 57.4s\tremaining: 2m 53s\n",
      "199:\tlearn: 0.7730154\ttotal: 57.7s\tremaining: 2m 53s\n",
      "200:\tlearn: 0.7726459\ttotal: 58s\tremaining: 2m 52s\n",
      "201:\tlearn: 0.7720398\ttotal: 58.3s\tremaining: 2m 52s\n",
      "202:\tlearn: 0.7713823\ttotal: 58.6s\tremaining: 2m 52s\n",
      "203:\tlearn: 0.7710030\ttotal: 58.8s\tremaining: 2m 51s\n",
      "204:\tlearn: 0.7705294\ttotal: 59s\tremaining: 2m 51s\n",
      "205:\tlearn: 0.7700173\ttotal: 59.2s\tremaining: 2m 50s\n",
      "206:\tlearn: 0.7694573\ttotal: 59.6s\tremaining: 2m 50s\n",
      "207:\tlearn: 0.7686361\ttotal: 59.8s\tremaining: 2m 50s\n",
      "208:\tlearn: 0.7674999\ttotal: 1m\tremaining: 2m 49s\n",
      "209:\tlearn: 0.7667956\ttotal: 1m\tremaining: 2m 49s\n",
      "210:\tlearn: 0.7659869\ttotal: 1m\tremaining: 2m 49s\n",
      "211:\tlearn: 0.7655642\ttotal: 1m\tremaining: 2m 48s\n",
      "212:\tlearn: 0.7651211\ttotal: 1m 1s\tremaining: 2m 48s\n",
      "213:\tlearn: 0.7640475\ttotal: 1m 1s\tremaining: 2m 48s\n",
      "214:\tlearn: 0.7633096\ttotal: 1m 1s\tremaining: 2m 47s\n",
      "215:\tlearn: 0.7627418\ttotal: 1m 2s\tremaining: 2m 47s\n",
      "216:\tlearn: 0.7625008\ttotal: 1m 2s\tremaining: 2m 47s\n",
      "217:\tlearn: 0.7617793\ttotal: 1m 2s\tremaining: 2m 46s\n",
      "218:\tlearn: 0.7611453\ttotal: 1m 2s\tremaining: 2m 46s\n",
      "219:\tlearn: 0.7602494\ttotal: 1m 3s\tremaining: 2m 46s\n",
      "220:\tlearn: 0.7598016\ttotal: 1m 3s\tremaining: 2m 45s\n",
      "221:\tlearn: 0.7591270\ttotal: 1m 3s\tremaining: 2m 45s\n",
      "222:\tlearn: 0.7586824\ttotal: 1m 3s\tremaining: 2m 45s\n",
      "223:\tlearn: 0.7582106\ttotal: 1m 4s\tremaining: 2m 45s\n",
      "224:\tlearn: 0.7573976\ttotal: 1m 4s\tremaining: 2m 44s\n",
      "225:\tlearn: 0.7569955\ttotal: 1m 4s\tremaining: 2m 44s\n",
      "226:\tlearn: 0.7562864\ttotal: 1m 4s\tremaining: 2m 44s\n",
      "227:\tlearn: 0.7559334\ttotal: 1m 5s\tremaining: 2m 43s\n",
      "228:\tlearn: 0.7550451\ttotal: 1m 5s\tremaining: 2m 43s\n",
      "229:\tlearn: 0.7542094\ttotal: 1m 5s\tremaining: 2m 43s\n",
      "230:\tlearn: 0.7535196\ttotal: 1m 6s\tremaining: 2m 42s\n",
      "231:\tlearn: 0.7530875\ttotal: 1m 6s\tremaining: 2m 42s\n",
      "232:\tlearn: 0.7524385\ttotal: 1m 6s\tremaining: 2m 42s\n",
      "233:\tlearn: 0.7517456\ttotal: 1m 6s\tremaining: 2m 41s\n",
      "234:\tlearn: 0.7509801\ttotal: 1m 7s\tremaining: 2m 41s\n",
      "235:\tlearn: 0.7503019\ttotal: 1m 7s\tremaining: 2m 41s\n",
      "236:\tlearn: 0.7499141\ttotal: 1m 7s\tremaining: 2m 40s\n",
      "237:\tlearn: 0.7494846\ttotal: 1m 7s\tremaining: 2m 40s\n",
      "238:\tlearn: 0.7488286\ttotal: 1m 8s\tremaining: 2m 40s\n",
      "239:\tlearn: 0.7484557\ttotal: 1m 8s\tremaining: 2m 39s\n",
      "240:\tlearn: 0.7478377\ttotal: 1m 8s\tremaining: 2m 39s\n",
      "241:\tlearn: 0.7471634\ttotal: 1m 9s\tremaining: 2m 39s\n",
      "242:\tlearn: 0.7467660\ttotal: 1m 9s\tremaining: 2m 38s\n",
      "243:\tlearn: 0.7464176\ttotal: 1m 9s\tremaining: 2m 38s\n",
      "244:\tlearn: 0.7457916\ttotal: 1m 9s\tremaining: 2m 38s\n",
      "245:\tlearn: 0.7447898\ttotal: 1m 10s\tremaining: 2m 38s\n",
      "246:\tlearn: 0.7440118\ttotal: 1m 10s\tremaining: 2m 37s\n",
      "247:\tlearn: 0.7435254\ttotal: 1m 10s\tremaining: 2m 37s\n",
      "248:\tlearn: 0.7430307\ttotal: 1m 10s\tremaining: 2m 37s\n",
      "249:\tlearn: 0.7420935\ttotal: 1m 11s\tremaining: 2m 36s\n",
      "250:\tlearn: 0.7413084\ttotal: 1m 11s\tremaining: 2m 36s\n",
      "251:\tlearn: 0.7408384\ttotal: 1m 11s\tremaining: 2m 36s\n",
      "252:\tlearn: 0.7405706\ttotal: 1m 12s\tremaining: 2m 35s\n",
      "253:\tlearn: 0.7399819\ttotal: 1m 12s\tremaining: 2m 35s\n",
      "254:\tlearn: 0.7396034\ttotal: 1m 12s\tremaining: 2m 35s\n",
      "255:\tlearn: 0.7392306\ttotal: 1m 12s\tremaining: 2m 34s\n",
      "256:\tlearn: 0.7385998\ttotal: 1m 13s\tremaining: 2m 34s\n",
      "257:\tlearn: 0.7382605\ttotal: 1m 13s\tremaining: 2m 34s\n",
      "258:\tlearn: 0.7373156\ttotal: 1m 13s\tremaining: 2m 34s\n",
      "259:\tlearn: 0.7366332\ttotal: 1m 14s\tremaining: 2m 33s\n",
      "260:\tlearn: 0.7360938\ttotal: 1m 14s\tremaining: 2m 33s\n",
      "261:\tlearn: 0.7354635\ttotal: 1m 14s\tremaining: 2m 33s\n",
      "262:\tlearn: 0.7347050\ttotal: 1m 15s\tremaining: 2m 33s\n",
      "263:\tlearn: 0.7341873\ttotal: 1m 15s\tremaining: 2m 32s\n",
      "264:\tlearn: 0.7339477\ttotal: 1m 15s\tremaining: 2m 32s\n",
      "265:\tlearn: 0.7336003\ttotal: 1m 15s\tremaining: 2m 32s\n",
      "266:\tlearn: 0.7331397\ttotal: 1m 16s\tremaining: 2m 32s\n",
      "267:\tlearn: 0.7327721\ttotal: 1m 16s\tremaining: 2m 31s\n",
      "268:\tlearn: 0.7321156\ttotal: 1m 16s\tremaining: 2m 31s\n",
      "269:\tlearn: 0.7314243\ttotal: 1m 17s\tremaining: 2m 31s\n",
      "270:\tlearn: 0.7307732\ttotal: 1m 17s\tremaining: 2m 30s\n",
      "271:\tlearn: 0.7304288\ttotal: 1m 17s\tremaining: 2m 30s\n",
      "272:\tlearn: 0.7300262\ttotal: 1m 17s\tremaining: 2m 30s\n",
      "273:\tlearn: 0.7292917\ttotal: 1m 18s\tremaining: 2m 30s\n",
      "274:\tlearn: 0.7286656\ttotal: 1m 18s\tremaining: 2m 29s\n",
      "275:\tlearn: 0.7283197\ttotal: 1m 18s\tremaining: 2m 29s\n",
      "276:\tlearn: 0.7279489\ttotal: 1m 19s\tremaining: 2m 29s\n",
      "277:\tlearn: 0.7272621\ttotal: 1m 19s\tremaining: 2m 28s\n",
      "278:\tlearn: 0.7267326\ttotal: 1m 19s\tremaining: 2m 28s\n",
      "279:\tlearn: 0.7262548\ttotal: 1m 19s\tremaining: 2m 28s\n",
      "280:\tlearn: 0.7255281\ttotal: 1m 20s\tremaining: 2m 28s\n",
      "281:\tlearn: 0.7249725\ttotal: 1m 20s\tremaining: 2m 27s\n",
      "282:\tlearn: 0.7245254\ttotal: 1m 20s\tremaining: 2m 27s\n",
      "283:\tlearn: 0.7241307\ttotal: 1m 20s\tremaining: 2m 27s\n",
      "284:\tlearn: 0.7237246\ttotal: 1m 21s\tremaining: 2m 26s\n",
      "285:\tlearn: 0.7232973\ttotal: 1m 21s\tremaining: 2m 26s\n",
      "286:\tlearn: 0.7229398\ttotal: 1m 21s\tremaining: 2m 26s\n",
      "287:\tlearn: 0.7226035\ttotal: 1m 22s\tremaining: 2m 25s\n",
      "288:\tlearn: 0.7222148\ttotal: 1m 22s\tremaining: 2m 25s\n",
      "289:\tlearn: 0.7214792\ttotal: 1m 22s\tremaining: 2m 25s\n",
      "290:\tlearn: 0.7208824\ttotal: 1m 22s\tremaining: 2m 25s\n",
      "291:\tlearn: 0.7206720\ttotal: 1m 23s\tremaining: 2m 24s\n",
      "292:\tlearn: 0.7201462\ttotal: 1m 23s\tremaining: 2m 24s\n",
      "293:\tlearn: 0.7198037\ttotal: 1m 23s\tremaining: 2m 24s\n",
      "294:\tlearn: 0.7193843\ttotal: 1m 24s\tremaining: 2m 23s\n",
      "295:\tlearn: 0.7190699\ttotal: 1m 24s\tremaining: 2m 23s\n",
      "296:\tlearn: 0.7184019\ttotal: 1m 24s\tremaining: 2m 23s\n",
      "297:\tlearn: 0.7179323\ttotal: 1m 25s\tremaining: 2m 23s\n",
      "298:\tlearn: 0.7174836\ttotal: 1m 25s\tremaining: 2m 22s\n",
      "299:\tlearn: 0.7170894\ttotal: 1m 25s\tremaining: 2m 22s\n",
      "300:\tlearn: 0.7169340\ttotal: 1m 25s\tremaining: 2m 22s\n",
      "301:\tlearn: 0.7165456\ttotal: 1m 26s\tremaining: 2m 22s\n",
      "302:\tlearn: 0.7156583\ttotal: 1m 26s\tremaining: 2m 21s\n",
      "303:\tlearn: 0.7151260\ttotal: 1m 26s\tremaining: 2m 21s\n",
      "304:\tlearn: 0.7147604\ttotal: 1m 27s\tremaining: 2m 21s\n",
      "305:\tlearn: 0.7144611\ttotal: 1m 27s\tremaining: 2m 21s\n",
      "306:\tlearn: 0.7142050\ttotal: 1m 27s\tremaining: 2m 20s\n",
      "307:\tlearn: 0.7140181\ttotal: 1m 27s\tremaining: 2m 20s\n",
      "308:\tlearn: 0.7137547\ttotal: 1m 28s\tremaining: 2m 19s\n",
      "309:\tlearn: 0.7131160\ttotal: 1m 28s\tremaining: 2m 19s\n",
      "310:\tlearn: 0.7127320\ttotal: 1m 28s\tremaining: 2m 19s\n",
      "311:\tlearn: 0.7125225\ttotal: 1m 29s\tremaining: 2m 19s\n",
      "312:\tlearn: 0.7122431\ttotal: 1m 29s\tremaining: 2m 19s\n"
     ]
    },
    {
     "name": "stdout",
     "output_type": "stream",
     "text": [
      "313:\tlearn: 0.7119706\ttotal: 1m 29s\tremaining: 2m 18s\n",
      "314:\tlearn: 0.7112150\ttotal: 1m 29s\tremaining: 2m 18s\n",
      "315:\tlearn: 0.7110144\ttotal: 1m 30s\tremaining: 2m 18s\n",
      "316:\tlearn: 0.7105281\ttotal: 1m 30s\tremaining: 2m 18s\n",
      "317:\tlearn: 0.7100117\ttotal: 1m 31s\tremaining: 2m 17s\n",
      "318:\tlearn: 0.7093873\ttotal: 1m 31s\tremaining: 2m 17s\n",
      "319:\tlearn: 0.7090638\ttotal: 1m 31s\tremaining: 2m 17s\n",
      "320:\tlearn: 0.7085526\ttotal: 1m 31s\tremaining: 2m 17s\n",
      "321:\tlearn: 0.7079543\ttotal: 1m 32s\tremaining: 2m 16s\n",
      "322:\tlearn: 0.7075656\ttotal: 1m 32s\tremaining: 2m 16s\n",
      "323:\tlearn: 0.7068896\ttotal: 1m 32s\tremaining: 2m 16s\n",
      "324:\tlearn: 0.7063583\ttotal: 1m 32s\tremaining: 2m 15s\n",
      "325:\tlearn: 0.7058456\ttotal: 1m 33s\tremaining: 2m 15s\n",
      "326:\tlearn: 0.7051501\ttotal: 1m 33s\tremaining: 2m 15s\n",
      "327:\tlearn: 0.7047524\ttotal: 1m 33s\tremaining: 2m 14s\n",
      "328:\tlearn: 0.7042067\ttotal: 1m 34s\tremaining: 2m 14s\n",
      "329:\tlearn: 0.7036283\ttotal: 1m 34s\tremaining: 2m 14s\n",
      "330:\tlearn: 0.7031673\ttotal: 1m 34s\tremaining: 2m 13s\n",
      "331:\tlearn: 0.7027587\ttotal: 1m 34s\tremaining: 2m 13s\n",
      "332:\tlearn: 0.7022612\ttotal: 1m 34s\tremaining: 2m 13s\n",
      "333:\tlearn: 0.7018183\ttotal: 1m 35s\tremaining: 2m 12s\n",
      "334:\tlearn: 0.7013658\ttotal: 1m 35s\tremaining: 2m 12s\n",
      "335:\tlearn: 0.7011264\ttotal: 1m 35s\tremaining: 2m 12s\n",
      "336:\tlearn: 0.7005960\ttotal: 1m 35s\tremaining: 2m 11s\n",
      "337:\tlearn: 0.7002421\ttotal: 1m 36s\tremaining: 2m 11s\n",
      "338:\tlearn: 0.6999310\ttotal: 1m 36s\tremaining: 2m 11s\n",
      "339:\tlearn: 0.6996582\ttotal: 1m 36s\tremaining: 2m 10s\n",
      "340:\tlearn: 0.6990979\ttotal: 1m 36s\tremaining: 2m 10s\n",
      "341:\tlearn: 0.6989625\ttotal: 1m 37s\tremaining: 2m 10s\n",
      "342:\tlearn: 0.6987881\ttotal: 1m 37s\tremaining: 2m 9s\n",
      "343:\tlearn: 0.6984536\ttotal: 1m 37s\tremaining: 2m 9s\n",
      "344:\tlearn: 0.6980547\ttotal: 1m 37s\tremaining: 2m 9s\n",
      "345:\tlearn: 0.6976566\ttotal: 1m 38s\tremaining: 2m 8s\n",
      "346:\tlearn: 0.6973909\ttotal: 1m 38s\tremaining: 2m 8s\n",
      "347:\tlearn: 0.6969442\ttotal: 1m 38s\tremaining: 2m 8s\n",
      "348:\tlearn: 0.6965018\ttotal: 1m 38s\tremaining: 2m 7s\n",
      "349:\tlearn: 0.6959417\ttotal: 1m 39s\tremaining: 2m 7s\n",
      "350:\tlearn: 0.6957350\ttotal: 1m 39s\tremaining: 2m 7s\n",
      "351:\tlearn: 0.6952356\ttotal: 1m 39s\tremaining: 2m 6s\n",
      "352:\tlearn: 0.6945405\ttotal: 1m 39s\tremaining: 2m 6s\n",
      "353:\tlearn: 0.6944518\ttotal: 1m 40s\tremaining: 2m 6s\n",
      "354:\tlearn: 0.6939516\ttotal: 1m 40s\tremaining: 2m 5s\n",
      "355:\tlearn: 0.6934131\ttotal: 1m 40s\tremaining: 2m 5s\n",
      "356:\tlearn: 0.6932720\ttotal: 1m 40s\tremaining: 2m 5s\n",
      "357:\tlearn: 0.6927715\ttotal: 1m 41s\tremaining: 2m 4s\n",
      "358:\tlearn: 0.6925241\ttotal: 1m 41s\tremaining: 2m 4s\n",
      "359:\tlearn: 0.6920996\ttotal: 1m 41s\tremaining: 2m 4s\n",
      "360:\tlearn: 0.6918412\ttotal: 1m 41s\tremaining: 2m 3s\n",
      "361:\tlearn: 0.6915645\ttotal: 1m 42s\tremaining: 2m 3s\n",
      "362:\tlearn: 0.6911774\ttotal: 1m 42s\tremaining: 2m 3s\n",
      "363:\tlearn: 0.6908592\ttotal: 1m 42s\tremaining: 2m 2s\n",
      "364:\tlearn: 0.6903004\ttotal: 1m 42s\tremaining: 2m 2s\n",
      "365:\tlearn: 0.6899497\ttotal: 1m 42s\tremaining: 2m 2s\n",
      "366:\tlearn: 0.6897191\ttotal: 1m 43s\tremaining: 2m 1s\n",
      "367:\tlearn: 0.6891487\ttotal: 1m 43s\tremaining: 2m 1s\n",
      "368:\tlearn: 0.6886386\ttotal: 1m 43s\tremaining: 2m 1s\n",
      "369:\tlearn: 0.6879823\ttotal: 1m 43s\tremaining: 2m\n",
      "370:\tlearn: 0.6875402\ttotal: 1m 44s\tremaining: 2m\n",
      "371:\tlearn: 0.6872056\ttotal: 1m 44s\tremaining: 2m\n",
      "372:\tlearn: 0.6865120\ttotal: 1m 44s\tremaining: 1m 59s\n",
      "373:\tlearn: 0.6862418\ttotal: 1m 44s\tremaining: 1m 59s\n",
      "374:\tlearn: 0.6857656\ttotal: 1m 45s\tremaining: 1m 59s\n",
      "375:\tlearn: 0.6857028\ttotal: 1m 45s\tremaining: 1m 58s\n",
      "376:\tlearn: 0.6850018\ttotal: 1m 45s\tremaining: 1m 58s\n",
      "377:\tlearn: 0.6844738\ttotal: 1m 45s\tremaining: 1m 58s\n",
      "378:\tlearn: 0.6842202\ttotal: 1m 46s\tremaining: 1m 57s\n",
      "379:\tlearn: 0.6837781\ttotal: 1m 46s\tremaining: 1m 57s\n",
      "380:\tlearn: 0.6833890\ttotal: 1m 46s\tremaining: 1m 57s\n",
      "381:\tlearn: 0.6828493\ttotal: 1m 46s\tremaining: 1m 56s\n",
      "382:\tlearn: 0.6824944\ttotal: 1m 47s\tremaining: 1m 56s\n",
      "383:\tlearn: 0.6820672\ttotal: 1m 47s\tremaining: 1m 56s\n",
      "384:\tlearn: 0.6814756\ttotal: 1m 47s\tremaining: 1m 56s\n",
      "385:\tlearn: 0.6812262\ttotal: 1m 47s\tremaining: 1m 55s\n",
      "386:\tlearn: 0.6807579\ttotal: 1m 48s\tremaining: 1m 55s\n",
      "387:\tlearn: 0.6802268\ttotal: 1m 48s\tremaining: 1m 54s\n",
      "388:\tlearn: 0.6799802\ttotal: 1m 48s\tremaining: 1m 54s\n",
      "389:\tlearn: 0.6798773\ttotal: 1m 48s\tremaining: 1m 54s\n",
      "390:\tlearn: 0.6794207\ttotal: 1m 49s\tremaining: 1m 54s\n",
      "391:\tlearn: 0.6790728\ttotal: 1m 49s\tremaining: 1m 53s\n",
      "392:\tlearn: 0.6787750\ttotal: 1m 49s\tremaining: 1m 53s\n",
      "393:\tlearn: 0.6784331\ttotal: 1m 49s\tremaining: 1m 53s\n",
      "394:\tlearn: 0.6779196\ttotal: 1m 50s\tremaining: 1m 52s\n",
      "395:\tlearn: 0.6775089\ttotal: 1m 50s\tremaining: 1m 52s\n",
      "396:\tlearn: 0.6773416\ttotal: 1m 50s\tremaining: 1m 52s\n",
      "397:\tlearn: 0.6770483\ttotal: 1m 50s\tremaining: 1m 51s\n",
      "398:\tlearn: 0.6768635\ttotal: 1m 50s\tremaining: 1m 51s\n",
      "399:\tlearn: 0.6766413\ttotal: 1m 51s\tremaining: 1m 51s\n",
      "400:\tlearn: 0.6764836\ttotal: 1m 51s\tremaining: 1m 50s\n",
      "401:\tlearn: 0.6763149\ttotal: 1m 51s\tremaining: 1m 50s\n",
      "402:\tlearn: 0.6762238\ttotal: 1m 51s\tremaining: 1m 50s\n",
      "403:\tlearn: 0.6760043\ttotal: 1m 52s\tremaining: 1m 49s\n",
      "404:\tlearn: 0.6758877\ttotal: 1m 52s\tremaining: 1m 49s\n",
      "405:\tlearn: 0.6756619\ttotal: 1m 52s\tremaining: 1m 49s\n",
      "406:\tlearn: 0.6752854\ttotal: 1m 52s\tremaining: 1m 48s\n",
      "407:\tlearn: 0.6750882\ttotal: 1m 52s\tremaining: 1m 48s\n",
      "408:\tlearn: 0.6747363\ttotal: 1m 53s\tremaining: 1m 48s\n",
      "409:\tlearn: 0.6742034\ttotal: 1m 53s\tremaining: 1m 47s\n",
      "410:\tlearn: 0.6739175\ttotal: 1m 53s\tremaining: 1m 47s\n",
      "411:\tlearn: 0.6732043\ttotal: 1m 53s\tremaining: 1m 47s\n",
      "412:\tlearn: 0.6728298\ttotal: 1m 54s\tremaining: 1m 47s\n",
      "413:\tlearn: 0.6723911\ttotal: 1m 54s\tremaining: 1m 46s\n",
      "414:\tlearn: 0.6720133\ttotal: 1m 54s\tremaining: 1m 46s\n",
      "415:\tlearn: 0.6715509\ttotal: 1m 54s\tremaining: 1m 46s\n",
      "416:\tlearn: 0.6712284\ttotal: 1m 55s\tremaining: 1m 45s\n",
      "417:\tlearn: 0.6707866\ttotal: 1m 55s\tremaining: 1m 45s\n",
      "418:\tlearn: 0.6704901\ttotal: 1m 55s\tremaining: 1m 45s\n",
      "419:\tlearn: 0.6701318\ttotal: 1m 55s\tremaining: 1m 44s\n",
      "420:\tlearn: 0.6695108\ttotal: 1m 56s\tremaining: 1m 44s\n",
      "421:\tlearn: 0.6691708\ttotal: 1m 56s\tremaining: 1m 44s\n",
      "422:\tlearn: 0.6688953\ttotal: 1m 56s\tremaining: 1m 43s\n",
      "423:\tlearn: 0.6687174\ttotal: 1m 56s\tremaining: 1m 43s\n",
      "424:\tlearn: 0.6685026\ttotal: 1m 57s\tremaining: 1m 43s\n",
      "425:\tlearn: 0.6680512\ttotal: 1m 57s\tremaining: 1m 43s\n",
      "426:\tlearn: 0.6678165\ttotal: 1m 57s\tremaining: 1m 42s\n",
      "427:\tlearn: 0.6675787\ttotal: 1m 57s\tremaining: 1m 42s\n",
      "428:\tlearn: 0.6673227\ttotal: 1m 57s\tremaining: 1m 42s\n",
      "429:\tlearn: 0.6668996\ttotal: 1m 58s\tremaining: 1m 41s\n",
      "430:\tlearn: 0.6665448\ttotal: 1m 58s\tremaining: 1m 41s\n",
      "431:\tlearn: 0.6662886\ttotal: 1m 58s\tremaining: 1m 41s\n",
      "432:\tlearn: 0.6660146\ttotal: 1m 58s\tremaining: 1m 40s\n",
      "433:\tlearn: 0.6656778\ttotal: 1m 59s\tremaining: 1m 40s\n",
      "434:\tlearn: 0.6654340\ttotal: 1m 59s\tremaining: 1m 40s\n",
      "435:\tlearn: 0.6652292\ttotal: 1m 59s\tremaining: 1m 39s\n",
      "436:\tlearn: 0.6649194\ttotal: 1m 59s\tremaining: 1m 39s\n",
      "437:\tlearn: 0.6647170\ttotal: 2m\tremaining: 1m 39s\n",
      "438:\tlearn: 0.6644144\ttotal: 2m\tremaining: 1m 39s\n",
      "439:\tlearn: 0.6639800\ttotal: 2m\tremaining: 1m 38s\n",
      "440:\tlearn: 0.6636804\ttotal: 2m\tremaining: 1m 38s\n",
      "441:\tlearn: 0.6630234\ttotal: 2m 1s\tremaining: 1m 38s\n",
      "442:\tlearn: 0.6623554\ttotal: 2m 1s\tremaining: 1m 37s\n",
      "443:\tlearn: 0.6620113\ttotal: 2m 1s\tremaining: 1m 37s\n",
      "444:\tlearn: 0.6617821\ttotal: 2m 1s\tremaining: 1m 37s\n",
      "445:\tlearn: 0.6614496\ttotal: 2m 2s\tremaining: 1m 36s\n",
      "446:\tlearn: 0.6611411\ttotal: 2m 2s\tremaining: 1m 36s\n",
      "447:\tlearn: 0.6609617\ttotal: 2m 2s\tremaining: 1m 36s\n",
      "448:\tlearn: 0.6605685\ttotal: 2m 2s\tremaining: 1m 35s\n",
      "449:\tlearn: 0.6600533\ttotal: 2m 2s\tremaining: 1m 35s\n",
      "450:\tlearn: 0.6599716\ttotal: 2m 3s\tremaining: 1m 35s\n",
      "451:\tlearn: 0.6597878\ttotal: 2m 3s\tremaining: 1m 35s\n",
      "452:\tlearn: 0.6593953\ttotal: 2m 3s\tremaining: 1m 34s\n",
      "453:\tlearn: 0.6592860\ttotal: 2m 4s\tremaining: 1m 34s\n",
      "454:\tlearn: 0.6588207\ttotal: 2m 4s\tremaining: 1m 34s\n",
      "455:\tlearn: 0.6587266\ttotal: 2m 4s\tremaining: 1m 33s\n",
      "456:\tlearn: 0.6586229\ttotal: 2m 4s\tremaining: 1m 33s\n",
      "457:\tlearn: 0.6585748\ttotal: 2m 4s\tremaining: 1m 33s\n",
      "458:\tlearn: 0.6582347\ttotal: 2m 5s\tremaining: 1m 33s\n",
      "459:\tlearn: 0.6578631\ttotal: 2m 5s\tremaining: 1m 32s\n",
      "460:\tlearn: 0.6576007\ttotal: 2m 5s\tremaining: 1m 32s\n",
      "461:\tlearn: 0.6573480\ttotal: 2m 5s\tremaining: 1m 32s\n",
      "462:\tlearn: 0.6565314\ttotal: 2m 6s\tremaining: 1m 31s\n",
      "463:\tlearn: 0.6561140\ttotal: 2m 6s\tremaining: 1m 31s\n",
      "464:\tlearn: 0.6558566\ttotal: 2m 6s\tremaining: 1m 31s\n",
      "465:\tlearn: 0.6555206\ttotal: 2m 6s\tremaining: 1m 31s\n",
      "466:\tlearn: 0.6551857\ttotal: 2m 7s\tremaining: 1m 30s\n"
     ]
    },
    {
     "name": "stdout",
     "output_type": "stream",
     "text": [
      "467:\tlearn: 0.6549829\ttotal: 2m 7s\tremaining: 1m 30s\n",
      "468:\tlearn: 0.6548980\ttotal: 2m 7s\tremaining: 1m 30s\n",
      "469:\tlearn: 0.6544000\ttotal: 2m 7s\tremaining: 1m 29s\n",
      "470:\tlearn: 0.6541571\ttotal: 2m 8s\tremaining: 1m 29s\n",
      "471:\tlearn: 0.6538062\ttotal: 2m 8s\tremaining: 1m 29s\n",
      "472:\tlearn: 0.6533310\ttotal: 2m 8s\tremaining: 1m 28s\n",
      "473:\tlearn: 0.6532012\ttotal: 2m 8s\tremaining: 1m 28s\n",
      "474:\tlearn: 0.6530427\ttotal: 2m 9s\tremaining: 1m 28s\n",
      "475:\tlearn: 0.6528063\ttotal: 2m 9s\tremaining: 1m 27s\n",
      "476:\tlearn: 0.6525808\ttotal: 2m 9s\tremaining: 1m 27s\n",
      "477:\tlearn: 0.6522764\ttotal: 2m 9s\tremaining: 1m 27s\n",
      "478:\tlearn: 0.6520532\ttotal: 2m 9s\tremaining: 1m 27s\n",
      "479:\tlearn: 0.6518525\ttotal: 2m 10s\tremaining: 1m 26s\n",
      "480:\tlearn: 0.6513836\ttotal: 2m 10s\tremaining: 1m 26s\n",
      "481:\tlearn: 0.6509682\ttotal: 2m 10s\tremaining: 1m 26s\n",
      "482:\tlearn: 0.6508803\ttotal: 2m 10s\tremaining: 1m 25s\n",
      "483:\tlearn: 0.6505133\ttotal: 2m 11s\tremaining: 1m 25s\n",
      "484:\tlearn: 0.6502950\ttotal: 2m 11s\tremaining: 1m 25s\n",
      "485:\tlearn: 0.6501624\ttotal: 2m 11s\tremaining: 1m 25s\n",
      "486:\tlearn: 0.6498910\ttotal: 2m 11s\tremaining: 1m 24s\n",
      "487:\tlearn: 0.6495602\ttotal: 2m 12s\tremaining: 1m 24s\n",
      "488:\tlearn: 0.6494495\ttotal: 2m 12s\tremaining: 1m 24s\n",
      "489:\tlearn: 0.6490391\ttotal: 2m 12s\tremaining: 1m 23s\n",
      "490:\tlearn: 0.6489730\ttotal: 2m 12s\tremaining: 1m 23s\n",
      "491:\tlearn: 0.6486125\ttotal: 2m 13s\tremaining: 1m 23s\n",
      "492:\tlearn: 0.6481769\ttotal: 2m 13s\tremaining: 1m 22s\n",
      "493:\tlearn: 0.6476844\ttotal: 2m 13s\tremaining: 1m 22s\n",
      "494:\tlearn: 0.6473857\ttotal: 2m 13s\tremaining: 1m 22s\n",
      "495:\tlearn: 0.6471507\ttotal: 2m 14s\tremaining: 1m 22s\n",
      "496:\tlearn: 0.6469957\ttotal: 2m 14s\tremaining: 1m 21s\n",
      "497:\tlearn: 0.6463829\ttotal: 2m 14s\tremaining: 1m 21s\n",
      "498:\tlearn: 0.6463066\ttotal: 2m 14s\tremaining: 1m 21s\n",
      "499:\tlearn: 0.6460191\ttotal: 2m 14s\tremaining: 1m 20s\n",
      "500:\tlearn: 0.6457202\ttotal: 2m 15s\tremaining: 1m 20s\n",
      "501:\tlearn: 0.6456126\ttotal: 2m 15s\tremaining: 1m 20s\n",
      "502:\tlearn: 0.6452262\ttotal: 2m 15s\tremaining: 1m 20s\n",
      "503:\tlearn: 0.6449221\ttotal: 2m 15s\tremaining: 1m 19s\n",
      "504:\tlearn: 0.6446887\ttotal: 2m 16s\tremaining: 1m 19s\n",
      "505:\tlearn: 0.6444456\ttotal: 2m 16s\tremaining: 1m 19s\n",
      "506:\tlearn: 0.6439606\ttotal: 2m 16s\tremaining: 1m 19s\n",
      "507:\tlearn: 0.6437493\ttotal: 2m 17s\tremaining: 1m 18s\n",
      "508:\tlearn: 0.6432681\ttotal: 2m 17s\tremaining: 1m 18s\n",
      "509:\tlearn: 0.6430510\ttotal: 2m 17s\tremaining: 1m 18s\n",
      "510:\tlearn: 0.6428017\ttotal: 2m 17s\tremaining: 1m 17s\n",
      "511:\tlearn: 0.6424870\ttotal: 2m 17s\tremaining: 1m 17s\n",
      "512:\tlearn: 0.6421830\ttotal: 2m 18s\tremaining: 1m 17s\n",
      "513:\tlearn: 0.6420422\ttotal: 2m 18s\tremaining: 1m 17s\n",
      "514:\tlearn: 0.6419056\ttotal: 2m 18s\tremaining: 1m 16s\n",
      "515:\tlearn: 0.6417626\ttotal: 2m 18s\tremaining: 1m 16s\n",
      "516:\tlearn: 0.6414474\ttotal: 2m 19s\tremaining: 1m 16s\n",
      "517:\tlearn: 0.6412186\ttotal: 2m 19s\tremaining: 1m 15s\n",
      "518:\tlearn: 0.6408552\ttotal: 2m 19s\tremaining: 1m 15s\n",
      "519:\tlearn: 0.6407710\ttotal: 2m 19s\tremaining: 1m 15s\n",
      "520:\tlearn: 0.6404595\ttotal: 2m 20s\tremaining: 1m 15s\n",
      "521:\tlearn: 0.6403610\ttotal: 2m 20s\tremaining: 1m 14s\n",
      "522:\tlearn: 0.6402553\ttotal: 2m 20s\tremaining: 1m 14s\n",
      "523:\tlearn: 0.6400073\ttotal: 2m 20s\tremaining: 1m 14s\n",
      "524:\tlearn: 0.6395840\ttotal: 2m 21s\tremaining: 1m 13s\n",
      "525:\tlearn: 0.6394133\ttotal: 2m 21s\tremaining: 1m 13s\n",
      "526:\tlearn: 0.6392959\ttotal: 2m 21s\tremaining: 1m 13s\n",
      "527:\tlearn: 0.6390086\ttotal: 2m 21s\tremaining: 1m 13s\n",
      "528:\tlearn: 0.6387114\ttotal: 2m 22s\tremaining: 1m 12s\n",
      "529:\tlearn: 0.6383029\ttotal: 2m 22s\tremaining: 1m 12s\n",
      "530:\tlearn: 0.6379559\ttotal: 2m 22s\tremaining: 1m 12s\n",
      "531:\tlearn: 0.6378838\ttotal: 2m 22s\tremaining: 1m 11s\n",
      "532:\tlearn: 0.6375940\ttotal: 2m 23s\tremaining: 1m 11s\n",
      "533:\tlearn: 0.6371758\ttotal: 2m 23s\tremaining: 1m 11s\n",
      "534:\tlearn: 0.6368838\ttotal: 2m 23s\tremaining: 1m 11s\n",
      "535:\tlearn: 0.6364898\ttotal: 2m 23s\tremaining: 1m 10s\n",
      "536:\tlearn: 0.6362039\ttotal: 2m 24s\tremaining: 1m 10s\n",
      "537:\tlearn: 0.6358997\ttotal: 2m 24s\tremaining: 1m 10s\n",
      "538:\tlearn: 0.6355596\ttotal: 2m 24s\tremaining: 1m 9s\n",
      "539:\tlearn: 0.6352766\ttotal: 2m 24s\tremaining: 1m 9s\n",
      "540:\tlearn: 0.6349213\ttotal: 2m 25s\tremaining: 1m 9s\n",
      "541:\tlearn: 0.6348249\ttotal: 2m 25s\tremaining: 1m 9s\n",
      "542:\tlearn: 0.6347201\ttotal: 2m 25s\tremaining: 1m 8s\n",
      "543:\tlearn: 0.6345087\ttotal: 2m 25s\tremaining: 1m 8s\n",
      "544:\tlearn: 0.6341853\ttotal: 2m 26s\tremaining: 1m 8s\n",
      "545:\tlearn: 0.6338551\ttotal: 2m 26s\tremaining: 1m 8s\n",
      "546:\tlearn: 0.6337356\ttotal: 2m 26s\tremaining: 1m 7s\n",
      "547:\tlearn: 0.6334311\ttotal: 2m 26s\tremaining: 1m 7s\n",
      "548:\tlearn: 0.6332638\ttotal: 2m 26s\tremaining: 1m 7s\n",
      "549:\tlearn: 0.6331196\ttotal: 2m 27s\tremaining: 1m 6s\n",
      "550:\tlearn: 0.6327257\ttotal: 2m 27s\tremaining: 1m 6s\n",
      "551:\tlearn: 0.6323325\ttotal: 2m 27s\tremaining: 1m 6s\n",
      "552:\tlearn: 0.6319461\ttotal: 2m 27s\tremaining: 1m 6s\n",
      "553:\tlearn: 0.6317235\ttotal: 2m 28s\tremaining: 1m 5s\n",
      "554:\tlearn: 0.6313086\ttotal: 2m 28s\tremaining: 1m 5s\n",
      "555:\tlearn: 0.6310626\ttotal: 2m 28s\tremaining: 1m 5s\n",
      "556:\tlearn: 0.6309630\ttotal: 2m 28s\tremaining: 1m 4s\n",
      "557:\tlearn: 0.6305617\ttotal: 2m 29s\tremaining: 1m 4s\n",
      "558:\tlearn: 0.6301814\ttotal: 2m 29s\tremaining: 1m 4s\n",
      "559:\tlearn: 0.6301088\ttotal: 2m 29s\tremaining: 1m 4s\n",
      "560:\tlearn: 0.6300078\ttotal: 2m 29s\tremaining: 1m 3s\n",
      "561:\tlearn: 0.6297976\ttotal: 2m 30s\tremaining: 1m 3s\n",
      "562:\tlearn: 0.6293749\ttotal: 2m 30s\tremaining: 1m 3s\n",
      "563:\tlearn: 0.6291909\ttotal: 2m 30s\tremaining: 1m 3s\n",
      "564:\tlearn: 0.6288934\ttotal: 2m 30s\tremaining: 1m 2s\n",
      "565:\tlearn: 0.6285078\ttotal: 2m 31s\tremaining: 1m 2s\n",
      "566:\tlearn: 0.6283207\ttotal: 2m 31s\tremaining: 1m 2s\n",
      "567:\tlearn: 0.6282663\ttotal: 2m 31s\tremaining: 1m 1s\n",
      "568:\tlearn: 0.6279902\ttotal: 2m 31s\tremaining: 1m 1s\n",
      "569:\tlearn: 0.6277435\ttotal: 2m 32s\tremaining: 1m 1s\n",
      "570:\tlearn: 0.6274185\ttotal: 2m 32s\tremaining: 1m 1s\n",
      "571:\tlearn: 0.6272445\ttotal: 2m 32s\tremaining: 1m\n",
      "572:\tlearn: 0.6271873\ttotal: 2m 32s\tremaining: 1m\n",
      "573:\tlearn: 0.6270433\ttotal: 2m 33s\tremaining: 1m\n",
      "574:\tlearn: 0.6268625\ttotal: 2m 33s\tremaining: 1m\n",
      "575:\tlearn: 0.6265126\ttotal: 2m 33s\tremaining: 59.7s\n",
      "576:\tlearn: 0.6261745\ttotal: 2m 33s\tremaining: 59.5s\n",
      "577:\tlearn: 0.6259492\ttotal: 2m 34s\tremaining: 59.2s\n",
      "578:\tlearn: 0.6258894\ttotal: 2m 34s\tremaining: 58.9s\n",
      "579:\tlearn: 0.6255419\ttotal: 2m 34s\tremaining: 58.6s\n",
      "580:\tlearn: 0.6252334\ttotal: 2m 34s\tremaining: 58.4s\n",
      "581:\tlearn: 0.6247064\ttotal: 2m 35s\tremaining: 58.1s\n",
      "582:\tlearn: 0.6242720\ttotal: 2m 35s\tremaining: 57.9s\n",
      "583:\tlearn: 0.6241130\ttotal: 2m 35s\tremaining: 57.6s\n",
      "584:\tlearn: 0.6239000\ttotal: 2m 36s\tremaining: 57.4s\n",
      "585:\tlearn: 0.6235893\ttotal: 2m 36s\tremaining: 57.1s\n",
      "586:\tlearn: 0.6234509\ttotal: 2m 36s\tremaining: 56.9s\n",
      "587:\tlearn: 0.6230702\ttotal: 2m 37s\tremaining: 56.6s\n",
      "588:\tlearn: 0.6228909\ttotal: 2m 37s\tremaining: 56.4s\n",
      "589:\tlearn: 0.6225831\ttotal: 2m 37s\tremaining: 56.1s\n",
      "590:\tlearn: 0.6224073\ttotal: 2m 37s\tremaining: 55.9s\n",
      "591:\tlearn: 0.6222606\ttotal: 2m 38s\tremaining: 55.6s\n",
      "592:\tlearn: 0.6218321\ttotal: 2m 38s\tremaining: 55.3s\n",
      "593:\tlearn: 0.6216780\ttotal: 2m 38s\tremaining: 55.1s\n",
      "594:\tlearn: 0.6213544\ttotal: 2m 39s\tremaining: 54.8s\n",
      "595:\tlearn: 0.6210459\ttotal: 2m 39s\tremaining: 54.5s\n",
      "596:\tlearn: 0.6208395\ttotal: 2m 39s\tremaining: 54.3s\n",
      "597:\tlearn: 0.6206158\ttotal: 2m 39s\tremaining: 54s\n",
      "598:\tlearn: 0.6203937\ttotal: 2m 40s\tremaining: 53.7s\n",
      "599:\tlearn: 0.6202516\ttotal: 2m 40s\tremaining: 53.4s\n",
      "600:\tlearn: 0.6198287\ttotal: 2m 40s\tremaining: 53.2s\n",
      "601:\tlearn: 0.6194630\ttotal: 2m 40s\tremaining: 52.9s\n",
      "602:\tlearn: 0.6192705\ttotal: 2m 41s\tremaining: 52.6s\n",
      "603:\tlearn: 0.6189854\ttotal: 2m 41s\tremaining: 52.4s\n",
      "604:\tlearn: 0.6188491\ttotal: 2m 41s\tremaining: 52.1s\n",
      "605:\tlearn: 0.6187121\ttotal: 2m 41s\tremaining: 51.8s\n",
      "606:\tlearn: 0.6182890\ttotal: 2m 42s\tremaining: 51.5s\n",
      "607:\tlearn: 0.6180814\ttotal: 2m 42s\tremaining: 51.3s\n",
      "608:\tlearn: 0.6177666\ttotal: 2m 42s\tremaining: 51s\n",
      "609:\tlearn: 0.6173982\ttotal: 2m 42s\tremaining: 50.7s\n",
      "610:\tlearn: 0.6171214\ttotal: 2m 43s\tremaining: 50.4s\n",
      "611:\tlearn: 0.6168812\ttotal: 2m 43s\tremaining: 50.2s\n",
      "612:\tlearn: 0.6165001\ttotal: 2m 43s\tremaining: 49.9s\n",
      "613:\tlearn: 0.6162902\ttotal: 2m 43s\tremaining: 49.6s\n",
      "614:\tlearn: 0.6162466\ttotal: 2m 43s\tremaining: 49.3s\n",
      "615:\tlearn: 0.6160111\ttotal: 2m 44s\tremaining: 49s\n",
      "616:\tlearn: 0.6157538\ttotal: 2m 44s\tremaining: 48.8s\n",
      "617:\tlearn: 0.6152637\ttotal: 2m 44s\tremaining: 48.5s\n",
      "618:\tlearn: 0.6149319\ttotal: 2m 44s\tremaining: 48.2s\n",
      "619:\tlearn: 0.6147377\ttotal: 2m 45s\tremaining: 47.9s\n",
      "620:\tlearn: 0.6145543\ttotal: 2m 45s\tremaining: 47.7s\n"
     ]
    },
    {
     "name": "stdout",
     "output_type": "stream",
     "text": [
      "621:\tlearn: 0.6144384\ttotal: 2m 45s\tremaining: 47.4s\n",
      "622:\tlearn: 0.6143242\ttotal: 2m 45s\tremaining: 47.1s\n",
      "623:\tlearn: 0.6139986\ttotal: 2m 46s\tremaining: 46.9s\n",
      "624:\tlearn: 0.6136462\ttotal: 2m 46s\tremaining: 46.6s\n",
      "625:\tlearn: 0.6134350\ttotal: 2m 46s\tremaining: 46.3s\n",
      "626:\tlearn: 0.6131919\ttotal: 2m 46s\tremaining: 46s\n",
      "627:\tlearn: 0.6129398\ttotal: 2m 47s\tremaining: 45.8s\n",
      "628:\tlearn: 0.6125429\ttotal: 2m 47s\tremaining: 45.5s\n",
      "629:\tlearn: 0.6123033\ttotal: 2m 47s\tremaining: 45.2s\n",
      "630:\tlearn: 0.6122212\ttotal: 2m 47s\tremaining: 45s\n",
      "631:\tlearn: 0.6119480\ttotal: 2m 48s\tremaining: 44.7s\n",
      "632:\tlearn: 0.6117642\ttotal: 2m 48s\tremaining: 44.4s\n",
      "633:\tlearn: 0.6113111\ttotal: 2m 48s\tremaining: 44.1s\n",
      "634:\tlearn: 0.6110626\ttotal: 2m 48s\tremaining: 43.9s\n",
      "635:\tlearn: 0.6107140\ttotal: 2m 49s\tremaining: 43.6s\n",
      "636:\tlearn: 0.6104847\ttotal: 2m 49s\tremaining: 43.3s\n",
      "637:\tlearn: 0.6102052\ttotal: 2m 49s\tremaining: 43s\n",
      "638:\tlearn: 0.6099737\ttotal: 2m 49s\tremaining: 42.8s\n",
      "639:\tlearn: 0.6095966\ttotal: 2m 49s\tremaining: 42.5s\n",
      "640:\tlearn: 0.6094396\ttotal: 2m 50s\tremaining: 42.2s\n",
      "641:\tlearn: 0.6091705\ttotal: 2m 50s\tremaining: 41.9s\n",
      "642:\tlearn: 0.6090641\ttotal: 2m 50s\tremaining: 41.7s\n",
      "643:\tlearn: 0.6088483\ttotal: 2m 50s\tremaining: 41.4s\n",
      "644:\tlearn: 0.6086510\ttotal: 2m 51s\tremaining: 41.1s\n",
      "645:\tlearn: 0.6083996\ttotal: 2m 51s\tremaining: 40.9s\n",
      "646:\tlearn: 0.6080274\ttotal: 2m 51s\tremaining: 40.6s\n",
      "647:\tlearn: 0.6077491\ttotal: 2m 51s\tremaining: 40.3s\n",
      "648:\tlearn: 0.6076328\ttotal: 2m 52s\tremaining: 40s\n",
      "649:\tlearn: 0.6073764\ttotal: 2m 52s\tremaining: 39.8s\n",
      "650:\tlearn: 0.6072440\ttotal: 2m 52s\tremaining: 39.5s\n",
      "651:\tlearn: 0.6070282\ttotal: 2m 52s\tremaining: 39.2s\n",
      "652:\tlearn: 0.6066188\ttotal: 2m 53s\tremaining: 38.9s\n",
      "653:\tlearn: 0.6062420\ttotal: 2m 53s\tremaining: 38.7s\n",
      "654:\tlearn: 0.6060564\ttotal: 2m 53s\tremaining: 38.4s\n",
      "655:\tlearn: 0.6058541\ttotal: 2m 53s\tremaining: 38.1s\n",
      "656:\tlearn: 0.6054410\ttotal: 2m 53s\tremaining: 37.9s\n",
      "657:\tlearn: 0.6053384\ttotal: 2m 54s\tremaining: 37.6s\n",
      "658:\tlearn: 0.6051738\ttotal: 2m 54s\tremaining: 37.3s\n",
      "659:\tlearn: 0.6049534\ttotal: 2m 54s\tremaining: 37s\n",
      "660:\tlearn: 0.6045852\ttotal: 2m 54s\tremaining: 36.8s\n",
      "661:\tlearn: 0.6043383\ttotal: 2m 55s\tremaining: 36.5s\n",
      "662:\tlearn: 0.6042404\ttotal: 2m 55s\tremaining: 36.2s\n",
      "663:\tlearn: 0.6038542\ttotal: 2m 55s\tremaining: 36s\n",
      "664:\tlearn: 0.6036865\ttotal: 2m 55s\tremaining: 35.7s\n",
      "665:\tlearn: 0.6035938\ttotal: 2m 56s\tremaining: 35.4s\n",
      "666:\tlearn: 0.6034512\ttotal: 2m 56s\tremaining: 35.2s\n",
      "667:\tlearn: 0.6033440\ttotal: 2m 56s\tremaining: 34.9s\n",
      "668:\tlearn: 0.6032019\ttotal: 2m 56s\tremaining: 34.6s\n",
      "669:\tlearn: 0.6030164\ttotal: 2m 57s\tremaining: 34.4s\n",
      "670:\tlearn: 0.6028839\ttotal: 2m 57s\tremaining: 34.1s\n",
      "671:\tlearn: 0.6027925\ttotal: 2m 57s\tremaining: 33.8s\n",
      "672:\tlearn: 0.6025067\ttotal: 2m 57s\tremaining: 33.5s\n",
      "673:\tlearn: 0.6023472\ttotal: 2m 57s\tremaining: 33.3s\n",
      "674:\tlearn: 0.6021722\ttotal: 2m 58s\tremaining: 33s\n",
      "675:\tlearn: 0.6019818\ttotal: 2m 58s\tremaining: 32.7s\n",
      "676:\tlearn: 0.6016412\ttotal: 2m 58s\tremaining: 32.5s\n",
      "677:\tlearn: 0.6013024\ttotal: 2m 58s\tremaining: 32.2s\n",
      "678:\tlearn: 0.6010891\ttotal: 2m 59s\tremaining: 31.9s\n",
      "679:\tlearn: 0.6007651\ttotal: 2m 59s\tremaining: 31.7s\n",
      "680:\tlearn: 0.6005650\ttotal: 2m 59s\tremaining: 31.4s\n",
      "681:\tlearn: 0.6003915\ttotal: 2m 59s\tremaining: 31.1s\n",
      "682:\tlearn: 0.6001278\ttotal: 3m\tremaining: 30.9s\n",
      "683:\tlearn: 0.5999547\ttotal: 3m\tremaining: 30.6s\n",
      "684:\tlearn: 0.5996803\ttotal: 3m\tremaining: 30.3s\n",
      "685:\tlearn: 0.5993763\ttotal: 3m\tremaining: 30.1s\n",
      "686:\tlearn: 0.5990498\ttotal: 3m 1s\tremaining: 29.8s\n",
      "687:\tlearn: 0.5988639\ttotal: 3m 1s\tremaining: 29.5s\n",
      "688:\tlearn: 0.5986152\ttotal: 3m 1s\tremaining: 29.3s\n",
      "689:\tlearn: 0.5982737\ttotal: 3m 1s\tremaining: 29s\n",
      "690:\tlearn: 0.5982156\ttotal: 3m 2s\tremaining: 28.7s\n",
      "691:\tlearn: 0.5980120\ttotal: 3m 2s\tremaining: 28.5s\n",
      "692:\tlearn: 0.5977746\ttotal: 3m 2s\tremaining: 28.2s\n",
      "693:\tlearn: 0.5976574\ttotal: 3m 2s\tremaining: 27.9s\n",
      "694:\tlearn: 0.5973376\ttotal: 3m 3s\tremaining: 27.7s\n",
      "695:\tlearn: 0.5969556\ttotal: 3m 3s\tremaining: 27.4s\n",
      "696:\tlearn: 0.5968038\ttotal: 3m 3s\tremaining: 27.1s\n",
      "697:\tlearn: 0.5966205\ttotal: 3m 3s\tremaining: 26.9s\n",
      "698:\tlearn: 0.5965780\ttotal: 3m 4s\tremaining: 26.6s\n",
      "699:\tlearn: 0.5965035\ttotal: 3m 4s\tremaining: 26.3s\n",
      "700:\tlearn: 0.5963676\ttotal: 3m 4s\tremaining: 26.1s\n",
      "701:\tlearn: 0.5960916\ttotal: 3m 4s\tremaining: 25.8s\n",
      "702:\tlearn: 0.5957116\ttotal: 3m 5s\tremaining: 25.5s\n",
      "703:\tlearn: 0.5953227\ttotal: 3m 5s\tremaining: 25.3s\n",
      "704:\tlearn: 0.5949091\ttotal: 3m 5s\tremaining: 25s\n",
      "705:\tlearn: 0.5947183\ttotal: 3m 5s\tremaining: 24.7s\n",
      "706:\tlearn: 0.5943622\ttotal: 3m 5s\tremaining: 24.5s\n",
      "707:\tlearn: 0.5941556\ttotal: 3m 6s\tremaining: 24.2s\n",
      "708:\tlearn: 0.5939321\ttotal: 3m 6s\tremaining: 23.9s\n",
      "709:\tlearn: 0.5937796\ttotal: 3m 6s\tremaining: 23.7s\n",
      "710:\tlearn: 0.5935154\ttotal: 3m 6s\tremaining: 23.4s\n",
      "711:\tlearn: 0.5932297\ttotal: 3m 7s\tremaining: 23.1s\n",
      "712:\tlearn: 0.5931011\ttotal: 3m 7s\tremaining: 22.9s\n",
      "713:\tlearn: 0.5928829\ttotal: 3m 7s\tremaining: 22.6s\n",
      "714:\tlearn: 0.5927004\ttotal: 3m 7s\tremaining: 22.3s\n",
      "715:\tlearn: 0.5924274\ttotal: 3m 8s\tremaining: 22.1s\n",
      "716:\tlearn: 0.5923181\ttotal: 3m 8s\tremaining: 21.8s\n",
      "717:\tlearn: 0.5921066\ttotal: 3m 8s\tremaining: 21.5s\n",
      "718:\tlearn: 0.5918050\ttotal: 3m 8s\tremaining: 21.3s\n",
      "719:\tlearn: 0.5917608\ttotal: 3m 9s\tremaining: 21s\n",
      "720:\tlearn: 0.5915866\ttotal: 3m 9s\tremaining: 20.7s\n",
      "721:\tlearn: 0.5913774\ttotal: 3m 9s\tremaining: 20.5s\n",
      "722:\tlearn: 0.5911371\ttotal: 3m 9s\tremaining: 20.2s\n",
      "723:\tlearn: 0.5908828\ttotal: 3m 10s\tremaining: 19.9s\n",
      "724:\tlearn: 0.5907733\ttotal: 3m 10s\tremaining: 19.7s\n",
      "725:\tlearn: 0.5904900\ttotal: 3m 10s\tremaining: 19.4s\n",
      "726:\tlearn: 0.5902284\ttotal: 3m 10s\tremaining: 19.1s\n",
      "727:\tlearn: 0.5900664\ttotal: 3m 10s\tremaining: 18.9s\n",
      "728:\tlearn: 0.5899227\ttotal: 3m 11s\tremaining: 18.6s\n",
      "729:\tlearn: 0.5898309\ttotal: 3m 11s\tremaining: 18.4s\n",
      "730:\tlearn: 0.5897333\ttotal: 3m 11s\tremaining: 18.1s\n",
      "731:\tlearn: 0.5895978\ttotal: 3m 11s\tremaining: 17.8s\n",
      "732:\tlearn: 0.5893558\ttotal: 3m 12s\tremaining: 17.6s\n",
      "733:\tlearn: 0.5891802\ttotal: 3m 12s\tremaining: 17.3s\n",
      "734:\tlearn: 0.5888412\ttotal: 3m 12s\tremaining: 17s\n",
      "735:\tlearn: 0.5885882\ttotal: 3m 12s\tremaining: 16.8s\n",
      "736:\tlearn: 0.5883642\ttotal: 3m 13s\tremaining: 16.5s\n",
      "737:\tlearn: 0.5880886\ttotal: 3m 13s\tremaining: 16.2s\n",
      "738:\tlearn: 0.5878772\ttotal: 3m 13s\tremaining: 16s\n",
      "739:\tlearn: 0.5874336\ttotal: 3m 13s\tremaining: 15.7s\n",
      "740:\tlearn: 0.5871113\ttotal: 3m 13s\tremaining: 15.4s\n",
      "741:\tlearn: 0.5868799\ttotal: 3m 14s\tremaining: 15.2s\n",
      "742:\tlearn: 0.5867250\ttotal: 3m 14s\tremaining: 14.9s\n",
      "743:\tlearn: 0.5863719\ttotal: 3m 14s\tremaining: 14.7s\n",
      "744:\tlearn: 0.5862500\ttotal: 3m 14s\tremaining: 14.4s\n",
      "745:\tlearn: 0.5859433\ttotal: 3m 15s\tremaining: 14.1s\n",
      "746:\tlearn: 0.5856792\ttotal: 3m 15s\tremaining: 13.9s\n",
      "747:\tlearn: 0.5853145\ttotal: 3m 15s\tremaining: 13.6s\n",
      "748:\tlearn: 0.5851693\ttotal: 3m 15s\tremaining: 13.3s\n",
      "749:\tlearn: 0.5849729\ttotal: 3m 16s\tremaining: 13.1s\n",
      "750:\tlearn: 0.5848050\ttotal: 3m 16s\tremaining: 12.8s\n",
      "751:\tlearn: 0.5845982\ttotal: 3m 16s\tremaining: 12.5s\n",
      "752:\tlearn: 0.5843423\ttotal: 3m 16s\tremaining: 12.3s\n",
      "753:\tlearn: 0.5841344\ttotal: 3m 17s\tremaining: 12s\n",
      "754:\tlearn: 0.5837684\ttotal: 3m 17s\tremaining: 11.8s\n",
      "755:\tlearn: 0.5836166\ttotal: 3m 17s\tremaining: 11.5s\n",
      "756:\tlearn: 0.5833771\ttotal: 3m 17s\tremaining: 11.2s\n",
      "757:\tlearn: 0.5831590\ttotal: 3m 18s\tremaining: 11s\n",
      "758:\tlearn: 0.5831058\ttotal: 3m 18s\tremaining: 10.7s\n",
      "759:\tlearn: 0.5828576\ttotal: 3m 18s\tremaining: 10.4s\n",
      "760:\tlearn: 0.5826591\ttotal: 3m 18s\tremaining: 10.2s\n",
      "761:\tlearn: 0.5825352\ttotal: 3m 18s\tremaining: 9.92s\n",
      "762:\tlearn: 0.5823667\ttotal: 3m 19s\tremaining: 9.66s\n",
      "763:\tlearn: 0.5823013\ttotal: 3m 19s\tremaining: 9.4s\n",
      "764:\tlearn: 0.5819411\ttotal: 3m 19s\tremaining: 9.13s\n",
      "765:\tlearn: 0.5817261\ttotal: 3m 19s\tremaining: 8.87s\n",
      "766:\tlearn: 0.5815419\ttotal: 3m 20s\tremaining: 8.61s\n",
      "767:\tlearn: 0.5815273\ttotal: 3m 20s\tremaining: 8.35s\n",
      "768:\tlearn: 0.5812376\ttotal: 3m 20s\tremaining: 8.09s\n",
      "769:\tlearn: 0.5810880\ttotal: 3m 20s\tremaining: 7.82s\n",
      "770:\tlearn: 0.5808669\ttotal: 3m 21s\tremaining: 7.57s\n",
      "771:\tlearn: 0.5807030\ttotal: 3m 21s\tremaining: 7.3s\n",
      "772:\tlearn: 0.5806512\ttotal: 3m 21s\tremaining: 7.04s\n",
      "773:\tlearn: 0.5805353\ttotal: 3m 21s\tremaining: 6.78s\n",
      "774:\tlearn: 0.5802424\ttotal: 3m 22s\tremaining: 6.52s\n",
      "775:\tlearn: 0.5801131\ttotal: 3m 22s\tremaining: 6.25s\n",
      "776:\tlearn: 0.5798659\ttotal: 3m 22s\tremaining: 6s\n",
      "777:\tlearn: 0.5796183\ttotal: 3m 22s\tremaining: 5.73s\n"
     ]
    },
    {
     "name": "stdout",
     "output_type": "stream",
     "text": [
      "778:\tlearn: 0.5794578\ttotal: 3m 22s\tremaining: 5.47s\n",
      "779:\tlearn: 0.5792444\ttotal: 3m 23s\tremaining: 5.21s\n",
      "780:\tlearn: 0.5790459\ttotal: 3m 23s\tremaining: 4.95s\n",
      "781:\tlearn: 0.5789993\ttotal: 3m 23s\tremaining: 4.69s\n",
      "782:\tlearn: 0.5787051\ttotal: 3m 23s\tremaining: 4.43s\n",
      "783:\tlearn: 0.5786441\ttotal: 3m 24s\tremaining: 4.17s\n",
      "784:\tlearn: 0.5785911\ttotal: 3m 24s\tremaining: 3.9s\n",
      "785:\tlearn: 0.5784342\ttotal: 3m 24s\tremaining: 3.65s\n",
      "786:\tlearn: 0.5780649\ttotal: 3m 24s\tremaining: 3.38s\n",
      "787:\tlearn: 0.5779075\ttotal: 3m 25s\tremaining: 3.12s\n",
      "788:\tlearn: 0.5777869\ttotal: 3m 25s\tremaining: 2.86s\n",
      "789:\tlearn: 0.5774970\ttotal: 3m 25s\tremaining: 2.6s\n",
      "790:\tlearn: 0.5773074\ttotal: 3m 25s\tremaining: 2.34s\n",
      "791:\tlearn: 0.5769912\ttotal: 3m 25s\tremaining: 2.08s\n",
      "792:\tlearn: 0.5767544\ttotal: 3m 26s\tremaining: 1.82s\n",
      "793:\tlearn: 0.5767087\ttotal: 3m 26s\tremaining: 1.56s\n",
      "794:\tlearn: 0.5763729\ttotal: 3m 26s\tremaining: 1.3s\n",
      "795:\tlearn: 0.5761844\ttotal: 3m 26s\tremaining: 1.04s\n",
      "796:\tlearn: 0.5758488\ttotal: 3m 27s\tremaining: 780ms\n",
      "797:\tlearn: 0.5757867\ttotal: 3m 27s\tremaining: 520ms\n",
      "798:\tlearn: 0.5755350\ttotal: 3m 27s\tremaining: 260ms\n",
      "799:\tlearn: 0.5753325\ttotal: 3m 27s\tremaining: 0us\n"
     ]
    },
    {
     "data": {
      "text/plain": [
       "<catboost.core.CatBoostClassifier at 0x1b852824a30>"
      ]
     },
     "execution_count": 78,
     "metadata": {},
     "output_type": "execute_result"
    }
   ],
   "source": [
    "cat.fit(X_train_over, y_train_over)"
   ]
  },
  {
   "cell_type": "code",
   "execution_count": 79,
   "id": "64503c10",
   "metadata": {
    "colab": {
     "base_uri": "https://localhost:8080/"
    },
    "executionInfo": {
     "elapsed": 700,
     "status": "ok",
     "timestamp": 1638420829016,
     "user": {
      "displayName": "유상준",
      "photoUrl": "https://lh3.googleusercontent.com/a-/AOh14GjwhV3OPaZeVbcnb0L540CX4dtB2wGRfCVw4E8=s64",
      "userId": "06620102043085366517"
     },
     "user_tz": -540
    },
    "id": "ab020dd2",
    "outputId": "e2c22041-27de-45e6-b407-37fff04bfd16"
   },
   "outputs": [
    {
     "name": "stdout",
     "output_type": "stream",
     "text": [
      "==================================================\n",
      "Validataion set 예측 성능 평가\n",
      "              precision    recall  f1-score   support\n",
      "\n",
      "         0.0       0.63      0.30      0.41       644\n",
      "         1.0       0.76      0.46      0.57      1254\n",
      "         2.0       0.75      0.94      0.84      3393\n",
      "\n",
      "    accuracy                           0.75      5291\n",
      "   macro avg       0.71      0.57      0.61      5291\n",
      "weighted avg       0.74      0.75      0.72      5291\n",
      "\n",
      "[[ 196   59  389]\n",
      " [  30  579  645]\n",
      " [  86  124 3183]]\n",
      "==================================================\n",
      "log_loss :  0.663499854961278\n",
      "accuracy_score :  0.7480627480627481\n"
     ]
    }
   ],
   "source": [
    "from sklearn.metrics import log_loss, accuracy_score, classification_report, confusion_matrix\n",
    "\n",
    "print('='*50)\n",
    "print('Validataion set 예측 성능 평가')\n",
    "print(classification_report(y_val, cat.predict(X_val)))\n",
    "print(confusion_matrix(y_val, cat.predict(X_val)))\n",
    "print('='*50)\n",
    "print('log_loss : ',log_loss(y_val, cat.predict_proba(X_val)))\n",
    "print('accuracy_score : ', accuracy_score(y_val, cat.predict(X_val)))"
   ]
  },
  {
   "cell_type": "markdown",
   "id": "3ef7550d",
   "metadata": {},
   "source": [
    "### feature_importance"
   ]
  },
  {
   "cell_type": "code",
   "execution_count": 145,
   "id": "ea701a11",
   "metadata": {},
   "outputs": [
    {
     "data": {
      "image/png": "[encoded data removed]",
      "text/plain": [
       "<Figure size 720x576 with 1 Axes>"
      ]
     },
     "metadata": {
      "needs_background": "light"
     },
     "output_type": "display_data"
    }
   ],
   "source": [
    "plot_feature_importance(cat.feature_importances_, X_val.columns, 'CatBoost')"
   ]
  },
  {
   "cell_type": "code",
   "execution_count": null,
   "id": "27207a62",
   "metadata": {
    "id": "5987232b"
   },
   "outputs": [],
   "source": []
  },
  {
   "cell_type": "markdown",
   "id": "236ae8f5",
   "metadata": {
    "id": "5d414642"
   },
   "source": [
    "---"
   ]
  },
  {
   "cell_type": "markdown",
   "id": "dabe537c",
   "metadata": {},
   "source": [
    "# Optuna\n",
    "- optuna 이용시 추천해주는 최적 하이퍼파라미터 조합"
   ]
  },
  {
   "cell_type": "code",
   "execution_count": 147,
   "id": "12f1e7c7",
   "metadata": {},
   "outputs": [],
   "source": [
    "xgboost=  {'learning_rate': 0.02, 'n_estimators': 292, 'reg_alpha': 1.0997191680377813e-05, 'reg_lambda': 0.04104630401883339, 'max_depth': 16, 'colsample_bytree': 0.5, 'subsample': 0.7}\n",
    "\n",
    "lgbm = {'reg_alpha': 2.1245096608103405e-05, 'reg_lambda': 0.0018526142807772773, 'max_depth': 20, 'num_leaves': 214, 'colsample_bytree': 0.5274034664069657, 'subsample': 0.42727747704497043, 'subsample_freq': 2, 'min_child_samples': 34, 'max_bin': 357}\n",
    "\n",
    "RandomForest= {'n_estimators':483, 'max_depth': 40, 'min_samples_split': 30, 'min_samples_leaf': 31}"
   ]
  },
  {
   "cell_type": "markdown",
   "id": "756ac643",
   "metadata": {},
   "source": [
    "## RandomForest"
   ]
  },
  {
   "cell_type": "code",
   "execution_count": 148,
   "id": "577b44c5",
   "metadata": {},
   "outputs": [
    {
     "data": {
      "text/plain": [
       "RandomForestClassifier(max_depth=40, min_samples_leaf=31, min_samples_split=30,\n",
       "                       n_estimators=483)"
      ]
     },
     "execution_count": 148,
     "metadata": {},
     "output_type": "execute_result"
    }
   ],
   "source": [
    "rf_optuna = RandomForestClassifier(n_estimators = 483, max_depth = 40, min_samples_split = 30, min_samples_leaf = 31)\n",
    "rf_optuna.fit(X_train_over, y_train_over)"
   ]
  },
  {
   "cell_type": "code",
   "execution_count": 149,
   "id": "11d4fe43",
   "metadata": {},
   "outputs": [
    {
     "name": "stdout",
     "output_type": "stream",
     "text": [
      "==================================================\n",
      "Validataion set 예측 성능 평가\n",
      "              precision    recall  f1-score   support\n",
      "\n",
      "         0.0       0.49      0.44      0.47       644\n",
      "         1.0       0.67      0.54      0.60      1254\n",
      "         2.0       0.79      0.86      0.82      3393\n",
      "\n",
      "    accuracy                           0.73      5291\n",
      "   macro avg       0.65      0.62      0.63      5291\n",
      "weighted avg       0.73      0.73      0.73      5291\n",
      "\n",
      "[[ 284   88  272]\n",
      " [  64  682  508]\n",
      " [ 229  242 2922]]\n",
      "==================================================\n",
      "log_loss :  0.8151452758697733\n",
      "accuracy_score :  0.7348327348327348\n"
     ]
    }
   ],
   "source": [
    "from sklearn.metrics import log_loss, accuracy_score, classification_report, confusion_matrix\n",
    "\n",
    "print('='*50)\n",
    "print('Validataion set 예측 성능 평가')\n",
    "print(classification_report(y_val, rf_optuna.predict(X_val), zero_division=False))\n",
    "print(confusion_matrix(y_val, rf_optuna.predict(X_val)))\n",
    "print('='*50)\n",
    "print('log_loss : ',log_loss(y_val, rf_optuna.predict_proba(X_val)))\n",
    "print('accuracy_score : ', accuracy_score(y_val, rf_optuna.predict(X_val)))"
   ]
  },
  {
   "cell_type": "markdown",
   "id": "d690363a",
   "metadata": {},
   "source": [
    "### feature_importance"
   ]
  },
  {
   "cell_type": "code",
   "execution_count": 150,
   "id": "57fd0f22",
   "metadata": {},
   "outputs": [
    {
     "data": {
      "image/png": "[encoded data removed]",
      "text/plain": [
       "<Figure size 720x576 with 1 Axes>"
      ]
     },
     "metadata": {
      "needs_background": "light"
     },
     "output_type": "display_data"
    }
   ],
   "source": [
    "plot_feature_importance(rf_optuna.feature_importances_, X_val.columns, 'RandomForest using optuna')"
   ]
  },
  {
   "cell_type": "markdown",
   "id": "fad44d21",
   "metadata": {},
   "source": [
    "## XGBoost"
   ]
  },
  {
   "cell_type": "code",
   "execution_count": 151,
   "id": "5d15433a",
   "metadata": {
    "scrolled": true
   },
   "outputs": [
    {
     "name": "stderr",
     "output_type": "stream",
     "text": [
      "C:\\Users\\RYU\\anaconda3\\envs\\ds_study\\lib\\site-packages\\xgboost\\core.py:416: FutureWarning: Pass `objective` as keyword args.  Passing these as positional arguments will be considered as error in future releases.\n",
      "  warnings.warn(\n",
      "C:\\Users\\RYU\\anaconda3\\envs\\ds_study\\lib\\site-packages\\xgboost\\sklearn.py:888: UserWarning: The use of label encoder in XGBClassifier is deprecated and will be removed in a future release. To remove this warning, do the following: 1) Pass option use_label_encoder=False when constructing XGBClassifier object; and 2) Encode your labels (y) as integers starting with 0, i.e. 0, 1, 2, ..., [num_class - 1].\n",
      "  warnings.warn(label_encoder_deprecation_msg, UserWarning)\n"
     ]
    },
    {
     "name": "stdout",
     "output_type": "stream",
     "text": [
      "[19:08:47] WARNING: ..\\src\\learner.cc:1061: Starting in XGBoost 1.3.0, the default evaluation metric used with the objective 'multi:softprob' was changed from 'merror' to 'mlogloss'. Explicitly set eval_metric if you'd like to restore the old behavior.\n",
      "[0]\tvalidation_0-mlogloss:1.04341\n",
      "[1]\tvalidation_0-mlogloss:1.00317\n",
      "[2]\tvalidation_0-mlogloss:0.97141\n",
      "[3]\tvalidation_0-mlogloss:0.94784\n",
      "[4]\tvalidation_0-mlogloss:0.92763\n",
      "[5]\tvalidation_0-mlogloss:0.91404\n",
      "[6]\tvalidation_0-mlogloss:0.90053\n",
      "[7]\tvalidation_0-mlogloss:0.89070\n",
      "[8]\tvalidation_0-mlogloss:0.88285\n",
      "[9]\tvalidation_0-mlogloss:0.87471\n",
      "[10]\tvalidation_0-mlogloss:0.86618\n",
      "[11]\tvalidation_0-mlogloss:0.85676\n",
      "[12]\tvalidation_0-mlogloss:0.85102\n",
      "[13]\tvalidation_0-mlogloss:0.84497\n",
      "[14]\tvalidation_0-mlogloss:0.83673\n",
      "[15]\tvalidation_0-mlogloss:0.82964\n",
      "[16]\tvalidation_0-mlogloss:0.82590\n",
      "[17]\tvalidation_0-mlogloss:0.81948\n",
      "[18]\tvalidation_0-mlogloss:0.81482\n",
      "[19]\tvalidation_0-mlogloss:0.80865\n",
      "[20]\tvalidation_0-mlogloss:0.80360\n",
      "[21]\tvalidation_0-mlogloss:0.80102\n",
      "[22]\tvalidation_0-mlogloss:0.79555\n",
      "[23]\tvalidation_0-mlogloss:0.78850\n",
      "[24]\tvalidation_0-mlogloss:0.78434\n",
      "[25]\tvalidation_0-mlogloss:0.78058\n",
      "[26]\tvalidation_0-mlogloss:0.77826\n",
      "[27]\tvalidation_0-mlogloss:0.77370\n",
      "[28]\tvalidation_0-mlogloss:0.76922\n",
      "[29]\tvalidation_0-mlogloss:0.76672\n",
      "[30]\tvalidation_0-mlogloss:0.76225\n",
      "[31]\tvalidation_0-mlogloss:0.75822\n",
      "[32]\tvalidation_0-mlogloss:0.75528\n",
      "[33]\tvalidation_0-mlogloss:0.75238\n",
      "[34]\tvalidation_0-mlogloss:0.74927\n",
      "[35]\tvalidation_0-mlogloss:0.74510\n",
      "[36]\tvalidation_0-mlogloss:0.74100\n",
      "[37]\tvalidation_0-mlogloss:0.73929\n",
      "[38]\tvalidation_0-mlogloss:0.73559\n",
      "[39]\tvalidation_0-mlogloss:0.73223\n",
      "[40]\tvalidation_0-mlogloss:0.72808\n",
      "[41]\tvalidation_0-mlogloss:0.72425\n",
      "[42]\tvalidation_0-mlogloss:0.72064\n",
      "[43]\tvalidation_0-mlogloss:0.71877\n",
      "[44]\tvalidation_0-mlogloss:0.71642\n",
      "[45]\tvalidation_0-mlogloss:0.71393\n",
      "[46]\tvalidation_0-mlogloss:0.71259\n",
      "[47]\tvalidation_0-mlogloss:0.71142\n",
      "[48]\tvalidation_0-mlogloss:0.70867\n",
      "[49]\tvalidation_0-mlogloss:0.70477\n",
      "[50]\tvalidation_0-mlogloss:0.70225\n",
      "[51]\tvalidation_0-mlogloss:0.70065\n",
      "[52]\tvalidation_0-mlogloss:0.69698\n",
      "[53]\tvalidation_0-mlogloss:0.69452\n",
      "[54]\tvalidation_0-mlogloss:0.69148\n",
      "[55]\tvalidation_0-mlogloss:0.68917\n",
      "[56]\tvalidation_0-mlogloss:0.68719\n",
      "[57]\tvalidation_0-mlogloss:0.68528\n",
      "[58]\tvalidation_0-mlogloss:0.68166\n",
      "[59]\tvalidation_0-mlogloss:0.67962\n",
      "[60]\tvalidation_0-mlogloss:0.67835\n",
      "[61]\tvalidation_0-mlogloss:0.67628\n",
      "[62]\tvalidation_0-mlogloss:0.67442\n",
      "[63]\tvalidation_0-mlogloss:0.67319\n",
      "[64]\tvalidation_0-mlogloss:0.67123\n",
      "[65]\tvalidation_0-mlogloss:0.66965\n",
      "[66]\tvalidation_0-mlogloss:0.66753\n",
      "[67]\tvalidation_0-mlogloss:0.66578\n",
      "[68]\tvalidation_0-mlogloss:0.66268\n",
      "[69]\tvalidation_0-mlogloss:0.65995\n",
      "[70]\tvalidation_0-mlogloss:0.65840\n",
      "[71]\tvalidation_0-mlogloss:0.65692\n",
      "[72]\tvalidation_0-mlogloss:0.65463\n",
      "[73]\tvalidation_0-mlogloss:0.65262\n",
      "[74]\tvalidation_0-mlogloss:0.65104\n",
      "[75]\tvalidation_0-mlogloss:0.64933\n",
      "[76]\tvalidation_0-mlogloss:0.64845\n",
      "[77]\tvalidation_0-mlogloss:0.64697\n",
      "[78]\tvalidation_0-mlogloss:0.64547\n",
      "[79]\tvalidation_0-mlogloss:0.64394\n",
      "[80]\tvalidation_0-mlogloss:0.64230\n",
      "[81]\tvalidation_0-mlogloss:0.64046\n",
      "[82]\tvalidation_0-mlogloss:0.63970\n",
      "[83]\tvalidation_0-mlogloss:0.63837\n",
      "[84]\tvalidation_0-mlogloss:0.63675\n",
      "[85]\tvalidation_0-mlogloss:0.63507\n",
      "[86]\tvalidation_0-mlogloss:0.63358\n",
      "[87]\tvalidation_0-mlogloss:0.63128\n",
      "[88]\tvalidation_0-mlogloss:0.63082\n",
      "[89]\tvalidation_0-mlogloss:0.62894\n",
      "[90]\tvalidation_0-mlogloss:0.62760\n",
      "[91]\tvalidation_0-mlogloss:0.62539\n",
      "[92]\tvalidation_0-mlogloss:0.62376\n",
      "[93]\tvalidation_0-mlogloss:0.62217\n",
      "[94]\tvalidation_0-mlogloss:0.62074\n",
      "[95]\tvalidation_0-mlogloss:0.61893\n",
      "[96]\tvalidation_0-mlogloss:0.61640\n",
      "[97]\tvalidation_0-mlogloss:0.61482\n",
      "[98]\tvalidation_0-mlogloss:0.61418\n",
      "[99]\tvalidation_0-mlogloss:0.61293\n"
     ]
    },
    {
     "data": {
      "text/plain": [
       "XGBClassifier(base_score=0.5, booster='gbtree', colsample_bylevel=1,\n",
       "              colsample_bynode=1, colsample_bytree=1, gamma=0, gpu_id=-1,\n",
       "              importance_type='gain', interaction_constraints='',\n",
       "              learning_rate=0.300000012, max_delta_step=0, max_depth=6,\n",
       "              min_child_weight=1, missing=nan, monotone_constraints='()',\n",
       "              n_estimators=100, n_jobs=4, num_parallel_tree=1,\n",
       "              objective='multi:softprob', random_state=0, reg_alpha=0,\n",
       "              reg_lambda=1, scale_pos_weight=None, subsample=1,\n",
       "              tree_method='exact', validate_parameters=1, verbosity=None)"
      ]
     },
     "execution_count": 151,
     "metadata": {},
     "output_type": "execute_result"
    }
   ],
   "source": [
    "xgb_optuna = XGBClassifier(xgboost)\n",
    "xgb_optuna.fit(X_train_over.values, y_train_over.values, early_stopping_rounds = 10, eval_set = [(X_val.values, y_val)])"
   ]
  },
  {
   "cell_type": "code",
   "execution_count": 152,
   "id": "4075d2ea",
   "metadata": {},
   "outputs": [
    {
     "name": "stdout",
     "output_type": "stream",
     "text": [
      "==================================================\n",
      "Validataion set 예측 성능 평가\n",
      "              precision    recall  f1-score   support\n",
      "\n",
      "         0.0       0.78      0.32      0.45       644\n",
      "         1.0       0.85      0.48      0.61      1254\n",
      "         2.0       0.77      0.97      0.86      3393\n",
      "\n",
      "    accuracy                           0.78      5291\n",
      "   macro avg       0.80      0.59      0.64      5291\n",
      "weighted avg       0.79      0.78      0.75      5291\n",
      "\n",
      "[[ 207   50  387]\n",
      " [  23  606  625]\n",
      " [  37   61 3295]]\n",
      "==================================================\n",
      "log_loss :  0.6129271461014243\n",
      "accuracy_score :  0.7764127764127764\n"
     ]
    }
   ],
   "source": [
    "from sklearn.metrics import log_loss, accuracy_score, classification_report, confusion_matrix\n",
    "\n",
    "print('='*50)\n",
    "print('Validataion set 예측 성능 평가')\n",
    "print(classification_report(y_val, xgb_optuna.predict(X_val.values)))\n",
    "print(confusion_matrix(y_val, xgb_optuna.predict(X_val.values)))\n",
    "print('='*50)\n",
    "print('log_loss : ',log_loss(y_val, xgb_optuna.predict_proba(X_val.values)))\n",
    "print('accuracy_score : ', accuracy_score(y_val, xgb_optuna.predict(X_val.values)))"
   ]
  },
  {
   "cell_type": "code",
   "execution_count": 153,
   "id": "c18be243",
   "metadata": {},
   "outputs": [
    {
     "data": {
      "image/png": "[encoded data removed]",
      "text/plain": [
       "<Figure size 720x576 with 1 Axes>"
      ]
     },
     "metadata": {
      "needs_background": "light"
     },
     "output_type": "display_data"
    }
   ],
   "source": [
    "plot_feature_importance(xgb_optuna.feature_importances_,X_val.columns,'XGB using optuna')"
   ]
  },
  {
   "cell_type": "markdown",
   "id": "c467382f",
   "metadata": {},
   "source": [
    "## LGBM"
   ]
  },
  {
   "cell_type": "code",
   "execution_count": 154,
   "id": "42377967",
   "metadata": {
    "scrolled": true
   },
   "outputs": [
    {
     "name": "stderr",
     "output_type": "stream",
     "text": [
      "C:\\Users\\RYU\\anaconda3\\envs\\ds_study\\lib\\site-packages\\lightgbm\\basic.py:1433: UserWarning: Overriding the parameters from Reference Dataset.\n",
      "  _log_warning('Overriding the parameters from Reference Dataset.')\n",
      "C:\\Users\\RYU\\anaconda3\\envs\\ds_study\\lib\\site-packages\\lightgbm\\basic.py:1245: UserWarning: categorical_column in param dict is overridden.\n",
      "  _log_warning('{} in param dict is overridden.'.format(cat_alias))\n"
     ]
    },
    {
     "name": "stdout",
     "output_type": "stream",
     "text": [
      "[1]\tvalid_0's multi_logloss: 1.06497\n",
      "Training until validation scores don't improve for 10 rounds\n",
      "[2]\tvalid_0's multi_logloss: 1.03922\n",
      "[3]\tvalid_0's multi_logloss: 1.01457\n",
      "[4]\tvalid_0's multi_logloss: 0.995511\n",
      "[5]\tvalid_0's multi_logloss: 0.977721\n",
      "[6]\tvalid_0's multi_logloss: 0.965682\n",
      "[7]\tvalid_0's multi_logloss: 0.949702\n",
      "[8]\tvalid_0's multi_logloss: 0.937822\n",
      "[9]\tvalid_0's multi_logloss: 0.92796\n",
      "[10]\tvalid_0's multi_logloss: 0.919048\n",
      "[11]\tvalid_0's multi_logloss: 0.909824\n",
      "[12]\tvalid_0's multi_logloss: 0.903789\n",
      "[13]\tvalid_0's multi_logloss: 0.898082\n",
      "[14]\tvalid_0's multi_logloss: 0.889736\n",
      "[15]\tvalid_0's multi_logloss: 0.883782\n",
      "[16]\tvalid_0's multi_logloss: 0.878441\n",
      "[17]\tvalid_0's multi_logloss: 0.871977\n",
      "[18]\tvalid_0's multi_logloss: 0.86814\n",
      "[19]\tvalid_0's multi_logloss: 0.861664\n",
      "[20]\tvalid_0's multi_logloss: 0.857414\n",
      "[21]\tvalid_0's multi_logloss: 0.854412\n",
      "[22]\tvalid_0's multi_logloss: 0.849306\n",
      "[23]\tvalid_0's multi_logloss: 0.845955\n",
      "[24]\tvalid_0's multi_logloss: 0.842947\n",
      "[25]\tvalid_0's multi_logloss: 0.838325\n",
      "[26]\tvalid_0's multi_logloss: 0.834582\n",
      "[27]\tvalid_0's multi_logloss: 0.831922\n",
      "[28]\tvalid_0's multi_logloss: 0.828662\n",
      "[29]\tvalid_0's multi_logloss: 0.824106\n",
      "[30]\tvalid_0's multi_logloss: 0.821776\n",
      "[31]\tvalid_0's multi_logloss: 0.818327\n",
      "[32]\tvalid_0's multi_logloss: 0.815823\n",
      "[33]\tvalid_0's multi_logloss: 0.813068\n",
      "[34]\tvalid_0's multi_logloss: 0.810828\n",
      "[35]\tvalid_0's multi_logloss: 0.807726\n",
      "[36]\tvalid_0's multi_logloss: 0.804382\n",
      "[37]\tvalid_0's multi_logloss: 0.801294\n",
      "[38]\tvalid_0's multi_logloss: 0.798826\n",
      "[39]\tvalid_0's multi_logloss: 0.796371\n",
      "[40]\tvalid_0's multi_logloss: 0.794566\n",
      "[41]\tvalid_0's multi_logloss: 0.792498\n",
      "[42]\tvalid_0's multi_logloss: 0.789803\n",
      "[43]\tvalid_0's multi_logloss: 0.787352\n",
      "[44]\tvalid_0's multi_logloss: 0.785156\n",
      "[45]\tvalid_0's multi_logloss: 0.782848\n",
      "[46]\tvalid_0's multi_logloss: 0.780686\n",
      "[47]\tvalid_0's multi_logloss: 0.778678\n",
      "[48]\tvalid_0's multi_logloss: 0.776393\n",
      "[49]\tvalid_0's multi_logloss: 0.774787\n",
      "[50]\tvalid_0's multi_logloss: 0.772707\n",
      "[51]\tvalid_0's multi_logloss: 0.77067\n",
      "[52]\tvalid_0's multi_logloss: 0.768699\n",
      "[53]\tvalid_0's multi_logloss: 0.76693\n",
      "[54]\tvalid_0's multi_logloss: 0.765407\n",
      "[55]\tvalid_0's multi_logloss: 0.763517\n",
      "[56]\tvalid_0's multi_logloss: 0.762023\n",
      "[57]\tvalid_0's multi_logloss: 0.760314\n",
      "[58]\tvalid_0's multi_logloss: 0.758872\n",
      "[59]\tvalid_0's multi_logloss: 0.757548\n",
      "[60]\tvalid_0's multi_logloss: 0.755668\n",
      "[61]\tvalid_0's multi_logloss: 0.754327\n",
      "[62]\tvalid_0's multi_logloss: 0.752895\n",
      "[63]\tvalid_0's multi_logloss: 0.751319\n",
      "[64]\tvalid_0's multi_logloss: 0.74995\n",
      "[65]\tvalid_0's multi_logloss: 0.74843\n",
      "[66]\tvalid_0's multi_logloss: 0.746965\n",
      "[67]\tvalid_0's multi_logloss: 0.745645\n",
      "[68]\tvalid_0's multi_logloss: 0.744355\n",
      "[69]\tvalid_0's multi_logloss: 0.742815\n",
      "[70]\tvalid_0's multi_logloss: 0.741646\n",
      "[71]\tvalid_0's multi_logloss: 0.740503\n",
      "[72]\tvalid_0's multi_logloss: 0.739374\n",
      "[73]\tvalid_0's multi_logloss: 0.738057\n",
      "[74]\tvalid_0's multi_logloss: 0.736533\n",
      "[75]\tvalid_0's multi_logloss: 0.735197\n",
      "[76]\tvalid_0's multi_logloss: 0.733711\n",
      "[77]\tvalid_0's multi_logloss: 0.732461\n",
      "[78]\tvalid_0's multi_logloss: 0.73143\n",
      "[79]\tvalid_0's multi_logloss: 0.729861\n",
      "[80]\tvalid_0's multi_logloss: 0.728525\n",
      "[81]\tvalid_0's multi_logloss: 0.726808\n",
      "[82]\tvalid_0's multi_logloss: 0.725699\n",
      "[83]\tvalid_0's multi_logloss: 0.724576\n",
      "[84]\tvalid_0's multi_logloss: 0.723467\n",
      "[85]\tvalid_0's multi_logloss: 0.722301\n",
      "[86]\tvalid_0's multi_logloss: 0.72127\n",
      "[87]\tvalid_0's multi_logloss: 0.720181\n",
      "[88]\tvalid_0's multi_logloss: 0.719007\n",
      "[89]\tvalid_0's multi_logloss: 0.718104\n",
      "[90]\tvalid_0's multi_logloss: 0.71699\n",
      "[91]\tvalid_0's multi_logloss: 0.716054\n",
      "[92]\tvalid_0's multi_logloss: 0.71499\n",
      "[93]\tvalid_0's multi_logloss: 0.713925\n",
      "[94]\tvalid_0's multi_logloss: 0.713073\n",
      "[95]\tvalid_0's multi_logloss: 0.712146\n",
      "[96]\tvalid_0's multi_logloss: 0.711258\n",
      "[97]\tvalid_0's multi_logloss: 0.70992\n",
      "[98]\tvalid_0's multi_logloss: 0.709088\n",
      "[99]\tvalid_0's multi_logloss: 0.708013\n",
      "[100]\tvalid_0's multi_logloss: 0.706976\n",
      "Did not meet early stopping. Best iteration is:\n",
      "[100]\tvalid_0's multi_logloss: 0.706976\n"
     ]
    },
    {
     "data": {
      "text/plain": [
       "LGBMClassifier()"
      ]
     },
     "execution_count": 154,
     "metadata": {},
     "output_type": "execute_result"
    }
   ],
   "source": [
    "lgobm_optuna = LGBMClassifier(lgbm)\n",
    "lgbm_optuna.fit(X_train_over, y_train_over, early_stopping_rounds = 10, eval_set = [(X_val, y_val)])"
   ]
  },
  {
   "cell_type": "code",
   "execution_count": 155,
   "id": "1193fefc",
   "metadata": {},
   "outputs": [
    {
     "name": "stdout",
     "output_type": "stream",
     "text": [
      "==================================================\n",
      "Validataion set 예측 성능 평가\n",
      "              precision    recall  f1-score   support\n",
      "\n",
      "         0.0       0.72      0.18      0.29       644\n",
      "         1.0       0.79      0.37      0.50      1254\n",
      "         2.0       0.73      0.97      0.83      3393\n",
      "\n",
      "    accuracy                           0.73      5291\n",
      "   macro avg       0.75      0.51      0.54      5291\n",
      "weighted avg       0.74      0.73      0.69      5291\n",
      "\n",
      "[[ 117   58  469]\n",
      " [  19  462  773]\n",
      " [  26   67 3300]]\n",
      "==================================================\n",
      "log_loss :  0.7069757067872396\n",
      "accuracy_score :  0.7331317331317331\n"
     ]
    }
   ],
   "source": [
    "from sklearn.metrics import log_loss, accuracy_score, classification_report, confusion_matrix\n",
    "\n",
    "print('='*50)\n",
    "print('Validataion set 예측 성능 평가')\n",
    "print(classification_report(y_val, lgbm_optuna.predict(X_val)))\n",
    "print(confusion_matrix(y_val, lgbm_optuna.predict(X_val)))\n",
    "print('='*50)\n",
    "print('log_loss : ',log_loss(y_val, lgbm_optuna.predict_proba(X_val)))\n",
    "print('accuracy_score : ', accuracy_score(y_val, lgbm_optuna.predict(X_val)))"
   ]
  },
  {
   "cell_type": "code",
   "execution_count": 156,
   "id": "afa9ac35",
   "metadata": {},
   "outputs": [
    {
     "data": {
      "image/png": "[encoded data removed]",
      "text/plain": [
       "<Figure size 720x576 with 1 Axes>"
      ]
     },
     "metadata": {
      "needs_background": "light"
     },
     "output_type": "display_data"
    }
   ],
   "source": [
    "plot_feature_importance(lgbm_optuna.feature_importances_,X_val.columns,'LGBM using optuna')"
   ]
  }
 ],
 "metadata": {
  "accelerator": "GPU",
  "colab": {
   "collapsed_sections": [],
   "name": "분석_1.ipynb",
   "provenance": []
  },
  "kernelspec": {
   "display_name": "Python 3 (ipykernel)",
   "language": "python",
   "name": "python3"
  },
  "language_info": {
   "codemirror_mode": {
    "name": "ipython",
    "version": 3
   },
   "file_extension": ".py",
   "mimetype": "text/x-python",
   "name": "python",
   "nbconvert_exporter": "python",
   "pygments_lexer": "ipython3",
   "version": "3.8.11"
  },
  "toc": {
   "base_numbering": 1,
   "nav_menu": {},
   "number_sections": true,
   "sideBar": true,
   "skip_h1_title": false,
   "title_cell": "Table of Contents",
   "title_sidebar": "Contents",
   "toc_cell": true,
   "toc_position": {},
   "toc_section_display": true,
   "toc_window_display": false
  }
 },
 "nbformat": 4,
 "nbformat_minor": 5
}
