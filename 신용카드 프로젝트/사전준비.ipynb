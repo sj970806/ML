{
 "cells": [
  {
   "cell_type": "code",
   "execution_count": 1,
   "metadata": {},
   "outputs": [
    {
     "name": "stdout",
     "output_type": "stream",
     "text": [
      "Hangul OK in your Windows!!\n"
     ]
    }
   ],
   "source": [
    "import pandas as pd\n",
    "import numpy as np\n",
    "import seaborn as sns\n",
    "import matplotlib.pyplot as plt\n",
    "import set_matplotlib_hangul"
   ]
  },
  {
   "cell_type": "markdown",
   "metadata": {},
   "source": [
    "# EDA 및 시각화"
   ]
  },
  {
   "cell_type": "code",
   "execution_count": 167,
   "metadata": {},
   "outputs": [
    {
     "data": {
      "text/html": [
       "<div>\n",
       "<style scoped>\n",
       "    .dataframe tbody tr th:only-of-type {\n",
       "        vertical-align: middle;\n",
       "    }\n",
       "\n",
       "    .dataframe tbody tr th {\n",
       "        vertical-align: top;\n",
       "    }\n",
       "\n",
       "    .dataframe thead th {\n",
       "        text-align: right;\n",
       "    }\n",
       "</style>\n",
       "<table border=\"1\" class=\"dataframe\">\n",
       "  <thead>\n",
       "    <tr style=\"text-align: right;\">\n",
       "      <th></th>\n",
       "      <th>gender</th>\n",
       "      <th>car</th>\n",
       "      <th>reality</th>\n",
       "      <th>child_num</th>\n",
       "      <th>income_total</th>\n",
       "      <th>income_type</th>\n",
       "      <th>edu_type</th>\n",
       "      <th>family_type</th>\n",
       "      <th>house_type</th>\n",
       "      <th>DAYS_BIRTH</th>\n",
       "      <th>DAYS_EMPLOYED</th>\n",
       "      <th>FLAG_MOBIL</th>\n",
       "      <th>work_phone</th>\n",
       "      <th>phone</th>\n",
       "      <th>email</th>\n",
       "      <th>occyp_type</th>\n",
       "      <th>family_size</th>\n",
       "      <th>begin_month</th>\n",
       "      <th>credit</th>\n",
       "    </tr>\n",
       "  </thead>\n",
       "  <tbody>\n",
       "    <tr>\n",
       "      <th>0</th>\n",
       "      <td>F</td>\n",
       "      <td>N</td>\n",
       "      <td>N</td>\n",
       "      <td>0</td>\n",
       "      <td>202500.0</td>\n",
       "      <td>Commercial associate</td>\n",
       "      <td>Higher education</td>\n",
       "      <td>Married</td>\n",
       "      <td>Municipal apartment</td>\n",
       "      <td>-13899</td>\n",
       "      <td>-4709</td>\n",
       "      <td>1</td>\n",
       "      <td>0</td>\n",
       "      <td>0</td>\n",
       "      <td>0</td>\n",
       "      <td>NaN</td>\n",
       "      <td>2.0</td>\n",
       "      <td>-6.0</td>\n",
       "      <td>1.0</td>\n",
       "    </tr>\n",
       "    <tr>\n",
       "      <th>1</th>\n",
       "      <td>F</td>\n",
       "      <td>N</td>\n",
       "      <td>Y</td>\n",
       "      <td>1</td>\n",
       "      <td>247500.0</td>\n",
       "      <td>Commercial associate</td>\n",
       "      <td>Secondary / secondary special</td>\n",
       "      <td>Civil marriage</td>\n",
       "      <td>House / apartment</td>\n",
       "      <td>-11380</td>\n",
       "      <td>-1540</td>\n",
       "      <td>1</td>\n",
       "      <td>0</td>\n",
       "      <td>0</td>\n",
       "      <td>1</td>\n",
       "      <td>Laborers</td>\n",
       "      <td>3.0</td>\n",
       "      <td>-5.0</td>\n",
       "      <td>1.0</td>\n",
       "    </tr>\n",
       "    <tr>\n",
       "      <th>2</th>\n",
       "      <td>M</td>\n",
       "      <td>Y</td>\n",
       "      <td>Y</td>\n",
       "      <td>0</td>\n",
       "      <td>450000.0</td>\n",
       "      <td>Working</td>\n",
       "      <td>Higher education</td>\n",
       "      <td>Married</td>\n",
       "      <td>House / apartment</td>\n",
       "      <td>-19087</td>\n",
       "      <td>-4434</td>\n",
       "      <td>1</td>\n",
       "      <td>0</td>\n",
       "      <td>1</td>\n",
       "      <td>0</td>\n",
       "      <td>Managers</td>\n",
       "      <td>2.0</td>\n",
       "      <td>-22.0</td>\n",
       "      <td>2.0</td>\n",
       "    </tr>\n",
       "    <tr>\n",
       "      <th>3</th>\n",
       "      <td>F</td>\n",
       "      <td>N</td>\n",
       "      <td>Y</td>\n",
       "      <td>0</td>\n",
       "      <td>202500.0</td>\n",
       "      <td>Commercial associate</td>\n",
       "      <td>Secondary / secondary special</td>\n",
       "      <td>Married</td>\n",
       "      <td>House / apartment</td>\n",
       "      <td>-15088</td>\n",
       "      <td>-2092</td>\n",
       "      <td>1</td>\n",
       "      <td>0</td>\n",
       "      <td>1</td>\n",
       "      <td>0</td>\n",
       "      <td>Sales staff</td>\n",
       "      <td>2.0</td>\n",
       "      <td>-37.0</td>\n",
       "      <td>0.0</td>\n",
       "    </tr>\n",
       "    <tr>\n",
       "      <th>4</th>\n",
       "      <td>F</td>\n",
       "      <td>Y</td>\n",
       "      <td>Y</td>\n",
       "      <td>0</td>\n",
       "      <td>157500.0</td>\n",
       "      <td>State servant</td>\n",
       "      <td>Higher education</td>\n",
       "      <td>Married</td>\n",
       "      <td>House / apartment</td>\n",
       "      <td>-15037</td>\n",
       "      <td>-2105</td>\n",
       "      <td>1</td>\n",
       "      <td>0</td>\n",
       "      <td>0</td>\n",
       "      <td>0</td>\n",
       "      <td>Managers</td>\n",
       "      <td>2.0</td>\n",
       "      <td>-26.0</td>\n",
       "      <td>2.0</td>\n",
       "    </tr>\n",
       "  </tbody>\n",
       "</table>\n",
       "</div>"
      ],
      "text/plain": [
       "  gender car reality  child_num  income_total           income_type  \\\n",
       "0      F   N       N          0      202500.0  Commercial associate   \n",
       "1      F   N       Y          1      247500.0  Commercial associate   \n",
       "2      M   Y       Y          0      450000.0               Working   \n",
       "3      F   N       Y          0      202500.0  Commercial associate   \n",
       "4      F   Y       Y          0      157500.0         State servant   \n",
       "\n",
       "                        edu_type     family_type           house_type  \\\n",
       "0               Higher education         Married  Municipal apartment   \n",
       "1  Secondary / secondary special  Civil marriage    House / apartment   \n",
       "2               Higher education         Married    House / apartment   \n",
       "3  Secondary / secondary special         Married    House / apartment   \n",
       "4               Higher education         Married    House / apartment   \n",
       "\n",
       "   DAYS_BIRTH  DAYS_EMPLOYED  FLAG_MOBIL  work_phone  phone  email  \\\n",
       "0      -13899          -4709           1           0      0      0   \n",
       "1      -11380          -1540           1           0      0      1   \n",
       "2      -19087          -4434           1           0      1      0   \n",
       "3      -15088          -2092           1           0      1      0   \n",
       "4      -15037          -2105           1           0      0      0   \n",
       "\n",
       "    occyp_type  family_size  begin_month  credit  \n",
       "0          NaN          2.0         -6.0     1.0  \n",
       "1     Laborers          3.0         -5.0     1.0  \n",
       "2     Managers          2.0        -22.0     2.0  \n",
       "3  Sales staff          2.0        -37.0     0.0  \n",
       "4     Managers          2.0        -26.0     2.0  "
      ]
     },
     "execution_count": 167,
     "metadata": {},
     "output_type": "execute_result"
    }
   ],
   "source": [
    "data = pd.read_csv('../data/신용카드/train.csv')\n",
    "del data['index']\n",
    "data.head()"
   ]
  },
  {
   "cell_type": "markdown",
   "metadata": {},
   "source": [
    "```\n",
    "1. gender: 성별\n",
    "\n",
    "2. car: 차량 소유 여부\n",
    "\n",
    "3. reality: 부동산 소유 여부\n",
    "\n",
    "4. child_num: 자녀 수\n",
    "\n",
    "5. income_total: 연간 소득\n",
    "\n",
    "6. income_type: 소득 분류\n",
    "['Commercial associate', 'Working', 'State servant', 'Pensioner', 'Student']\n",
    "\n",
    "7. edu_type: 교육 수준\n",
    "['Higher education' ,'Secondary / secondary special', 'Incomplete higher', 'Lower secondary', 'Academic degree']\n",
    "\n",
    "\n",
    "8. family_type: 결혼 여부\n",
    "['Married', 'Civil marriage', 'Separated', 'Single / not married', 'Widow']\n",
    "\n",
    "9. house_type: 생활 방식\n",
    "['Municipal apartment', 'House / apartment', 'With parents','Co-op apartment', 'Rented apartment', 'Office apartment']\n",
    "\n",
    "10. DAYS_BIRTH: 출생일\n",
    "데이터 수집 당시 (0)부터 역으로 셈, 즉, -1은 데이터 수집일 하루 전에 태어났음을 의미\n",
    "\n",
    "11. DAYS_EMPLOYED: 업무 시작일\n",
    "데이터 수집 당시 (0)부터 역으로 셈, 즉, -1은 데이터 수집일 하루 전부터 일을 시작함을 의미\n",
    "양수 값은 고용되지 않은 상태를 의미함\n",
    "\n",
    "12. FLAG_MOBIL: 핸드폰 소유 여부\n",
    "\n",
    "13. work_phone: 업무용 전화 소유 여부\n",
    "\n",
    "14. phone: 전화 소유 여부\n",
    "\n",
    "15. email: 이메일 소유 여부\n",
    "\n",
    "16. occyp_type: 직업 유형\n",
    "\n",
    "17. family_size: 가족 규모\n",
    "\n",
    "18. begin_month: 신용카드 발급 월\n",
    "데이터 수집 당시 (0)부터 역으로 셈, 즉, -1은 데이터 수집일 한 달 전에 신용카드를 발급함을 의미\n",
    "\n",
    "19. credit: 사용자의 신용카드 대금 연체를 기준으로 한 신용도\n",
    "낮을 수록 높은 신용의 신용카드 사용자를 의미함\n",
    "```\n"
   ]
  },
  {
   "cell_type": "code",
   "execution_count": 3,
   "metadata": {},
   "outputs": [
    {
     "name": "stdout",
     "output_type": "stream",
     "text": [
      "<class 'pandas.core.frame.DataFrame'>\n",
      "RangeIndex: 26457 entries, 0 to 26456\n",
      "Data columns (total 19 columns):\n",
      " #   Column         Non-Null Count  Dtype  \n",
      "---  ------         --------------  -----  \n",
      " 0   gender         26457 non-null  object \n",
      " 1   car            26457 non-null  object \n",
      " 2   reality        26457 non-null  object \n",
      " 3   child_num      26457 non-null  int64  \n",
      " 4   income_total   26457 non-null  float64\n",
      " 5   income_type    26457 non-null  object \n",
      " 6   edu_type       26457 non-null  object \n",
      " 7   family_type    26457 non-null  object \n",
      " 8   house_type     26457 non-null  object \n",
      " 9   DAYS_BIRTH     26457 non-null  int64  \n",
      " 10  DAYS_EMPLOYED  26457 non-null  int64  \n",
      " 11  FLAG_MOBIL     26457 non-null  int64  \n",
      " 12  work_phone     26457 non-null  int64  \n",
      " 13  phone          26457 non-null  int64  \n",
      " 14  email          26457 non-null  int64  \n",
      " 15  occyp_type     18286 non-null  object \n",
      " 16  family_size    26457 non-null  float64\n",
      " 17  begin_month    26457 non-null  float64\n",
      " 18  credit         26457 non-null  float64\n",
      "dtypes: float64(4), int64(7), object(8)\n",
      "memory usage: 3.8+ MB\n"
     ]
    }
   ],
   "source": [
    "data.info()"
   ]
  },
  {
   "cell_type": "markdown",
   "metadata": {},
   "source": [
    "### 1. DAYS_BIRTH 변수를 나이 변수로 바꾸기"
   ]
  },
  {
   "cell_type": "code",
   "execution_count": 168,
   "metadata": {
    "scrolled": true
   },
   "outputs": [
    {
     "data": {
      "text/plain": [
       "37    903\n",
       "27    836\n",
       "40    820\n",
       "28    809\n",
       "34    796\n",
       "Name: age, dtype: int64"
      ]
     },
     "execution_count": 168,
     "metadata": {},
     "output_type": "execute_result"
    }
   ],
   "source": [
    "data['age'] = abs(data['DAYS_BIRTH']) // 365\n",
    "data['age'].value_counts()[:5]"
   ]
  },
  {
   "cell_type": "code",
   "execution_count": 169,
   "metadata": {},
   "outputs": [
    {
     "data": {
      "image/png": "[encoded data removed]",
      "text/plain": [
       "<Figure size 720x432 with 1 Axes>"
      ]
     },
     "metadata": {
      "needs_background": "light"
     },
     "output_type": "display_data"
    }
   ],
   "source": [
    "plt.figure(figsize = (10,6))\n",
    "sns.distplot(data.age)\n",
    "plt.title('나이 분포')\n",
    "plt.show()"
   ]
  },
  {
   "cell_type": "markdown",
   "metadata": {},
   "source": [
    "### 2. occyp_type과 credit class 독립성 판단 (카이제곱 검정)\n",
    "- 이 변수가 결측치도 있고 까다로운 변수라고 생각이 든다.\n",
    "- 만약 독립이라면 제거 하고 진행할 예정"
   ]
  },
  {
   "cell_type": "code",
   "execution_count": 170,
   "metadata": {},
   "outputs": [
    {
     "data": {
      "text/plain": [
       "Laborers                 0.246746\n",
       "Core staff               0.144701\n",
       "Sales staff              0.138849\n",
       "Managers                 0.118506\n",
       "Drivers                  0.086131\n",
       "High skill tech staff    0.056874\n",
       "Accountants              0.049327\n",
       "Medicine staff           0.047249\n",
       "Cooking staff            0.024992\n",
       "Security staff           0.023187\n",
       "Cleaning staff           0.022039\n",
       "Private service staff    0.013289\n",
       "Low-skill Laborers       0.006945\n",
       "Waiters/barmen staff     0.006781\n",
       "Secretaries              0.005305\n",
       "Realty agents            0.003445\n",
       "HR staff                 0.003391\n",
       "IT staff                 0.002242\n",
       "Name: occyp_type, dtype: float64"
      ]
     },
     "execution_count": 170,
     "metadata": {},
     "output_type": "execute_result"
    }
   ],
   "source": [
    "# 전체 비율 확인\n",
    "data.occyp_type.value_counts() / sum(data.occyp_type.value_counts())"
   ]
  },
  {
   "cell_type": "markdown",
   "metadata": {},
   "source": [
    "- 검정을 위한 새 변수 설정"
   ]
  },
  {
   "cell_type": "markdown",
   "metadata": {},
   "source": [
    "- 상위 9개정도만 묶고, 나머지는 기타로 분류"
   ]
  },
  {
   "cell_type": "code",
   "execution_count": 171,
   "metadata": {},
   "outputs": [
    {
     "data": {
      "text/plain": [
       "Index(['Laborers', 'Core staff', 'Sales staff', 'Managers', 'Drivers',\n",
       "       'High skill tech staff', 'Accountants', 'Medicine staff',\n",
       "       'Cooking staff'],\n",
       "      dtype='object')"
      ]
     },
     "execution_count": 171,
     "metadata": {},
     "output_type": "execute_result"
    }
   ],
   "source": [
    "occyp_list = (data.occyp_type.value_counts() / sum(data.occyp_type.value_counts())).index[:9]\n",
    "occyp_list"
   ]
  },
  {
   "cell_type": "code",
   "execution_count": 172,
   "metadata": {},
   "outputs": [
    {
     "data": {
      "text/plain": [
       "etc.                     9755\n",
       "Laborers                 4512\n",
       "Core staff               2646\n",
       "Sales staff              2539\n",
       "Managers                 2167\n",
       "Drivers                  1575\n",
       "High skill tech staff    1040\n",
       "Accountants               902\n",
       "Medicine staff            864\n",
       "Cooking staff             457\n",
       "Name: occyp_type_new, dtype: int64"
      ]
     },
     "execution_count": 172,
     "metadata": {},
     "output_type": "execute_result"
    }
   ],
   "source": [
    "occyp_type_new = ['etc.' if row['occyp_type'] not in occyp_list else row['occyp_type'] for idx,row in data.iterrows()]\n",
    "data['occyp_type_new'] = occyp_type_new\n",
    "data['occyp_type_new'].value_counts()"
   ]
  },
  {
   "cell_type": "markdown",
   "metadata": {},
   "source": [
    "- 기타가 너무 많아진것 같기도..?\n",
    "- 일단 pass"
   ]
  },
  {
   "cell_type": "markdown",
   "metadata": {},
   "source": [
    "#### 각 신용도별 직업의 비율 확인"
   ]
  },
  {
   "cell_type": "markdown",
   "metadata": {},
   "source": [
    "- 신용도 : 0"
   ]
  },
  {
   "cell_type": "code",
   "execution_count": 173,
   "metadata": {},
   "outputs": [
    {
     "data": {
      "text/plain": [
       "etc.                     1147\n",
       "Laborers                  586\n",
       "Core staff                347\n",
       "Sales staff               293\n",
       "Managers                  280\n",
       "Drivers                   187\n",
       "High skill tech staff     123\n",
       "Accountants               118\n",
       "Medicine staff             83\n",
       "Cooking staff              58\n",
       "Name: occyp_type_new, dtype: int64"
      ]
     },
     "execution_count": 173,
     "metadata": {},
     "output_type": "execute_result"
    }
   ],
   "source": [
    "credit0 = data[data['credit'] == 0].occyp_type_new.value_counts() #/ sum(data[data['credit'] == 0].occyp_type_new.value_counts()) \n",
    "credit0"
   ]
  },
  {
   "cell_type": "markdown",
   "metadata": {},
   "source": [
    "- 신용도 : 1"
   ]
  },
  {
   "cell_type": "code",
   "execution_count": 174,
   "metadata": {},
   "outputs": [
    {
     "data": {
      "text/plain": [
       "etc.                     2299\n",
       "Laborers                 1082\n",
       "Sales staff               650\n",
       "Core staff                622\n",
       "Managers                  458\n",
       "Drivers                   358\n",
       "High skill tech staff     270\n",
       "Accountants               227\n",
       "Medicine staff            191\n",
       "Cooking staff             110\n",
       "Name: occyp_type_new, dtype: int64"
      ]
     },
     "execution_count": 174,
     "metadata": {},
     "output_type": "execute_result"
    }
   ],
   "source": [
    "credit1 = data[data['credit'] == 1].occyp_type_new.value_counts() #/ sum(data[data['credit'] == 1].occyp_type_new.value_counts()) \n",
    "credit1"
   ]
  },
  {
   "cell_type": "markdown",
   "metadata": {},
   "source": [
    "- 신용도 : 2"
   ]
  },
  {
   "cell_type": "code",
   "execution_count": 175,
   "metadata": {},
   "outputs": [
    {
     "data": {
      "text/plain": [
       "etc.                     6309\n",
       "Laborers                 2844\n",
       "Core staff               1677\n",
       "Sales staff              1596\n",
       "Managers                 1429\n",
       "Drivers                  1030\n",
       "High skill tech staff     647\n",
       "Medicine staff            590\n",
       "Accountants               557\n",
       "Cooking staff             289\n",
       "Name: occyp_type_new, dtype: int64"
      ]
     },
     "execution_count": 175,
     "metadata": {},
     "output_type": "execute_result"
    }
   ],
   "source": [
    "credit2 = data[data['credit'] == 2].occyp_type_new.value_counts() #/ sum(data[data['credit'] == 2].occyp_type_new.value_counts()) \n",
    "credit2"
   ]
  },
  {
   "cell_type": "markdown",
   "metadata": {},
   "source": [
    "##### 우선 육안으로 확인했을때는, 비율이 비슷비슷해 보인다"
   ]
  },
  {
   "cell_type": "code",
   "execution_count": 176,
   "metadata": {},
   "outputs": [
    {
     "data": {
      "text/html": [
       "<div>\n",
       "<style scoped>\n",
       "    .dataframe tbody tr th:only-of-type {\n",
       "        vertical-align: middle;\n",
       "    }\n",
       "\n",
       "    .dataframe tbody tr th {\n",
       "        vertical-align: top;\n",
       "    }\n",
       "\n",
       "    .dataframe thead th {\n",
       "        text-align: right;\n",
       "    }\n",
       "</style>\n",
       "<table border=\"1\" class=\"dataframe\">\n",
       "  <thead>\n",
       "    <tr style=\"text-align: right;\">\n",
       "      <th></th>\n",
       "      <th>etc.</th>\n",
       "      <th>Laborers</th>\n",
       "      <th>Core staff</th>\n",
       "      <th>Sales staff</th>\n",
       "      <th>Managers</th>\n",
       "      <th>Drivers</th>\n",
       "      <th>High skill tech staff</th>\n",
       "      <th>Accountants</th>\n",
       "      <th>Medicine staff</th>\n",
       "      <th>Cooking staff</th>\n",
       "    </tr>\n",
       "  </thead>\n",
       "  <tbody>\n",
       "    <tr>\n",
       "      <th>credit0</th>\n",
       "      <td>1147</td>\n",
       "      <td>586</td>\n",
       "      <td>347</td>\n",
       "      <td>293</td>\n",
       "      <td>280</td>\n",
       "      <td>187</td>\n",
       "      <td>123</td>\n",
       "      <td>118</td>\n",
       "      <td>83</td>\n",
       "      <td>58</td>\n",
       "    </tr>\n",
       "    <tr>\n",
       "      <th>credit1</th>\n",
       "      <td>2299</td>\n",
       "      <td>1082</td>\n",
       "      <td>622</td>\n",
       "      <td>650</td>\n",
       "      <td>458</td>\n",
       "      <td>358</td>\n",
       "      <td>270</td>\n",
       "      <td>227</td>\n",
       "      <td>191</td>\n",
       "      <td>110</td>\n",
       "    </tr>\n",
       "    <tr>\n",
       "      <th>credit2</th>\n",
       "      <td>6309</td>\n",
       "      <td>2844</td>\n",
       "      <td>1677</td>\n",
       "      <td>1596</td>\n",
       "      <td>1429</td>\n",
       "      <td>1030</td>\n",
       "      <td>647</td>\n",
       "      <td>557</td>\n",
       "      <td>590</td>\n",
       "      <td>289</td>\n",
       "    </tr>\n",
       "  </tbody>\n",
       "</table>\n",
       "</div>"
      ],
      "text/plain": [
       "         etc.  Laborers  Core staff  Sales staff  Managers  Drivers  \\\n",
       "credit0  1147       586         347          293       280      187   \n",
       "credit1  2299      1082         622          650       458      358   \n",
       "credit2  6309      2844        1677         1596      1429     1030   \n",
       "\n",
       "         High skill tech staff  Accountants  Medicine staff  Cooking staff  \n",
       "credit0                    123          118              83             58  \n",
       "credit1                    270          227             191            110  \n",
       "credit2                    647          557             590            289  "
      ]
     },
     "execution_count": 176,
     "metadata": {},
     "output_type": "execute_result"
    }
   ],
   "source": [
    "cross_tab1 = pd.concat([credit0, credit1, credit2], axis = 1)\n",
    "cross_tab1.columns = ['credit0', 'credit1', 'credit2']\n",
    "cross_tab1 = cross_tab1.transpose()\n",
    "cross_tab1"
   ]
  },
  {
   "cell_type": "code",
   "execution_count": 177,
   "metadata": {},
   "outputs": [
    {
     "name": "stdout",
     "output_type": "stream",
     "text": [
      "Chi squares(X) : 35.445610984781666\n",
      "p-value : 0.008303015870383776\n"
     ]
    }
   ],
   "source": [
    "from scipy.stats import chi2_contingency\n",
    "\n",
    "results = chi2_contingency(cross_tab1)\n",
    "print('Chi squares(X) : {}'.format(results[0]))\n",
    "print('p-value : {}'.format(results[1]))"
   ]
  },
  {
   "cell_type": "markdown",
   "metadata": {},
   "source": [
    "- 통계적 유의성으로만 따졌을때, 신용도와 직업은 독립이라고 말하기 어려움\n",
    "- 허나, 범주가 너무 많아서 실용적 유의성도 함께 보면 좋을것 같다고 생각"
   ]
  },
  {
   "cell_type": "code",
   "execution_count": 178,
   "metadata": {},
   "outputs": [
    {
     "data": {
      "image/png": "[encoded data removed]",
      "text/plain": [
       "<Figure size 576x432 with 1 Axes>"
      ]
     },
     "metadata": {},
     "output_type": "display_data"
    }
   ],
   "source": [
    "plt.figure(figsize = (8,6))\n",
    "\n",
    "\n",
    "textprops = dict(rotation=15,size=14, weight=3)\n",
    "\n",
    "##################### 신용도 = 0 ########################\n",
    "plt.pie(cross_tab1.iloc[0,:],\n",
    "        explode = (0,0,0,0,0,0,0,0,0,0), startangle = 90, \n",
    "        radius = 1, labels = cross_tab1.columns,\n",
    "        textprops = textprops)\n",
    "\n",
    "centre_circle = plt.Circle((0,0),0.75, fc='white', alpha = 0.1)\n",
    "fig = plt.gcf()\n",
    "fig.gca().add_artist(centre_circle)\n",
    "\n",
    "##################### 신용도 = 1 ########################\n",
    "plt.pie(cross_tab1.iloc[1,:],\n",
    "        explode = (0,0,0,0,0,0,0,0,0,0), startangle = 90, \n",
    "        radius = 0.75)\n",
    "\n",
    "centre_circle = plt.Circle((0,0),0.5, fc='white', alpha = 0.3)\n",
    "fig = plt.gcf()\n",
    "fig.gca().add_artist(centre_circle)\n",
    "\n",
    "##################### 신용도 = 2 ########################\n",
    "plt.pie(cross_tab1.iloc[2,:],\n",
    "        explode = (0,0,0,0,0,0,0,0,0,0), startangle = 90, \n",
    "        radius = 0.5)\n",
    "\n",
    "centre_circle = plt.Circle((0,0),0.25, fc='white')\n",
    "fig = plt.gcf()\n",
    "fig.gca().add_artist(centre_circle)\n",
    "\n",
    "plt.axis('equal')\n",
    "plt.tight_layout()\n",
    "plt.show()"
   ]
  },
  {
   "cell_type": "markdown",
   "metadata": {},
   "source": [
    "- 겉에서 부터 한 겹씩 신용도 0, 1, 2의 직업 비율을 나타낸 파이차트\n",
    "\n",
    "- **위의 파이차트를 보고도 직업과 신용도는 독립이아니라고 말할 수 있을까?**"
   ]
  },
  {
   "cell_type": "markdown",
   "metadata": {},
   "source": [
    "- 물론 직업과 연령, 직업과 거주지 등등 여러 교호작용항을 무시할 수 없겠으나, 우선은 제거 하는 방향으로 가는게 좋다고 생각"
   ]
  },
  {
   "cell_type": "markdown",
   "metadata": {},
   "source": [
    "### 3-0 데이터 변수들 정리\n",
    "- 1. 테스트용으로 만들었던 변수들은 제거하고\n",
    "- 2. DAYS_EMPLOYED, begin_month 등의 변수는 음수에서 양수로 바꿔주고"
   ]
  },
  {
   "cell_type": "code",
   "execution_count": 179,
   "metadata": {},
   "outputs": [],
   "source": [
    "data['DAYS_EMPLOYED'] = data['DAYS_EMPLOYED'] * -1\n",
    "data['begin_month'] = data['begin_month'] * -1"
   ]
  },
  {
   "cell_type": "code",
   "execution_count": 180,
   "metadata": {},
   "outputs": [],
   "source": [
    "data = data.drop(['occyp_type','DAYS_BIRTH'], axis = 1)"
   ]
  },
  {
   "cell_type": "markdown",
   "metadata": {},
   "source": [
    "- FLAG_MOBIL 변수는 모든데이터가 1 이므로 제거해도 좋음"
   ]
  },
  {
   "cell_type": "code",
   "execution_count": 181,
   "metadata": {},
   "outputs": [
    {
     "data": {
      "text/plain": [
       "1    26457\n",
       "Name: FLAG_MOBIL, dtype: int64"
      ]
     },
     "execution_count": 181,
     "metadata": {},
     "output_type": "execute_result"
    }
   ],
   "source": [
    "data.FLAG_MOBIL.value_counts()"
   ]
  },
  {
   "cell_type": "code",
   "execution_count": 182,
   "metadata": {},
   "outputs": [],
   "source": [
    "data = data.drop(['FLAG_MOBIL'], axis = 1)"
   ]
  },
  {
   "cell_type": "markdown",
   "metadata": {},
   "source": [
    "- DAYS_EMPLOYED 변수가 양수(고용 안됨) 그냥 -1로 처리"
   ]
  },
  {
   "cell_type": "code",
   "execution_count": 184,
   "metadata": {},
   "outputs": [],
   "source": [
    "data.loc[data['DAYS_EMPLOYED'] < 0,'DAYS_EMPLOYED'] = -1"
   ]
  },
  {
   "cell_type": "markdown",
   "metadata": {},
   "source": [
    "### 3. 각 변수별 분포를 확인"
   ]
  },
  {
   "cell_type": "code",
   "execution_count": 75,
   "metadata": {},
   "outputs": [
    {
     "name": "stdout",
     "output_type": "stream",
     "text": [
      "<class 'pandas.core.frame.DataFrame'>\n",
      "RangeIndex: 26457 entries, 0 to 26456\n",
      "Data columns (total 18 columns):\n",
      " #   Column          Non-Null Count  Dtype  \n",
      "---  ------          --------------  -----  \n",
      " 0   gender          26457 non-null  object \n",
      " 1   car             26457 non-null  object \n",
      " 2   reality         26457 non-null  object \n",
      " 3   child_num       26457 non-null  int64  \n",
      " 4   income_total    26457 non-null  float64\n",
      " 5   income_type     26457 non-null  object \n",
      " 6   edu_type        26457 non-null  object \n",
      " 7   family_type     26457 non-null  object \n",
      " 8   house_type      26457 non-null  object \n",
      " 9   DAYS_EMPLOYED   26457 non-null  int64  \n",
      " 10  work_phone      26457 non-null  int64  \n",
      " 11  phone           26457 non-null  int64  \n",
      " 12  email           26457 non-null  int64  \n",
      " 13  family_size     26457 non-null  float64\n",
      " 14  begin_month     26457 non-null  float64\n",
      " 15  credit          26457 non-null  float64\n",
      " 16  age             26457 non-null  int64  \n",
      " 17  occyp_type_new  26457 non-null  object \n",
      "dtypes: float64(4), int64(6), object(8)\n",
      "memory usage: 3.6+ MB\n"
     ]
    }
   ],
   "source": [
    "data.info()"
   ]
  },
  {
   "cell_type": "code",
   "execution_count": 36,
   "metadata": {},
   "outputs": [
    {
     "data": {
      "text/plain": [
       "21"
      ]
     },
     "execution_count": 36,
     "metadata": {},
     "output_type": "execute_result"
    }
   ],
   "source": [
    "data.shape[1]"
   ]
  },
  {
   "cell_type": "code",
   "execution_count": 56,
   "metadata": {},
   "outputs": [
    {
     "data": {
      "image/png": "[encoded data removed]",
      "text/plain": [
       "<Figure size 432x288 with 1 Axes>"
      ]
     },
     "metadata": {
      "needs_background": "light"
     },
     "output_type": "display_data"
    }
   ],
   "source": [
    "sns.countplot(data.iloc[:,0])\n",
    "plt.title(f'{data.iloc[:,0].name} 의 분포')\n",
    "plt.show()"
   ]
  },
  {
   "cell_type": "code",
   "execution_count": 62,
   "metadata": {},
   "outputs": [
    {
     "data": {
      "image/png": "[encoded data removed]",
      "text/plain": [
       "<Figure size 432x288 with 1 Axes>"
      ]
     },
     "metadata": {
      "needs_background": "light"
     },
     "output_type": "display_data"
    }
   ],
   "source": [
    "sns.distplot(data.iloc[:,3])\n",
    "plt.title(f'{data.iloc[:,3].name} 의 분포')\n",
    "plt.show()"
   ]
  },
  {
   "cell_type": "code",
   "execution_count": 120,
   "metadata": {},
   "outputs": [
    {
     "data": {
      "text/plain": [
       "True"
      ]
     },
     "execution_count": 120,
     "metadata": {},
     "output_type": "execute_result"
    }
   ],
   "source": [
    "str(data.iloc[:,11][0]).isdigit()"
   ]
  },
  {
   "cell_type": "code",
   "execution_count": 138,
   "metadata": {},
   "outputs": [
    {
     "data": {
      "image/png": "[encoded data removed]",
      "text/plain": [
       "<Figure size 1440x864 with 18 Axes>"
      ]
     },
     "metadata": {
      "needs_background": "light"
     },
     "output_type": "display_data"
    }
   ],
   "source": [
    "plt.figure(figsize = (20,12))\n",
    "\n",
    "for i in range(data.shape[1]):\n",
    "    tmp = data.iloc[:,i]\n",
    "    if type(tmp[0]) == str or i in [10,11,12,15]:\n",
    "        plt.subplot(3,6,i+1)\n",
    "        sns.countplot(data.iloc[:,i])\n",
    "        plt.title(f'{data.iloc[:,i].name} 의 분포')\n",
    "        if not str(tmp[0]).isdigit():\n",
    "            plt.xticks(rotation = 20)\n",
    "        plt.tight_layout()\n",
    "    else:\n",
    "        plt.subplot(3,6,i+1)\n",
    "        sns.distplot(data.iloc[:,i])\n",
    "        plt.title(f'{data.iloc[:,i].name} 의 분포')\n",
    "        plt.tight_layout()\n",
    "plt.tight_layout()\n",
    "plt.show()"
   ]
  },
  {
   "cell_type": "markdown",
   "metadata": {},
   "source": [
    "#### 분포를 봐서 특이한 변수들 찾아내기"
   ]
  },
  {
   "cell_type": "markdown",
   "metadata": {},
   "source": [
    "- 1. child_num\n",
    "    - 오른쪽 끝에 극단값들이 몇몇 있는거 같다\n",
    "    - family_size도 마찬가지"
   ]
  },
  {
   "cell_type": "code",
   "execution_count": 134,
   "metadata": {},
   "outputs": [
    {
     "data": {
      "text/plain": [
       "Text(0.5, 1.0, 'income_total 의 분포')"
      ]
     },
     "execution_count": 134,
     "metadata": {},
     "output_type": "execute_result"
    },
    {
     "data": {
      "image/png": "[encoded data removed]",
      "text/plain": [
       "<Figure size 432x288 with 1 Axes>"
      ]
     },
     "metadata": {
      "needs_background": "light"
     },
     "output_type": "display_data"
    }
   ],
   "source": [
    "sns.distplot(np.log(data.iloc[:,4]))\n",
    "plt.title(f'{data.iloc[:,4].name} 의 분포')"
   ]
  },
  {
   "cell_type": "code",
   "execution_count": 185,
   "metadata": {},
   "outputs": [
    {
     "data": {
      "text/html": [
       "<div>\n",
       "<style scoped>\n",
       "    .dataframe tbody tr th:only-of-type {\n",
       "        vertical-align: middle;\n",
       "    }\n",
       "\n",
       "    .dataframe tbody tr th {\n",
       "        vertical-align: top;\n",
       "    }\n",
       "\n",
       "    .dataframe thead th {\n",
       "        text-align: right;\n",
       "    }\n",
       "</style>\n",
       "<table border=\"1\" class=\"dataframe\">\n",
       "  <thead>\n",
       "    <tr style=\"text-align: right;\">\n",
       "      <th></th>\n",
       "      <th>gender</th>\n",
       "      <th>car</th>\n",
       "      <th>reality</th>\n",
       "      <th>child_num</th>\n",
       "      <th>income_total</th>\n",
       "      <th>income_type</th>\n",
       "      <th>edu_type</th>\n",
       "      <th>family_type</th>\n",
       "      <th>house_type</th>\n",
       "      <th>DAYS_EMPLOYED</th>\n",
       "      <th>work_phone</th>\n",
       "      <th>phone</th>\n",
       "      <th>email</th>\n",
       "      <th>family_size</th>\n",
       "      <th>begin_month</th>\n",
       "      <th>credit</th>\n",
       "      <th>age</th>\n",
       "      <th>occyp_type_new</th>\n",
       "    </tr>\n",
       "  </thead>\n",
       "  <tbody>\n",
       "    <tr>\n",
       "      <th>10731</th>\n",
       "      <td>F</td>\n",
       "      <td>N</td>\n",
       "      <td>Y</td>\n",
       "      <td>19</td>\n",
       "      <td>112500.0</td>\n",
       "      <td>Working</td>\n",
       "      <td>Secondary / secondary special</td>\n",
       "      <td>Single / not married</td>\n",
       "      <td>House / apartment</td>\n",
       "      <td>1853</td>\n",
       "      <td>1</td>\n",
       "      <td>1</td>\n",
       "      <td>0</td>\n",
       "      <td>20.0</td>\n",
       "      <td>5.0</td>\n",
       "      <td>2.0</td>\n",
       "      <td>30</td>\n",
       "      <td>etc.</td>\n",
       "    </tr>\n",
       "  </tbody>\n",
       "</table>\n",
       "</div>"
      ],
      "text/plain": [
       "      gender car reality  child_num  income_total income_type  \\\n",
       "10731      F   N       Y         19      112500.0     Working   \n",
       "\n",
       "                            edu_type           family_type         house_type  \\\n",
       "10731  Secondary / secondary special  Single / not married  House / apartment   \n",
       "\n",
       "       DAYS_EMPLOYED  work_phone  phone  email  family_size  begin_month  \\\n",
       "10731           1853           1      1      0         20.0          5.0   \n",
       "\n",
       "       credit  age occyp_type_new  \n",
       "10731     2.0   30           etc.  "
      ]
     },
     "execution_count": 185,
     "metadata": {},
     "output_type": "execute_result"
    }
   ],
   "source": [
    "data[data.child_num == 19]"
   ]
  },
  {
   "cell_type": "markdown",
   "metadata": {},
   "source": [
    "* 실제로 있는 데이터라고 간주는 해야하나? vs 이상치라고 판단하고 제거해야하나?"
   ]
  },
  {
   "cell_type": "markdown",
   "metadata": {},
   "source": [
    "- 2. DAYS_EMPLOYED\n",
    "    - 분명 음수를 양수로 바꿔주는 작업을 했는데, 여전히 음수인 데이터들이 있다.(처음부터 양수였던 것들)\n",
    "    - 데이터 설명에는 고용되지 않은 상태라고 했음\n",
    "    - 새로운 변수를 만들어야 하나?"
   ]
  },
  {
   "cell_type": "code",
   "execution_count": 186,
   "metadata": {},
   "outputs": [
    {
     "data": {
      "text/plain": [
       "-1"
      ]
     },
     "execution_count": 186,
     "metadata": {},
     "output_type": "execute_result"
    }
   ],
   "source": [
    "min(data.DAYS_EMPLOYED)"
   ]
  },
  {
   "cell_type": "code",
   "execution_count": 187,
   "metadata": {
    "scrolled": false
   },
   "outputs": [
    {
     "data": {
      "text/html": [
       "<div>\n",
       "<style scoped>\n",
       "    .dataframe tbody tr th:only-of-type {\n",
       "        vertical-align: middle;\n",
       "    }\n",
       "\n",
       "    .dataframe tbody tr th {\n",
       "        vertical-align: top;\n",
       "    }\n",
       "\n",
       "    .dataframe thead th {\n",
       "        text-align: right;\n",
       "    }\n",
       "</style>\n",
       "<table border=\"1\" class=\"dataframe\">\n",
       "  <thead>\n",
       "    <tr style=\"text-align: right;\">\n",
       "      <th></th>\n",
       "      <th>gender</th>\n",
       "      <th>car</th>\n",
       "      <th>reality</th>\n",
       "      <th>child_num</th>\n",
       "      <th>income_total</th>\n",
       "      <th>income_type</th>\n",
       "      <th>edu_type</th>\n",
       "      <th>family_type</th>\n",
       "      <th>house_type</th>\n",
       "      <th>DAYS_EMPLOYED</th>\n",
       "      <th>work_phone</th>\n",
       "      <th>phone</th>\n",
       "      <th>email</th>\n",
       "      <th>family_size</th>\n",
       "      <th>begin_month</th>\n",
       "      <th>credit</th>\n",
       "      <th>age</th>\n",
       "      <th>occyp_type_new</th>\n",
       "    </tr>\n",
       "  </thead>\n",
       "  <tbody>\n",
       "    <tr>\n",
       "      <th>14</th>\n",
       "      <td>F</td>\n",
       "      <td>N</td>\n",
       "      <td>Y</td>\n",
       "      <td>0</td>\n",
       "      <td>157500.0</td>\n",
       "      <td>Pensioner</td>\n",
       "      <td>Secondary / secondary special</td>\n",
       "      <td>Single / not married</td>\n",
       "      <td>House / apartment</td>\n",
       "      <td>-1</td>\n",
       "      <td>0</td>\n",
       "      <td>1</td>\n",
       "      <td>0</td>\n",
       "      <td>1.0</td>\n",
       "      <td>41.0</td>\n",
       "      <td>2.0</td>\n",
       "      <td>62</td>\n",
       "      <td>etc.</td>\n",
       "    </tr>\n",
       "    <tr>\n",
       "      <th>18</th>\n",
       "      <td>F</td>\n",
       "      <td>N</td>\n",
       "      <td>Y</td>\n",
       "      <td>0</td>\n",
       "      <td>216000.0</td>\n",
       "      <td>Pensioner</td>\n",
       "      <td>Secondary / secondary special</td>\n",
       "      <td>Married</td>\n",
       "      <td>House / apartment</td>\n",
       "      <td>-1</td>\n",
       "      <td>0</td>\n",
       "      <td>0</td>\n",
       "      <td>0</td>\n",
       "      <td>2.0</td>\n",
       "      <td>37.0</td>\n",
       "      <td>2.0</td>\n",
       "      <td>63</td>\n",
       "      <td>etc.</td>\n",
       "    </tr>\n",
       "    <tr>\n",
       "      <th>21</th>\n",
       "      <td>F</td>\n",
       "      <td>N</td>\n",
       "      <td>N</td>\n",
       "      <td>0</td>\n",
       "      <td>157500.0</td>\n",
       "      <td>Pensioner</td>\n",
       "      <td>Secondary / secondary special</td>\n",
       "      <td>Married</td>\n",
       "      <td>House / apartment</td>\n",
       "      <td>-1</td>\n",
       "      <td>0</td>\n",
       "      <td>1</td>\n",
       "      <td>0</td>\n",
       "      <td>2.0</td>\n",
       "      <td>7.0</td>\n",
       "      <td>2.0</td>\n",
       "      <td>58</td>\n",
       "      <td>etc.</td>\n",
       "    </tr>\n",
       "    <tr>\n",
       "      <th>24</th>\n",
       "      <td>F</td>\n",
       "      <td>N</td>\n",
       "      <td>N</td>\n",
       "      <td>0</td>\n",
       "      <td>202500.0</td>\n",
       "      <td>Pensioner</td>\n",
       "      <td>Secondary / secondary special</td>\n",
       "      <td>Single / not married</td>\n",
       "      <td>House / apartment</td>\n",
       "      <td>-1</td>\n",
       "      <td>0</td>\n",
       "      <td>1</td>\n",
       "      <td>0</td>\n",
       "      <td>1.0</td>\n",
       "      <td>5.0</td>\n",
       "      <td>2.0</td>\n",
       "      <td>61</td>\n",
       "      <td>etc.</td>\n",
       "    </tr>\n",
       "    <tr>\n",
       "      <th>46</th>\n",
       "      <td>F</td>\n",
       "      <td>N</td>\n",
       "      <td>N</td>\n",
       "      <td>0</td>\n",
       "      <td>135000.0</td>\n",
       "      <td>Pensioner</td>\n",
       "      <td>Secondary / secondary special</td>\n",
       "      <td>Widow</td>\n",
       "      <td>House / apartment</td>\n",
       "      <td>-1</td>\n",
       "      <td>0</td>\n",
       "      <td>1</td>\n",
       "      <td>0</td>\n",
       "      <td>1.0</td>\n",
       "      <td>24.0</td>\n",
       "      <td>2.0</td>\n",
       "      <td>57</td>\n",
       "      <td>etc.</td>\n",
       "    </tr>\n",
       "    <tr>\n",
       "      <th>...</th>\n",
       "      <td>...</td>\n",
       "      <td>...</td>\n",
       "      <td>...</td>\n",
       "      <td>...</td>\n",
       "      <td>...</td>\n",
       "      <td>...</td>\n",
       "      <td>...</td>\n",
       "      <td>...</td>\n",
       "      <td>...</td>\n",
       "      <td>...</td>\n",
       "      <td>...</td>\n",
       "      <td>...</td>\n",
       "      <td>...</td>\n",
       "      <td>...</td>\n",
       "      <td>...</td>\n",
       "      <td>...</td>\n",
       "      <td>...</td>\n",
       "      <td>...</td>\n",
       "    </tr>\n",
       "    <tr>\n",
       "      <th>26431</th>\n",
       "      <td>F</td>\n",
       "      <td>N</td>\n",
       "      <td>Y</td>\n",
       "      <td>0</td>\n",
       "      <td>225000.0</td>\n",
       "      <td>Pensioner</td>\n",
       "      <td>Secondary / secondary special</td>\n",
       "      <td>Widow</td>\n",
       "      <td>House / apartment</td>\n",
       "      <td>-1</td>\n",
       "      <td>0</td>\n",
       "      <td>0</td>\n",
       "      <td>1</td>\n",
       "      <td>1.0</td>\n",
       "      <td>60.0</td>\n",
       "      <td>1.0</td>\n",
       "      <td>57</td>\n",
       "      <td>etc.</td>\n",
       "    </tr>\n",
       "    <tr>\n",
       "      <th>26432</th>\n",
       "      <td>F</td>\n",
       "      <td>Y</td>\n",
       "      <td>Y</td>\n",
       "      <td>0</td>\n",
       "      <td>72000.0</td>\n",
       "      <td>Pensioner</td>\n",
       "      <td>Secondary / secondary special</td>\n",
       "      <td>Married</td>\n",
       "      <td>House / apartment</td>\n",
       "      <td>-1</td>\n",
       "      <td>0</td>\n",
       "      <td>1</td>\n",
       "      <td>0</td>\n",
       "      <td>2.0</td>\n",
       "      <td>17.0</td>\n",
       "      <td>1.0</td>\n",
       "      <td>61</td>\n",
       "      <td>etc.</td>\n",
       "    </tr>\n",
       "    <tr>\n",
       "      <th>26439</th>\n",
       "      <td>F</td>\n",
       "      <td>N</td>\n",
       "      <td>Y</td>\n",
       "      <td>0</td>\n",
       "      <td>67500.0</td>\n",
       "      <td>Pensioner</td>\n",
       "      <td>Secondary / secondary special</td>\n",
       "      <td>Married</td>\n",
       "      <td>House / apartment</td>\n",
       "      <td>-1</td>\n",
       "      <td>0</td>\n",
       "      <td>0</td>\n",
       "      <td>0</td>\n",
       "      <td>2.0</td>\n",
       "      <td>57.0</td>\n",
       "      <td>2.0</td>\n",
       "      <td>52</td>\n",
       "      <td>etc.</td>\n",
       "    </tr>\n",
       "    <tr>\n",
       "      <th>26441</th>\n",
       "      <td>F</td>\n",
       "      <td>N</td>\n",
       "      <td>Y</td>\n",
       "      <td>0</td>\n",
       "      <td>90000.0</td>\n",
       "      <td>Pensioner</td>\n",
       "      <td>Incomplete higher</td>\n",
       "      <td>Separated</td>\n",
       "      <td>House / apartment</td>\n",
       "      <td>-1</td>\n",
       "      <td>0</td>\n",
       "      <td>0</td>\n",
       "      <td>0</td>\n",
       "      <td>1.0</td>\n",
       "      <td>43.0</td>\n",
       "      <td>2.0</td>\n",
       "      <td>66</td>\n",
       "      <td>etc.</td>\n",
       "    </tr>\n",
       "    <tr>\n",
       "      <th>26443</th>\n",
       "      <td>F</td>\n",
       "      <td>N</td>\n",
       "      <td>Y</td>\n",
       "      <td>0</td>\n",
       "      <td>90000.0</td>\n",
       "      <td>Pensioner</td>\n",
       "      <td>Secondary / secondary special</td>\n",
       "      <td>Single / not married</td>\n",
       "      <td>House / apartment</td>\n",
       "      <td>-1</td>\n",
       "      <td>0</td>\n",
       "      <td>0</td>\n",
       "      <td>0</td>\n",
       "      <td>1.0</td>\n",
       "      <td>21.0</td>\n",
       "      <td>1.0</td>\n",
       "      <td>61</td>\n",
       "      <td>etc.</td>\n",
       "    </tr>\n",
       "  </tbody>\n",
       "</table>\n",
       "<p>4438 rows × 18 columns</p>\n",
       "</div>"
      ],
      "text/plain": [
       "      gender car reality  child_num  income_total income_type  \\\n",
       "14         F   N       Y          0      157500.0   Pensioner   \n",
       "18         F   N       Y          0      216000.0   Pensioner   \n",
       "21         F   N       N          0      157500.0   Pensioner   \n",
       "24         F   N       N          0      202500.0   Pensioner   \n",
       "46         F   N       N          0      135000.0   Pensioner   \n",
       "...      ...  ..     ...        ...           ...         ...   \n",
       "26431      F   N       Y          0      225000.0   Pensioner   \n",
       "26432      F   Y       Y          0       72000.0   Pensioner   \n",
       "26439      F   N       Y          0       67500.0   Pensioner   \n",
       "26441      F   N       Y          0       90000.0   Pensioner   \n",
       "26443      F   N       Y          0       90000.0   Pensioner   \n",
       "\n",
       "                            edu_type           family_type         house_type  \\\n",
       "14     Secondary / secondary special  Single / not married  House / apartment   \n",
       "18     Secondary / secondary special               Married  House / apartment   \n",
       "21     Secondary / secondary special               Married  House / apartment   \n",
       "24     Secondary / secondary special  Single / not married  House / apartment   \n",
       "46     Secondary / secondary special                 Widow  House / apartment   \n",
       "...                              ...                   ...                ...   \n",
       "26431  Secondary / secondary special                 Widow  House / apartment   \n",
       "26432  Secondary / secondary special               Married  House / apartment   \n",
       "26439  Secondary / secondary special               Married  House / apartment   \n",
       "26441              Incomplete higher             Separated  House / apartment   \n",
       "26443  Secondary / secondary special  Single / not married  House / apartment   \n",
       "\n",
       "       DAYS_EMPLOYED  work_phone  phone  email  family_size  begin_month  \\\n",
       "14                -1           0      1      0          1.0         41.0   \n",
       "18                -1           0      0      0          2.0         37.0   \n",
       "21                -1           0      1      0          2.0          7.0   \n",
       "24                -1           0      1      0          1.0          5.0   \n",
       "46                -1           0      1      0          1.0         24.0   \n",
       "...              ...         ...    ...    ...          ...          ...   \n",
       "26431             -1           0      0      1          1.0         60.0   \n",
       "26432             -1           0      1      0          2.0         17.0   \n",
       "26439             -1           0      0      0          2.0         57.0   \n",
       "26441             -1           0      0      0          1.0         43.0   \n",
       "26443             -1           0      0      0          1.0         21.0   \n",
       "\n",
       "       credit  age occyp_type_new  \n",
       "14        2.0   62           etc.  \n",
       "18        2.0   63           etc.  \n",
       "21        2.0   58           etc.  \n",
       "24        2.0   61           etc.  \n",
       "46        2.0   57           etc.  \n",
       "...       ...  ...            ...  \n",
       "26431     1.0   57           etc.  \n",
       "26432     1.0   61           etc.  \n",
       "26439     2.0   52           etc.  \n",
       "26441     2.0   66           etc.  \n",
       "26443     1.0   61           etc.  \n",
       "\n",
       "[4438 rows x 18 columns]"
      ]
     },
     "execution_count": 187,
     "metadata": {},
     "output_type": "execute_result"
    }
   ],
   "source": [
    "data[data.DAYS_EMPLOYED < 0]"
   ]
  },
  {
   "cell_type": "code",
   "execution_count": 96,
   "metadata": {},
   "outputs": [
    {
     "data": {
      "text/plain": [
       "-365243    4438\n",
       "Name: DAYS_EMPLOYED, dtype: int64"
      ]
     },
     "execution_count": 96,
     "metadata": {},
     "output_type": "execute_result"
    }
   ],
   "source": [
    "data[data.DAYS_EMPLOYED < 0].DAYS_EMPLOYED.value_counts()"
   ]
  },
  {
   "cell_type": "markdown",
   "metadata": {},
   "source": [
    "- 각기 다른 사람이 (같은 사람의 데이터도 있지만) 모두 -365243이라는 값을 가짐"
   ]
  },
  {
   "cell_type": "code",
   "execution_count": 188,
   "metadata": {},
   "outputs": [
    {
     "data": {
      "text/plain": [
       "2.0    2818\n",
       "1.0    1084\n",
       "0.0     536\n",
       "Name: credit, dtype: int64"
      ]
     },
     "execution_count": 188,
     "metadata": {},
     "output_type": "execute_result"
    }
   ],
   "source": [
    "# 고용되지 않은 사람\n",
    "data[data.DAYS_EMPLOYED < 0].credit.value_counts()"
   ]
  },
  {
   "cell_type": "code",
   "execution_count": 189,
   "metadata": {},
   "outputs": [
    {
     "data": {
      "text/plain": [
       "2.0    14150\n",
       "1.0     5183\n",
       "0.0     2686\n",
       "Name: credit, dtype: int64"
      ]
     },
     "execution_count": 189,
     "metadata": {},
     "output_type": "execute_result"
    }
   ],
   "source": [
    "# 고용된 사람\n",
    "data[data.DAYS_EMPLOYED > 0].credit.value_counts()"
   ]
  },
  {
   "cell_type": "markdown",
   "metadata": {},
   "source": [
    "- 1 : 2 : 6 의 비율"
   ]
  },
  {
   "cell_type": "markdown",
   "metadata": {},
   "source": [
    "#### 성별간 신용도 차이가 있나 고려\n",
    "- 카이제곱 검정 할까 말까 고민중"
   ]
  },
  {
   "cell_type": "code",
   "execution_count": 16,
   "metadata": {},
   "outputs": [
    {
     "data": {
      "text/plain": [
       "F    17697\n",
       "M     8760\n",
       "Name: gender, dtype: int64"
      ]
     },
     "execution_count": 16,
     "metadata": {},
     "output_type": "execute_result"
    }
   ],
   "source": [
    "data.gender.value_counts()"
   ]
  },
  {
   "cell_type": "code",
   "execution_count": 17,
   "metadata": {},
   "outputs": [
    {
     "data": {
      "text/plain": [
       "2.0    11329\n",
       "1.0     4220\n",
       "0.0     2148\n",
       "Name: credit, dtype: int64"
      ]
     },
     "execution_count": 17,
     "metadata": {},
     "output_type": "execute_result"
    }
   ],
   "source": [
    "data[data['gender'] == 'F'].credit.value_counts()"
   ]
  },
  {
   "cell_type": "code",
   "execution_count": 18,
   "metadata": {},
   "outputs": [
    {
     "data": {
      "text/plain": [
       "2.0    5639\n",
       "1.0    2047\n",
       "0.0    1074\n",
       "Name: credit, dtype: int64"
      ]
     },
     "execution_count": 18,
     "metadata": {},
     "output_type": "execute_result"
    }
   ],
   "source": [
    "data[data['gender'] == 'M'].credit.value_counts()"
   ]
  },
  {
   "cell_type": "code",
   "execution_count": 131,
   "metadata": {},
   "outputs": [
    {
     "data": {
      "text/plain": [
       "2.0    15365\n",
       "1.0     5724\n",
       "0.0     2953\n",
       "Name: credit, dtype: int64"
      ]
     },
     "execution_count": 131,
     "metadata": {},
     "output_type": "execute_result"
    }
   ],
   "source": [
    "data[data['email'] == 0].credit.value_counts()"
   ]
  },
  {
   "cell_type": "code",
   "execution_count": 132,
   "metadata": {},
   "outputs": [
    {
     "data": {
      "text/plain": [
       "2.0    1603\n",
       "1.0     543\n",
       "0.0     269\n",
       "Name: credit, dtype: int64"
      ]
     },
     "execution_count": 132,
     "metadata": {},
     "output_type": "execute_result"
    }
   ],
   "source": [
    "data[data['email'] == 1].credit.value_counts()"
   ]
  },
  {
   "cell_type": "markdown",
   "metadata": {},
   "source": [
    "### 연속형(이산) 변수 변경 ###\n",
    "1. child_num - 0,1,2,3+ 의 범주형 변수로 바꾸기 (순서형)\n",
    "2. family_num - drop\n",
    "3. income_total - log변환\n",
    "4. DAYS_EMPLOYED - 년차로 변환 (무직 : 0, 1년 미만 : 1) + 년,월,주 등으로 변환하여 한번에\n",
    "5. begin_month - 년,월,주 등으로 변환하여 한번에\n",
    "6. age - 20대 : 2, 30대 : 3 의식으로 변환"
   ]
  },
  {
   "cell_type": "code",
   "execution_count": 190,
   "metadata": {},
   "outputs": [
    {
     "data": {
      "text/html": [
       "<div>\n",
       "<style scoped>\n",
       "    .dataframe tbody tr th:only-of-type {\n",
       "        vertical-align: middle;\n",
       "    }\n",
       "\n",
       "    .dataframe tbody tr th {\n",
       "        vertical-align: top;\n",
       "    }\n",
       "\n",
       "    .dataframe thead th {\n",
       "        text-align: right;\n",
       "    }\n",
       "</style>\n",
       "<table border=\"1\" class=\"dataframe\">\n",
       "  <thead>\n",
       "    <tr style=\"text-align: right;\">\n",
       "      <th></th>\n",
       "      <th>gender</th>\n",
       "      <th>car</th>\n",
       "      <th>reality</th>\n",
       "      <th>child_num</th>\n",
       "      <th>income_total</th>\n",
       "      <th>income_type</th>\n",
       "      <th>edu_type</th>\n",
       "      <th>family_type</th>\n",
       "      <th>house_type</th>\n",
       "      <th>DAYS_EMPLOYED</th>\n",
       "      <th>work_phone</th>\n",
       "      <th>phone</th>\n",
       "      <th>email</th>\n",
       "      <th>family_size</th>\n",
       "      <th>begin_month</th>\n",
       "      <th>credit</th>\n",
       "      <th>age</th>\n",
       "      <th>occyp_type_new</th>\n",
       "    </tr>\n",
       "  </thead>\n",
       "  <tbody>\n",
       "    <tr>\n",
       "      <th>0</th>\n",
       "      <td>F</td>\n",
       "      <td>N</td>\n",
       "      <td>N</td>\n",
       "      <td>0</td>\n",
       "      <td>202500.0</td>\n",
       "      <td>Commercial associate</td>\n",
       "      <td>Higher education</td>\n",
       "      <td>Married</td>\n",
       "      <td>Municipal apartment</td>\n",
       "      <td>4709</td>\n",
       "      <td>0</td>\n",
       "      <td>0</td>\n",
       "      <td>0</td>\n",
       "      <td>2.0</td>\n",
       "      <td>6.0</td>\n",
       "      <td>1.0</td>\n",
       "      <td>38</td>\n",
       "      <td>etc.</td>\n",
       "    </tr>\n",
       "    <tr>\n",
       "      <th>1</th>\n",
       "      <td>F</td>\n",
       "      <td>N</td>\n",
       "      <td>Y</td>\n",
       "      <td>1</td>\n",
       "      <td>247500.0</td>\n",
       "      <td>Commercial associate</td>\n",
       "      <td>Secondary / secondary special</td>\n",
       "      <td>Civil marriage</td>\n",
       "      <td>House / apartment</td>\n",
       "      <td>1540</td>\n",
       "      <td>0</td>\n",
       "      <td>0</td>\n",
       "      <td>1</td>\n",
       "      <td>3.0</td>\n",
       "      <td>5.0</td>\n",
       "      <td>1.0</td>\n",
       "      <td>31</td>\n",
       "      <td>Laborers</td>\n",
       "    </tr>\n",
       "    <tr>\n",
       "      <th>2</th>\n",
       "      <td>M</td>\n",
       "      <td>Y</td>\n",
       "      <td>Y</td>\n",
       "      <td>0</td>\n",
       "      <td>450000.0</td>\n",
       "      <td>Working</td>\n",
       "      <td>Higher education</td>\n",
       "      <td>Married</td>\n",
       "      <td>House / apartment</td>\n",
       "      <td>4434</td>\n",
       "      <td>0</td>\n",
       "      <td>1</td>\n",
       "      <td>0</td>\n",
       "      <td>2.0</td>\n",
       "      <td>22.0</td>\n",
       "      <td>2.0</td>\n",
       "      <td>52</td>\n",
       "      <td>Managers</td>\n",
       "    </tr>\n",
       "    <tr>\n",
       "      <th>3</th>\n",
       "      <td>F</td>\n",
       "      <td>N</td>\n",
       "      <td>Y</td>\n",
       "      <td>0</td>\n",
       "      <td>202500.0</td>\n",
       "      <td>Commercial associate</td>\n",
       "      <td>Secondary / secondary special</td>\n",
       "      <td>Married</td>\n",
       "      <td>House / apartment</td>\n",
       "      <td>2092</td>\n",
       "      <td>0</td>\n",
       "      <td>1</td>\n",
       "      <td>0</td>\n",
       "      <td>2.0</td>\n",
       "      <td>37.0</td>\n",
       "      <td>0.0</td>\n",
       "      <td>41</td>\n",
       "      <td>Sales staff</td>\n",
       "    </tr>\n",
       "    <tr>\n",
       "      <th>4</th>\n",
       "      <td>F</td>\n",
       "      <td>Y</td>\n",
       "      <td>Y</td>\n",
       "      <td>0</td>\n",
       "      <td>157500.0</td>\n",
       "      <td>State servant</td>\n",
       "      <td>Higher education</td>\n",
       "      <td>Married</td>\n",
       "      <td>House / apartment</td>\n",
       "      <td>2105</td>\n",
       "      <td>0</td>\n",
       "      <td>0</td>\n",
       "      <td>0</td>\n",
       "      <td>2.0</td>\n",
       "      <td>26.0</td>\n",
       "      <td>2.0</td>\n",
       "      <td>41</td>\n",
       "      <td>Managers</td>\n",
       "    </tr>\n",
       "  </tbody>\n",
       "</table>\n",
       "</div>"
      ],
      "text/plain": [
       "  gender car reality  child_num  income_total           income_type  \\\n",
       "0      F   N       N          0      202500.0  Commercial associate   \n",
       "1      F   N       Y          1      247500.0  Commercial associate   \n",
       "2      M   Y       Y          0      450000.0               Working   \n",
       "3      F   N       Y          0      202500.0  Commercial associate   \n",
       "4      F   Y       Y          0      157500.0         State servant   \n",
       "\n",
       "                        edu_type     family_type           house_type  \\\n",
       "0               Higher education         Married  Municipal apartment   \n",
       "1  Secondary / secondary special  Civil marriage    House / apartment   \n",
       "2               Higher education         Married    House / apartment   \n",
       "3  Secondary / secondary special         Married    House / apartment   \n",
       "4               Higher education         Married    House / apartment   \n",
       "\n",
       "   DAYS_EMPLOYED  work_phone  phone  email  family_size  begin_month  credit  \\\n",
       "0           4709           0      0      0          2.0          6.0     1.0   \n",
       "1           1540           0      0      1          3.0          5.0     1.0   \n",
       "2           4434           0      1      0          2.0         22.0     2.0   \n",
       "3           2092           0      1      0          2.0         37.0     0.0   \n",
       "4           2105           0      0      0          2.0         26.0     2.0   \n",
       "\n",
       "   age occyp_type_new  \n",
       "0   38           etc.  \n",
       "1   31       Laborers  \n",
       "2   52       Managers  \n",
       "3   41    Sales staff  \n",
       "4   41       Managers  "
      ]
     },
     "execution_count": 190,
     "metadata": {},
     "output_type": "execute_result"
    }
   ],
   "source": [
    "data.head()"
   ]
  },
  {
   "cell_type": "code",
   "execution_count": 191,
   "metadata": {},
   "outputs": [
    {
     "data": {
      "text/html": [
       "<div>\n",
       "<style scoped>\n",
       "    .dataframe tbody tr th:only-of-type {\n",
       "        vertical-align: middle;\n",
       "    }\n",
       "\n",
       "    .dataframe tbody tr th {\n",
       "        vertical-align: top;\n",
       "    }\n",
       "\n",
       "    .dataframe thead th {\n",
       "        text-align: right;\n",
       "    }\n",
       "</style>\n",
       "<table border=\"1\" class=\"dataframe\">\n",
       "  <thead>\n",
       "    <tr style=\"text-align: right;\">\n",
       "      <th></th>\n",
       "      <th>gender</th>\n",
       "      <th>age</th>\n",
       "      <th>car</th>\n",
       "      <th>reality</th>\n",
       "      <th>child_num</th>\n",
       "      <th>income_total</th>\n",
       "      <th>income_type</th>\n",
       "      <th>edu_type</th>\n",
       "      <th>family_type</th>\n",
       "      <th>house_type</th>\n",
       "      <th>DAYS_EMPLOYED</th>\n",
       "      <th>work_phone</th>\n",
       "      <th>phone</th>\n",
       "      <th>email</th>\n",
       "      <th>occyp_type_new</th>\n",
       "      <th>family_size</th>\n",
       "      <th>begin_month</th>\n",
       "      <th>credit</th>\n",
       "    </tr>\n",
       "  </thead>\n",
       "  <tbody>\n",
       "    <tr>\n",
       "      <th>0</th>\n",
       "      <td>F</td>\n",
       "      <td>38</td>\n",
       "      <td>N</td>\n",
       "      <td>N</td>\n",
       "      <td>0</td>\n",
       "      <td>202500.0</td>\n",
       "      <td>Commercial associate</td>\n",
       "      <td>Higher education</td>\n",
       "      <td>Married</td>\n",
       "      <td>Municipal apartment</td>\n",
       "      <td>4709</td>\n",
       "      <td>0</td>\n",
       "      <td>0</td>\n",
       "      <td>0</td>\n",
       "      <td>etc.</td>\n",
       "      <td>2.0</td>\n",
       "      <td>6.0</td>\n",
       "      <td>1.0</td>\n",
       "    </tr>\n",
       "  </tbody>\n",
       "</table>\n",
       "</div>"
      ],
      "text/plain": [
       "  gender  age car reality  child_num  income_total           income_type  \\\n",
       "0      F   38   N       N          0      202500.0  Commercial associate   \n",
       "\n",
       "           edu_type family_type           house_type  DAYS_EMPLOYED  \\\n",
       "0  Higher education     Married  Municipal apartment           4709   \n",
       "\n",
       "   work_phone  phone  email occyp_type_new  family_size  begin_month  credit  \n",
       "0           0      0      0           etc.          2.0          6.0     1.0  "
      ]
     },
     "execution_count": 191,
     "metadata": {},
     "output_type": "execute_result"
    }
   ],
   "source": [
    "data = data[['gender', 'age','car', 'reality', 'child_num', 'income_total', 'income_type',\n",
    "               'edu_type', 'family_type', 'house_type', 'DAYS_EMPLOYED', 'work_phone',\n",
    "               'phone', 'email','occyp_type_new', 'family_size', 'begin_month', 'credit'\n",
    "               ]]\n",
    "data.head(1)"
   ]
  },
  {
   "cell_type": "code",
   "execution_count": 192,
   "metadata": {},
   "outputs": [
    {
     "data": {
      "text/plain": [
       "0     18340\n",
       "1      5386\n",
       "2      2362\n",
       "3+      369\n",
       "Name: child_num, dtype: int64"
      ]
     },
     "execution_count": 192,
     "metadata": {},
     "output_type": "execute_result"
    }
   ],
   "source": [
    "# 1. child_num - 0,1,2,3+ 의 범주형 변수로 바꾸기 (순서형)\n",
    "data.loc[data['child_num'] >= 3,'child_num'] = '3+'\n",
    "data.child_num.value_counts()"
   ]
  },
  {
   "cell_type": "code",
   "execution_count": 145,
   "metadata": {},
   "outputs": [],
   "source": [
    "# 2. family_num - drop\n",
    "# 일단 패스"
   ]
  },
  {
   "cell_type": "code",
   "execution_count": 193,
   "metadata": {},
   "outputs": [
    {
     "data": {
      "image/png": "[encoded data removed]",
      "text/plain": [
       "<Figure size 432x288 with 1 Axes>"
      ]
     },
     "metadata": {
      "needs_background": "light"
     },
     "output_type": "display_data"
    }
   ],
   "source": [
    "# 3. income_total - log변환\n",
    "data['income_total'] = np.log(data['income_total'])\n",
    "sns.distplot(data['income_total']);"
   ]
  },
  {
   "cell_type": "code",
   "execution_count": 194,
   "metadata": {},
   "outputs": [
    {
     "data": {
      "text/html": [
       "<div>\n",
       "<style scoped>\n",
       "    .dataframe tbody tr th:only-of-type {\n",
       "        vertical-align: middle;\n",
       "    }\n",
       "\n",
       "    .dataframe tbody tr th {\n",
       "        vertical-align: top;\n",
       "    }\n",
       "\n",
       "    .dataframe thead th {\n",
       "        text-align: right;\n",
       "    }\n",
       "</style>\n",
       "<table border=\"1\" class=\"dataframe\">\n",
       "  <thead>\n",
       "    <tr style=\"text-align: right;\">\n",
       "      <th></th>\n",
       "      <th>gender</th>\n",
       "      <th>age</th>\n",
       "      <th>car</th>\n",
       "      <th>reality</th>\n",
       "      <th>child_num</th>\n",
       "      <th>income_total</th>\n",
       "      <th>income_type</th>\n",
       "      <th>edu_type</th>\n",
       "      <th>family_type</th>\n",
       "      <th>house_type</th>\n",
       "      <th>...</th>\n",
       "      <th>work_phone</th>\n",
       "      <th>phone</th>\n",
       "      <th>email</th>\n",
       "      <th>occyp_type_new</th>\n",
       "      <th>family_size</th>\n",
       "      <th>begin_month</th>\n",
       "      <th>credit</th>\n",
       "      <th>DAYS_EMPLOYED_YEAR</th>\n",
       "      <th>DAYS_EMPLOYED_MONTH</th>\n",
       "      <th>DAYS_EMPLOYED_WEEK</th>\n",
       "    </tr>\n",
       "  </thead>\n",
       "  <tbody>\n",
       "    <tr>\n",
       "      <th>0</th>\n",
       "      <td>F</td>\n",
       "      <td>38</td>\n",
       "      <td>N</td>\n",
       "      <td>N</td>\n",
       "      <td>0</td>\n",
       "      <td>12.218495</td>\n",
       "      <td>Commercial associate</td>\n",
       "      <td>Higher education</td>\n",
       "      <td>Married</td>\n",
       "      <td>Municipal apartment</td>\n",
       "      <td>...</td>\n",
       "      <td>0</td>\n",
       "      <td>0</td>\n",
       "      <td>0</td>\n",
       "      <td>etc.</td>\n",
       "      <td>2.0</td>\n",
       "      <td>6.0</td>\n",
       "      <td>1.0</td>\n",
       "      <td>13</td>\n",
       "      <td>157</td>\n",
       "      <td>673</td>\n",
       "    </tr>\n",
       "  </tbody>\n",
       "</table>\n",
       "<p>1 rows × 21 columns</p>\n",
       "</div>"
      ],
      "text/plain": [
       "  gender  age car reality child_num  income_total           income_type  \\\n",
       "0      F   38   N       N         0     12.218495  Commercial associate   \n",
       "\n",
       "           edu_type family_type           house_type  ...  work_phone  phone  \\\n",
       "0  Higher education     Married  Municipal apartment  ...           0      0   \n",
       "\n",
       "   email  occyp_type_new family_size  begin_month  credit  DAYS_EMPLOYED_YEAR  \\\n",
       "0      0            etc.         2.0          6.0     1.0                  13   \n",
       "\n",
       "   DAYS_EMPLOYED_MONTH  DAYS_EMPLOYED_WEEK  \n",
       "0                  157                 673  \n",
       "\n",
       "[1 rows x 21 columns]"
      ]
     },
     "execution_count": 194,
     "metadata": {},
     "output_type": "execute_result"
    }
   ],
   "source": [
    "# 4. DAYS_EMPLOYED - 년차로 변환 (무직 : 0, 1년 미만 : 1) + 년,월,주 등으로 변환하여 한번에\n",
    "data['DAYS_EMPLOYED_YEAR'] = data['DAYS_EMPLOYED'] // 365 + 1\n",
    "data['DAYS_EMPLOYED_MONTH'] = data['DAYS_EMPLOYED'] // 30 + 1\n",
    "data['DAYS_EMPLOYED_WEEK'] = data['DAYS_EMPLOYED'] // 7 + 1\n",
    "data.head(1)"
   ]
  },
  {
   "cell_type": "code",
   "execution_count": 225,
   "metadata": {},
   "outputs": [
    {
     "data": {
      "text/plain": [
       "1    6488\n",
       "2    6322\n",
       "3    5377\n",
       "4    4643\n",
       "5    3392\n",
       "6     235\n",
       "Name: begin_year, dtype: int64"
      ]
     },
     "execution_count": 225,
     "metadata": {},
     "output_type": "execute_result"
    }
   ],
   "source": [
    "# 5. begin_month - 년,월 등으로 변환하여 한번에\n",
    "data['begin_month'] = data.begin_month.astype('int')\n",
    "data['begin_year'] = data.begin_month // 12 + 1\n",
    "data['begin_year'].value_counts()"
   ]
  },
  {
   "cell_type": "code",
   "execution_count": 209,
   "metadata": {},
   "outputs": [
    {
     "data": {
      "text/plain": [
       "3    7585\n",
       "4    6769\n",
       "5    5739\n",
       "2    3608\n",
       "6    2756\n",
       "Name: age, dtype: int64"
      ]
     },
     "execution_count": 209,
     "metadata": {},
     "output_type": "execute_result"
    }
   ],
   "source": [
    "# 6. age - 20대 : 2, 30대 : 3 의식으로 변환\n",
    "data['age'] = data['age']//10\n",
    "data['age'] = data['age'].astype('cate')\n",
    "data['age'].value_counts()"
   ]
  },
  {
   "cell_type": "code",
   "execution_count": 220,
   "metadata": {},
   "outputs": [],
   "source": [
    "data.iloc[:,0] = data.iloc[:,0].astype('category')"
   ]
  },
  {
   "cell_type": "code",
   "execution_count": 230,
   "metadata": {},
   "outputs": [
    {
     "data": {
      "text/plain": [
       "Index(['gender', 'age', 'car', 'reality', 'child_num', 'income_total',\n",
       "       'income_type', 'edu_type', 'family_type', 'house_type', 'DAYS_EMPLOYED',\n",
       "       'work_phone', 'phone', 'email', 'occyp_type_new', 'family_size',\n",
       "       'begin_month', 'credit', 'DAYS_EMPLOYED_YEAR', 'DAYS_EMPLOYED_MONTH',\n",
       "       'DAYS_EMPLOYED_WEEK', 'begin_year'],\n",
       "      dtype='object')"
      ]
     },
     "execution_count": 230,
     "metadata": {},
     "output_type": "execute_result"
    }
   ],
   "source": [
    "data.columns"
   ]
  },
  {
   "cell_type": "code",
   "execution_count": 231,
   "metadata": {},
   "outputs": [
    {
     "data": {
      "text/html": [
       "<div>\n",
       "<style scoped>\n",
       "    .dataframe tbody tr th:only-of-type {\n",
       "        vertical-align: middle;\n",
       "    }\n",
       "\n",
       "    .dataframe tbody tr th {\n",
       "        vertical-align: top;\n",
       "    }\n",
       "\n",
       "    .dataframe thead th {\n",
       "        text-align: right;\n",
       "    }\n",
       "</style>\n",
       "<table border=\"1\" class=\"dataframe\">\n",
       "  <thead>\n",
       "    <tr style=\"text-align: right;\">\n",
       "      <th></th>\n",
       "      <th>gender</th>\n",
       "      <th>age</th>\n",
       "      <th>car</th>\n",
       "      <th>reality</th>\n",
       "      <th>child_num</th>\n",
       "      <th>income_total</th>\n",
       "      <th>income_type</th>\n",
       "      <th>edu_type</th>\n",
       "      <th>family_type</th>\n",
       "      <th>house_type</th>\n",
       "      <th>...</th>\n",
       "      <th>DAYS_EMPLOYED_MONTH</th>\n",
       "      <th>DAYS_EMPLOYED_WEEK</th>\n",
       "      <th>work_phone</th>\n",
       "      <th>phone</th>\n",
       "      <th>email</th>\n",
       "      <th>occyp_type_new</th>\n",
       "      <th>family_size</th>\n",
       "      <th>begin_month</th>\n",
       "      <th>begin_year</th>\n",
       "      <th>credit</th>\n",
       "    </tr>\n",
       "  </thead>\n",
       "  <tbody>\n",
       "    <tr>\n",
       "      <th>0</th>\n",
       "      <td>F</td>\n",
       "      <td>3</td>\n",
       "      <td>N</td>\n",
       "      <td>N</td>\n",
       "      <td>0</td>\n",
       "      <td>12.218495</td>\n",
       "      <td>Commercial associate</td>\n",
       "      <td>Higher education</td>\n",
       "      <td>Married</td>\n",
       "      <td>Municipal apartment</td>\n",
       "      <td>...</td>\n",
       "      <td>157</td>\n",
       "      <td>673</td>\n",
       "      <td>0</td>\n",
       "      <td>0</td>\n",
       "      <td>0</td>\n",
       "      <td>etc.</td>\n",
       "      <td>2.0</td>\n",
       "      <td>6</td>\n",
       "      <td>1</td>\n",
       "      <td>1.0</td>\n",
       "    </tr>\n",
       "  </tbody>\n",
       "</table>\n",
       "<p>1 rows × 22 columns</p>\n",
       "</div>"
      ],
      "text/plain": [
       "  gender  age car reality child_num  income_total           income_type  \\\n",
       "0      F    3   N       N         0     12.218495  Commercial associate   \n",
       "\n",
       "           edu_type family_type           house_type  ...  \\\n",
       "0  Higher education     Married  Municipal apartment  ...   \n",
       "\n",
       "   DAYS_EMPLOYED_MONTH  DAYS_EMPLOYED_WEEK  work_phone  phone  email  \\\n",
       "0                  157                 673           0      0      0   \n",
       "\n",
       "   occyp_type_new  family_size begin_month  begin_year  credit  \n",
       "0            etc.          2.0           6           1     1.0  \n",
       "\n",
       "[1 rows x 22 columns]"
      ]
     },
     "execution_count": 231,
     "metadata": {},
     "output_type": "execute_result"
    }
   ],
   "source": [
    "data = data[['gender', 'age', 'car', 'reality', 'child_num', 'income_total',\n",
    "       'income_type', 'edu_type', 'family_type', 'house_type', 'DAYS_EMPLOYED',\n",
    "       'DAYS_EMPLOYED_YEAR', 'DAYS_EMPLOYED_MONTH','DAYS_EMPLOYED_WEEK',\n",
    "       'work_phone', 'phone', 'email', 'occyp_type_new', 'family_size',\n",
    "       'begin_month', 'begin_year', 'credit']]\n",
    "data.head(1)"
   ]
  },
  {
   "cell_type": "code",
   "execution_count": 233,
   "metadata": {},
   "outputs": [
    {
     "name": "stdout",
     "output_type": "stream",
     "text": [
      "<class 'pandas.core.frame.DataFrame'>\n",
      "RangeIndex: 26457 entries, 0 to 26456\n",
      "Data columns (total 22 columns):\n",
      " #   Column               Non-Null Count  Dtype   \n",
      "---  ------               --------------  -----   \n",
      " 0   gender               26457 non-null  category\n",
      " 1   age                  26457 non-null  int64   \n",
      " 2   car                  26457 non-null  object  \n",
      " 3   reality              26457 non-null  object  \n",
      " 4   child_num            26457 non-null  object  \n",
      " 5   income_total         26457 non-null  float64 \n",
      " 6   income_type          26457 non-null  object  \n",
      " 7   edu_type             26457 non-null  object  \n",
      " 8   family_type          26457 non-null  object  \n",
      " 9   house_type           26457 non-null  object  \n",
      " 10  DAYS_EMPLOYED        26457 non-null  int64   \n",
      " 11  DAYS_EMPLOYED_YEAR   26457 non-null  int64   \n",
      " 12  DAYS_EMPLOYED_MONTH  26457 non-null  int64   \n",
      " 13  DAYS_EMPLOYED_WEEK   26457 non-null  int64   \n",
      " 14  work_phone           26457 non-null  int64   \n",
      " 15  phone                26457 non-null  int64   \n",
      " 16  email                26457 non-null  int64   \n",
      " 17  occyp_type_new       26457 non-null  object  \n",
      " 18  family_size          26457 non-null  float64 \n",
      " 19  begin_month          26457 non-null  int32   \n",
      " 20  begin_year           26457 non-null  int32   \n",
      " 21  credit               26457 non-null  float64 \n",
      "dtypes: category(1), float64(3), int32(2), int64(8), object(8)\n",
      "memory usage: 4.1+ MB\n"
     ]
    }
   ],
   "source": [
    "data.info()"
   ]
  },
  {
   "cell_type": "code",
   "execution_count": 235,
   "metadata": {},
   "outputs": [
    {
     "data": {
      "text/plain": [
       "Index(['gender', 'age', 'car', 'reality', 'child_num', 'income_total',\n",
       "       'income_type', 'edu_type', 'family_type', 'house_type', 'DAYS_EMPLOYED',\n",
       "       'DAYS_EMPLOYED_YEAR', 'DAYS_EMPLOYED_MONTH', 'DAYS_EMPLOYED_WEEK',\n",
       "       'work_phone', 'phone', 'email', 'occyp_type_new', 'family_size',\n",
       "       'begin_month', 'begin_year', 'credit'],\n",
       "      dtype='object')"
      ]
     },
     "execution_count": 235,
     "metadata": {},
     "output_type": "execute_result"
    }
   ],
   "source": [
    "data.columns"
   ]
  },
  {
   "cell_type": "code",
   "execution_count": 236,
   "metadata": {},
   "outputs": [],
   "source": [
    "data['car'] = data['car'].astype('category')\n",
    "data['reality'] = data['reality'].astype('category')\n",
    "data['income_type'] = data['income_type'].astype('category')\n",
    "data['edu_type'] = data['edu_type'].astype('category')\n",
    "data['family_type'] = data['family_type'].astype('category')\n",
    "data['house_type'] = data['house_type'].astype('category')\n",
    "data['work_phone'] = data['work_phone'].astype('category')\n",
    "data['phone'] = data['phone'].astype('category')\n",
    "data['email'] = data['email'].astype('category')\n",
    "data['occyp_type_new'] = data['occyp_type_new'].astype('category')"
   ]
  },
  {
   "cell_type": "code",
   "execution_count": 240,
   "metadata": {},
   "outputs": [],
   "source": [
    "data['credit'] = data['credit'].astype('int')\n",
    "data['credit'] = data['credit'].astype('category')"
   ]
  },
  {
   "cell_type": "code",
   "execution_count": 241,
   "metadata": {},
   "outputs": [
    {
     "data": {
      "text/html": [
       "<div>\n",
       "<style scoped>\n",
       "    .dataframe tbody tr th:only-of-type {\n",
       "        vertical-align: middle;\n",
       "    }\n",
       "\n",
       "    .dataframe tbody tr th {\n",
       "        vertical-align: top;\n",
       "    }\n",
       "\n",
       "    .dataframe thead th {\n",
       "        text-align: right;\n",
       "    }\n",
       "</style>\n",
       "<table border=\"1\" class=\"dataframe\">\n",
       "  <thead>\n",
       "    <tr style=\"text-align: right;\">\n",
       "      <th></th>\n",
       "      <th>gender</th>\n",
       "      <th>age</th>\n",
       "      <th>car</th>\n",
       "      <th>reality</th>\n",
       "      <th>child_num</th>\n",
       "      <th>income_total</th>\n",
       "      <th>income_type</th>\n",
       "      <th>edu_type</th>\n",
       "      <th>family_type</th>\n",
       "      <th>house_type</th>\n",
       "      <th>...</th>\n",
       "      <th>DAYS_EMPLOYED_MONTH</th>\n",
       "      <th>DAYS_EMPLOYED_WEEK</th>\n",
       "      <th>work_phone</th>\n",
       "      <th>phone</th>\n",
       "      <th>email</th>\n",
       "      <th>occyp_type_new</th>\n",
       "      <th>family_size</th>\n",
       "      <th>begin_month</th>\n",
       "      <th>begin_year</th>\n",
       "      <th>credit</th>\n",
       "    </tr>\n",
       "  </thead>\n",
       "  <tbody>\n",
       "    <tr>\n",
       "      <th>0</th>\n",
       "      <td>F</td>\n",
       "      <td>3</td>\n",
       "      <td>N</td>\n",
       "      <td>N</td>\n",
       "      <td>0</td>\n",
       "      <td>12.218495</td>\n",
       "      <td>Commercial associate</td>\n",
       "      <td>Higher education</td>\n",
       "      <td>Married</td>\n",
       "      <td>Municipal apartment</td>\n",
       "      <td>...</td>\n",
       "      <td>157</td>\n",
       "      <td>673</td>\n",
       "      <td>0</td>\n",
       "      <td>0</td>\n",
       "      <td>0</td>\n",
       "      <td>etc.</td>\n",
       "      <td>2.0</td>\n",
       "      <td>6</td>\n",
       "      <td>1</td>\n",
       "      <td>1</td>\n",
       "    </tr>\n",
       "  </tbody>\n",
       "</table>\n",
       "<p>1 rows × 22 columns</p>\n",
       "</div>"
      ],
      "text/plain": [
       "  gender  age car reality child_num  income_total           income_type  \\\n",
       "0      F    3   N       N         0     12.218495  Commercial associate   \n",
       "\n",
       "           edu_type family_type           house_type  ...  \\\n",
       "0  Higher education     Married  Municipal apartment  ...   \n",
       "\n",
       "   DAYS_EMPLOYED_MONTH  DAYS_EMPLOYED_WEEK  work_phone  phone email  \\\n",
       "0                  157                 673           0      0     0   \n",
       "\n",
       "  occyp_type_new family_size begin_month  begin_year  credit  \n",
       "0           etc.         2.0           6           1       1  \n",
       "\n",
       "[1 rows x 22 columns]"
      ]
     },
     "execution_count": 241,
     "metadata": {},
     "output_type": "execute_result"
    }
   ],
   "source": [
    "data.head(1)"
   ]
  },
  {
   "cell_type": "code",
   "execution_count": 243,
   "metadata": {},
   "outputs": [],
   "source": [
    "data.to_csv('../data/신용카드/train_ver1.csv', sep = ',', encoding = 'cp949')"
   ]
  },
  {
   "cell_type": "code",
   "execution_count": 245,
   "metadata": {},
   "outputs": [
    {
     "data": {
      "text/html": [
       "<div>\n",
       "<style scoped>\n",
       "    .dataframe tbody tr th:only-of-type {\n",
       "        vertical-align: middle;\n",
       "    }\n",
       "\n",
       "    .dataframe tbody tr th {\n",
       "        vertical-align: top;\n",
       "    }\n",
       "\n",
       "    .dataframe thead th {\n",
       "        text-align: right;\n",
       "    }\n",
       "</style>\n",
       "<table border=\"1\" class=\"dataframe\">\n",
       "  <thead>\n",
       "    <tr style=\"text-align: right;\">\n",
       "      <th></th>\n",
       "      <th>gender</th>\n",
       "      <th>age</th>\n",
       "      <th>car</th>\n",
       "      <th>reality</th>\n",
       "      <th>child_num</th>\n",
       "      <th>income_total</th>\n",
       "      <th>income_type</th>\n",
       "      <th>edu_type</th>\n",
       "      <th>family_type</th>\n",
       "      <th>house_type</th>\n",
       "      <th>...</th>\n",
       "      <th>DAYS_EMPLOYED_MONTH</th>\n",
       "      <th>DAYS_EMPLOYED_WEEK</th>\n",
       "      <th>work_phone</th>\n",
       "      <th>phone</th>\n",
       "      <th>email</th>\n",
       "      <th>occyp_type_new</th>\n",
       "      <th>family_size</th>\n",
       "      <th>begin_month</th>\n",
       "      <th>begin_year</th>\n",
       "      <th>credit</th>\n",
       "    </tr>\n",
       "  </thead>\n",
       "  <tbody>\n",
       "    <tr>\n",
       "      <th>0</th>\n",
       "      <td>F</td>\n",
       "      <td>3</td>\n",
       "      <td>N</td>\n",
       "      <td>N</td>\n",
       "      <td>0</td>\n",
       "      <td>12.218495</td>\n",
       "      <td>Commercial associate</td>\n",
       "      <td>Higher education</td>\n",
       "      <td>Married</td>\n",
       "      <td>Municipal apartment</td>\n",
       "      <td>...</td>\n",
       "      <td>157</td>\n",
       "      <td>673</td>\n",
       "      <td>0</td>\n",
       "      <td>0</td>\n",
       "      <td>0</td>\n",
       "      <td>etc.</td>\n",
       "      <td>2.0</td>\n",
       "      <td>6</td>\n",
       "      <td>1</td>\n",
       "      <td>1</td>\n",
       "    </tr>\n",
       "    <tr>\n",
       "      <th>1</th>\n",
       "      <td>F</td>\n",
       "      <td>3</td>\n",
       "      <td>N</td>\n",
       "      <td>Y</td>\n",
       "      <td>1</td>\n",
       "      <td>12.419166</td>\n",
       "      <td>Commercial associate</td>\n",
       "      <td>Secondary / secondary special</td>\n",
       "      <td>Civil marriage</td>\n",
       "      <td>House / apartment</td>\n",
       "      <td>...</td>\n",
       "      <td>52</td>\n",
       "      <td>221</td>\n",
       "      <td>0</td>\n",
       "      <td>0</td>\n",
       "      <td>1</td>\n",
       "      <td>Laborers</td>\n",
       "      <td>3.0</td>\n",
       "      <td>5</td>\n",
       "      <td>1</td>\n",
       "      <td>1</td>\n",
       "    </tr>\n",
       "    <tr>\n",
       "      <th>2</th>\n",
       "      <td>M</td>\n",
       "      <td>5</td>\n",
       "      <td>Y</td>\n",
       "      <td>Y</td>\n",
       "      <td>0</td>\n",
       "      <td>13.017003</td>\n",
       "      <td>Working</td>\n",
       "      <td>Higher education</td>\n",
       "      <td>Married</td>\n",
       "      <td>House / apartment</td>\n",
       "      <td>...</td>\n",
       "      <td>148</td>\n",
       "      <td>634</td>\n",
       "      <td>0</td>\n",
       "      <td>1</td>\n",
       "      <td>0</td>\n",
       "      <td>Managers</td>\n",
       "      <td>2.0</td>\n",
       "      <td>22</td>\n",
       "      <td>2</td>\n",
       "      <td>2</td>\n",
       "    </tr>\n",
       "    <tr>\n",
       "      <th>3</th>\n",
       "      <td>F</td>\n",
       "      <td>4</td>\n",
       "      <td>N</td>\n",
       "      <td>Y</td>\n",
       "      <td>0</td>\n",
       "      <td>12.218495</td>\n",
       "      <td>Commercial associate</td>\n",
       "      <td>Secondary / secondary special</td>\n",
       "      <td>Married</td>\n",
       "      <td>House / apartment</td>\n",
       "      <td>...</td>\n",
       "      <td>70</td>\n",
       "      <td>299</td>\n",
       "      <td>0</td>\n",
       "      <td>1</td>\n",
       "      <td>0</td>\n",
       "      <td>Sales staff</td>\n",
       "      <td>2.0</td>\n",
       "      <td>37</td>\n",
       "      <td>4</td>\n",
       "      <td>0</td>\n",
       "    </tr>\n",
       "    <tr>\n",
       "      <th>4</th>\n",
       "      <td>F</td>\n",
       "      <td>4</td>\n",
       "      <td>Y</td>\n",
       "      <td>Y</td>\n",
       "      <td>0</td>\n",
       "      <td>11.967181</td>\n",
       "      <td>State servant</td>\n",
       "      <td>Higher education</td>\n",
       "      <td>Married</td>\n",
       "      <td>House / apartment</td>\n",
       "      <td>...</td>\n",
       "      <td>71</td>\n",
       "      <td>301</td>\n",
       "      <td>0</td>\n",
       "      <td>0</td>\n",
       "      <td>0</td>\n",
       "      <td>Managers</td>\n",
       "      <td>2.0</td>\n",
       "      <td>26</td>\n",
       "      <td>3</td>\n",
       "      <td>2</td>\n",
       "    </tr>\n",
       "    <tr>\n",
       "      <th>...</th>\n",
       "      <td>...</td>\n",
       "      <td>...</td>\n",
       "      <td>...</td>\n",
       "      <td>...</td>\n",
       "      <td>...</td>\n",
       "      <td>...</td>\n",
       "      <td>...</td>\n",
       "      <td>...</td>\n",
       "      <td>...</td>\n",
       "      <td>...</td>\n",
       "      <td>...</td>\n",
       "      <td>...</td>\n",
       "      <td>...</td>\n",
       "      <td>...</td>\n",
       "      <td>...</td>\n",
       "      <td>...</td>\n",
       "      <td>...</td>\n",
       "      <td>...</td>\n",
       "      <td>...</td>\n",
       "      <td>...</td>\n",
       "      <td>...</td>\n",
       "    </tr>\n",
       "    <tr>\n",
       "      <th>26452</th>\n",
       "      <td>F</td>\n",
       "      <td>3</td>\n",
       "      <td>N</td>\n",
       "      <td>N</td>\n",
       "      <td>2</td>\n",
       "      <td>12.323856</td>\n",
       "      <td>State servant</td>\n",
       "      <td>Secondary / secondary special</td>\n",
       "      <td>Married</td>\n",
       "      <td>House / apartment</td>\n",
       "      <td>...</td>\n",
       "      <td>67</td>\n",
       "      <td>284</td>\n",
       "      <td>0</td>\n",
       "      <td>0</td>\n",
       "      <td>0</td>\n",
       "      <td>Core staff</td>\n",
       "      <td>4.0</td>\n",
       "      <td>2</td>\n",
       "      <td>1</td>\n",
       "      <td>1</td>\n",
       "    </tr>\n",
       "    <tr>\n",
       "      <th>26453</th>\n",
       "      <td>F</td>\n",
       "      <td>4</td>\n",
       "      <td>N</td>\n",
       "      <td>Y</td>\n",
       "      <td>1</td>\n",
       "      <td>12.100712</td>\n",
       "      <td>Working</td>\n",
       "      <td>Higher education</td>\n",
       "      <td>Separated</td>\n",
       "      <td>House / apartment</td>\n",
       "      <td>...</td>\n",
       "      <td>83</td>\n",
       "      <td>354</td>\n",
       "      <td>0</td>\n",
       "      <td>0</td>\n",
       "      <td>0</td>\n",
       "      <td>etc.</td>\n",
       "      <td>2.0</td>\n",
       "      <td>47</td>\n",
       "      <td>4</td>\n",
       "      <td>2</td>\n",
       "    </tr>\n",
       "    <tr>\n",
       "      <th>26454</th>\n",
       "      <td>F</td>\n",
       "      <td>2</td>\n",
       "      <td>Y</td>\n",
       "      <td>N</td>\n",
       "      <td>0</td>\n",
       "      <td>12.586220</td>\n",
       "      <td>Working</td>\n",
       "      <td>Secondary / secondary special</td>\n",
       "      <td>Civil marriage</td>\n",
       "      <td>With parents</td>\n",
       "      <td>...</td>\n",
       "      <td>68</td>\n",
       "      <td>288</td>\n",
       "      <td>0</td>\n",
       "      <td>0</td>\n",
       "      <td>0</td>\n",
       "      <td>Core staff</td>\n",
       "      <td>2.0</td>\n",
       "      <td>25</td>\n",
       "      <td>3</td>\n",
       "      <td>2</td>\n",
       "    </tr>\n",
       "    <tr>\n",
       "      <th>26455</th>\n",
       "      <td>M</td>\n",
       "      <td>2</td>\n",
       "      <td>N</td>\n",
       "      <td>Y</td>\n",
       "      <td>0</td>\n",
       "      <td>12.049419</td>\n",
       "      <td>Working</td>\n",
       "      <td>Incomplete higher</td>\n",
       "      <td>Single / not married</td>\n",
       "      <td>House / apartment</td>\n",
       "      <td>...</td>\n",
       "      <td>4</td>\n",
       "      <td>16</td>\n",
       "      <td>0</td>\n",
       "      <td>0</td>\n",
       "      <td>0</td>\n",
       "      <td>Laborers</td>\n",
       "      <td>1.0</td>\n",
       "      <td>59</td>\n",
       "      <td>5</td>\n",
       "      <td>2</td>\n",
       "    </tr>\n",
       "    <tr>\n",
       "      <th>26456</th>\n",
       "      <td>F</td>\n",
       "      <td>5</td>\n",
       "      <td>N</td>\n",
       "      <td>N</td>\n",
       "      <td>0</td>\n",
       "      <td>11.302204</td>\n",
       "      <td>Working</td>\n",
       "      <td>Secondary / secondary special</td>\n",
       "      <td>Civil marriage</td>\n",
       "      <td>House / apartment</td>\n",
       "      <td>...</td>\n",
       "      <td>34</td>\n",
       "      <td>145</td>\n",
       "      <td>0</td>\n",
       "      <td>0</td>\n",
       "      <td>0</td>\n",
       "      <td>etc.</td>\n",
       "      <td>2.0</td>\n",
       "      <td>9</td>\n",
       "      <td>1</td>\n",
       "      <td>2</td>\n",
       "    </tr>\n",
       "  </tbody>\n",
       "</table>\n",
       "<p>26457 rows × 22 columns</p>\n",
       "</div>"
      ],
      "text/plain": [
       "      gender  age car reality child_num  income_total           income_type  \\\n",
       "0          F    3   N       N         0     12.218495  Commercial associate   \n",
       "1          F    3   N       Y         1     12.419166  Commercial associate   \n",
       "2          M    5   Y       Y         0     13.017003               Working   \n",
       "3          F    4   N       Y         0     12.218495  Commercial associate   \n",
       "4          F    4   Y       Y         0     11.967181         State servant   \n",
       "...      ...  ...  ..     ...       ...           ...                   ...   \n",
       "26452      F    3   N       N         2     12.323856         State servant   \n",
       "26453      F    4   N       Y         1     12.100712               Working   \n",
       "26454      F    2   Y       N         0     12.586220               Working   \n",
       "26455      M    2   N       Y         0     12.049419               Working   \n",
       "26456      F    5   N       N         0     11.302204               Working   \n",
       "\n",
       "                            edu_type           family_type  \\\n",
       "0                   Higher education               Married   \n",
       "1      Secondary / secondary special        Civil marriage   \n",
       "2                   Higher education               Married   \n",
       "3      Secondary / secondary special               Married   \n",
       "4                   Higher education               Married   \n",
       "...                              ...                   ...   \n",
       "26452  Secondary / secondary special               Married   \n",
       "26453               Higher education             Separated   \n",
       "26454  Secondary / secondary special        Civil marriage   \n",
       "26455              Incomplete higher  Single / not married   \n",
       "26456  Secondary / secondary special        Civil marriage   \n",
       "\n",
       "                house_type  ...  DAYS_EMPLOYED_MONTH  DAYS_EMPLOYED_WEEK  \\\n",
       "0      Municipal apartment  ...                  157                 673   \n",
       "1        House / apartment  ...                   52                 221   \n",
       "2        House / apartment  ...                  148                 634   \n",
       "3        House / apartment  ...                   70                 299   \n",
       "4        House / apartment  ...                   71                 301   \n",
       "...                    ...  ...                  ...                 ...   \n",
       "26452    House / apartment  ...                   67                 284   \n",
       "26453    House / apartment  ...                   83                 354   \n",
       "26454         With parents  ...                   68                 288   \n",
       "26455    House / apartment  ...                    4                  16   \n",
       "26456    House / apartment  ...                   34                 145   \n",
       "\n",
       "       work_phone  phone  email  occyp_type_new  family_size begin_month  \\\n",
       "0               0      0      0            etc.          2.0           6   \n",
       "1               0      0      1        Laborers          3.0           5   \n",
       "2               0      1      0        Managers          2.0          22   \n",
       "3               0      1      0     Sales staff          2.0          37   \n",
       "4               0      0      0        Managers          2.0          26   \n",
       "...           ...    ...    ...             ...          ...         ...   \n",
       "26452           0      0      0      Core staff          4.0           2   \n",
       "26453           0      0      0            etc.          2.0          47   \n",
       "26454           0      0      0      Core staff          2.0          25   \n",
       "26455           0      0      0        Laborers          1.0          59   \n",
       "26456           0      0      0            etc.          2.0           9   \n",
       "\n",
       "       begin_year  credit  \n",
       "0               1       1  \n",
       "1               1       1  \n",
       "2               2       2  \n",
       "3               4       0  \n",
       "4               3       2  \n",
       "...           ...     ...  \n",
       "26452           1       1  \n",
       "26453           4       2  \n",
       "26454           3       2  \n",
       "26455           5       2  \n",
       "26456           1       2  \n",
       "\n",
       "[26457 rows x 22 columns]"
      ]
     },
     "execution_count": 245,
     "metadata": {},
     "output_type": "execute_result"
    }
   ],
   "source": [
    "pd.read_csv('../data/신용카드/train_ver1.csv',sep =',', encoding = 'cp949', index_col = 0)"
   ]
  }
 ],
 "metadata": {
  "kernelspec": {
   "display_name": "Python 3",
   "language": "python",
   "name": "python3"
  },
  "language_info": {
   "codemirror_mode": {
    "name": "ipython",
    "version": 3
   },
   "file_extension": ".py",
   "mimetype": "text/x-python",
   "name": "python",
   "nbconvert_exporter": "python",
   "pygments_lexer": "ipython3",
   "version": "3.7.6"
  }
 },
 "nbformat": 4,
 "nbformat_minor": 4
}
