{
 "cells": [
  {
   "cell_type": "markdown",
   "id": "3e32e321",
   "metadata": {
    "toc": true
   },
   "source": [
    "<h1>Table of Contents<span class=\"tocSkip\"></span></h1>\n",
    "<div class=\"toc\"><ul class=\"toc-item\"><li><span><a href=\"#import-module\" data-toc-modified-id=\"import-module-1\"><span class=\"toc-item-num\">1&nbsp;&nbsp;</span>import module</a></span></li><li><span><a href=\"#문제1)\" data-toc-modified-id=\"문제1)-2\"><span class=\"toc-item-num\">2&nbsp;&nbsp;</span>문제1)</a></span></li><li><span><a href=\"#문제2)\" data-toc-modified-id=\"문제2)-3\"><span class=\"toc-item-num\">3&nbsp;&nbsp;</span>문제2)</a></span></li><li><span><a href=\"#문제3)\" data-toc-modified-id=\"문제3)-4\"><span class=\"toc-item-num\">4&nbsp;&nbsp;</span>문제3)</a></span></li><li><span><a href=\"#문제4)\" data-toc-modified-id=\"문제4)-5\"><span class=\"toc-item-num\">5&nbsp;&nbsp;</span>문제4)</a></span></li><li><span><a href=\"#문제5)\" data-toc-modified-id=\"문제5)-6\"><span class=\"toc-item-num\">6&nbsp;&nbsp;</span>문제5)</a></span></li><li><span><a href=\"#문제6)\" data-toc-modified-id=\"문제6)-7\"><span class=\"toc-item-num\">7&nbsp;&nbsp;</span>문제6)</a></span><ul class=\"toc-item\"><li><span><a href=\"#get_result\" data-toc-modified-id=\"get_result-7.1\"><span class=\"toc-item-num\">7.1&nbsp;&nbsp;</span>get_result</a></span></li></ul></li><li><span><a href=\"#문제7)\" data-toc-modified-id=\"문제7)-8\"><span class=\"toc-item-num\">8&nbsp;&nbsp;</span>문제7)</a></span></li><li><span><a href=\"#문제8)\" data-toc-modified-id=\"문제8)-9\"><span class=\"toc-item-num\">9&nbsp;&nbsp;</span>문제8)</a></span><ul class=\"toc-item\"><li><span><a href=\"#각-모델별-scores의-평균과-표준편차\" data-toc-modified-id=\"각-모델별-scores의-평균과-표준편차-9.1\"><span class=\"toc-item-num\">9.1&nbsp;&nbsp;</span>각 모델별 scores의 평균과 표준편차</a></span></li></ul></li><li><span><a href=\"#문제9)\" data-toc-modified-id=\"문제9)-10\"><span class=\"toc-item-num\">10&nbsp;&nbsp;</span>문제9)</a></span></li><li><span><a href=\"#문제10)\" data-toc-modified-id=\"문제10)-11\"><span class=\"toc-item-num\">11&nbsp;&nbsp;</span>문제10)</a></span></li><li><span><a href=\"#문제11)\" data-toc-modified-id=\"문제11)-12\"><span class=\"toc-item-num\">12&nbsp;&nbsp;</span>문제11)</a></span></li><li><span><a href=\"#문제12)\" data-toc-modified-id=\"문제12)-13\"><span class=\"toc-item-num\">13&nbsp;&nbsp;</span>문제12)</a></span></li><li><span><a href=\"#문제13)\" data-toc-modified-id=\"문제13)-14\"><span class=\"toc-item-num\">14&nbsp;&nbsp;</span>문제13)</a></span><ul class=\"toc-item\"><li><span><a href=\"#1.-Decision-Tree\" data-toc-modified-id=\"1.-Decision-Tree-14.1\"><span class=\"toc-item-num\">14.1&nbsp;&nbsp;</span>1. Decision Tree</a></span></li><li><span><a href=\"#2.-RandomForest\" data-toc-modified-id=\"2.-RandomForest-14.2\"><span class=\"toc-item-num\">14.2&nbsp;&nbsp;</span>2. RandomForest</a></span></li></ul></li></ul></div>"
   ]
  },
  {
   "cell_type": "markdown",
   "id": "f38ced13",
   "metadata": {},
   "source": [
    "# import module"
   ]
  },
  {
   "cell_type": "code",
   "execution_count": 3,
   "id": "f471167d",
   "metadata": {},
   "outputs": [
    {
     "name": "stdout",
     "output_type": "stream",
     "text": [
      "Hangul OK in your Windows!!\n"
     ]
    }
   ],
   "source": [
    "import pandas as pd\n",
    "import numpy as np\n",
    "import seaborn as sns\n",
    "import matplotlib.pyplot as plt\n",
    "import set_matplotlib_hangul"
   ]
  },
  {
   "cell_type": "markdown",
   "id": "b52900b3",
   "metadata": {},
   "source": [
    "# 문제1) \n",
    "**Sklearn을 이용해서 iris 데이터를 읽어서 pandas dataframe에저장해 주세요.**"
   ]
  },
  {
   "cell_type": "code",
   "execution_count": 4,
   "id": "bc5ef17a",
   "metadata": {},
   "outputs": [],
   "source": [
    "from sklearn.datasets import load_iris\n",
    "iris = load_iris()"
   ]
  },
  {
   "cell_type": "code",
   "execution_count": 9,
   "id": "9e81581f",
   "metadata": {},
   "outputs": [
    {
     "data": {
      "text/html": [
       "<div>\n",
       "<style scoped>\n",
       "    .dataframe tbody tr th:only-of-type {\n",
       "        vertical-align: middle;\n",
       "    }\n",
       "\n",
       "    .dataframe tbody tr th {\n",
       "        vertical-align: top;\n",
       "    }\n",
       "\n",
       "    .dataframe thead th {\n",
       "        text-align: right;\n",
       "    }\n",
       "</style>\n",
       "<table border=\"1\" class=\"dataframe\">\n",
       "  <thead>\n",
       "    <tr style=\"text-align: right;\">\n",
       "      <th></th>\n",
       "      <th>sepal length (cm)</th>\n",
       "      <th>sepal width (cm)</th>\n",
       "      <th>petal length (cm)</th>\n",
       "      <th>petal width (cm)</th>\n",
       "      <th>species</th>\n",
       "    </tr>\n",
       "  </thead>\n",
       "  <tbody>\n",
       "    <tr>\n",
       "      <th>0</th>\n",
       "      <td>5.1</td>\n",
       "      <td>3.5</td>\n",
       "      <td>1.4</td>\n",
       "      <td>0.2</td>\n",
       "      <td>0</td>\n",
       "    </tr>\n",
       "    <tr>\n",
       "      <th>1</th>\n",
       "      <td>4.9</td>\n",
       "      <td>3.0</td>\n",
       "      <td>1.4</td>\n",
       "      <td>0.2</td>\n",
       "      <td>0</td>\n",
       "    </tr>\n",
       "    <tr>\n",
       "      <th>2</th>\n",
       "      <td>4.7</td>\n",
       "      <td>3.2</td>\n",
       "      <td>1.3</td>\n",
       "      <td>0.2</td>\n",
       "      <td>0</td>\n",
       "    </tr>\n",
       "    <tr>\n",
       "      <th>3</th>\n",
       "      <td>4.6</td>\n",
       "      <td>3.1</td>\n",
       "      <td>1.5</td>\n",
       "      <td>0.2</td>\n",
       "      <td>0</td>\n",
       "    </tr>\n",
       "    <tr>\n",
       "      <th>4</th>\n",
       "      <td>5.0</td>\n",
       "      <td>3.6</td>\n",
       "      <td>1.4</td>\n",
       "      <td>0.2</td>\n",
       "      <td>0</td>\n",
       "    </tr>\n",
       "    <tr>\n",
       "      <th>...</th>\n",
       "      <td>...</td>\n",
       "      <td>...</td>\n",
       "      <td>...</td>\n",
       "      <td>...</td>\n",
       "      <td>...</td>\n",
       "    </tr>\n",
       "    <tr>\n",
       "      <th>145</th>\n",
       "      <td>6.7</td>\n",
       "      <td>3.0</td>\n",
       "      <td>5.2</td>\n",
       "      <td>2.3</td>\n",
       "      <td>2</td>\n",
       "    </tr>\n",
       "    <tr>\n",
       "      <th>146</th>\n",
       "      <td>6.3</td>\n",
       "      <td>2.5</td>\n",
       "      <td>5.0</td>\n",
       "      <td>1.9</td>\n",
       "      <td>2</td>\n",
       "    </tr>\n",
       "    <tr>\n",
       "      <th>147</th>\n",
       "      <td>6.5</td>\n",
       "      <td>3.0</td>\n",
       "      <td>5.2</td>\n",
       "      <td>2.0</td>\n",
       "      <td>2</td>\n",
       "    </tr>\n",
       "    <tr>\n",
       "      <th>148</th>\n",
       "      <td>6.2</td>\n",
       "      <td>3.4</td>\n",
       "      <td>5.4</td>\n",
       "      <td>2.3</td>\n",
       "      <td>2</td>\n",
       "    </tr>\n",
       "    <tr>\n",
       "      <th>149</th>\n",
       "      <td>5.9</td>\n",
       "      <td>3.0</td>\n",
       "      <td>5.1</td>\n",
       "      <td>1.8</td>\n",
       "      <td>2</td>\n",
       "    </tr>\n",
       "  </tbody>\n",
       "</table>\n",
       "<p>150 rows × 5 columns</p>\n",
       "</div>"
      ],
      "text/plain": [
       "     sepal length (cm)  sepal width (cm)  petal length (cm)  petal width (cm)  \\\n",
       "0                  5.1               3.5                1.4               0.2   \n",
       "1                  4.9               3.0                1.4               0.2   \n",
       "2                  4.7               3.2                1.3               0.2   \n",
       "3                  4.6               3.1                1.5               0.2   \n",
       "4                  5.0               3.6                1.4               0.2   \n",
       "..                 ...               ...                ...               ...   \n",
       "145                6.7               3.0                5.2               2.3   \n",
       "146                6.3               2.5                5.0               1.9   \n",
       "147                6.5               3.0                5.2               2.0   \n",
       "148                6.2               3.4                5.4               2.3   \n",
       "149                5.9               3.0                5.1               1.8   \n",
       "\n",
       "     species  \n",
       "0          0  \n",
       "1          0  \n",
       "2          0  \n",
       "3          0  \n",
       "4          0  \n",
       "..       ...  \n",
       "145        2  \n",
       "146        2  \n",
       "147        2  \n",
       "148        2  \n",
       "149        2  \n",
       "\n",
       "[150 rows x 5 columns]"
      ]
     },
     "execution_count": 9,
     "metadata": {},
     "output_type": "execute_result"
    }
   ],
   "source": [
    "iris_pd = pd.DataFrame(iris.data, columns = iris['feature_names'])\n",
    "iris_pd['species'] = iris.target\n",
    "iris_pd"
   ]
  },
  {
   "cell_type": "markdown",
   "id": "e961fe52",
   "metadata": {},
   "source": [
    "# 문제2) \n",
    "**Plotly express를 이용해서 네 개의 특성을 한 그래프에 boxplot으로 그려주세요.**"
   ]
  },
  {
   "cell_type": "code",
   "execution_count": 11,
   "id": "c812b728",
   "metadata": {},
   "outputs": [
    {
     "data": {
      "application/vnd.plotly.v1+json": {
       "config": {
        "plotlyServerURL": "https://plot.ly"
       },
       "data": [
        {
         "alignmentgroup": "True",
         "hovertemplate": "value=%{x}<br>variable=%{y}<extra></extra>",
         "legendgroup": "",
         "marker": {
          "color": "#636efa"
         },
         "name": "",
         "notched": false,
         "offsetgroup": "",
         "orientation": "h",
         "showlegend": false,
         "type": "box",
         "x": [
          5.1,
          4.9,
          4.7,
          4.6,
          5,
          5.4,
          4.6,
          5,
          4.4,
          4.9,
          5.4,
          4.8,
          4.8,
          4.3,
          5.8,
          5.7,
          5.4,
          5.1,
          5.7,
          5.1,
          5.4,
          5.1,
          4.6,
          5.1,
          4.8,
          5,
          5,
          5.2,
          5.2,
          4.7,
          4.8,
          5.4,
          5.2,
          5.5,
          4.9,
          5,
          5.5,
          4.9,
          4.4,
          5.1,
          5,
          4.5,
          4.4,
          5,
          5.1,
          4.8,
          5.1,
          4.6,
          5.3,
          5,
          7,
          6.4,
          6.9,
          5.5,
          6.5,
          5.7,
          6.3,
          4.9,
          6.6,
          5.2,
          5,
          5.9,
          6,
          6.1,
          5.6,
          6.7,
          5.6,
          5.8,
          6.2,
          5.6,
          5.9,
          6.1,
          6.3,
          6.1,
          6.4,
          6.6,
          6.8,
          6.7,
          6,
          5.7,
          5.5,
          5.5,
          5.8,
          6,
          5.4,
          6,
          6.7,
          6.3,
          5.6,
          5.5,
          5.5,
          6.1,
          5.8,
          5,
          5.6,
          5.7,
          5.7,
          6.2,
          5.1,
          5.7,
          6.3,
          5.8,
          7.1,
          6.3,
          6.5,
          7.6,
          4.9,
          7.3,
          6.7,
          7.2,
          6.5,
          6.4,
          6.8,
          5.7,
          5.8,
          6.4,
          6.5,
          7.7,
          7.7,
          6,
          6.9,
          5.6,
          7.7,
          6.3,
          6.7,
          7.2,
          6.2,
          6.1,
          6.4,
          7.2,
          7.4,
          7.9,
          6.4,
          6.3,
          6.1,
          7.7,
          6.3,
          6.4,
          6,
          6.9,
          6.7,
          6.9,
          5.8,
          6.8,
          6.7,
          6.7,
          6.3,
          6.5,
          6.2,
          5.9,
          3.5,
          3,
          3.2,
          3.1,
          3.6,
          3.9,
          3.4,
          3.4,
          2.9,
          3.1,
          3.7,
          3.4,
          3,
          3,
          4,
          4.4,
          3.9,
          3.5,
          3.8,
          3.8,
          3.4,
          3.7,
          3.6,
          3.3,
          3.4,
          3,
          3.4,
          3.5,
          3.4,
          3.2,
          3.1,
          3.4,
          4.1,
          4.2,
          3.1,
          3.2,
          3.5,
          3.6,
          3,
          3.4,
          3.5,
          2.3,
          3.2,
          3.5,
          3.8,
          3,
          3.8,
          3.2,
          3.7,
          3.3,
          3.2,
          3.2,
          3.1,
          2.3,
          2.8,
          2.8,
          3.3,
          2.4,
          2.9,
          2.7,
          2,
          3,
          2.2,
          2.9,
          2.9,
          3.1,
          3,
          2.7,
          2.2,
          2.5,
          3.2,
          2.8,
          2.5,
          2.8,
          2.9,
          3,
          2.8,
          3,
          2.9,
          2.6,
          2.4,
          2.4,
          2.7,
          2.7,
          3,
          3.4,
          3.1,
          2.3,
          3,
          2.5,
          2.6,
          3,
          2.6,
          2.3,
          2.7,
          3,
          2.9,
          2.9,
          2.5,
          2.8,
          3.3,
          2.7,
          3,
          2.9,
          3,
          3,
          2.5,
          2.9,
          2.5,
          3.6,
          3.2,
          2.7,
          3,
          2.5,
          2.8,
          3.2,
          3,
          3.8,
          2.6,
          2.2,
          3.2,
          2.8,
          2.8,
          2.7,
          3.3,
          3.2,
          2.8,
          3,
          2.8,
          3,
          2.8,
          3.8,
          2.8,
          2.8,
          2.6,
          3,
          3.4,
          3.1,
          3,
          3.1,
          3.1,
          3.1,
          2.7,
          3.2,
          3.3,
          3,
          2.5,
          3,
          3.4,
          3,
          1.4,
          1.4,
          1.3,
          1.5,
          1.4,
          1.7,
          1.4,
          1.5,
          1.4,
          1.5,
          1.5,
          1.6,
          1.4,
          1.1,
          1.2,
          1.5,
          1.3,
          1.4,
          1.7,
          1.5,
          1.7,
          1.5,
          1,
          1.7,
          1.9,
          1.6,
          1.6,
          1.5,
          1.4,
          1.6,
          1.6,
          1.5,
          1.5,
          1.4,
          1.5,
          1.2,
          1.3,
          1.4,
          1.3,
          1.5,
          1.3,
          1.3,
          1.3,
          1.6,
          1.9,
          1.4,
          1.6,
          1.4,
          1.5,
          1.4,
          4.7,
          4.5,
          4.9,
          4,
          4.6,
          4.5,
          4.7,
          3.3,
          4.6,
          3.9,
          3.5,
          4.2,
          4,
          4.7,
          3.6,
          4.4,
          4.5,
          4.1,
          4.5,
          3.9,
          4.8,
          4,
          4.9,
          4.7,
          4.3,
          4.4,
          4.8,
          5,
          4.5,
          3.5,
          3.8,
          3.7,
          3.9,
          5.1,
          4.5,
          4.5,
          4.7,
          4.4,
          4.1,
          4,
          4.4,
          4.6,
          4,
          3.3,
          4.2,
          4.2,
          4.2,
          4.3,
          3,
          4.1,
          6,
          5.1,
          5.9,
          5.6,
          5.8,
          6.6,
          4.5,
          6.3,
          5.8,
          6.1,
          5.1,
          5.3,
          5.5,
          5,
          5.1,
          5.3,
          5.5,
          6.7,
          6.9,
          5,
          5.7,
          4.9,
          6.7,
          4.9,
          5.7,
          6,
          4.8,
          4.9,
          5.6,
          5.8,
          6.1,
          6.4,
          5.6,
          5.1,
          5.6,
          6.1,
          5.6,
          5.5,
          4.8,
          5.4,
          5.6,
          5.1,
          5.1,
          5.9,
          5.7,
          5.2,
          5,
          5.2,
          5.4,
          5.1,
          0.2,
          0.2,
          0.2,
          0.2,
          0.2,
          0.4,
          0.3,
          0.2,
          0.2,
          0.1,
          0.2,
          0.2,
          0.1,
          0.1,
          0.2,
          0.4,
          0.4,
          0.3,
          0.3,
          0.3,
          0.2,
          0.4,
          0.2,
          0.5,
          0.2,
          0.2,
          0.4,
          0.2,
          0.2,
          0.2,
          0.2,
          0.4,
          0.1,
          0.2,
          0.2,
          0.2,
          0.2,
          0.1,
          0.2,
          0.2,
          0.3,
          0.3,
          0.2,
          0.6,
          0.4,
          0.3,
          0.2,
          0.2,
          0.2,
          0.2,
          1.4,
          1.5,
          1.5,
          1.3,
          1.5,
          1.3,
          1.6,
          1,
          1.3,
          1.4,
          1,
          1.5,
          1,
          1.4,
          1.3,
          1.4,
          1.5,
          1,
          1.5,
          1.1,
          1.8,
          1.3,
          1.5,
          1.2,
          1.3,
          1.4,
          1.4,
          1.7,
          1.5,
          1,
          1.1,
          1,
          1.2,
          1.6,
          1.5,
          1.6,
          1.5,
          1.3,
          1.3,
          1.3,
          1.2,
          1.4,
          1.2,
          1,
          1.3,
          1.2,
          1.3,
          1.3,
          1.1,
          1.3,
          2.5,
          1.9,
          2.1,
          1.8,
          2.2,
          2.1,
          1.7,
          1.8,
          1.8,
          2.5,
          2,
          1.9,
          2.1,
          2,
          2.4,
          2.3,
          1.8,
          2.2,
          2.3,
          1.5,
          2.3,
          2,
          2,
          1.8,
          2.1,
          1.8,
          1.8,
          1.8,
          2.1,
          1.6,
          1.9,
          2,
          2.2,
          1.5,
          1.4,
          2.3,
          2.4,
          1.8,
          1.8,
          2.1,
          2.4,
          2.3,
          1.9,
          2.3,
          2.5,
          2.3,
          1.9,
          2,
          2.3,
          1.8
         ],
         "x0": " ",
         "xaxis": "x",
         "y": [
          "sepal length (cm)",
          "sepal length (cm)",
          "sepal length (cm)",
          "sepal length (cm)",
          "sepal length (cm)",
          "sepal length (cm)",
          "sepal length (cm)",
          "sepal length (cm)",
          "sepal length (cm)",
          "sepal length (cm)",
          "sepal length (cm)",
          "sepal length (cm)",
          "sepal length (cm)",
          "sepal length (cm)",
          "sepal length (cm)",
          "sepal length (cm)",
          "sepal length (cm)",
          "sepal length (cm)",
          "sepal length (cm)",
          "sepal length (cm)",
          "sepal length (cm)",
          "sepal length (cm)",
          "sepal length (cm)",
          "sepal length (cm)",
          "sepal length (cm)",
          "sepal length (cm)",
          "sepal length (cm)",
          "sepal length (cm)",
          "sepal length (cm)",
          "sepal length (cm)",
          "sepal length (cm)",
          "sepal length (cm)",
          "sepal length (cm)",
          "sepal length (cm)",
          "sepal length (cm)",
          "sepal length (cm)",
          "sepal length (cm)",
          "sepal length (cm)",
          "sepal length (cm)",
          "sepal length (cm)",
          "sepal length (cm)",
          "sepal length (cm)",
          "sepal length (cm)",
          "sepal length (cm)",
          "sepal length (cm)",
          "sepal length (cm)",
          "sepal length (cm)",
          "sepal length (cm)",
          "sepal length (cm)",
          "sepal length (cm)",
          "sepal length (cm)",
          "sepal length (cm)",
          "sepal length (cm)",
          "sepal length (cm)",
          "sepal length (cm)",
          "sepal length (cm)",
          "sepal length (cm)",
          "sepal length (cm)",
          "sepal length (cm)",
          "sepal length (cm)",
          "sepal length (cm)",
          "sepal length (cm)",
          "sepal length (cm)",
          "sepal length (cm)",
          "sepal length (cm)",
          "sepal length (cm)",
          "sepal length (cm)",
          "sepal length (cm)",
          "sepal length (cm)",
          "sepal length (cm)",
          "sepal length (cm)",
          "sepal length (cm)",
          "sepal length (cm)",
          "sepal length (cm)",
          "sepal length (cm)",
          "sepal length (cm)",
          "sepal length (cm)",
          "sepal length (cm)",
          "sepal length (cm)",
          "sepal length (cm)",
          "sepal length (cm)",
          "sepal length (cm)",
          "sepal length (cm)",
          "sepal length (cm)",
          "sepal length (cm)",
          "sepal length (cm)",
          "sepal length (cm)",
          "sepal length (cm)",
          "sepal length (cm)",
          "sepal length (cm)",
          "sepal length (cm)",
          "sepal length (cm)",
          "sepal length (cm)",
          "sepal length (cm)",
          "sepal length (cm)",
          "sepal length (cm)",
          "sepal length (cm)",
          "sepal length (cm)",
          "sepal length (cm)",
          "sepal length (cm)",
          "sepal length (cm)",
          "sepal length (cm)",
          "sepal length (cm)",
          "sepal length (cm)",
          "sepal length (cm)",
          "sepal length (cm)",
          "sepal length (cm)",
          "sepal length (cm)",
          "sepal length (cm)",
          "sepal length (cm)",
          "sepal length (cm)",
          "sepal length (cm)",
          "sepal length (cm)",
          "sepal length (cm)",
          "sepal length (cm)",
          "sepal length (cm)",
          "sepal length (cm)",
          "sepal length (cm)",
          "sepal length (cm)",
          "sepal length (cm)",
          "sepal length (cm)",
          "sepal length (cm)",
          "sepal length (cm)",
          "sepal length (cm)",
          "sepal length (cm)",
          "sepal length (cm)",
          "sepal length (cm)",
          "sepal length (cm)",
          "sepal length (cm)",
          "sepal length (cm)",
          "sepal length (cm)",
          "sepal length (cm)",
          "sepal length (cm)",
          "sepal length (cm)",
          "sepal length (cm)",
          "sepal length (cm)",
          "sepal length (cm)",
          "sepal length (cm)",
          "sepal length (cm)",
          "sepal length (cm)",
          "sepal length (cm)",
          "sepal length (cm)",
          "sepal length (cm)",
          "sepal length (cm)",
          "sepal length (cm)",
          "sepal length (cm)",
          "sepal length (cm)",
          "sepal length (cm)",
          "sepal length (cm)",
          "sepal length (cm)",
          "sepal width (cm)",
          "sepal width (cm)",
          "sepal width (cm)",
          "sepal width (cm)",
          "sepal width (cm)",
          "sepal width (cm)",
          "sepal width (cm)",
          "sepal width (cm)",
          "sepal width (cm)",
          "sepal width (cm)",
          "sepal width (cm)",
          "sepal width (cm)",
          "sepal width (cm)",
          "sepal width (cm)",
          "sepal width (cm)",
          "sepal width (cm)",
          "sepal width (cm)",
          "sepal width (cm)",
          "sepal width (cm)",
          "sepal width (cm)",
          "sepal width (cm)",
          "sepal width (cm)",
          "sepal width (cm)",
          "sepal width (cm)",
          "sepal width (cm)",
          "sepal width (cm)",
          "sepal width (cm)",
          "sepal width (cm)",
          "sepal width (cm)",
          "sepal width (cm)",
          "sepal width (cm)",
          "sepal width (cm)",
          "sepal width (cm)",
          "sepal width (cm)",
          "sepal width (cm)",
          "sepal width (cm)",
          "sepal width (cm)",
          "sepal width (cm)",
          "sepal width (cm)",
          "sepal width (cm)",
          "sepal width (cm)",
          "sepal width (cm)",
          "sepal width (cm)",
          "sepal width (cm)",
          "sepal width (cm)",
          "sepal width (cm)",
          "sepal width (cm)",
          "sepal width (cm)",
          "sepal width (cm)",
          "sepal width (cm)",
          "sepal width (cm)",
          "sepal width (cm)",
          "sepal width (cm)",
          "sepal width (cm)",
          "sepal width (cm)",
          "sepal width (cm)",
          "sepal width (cm)",
          "sepal width (cm)",
          "sepal width (cm)",
          "sepal width (cm)",
          "sepal width (cm)",
          "sepal width (cm)",
          "sepal width (cm)",
          "sepal width (cm)",
          "sepal width (cm)",
          "sepal width (cm)",
          "sepal width (cm)",
          "sepal width (cm)",
          "sepal width (cm)",
          "sepal width (cm)",
          "sepal width (cm)",
          "sepal width (cm)",
          "sepal width (cm)",
          "sepal width (cm)",
          "sepal width (cm)",
          "sepal width (cm)",
          "sepal width (cm)",
          "sepal width (cm)",
          "sepal width (cm)",
          "sepal width (cm)",
          "sepal width (cm)",
          "sepal width (cm)",
          "sepal width (cm)",
          "sepal width (cm)",
          "sepal width (cm)",
          "sepal width (cm)",
          "sepal width (cm)",
          "sepal width (cm)",
          "sepal width (cm)",
          "sepal width (cm)",
          "sepal width (cm)",
          "sepal width (cm)",
          "sepal width (cm)",
          "sepal width (cm)",
          "sepal width (cm)",
          "sepal width (cm)",
          "sepal width (cm)",
          "sepal width (cm)",
          "sepal width (cm)",
          "sepal width (cm)",
          "sepal width (cm)",
          "sepal width (cm)",
          "sepal width (cm)",
          "sepal width (cm)",
          "sepal width (cm)",
          "sepal width (cm)",
          "sepal width (cm)",
          "sepal width (cm)",
          "sepal width (cm)",
          "sepal width (cm)",
          "sepal width (cm)",
          "sepal width (cm)",
          "sepal width (cm)",
          "sepal width (cm)",
          "sepal width (cm)",
          "sepal width (cm)",
          "sepal width (cm)",
          "sepal width (cm)",
          "sepal width (cm)",
          "sepal width (cm)",
          "sepal width (cm)",
          "sepal width (cm)",
          "sepal width (cm)",
          "sepal width (cm)",
          "sepal width (cm)",
          "sepal width (cm)",
          "sepal width (cm)",
          "sepal width (cm)",
          "sepal width (cm)",
          "sepal width (cm)",
          "sepal width (cm)",
          "sepal width (cm)",
          "sepal width (cm)",
          "sepal width (cm)",
          "sepal width (cm)",
          "sepal width (cm)",
          "sepal width (cm)",
          "sepal width (cm)",
          "sepal width (cm)",
          "sepal width (cm)",
          "sepal width (cm)",
          "sepal width (cm)",
          "sepal width (cm)",
          "sepal width (cm)",
          "sepal width (cm)",
          "sepal width (cm)",
          "sepal width (cm)",
          "sepal width (cm)",
          "sepal width (cm)",
          "sepal width (cm)",
          "petal length (cm)",
          "petal length (cm)",
          "petal length (cm)",
          "petal length (cm)",
          "petal length (cm)",
          "petal length (cm)",
          "petal length (cm)",
          "petal length (cm)",
          "petal length (cm)",
          "petal length (cm)",
          "petal length (cm)",
          "petal length (cm)",
          "petal length (cm)",
          "petal length (cm)",
          "petal length (cm)",
          "petal length (cm)",
          "petal length (cm)",
          "petal length (cm)",
          "petal length (cm)",
          "petal length (cm)",
          "petal length (cm)",
          "petal length (cm)",
          "petal length (cm)",
          "petal length (cm)",
          "petal length (cm)",
          "petal length (cm)",
          "petal length (cm)",
          "petal length (cm)",
          "petal length (cm)",
          "petal length (cm)",
          "petal length (cm)",
          "petal length (cm)",
          "petal length (cm)",
          "petal length (cm)",
          "petal length (cm)",
          "petal length (cm)",
          "petal length (cm)",
          "petal length (cm)",
          "petal length (cm)",
          "petal length (cm)",
          "petal length (cm)",
          "petal length (cm)",
          "petal length (cm)",
          "petal length (cm)",
          "petal length (cm)",
          "petal length (cm)",
          "petal length (cm)",
          "petal length (cm)",
          "petal length (cm)",
          "petal length (cm)",
          "petal length (cm)",
          "petal length (cm)",
          "petal length (cm)",
          "petal length (cm)",
          "petal length (cm)",
          "petal length (cm)",
          "petal length (cm)",
          "petal length (cm)",
          "petal length (cm)",
          "petal length (cm)",
          "petal length (cm)",
          "petal length (cm)",
          "petal length (cm)",
          "petal length (cm)",
          "petal length (cm)",
          "petal length (cm)",
          "petal length (cm)",
          "petal length (cm)",
          "petal length (cm)",
          "petal length (cm)",
          "petal length (cm)",
          "petal length (cm)",
          "petal length (cm)",
          "petal length (cm)",
          "petal length (cm)",
          "petal length (cm)",
          "petal length (cm)",
          "petal length (cm)",
          "petal length (cm)",
          "petal length (cm)",
          "petal length (cm)",
          "petal length (cm)",
          "petal length (cm)",
          "petal length (cm)",
          "petal length (cm)",
          "petal length (cm)",
          "petal length (cm)",
          "petal length (cm)",
          "petal length (cm)",
          "petal length (cm)",
          "petal length (cm)",
          "petal length (cm)",
          "petal length (cm)",
          "petal length (cm)",
          "petal length (cm)",
          "petal length (cm)",
          "petal length (cm)",
          "petal length (cm)",
          "petal length (cm)",
          "petal length (cm)",
          "petal length (cm)",
          "petal length (cm)",
          "petal length (cm)",
          "petal length (cm)",
          "petal length (cm)",
          "petal length (cm)",
          "petal length (cm)",
          "petal length (cm)",
          "petal length (cm)",
          "petal length (cm)",
          "petal length (cm)",
          "petal length (cm)",
          "petal length (cm)",
          "petal length (cm)",
          "petal length (cm)",
          "petal length (cm)",
          "petal length (cm)",
          "petal length (cm)",
          "petal length (cm)",
          "petal length (cm)",
          "petal length (cm)",
          "petal length (cm)",
          "petal length (cm)",
          "petal length (cm)",
          "petal length (cm)",
          "petal length (cm)",
          "petal length (cm)",
          "petal length (cm)",
          "petal length (cm)",
          "petal length (cm)",
          "petal length (cm)",
          "petal length (cm)",
          "petal length (cm)",
          "petal length (cm)",
          "petal length (cm)",
          "petal length (cm)",
          "petal length (cm)",
          "petal length (cm)",
          "petal length (cm)",
          "petal length (cm)",
          "petal length (cm)",
          "petal length (cm)",
          "petal length (cm)",
          "petal length (cm)",
          "petal length (cm)",
          "petal length (cm)",
          "petal length (cm)",
          "petal length (cm)",
          "petal length (cm)",
          "petal length (cm)",
          "petal width (cm)",
          "petal width (cm)",
          "petal width (cm)",
          "petal width (cm)",
          "petal width (cm)",
          "petal width (cm)",
          "petal width (cm)",
          "petal width (cm)",
          "petal width (cm)",
          "petal width (cm)",
          "petal width (cm)",
          "petal width (cm)",
          "petal width (cm)",
          "petal width (cm)",
          "petal width (cm)",
          "petal width (cm)",
          "petal width (cm)",
          "petal width (cm)",
          "petal width (cm)",
          "petal width (cm)",
          "petal width (cm)",
          "petal width (cm)",
          "petal width (cm)",
          "petal width (cm)",
          "petal width (cm)",
          "petal width (cm)",
          "petal width (cm)",
          "petal width (cm)",
          "petal width (cm)",
          "petal width (cm)",
          "petal width (cm)",
          "petal width (cm)",
          "petal width (cm)",
          "petal width (cm)",
          "petal width (cm)",
          "petal width (cm)",
          "petal width (cm)",
          "petal width (cm)",
          "petal width (cm)",
          "petal width (cm)",
          "petal width (cm)",
          "petal width (cm)",
          "petal width (cm)",
          "petal width (cm)",
          "petal width (cm)",
          "petal width (cm)",
          "petal width (cm)",
          "petal width (cm)",
          "petal width (cm)",
          "petal width (cm)",
          "petal width (cm)",
          "petal width (cm)",
          "petal width (cm)",
          "petal width (cm)",
          "petal width (cm)",
          "petal width (cm)",
          "petal width (cm)",
          "petal width (cm)",
          "petal width (cm)",
          "petal width (cm)",
          "petal width (cm)",
          "petal width (cm)",
          "petal width (cm)",
          "petal width (cm)",
          "petal width (cm)",
          "petal width (cm)",
          "petal width (cm)",
          "petal width (cm)",
          "petal width (cm)",
          "petal width (cm)",
          "petal width (cm)",
          "petal width (cm)",
          "petal width (cm)",
          "petal width (cm)",
          "petal width (cm)",
          "petal width (cm)",
          "petal width (cm)",
          "petal width (cm)",
          "petal width (cm)",
          "petal width (cm)",
          "petal width (cm)",
          "petal width (cm)",
          "petal width (cm)",
          "petal width (cm)",
          "petal width (cm)",
          "petal width (cm)",
          "petal width (cm)",
          "petal width (cm)",
          "petal width (cm)",
          "petal width (cm)",
          "petal width (cm)",
          "petal width (cm)",
          "petal width (cm)",
          "petal width (cm)",
          "petal width (cm)",
          "petal width (cm)",
          "petal width (cm)",
          "petal width (cm)",
          "petal width (cm)",
          "petal width (cm)",
          "petal width (cm)",
          "petal width (cm)",
          "petal width (cm)",
          "petal width (cm)",
          "petal width (cm)",
          "petal width (cm)",
          "petal width (cm)",
          "petal width (cm)",
          "petal width (cm)",
          "petal width (cm)",
          "petal width (cm)",
          "petal width (cm)",
          "petal width (cm)",
          "petal width (cm)",
          "petal width (cm)",
          "petal width (cm)",
          "petal width (cm)",
          "petal width (cm)",
          "petal width (cm)",
          "petal width (cm)",
          "petal width (cm)",
          "petal width (cm)",
          "petal width (cm)",
          "petal width (cm)",
          "petal width (cm)",
          "petal width (cm)",
          "petal width (cm)",
          "petal width (cm)",
          "petal width (cm)",
          "petal width (cm)",
          "petal width (cm)",
          "petal width (cm)",
          "petal width (cm)",
          "petal width (cm)",
          "petal width (cm)",
          "petal width (cm)",
          "petal width (cm)",
          "petal width (cm)",
          "petal width (cm)",
          "petal width (cm)",
          "petal width (cm)",
          "petal width (cm)",
          "petal width (cm)",
          "petal width (cm)",
          "petal width (cm)",
          "petal width (cm)",
          "petal width (cm)",
          "petal width (cm)",
          "petal width (cm)",
          "petal width (cm)"
         ],
         "y0": " ",
         "yaxis": "y"
        }
       ],
       "layout": {
        "boxmode": "group",
        "legend": {
         "tracegroupgap": 0
        },
        "margin": {
         "t": 60
        },
        "template": {
         "data": {
          "bar": [
           {
            "error_x": {
             "color": "#2a3f5f"
            },
            "error_y": {
             "color": "#2a3f5f"
            },
            "marker": {
             "line": {
              "color": "#E5ECF6",
              "width": 0.5
             },
             "pattern": {
              "fillmode": "overlay",
              "size": 10,
              "solidity": 0.2
             }
            },
            "type": "bar"
           }
          ],
          "barpolar": [
           {
            "marker": {
             "line": {
              "color": "#E5ECF6",
              "width": 0.5
             },
             "pattern": {
              "fillmode": "overlay",
              "size": 10,
              "solidity": 0.2
             }
            },
            "type": "barpolar"
           }
          ],
          "carpet": [
           {
            "aaxis": {
             "endlinecolor": "#2a3f5f",
             "gridcolor": "white",
             "linecolor": "white",
             "minorgridcolor": "white",
             "startlinecolor": "#2a3f5f"
            },
            "baxis": {
             "endlinecolor": "#2a3f5f",
             "gridcolor": "white",
             "linecolor": "white",
             "minorgridcolor": "white",
             "startlinecolor": "#2a3f5f"
            },
            "type": "carpet"
           }
          ],
          "choropleth": [
           {
            "colorbar": {
             "outlinewidth": 0,
             "ticks": ""
            },
            "type": "choropleth"
           }
          ],
          "contour": [
           {
            "colorbar": {
             "outlinewidth": 0,
             "ticks": ""
            },
            "colorscale": [
             [
              0,
              "#0d0887"
             ],
             [
              0.1111111111111111,
              "#46039f"
             ],
             [
              0.2222222222222222,
              "#7201a8"
             ],
             [
              0.3333333333333333,
              "#9c179e"
             ],
             [
              0.4444444444444444,
              "#bd3786"
             ],
             [
              0.5555555555555556,
              "#d8576b"
             ],
             [
              0.6666666666666666,
              "#ed7953"
             ],
             [
              0.7777777777777778,
              "#fb9f3a"
             ],
             [
              0.8888888888888888,
              "#fdca26"
             ],
             [
              1,
              "#f0f921"
             ]
            ],
            "type": "contour"
           }
          ],
          "contourcarpet": [
           {
            "colorbar": {
             "outlinewidth": 0,
             "ticks": ""
            },
            "type": "contourcarpet"
           }
          ],
          "heatmap": [
           {
            "colorbar": {
             "outlinewidth": 0,
             "ticks": ""
            },
            "colorscale": [
             [
              0,
              "#0d0887"
             ],
             [
              0.1111111111111111,
              "#46039f"
             ],
             [
              0.2222222222222222,
              "#7201a8"
             ],
             [
              0.3333333333333333,
              "#9c179e"
             ],
             [
              0.4444444444444444,
              "#bd3786"
             ],
             [
              0.5555555555555556,
              "#d8576b"
             ],
             [
              0.6666666666666666,
              "#ed7953"
             ],
             [
              0.7777777777777778,
              "#fb9f3a"
             ],
             [
              0.8888888888888888,
              "#fdca26"
             ],
             [
              1,
              "#f0f921"
             ]
            ],
            "type": "heatmap"
           }
          ],
          "heatmapgl": [
           {
            "colorbar": {
             "outlinewidth": 0,
             "ticks": ""
            },
            "colorscale": [
             [
              0,
              "#0d0887"
             ],
             [
              0.1111111111111111,
              "#46039f"
             ],
             [
              0.2222222222222222,
              "#7201a8"
             ],
             [
              0.3333333333333333,
              "#9c179e"
             ],
             [
              0.4444444444444444,
              "#bd3786"
             ],
             [
              0.5555555555555556,
              "#d8576b"
             ],
             [
              0.6666666666666666,
              "#ed7953"
             ],
             [
              0.7777777777777778,
              "#fb9f3a"
             ],
             [
              0.8888888888888888,
              "#fdca26"
             ],
             [
              1,
              "#f0f921"
             ]
            ],
            "type": "heatmapgl"
           }
          ],
          "histogram": [
           {
            "marker": {
             "pattern": {
              "fillmode": "overlay",
              "size": 10,
              "solidity": 0.2
             }
            },
            "type": "histogram"
           }
          ],
          "histogram2d": [
           {
            "colorbar": {
             "outlinewidth": 0,
             "ticks": ""
            },
            "colorscale": [
             [
              0,
              "#0d0887"
             ],
             [
              0.1111111111111111,
              "#46039f"
             ],
             [
              0.2222222222222222,
              "#7201a8"
             ],
             [
              0.3333333333333333,
              "#9c179e"
             ],
             [
              0.4444444444444444,
              "#bd3786"
             ],
             [
              0.5555555555555556,
              "#d8576b"
             ],
             [
              0.6666666666666666,
              "#ed7953"
             ],
             [
              0.7777777777777778,
              "#fb9f3a"
             ],
             [
              0.8888888888888888,
              "#fdca26"
             ],
             [
              1,
              "#f0f921"
             ]
            ],
            "type": "histogram2d"
           }
          ],
          "histogram2dcontour": [
           {
            "colorbar": {
             "outlinewidth": 0,
             "ticks": ""
            },
            "colorscale": [
             [
              0,
              "#0d0887"
             ],
             [
              0.1111111111111111,
              "#46039f"
             ],
             [
              0.2222222222222222,
              "#7201a8"
             ],
             [
              0.3333333333333333,
              "#9c179e"
             ],
             [
              0.4444444444444444,
              "#bd3786"
             ],
             [
              0.5555555555555556,
              "#d8576b"
             ],
             [
              0.6666666666666666,
              "#ed7953"
             ],
             [
              0.7777777777777778,
              "#fb9f3a"
             ],
             [
              0.8888888888888888,
              "#fdca26"
             ],
             [
              1,
              "#f0f921"
             ]
            ],
            "type": "histogram2dcontour"
           }
          ],
          "mesh3d": [
           {
            "colorbar": {
             "outlinewidth": 0,
             "ticks": ""
            },
            "type": "mesh3d"
           }
          ],
          "parcoords": [
           {
            "line": {
             "colorbar": {
              "outlinewidth": 0,
              "ticks": ""
             }
            },
            "type": "parcoords"
           }
          ],
          "pie": [
           {
            "automargin": true,
            "type": "pie"
           }
          ],
          "scatter": [
           {
            "marker": {
             "colorbar": {
              "outlinewidth": 0,
              "ticks": ""
             }
            },
            "type": "scatter"
           }
          ],
          "scatter3d": [
           {
            "line": {
             "colorbar": {
              "outlinewidth": 0,
              "ticks": ""
             }
            },
            "marker": {
             "colorbar": {
              "outlinewidth": 0,
              "ticks": ""
             }
            },
            "type": "scatter3d"
           }
          ],
          "scattercarpet": [
           {
            "marker": {
             "colorbar": {
              "outlinewidth": 0,
              "ticks": ""
             }
            },
            "type": "scattercarpet"
           }
          ],
          "scattergeo": [
           {
            "marker": {
             "colorbar": {
              "outlinewidth": 0,
              "ticks": ""
             }
            },
            "type": "scattergeo"
           }
          ],
          "scattergl": [
           {
            "marker": {
             "colorbar": {
              "outlinewidth": 0,
              "ticks": ""
             }
            },
            "type": "scattergl"
           }
          ],
          "scattermapbox": [
           {
            "marker": {
             "colorbar": {
              "outlinewidth": 0,
              "ticks": ""
             }
            },
            "type": "scattermapbox"
           }
          ],
          "scatterpolar": [
           {
            "marker": {
             "colorbar": {
              "outlinewidth": 0,
              "ticks": ""
             }
            },
            "type": "scatterpolar"
           }
          ],
          "scatterpolargl": [
           {
            "marker": {
             "colorbar": {
              "outlinewidth": 0,
              "ticks": ""
             }
            },
            "type": "scatterpolargl"
           }
          ],
          "scatterternary": [
           {
            "marker": {
             "colorbar": {
              "outlinewidth": 0,
              "ticks": ""
             }
            },
            "type": "scatterternary"
           }
          ],
          "surface": [
           {
            "colorbar": {
             "outlinewidth": 0,
             "ticks": ""
            },
            "colorscale": [
             [
              0,
              "#0d0887"
             ],
             [
              0.1111111111111111,
              "#46039f"
             ],
             [
              0.2222222222222222,
              "#7201a8"
             ],
             [
              0.3333333333333333,
              "#9c179e"
             ],
             [
              0.4444444444444444,
              "#bd3786"
             ],
             [
              0.5555555555555556,
              "#d8576b"
             ],
             [
              0.6666666666666666,
              "#ed7953"
             ],
             [
              0.7777777777777778,
              "#fb9f3a"
             ],
             [
              0.8888888888888888,
              "#fdca26"
             ],
             [
              1,
              "#f0f921"
             ]
            ],
            "type": "surface"
           }
          ],
          "table": [
           {
            "cells": {
             "fill": {
              "color": "#EBF0F8"
             },
             "line": {
              "color": "white"
             }
            },
            "header": {
             "fill": {
              "color": "#C8D4E3"
             },
             "line": {
              "color": "white"
             }
            },
            "type": "table"
           }
          ]
         },
         "layout": {
          "annotationdefaults": {
           "arrowcolor": "#2a3f5f",
           "arrowhead": 0,
           "arrowwidth": 1
          },
          "autotypenumbers": "strict",
          "coloraxis": {
           "colorbar": {
            "outlinewidth": 0,
            "ticks": ""
           }
          },
          "colorscale": {
           "diverging": [
            [
             0,
             "#8e0152"
            ],
            [
             0.1,
             "#c51b7d"
            ],
            [
             0.2,
             "#de77ae"
            ],
            [
             0.3,
             "#f1b6da"
            ],
            [
             0.4,
             "#fde0ef"
            ],
            [
             0.5,
             "#f7f7f7"
            ],
            [
             0.6,
             "#e6f5d0"
            ],
            [
             0.7,
             "#b8e186"
            ],
            [
             0.8,
             "#7fbc41"
            ],
            [
             0.9,
             "#4d9221"
            ],
            [
             1,
             "#276419"
            ]
           ],
           "sequential": [
            [
             0,
             "#0d0887"
            ],
            [
             0.1111111111111111,
             "#46039f"
            ],
            [
             0.2222222222222222,
             "#7201a8"
            ],
            [
             0.3333333333333333,
             "#9c179e"
            ],
            [
             0.4444444444444444,
             "#bd3786"
            ],
            [
             0.5555555555555556,
             "#d8576b"
            ],
            [
             0.6666666666666666,
             "#ed7953"
            ],
            [
             0.7777777777777778,
             "#fb9f3a"
            ],
            [
             0.8888888888888888,
             "#fdca26"
            ],
            [
             1,
             "#f0f921"
            ]
           ],
           "sequentialminus": [
            [
             0,
             "#0d0887"
            ],
            [
             0.1111111111111111,
             "#46039f"
            ],
            [
             0.2222222222222222,
             "#7201a8"
            ],
            [
             0.3333333333333333,
             "#9c179e"
            ],
            [
             0.4444444444444444,
             "#bd3786"
            ],
            [
             0.5555555555555556,
             "#d8576b"
            ],
            [
             0.6666666666666666,
             "#ed7953"
            ],
            [
             0.7777777777777778,
             "#fb9f3a"
            ],
            [
             0.8888888888888888,
             "#fdca26"
            ],
            [
             1,
             "#f0f921"
            ]
           ]
          },
          "colorway": [
           "#636efa",
           "#EF553B",
           "#00cc96",
           "#ab63fa",
           "#FFA15A",
           "#19d3f3",
           "#FF6692",
           "#B6E880",
           "#FF97FF",
           "#FECB52"
          ],
          "font": {
           "color": "#2a3f5f"
          },
          "geo": {
           "bgcolor": "white",
           "lakecolor": "white",
           "landcolor": "#E5ECF6",
           "showlakes": true,
           "showland": true,
           "subunitcolor": "white"
          },
          "hoverlabel": {
           "align": "left"
          },
          "hovermode": "closest",
          "mapbox": {
           "style": "light"
          },
          "paper_bgcolor": "white",
          "plot_bgcolor": "#E5ECF6",
          "polar": {
           "angularaxis": {
            "gridcolor": "white",
            "linecolor": "white",
            "ticks": ""
           },
           "bgcolor": "#E5ECF6",
           "radialaxis": {
            "gridcolor": "white",
            "linecolor": "white",
            "ticks": ""
           }
          },
          "scene": {
           "xaxis": {
            "backgroundcolor": "#E5ECF6",
            "gridcolor": "white",
            "gridwidth": 2,
            "linecolor": "white",
            "showbackground": true,
            "ticks": "",
            "zerolinecolor": "white"
           },
           "yaxis": {
            "backgroundcolor": "#E5ECF6",
            "gridcolor": "white",
            "gridwidth": 2,
            "linecolor": "white",
            "showbackground": true,
            "ticks": "",
            "zerolinecolor": "white"
           },
           "zaxis": {
            "backgroundcolor": "#E5ECF6",
            "gridcolor": "white",
            "gridwidth": 2,
            "linecolor": "white",
            "showbackground": true,
            "ticks": "",
            "zerolinecolor": "white"
           }
          },
          "shapedefaults": {
           "line": {
            "color": "#2a3f5f"
           }
          },
          "ternary": {
           "aaxis": {
            "gridcolor": "white",
            "linecolor": "white",
            "ticks": ""
           },
           "baxis": {
            "gridcolor": "white",
            "linecolor": "white",
            "ticks": ""
           },
           "bgcolor": "#E5ECF6",
           "caxis": {
            "gridcolor": "white",
            "linecolor": "white",
            "ticks": ""
           }
          },
          "title": {
           "x": 0.05
          },
          "xaxis": {
           "automargin": true,
           "gridcolor": "white",
           "linecolor": "white",
           "ticks": "",
           "title": {
            "standoff": 15
           },
           "zerolinecolor": "white",
           "zerolinewidth": 2
          },
          "yaxis": {
           "automargin": true,
           "gridcolor": "white",
           "linecolor": "white",
           "ticks": "",
           "title": {
            "standoff": 15
           },
           "zerolinecolor": "white",
           "zerolinewidth": 2
          }
         }
        },
        "xaxis": {
         "anchor": "y",
         "domain": [
          0,
          1
         ],
         "title": {
          "text": "value"
         }
        },
        "yaxis": {
         "anchor": "x",
         "domain": [
          0,
          1
         ],
         "title": {
          "text": "variable"
         }
        }
       }
      },
      "text/html": [
       "<div>                            <div id=\"41f979c5-d377-46f3-b2c3-fbb9601c2c4a\" class=\"plotly-graph-div\" style=\"height:525px; width:100%;\"></div>            <script type=\"text/javascript\">                require([\"plotly\"], function(Plotly) {                    window.PLOTLYENV=window.PLOTLYENV || {};                                    if (document.getElementById(\"41f979c5-d377-46f3-b2c3-fbb9601c2c4a\")) {                    Plotly.newPlot(                        \"41f979c5-d377-46f3-b2c3-fbb9601c2c4a\",                        [{\"alignmentgroup\":\"True\",\"hovertemplate\":\"value=%{x}<br>variable=%{y}<extra></extra>\",\"legendgroup\":\"\",\"marker\":{\"color\":\"#636efa\"},\"name\":\"\",\"notched\":false,\"offsetgroup\":\"\",\"orientation\":\"h\",\"showlegend\":false,\"type\":\"box\",\"x\":[5.1,4.9,4.7,4.6,5.0,5.4,4.6,5.0,4.4,4.9,5.4,4.8,4.8,4.3,5.8,5.7,5.4,5.1,5.7,5.1,5.4,5.1,4.6,5.1,4.8,5.0,5.0,5.2,5.2,4.7,4.8,5.4,5.2,5.5,4.9,5.0,5.5,4.9,4.4,5.1,5.0,4.5,4.4,5.0,5.1,4.8,5.1,4.6,5.3,5.0,7.0,6.4,6.9,5.5,6.5,5.7,6.3,4.9,6.6,5.2,5.0,5.9,6.0,6.1,5.6,6.7,5.6,5.8,6.2,5.6,5.9,6.1,6.3,6.1,6.4,6.6,6.8,6.7,6.0,5.7,5.5,5.5,5.8,6.0,5.4,6.0,6.7,6.3,5.6,5.5,5.5,6.1,5.8,5.0,5.6,5.7,5.7,6.2,5.1,5.7,6.3,5.8,7.1,6.3,6.5,7.6,4.9,7.3,6.7,7.2,6.5,6.4,6.8,5.7,5.8,6.4,6.5,7.7,7.7,6.0,6.9,5.6,7.7,6.3,6.7,7.2,6.2,6.1,6.4,7.2,7.4,7.9,6.4,6.3,6.1,7.7,6.3,6.4,6.0,6.9,6.7,6.9,5.8,6.8,6.7,6.7,6.3,6.5,6.2,5.9,3.5,3.0,3.2,3.1,3.6,3.9,3.4,3.4,2.9,3.1,3.7,3.4,3.0,3.0,4.0,4.4,3.9,3.5,3.8,3.8,3.4,3.7,3.6,3.3,3.4,3.0,3.4,3.5,3.4,3.2,3.1,3.4,4.1,4.2,3.1,3.2,3.5,3.6,3.0,3.4,3.5,2.3,3.2,3.5,3.8,3.0,3.8,3.2,3.7,3.3,3.2,3.2,3.1,2.3,2.8,2.8,3.3,2.4,2.9,2.7,2.0,3.0,2.2,2.9,2.9,3.1,3.0,2.7,2.2,2.5,3.2,2.8,2.5,2.8,2.9,3.0,2.8,3.0,2.9,2.6,2.4,2.4,2.7,2.7,3.0,3.4,3.1,2.3,3.0,2.5,2.6,3.0,2.6,2.3,2.7,3.0,2.9,2.9,2.5,2.8,3.3,2.7,3.0,2.9,3.0,3.0,2.5,2.9,2.5,3.6,3.2,2.7,3.0,2.5,2.8,3.2,3.0,3.8,2.6,2.2,3.2,2.8,2.8,2.7,3.3,3.2,2.8,3.0,2.8,3.0,2.8,3.8,2.8,2.8,2.6,3.0,3.4,3.1,3.0,3.1,3.1,3.1,2.7,3.2,3.3,3.0,2.5,3.0,3.4,3.0,1.4,1.4,1.3,1.5,1.4,1.7,1.4,1.5,1.4,1.5,1.5,1.6,1.4,1.1,1.2,1.5,1.3,1.4,1.7,1.5,1.7,1.5,1.0,1.7,1.9,1.6,1.6,1.5,1.4,1.6,1.6,1.5,1.5,1.4,1.5,1.2,1.3,1.4,1.3,1.5,1.3,1.3,1.3,1.6,1.9,1.4,1.6,1.4,1.5,1.4,4.7,4.5,4.9,4.0,4.6,4.5,4.7,3.3,4.6,3.9,3.5,4.2,4.0,4.7,3.6,4.4,4.5,4.1,4.5,3.9,4.8,4.0,4.9,4.7,4.3,4.4,4.8,5.0,4.5,3.5,3.8,3.7,3.9,5.1,4.5,4.5,4.7,4.4,4.1,4.0,4.4,4.6,4.0,3.3,4.2,4.2,4.2,4.3,3.0,4.1,6.0,5.1,5.9,5.6,5.8,6.6,4.5,6.3,5.8,6.1,5.1,5.3,5.5,5.0,5.1,5.3,5.5,6.7,6.9,5.0,5.7,4.9,6.7,4.9,5.7,6.0,4.8,4.9,5.6,5.8,6.1,6.4,5.6,5.1,5.6,6.1,5.6,5.5,4.8,5.4,5.6,5.1,5.1,5.9,5.7,5.2,5.0,5.2,5.4,5.1,0.2,0.2,0.2,0.2,0.2,0.4,0.3,0.2,0.2,0.1,0.2,0.2,0.1,0.1,0.2,0.4,0.4,0.3,0.3,0.3,0.2,0.4,0.2,0.5,0.2,0.2,0.4,0.2,0.2,0.2,0.2,0.4,0.1,0.2,0.2,0.2,0.2,0.1,0.2,0.2,0.3,0.3,0.2,0.6,0.4,0.3,0.2,0.2,0.2,0.2,1.4,1.5,1.5,1.3,1.5,1.3,1.6,1.0,1.3,1.4,1.0,1.5,1.0,1.4,1.3,1.4,1.5,1.0,1.5,1.1,1.8,1.3,1.5,1.2,1.3,1.4,1.4,1.7,1.5,1.0,1.1,1.0,1.2,1.6,1.5,1.6,1.5,1.3,1.3,1.3,1.2,1.4,1.2,1.0,1.3,1.2,1.3,1.3,1.1,1.3,2.5,1.9,2.1,1.8,2.2,2.1,1.7,1.8,1.8,2.5,2.0,1.9,2.1,2.0,2.4,2.3,1.8,2.2,2.3,1.5,2.3,2.0,2.0,1.8,2.1,1.8,1.8,1.8,2.1,1.6,1.9,2.0,2.2,1.5,1.4,2.3,2.4,1.8,1.8,2.1,2.4,2.3,1.9,2.3,2.5,2.3,1.9,2.0,2.3,1.8],\"x0\":\" \",\"xaxis\":\"x\",\"y\":[\"sepal length (cm)\",\"sepal length (cm)\",\"sepal length (cm)\",\"sepal length (cm)\",\"sepal length (cm)\",\"sepal length (cm)\",\"sepal length (cm)\",\"sepal length (cm)\",\"sepal length (cm)\",\"sepal length (cm)\",\"sepal length (cm)\",\"sepal length (cm)\",\"sepal length (cm)\",\"sepal length (cm)\",\"sepal length (cm)\",\"sepal length (cm)\",\"sepal length (cm)\",\"sepal length (cm)\",\"sepal length (cm)\",\"sepal length (cm)\",\"sepal length (cm)\",\"sepal length (cm)\",\"sepal length (cm)\",\"sepal length (cm)\",\"sepal length (cm)\",\"sepal length (cm)\",\"sepal length (cm)\",\"sepal length (cm)\",\"sepal length (cm)\",\"sepal length (cm)\",\"sepal length (cm)\",\"sepal length (cm)\",\"sepal length (cm)\",\"sepal length (cm)\",\"sepal length (cm)\",\"sepal length (cm)\",\"sepal length (cm)\",\"sepal length (cm)\",\"sepal length (cm)\",\"sepal length (cm)\",\"sepal length (cm)\",\"sepal length (cm)\",\"sepal length (cm)\",\"sepal length (cm)\",\"sepal length (cm)\",\"sepal length (cm)\",\"sepal length (cm)\",\"sepal length (cm)\",\"sepal length (cm)\",\"sepal length (cm)\",\"sepal length (cm)\",\"sepal length (cm)\",\"sepal length (cm)\",\"sepal length (cm)\",\"sepal length (cm)\",\"sepal length (cm)\",\"sepal length (cm)\",\"sepal length (cm)\",\"sepal length (cm)\",\"sepal length (cm)\",\"sepal length (cm)\",\"sepal length (cm)\",\"sepal length (cm)\",\"sepal length (cm)\",\"sepal length (cm)\",\"sepal length (cm)\",\"sepal length (cm)\",\"sepal length (cm)\",\"sepal length (cm)\",\"sepal length (cm)\",\"sepal length (cm)\",\"sepal length (cm)\",\"sepal length (cm)\",\"sepal length (cm)\",\"sepal length (cm)\",\"sepal length (cm)\",\"sepal length (cm)\",\"sepal length (cm)\",\"sepal length (cm)\",\"sepal length (cm)\",\"sepal length (cm)\",\"sepal length (cm)\",\"sepal length (cm)\",\"sepal length (cm)\",\"sepal length (cm)\",\"sepal length (cm)\",\"sepal length (cm)\",\"sepal length (cm)\",\"sepal length (cm)\",\"sepal length (cm)\",\"sepal length (cm)\",\"sepal length (cm)\",\"sepal length (cm)\",\"sepal length (cm)\",\"sepal length (cm)\",\"sepal length (cm)\",\"sepal length (cm)\",\"sepal length (cm)\",\"sepal length (cm)\",\"sepal length (cm)\",\"sepal length (cm)\",\"sepal length (cm)\",\"sepal length (cm)\",\"sepal length (cm)\",\"sepal length (cm)\",\"sepal length (cm)\",\"sepal length (cm)\",\"sepal length (cm)\",\"sepal length (cm)\",\"sepal length (cm)\",\"sepal length (cm)\",\"sepal length (cm)\",\"sepal length (cm)\",\"sepal length (cm)\",\"sepal length (cm)\",\"sepal length (cm)\",\"sepal length (cm)\",\"sepal length (cm)\",\"sepal length (cm)\",\"sepal length (cm)\",\"sepal length (cm)\",\"sepal length (cm)\",\"sepal length (cm)\",\"sepal length (cm)\",\"sepal length (cm)\",\"sepal length (cm)\",\"sepal length (cm)\",\"sepal length (cm)\",\"sepal length (cm)\",\"sepal length (cm)\",\"sepal length (cm)\",\"sepal length (cm)\",\"sepal length (cm)\",\"sepal length (cm)\",\"sepal length (cm)\",\"sepal length (cm)\",\"sepal length (cm)\",\"sepal length (cm)\",\"sepal length (cm)\",\"sepal length (cm)\",\"sepal length (cm)\",\"sepal length (cm)\",\"sepal length (cm)\",\"sepal length (cm)\",\"sepal length (cm)\",\"sepal length (cm)\",\"sepal length (cm)\",\"sepal length (cm)\",\"sepal length (cm)\",\"sepal length (cm)\",\"sepal width (cm)\",\"sepal width (cm)\",\"sepal width (cm)\",\"sepal width (cm)\",\"sepal width (cm)\",\"sepal width (cm)\",\"sepal width (cm)\",\"sepal width (cm)\",\"sepal width (cm)\",\"sepal width (cm)\",\"sepal width (cm)\",\"sepal width (cm)\",\"sepal width (cm)\",\"sepal width (cm)\",\"sepal width (cm)\",\"sepal width (cm)\",\"sepal width (cm)\",\"sepal width (cm)\",\"sepal width (cm)\",\"sepal width (cm)\",\"sepal width (cm)\",\"sepal width (cm)\",\"sepal width (cm)\",\"sepal width (cm)\",\"sepal width (cm)\",\"sepal width (cm)\",\"sepal width (cm)\",\"sepal width (cm)\",\"sepal width (cm)\",\"sepal width (cm)\",\"sepal width (cm)\",\"sepal width (cm)\",\"sepal width (cm)\",\"sepal width (cm)\",\"sepal width (cm)\",\"sepal width (cm)\",\"sepal width (cm)\",\"sepal width (cm)\",\"sepal width (cm)\",\"sepal width (cm)\",\"sepal width (cm)\",\"sepal width (cm)\",\"sepal width (cm)\",\"sepal width (cm)\",\"sepal width (cm)\",\"sepal width (cm)\",\"sepal width (cm)\",\"sepal width (cm)\",\"sepal width (cm)\",\"sepal width (cm)\",\"sepal width (cm)\",\"sepal width (cm)\",\"sepal width (cm)\",\"sepal width (cm)\",\"sepal width (cm)\",\"sepal width (cm)\",\"sepal width (cm)\",\"sepal width (cm)\",\"sepal width (cm)\",\"sepal width (cm)\",\"sepal width (cm)\",\"sepal width (cm)\",\"sepal width (cm)\",\"sepal width (cm)\",\"sepal width (cm)\",\"sepal width (cm)\",\"sepal width (cm)\",\"sepal width (cm)\",\"sepal width (cm)\",\"sepal width (cm)\",\"sepal width (cm)\",\"sepal width (cm)\",\"sepal width (cm)\",\"sepal width (cm)\",\"sepal width (cm)\",\"sepal width (cm)\",\"sepal width (cm)\",\"sepal width (cm)\",\"sepal width (cm)\",\"sepal width (cm)\",\"sepal width (cm)\",\"sepal width (cm)\",\"sepal width (cm)\",\"sepal width (cm)\",\"sepal width (cm)\",\"sepal width (cm)\",\"sepal width (cm)\",\"sepal width (cm)\",\"sepal width (cm)\",\"sepal width (cm)\",\"sepal width (cm)\",\"sepal width (cm)\",\"sepal width (cm)\",\"sepal width (cm)\",\"sepal width (cm)\",\"sepal width (cm)\",\"sepal width (cm)\",\"sepal width (cm)\",\"sepal width (cm)\",\"sepal width (cm)\",\"sepal width (cm)\",\"sepal width (cm)\",\"sepal width (cm)\",\"sepal width (cm)\",\"sepal width (cm)\",\"sepal width (cm)\",\"sepal width (cm)\",\"sepal width (cm)\",\"sepal width (cm)\",\"sepal width (cm)\",\"sepal width (cm)\",\"sepal width (cm)\",\"sepal width (cm)\",\"sepal width (cm)\",\"sepal width (cm)\",\"sepal width (cm)\",\"sepal width (cm)\",\"sepal width (cm)\",\"sepal width (cm)\",\"sepal width (cm)\",\"sepal width (cm)\",\"sepal width (cm)\",\"sepal width (cm)\",\"sepal width (cm)\",\"sepal width (cm)\",\"sepal width (cm)\",\"sepal width (cm)\",\"sepal width (cm)\",\"sepal width (cm)\",\"sepal width (cm)\",\"sepal width (cm)\",\"sepal width (cm)\",\"sepal width (cm)\",\"sepal width (cm)\",\"sepal width (cm)\",\"sepal width (cm)\",\"sepal width (cm)\",\"sepal width (cm)\",\"sepal width (cm)\",\"sepal width (cm)\",\"sepal width (cm)\",\"sepal width (cm)\",\"sepal width (cm)\",\"sepal width (cm)\",\"sepal width (cm)\",\"sepal width (cm)\",\"sepal width (cm)\",\"sepal width (cm)\",\"sepal width (cm)\",\"sepal width (cm)\",\"petal length (cm)\",\"petal length (cm)\",\"petal length (cm)\",\"petal length (cm)\",\"petal length (cm)\",\"petal length (cm)\",\"petal length (cm)\",\"petal length (cm)\",\"petal length (cm)\",\"petal length (cm)\",\"petal length (cm)\",\"petal length (cm)\",\"petal length (cm)\",\"petal length (cm)\",\"petal length (cm)\",\"petal length (cm)\",\"petal length (cm)\",\"petal length (cm)\",\"petal length (cm)\",\"petal length (cm)\",\"petal length (cm)\",\"petal length (cm)\",\"petal length (cm)\",\"petal length (cm)\",\"petal length (cm)\",\"petal length (cm)\",\"petal length (cm)\",\"petal length (cm)\",\"petal length (cm)\",\"petal length (cm)\",\"petal length (cm)\",\"petal length (cm)\",\"petal length (cm)\",\"petal length (cm)\",\"petal length (cm)\",\"petal length (cm)\",\"petal length (cm)\",\"petal length (cm)\",\"petal length (cm)\",\"petal length (cm)\",\"petal length (cm)\",\"petal length (cm)\",\"petal length (cm)\",\"petal length (cm)\",\"petal length (cm)\",\"petal length (cm)\",\"petal length (cm)\",\"petal length (cm)\",\"petal length (cm)\",\"petal length (cm)\",\"petal length (cm)\",\"petal length (cm)\",\"petal length (cm)\",\"petal length (cm)\",\"petal length (cm)\",\"petal length (cm)\",\"petal length (cm)\",\"petal length (cm)\",\"petal length (cm)\",\"petal length (cm)\",\"petal length (cm)\",\"petal length (cm)\",\"petal length (cm)\",\"petal length (cm)\",\"petal length (cm)\",\"petal length (cm)\",\"petal length (cm)\",\"petal length (cm)\",\"petal length (cm)\",\"petal length (cm)\",\"petal length (cm)\",\"petal length (cm)\",\"petal length (cm)\",\"petal length (cm)\",\"petal length (cm)\",\"petal length (cm)\",\"petal length (cm)\",\"petal length (cm)\",\"petal length (cm)\",\"petal length (cm)\",\"petal length (cm)\",\"petal length (cm)\",\"petal length (cm)\",\"petal length (cm)\",\"petal length (cm)\",\"petal length (cm)\",\"petal length (cm)\",\"petal length (cm)\",\"petal length (cm)\",\"petal length (cm)\",\"petal length (cm)\",\"petal length (cm)\",\"petal length (cm)\",\"petal length (cm)\",\"petal length (cm)\",\"petal length (cm)\",\"petal length (cm)\",\"petal length (cm)\",\"petal length (cm)\",\"petal length (cm)\",\"petal length (cm)\",\"petal length (cm)\",\"petal length (cm)\",\"petal length (cm)\",\"petal length (cm)\",\"petal length (cm)\",\"petal length (cm)\",\"petal length (cm)\",\"petal length (cm)\",\"petal length (cm)\",\"petal length (cm)\",\"petal length (cm)\",\"petal length (cm)\",\"petal length (cm)\",\"petal length (cm)\",\"petal length (cm)\",\"petal length (cm)\",\"petal length (cm)\",\"petal length (cm)\",\"petal length (cm)\",\"petal length (cm)\",\"petal length (cm)\",\"petal length (cm)\",\"petal length (cm)\",\"petal length (cm)\",\"petal length (cm)\",\"petal length (cm)\",\"petal length (cm)\",\"petal length (cm)\",\"petal length (cm)\",\"petal length (cm)\",\"petal length (cm)\",\"petal length (cm)\",\"petal length (cm)\",\"petal length (cm)\",\"petal length (cm)\",\"petal length (cm)\",\"petal length (cm)\",\"petal length (cm)\",\"petal length (cm)\",\"petal length (cm)\",\"petal length (cm)\",\"petal length (cm)\",\"petal length (cm)\",\"petal length (cm)\",\"petal length (cm)\",\"petal length (cm)\",\"petal length (cm)\",\"petal length (cm)\",\"petal length (cm)\",\"petal width (cm)\",\"petal width (cm)\",\"petal width (cm)\",\"petal width (cm)\",\"petal width (cm)\",\"petal width (cm)\",\"petal width (cm)\",\"petal width (cm)\",\"petal width (cm)\",\"petal width (cm)\",\"petal width (cm)\",\"petal width (cm)\",\"petal width (cm)\",\"petal width (cm)\",\"petal width (cm)\",\"petal width (cm)\",\"petal width (cm)\",\"petal width (cm)\",\"petal width (cm)\",\"petal width (cm)\",\"petal width (cm)\",\"petal width (cm)\",\"petal width (cm)\",\"petal width (cm)\",\"petal width (cm)\",\"petal width (cm)\",\"petal width (cm)\",\"petal width (cm)\",\"petal width (cm)\",\"petal width (cm)\",\"petal width (cm)\",\"petal width (cm)\",\"petal width (cm)\",\"petal width (cm)\",\"petal width (cm)\",\"petal width (cm)\",\"petal width (cm)\",\"petal width (cm)\",\"petal width (cm)\",\"petal width (cm)\",\"petal width (cm)\",\"petal width (cm)\",\"petal width (cm)\",\"petal width (cm)\",\"petal width (cm)\",\"petal width (cm)\",\"petal width (cm)\",\"petal width (cm)\",\"petal width (cm)\",\"petal width (cm)\",\"petal width (cm)\",\"petal width (cm)\",\"petal width (cm)\",\"petal width (cm)\",\"petal width (cm)\",\"petal width (cm)\",\"petal width (cm)\",\"petal width (cm)\",\"petal width (cm)\",\"petal width (cm)\",\"petal width (cm)\",\"petal width (cm)\",\"petal width (cm)\",\"petal width (cm)\",\"petal width (cm)\",\"petal width (cm)\",\"petal width (cm)\",\"petal width (cm)\",\"petal width (cm)\",\"petal width (cm)\",\"petal width (cm)\",\"petal width (cm)\",\"petal width (cm)\",\"petal width (cm)\",\"petal width (cm)\",\"petal width (cm)\",\"petal width (cm)\",\"petal width (cm)\",\"petal width (cm)\",\"petal width (cm)\",\"petal width (cm)\",\"petal width (cm)\",\"petal width (cm)\",\"petal width (cm)\",\"petal width (cm)\",\"petal width (cm)\",\"petal width (cm)\",\"petal width (cm)\",\"petal width (cm)\",\"petal width (cm)\",\"petal width (cm)\",\"petal width (cm)\",\"petal width (cm)\",\"petal width (cm)\",\"petal width (cm)\",\"petal width (cm)\",\"petal width (cm)\",\"petal width (cm)\",\"petal width (cm)\",\"petal width (cm)\",\"petal width (cm)\",\"petal width (cm)\",\"petal width (cm)\",\"petal width (cm)\",\"petal width (cm)\",\"petal width (cm)\",\"petal width (cm)\",\"petal width (cm)\",\"petal width (cm)\",\"petal width (cm)\",\"petal width (cm)\",\"petal width (cm)\",\"petal width (cm)\",\"petal width (cm)\",\"petal width (cm)\",\"petal width (cm)\",\"petal width (cm)\",\"petal width (cm)\",\"petal width (cm)\",\"petal width (cm)\",\"petal width (cm)\",\"petal width (cm)\",\"petal width (cm)\",\"petal width (cm)\",\"petal width (cm)\",\"petal width (cm)\",\"petal width (cm)\",\"petal width (cm)\",\"petal width (cm)\",\"petal width (cm)\",\"petal width (cm)\",\"petal width (cm)\",\"petal width (cm)\",\"petal width (cm)\",\"petal width (cm)\",\"petal width (cm)\",\"petal width (cm)\",\"petal width (cm)\",\"petal width (cm)\",\"petal width (cm)\",\"petal width (cm)\",\"petal width (cm)\",\"petal width (cm)\",\"petal width (cm)\",\"petal width (cm)\",\"petal width (cm)\",\"petal width (cm)\",\"petal width (cm)\",\"petal width (cm)\",\"petal width (cm)\"],\"y0\":\" \",\"yaxis\":\"y\"}],                        {\"boxmode\":\"group\",\"legend\":{\"tracegroupgap\":0},\"margin\":{\"t\":60},\"template\":{\"data\":{\"bar\":[{\"error_x\":{\"color\":\"#2a3f5f\"},\"error_y\":{\"color\":\"#2a3f5f\"},\"marker\":{\"line\":{\"color\":\"#E5ECF6\",\"width\":0.5},\"pattern\":{\"fillmode\":\"overlay\",\"size\":10,\"solidity\":0.2}},\"type\":\"bar\"}],\"barpolar\":[{\"marker\":{\"line\":{\"color\":\"#E5ECF6\",\"width\":0.5},\"pattern\":{\"fillmode\":\"overlay\",\"size\":10,\"solidity\":0.2}},\"type\":\"barpolar\"}],\"carpet\":[{\"aaxis\":{\"endlinecolor\":\"#2a3f5f\",\"gridcolor\":\"white\",\"linecolor\":\"white\",\"minorgridcolor\":\"white\",\"startlinecolor\":\"#2a3f5f\"},\"baxis\":{\"endlinecolor\":\"#2a3f5f\",\"gridcolor\":\"white\",\"linecolor\":\"white\",\"minorgridcolor\":\"white\",\"startlinecolor\":\"#2a3f5f\"},\"type\":\"carpet\"}],\"choropleth\":[{\"colorbar\":{\"outlinewidth\":0,\"ticks\":\"\"},\"type\":\"choropleth\"}],\"contour\":[{\"colorbar\":{\"outlinewidth\":0,\"ticks\":\"\"},\"colorscale\":[[0.0,\"#0d0887\"],[0.1111111111111111,\"#46039f\"],[0.2222222222222222,\"#7201a8\"],[0.3333333333333333,\"#9c179e\"],[0.4444444444444444,\"#bd3786\"],[0.5555555555555556,\"#d8576b\"],[0.6666666666666666,\"#ed7953\"],[0.7777777777777778,\"#fb9f3a\"],[0.8888888888888888,\"#fdca26\"],[1.0,\"#f0f921\"]],\"type\":\"contour\"}],\"contourcarpet\":[{\"colorbar\":{\"outlinewidth\":0,\"ticks\":\"\"},\"type\":\"contourcarpet\"}],\"heatmap\":[{\"colorbar\":{\"outlinewidth\":0,\"ticks\":\"\"},\"colorscale\":[[0.0,\"#0d0887\"],[0.1111111111111111,\"#46039f\"],[0.2222222222222222,\"#7201a8\"],[0.3333333333333333,\"#9c179e\"],[0.4444444444444444,\"#bd3786\"],[0.5555555555555556,\"#d8576b\"],[0.6666666666666666,\"#ed7953\"],[0.7777777777777778,\"#fb9f3a\"],[0.8888888888888888,\"#fdca26\"],[1.0,\"#f0f921\"]],\"type\":\"heatmap\"}],\"heatmapgl\":[{\"colorbar\":{\"outlinewidth\":0,\"ticks\":\"\"},\"colorscale\":[[0.0,\"#0d0887\"],[0.1111111111111111,\"#46039f\"],[0.2222222222222222,\"#7201a8\"],[0.3333333333333333,\"#9c179e\"],[0.4444444444444444,\"#bd3786\"],[0.5555555555555556,\"#d8576b\"],[0.6666666666666666,\"#ed7953\"],[0.7777777777777778,\"#fb9f3a\"],[0.8888888888888888,\"#fdca26\"],[1.0,\"#f0f921\"]],\"type\":\"heatmapgl\"}],\"histogram\":[{\"marker\":{\"pattern\":{\"fillmode\":\"overlay\",\"size\":10,\"solidity\":0.2}},\"type\":\"histogram\"}],\"histogram2d\":[{\"colorbar\":{\"outlinewidth\":0,\"ticks\":\"\"},\"colorscale\":[[0.0,\"#0d0887\"],[0.1111111111111111,\"#46039f\"],[0.2222222222222222,\"#7201a8\"],[0.3333333333333333,\"#9c179e\"],[0.4444444444444444,\"#bd3786\"],[0.5555555555555556,\"#d8576b\"],[0.6666666666666666,\"#ed7953\"],[0.7777777777777778,\"#fb9f3a\"],[0.8888888888888888,\"#fdca26\"],[1.0,\"#f0f921\"]],\"type\":\"histogram2d\"}],\"histogram2dcontour\":[{\"colorbar\":{\"outlinewidth\":0,\"ticks\":\"\"},\"colorscale\":[[0.0,\"#0d0887\"],[0.1111111111111111,\"#46039f\"],[0.2222222222222222,\"#7201a8\"],[0.3333333333333333,\"#9c179e\"],[0.4444444444444444,\"#bd3786\"],[0.5555555555555556,\"#d8576b\"],[0.6666666666666666,\"#ed7953\"],[0.7777777777777778,\"#fb9f3a\"],[0.8888888888888888,\"#fdca26\"],[1.0,\"#f0f921\"]],\"type\":\"histogram2dcontour\"}],\"mesh3d\":[{\"colorbar\":{\"outlinewidth\":0,\"ticks\":\"\"},\"type\":\"mesh3d\"}],\"parcoords\":[{\"line\":{\"colorbar\":{\"outlinewidth\":0,\"ticks\":\"\"}},\"type\":\"parcoords\"}],\"pie\":[{\"automargin\":true,\"type\":\"pie\"}],\"scatter\":[{\"marker\":{\"colorbar\":{\"outlinewidth\":0,\"ticks\":\"\"}},\"type\":\"scatter\"}],\"scatter3d\":[{\"line\":{\"colorbar\":{\"outlinewidth\":0,\"ticks\":\"\"}},\"marker\":{\"colorbar\":{\"outlinewidth\":0,\"ticks\":\"\"}},\"type\":\"scatter3d\"}],\"scattercarpet\":[{\"marker\":{\"colorbar\":{\"outlinewidth\":0,\"ticks\":\"\"}},\"type\":\"scattercarpet\"}],\"scattergeo\":[{\"marker\":{\"colorbar\":{\"outlinewidth\":0,\"ticks\":\"\"}},\"type\":\"scattergeo\"}],\"scattergl\":[{\"marker\":{\"colorbar\":{\"outlinewidth\":0,\"ticks\":\"\"}},\"type\":\"scattergl\"}],\"scattermapbox\":[{\"marker\":{\"colorbar\":{\"outlinewidth\":0,\"ticks\":\"\"}},\"type\":\"scattermapbox\"}],\"scatterpolar\":[{\"marker\":{\"colorbar\":{\"outlinewidth\":0,\"ticks\":\"\"}},\"type\":\"scatterpolar\"}],\"scatterpolargl\":[{\"marker\":{\"colorbar\":{\"outlinewidth\":0,\"ticks\":\"\"}},\"type\":\"scatterpolargl\"}],\"scatterternary\":[{\"marker\":{\"colorbar\":{\"outlinewidth\":0,\"ticks\":\"\"}},\"type\":\"scatterternary\"}],\"surface\":[{\"colorbar\":{\"outlinewidth\":0,\"ticks\":\"\"},\"colorscale\":[[0.0,\"#0d0887\"],[0.1111111111111111,\"#46039f\"],[0.2222222222222222,\"#7201a8\"],[0.3333333333333333,\"#9c179e\"],[0.4444444444444444,\"#bd3786\"],[0.5555555555555556,\"#d8576b\"],[0.6666666666666666,\"#ed7953\"],[0.7777777777777778,\"#fb9f3a\"],[0.8888888888888888,\"#fdca26\"],[1.0,\"#f0f921\"]],\"type\":\"surface\"}],\"table\":[{\"cells\":{\"fill\":{\"color\":\"#EBF0F8\"},\"line\":{\"color\":\"white\"}},\"header\":{\"fill\":{\"color\":\"#C8D4E3\"},\"line\":{\"color\":\"white\"}},\"type\":\"table\"}]},\"layout\":{\"annotationdefaults\":{\"arrowcolor\":\"#2a3f5f\",\"arrowhead\":0,\"arrowwidth\":1},\"autotypenumbers\":\"strict\",\"coloraxis\":{\"colorbar\":{\"outlinewidth\":0,\"ticks\":\"\"}},\"colorscale\":{\"diverging\":[[0,\"#8e0152\"],[0.1,\"#c51b7d\"],[0.2,\"#de77ae\"],[0.3,\"#f1b6da\"],[0.4,\"#fde0ef\"],[0.5,\"#f7f7f7\"],[0.6,\"#e6f5d0\"],[0.7,\"#b8e186\"],[0.8,\"#7fbc41\"],[0.9,\"#4d9221\"],[1,\"#276419\"]],\"sequential\":[[0.0,\"#0d0887\"],[0.1111111111111111,\"#46039f\"],[0.2222222222222222,\"#7201a8\"],[0.3333333333333333,\"#9c179e\"],[0.4444444444444444,\"#bd3786\"],[0.5555555555555556,\"#d8576b\"],[0.6666666666666666,\"#ed7953\"],[0.7777777777777778,\"#fb9f3a\"],[0.8888888888888888,\"#fdca26\"],[1.0,\"#f0f921\"]],\"sequentialminus\":[[0.0,\"#0d0887\"],[0.1111111111111111,\"#46039f\"],[0.2222222222222222,\"#7201a8\"],[0.3333333333333333,\"#9c179e\"],[0.4444444444444444,\"#bd3786\"],[0.5555555555555556,\"#d8576b\"],[0.6666666666666666,\"#ed7953\"],[0.7777777777777778,\"#fb9f3a\"],[0.8888888888888888,\"#fdca26\"],[1.0,\"#f0f921\"]]},\"colorway\":[\"#636efa\",\"#EF553B\",\"#00cc96\",\"#ab63fa\",\"#FFA15A\",\"#19d3f3\",\"#FF6692\",\"#B6E880\",\"#FF97FF\",\"#FECB52\"],\"font\":{\"color\":\"#2a3f5f\"},\"geo\":{\"bgcolor\":\"white\",\"lakecolor\":\"white\",\"landcolor\":\"#E5ECF6\",\"showlakes\":true,\"showland\":true,\"subunitcolor\":\"white\"},\"hoverlabel\":{\"align\":\"left\"},\"hovermode\":\"closest\",\"mapbox\":{\"style\":\"light\"},\"paper_bgcolor\":\"white\",\"plot_bgcolor\":\"#E5ECF6\",\"polar\":{\"angularaxis\":{\"gridcolor\":\"white\",\"linecolor\":\"white\",\"ticks\":\"\"},\"bgcolor\":\"#E5ECF6\",\"radialaxis\":{\"gridcolor\":\"white\",\"linecolor\":\"white\",\"ticks\":\"\"}},\"scene\":{\"xaxis\":{\"backgroundcolor\":\"#E5ECF6\",\"gridcolor\":\"white\",\"gridwidth\":2,\"linecolor\":\"white\",\"showbackground\":true,\"ticks\":\"\",\"zerolinecolor\":\"white\"},\"yaxis\":{\"backgroundcolor\":\"#E5ECF6\",\"gridcolor\":\"white\",\"gridwidth\":2,\"linecolor\":\"white\",\"showbackground\":true,\"ticks\":\"\",\"zerolinecolor\":\"white\"},\"zaxis\":{\"backgroundcolor\":\"#E5ECF6\",\"gridcolor\":\"white\",\"gridwidth\":2,\"linecolor\":\"white\",\"showbackground\":true,\"ticks\":\"\",\"zerolinecolor\":\"white\"}},\"shapedefaults\":{\"line\":{\"color\":\"#2a3f5f\"}},\"ternary\":{\"aaxis\":{\"gridcolor\":\"white\",\"linecolor\":\"white\",\"ticks\":\"\"},\"baxis\":{\"gridcolor\":\"white\",\"linecolor\":\"white\",\"ticks\":\"\"},\"bgcolor\":\"#E5ECF6\",\"caxis\":{\"gridcolor\":\"white\",\"linecolor\":\"white\",\"ticks\":\"\"}},\"title\":{\"x\":0.05},\"xaxis\":{\"automargin\":true,\"gridcolor\":\"white\",\"linecolor\":\"white\",\"ticks\":\"\",\"title\":{\"standoff\":15},\"zerolinecolor\":\"white\",\"zerolinewidth\":2},\"yaxis\":{\"automargin\":true,\"gridcolor\":\"white\",\"linecolor\":\"white\",\"ticks\":\"\",\"title\":{\"standoff\":15},\"zerolinecolor\":\"white\",\"zerolinewidth\":2}}},\"xaxis\":{\"anchor\":\"y\",\"domain\":[0.0,1.0],\"title\":{\"text\":\"value\"}},\"yaxis\":{\"anchor\":\"x\",\"domain\":[0.0,1.0],\"title\":{\"text\":\"variable\"}}},                        {\"responsive\": true}                    ).then(function(){\n",
       "                            \n",
       "var gd = document.getElementById('41f979c5-d377-46f3-b2c3-fbb9601c2c4a');\n",
       "var x = new MutationObserver(function (mutations, observer) {{\n",
       "        var display = window.getComputedStyle(gd).display;\n",
       "        if (!display || display === 'none') {{\n",
       "            console.log([gd, 'removed!']);\n",
       "            Plotly.purge(gd);\n",
       "            observer.disconnect();\n",
       "        }}\n",
       "}});\n",
       "\n",
       "// Listen for the removal of the full notebook cells\n",
       "var notebookContainer = gd.closest('#notebook-container');\n",
       "if (notebookContainer) {{\n",
       "    x.observe(notebookContainer, {childList: true});\n",
       "}}\n",
       "\n",
       "// Listen for the clearing of the current output cell\n",
       "var outputEl = gd.closest('.output');\n",
       "if (outputEl) {{\n",
       "    x.observe(outputEl, {childList: true});\n",
       "}}\n",
       "\n",
       "                        })                };                });            </script>        </div>"
      ]
     },
     "metadata": {},
     "output_type": "display_data"
    }
   ],
   "source": [
    "import plotly.express as px\n",
    "fig = px.box(iris_pd, x = iris_pd.columns[:-1])\n",
    "fig.show()"
   ]
  },
  {
   "cell_type": "markdown",
   "id": "feca5475",
   "metadata": {},
   "source": [
    "# 문제3) \n",
    "**Standard Scaler를 적용한 데이터를 또 다른 pandas dataframe에 저장해 주세요.**"
   ]
  },
  {
   "cell_type": "code",
   "execution_count": 22,
   "id": "971b093c",
   "metadata": {},
   "outputs": [
    {
     "data": {
      "text/plain": [
       "StandardScaler()"
      ]
     },
     "execution_count": 22,
     "metadata": {},
     "output_type": "execute_result"
    }
   ],
   "source": [
    "from sklearn.preprocessing import StandardScaler\n",
    "\n",
    "SS = StandardScaler()\n",
    "SS.fit(iris_pd.iloc[:,:-1])"
   ]
  },
  {
   "cell_type": "code",
   "execution_count": 23,
   "id": "75422900",
   "metadata": {},
   "outputs": [
    {
     "data": {
      "text/html": [
       "<div>\n",
       "<style scoped>\n",
       "    .dataframe tbody tr th:only-of-type {\n",
       "        vertical-align: middle;\n",
       "    }\n",
       "\n",
       "    .dataframe tbody tr th {\n",
       "        vertical-align: top;\n",
       "    }\n",
       "\n",
       "    .dataframe thead th {\n",
       "        text-align: right;\n",
       "    }\n",
       "</style>\n",
       "<table border=\"1\" class=\"dataframe\">\n",
       "  <thead>\n",
       "    <tr style=\"text-align: right;\">\n",
       "      <th></th>\n",
       "      <th>sepal length (cm)</th>\n",
       "      <th>sepal width (cm)</th>\n",
       "      <th>petal length (cm)</th>\n",
       "      <th>petal width (cm)</th>\n",
       "      <th>species</th>\n",
       "    </tr>\n",
       "  </thead>\n",
       "  <tbody>\n",
       "    <tr>\n",
       "      <th>0</th>\n",
       "      <td>-0.900681</td>\n",
       "      <td>1.019004</td>\n",
       "      <td>-1.340227</td>\n",
       "      <td>-1.315444</td>\n",
       "      <td>0</td>\n",
       "    </tr>\n",
       "    <tr>\n",
       "      <th>1</th>\n",
       "      <td>-1.143017</td>\n",
       "      <td>-0.131979</td>\n",
       "      <td>-1.340227</td>\n",
       "      <td>-1.315444</td>\n",
       "      <td>0</td>\n",
       "    </tr>\n",
       "    <tr>\n",
       "      <th>2</th>\n",
       "      <td>-1.385353</td>\n",
       "      <td>0.328414</td>\n",
       "      <td>-1.397064</td>\n",
       "      <td>-1.315444</td>\n",
       "      <td>0</td>\n",
       "    </tr>\n",
       "    <tr>\n",
       "      <th>3</th>\n",
       "      <td>-1.506521</td>\n",
       "      <td>0.098217</td>\n",
       "      <td>-1.283389</td>\n",
       "      <td>-1.315444</td>\n",
       "      <td>0</td>\n",
       "    </tr>\n",
       "    <tr>\n",
       "      <th>4</th>\n",
       "      <td>-1.021849</td>\n",
       "      <td>1.249201</td>\n",
       "      <td>-1.340227</td>\n",
       "      <td>-1.315444</td>\n",
       "      <td>0</td>\n",
       "    </tr>\n",
       "    <tr>\n",
       "      <th>...</th>\n",
       "      <td>...</td>\n",
       "      <td>...</td>\n",
       "      <td>...</td>\n",
       "      <td>...</td>\n",
       "      <td>...</td>\n",
       "    </tr>\n",
       "    <tr>\n",
       "      <th>145</th>\n",
       "      <td>1.038005</td>\n",
       "      <td>-0.131979</td>\n",
       "      <td>0.819596</td>\n",
       "      <td>1.448832</td>\n",
       "      <td>2</td>\n",
       "    </tr>\n",
       "    <tr>\n",
       "      <th>146</th>\n",
       "      <td>0.553333</td>\n",
       "      <td>-1.282963</td>\n",
       "      <td>0.705921</td>\n",
       "      <td>0.922303</td>\n",
       "      <td>2</td>\n",
       "    </tr>\n",
       "    <tr>\n",
       "      <th>147</th>\n",
       "      <td>0.795669</td>\n",
       "      <td>-0.131979</td>\n",
       "      <td>0.819596</td>\n",
       "      <td>1.053935</td>\n",
       "      <td>2</td>\n",
       "    </tr>\n",
       "    <tr>\n",
       "      <th>148</th>\n",
       "      <td>0.432165</td>\n",
       "      <td>0.788808</td>\n",
       "      <td>0.933271</td>\n",
       "      <td>1.448832</td>\n",
       "      <td>2</td>\n",
       "    </tr>\n",
       "    <tr>\n",
       "      <th>149</th>\n",
       "      <td>0.068662</td>\n",
       "      <td>-0.131979</td>\n",
       "      <td>0.762758</td>\n",
       "      <td>0.790671</td>\n",
       "      <td>2</td>\n",
       "    </tr>\n",
       "  </tbody>\n",
       "</table>\n",
       "<p>150 rows × 5 columns</p>\n",
       "</div>"
      ],
      "text/plain": [
       "     sepal length (cm)  sepal width (cm)  petal length (cm)  petal width (cm)  \\\n",
       "0            -0.900681          1.019004          -1.340227         -1.315444   \n",
       "1            -1.143017         -0.131979          -1.340227         -1.315444   \n",
       "2            -1.385353          0.328414          -1.397064         -1.315444   \n",
       "3            -1.506521          0.098217          -1.283389         -1.315444   \n",
       "4            -1.021849          1.249201          -1.340227         -1.315444   \n",
       "..                 ...               ...                ...               ...   \n",
       "145           1.038005         -0.131979           0.819596          1.448832   \n",
       "146           0.553333         -1.282963           0.705921          0.922303   \n",
       "147           0.795669         -0.131979           0.819596          1.053935   \n",
       "148           0.432165          0.788808           0.933271          1.448832   \n",
       "149           0.068662         -0.131979           0.762758          0.790671   \n",
       "\n",
       "     species  \n",
       "0          0  \n",
       "1          0  \n",
       "2          0  \n",
       "3          0  \n",
       "4          0  \n",
       "..       ...  \n",
       "145        2  \n",
       "146        2  \n",
       "147        2  \n",
       "148        2  \n",
       "149        2  \n",
       "\n",
       "[150 rows x 5 columns]"
      ]
     },
     "execution_count": 23,
     "metadata": {},
     "output_type": "execute_result"
    }
   ],
   "source": [
    "iris_pd_scaled = pd.DataFrame(SS.transform(iris_pd.iloc[:,:-1]), columns = iris['feature_names'])\n",
    "iris_pd_scaled['species'] = iris_pd['species']\n",
    "iris_pd_scaled"
   ]
  },
  {
   "cell_type": "markdown",
   "id": "ee5b7cde",
   "metadata": {},
   "source": [
    "# 문제4) \n",
    "**Standard Scaler를 적용한 데이터의 네 개의 특성을 한 그래프에 boxplot을 그려주세요. 이때 plotly express를 사용해주세요.**"
   ]
  },
  {
   "cell_type": "code",
   "execution_count": 25,
   "id": "89249558",
   "metadata": {},
   "outputs": [
    {
     "data": {
      "application/vnd.plotly.v1+json": {
       "config": {
        "plotlyServerURL": "https://plot.ly"
       },
       "data": [
        {
         "alignmentgroup": "True",
         "hovertemplate": "value=%{x}<br>variable=%{y}<extra></extra>",
         "legendgroup": "",
         "marker": {
          "color": "#636efa"
         },
         "name": "",
         "notched": false,
         "offsetgroup": "",
         "orientation": "h",
         "showlegend": false,
         "type": "box",
         "x": [
          -0.9006811702978099,
          -1.1430169111851116,
          -1.3853526520724144,
          -1.5065205225160663,
          -1.0218490407414607,
          -0.5371775589668552,
          -1.5065205225160663,
          -1.0218490407414607,
          -1.748856263403368,
          -1.1430169111851116,
          -0.5371775589668552,
          -1.2641847816287635,
          -1.2641847816287635,
          -1.87002413384702,
          -0.052506077192250644,
          -0.1736739476359015,
          -0.5371775589668552,
          -0.9006811702978099,
          -0.1736739476359015,
          -0.9006811702978099,
          -0.5371775589668552,
          -0.9006811702978099,
          -1.5065205225160663,
          -0.9006811702978099,
          -1.2641847816287635,
          -1.0218490407414607,
          -1.0218490407414607,
          -0.779513299854158,
          -0.779513299854158,
          -1.3853526520724144,
          -1.2641847816287635,
          -0.5371775589668552,
          -0.779513299854158,
          -0.4160096885232043,
          -1.1430169111851116,
          -1.0218490407414607,
          -0.4160096885232043,
          -1.1430169111851116,
          -1.748856263403368,
          -0.9006811702978099,
          -1.0218490407414607,
          -1.6276883929597172,
          -1.748856263403368,
          -1.0218490407414607,
          -0.9006811702978099,
          -1.2641847816287635,
          -0.9006811702978099,
          -1.5065205225160663,
          -0.6583454294105071,
          -1.0218490407414607,
          1.401508368131565,
          0.6745011454696578,
          1.2803404976879142,
          -0.4160096885232043,
          0.7956690159133086,
          -0.1736739476359015,
          0.5533332750260058,
          -1.1430169111851116,
          0.9168368863569595,
          -0.779513299854158,
          -1.0218490407414607,
          0.06866179325140129,
          0.18982966369505214,
          0.310997534138703,
          -0.29484181807955345,
          1.0380047568006114,
          -0.29484181807955345,
          -0.052506077192250644,
          0.4321654045823549,
          -0.29484181807955345,
          0.06866179325140129,
          0.310997534138703,
          0.5533332750260058,
          0.310997534138703,
          0.6745011454696578,
          0.9168368863569595,
          1.1591726272442622,
          1.0380047568006114,
          0.18982966369505214,
          -0.1736739476359015,
          -0.4160096885232043,
          -0.4160096885232043,
          -0.052506077192250644,
          0.18982966369505214,
          -0.5371775589668552,
          0.18982966369505214,
          1.0380047568006114,
          0.5533332750260058,
          -0.29484181807955345,
          -0.4160096885232043,
          -0.4160096885232043,
          0.310997534138703,
          -0.052506077192250644,
          -1.0218490407414607,
          -0.29484181807955345,
          -0.1736739476359015,
          -0.1736739476359015,
          0.4321654045823549,
          -0.9006811702978099,
          -0.1736739476359015,
          0.5533332750260058,
          -0.052506077192250644,
          1.522676238575216,
          0.5533332750260058,
          0.7956690159133086,
          2.1285155907934725,
          -1.1430169111851116,
          1.7650119794625188,
          1.0380047568006114,
          1.6438441090188678,
          0.7956690159133086,
          0.6745011454696578,
          1.1591726272442622,
          -0.1736739476359015,
          -0.052506077192250644,
          0.6745011454696578,
          0.7956690159133086,
          2.249683461237124,
          2.249683461237124,
          0.18982966369505214,
          1.2803404976879142,
          -0.29484181807955345,
          2.249683461237124,
          0.5533332750260058,
          1.0380047568006114,
          1.6438441090188678,
          0.4321654045823549,
          0.310997534138703,
          0.6745011454696578,
          1.6438441090188678,
          1.8861798499061706,
          2.492019202124427,
          0.6745011454696578,
          0.5533332750260058,
          0.310997534138703,
          2.249683461237124,
          0.5533332750260058,
          0.6745011454696578,
          0.18982966369505214,
          1.2803404976879142,
          1.0380047568006114,
          1.2803404976879142,
          -0.052506077192250644,
          1.1591726272442622,
          1.0380047568006114,
          1.0380047568006114,
          0.5533332750260058,
          0.7956690159133086,
          0.4321654045823549,
          0.06866179325140129,
          1.0190043519716065,
          -0.1319794793216258,
          0.3284140531956675,
          0.09821728693702086,
          1.2492011182302531,
          1.939791417006192,
          0.7888075857129598,
          0.7888075857129598,
          -0.36217624558027245,
          0.09821728693702086,
          1.4793978844888998,
          0.7888075857129598,
          -0.1319794793216258,
          -0.1319794793216258,
          2.169988183264839,
          3.0907752482994253,
          1.939791417006192,
          1.0190043519716065,
          1.7095946507475455,
          1.7095946507475455,
          0.7888075857129598,
          1.4793978844888998,
          1.2492011182302531,
          0.5586108194543131,
          0.7888075857129598,
          -0.1319794793216258,
          0.7888075857129598,
          1.0190043519716065,
          0.7888075857129598,
          0.3284140531956675,
          0.09821728693702086,
          0.7888075857129598,
          2.400184949523484,
          2.630381715782132,
          0.09821728693702086,
          0.3284140531956675,
          1.0190043519716065,
          1.2492011182302531,
          -0.1319794793216258,
          0.7888075857129598,
          1.0190043519716065,
          -1.7433568431321513,
          0.3284140531956675,
          1.0190043519716065,
          1.7095946507475455,
          -0.1319794793216258,
          1.7095946507475455,
          0.3284140531956675,
          1.4793978844888998,
          0.5586108194543131,
          0.3284140531956675,
          0.3284140531956675,
          0.09821728693702086,
          -1.7433568431321513,
          -0.5923730118389191,
          -0.5923730118389191,
          0.5586108194543131,
          -1.5131600768735047,
          -0.36217624558027245,
          -0.8225697780975647,
          -2.43394714190809,
          -0.1319794793216258,
          -1.973553609390797,
          -0.36217624558027245,
          -0.36217624558027245,
          0.09821728693702086,
          -0.1319794793216258,
          -0.8225697780975647,
          -1.973553609390797,
          -1.282963310614858,
          0.3284140531956675,
          -0.5923730118389191,
          -1.282963310614858,
          -0.5923730118389191,
          -0.36217624558027245,
          -0.1319794793216258,
          -0.5923730118389191,
          -0.1319794793216258,
          -0.36217624558027245,
          -1.0527665443562113,
          -1.5131600768735047,
          -1.5131600768735047,
          -0.8225697780975647,
          -0.8225697780975647,
          -0.1319794793216258,
          0.7888075857129598,
          0.09821728693702086,
          -1.7433568431321513,
          -0.1319794793216258,
          -1.282963310614858,
          -1.0527665443562113,
          -0.1319794793216258,
          -1.0527665443562113,
          -1.7433568431321513,
          -0.8225697780975647,
          -0.1319794793216258,
          -0.36217624558027245,
          -0.36217624558027245,
          -1.282963310614858,
          -0.5923730118389191,
          0.5586108194543131,
          -0.8225697780975647,
          -0.1319794793216258,
          -0.36217624558027245,
          -0.1319794793216258,
          -0.1319794793216258,
          -1.282963310614858,
          -0.36217624558027245,
          -1.282963310614858,
          1.2492011182302531,
          0.3284140531956675,
          -0.8225697780975647,
          -0.1319794793216258,
          -1.282963310614858,
          -0.5923730118389191,
          0.3284140531956675,
          -0.1319794793216258,
          1.7095946507475455,
          -1.0527665443562113,
          -1.973553609390797,
          0.3284140531956675,
          -0.5923730118389191,
          -0.5923730118389191,
          -0.8225697780975647,
          0.5586108194543131,
          0.3284140531956675,
          -0.5923730118389191,
          -0.1319794793216258,
          -0.5923730118389191,
          -0.1319794793216258,
          -0.5923730118389191,
          1.7095946507475455,
          -0.5923730118389191,
          -0.5923730118389191,
          -1.0527665443562113,
          -0.1319794793216258,
          0.7888075857129598,
          0.09821728693702086,
          -0.1319794793216258,
          0.09821728693702086,
          0.09821728693702086,
          0.09821728693702086,
          -0.8225697780975647,
          0.3284140531956675,
          0.5586108194543131,
          -0.1319794793216258,
          -1.282963310614858,
          -0.1319794793216258,
          0.7888075857129598,
          -0.1319794793216258,
          -1.3402265266227635,
          -1.3402265266227635,
          -1.3970639535363667,
          -1.2833890997091604,
          -1.3402265266227635,
          -1.169714245881954,
          -1.3402265266227635,
          -1.2833890997091604,
          -1.3402265266227635,
          -1.2833890997091604,
          -1.2833890997091604,
          -1.2265516727955572,
          -1.3402265266227635,
          -1.5107388073635728,
          -1.4539013804499696,
          -1.2833890997091604,
          -1.3970639535363667,
          -1.3402265266227635,
          -1.169714245881954,
          -1.2833890997091604,
          -1.169714245881954,
          -1.2833890997091604,
          -1.567576234277176,
          -1.169714245881954,
          -1.056039392054748,
          -1.2265516727955572,
          -1.2265516727955572,
          -1.2833890997091604,
          -1.3402265266227635,
          -1.2265516727955572,
          -1.2265516727955572,
          -1.2833890997091604,
          -1.2833890997091604,
          -1.3402265266227635,
          -1.2833890997091604,
          -1.4539013804499696,
          -1.3970639535363667,
          -1.3402265266227635,
          -1.3970639535363667,
          -1.2833890997091604,
          -1.3970639535363667,
          -1.3970639535363667,
          -1.3970639535363667,
          -1.2265516727955572,
          -1.056039392054748,
          -1.3402265266227635,
          -1.2265516727955572,
          -1.3402265266227635,
          -1.2833890997091604,
          -1.3402265266227635,
          0.5354085615261401,
          0.42173370769893376,
          0.6490834153533465,
          0.13754657313091806,
          0.4785711346125367,
          0.42173370769893376,
          0.5354085615261401,
          -0.26031541526430396,
          0.4785711346125367,
          0.08070914621731488,
          -0.1466405614370976,
          0.25122142695812444,
          0.13754657313091806,
          0.5354085615261401,
          -0.08980313452349442,
          0.3648962807853308,
          0.42173370769893376,
          0.194384000044521,
          0.42173370769893376,
          0.08070914621731488,
          0.5922459884397431,
          0.13754657313091806,
          0.6490834153533465,
          0.5354085615261401,
          0.3080588538717274,
          0.3648962807853308,
          0.5922459884397431,
          0.7059208422669494,
          0.42173370769893376,
          -0.1466405614370976,
          0.023871719303711698,
          -0.03296570760989124,
          0.08070914621731488,
          0.7627582691805523,
          0.42173370769893376,
          0.42173370769893376,
          0.5354085615261401,
          0.3648962807853308,
          0.194384000044521,
          0.13754657313091806,
          0.3648962807853308,
          0.4785711346125367,
          0.13754657313091806,
          -0.26031541526430396,
          0.25122142695812444,
          0.25122142695812444,
          0.25122142695812444,
          0.3080588538717274,
          -0.4308276960051133,
          0.194384000044521,
          1.2742951114029808,
          0.7627582691805523,
          1.2174576844893779,
          1.0469454037485681,
          1.1606202575757745,
          1.6153196728845993,
          0.42173370769893376,
          1.44480739214379,
          1.1606202575757745,
          1.3311325383165837,
          0.7627582691805523,
          0.8764331230077588,
          0.9901079768349651,
          0.7059208422669494,
          0.7627582691805523,
          0.8764331230077588,
          0.9901079768349651,
          1.672157099798203,
          1.7858319536254093,
          0.7059208422669494,
          1.1037828306621715,
          0.6490834153533465,
          1.672157099798203,
          0.6490834153533465,
          1.1037828306621715,
          1.2742951114029808,
          0.5922459884397431,
          0.6490834153533465,
          1.0469454037485681,
          1.1606202575757745,
          1.3311325383165837,
          1.5016448190573937,
          1.0469454037485681,
          0.7627582691805523,
          1.0469454037485681,
          1.3311325383165837,
          1.0469454037485681,
          0.9901079768349651,
          0.5922459884397431,
          0.9332705499213622,
          1.0469454037485681,
          0.7627582691805523,
          0.7627582691805523,
          1.2174576844893779,
          1.1037828306621715,
          0.8195956960941558,
          0.7059208422669494,
          0.8195956960941558,
          0.9332705499213622,
          0.7627582691805523,
          -1.3154442950077407,
          -1.3154442950077407,
          -1.3154442950077407,
          -1.3154442950077407,
          -1.3154442950077407,
          -1.052179926427139,
          -1.18381211071744,
          -1.3154442950077407,
          -1.3154442950077407,
          -1.4470764792980415,
          -1.3154442950077407,
          -1.3154442950077407,
          -1.4470764792980415,
          -1.4470764792980415,
          -1.3154442950077407,
          -1.052179926427139,
          -1.052179926427139,
          -1.18381211071744,
          -1.18381211071744,
          -1.18381211071744,
          -1.3154442950077407,
          -1.052179926427139,
          -1.3154442950077407,
          -0.9205477421368382,
          -1.3154442950077407,
          -1.3154442950077407,
          -1.052179926427139,
          -1.3154442950077407,
          -1.3154442950077407,
          -1.3154442950077407,
          -1.3154442950077407,
          -1.052179926427139,
          -1.4470764792980415,
          -1.3154442950077407,
          -1.3154442950077407,
          -1.3154442950077407,
          -1.3154442950077407,
          -1.4470764792980415,
          -1.3154442950077407,
          -1.3154442950077407,
          -1.18381211071744,
          -1.18381211071744,
          -1.3154442950077407,
          -0.7889155578465374,
          -1.052179926427139,
          -1.18381211071744,
          -1.3154442950077407,
          -1.3154442950077407,
          -1.3154442950077407,
          -1.3154442950077407,
          0.2641419164758693,
          0.3957741007661703,
          0.3957741007661703,
          0.13250973218556866,
          0.3957741007661703,
          0.13250973218556866,
          0.5274062850564712,
          -0.262386820685334,
          0.13250973218556866,
          0.2641419164758693,
          -0.262386820685334,
          0.3957741007661703,
          -0.262386820685334,
          0.2641419164758693,
          0.13250973218556866,
          0.2641419164758693,
          0.3957741007661703,
          -0.262386820685334,
          0.3957741007661703,
          -0.13075463639503299,
          0.7906706536370729,
          0.13250973218556866,
          0.3957741007661703,
          0.0008775478952676988,
          0.13250973218556866,
          0.2641419164758693,
          0.2641419164758693,
          0.659038469346772,
          0.3957741007661703,
          -0.262386820685334,
          -0.13075463639503299,
          -0.262386820685334,
          0.0008775478952676988,
          0.5274062850564712,
          0.3957741007661703,
          0.5274062850564712,
          0.3957741007661703,
          0.13250973218556866,
          0.13250973218556866,
          0.13250973218556866,
          0.0008775478952676988,
          0.2641419164758693,
          0.0008775478952676988,
          -0.262386820685334,
          0.13250973218556866,
          0.0008775478952676988,
          0.13250973218556866,
          0.13250973218556866,
          -0.13075463639503299,
          0.13250973218556866,
          1.712095943669179,
          0.9223028379273737,
          1.1855672065079756,
          0.7906706536370729,
          1.3171993907982766,
          1.1855672065079756,
          0.659038469346772,
          0.7906706536370729,
          0.7906706536370729,
          1.712095943669179,
          1.0539350222176747,
          0.9223028379273737,
          1.1855672065079756,
          1.0539350222176747,
          1.580463759378878,
          1.448831575088577,
          0.7906706536370729,
          1.3171993907982766,
          1.448831575088577,
          0.3957741007661703,
          1.448831575088577,
          1.0539350222176747,
          1.0539350222176747,
          0.7906706536370729,
          1.1855672065079756,
          0.7906706536370729,
          0.7906706536370729,
          0.7906706536370729,
          1.1855672065079756,
          0.5274062850564712,
          0.9223028379273737,
          1.0539350222176747,
          1.3171993907982766,
          0.3957741007661703,
          0.2641419164758693,
          1.448831575088577,
          1.580463759378878,
          0.7906706536370729,
          0.7906706536370729,
          1.1855672065079756,
          1.580463759378878,
          1.448831575088577,
          0.9223028379273737,
          1.448831575088577,
          1.712095943669179,
          1.448831575088577,
          0.9223028379273737,
          1.0539350222176747,
          1.448831575088577,
          0.7906706536370729
         ],
         "x0": " ",
         "xaxis": "x",
         "y": [
          "sepal length (cm)",
          "sepal length (cm)",
          "sepal length (cm)",
          "sepal length (cm)",
          "sepal length (cm)",
          "sepal length (cm)",
          "sepal length (cm)",
          "sepal length (cm)",
          "sepal length (cm)",
          "sepal length (cm)",
          "sepal length (cm)",
          "sepal length (cm)",
          "sepal length (cm)",
          "sepal length (cm)",
          "sepal length (cm)",
          "sepal length (cm)",
          "sepal length (cm)",
          "sepal length (cm)",
          "sepal length (cm)",
          "sepal length (cm)",
          "sepal length (cm)",
          "sepal length (cm)",
          "sepal length (cm)",
          "sepal length (cm)",
          "sepal length (cm)",
          "sepal length (cm)",
          "sepal length (cm)",
          "sepal length (cm)",
          "sepal length (cm)",
          "sepal length (cm)",
          "sepal length (cm)",
          "sepal length (cm)",
          "sepal length (cm)",
          "sepal length (cm)",
          "sepal length (cm)",
          "sepal length (cm)",
          "sepal length (cm)",
          "sepal length (cm)",
          "sepal length (cm)",
          "sepal length (cm)",
          "sepal length (cm)",
          "sepal length (cm)",
          "sepal length (cm)",
          "sepal length (cm)",
          "sepal length (cm)",
          "sepal length (cm)",
          "sepal length (cm)",
          "sepal length (cm)",
          "sepal length (cm)",
          "sepal length (cm)",
          "sepal length (cm)",
          "sepal length (cm)",
          "sepal length (cm)",
          "sepal length (cm)",
          "sepal length (cm)",
          "sepal length (cm)",
          "sepal length (cm)",
          "sepal length (cm)",
          "sepal length (cm)",
          "sepal length (cm)",
          "sepal length (cm)",
          "sepal length (cm)",
          "sepal length (cm)",
          "sepal length (cm)",
          "sepal length (cm)",
          "sepal length (cm)",
          "sepal length (cm)",
          "sepal length (cm)",
          "sepal length (cm)",
          "sepal length (cm)",
          "sepal length (cm)",
          "sepal length (cm)",
          "sepal length (cm)",
          "sepal length (cm)",
          "sepal length (cm)",
          "sepal length (cm)",
          "sepal length (cm)",
          "sepal length (cm)",
          "sepal length (cm)",
          "sepal length (cm)",
          "sepal length (cm)",
          "sepal length (cm)",
          "sepal length (cm)",
          "sepal length (cm)",
          "sepal length (cm)",
          "sepal length (cm)",
          "sepal length (cm)",
          "sepal length (cm)",
          "sepal length (cm)",
          "sepal length (cm)",
          "sepal length (cm)",
          "sepal length (cm)",
          "sepal length (cm)",
          "sepal length (cm)",
          "sepal length (cm)",
          "sepal length (cm)",
          "sepal length (cm)",
          "sepal length (cm)",
          "sepal length (cm)",
          "sepal length (cm)",
          "sepal length (cm)",
          "sepal length (cm)",
          "sepal length (cm)",
          "sepal length (cm)",
          "sepal length (cm)",
          "sepal length (cm)",
          "sepal length (cm)",
          "sepal length (cm)",
          "sepal length (cm)",
          "sepal length (cm)",
          "sepal length (cm)",
          "sepal length (cm)",
          "sepal length (cm)",
          "sepal length (cm)",
          "sepal length (cm)",
          "sepal length (cm)",
          "sepal length (cm)",
          "sepal length (cm)",
          "sepal length (cm)",
          "sepal length (cm)",
          "sepal length (cm)",
          "sepal length (cm)",
          "sepal length (cm)",
          "sepal length (cm)",
          "sepal length (cm)",
          "sepal length (cm)",
          "sepal length (cm)",
          "sepal length (cm)",
          "sepal length (cm)",
          "sepal length (cm)",
          "sepal length (cm)",
          "sepal length (cm)",
          "sepal length (cm)",
          "sepal length (cm)",
          "sepal length (cm)",
          "sepal length (cm)",
          "sepal length (cm)",
          "sepal length (cm)",
          "sepal length (cm)",
          "sepal length (cm)",
          "sepal length (cm)",
          "sepal length (cm)",
          "sepal length (cm)",
          "sepal length (cm)",
          "sepal length (cm)",
          "sepal length (cm)",
          "sepal length (cm)",
          "sepal length (cm)",
          "sepal length (cm)",
          "sepal length (cm)",
          "sepal width (cm)",
          "sepal width (cm)",
          "sepal width (cm)",
          "sepal width (cm)",
          "sepal width (cm)",
          "sepal width (cm)",
          "sepal width (cm)",
          "sepal width (cm)",
          "sepal width (cm)",
          "sepal width (cm)",
          "sepal width (cm)",
          "sepal width (cm)",
          "sepal width (cm)",
          "sepal width (cm)",
          "sepal width (cm)",
          "sepal width (cm)",
          "sepal width (cm)",
          "sepal width (cm)",
          "sepal width (cm)",
          "sepal width (cm)",
          "sepal width (cm)",
          "sepal width (cm)",
          "sepal width (cm)",
          "sepal width (cm)",
          "sepal width (cm)",
          "sepal width (cm)",
          "sepal width (cm)",
          "sepal width (cm)",
          "sepal width (cm)",
          "sepal width (cm)",
          "sepal width (cm)",
          "sepal width (cm)",
          "sepal width (cm)",
          "sepal width (cm)",
          "sepal width (cm)",
          "sepal width (cm)",
          "sepal width (cm)",
          "sepal width (cm)",
          "sepal width (cm)",
          "sepal width (cm)",
          "sepal width (cm)",
          "sepal width (cm)",
          "sepal width (cm)",
          "sepal width (cm)",
          "sepal width (cm)",
          "sepal width (cm)",
          "sepal width (cm)",
          "sepal width (cm)",
          "sepal width (cm)",
          "sepal width (cm)",
          "sepal width (cm)",
          "sepal width (cm)",
          "sepal width (cm)",
          "sepal width (cm)",
          "sepal width (cm)",
          "sepal width (cm)",
          "sepal width (cm)",
          "sepal width (cm)",
          "sepal width (cm)",
          "sepal width (cm)",
          "sepal width (cm)",
          "sepal width (cm)",
          "sepal width (cm)",
          "sepal width (cm)",
          "sepal width (cm)",
          "sepal width (cm)",
          "sepal width (cm)",
          "sepal width (cm)",
          "sepal width (cm)",
          "sepal width (cm)",
          "sepal width (cm)",
          "sepal width (cm)",
          "sepal width (cm)",
          "sepal width (cm)",
          "sepal width (cm)",
          "sepal width (cm)",
          "sepal width (cm)",
          "sepal width (cm)",
          "sepal width (cm)",
          "sepal width (cm)",
          "sepal width (cm)",
          "sepal width (cm)",
          "sepal width (cm)",
          "sepal width (cm)",
          "sepal width (cm)",
          "sepal width (cm)",
          "sepal width (cm)",
          "sepal width (cm)",
          "sepal width (cm)",
          "sepal width (cm)",
          "sepal width (cm)",
          "sepal width (cm)",
          "sepal width (cm)",
          "sepal width (cm)",
          "sepal width (cm)",
          "sepal width (cm)",
          "sepal width (cm)",
          "sepal width (cm)",
          "sepal width (cm)",
          "sepal width (cm)",
          "sepal width (cm)",
          "sepal width (cm)",
          "sepal width (cm)",
          "sepal width (cm)",
          "sepal width (cm)",
          "sepal width (cm)",
          "sepal width (cm)",
          "sepal width (cm)",
          "sepal width (cm)",
          "sepal width (cm)",
          "sepal width (cm)",
          "sepal width (cm)",
          "sepal width (cm)",
          "sepal width (cm)",
          "sepal width (cm)",
          "sepal width (cm)",
          "sepal width (cm)",
          "sepal width (cm)",
          "sepal width (cm)",
          "sepal width (cm)",
          "sepal width (cm)",
          "sepal width (cm)",
          "sepal width (cm)",
          "sepal width (cm)",
          "sepal width (cm)",
          "sepal width (cm)",
          "sepal width (cm)",
          "sepal width (cm)",
          "sepal width (cm)",
          "sepal width (cm)",
          "sepal width (cm)",
          "sepal width (cm)",
          "sepal width (cm)",
          "sepal width (cm)",
          "sepal width (cm)",
          "sepal width (cm)",
          "sepal width (cm)",
          "sepal width (cm)",
          "sepal width (cm)",
          "sepal width (cm)",
          "sepal width (cm)",
          "sepal width (cm)",
          "sepal width (cm)",
          "sepal width (cm)",
          "sepal width (cm)",
          "sepal width (cm)",
          "sepal width (cm)",
          "sepal width (cm)",
          "sepal width (cm)",
          "sepal width (cm)",
          "petal length (cm)",
          "petal length (cm)",
          "petal length (cm)",
          "petal length (cm)",
          "petal length (cm)",
          "petal length (cm)",
          "petal length (cm)",
          "petal length (cm)",
          "petal length (cm)",
          "petal length (cm)",
          "petal length (cm)",
          "petal length (cm)",
          "petal length (cm)",
          "petal length (cm)",
          "petal length (cm)",
          "petal length (cm)",
          "petal length (cm)",
          "petal length (cm)",
          "petal length (cm)",
          "petal length (cm)",
          "petal length (cm)",
          "petal length (cm)",
          "petal length (cm)",
          "petal length (cm)",
          "petal length (cm)",
          "petal length (cm)",
          "petal length (cm)",
          "petal length (cm)",
          "petal length (cm)",
          "petal length (cm)",
          "petal length (cm)",
          "petal length (cm)",
          "petal length (cm)",
          "petal length (cm)",
          "petal length (cm)",
          "petal length (cm)",
          "petal length (cm)",
          "petal length (cm)",
          "petal length (cm)",
          "petal length (cm)",
          "petal length (cm)",
          "petal length (cm)",
          "petal length (cm)",
          "petal length (cm)",
          "petal length (cm)",
          "petal length (cm)",
          "petal length (cm)",
          "petal length (cm)",
          "petal length (cm)",
          "petal length (cm)",
          "petal length (cm)",
          "petal length (cm)",
          "petal length (cm)",
          "petal length (cm)",
          "petal length (cm)",
          "petal length (cm)",
          "petal length (cm)",
          "petal length (cm)",
          "petal length (cm)",
          "petal length (cm)",
          "petal length (cm)",
          "petal length (cm)",
          "petal length (cm)",
          "petal length (cm)",
          "petal length (cm)",
          "petal length (cm)",
          "petal length (cm)",
          "petal length (cm)",
          "petal length (cm)",
          "petal length (cm)",
          "petal length (cm)",
          "petal length (cm)",
          "petal length (cm)",
          "petal length (cm)",
          "petal length (cm)",
          "petal length (cm)",
          "petal length (cm)",
          "petal length (cm)",
          "petal length (cm)",
          "petal length (cm)",
          "petal length (cm)",
          "petal length (cm)",
          "petal length (cm)",
          "petal length (cm)",
          "petal length (cm)",
          "petal length (cm)",
          "petal length (cm)",
          "petal length (cm)",
          "petal length (cm)",
          "petal length (cm)",
          "petal length (cm)",
          "petal length (cm)",
          "petal length (cm)",
          "petal length (cm)",
          "petal length (cm)",
          "petal length (cm)",
          "petal length (cm)",
          "petal length (cm)",
          "petal length (cm)",
          "petal length (cm)",
          "petal length (cm)",
          "petal length (cm)",
          "petal length (cm)",
          "petal length (cm)",
          "petal length (cm)",
          "petal length (cm)",
          "petal length (cm)",
          "petal length (cm)",
          "petal length (cm)",
          "petal length (cm)",
          "petal length (cm)",
          "petal length (cm)",
          "petal length (cm)",
          "petal length (cm)",
          "petal length (cm)",
          "petal length (cm)",
          "petal length (cm)",
          "petal length (cm)",
          "petal length (cm)",
          "petal length (cm)",
          "petal length (cm)",
          "petal length (cm)",
          "petal length (cm)",
          "petal length (cm)",
          "petal length (cm)",
          "petal length (cm)",
          "petal length (cm)",
          "petal length (cm)",
          "petal length (cm)",
          "petal length (cm)",
          "petal length (cm)",
          "petal length (cm)",
          "petal length (cm)",
          "petal length (cm)",
          "petal length (cm)",
          "petal length (cm)",
          "petal length (cm)",
          "petal length (cm)",
          "petal length (cm)",
          "petal length (cm)",
          "petal length (cm)",
          "petal length (cm)",
          "petal length (cm)",
          "petal length (cm)",
          "petal length (cm)",
          "petal length (cm)",
          "petal length (cm)",
          "petal length (cm)",
          "petal length (cm)",
          "petal length (cm)",
          "petal width (cm)",
          "petal width (cm)",
          "petal width (cm)",
          "petal width (cm)",
          "petal width (cm)",
          "petal width (cm)",
          "petal width (cm)",
          "petal width (cm)",
          "petal width (cm)",
          "petal width (cm)",
          "petal width (cm)",
          "petal width (cm)",
          "petal width (cm)",
          "petal width (cm)",
          "petal width (cm)",
          "petal width (cm)",
          "petal width (cm)",
          "petal width (cm)",
          "petal width (cm)",
          "petal width (cm)",
          "petal width (cm)",
          "petal width (cm)",
          "petal width (cm)",
          "petal width (cm)",
          "petal width (cm)",
          "petal width (cm)",
          "petal width (cm)",
          "petal width (cm)",
          "petal width (cm)",
          "petal width (cm)",
          "petal width (cm)",
          "petal width (cm)",
          "petal width (cm)",
          "petal width (cm)",
          "petal width (cm)",
          "petal width (cm)",
          "petal width (cm)",
          "petal width (cm)",
          "petal width (cm)",
          "petal width (cm)",
          "petal width (cm)",
          "petal width (cm)",
          "petal width (cm)",
          "petal width (cm)",
          "petal width (cm)",
          "petal width (cm)",
          "petal width (cm)",
          "petal width (cm)",
          "petal width (cm)",
          "petal width (cm)",
          "petal width (cm)",
          "petal width (cm)",
          "petal width (cm)",
          "petal width (cm)",
          "petal width (cm)",
          "petal width (cm)",
          "petal width (cm)",
          "petal width (cm)",
          "petal width (cm)",
          "petal width (cm)",
          "petal width (cm)",
          "petal width (cm)",
          "petal width (cm)",
          "petal width (cm)",
          "petal width (cm)",
          "petal width (cm)",
          "petal width (cm)",
          "petal width (cm)",
          "petal width (cm)",
          "petal width (cm)",
          "petal width (cm)",
          "petal width (cm)",
          "petal width (cm)",
          "petal width (cm)",
          "petal width (cm)",
          "petal width (cm)",
          "petal width (cm)",
          "petal width (cm)",
          "petal width (cm)",
          "petal width (cm)",
          "petal width (cm)",
          "petal width (cm)",
          "petal width (cm)",
          "petal width (cm)",
          "petal width (cm)",
          "petal width (cm)",
          "petal width (cm)",
          "petal width (cm)",
          "petal width (cm)",
          "petal width (cm)",
          "petal width (cm)",
          "petal width (cm)",
          "petal width (cm)",
          "petal width (cm)",
          "petal width (cm)",
          "petal width (cm)",
          "petal width (cm)",
          "petal width (cm)",
          "petal width (cm)",
          "petal width (cm)",
          "petal width (cm)",
          "petal width (cm)",
          "petal width (cm)",
          "petal width (cm)",
          "petal width (cm)",
          "petal width (cm)",
          "petal width (cm)",
          "petal width (cm)",
          "petal width (cm)",
          "petal width (cm)",
          "petal width (cm)",
          "petal width (cm)",
          "petal width (cm)",
          "petal width (cm)",
          "petal width (cm)",
          "petal width (cm)",
          "petal width (cm)",
          "petal width (cm)",
          "petal width (cm)",
          "petal width (cm)",
          "petal width (cm)",
          "petal width (cm)",
          "petal width (cm)",
          "petal width (cm)",
          "petal width (cm)",
          "petal width (cm)",
          "petal width (cm)",
          "petal width (cm)",
          "petal width (cm)",
          "petal width (cm)",
          "petal width (cm)",
          "petal width (cm)",
          "petal width (cm)",
          "petal width (cm)",
          "petal width (cm)",
          "petal width (cm)",
          "petal width (cm)",
          "petal width (cm)",
          "petal width (cm)",
          "petal width (cm)",
          "petal width (cm)",
          "petal width (cm)",
          "petal width (cm)",
          "petal width (cm)",
          "petal width (cm)",
          "petal width (cm)",
          "petal width (cm)",
          "petal width (cm)",
          "petal width (cm)",
          "petal width (cm)"
         ],
         "y0": " ",
         "yaxis": "y"
        }
       ],
       "layout": {
        "boxmode": "group",
        "legend": {
         "tracegroupgap": 0
        },
        "margin": {
         "t": 60
        },
        "template": {
         "data": {
          "bar": [
           {
            "error_x": {
             "color": "#2a3f5f"
            },
            "error_y": {
             "color": "#2a3f5f"
            },
            "marker": {
             "line": {
              "color": "#E5ECF6",
              "width": 0.5
             },
             "pattern": {
              "fillmode": "overlay",
              "size": 10,
              "solidity": 0.2
             }
            },
            "type": "bar"
           }
          ],
          "barpolar": [
           {
            "marker": {
             "line": {
              "color": "#E5ECF6",
              "width": 0.5
             },
             "pattern": {
              "fillmode": "overlay",
              "size": 10,
              "solidity": 0.2
             }
            },
            "type": "barpolar"
           }
          ],
          "carpet": [
           {
            "aaxis": {
             "endlinecolor": "#2a3f5f",
             "gridcolor": "white",
             "linecolor": "white",
             "minorgridcolor": "white",
             "startlinecolor": "#2a3f5f"
            },
            "baxis": {
             "endlinecolor": "#2a3f5f",
             "gridcolor": "white",
             "linecolor": "white",
             "minorgridcolor": "white",
             "startlinecolor": "#2a3f5f"
            },
            "type": "carpet"
           }
          ],
          "choropleth": [
           {
            "colorbar": {
             "outlinewidth": 0,
             "ticks": ""
            },
            "type": "choropleth"
           }
          ],
          "contour": [
           {
            "colorbar": {
             "outlinewidth": 0,
             "ticks": ""
            },
            "colorscale": [
             [
              0,
              "#0d0887"
             ],
             [
              0.1111111111111111,
              "#46039f"
             ],
             [
              0.2222222222222222,
              "#7201a8"
             ],
             [
              0.3333333333333333,
              "#9c179e"
             ],
             [
              0.4444444444444444,
              "#bd3786"
             ],
             [
              0.5555555555555556,
              "#d8576b"
             ],
             [
              0.6666666666666666,
              "#ed7953"
             ],
             [
              0.7777777777777778,
              "#fb9f3a"
             ],
             [
              0.8888888888888888,
              "#fdca26"
             ],
             [
              1,
              "#f0f921"
             ]
            ],
            "type": "contour"
           }
          ],
          "contourcarpet": [
           {
            "colorbar": {
             "outlinewidth": 0,
             "ticks": ""
            },
            "type": "contourcarpet"
           }
          ],
          "heatmap": [
           {
            "colorbar": {
             "outlinewidth": 0,
             "ticks": ""
            },
            "colorscale": [
             [
              0,
              "#0d0887"
             ],
             [
              0.1111111111111111,
              "#46039f"
             ],
             [
              0.2222222222222222,
              "#7201a8"
             ],
             [
              0.3333333333333333,
              "#9c179e"
             ],
             [
              0.4444444444444444,
              "#bd3786"
             ],
             [
              0.5555555555555556,
              "#d8576b"
             ],
             [
              0.6666666666666666,
              "#ed7953"
             ],
             [
              0.7777777777777778,
              "#fb9f3a"
             ],
             [
              0.8888888888888888,
              "#fdca26"
             ],
             [
              1,
              "#f0f921"
             ]
            ],
            "type": "heatmap"
           }
          ],
          "heatmapgl": [
           {
            "colorbar": {
             "outlinewidth": 0,
             "ticks": ""
            },
            "colorscale": [
             [
              0,
              "#0d0887"
             ],
             [
              0.1111111111111111,
              "#46039f"
             ],
             [
              0.2222222222222222,
              "#7201a8"
             ],
             [
              0.3333333333333333,
              "#9c179e"
             ],
             [
              0.4444444444444444,
              "#bd3786"
             ],
             [
              0.5555555555555556,
              "#d8576b"
             ],
             [
              0.6666666666666666,
              "#ed7953"
             ],
             [
              0.7777777777777778,
              "#fb9f3a"
             ],
             [
              0.8888888888888888,
              "#fdca26"
             ],
             [
              1,
              "#f0f921"
             ]
            ],
            "type": "heatmapgl"
           }
          ],
          "histogram": [
           {
            "marker": {
             "pattern": {
              "fillmode": "overlay",
              "size": 10,
              "solidity": 0.2
             }
            },
            "type": "histogram"
           }
          ],
          "histogram2d": [
           {
            "colorbar": {
             "outlinewidth": 0,
             "ticks": ""
            },
            "colorscale": [
             [
              0,
              "#0d0887"
             ],
             [
              0.1111111111111111,
              "#46039f"
             ],
             [
              0.2222222222222222,
              "#7201a8"
             ],
             [
              0.3333333333333333,
              "#9c179e"
             ],
             [
              0.4444444444444444,
              "#bd3786"
             ],
             [
              0.5555555555555556,
              "#d8576b"
             ],
             [
              0.6666666666666666,
              "#ed7953"
             ],
             [
              0.7777777777777778,
              "#fb9f3a"
             ],
             [
              0.8888888888888888,
              "#fdca26"
             ],
             [
              1,
              "#f0f921"
             ]
            ],
            "type": "histogram2d"
           }
          ],
          "histogram2dcontour": [
           {
            "colorbar": {
             "outlinewidth": 0,
             "ticks": ""
            },
            "colorscale": [
             [
              0,
              "#0d0887"
             ],
             [
              0.1111111111111111,
              "#46039f"
             ],
             [
              0.2222222222222222,
              "#7201a8"
             ],
             [
              0.3333333333333333,
              "#9c179e"
             ],
             [
              0.4444444444444444,
              "#bd3786"
             ],
             [
              0.5555555555555556,
              "#d8576b"
             ],
             [
              0.6666666666666666,
              "#ed7953"
             ],
             [
              0.7777777777777778,
              "#fb9f3a"
             ],
             [
              0.8888888888888888,
              "#fdca26"
             ],
             [
              1,
              "#f0f921"
             ]
            ],
            "type": "histogram2dcontour"
           }
          ],
          "mesh3d": [
           {
            "colorbar": {
             "outlinewidth": 0,
             "ticks": ""
            },
            "type": "mesh3d"
           }
          ],
          "parcoords": [
           {
            "line": {
             "colorbar": {
              "outlinewidth": 0,
              "ticks": ""
             }
            },
            "type": "parcoords"
           }
          ],
          "pie": [
           {
            "automargin": true,
            "type": "pie"
           }
          ],
          "scatter": [
           {
            "marker": {
             "colorbar": {
              "outlinewidth": 0,
              "ticks": ""
             }
            },
            "type": "scatter"
           }
          ],
          "scatter3d": [
           {
            "line": {
             "colorbar": {
              "outlinewidth": 0,
              "ticks": ""
             }
            },
            "marker": {
             "colorbar": {
              "outlinewidth": 0,
              "ticks": ""
             }
            },
            "type": "scatter3d"
           }
          ],
          "scattercarpet": [
           {
            "marker": {
             "colorbar": {
              "outlinewidth": 0,
              "ticks": ""
             }
            },
            "type": "scattercarpet"
           }
          ],
          "scattergeo": [
           {
            "marker": {
             "colorbar": {
              "outlinewidth": 0,
              "ticks": ""
             }
            },
            "type": "scattergeo"
           }
          ],
          "scattergl": [
           {
            "marker": {
             "colorbar": {
              "outlinewidth": 0,
              "ticks": ""
             }
            },
            "type": "scattergl"
           }
          ],
          "scattermapbox": [
           {
            "marker": {
             "colorbar": {
              "outlinewidth": 0,
              "ticks": ""
             }
            },
            "type": "scattermapbox"
           }
          ],
          "scatterpolar": [
           {
            "marker": {
             "colorbar": {
              "outlinewidth": 0,
              "ticks": ""
             }
            },
            "type": "scatterpolar"
           }
          ],
          "scatterpolargl": [
           {
            "marker": {
             "colorbar": {
              "outlinewidth": 0,
              "ticks": ""
             }
            },
            "type": "scatterpolargl"
           }
          ],
          "scatterternary": [
           {
            "marker": {
             "colorbar": {
              "outlinewidth": 0,
              "ticks": ""
             }
            },
            "type": "scatterternary"
           }
          ],
          "surface": [
           {
            "colorbar": {
             "outlinewidth": 0,
             "ticks": ""
            },
            "colorscale": [
             [
              0,
              "#0d0887"
             ],
             [
              0.1111111111111111,
              "#46039f"
             ],
             [
              0.2222222222222222,
              "#7201a8"
             ],
             [
              0.3333333333333333,
              "#9c179e"
             ],
             [
              0.4444444444444444,
              "#bd3786"
             ],
             [
              0.5555555555555556,
              "#d8576b"
             ],
             [
              0.6666666666666666,
              "#ed7953"
             ],
             [
              0.7777777777777778,
              "#fb9f3a"
             ],
             [
              0.8888888888888888,
              "#fdca26"
             ],
             [
              1,
              "#f0f921"
             ]
            ],
            "type": "surface"
           }
          ],
          "table": [
           {
            "cells": {
             "fill": {
              "color": "#EBF0F8"
             },
             "line": {
              "color": "white"
             }
            },
            "header": {
             "fill": {
              "color": "#C8D4E3"
             },
             "line": {
              "color": "white"
             }
            },
            "type": "table"
           }
          ]
         },
         "layout": {
          "annotationdefaults": {
           "arrowcolor": "#2a3f5f",
           "arrowhead": 0,
           "arrowwidth": 1
          },
          "autotypenumbers": "strict",
          "coloraxis": {
           "colorbar": {
            "outlinewidth": 0,
            "ticks": ""
           }
          },
          "colorscale": {
           "diverging": [
            [
             0,
             "#8e0152"
            ],
            [
             0.1,
             "#c51b7d"
            ],
            [
             0.2,
             "#de77ae"
            ],
            [
             0.3,
             "#f1b6da"
            ],
            [
             0.4,
             "#fde0ef"
            ],
            [
             0.5,
             "#f7f7f7"
            ],
            [
             0.6,
             "#e6f5d0"
            ],
            [
             0.7,
             "#b8e186"
            ],
            [
             0.8,
             "#7fbc41"
            ],
            [
             0.9,
             "#4d9221"
            ],
            [
             1,
             "#276419"
            ]
           ],
           "sequential": [
            [
             0,
             "#0d0887"
            ],
            [
             0.1111111111111111,
             "#46039f"
            ],
            [
             0.2222222222222222,
             "#7201a8"
            ],
            [
             0.3333333333333333,
             "#9c179e"
            ],
            [
             0.4444444444444444,
             "#bd3786"
            ],
            [
             0.5555555555555556,
             "#d8576b"
            ],
            [
             0.6666666666666666,
             "#ed7953"
            ],
            [
             0.7777777777777778,
             "#fb9f3a"
            ],
            [
             0.8888888888888888,
             "#fdca26"
            ],
            [
             1,
             "#f0f921"
            ]
           ],
           "sequentialminus": [
            [
             0,
             "#0d0887"
            ],
            [
             0.1111111111111111,
             "#46039f"
            ],
            [
             0.2222222222222222,
             "#7201a8"
            ],
            [
             0.3333333333333333,
             "#9c179e"
            ],
            [
             0.4444444444444444,
             "#bd3786"
            ],
            [
             0.5555555555555556,
             "#d8576b"
            ],
            [
             0.6666666666666666,
             "#ed7953"
            ],
            [
             0.7777777777777778,
             "#fb9f3a"
            ],
            [
             0.8888888888888888,
             "#fdca26"
            ],
            [
             1,
             "#f0f921"
            ]
           ]
          },
          "colorway": [
           "#636efa",
           "#EF553B",
           "#00cc96",
           "#ab63fa",
           "#FFA15A",
           "#19d3f3",
           "#FF6692",
           "#B6E880",
           "#FF97FF",
           "#FECB52"
          ],
          "font": {
           "color": "#2a3f5f"
          },
          "geo": {
           "bgcolor": "white",
           "lakecolor": "white",
           "landcolor": "#E5ECF6",
           "showlakes": true,
           "showland": true,
           "subunitcolor": "white"
          },
          "hoverlabel": {
           "align": "left"
          },
          "hovermode": "closest",
          "mapbox": {
           "style": "light"
          },
          "paper_bgcolor": "white",
          "plot_bgcolor": "#E5ECF6",
          "polar": {
           "angularaxis": {
            "gridcolor": "white",
            "linecolor": "white",
            "ticks": ""
           },
           "bgcolor": "#E5ECF6",
           "radialaxis": {
            "gridcolor": "white",
            "linecolor": "white",
            "ticks": ""
           }
          },
          "scene": {
           "xaxis": {
            "backgroundcolor": "#E5ECF6",
            "gridcolor": "white",
            "gridwidth": 2,
            "linecolor": "white",
            "showbackground": true,
            "ticks": "",
            "zerolinecolor": "white"
           },
           "yaxis": {
            "backgroundcolor": "#E5ECF6",
            "gridcolor": "white",
            "gridwidth": 2,
            "linecolor": "white",
            "showbackground": true,
            "ticks": "",
            "zerolinecolor": "white"
           },
           "zaxis": {
            "backgroundcolor": "#E5ECF6",
            "gridcolor": "white",
            "gridwidth": 2,
            "linecolor": "white",
            "showbackground": true,
            "ticks": "",
            "zerolinecolor": "white"
           }
          },
          "shapedefaults": {
           "line": {
            "color": "#2a3f5f"
           }
          },
          "ternary": {
           "aaxis": {
            "gridcolor": "white",
            "linecolor": "white",
            "ticks": ""
           },
           "baxis": {
            "gridcolor": "white",
            "linecolor": "white",
            "ticks": ""
           },
           "bgcolor": "#E5ECF6",
           "caxis": {
            "gridcolor": "white",
            "linecolor": "white",
            "ticks": ""
           }
          },
          "title": {
           "x": 0.05
          },
          "xaxis": {
           "automargin": true,
           "gridcolor": "white",
           "linecolor": "white",
           "ticks": "",
           "title": {
            "standoff": 15
           },
           "zerolinecolor": "white",
           "zerolinewidth": 2
          },
          "yaxis": {
           "automargin": true,
           "gridcolor": "white",
           "linecolor": "white",
           "ticks": "",
           "title": {
            "standoff": 15
           },
           "zerolinecolor": "white",
           "zerolinewidth": 2
          }
         }
        },
        "xaxis": {
         "anchor": "y",
         "domain": [
          0,
          1
         ],
         "title": {
          "text": "value"
         }
        },
        "yaxis": {
         "anchor": "x",
         "domain": [
          0,
          1
         ],
         "title": {
          "text": "variable"
         }
        }
       }
      },
      "text/html": [
       "<div>                            <div id=\"98ac7bc0-4ffe-4e19-9b44-d5b468108aee\" class=\"plotly-graph-div\" style=\"height:525px; width:100%;\"></div>            <script type=\"text/javascript\">                require([\"plotly\"], function(Plotly) {                    window.PLOTLYENV=window.PLOTLYENV || {};                                    if (document.getElementById(\"98ac7bc0-4ffe-4e19-9b44-d5b468108aee\")) {                    Plotly.newPlot(                        \"98ac7bc0-4ffe-4e19-9b44-d5b468108aee\",                        [{\"alignmentgroup\":\"True\",\"hovertemplate\":\"value=%{x}<br>variable=%{y}<extra></extra>\",\"legendgroup\":\"\",\"marker\":{\"color\":\"#636efa\"},\"name\":\"\",\"notched\":false,\"offsetgroup\":\"\",\"orientation\":\"h\",\"showlegend\":false,\"type\":\"box\",\"x\":[-0.9006811702978099,-1.1430169111851116,-1.3853526520724144,-1.5065205225160663,-1.0218490407414607,-0.5371775589668552,-1.5065205225160663,-1.0218490407414607,-1.748856263403368,-1.1430169111851116,-0.5371775589668552,-1.2641847816287635,-1.2641847816287635,-1.87002413384702,-0.052506077192250644,-0.1736739476359015,-0.5371775589668552,-0.9006811702978099,-0.1736739476359015,-0.9006811702978099,-0.5371775589668552,-0.9006811702978099,-1.5065205225160663,-0.9006811702978099,-1.2641847816287635,-1.0218490407414607,-1.0218490407414607,-0.779513299854158,-0.779513299854158,-1.3853526520724144,-1.2641847816287635,-0.5371775589668552,-0.779513299854158,-0.4160096885232043,-1.1430169111851116,-1.0218490407414607,-0.4160096885232043,-1.1430169111851116,-1.748856263403368,-0.9006811702978099,-1.0218490407414607,-1.6276883929597172,-1.748856263403368,-1.0218490407414607,-0.9006811702978099,-1.2641847816287635,-0.9006811702978099,-1.5065205225160663,-0.6583454294105071,-1.0218490407414607,1.401508368131565,0.6745011454696578,1.2803404976879142,-0.4160096885232043,0.7956690159133086,-0.1736739476359015,0.5533332750260058,-1.1430169111851116,0.9168368863569595,-0.779513299854158,-1.0218490407414607,0.06866179325140129,0.18982966369505214,0.310997534138703,-0.29484181807955345,1.0380047568006114,-0.29484181807955345,-0.052506077192250644,0.4321654045823549,-0.29484181807955345,0.06866179325140129,0.310997534138703,0.5533332750260058,0.310997534138703,0.6745011454696578,0.9168368863569595,1.1591726272442622,1.0380047568006114,0.18982966369505214,-0.1736739476359015,-0.4160096885232043,-0.4160096885232043,-0.052506077192250644,0.18982966369505214,-0.5371775589668552,0.18982966369505214,1.0380047568006114,0.5533332750260058,-0.29484181807955345,-0.4160096885232043,-0.4160096885232043,0.310997534138703,-0.052506077192250644,-1.0218490407414607,-0.29484181807955345,-0.1736739476359015,-0.1736739476359015,0.4321654045823549,-0.9006811702978099,-0.1736739476359015,0.5533332750260058,-0.052506077192250644,1.522676238575216,0.5533332750260058,0.7956690159133086,2.1285155907934725,-1.1430169111851116,1.7650119794625188,1.0380047568006114,1.6438441090188678,0.7956690159133086,0.6745011454696578,1.1591726272442622,-0.1736739476359015,-0.052506077192250644,0.6745011454696578,0.7956690159133086,2.249683461237124,2.249683461237124,0.18982966369505214,1.2803404976879142,-0.29484181807955345,2.249683461237124,0.5533332750260058,1.0380047568006114,1.6438441090188678,0.4321654045823549,0.310997534138703,0.6745011454696578,1.6438441090188678,1.8861798499061706,2.492019202124427,0.6745011454696578,0.5533332750260058,0.310997534138703,2.249683461237124,0.5533332750260058,0.6745011454696578,0.18982966369505214,1.2803404976879142,1.0380047568006114,1.2803404976879142,-0.052506077192250644,1.1591726272442622,1.0380047568006114,1.0380047568006114,0.5533332750260058,0.7956690159133086,0.4321654045823549,0.06866179325140129,1.0190043519716065,-0.1319794793216258,0.3284140531956675,0.09821728693702086,1.2492011182302531,1.939791417006192,0.7888075857129598,0.7888075857129598,-0.36217624558027245,0.09821728693702086,1.4793978844888998,0.7888075857129598,-0.1319794793216258,-0.1319794793216258,2.169988183264839,3.0907752482994253,1.939791417006192,1.0190043519716065,1.7095946507475455,1.7095946507475455,0.7888075857129598,1.4793978844888998,1.2492011182302531,0.5586108194543131,0.7888075857129598,-0.1319794793216258,0.7888075857129598,1.0190043519716065,0.7888075857129598,0.3284140531956675,0.09821728693702086,0.7888075857129598,2.400184949523484,2.630381715782132,0.09821728693702086,0.3284140531956675,1.0190043519716065,1.2492011182302531,-0.1319794793216258,0.7888075857129598,1.0190043519716065,-1.7433568431321513,0.3284140531956675,1.0190043519716065,1.7095946507475455,-0.1319794793216258,1.7095946507475455,0.3284140531956675,1.4793978844888998,0.5586108194543131,0.3284140531956675,0.3284140531956675,0.09821728693702086,-1.7433568431321513,-0.5923730118389191,-0.5923730118389191,0.5586108194543131,-1.5131600768735047,-0.36217624558027245,-0.8225697780975647,-2.43394714190809,-0.1319794793216258,-1.973553609390797,-0.36217624558027245,-0.36217624558027245,0.09821728693702086,-0.1319794793216258,-0.8225697780975647,-1.973553609390797,-1.282963310614858,0.3284140531956675,-0.5923730118389191,-1.282963310614858,-0.5923730118389191,-0.36217624558027245,-0.1319794793216258,-0.5923730118389191,-0.1319794793216258,-0.36217624558027245,-1.0527665443562113,-1.5131600768735047,-1.5131600768735047,-0.8225697780975647,-0.8225697780975647,-0.1319794793216258,0.7888075857129598,0.09821728693702086,-1.7433568431321513,-0.1319794793216258,-1.282963310614858,-1.0527665443562113,-0.1319794793216258,-1.0527665443562113,-1.7433568431321513,-0.8225697780975647,-0.1319794793216258,-0.36217624558027245,-0.36217624558027245,-1.282963310614858,-0.5923730118389191,0.5586108194543131,-0.8225697780975647,-0.1319794793216258,-0.36217624558027245,-0.1319794793216258,-0.1319794793216258,-1.282963310614858,-0.36217624558027245,-1.282963310614858,1.2492011182302531,0.3284140531956675,-0.8225697780975647,-0.1319794793216258,-1.282963310614858,-0.5923730118389191,0.3284140531956675,-0.1319794793216258,1.7095946507475455,-1.0527665443562113,-1.973553609390797,0.3284140531956675,-0.5923730118389191,-0.5923730118389191,-0.8225697780975647,0.5586108194543131,0.3284140531956675,-0.5923730118389191,-0.1319794793216258,-0.5923730118389191,-0.1319794793216258,-0.5923730118389191,1.7095946507475455,-0.5923730118389191,-0.5923730118389191,-1.0527665443562113,-0.1319794793216258,0.7888075857129598,0.09821728693702086,-0.1319794793216258,0.09821728693702086,0.09821728693702086,0.09821728693702086,-0.8225697780975647,0.3284140531956675,0.5586108194543131,-0.1319794793216258,-1.282963310614858,-0.1319794793216258,0.7888075857129598,-0.1319794793216258,-1.3402265266227635,-1.3402265266227635,-1.3970639535363667,-1.2833890997091604,-1.3402265266227635,-1.169714245881954,-1.3402265266227635,-1.2833890997091604,-1.3402265266227635,-1.2833890997091604,-1.2833890997091604,-1.2265516727955572,-1.3402265266227635,-1.5107388073635728,-1.4539013804499696,-1.2833890997091604,-1.3970639535363667,-1.3402265266227635,-1.169714245881954,-1.2833890997091604,-1.169714245881954,-1.2833890997091604,-1.567576234277176,-1.169714245881954,-1.056039392054748,-1.2265516727955572,-1.2265516727955572,-1.2833890997091604,-1.3402265266227635,-1.2265516727955572,-1.2265516727955572,-1.2833890997091604,-1.2833890997091604,-1.3402265266227635,-1.2833890997091604,-1.4539013804499696,-1.3970639535363667,-1.3402265266227635,-1.3970639535363667,-1.2833890997091604,-1.3970639535363667,-1.3970639535363667,-1.3970639535363667,-1.2265516727955572,-1.056039392054748,-1.3402265266227635,-1.2265516727955572,-1.3402265266227635,-1.2833890997091604,-1.3402265266227635,0.5354085615261401,0.42173370769893376,0.6490834153533465,0.13754657313091806,0.4785711346125367,0.42173370769893376,0.5354085615261401,-0.26031541526430396,0.4785711346125367,0.08070914621731488,-0.1466405614370976,0.25122142695812444,0.13754657313091806,0.5354085615261401,-0.08980313452349442,0.3648962807853308,0.42173370769893376,0.194384000044521,0.42173370769893376,0.08070914621731488,0.5922459884397431,0.13754657313091806,0.6490834153533465,0.5354085615261401,0.3080588538717274,0.3648962807853308,0.5922459884397431,0.7059208422669494,0.42173370769893376,-0.1466405614370976,0.023871719303711698,-0.03296570760989124,0.08070914621731488,0.7627582691805523,0.42173370769893376,0.42173370769893376,0.5354085615261401,0.3648962807853308,0.194384000044521,0.13754657313091806,0.3648962807853308,0.4785711346125367,0.13754657313091806,-0.26031541526430396,0.25122142695812444,0.25122142695812444,0.25122142695812444,0.3080588538717274,-0.4308276960051133,0.194384000044521,1.2742951114029808,0.7627582691805523,1.2174576844893779,1.0469454037485681,1.1606202575757745,1.6153196728845993,0.42173370769893376,1.44480739214379,1.1606202575757745,1.3311325383165837,0.7627582691805523,0.8764331230077588,0.9901079768349651,0.7059208422669494,0.7627582691805523,0.8764331230077588,0.9901079768349651,1.672157099798203,1.7858319536254093,0.7059208422669494,1.1037828306621715,0.6490834153533465,1.672157099798203,0.6490834153533465,1.1037828306621715,1.2742951114029808,0.5922459884397431,0.6490834153533465,1.0469454037485681,1.1606202575757745,1.3311325383165837,1.5016448190573937,1.0469454037485681,0.7627582691805523,1.0469454037485681,1.3311325383165837,1.0469454037485681,0.9901079768349651,0.5922459884397431,0.9332705499213622,1.0469454037485681,0.7627582691805523,0.7627582691805523,1.2174576844893779,1.1037828306621715,0.8195956960941558,0.7059208422669494,0.8195956960941558,0.9332705499213622,0.7627582691805523,-1.3154442950077407,-1.3154442950077407,-1.3154442950077407,-1.3154442950077407,-1.3154442950077407,-1.052179926427139,-1.18381211071744,-1.3154442950077407,-1.3154442950077407,-1.4470764792980415,-1.3154442950077407,-1.3154442950077407,-1.4470764792980415,-1.4470764792980415,-1.3154442950077407,-1.052179926427139,-1.052179926427139,-1.18381211071744,-1.18381211071744,-1.18381211071744,-1.3154442950077407,-1.052179926427139,-1.3154442950077407,-0.9205477421368382,-1.3154442950077407,-1.3154442950077407,-1.052179926427139,-1.3154442950077407,-1.3154442950077407,-1.3154442950077407,-1.3154442950077407,-1.052179926427139,-1.4470764792980415,-1.3154442950077407,-1.3154442950077407,-1.3154442950077407,-1.3154442950077407,-1.4470764792980415,-1.3154442950077407,-1.3154442950077407,-1.18381211071744,-1.18381211071744,-1.3154442950077407,-0.7889155578465374,-1.052179926427139,-1.18381211071744,-1.3154442950077407,-1.3154442950077407,-1.3154442950077407,-1.3154442950077407,0.2641419164758693,0.3957741007661703,0.3957741007661703,0.13250973218556866,0.3957741007661703,0.13250973218556866,0.5274062850564712,-0.262386820685334,0.13250973218556866,0.2641419164758693,-0.262386820685334,0.3957741007661703,-0.262386820685334,0.2641419164758693,0.13250973218556866,0.2641419164758693,0.3957741007661703,-0.262386820685334,0.3957741007661703,-0.13075463639503299,0.7906706536370729,0.13250973218556866,0.3957741007661703,0.0008775478952676988,0.13250973218556866,0.2641419164758693,0.2641419164758693,0.659038469346772,0.3957741007661703,-0.262386820685334,-0.13075463639503299,-0.262386820685334,0.0008775478952676988,0.5274062850564712,0.3957741007661703,0.5274062850564712,0.3957741007661703,0.13250973218556866,0.13250973218556866,0.13250973218556866,0.0008775478952676988,0.2641419164758693,0.0008775478952676988,-0.262386820685334,0.13250973218556866,0.0008775478952676988,0.13250973218556866,0.13250973218556866,-0.13075463639503299,0.13250973218556866,1.712095943669179,0.9223028379273737,1.1855672065079756,0.7906706536370729,1.3171993907982766,1.1855672065079756,0.659038469346772,0.7906706536370729,0.7906706536370729,1.712095943669179,1.0539350222176747,0.9223028379273737,1.1855672065079756,1.0539350222176747,1.580463759378878,1.448831575088577,0.7906706536370729,1.3171993907982766,1.448831575088577,0.3957741007661703,1.448831575088577,1.0539350222176747,1.0539350222176747,0.7906706536370729,1.1855672065079756,0.7906706536370729,0.7906706536370729,0.7906706536370729,1.1855672065079756,0.5274062850564712,0.9223028379273737,1.0539350222176747,1.3171993907982766,0.3957741007661703,0.2641419164758693,1.448831575088577,1.580463759378878,0.7906706536370729,0.7906706536370729,1.1855672065079756,1.580463759378878,1.448831575088577,0.9223028379273737,1.448831575088577,1.712095943669179,1.448831575088577,0.9223028379273737,1.0539350222176747,1.448831575088577,0.7906706536370729],\"x0\":\" \",\"xaxis\":\"x\",\"y\":[\"sepal length (cm)\",\"sepal length (cm)\",\"sepal length (cm)\",\"sepal length (cm)\",\"sepal length (cm)\",\"sepal length (cm)\",\"sepal length (cm)\",\"sepal length (cm)\",\"sepal length (cm)\",\"sepal length (cm)\",\"sepal length (cm)\",\"sepal length (cm)\",\"sepal length (cm)\",\"sepal length (cm)\",\"sepal length (cm)\",\"sepal length (cm)\",\"sepal length (cm)\",\"sepal length (cm)\",\"sepal length (cm)\",\"sepal length (cm)\",\"sepal length (cm)\",\"sepal length (cm)\",\"sepal length (cm)\",\"sepal length (cm)\",\"sepal length (cm)\",\"sepal length (cm)\",\"sepal length (cm)\",\"sepal length (cm)\",\"sepal length (cm)\",\"sepal length (cm)\",\"sepal length (cm)\",\"sepal length (cm)\",\"sepal length (cm)\",\"sepal length (cm)\",\"sepal length (cm)\",\"sepal length (cm)\",\"sepal length (cm)\",\"sepal length (cm)\",\"sepal length (cm)\",\"sepal length (cm)\",\"sepal length (cm)\",\"sepal length (cm)\",\"sepal length (cm)\",\"sepal length (cm)\",\"sepal length (cm)\",\"sepal length (cm)\",\"sepal length (cm)\",\"sepal length (cm)\",\"sepal length (cm)\",\"sepal length (cm)\",\"sepal length (cm)\",\"sepal length (cm)\",\"sepal length (cm)\",\"sepal length (cm)\",\"sepal length (cm)\",\"sepal length (cm)\",\"sepal length (cm)\",\"sepal length (cm)\",\"sepal length (cm)\",\"sepal length (cm)\",\"sepal length (cm)\",\"sepal length (cm)\",\"sepal length (cm)\",\"sepal length (cm)\",\"sepal length (cm)\",\"sepal length (cm)\",\"sepal length (cm)\",\"sepal length (cm)\",\"sepal length (cm)\",\"sepal length (cm)\",\"sepal length (cm)\",\"sepal length (cm)\",\"sepal length (cm)\",\"sepal length (cm)\",\"sepal length (cm)\",\"sepal length (cm)\",\"sepal length (cm)\",\"sepal length (cm)\",\"sepal length (cm)\",\"sepal length (cm)\",\"sepal length (cm)\",\"sepal length (cm)\",\"sepal length (cm)\",\"sepal length (cm)\",\"sepal length (cm)\",\"sepal length (cm)\",\"sepal length (cm)\",\"sepal length (cm)\",\"sepal length (cm)\",\"sepal length (cm)\",\"sepal length (cm)\",\"sepal length (cm)\",\"sepal length (cm)\",\"sepal length (cm)\",\"sepal length (cm)\",\"sepal length (cm)\",\"sepal length (cm)\",\"sepal length (cm)\",\"sepal length (cm)\",\"sepal length (cm)\",\"sepal length (cm)\",\"sepal length (cm)\",\"sepal length (cm)\",\"sepal length (cm)\",\"sepal length (cm)\",\"sepal length (cm)\",\"sepal length (cm)\",\"sepal length (cm)\",\"sepal length (cm)\",\"sepal length (cm)\",\"sepal length (cm)\",\"sepal length (cm)\",\"sepal length (cm)\",\"sepal length (cm)\",\"sepal length (cm)\",\"sepal length (cm)\",\"sepal length (cm)\",\"sepal length (cm)\",\"sepal length (cm)\",\"sepal length (cm)\",\"sepal length (cm)\",\"sepal length (cm)\",\"sepal length (cm)\",\"sepal length (cm)\",\"sepal length (cm)\",\"sepal length (cm)\",\"sepal length (cm)\",\"sepal length (cm)\",\"sepal length (cm)\",\"sepal length (cm)\",\"sepal length (cm)\",\"sepal length (cm)\",\"sepal length (cm)\",\"sepal length (cm)\",\"sepal length (cm)\",\"sepal length (cm)\",\"sepal length (cm)\",\"sepal length (cm)\",\"sepal length (cm)\",\"sepal length (cm)\",\"sepal length (cm)\",\"sepal length (cm)\",\"sepal length (cm)\",\"sepal length (cm)\",\"sepal length (cm)\",\"sepal length (cm)\",\"sepal length (cm)\",\"sepal length (cm)\",\"sepal length (cm)\",\"sepal length (cm)\",\"sepal width (cm)\",\"sepal width (cm)\",\"sepal width (cm)\",\"sepal width (cm)\",\"sepal width (cm)\",\"sepal width (cm)\",\"sepal width (cm)\",\"sepal width (cm)\",\"sepal width (cm)\",\"sepal width (cm)\",\"sepal width (cm)\",\"sepal width (cm)\",\"sepal width (cm)\",\"sepal width (cm)\",\"sepal width (cm)\",\"sepal width (cm)\",\"sepal width (cm)\",\"sepal width (cm)\",\"sepal width (cm)\",\"sepal width (cm)\",\"sepal width (cm)\",\"sepal width (cm)\",\"sepal width (cm)\",\"sepal width (cm)\",\"sepal width (cm)\",\"sepal width (cm)\",\"sepal width (cm)\",\"sepal width (cm)\",\"sepal width (cm)\",\"sepal width (cm)\",\"sepal width (cm)\",\"sepal width (cm)\",\"sepal width (cm)\",\"sepal width (cm)\",\"sepal width (cm)\",\"sepal width (cm)\",\"sepal width (cm)\",\"sepal width (cm)\",\"sepal width (cm)\",\"sepal width (cm)\",\"sepal width (cm)\",\"sepal width (cm)\",\"sepal width (cm)\",\"sepal width (cm)\",\"sepal width (cm)\",\"sepal width (cm)\",\"sepal width (cm)\",\"sepal width (cm)\",\"sepal width (cm)\",\"sepal width (cm)\",\"sepal width (cm)\",\"sepal width (cm)\",\"sepal width (cm)\",\"sepal width (cm)\",\"sepal width (cm)\",\"sepal width (cm)\",\"sepal width (cm)\",\"sepal width (cm)\",\"sepal width (cm)\",\"sepal width (cm)\",\"sepal width (cm)\",\"sepal width (cm)\",\"sepal width (cm)\",\"sepal width (cm)\",\"sepal width (cm)\",\"sepal width (cm)\",\"sepal width (cm)\",\"sepal width (cm)\",\"sepal width (cm)\",\"sepal width (cm)\",\"sepal width (cm)\",\"sepal width (cm)\",\"sepal width (cm)\",\"sepal width (cm)\",\"sepal width (cm)\",\"sepal width (cm)\",\"sepal width (cm)\",\"sepal width (cm)\",\"sepal width (cm)\",\"sepal width (cm)\",\"sepal width (cm)\",\"sepal width (cm)\",\"sepal width (cm)\",\"sepal width (cm)\",\"sepal width (cm)\",\"sepal width (cm)\",\"sepal width (cm)\",\"sepal width (cm)\",\"sepal width (cm)\",\"sepal width (cm)\",\"sepal width (cm)\",\"sepal width (cm)\",\"sepal width (cm)\",\"sepal width (cm)\",\"sepal width (cm)\",\"sepal width (cm)\",\"sepal width (cm)\",\"sepal width (cm)\",\"sepal width (cm)\",\"sepal width (cm)\",\"sepal width (cm)\",\"sepal width (cm)\",\"sepal width (cm)\",\"sepal width (cm)\",\"sepal width (cm)\",\"sepal width (cm)\",\"sepal width (cm)\",\"sepal width (cm)\",\"sepal width (cm)\",\"sepal width (cm)\",\"sepal width (cm)\",\"sepal width (cm)\",\"sepal width (cm)\",\"sepal width (cm)\",\"sepal width (cm)\",\"sepal width (cm)\",\"sepal width (cm)\",\"sepal width (cm)\",\"sepal width (cm)\",\"sepal width (cm)\",\"sepal width (cm)\",\"sepal width (cm)\",\"sepal width (cm)\",\"sepal width (cm)\",\"sepal width (cm)\",\"sepal width (cm)\",\"sepal width (cm)\",\"sepal width (cm)\",\"sepal width (cm)\",\"sepal width (cm)\",\"sepal width (cm)\",\"sepal width (cm)\",\"sepal width (cm)\",\"sepal width (cm)\",\"sepal width (cm)\",\"sepal width (cm)\",\"sepal width (cm)\",\"sepal width (cm)\",\"sepal width (cm)\",\"sepal width (cm)\",\"sepal width (cm)\",\"sepal width (cm)\",\"sepal width (cm)\",\"sepal width (cm)\",\"sepal width (cm)\",\"sepal width (cm)\",\"sepal width (cm)\",\"sepal width (cm)\",\"sepal width (cm)\",\"sepal width (cm)\",\"petal length (cm)\",\"petal length (cm)\",\"petal length (cm)\",\"petal length (cm)\",\"petal length (cm)\",\"petal length (cm)\",\"petal length (cm)\",\"petal length (cm)\",\"petal length (cm)\",\"petal length (cm)\",\"petal length (cm)\",\"petal length (cm)\",\"petal length (cm)\",\"petal length (cm)\",\"petal length (cm)\",\"petal length (cm)\",\"petal length (cm)\",\"petal length (cm)\",\"petal length (cm)\",\"petal length (cm)\",\"petal length (cm)\",\"petal length (cm)\",\"petal length (cm)\",\"petal length (cm)\",\"petal length (cm)\",\"petal length (cm)\",\"petal length (cm)\",\"petal length (cm)\",\"petal length (cm)\",\"petal length (cm)\",\"petal length (cm)\",\"petal length (cm)\",\"petal length (cm)\",\"petal length (cm)\",\"petal length (cm)\",\"petal length (cm)\",\"petal length (cm)\",\"petal length (cm)\",\"petal length (cm)\",\"petal length (cm)\",\"petal length (cm)\",\"petal length (cm)\",\"petal length (cm)\",\"petal length (cm)\",\"petal length (cm)\",\"petal length (cm)\",\"petal length (cm)\",\"petal length (cm)\",\"petal length (cm)\",\"petal length (cm)\",\"petal length (cm)\",\"petal length (cm)\",\"petal length (cm)\",\"petal length (cm)\",\"petal length (cm)\",\"petal length (cm)\",\"petal length (cm)\",\"petal length (cm)\",\"petal length (cm)\",\"petal length (cm)\",\"petal length (cm)\",\"petal length (cm)\",\"petal length (cm)\",\"petal length (cm)\",\"petal length (cm)\",\"petal length (cm)\",\"petal length (cm)\",\"petal length (cm)\",\"petal length (cm)\",\"petal length (cm)\",\"petal length (cm)\",\"petal length (cm)\",\"petal length (cm)\",\"petal length (cm)\",\"petal length (cm)\",\"petal length (cm)\",\"petal length (cm)\",\"petal length (cm)\",\"petal length (cm)\",\"petal length (cm)\",\"petal length (cm)\",\"petal length (cm)\",\"petal length (cm)\",\"petal length (cm)\",\"petal length (cm)\",\"petal length (cm)\",\"petal length (cm)\",\"petal length (cm)\",\"petal length (cm)\",\"petal length (cm)\",\"petal length (cm)\",\"petal length (cm)\",\"petal length (cm)\",\"petal length (cm)\",\"petal length (cm)\",\"petal length (cm)\",\"petal length (cm)\",\"petal length (cm)\",\"petal length (cm)\",\"petal length (cm)\",\"petal length (cm)\",\"petal length (cm)\",\"petal length (cm)\",\"petal length (cm)\",\"petal length (cm)\",\"petal length (cm)\",\"petal length (cm)\",\"petal length (cm)\",\"petal length (cm)\",\"petal length (cm)\",\"petal length (cm)\",\"petal length (cm)\",\"petal length (cm)\",\"petal length (cm)\",\"petal length (cm)\",\"petal length (cm)\",\"petal length (cm)\",\"petal length (cm)\",\"petal length (cm)\",\"petal length (cm)\",\"petal length (cm)\",\"petal length (cm)\",\"petal length (cm)\",\"petal length (cm)\",\"petal length (cm)\",\"petal length (cm)\",\"petal length (cm)\",\"petal length (cm)\",\"petal length (cm)\",\"petal length (cm)\",\"petal length (cm)\",\"petal length (cm)\",\"petal length (cm)\",\"petal length (cm)\",\"petal length (cm)\",\"petal length (cm)\",\"petal length (cm)\",\"petal length (cm)\",\"petal length (cm)\",\"petal length (cm)\",\"petal length (cm)\",\"petal length (cm)\",\"petal length (cm)\",\"petal length (cm)\",\"petal length (cm)\",\"petal length (cm)\",\"petal length (cm)\",\"petal length (cm)\",\"petal length (cm)\",\"petal length (cm)\",\"petal width (cm)\",\"petal width (cm)\",\"petal width (cm)\",\"petal width (cm)\",\"petal width (cm)\",\"petal width (cm)\",\"petal width (cm)\",\"petal width (cm)\",\"petal width (cm)\",\"petal width (cm)\",\"petal width (cm)\",\"petal width (cm)\",\"petal width (cm)\",\"petal width (cm)\",\"petal width (cm)\",\"petal width (cm)\",\"petal width (cm)\",\"petal width (cm)\",\"petal width (cm)\",\"petal width (cm)\",\"petal width (cm)\",\"petal width (cm)\",\"petal width (cm)\",\"petal width (cm)\",\"petal width (cm)\",\"petal width (cm)\",\"petal width (cm)\",\"petal width (cm)\",\"petal width (cm)\",\"petal width (cm)\",\"petal width (cm)\",\"petal width (cm)\",\"petal width (cm)\",\"petal width (cm)\",\"petal width (cm)\",\"petal width (cm)\",\"petal width (cm)\",\"petal width (cm)\",\"petal width (cm)\",\"petal width (cm)\",\"petal width (cm)\",\"petal width (cm)\",\"petal width (cm)\",\"petal width (cm)\",\"petal width (cm)\",\"petal width (cm)\",\"petal width (cm)\",\"petal width (cm)\",\"petal width (cm)\",\"petal width (cm)\",\"petal width (cm)\",\"petal width (cm)\",\"petal width (cm)\",\"petal width (cm)\",\"petal width (cm)\",\"petal width (cm)\",\"petal width (cm)\",\"petal width (cm)\",\"petal width (cm)\",\"petal width (cm)\",\"petal width (cm)\",\"petal width (cm)\",\"petal width (cm)\",\"petal width (cm)\",\"petal width (cm)\",\"petal width (cm)\",\"petal width (cm)\",\"petal width (cm)\",\"petal width (cm)\",\"petal width (cm)\",\"petal width (cm)\",\"petal width (cm)\",\"petal width (cm)\",\"petal width (cm)\",\"petal width (cm)\",\"petal width (cm)\",\"petal width (cm)\",\"petal width (cm)\",\"petal width (cm)\",\"petal width (cm)\",\"petal width (cm)\",\"petal width (cm)\",\"petal width (cm)\",\"petal width (cm)\",\"petal width (cm)\",\"petal width (cm)\",\"petal width (cm)\",\"petal width (cm)\",\"petal width (cm)\",\"petal width (cm)\",\"petal width (cm)\",\"petal width (cm)\",\"petal width (cm)\",\"petal width (cm)\",\"petal width (cm)\",\"petal width (cm)\",\"petal width (cm)\",\"petal width (cm)\",\"petal width (cm)\",\"petal width (cm)\",\"petal width (cm)\",\"petal width (cm)\",\"petal width (cm)\",\"petal width (cm)\",\"petal width (cm)\",\"petal width (cm)\",\"petal width (cm)\",\"petal width (cm)\",\"petal width (cm)\",\"petal width (cm)\",\"petal width (cm)\",\"petal width (cm)\",\"petal width (cm)\",\"petal width (cm)\",\"petal width (cm)\",\"petal width (cm)\",\"petal width (cm)\",\"petal width (cm)\",\"petal width (cm)\",\"petal width (cm)\",\"petal width (cm)\",\"petal width (cm)\",\"petal width (cm)\",\"petal width (cm)\",\"petal width (cm)\",\"petal width (cm)\",\"petal width (cm)\",\"petal width (cm)\",\"petal width (cm)\",\"petal width (cm)\",\"petal width (cm)\",\"petal width (cm)\",\"petal width (cm)\",\"petal width (cm)\",\"petal width (cm)\",\"petal width (cm)\",\"petal width (cm)\",\"petal width (cm)\",\"petal width (cm)\",\"petal width (cm)\",\"petal width (cm)\",\"petal width (cm)\",\"petal width (cm)\",\"petal width (cm)\",\"petal width (cm)\",\"petal width (cm)\",\"petal width (cm)\",\"petal width (cm)\",\"petal width (cm)\",\"petal width (cm)\"],\"y0\":\" \",\"yaxis\":\"y\"}],                        {\"boxmode\":\"group\",\"legend\":{\"tracegroupgap\":0},\"margin\":{\"t\":60},\"template\":{\"data\":{\"bar\":[{\"error_x\":{\"color\":\"#2a3f5f\"},\"error_y\":{\"color\":\"#2a3f5f\"},\"marker\":{\"line\":{\"color\":\"#E5ECF6\",\"width\":0.5},\"pattern\":{\"fillmode\":\"overlay\",\"size\":10,\"solidity\":0.2}},\"type\":\"bar\"}],\"barpolar\":[{\"marker\":{\"line\":{\"color\":\"#E5ECF6\",\"width\":0.5},\"pattern\":{\"fillmode\":\"overlay\",\"size\":10,\"solidity\":0.2}},\"type\":\"barpolar\"}],\"carpet\":[{\"aaxis\":{\"endlinecolor\":\"#2a3f5f\",\"gridcolor\":\"white\",\"linecolor\":\"white\",\"minorgridcolor\":\"white\",\"startlinecolor\":\"#2a3f5f\"},\"baxis\":{\"endlinecolor\":\"#2a3f5f\",\"gridcolor\":\"white\",\"linecolor\":\"white\",\"minorgridcolor\":\"white\",\"startlinecolor\":\"#2a3f5f\"},\"type\":\"carpet\"}],\"choropleth\":[{\"colorbar\":{\"outlinewidth\":0,\"ticks\":\"\"},\"type\":\"choropleth\"}],\"contour\":[{\"colorbar\":{\"outlinewidth\":0,\"ticks\":\"\"},\"colorscale\":[[0.0,\"#0d0887\"],[0.1111111111111111,\"#46039f\"],[0.2222222222222222,\"#7201a8\"],[0.3333333333333333,\"#9c179e\"],[0.4444444444444444,\"#bd3786\"],[0.5555555555555556,\"#d8576b\"],[0.6666666666666666,\"#ed7953\"],[0.7777777777777778,\"#fb9f3a\"],[0.8888888888888888,\"#fdca26\"],[1.0,\"#f0f921\"]],\"type\":\"contour\"}],\"contourcarpet\":[{\"colorbar\":{\"outlinewidth\":0,\"ticks\":\"\"},\"type\":\"contourcarpet\"}],\"heatmap\":[{\"colorbar\":{\"outlinewidth\":0,\"ticks\":\"\"},\"colorscale\":[[0.0,\"#0d0887\"],[0.1111111111111111,\"#46039f\"],[0.2222222222222222,\"#7201a8\"],[0.3333333333333333,\"#9c179e\"],[0.4444444444444444,\"#bd3786\"],[0.5555555555555556,\"#d8576b\"],[0.6666666666666666,\"#ed7953\"],[0.7777777777777778,\"#fb9f3a\"],[0.8888888888888888,\"#fdca26\"],[1.0,\"#f0f921\"]],\"type\":\"heatmap\"}],\"heatmapgl\":[{\"colorbar\":{\"outlinewidth\":0,\"ticks\":\"\"},\"colorscale\":[[0.0,\"#0d0887\"],[0.1111111111111111,\"#46039f\"],[0.2222222222222222,\"#7201a8\"],[0.3333333333333333,\"#9c179e\"],[0.4444444444444444,\"#bd3786\"],[0.5555555555555556,\"#d8576b\"],[0.6666666666666666,\"#ed7953\"],[0.7777777777777778,\"#fb9f3a\"],[0.8888888888888888,\"#fdca26\"],[1.0,\"#f0f921\"]],\"type\":\"heatmapgl\"}],\"histogram\":[{\"marker\":{\"pattern\":{\"fillmode\":\"overlay\",\"size\":10,\"solidity\":0.2}},\"type\":\"histogram\"}],\"histogram2d\":[{\"colorbar\":{\"outlinewidth\":0,\"ticks\":\"\"},\"colorscale\":[[0.0,\"#0d0887\"],[0.1111111111111111,\"#46039f\"],[0.2222222222222222,\"#7201a8\"],[0.3333333333333333,\"#9c179e\"],[0.4444444444444444,\"#bd3786\"],[0.5555555555555556,\"#d8576b\"],[0.6666666666666666,\"#ed7953\"],[0.7777777777777778,\"#fb9f3a\"],[0.8888888888888888,\"#fdca26\"],[1.0,\"#f0f921\"]],\"type\":\"histogram2d\"}],\"histogram2dcontour\":[{\"colorbar\":{\"outlinewidth\":0,\"ticks\":\"\"},\"colorscale\":[[0.0,\"#0d0887\"],[0.1111111111111111,\"#46039f\"],[0.2222222222222222,\"#7201a8\"],[0.3333333333333333,\"#9c179e\"],[0.4444444444444444,\"#bd3786\"],[0.5555555555555556,\"#d8576b\"],[0.6666666666666666,\"#ed7953\"],[0.7777777777777778,\"#fb9f3a\"],[0.8888888888888888,\"#fdca26\"],[1.0,\"#f0f921\"]],\"type\":\"histogram2dcontour\"}],\"mesh3d\":[{\"colorbar\":{\"outlinewidth\":0,\"ticks\":\"\"},\"type\":\"mesh3d\"}],\"parcoords\":[{\"line\":{\"colorbar\":{\"outlinewidth\":0,\"ticks\":\"\"}},\"type\":\"parcoords\"}],\"pie\":[{\"automargin\":true,\"type\":\"pie\"}],\"scatter\":[{\"marker\":{\"colorbar\":{\"outlinewidth\":0,\"ticks\":\"\"}},\"type\":\"scatter\"}],\"scatter3d\":[{\"line\":{\"colorbar\":{\"outlinewidth\":0,\"ticks\":\"\"}},\"marker\":{\"colorbar\":{\"outlinewidth\":0,\"ticks\":\"\"}},\"type\":\"scatter3d\"}],\"scattercarpet\":[{\"marker\":{\"colorbar\":{\"outlinewidth\":0,\"ticks\":\"\"}},\"type\":\"scattercarpet\"}],\"scattergeo\":[{\"marker\":{\"colorbar\":{\"outlinewidth\":0,\"ticks\":\"\"}},\"type\":\"scattergeo\"}],\"scattergl\":[{\"marker\":{\"colorbar\":{\"outlinewidth\":0,\"ticks\":\"\"}},\"type\":\"scattergl\"}],\"scattermapbox\":[{\"marker\":{\"colorbar\":{\"outlinewidth\":0,\"ticks\":\"\"}},\"type\":\"scattermapbox\"}],\"scatterpolar\":[{\"marker\":{\"colorbar\":{\"outlinewidth\":0,\"ticks\":\"\"}},\"type\":\"scatterpolar\"}],\"scatterpolargl\":[{\"marker\":{\"colorbar\":{\"outlinewidth\":0,\"ticks\":\"\"}},\"type\":\"scatterpolargl\"}],\"scatterternary\":[{\"marker\":{\"colorbar\":{\"outlinewidth\":0,\"ticks\":\"\"}},\"type\":\"scatterternary\"}],\"surface\":[{\"colorbar\":{\"outlinewidth\":0,\"ticks\":\"\"},\"colorscale\":[[0.0,\"#0d0887\"],[0.1111111111111111,\"#46039f\"],[0.2222222222222222,\"#7201a8\"],[0.3333333333333333,\"#9c179e\"],[0.4444444444444444,\"#bd3786\"],[0.5555555555555556,\"#d8576b\"],[0.6666666666666666,\"#ed7953\"],[0.7777777777777778,\"#fb9f3a\"],[0.8888888888888888,\"#fdca26\"],[1.0,\"#f0f921\"]],\"type\":\"surface\"}],\"table\":[{\"cells\":{\"fill\":{\"color\":\"#EBF0F8\"},\"line\":{\"color\":\"white\"}},\"header\":{\"fill\":{\"color\":\"#C8D4E3\"},\"line\":{\"color\":\"white\"}},\"type\":\"table\"}]},\"layout\":{\"annotationdefaults\":{\"arrowcolor\":\"#2a3f5f\",\"arrowhead\":0,\"arrowwidth\":1},\"autotypenumbers\":\"strict\",\"coloraxis\":{\"colorbar\":{\"outlinewidth\":0,\"ticks\":\"\"}},\"colorscale\":{\"diverging\":[[0,\"#8e0152\"],[0.1,\"#c51b7d\"],[0.2,\"#de77ae\"],[0.3,\"#f1b6da\"],[0.4,\"#fde0ef\"],[0.5,\"#f7f7f7\"],[0.6,\"#e6f5d0\"],[0.7,\"#b8e186\"],[0.8,\"#7fbc41\"],[0.9,\"#4d9221\"],[1,\"#276419\"]],\"sequential\":[[0.0,\"#0d0887\"],[0.1111111111111111,\"#46039f\"],[0.2222222222222222,\"#7201a8\"],[0.3333333333333333,\"#9c179e\"],[0.4444444444444444,\"#bd3786\"],[0.5555555555555556,\"#d8576b\"],[0.6666666666666666,\"#ed7953\"],[0.7777777777777778,\"#fb9f3a\"],[0.8888888888888888,\"#fdca26\"],[1.0,\"#f0f921\"]],\"sequentialminus\":[[0.0,\"#0d0887\"],[0.1111111111111111,\"#46039f\"],[0.2222222222222222,\"#7201a8\"],[0.3333333333333333,\"#9c179e\"],[0.4444444444444444,\"#bd3786\"],[0.5555555555555556,\"#d8576b\"],[0.6666666666666666,\"#ed7953\"],[0.7777777777777778,\"#fb9f3a\"],[0.8888888888888888,\"#fdca26\"],[1.0,\"#f0f921\"]]},\"colorway\":[\"#636efa\",\"#EF553B\",\"#00cc96\",\"#ab63fa\",\"#FFA15A\",\"#19d3f3\",\"#FF6692\",\"#B6E880\",\"#FF97FF\",\"#FECB52\"],\"font\":{\"color\":\"#2a3f5f\"},\"geo\":{\"bgcolor\":\"white\",\"lakecolor\":\"white\",\"landcolor\":\"#E5ECF6\",\"showlakes\":true,\"showland\":true,\"subunitcolor\":\"white\"},\"hoverlabel\":{\"align\":\"left\"},\"hovermode\":\"closest\",\"mapbox\":{\"style\":\"light\"},\"paper_bgcolor\":\"white\",\"plot_bgcolor\":\"#E5ECF6\",\"polar\":{\"angularaxis\":{\"gridcolor\":\"white\",\"linecolor\":\"white\",\"ticks\":\"\"},\"bgcolor\":\"#E5ECF6\",\"radialaxis\":{\"gridcolor\":\"white\",\"linecolor\":\"white\",\"ticks\":\"\"}},\"scene\":{\"xaxis\":{\"backgroundcolor\":\"#E5ECF6\",\"gridcolor\":\"white\",\"gridwidth\":2,\"linecolor\":\"white\",\"showbackground\":true,\"ticks\":\"\",\"zerolinecolor\":\"white\"},\"yaxis\":{\"backgroundcolor\":\"#E5ECF6\",\"gridcolor\":\"white\",\"gridwidth\":2,\"linecolor\":\"white\",\"showbackground\":true,\"ticks\":\"\",\"zerolinecolor\":\"white\"},\"zaxis\":{\"backgroundcolor\":\"#E5ECF6\",\"gridcolor\":\"white\",\"gridwidth\":2,\"linecolor\":\"white\",\"showbackground\":true,\"ticks\":\"\",\"zerolinecolor\":\"white\"}},\"shapedefaults\":{\"line\":{\"color\":\"#2a3f5f\"}},\"ternary\":{\"aaxis\":{\"gridcolor\":\"white\",\"linecolor\":\"white\",\"ticks\":\"\"},\"baxis\":{\"gridcolor\":\"white\",\"linecolor\":\"white\",\"ticks\":\"\"},\"bgcolor\":\"#E5ECF6\",\"caxis\":{\"gridcolor\":\"white\",\"linecolor\":\"white\",\"ticks\":\"\"}},\"title\":{\"x\":0.05},\"xaxis\":{\"automargin\":true,\"gridcolor\":\"white\",\"linecolor\":\"white\",\"ticks\":\"\",\"title\":{\"standoff\":15},\"zerolinecolor\":\"white\",\"zerolinewidth\":2},\"yaxis\":{\"automargin\":true,\"gridcolor\":\"white\",\"linecolor\":\"white\",\"ticks\":\"\",\"title\":{\"standoff\":15},\"zerolinecolor\":\"white\",\"zerolinewidth\":2}}},\"xaxis\":{\"anchor\":\"y\",\"domain\":[0.0,1.0],\"title\":{\"text\":\"value\"}},\"yaxis\":{\"anchor\":\"x\",\"domain\":[0.0,1.0],\"title\":{\"text\":\"variable\"}}},                        {\"responsive\": true}                    ).then(function(){\n",
       "                            \n",
       "var gd = document.getElementById('98ac7bc0-4ffe-4e19-9b44-d5b468108aee');\n",
       "var x = new MutationObserver(function (mutations, observer) {{\n",
       "        var display = window.getComputedStyle(gd).display;\n",
       "        if (!display || display === 'none') {{\n",
       "            console.log([gd, 'removed!']);\n",
       "            Plotly.purge(gd);\n",
       "            observer.disconnect();\n",
       "        }}\n",
       "}});\n",
       "\n",
       "// Listen for the removal of the full notebook cells\n",
       "var notebookContainer = gd.closest('#notebook-container');\n",
       "if (notebookContainer) {{\n",
       "    x.observe(notebookContainer, {childList: true});\n",
       "}}\n",
       "\n",
       "// Listen for the clearing of the current output cell\n",
       "var outputEl = gd.closest('.output');\n",
       "if (outputEl) {{\n",
       "    x.observe(outputEl, {childList: true});\n",
       "}}\n",
       "\n",
       "                        })                };                });            </script>        </div>"
      ]
     },
     "metadata": {},
     "output_type": "display_data"
    }
   ],
   "source": [
    "fig = px.box(iris_pd_scaled, x = iris_pd_scaled.columns[:-1])\n",
    "fig.show()"
   ]
  },
  {
   "cell_type": "markdown",
   "id": "b80de6cf",
   "metadata": {},
   "source": [
    "# 문제5) \n",
    "**Standard Scaler를 적용한 데이터를 8:2로 train, test 데이터로 나눠주세요.**"
   ]
  },
  {
   "cell_type": "code",
   "execution_count": 28,
   "id": "c2d8d90f",
   "metadata": {},
   "outputs": [],
   "source": [
    "X = iris_pd_scaled.drop('species', axis = 1)\n",
    "y = iris_pd_scaled['species']"
   ]
  },
  {
   "cell_type": "code",
   "execution_count": 32,
   "id": "8dcd8655",
   "metadata": {},
   "outputs": [],
   "source": [
    "from sklearn.model_selection import train_test_split\n",
    "\n",
    "X_train, X_test, y_train, y_test = train_test_split(X,y, test_size = 0.2, random_state = 13)"
   ]
  },
  {
   "cell_type": "code",
   "execution_count": 34,
   "id": "51132c08",
   "metadata": {},
   "outputs": [
    {
     "data": {
      "text/plain": [
       "((120, 4), (30, 4))"
      ]
     },
     "execution_count": 34,
     "metadata": {},
     "output_type": "execute_result"
    }
   ],
   "source": [
    "X_train.shape , X_test.shape"
   ]
  },
  {
   "cell_type": "markdown",
   "id": "3fad6695",
   "metadata": {},
   "source": [
    "# 문제6)\n",
    "**5번의 train 데이터에 AdaBoostClassifier, GradientBoostingClassifier, RandomForestClassifier, DecisionTreeClassifier, LogisticRegression, LGBMClassifier 모델들을 이용해서 분류학습을 시켜주세요. 이때 각각의 모델의 test 데이터에 대한 accuracy를 제시해 주세요.**"
   ]
  },
  {
   "cell_type": "markdown",
   "id": "aa5486b4",
   "metadata": {},
   "source": [
    "- 아무런 하이퍼파라미터 제공하지 않고 default 값을 이용한채로, random_state만 고정시켰을때의 성능을 비교해봤습니다."
   ]
  },
  {
   "cell_type": "code",
   "execution_count": 37,
   "id": "58a6f9ad",
   "metadata": {},
   "outputs": [],
   "source": [
    "from sklearn.tree import DecisionTreeClassifier\n",
    "from sklearn.linear_model import LogisticRegression\n",
    "from sklearn.ensemble import RandomForestClassifier, GradientBoostingClassifier, AdaBoostClassifier\n",
    "from lightgbm import LGBMClassifier"
   ]
  },
  {
   "cell_type": "code",
   "execution_count": 39,
   "id": "85c5b445",
   "metadata": {},
   "outputs": [],
   "source": [
    "ada_clf = AdaBoostClassifier(random_state=13)\n",
    "gb_clf = GradientBoostingClassifier(random_state = 13)\n",
    "rf_clf = RandomForestClassifier(random_state = 13)\n",
    "dt_clf = DecisionTreeClassifier(random_state = 13)\n",
    "lr_clf = LogisticRegression(random_state = 13)\n",
    "lgbm_clf = LGBMClassifier(random_state = 13)"
   ]
  },
  {
   "cell_type": "markdown",
   "id": "2694f3d9",
   "metadata": {},
   "source": [
    "## get_result\n",
    "- model, train, test dataset을 주면, test 데이터에 대한 accuracy 제시 해주는 함수 작성"
   ]
  },
  {
   "cell_type": "code",
   "execution_count": 41,
   "id": "d60bd425",
   "metadata": {},
   "outputs": [],
   "source": [
    "from sklearn.metrics import accuracy_score\n",
    "\n",
    "def get_result(model, X_train, y_train, X_test, y_test):\n",
    "    model.fit(X_train, y_train)\n",
    "    pred = model.predict(X_test)\n",
    "    \n",
    "    return accuracy_score(y_test, pred)"
   ]
  },
  {
   "cell_type": "code",
   "execution_count": 48,
   "id": "5b91dfe8",
   "metadata": {},
   "outputs": [
    {
     "data": {
      "text/plain": [
       "0.9333333333333333"
      ]
     },
     "execution_count": 48,
     "metadata": {},
     "output_type": "execute_result"
    }
   ],
   "source": [
    "get_result(lgbm_clf, X_train, y_train, X_test, y_test)"
   ]
  },
  {
   "cell_type": "code",
   "execution_count": 49,
   "id": "2af90529",
   "metadata": {},
   "outputs": [],
   "source": [
    "models = [[ada_clf, 'AdaBoost'], [gb_clf,'GradientBoosting'], [rf_clf, 'RandomForest'],\n",
    "          [dt_clf,'DecisionTree'], [lr_clf,'LogisticRegression'], [lgbm_clf,'LGBM']]"
   ]
  },
  {
   "cell_type": "code",
   "execution_count": 54,
   "id": "c797b25a",
   "metadata": {},
   "outputs": [
    {
     "name": "stdout",
     "output_type": "stream",
     "text": [
      "AdaBoost model 의 test accuracy score :  0.9\n",
      "GradientBoosting model 의 test accuracy score :  0.97\n",
      "RandomForest model 의 test accuracy score :  0.97\n",
      "DecisionTree model 의 test accuracy score :  0.93\n",
      "LogisticRegression model 의 test accuracy score :  0.97\n",
      "LGBM model 의 test accuracy score :  0.93\n"
     ]
    }
   ],
   "source": [
    "for model, name in models:\n",
    "    test_acc = get_result(model, X_train, y_train, X_test, y_test)\n",
    "    test_acc = round(test_acc,2)\n",
    "    \n",
    "    print(name,'model 의 test accuracy score : ', test_acc)"
   ]
  },
  {
   "cell_type": "markdown",
   "id": "66ada861",
   "metadata": {},
   "source": [
    "# 문제7) \n",
    "**6번의 상황에서 train 데이터와 test 데이터의 accuracy를 모델별로 pandas dataframe에 정리해 주세요**"
   ]
  },
  {
   "cell_type": "code",
   "execution_count": 55,
   "id": "8b3a5e81",
   "metadata": {},
   "outputs": [],
   "source": [
    "def get_result_pd(model, X_train, y_train, X_test, y_test):\n",
    "    y_pred_tr = model.predict(X_train)\n",
    "    y_pred_test = model.predict(X_test)\n",
    "\n",
    "    train_acc = accuracy_score(y_train, y_pred_tr)\n",
    "    test_acc =  accuracy_score(y_test, y_pred_test)\n",
    "    \n",
    "    return train_acc, test_acc"
   ]
  },
  {
   "cell_type": "code",
   "execution_count": 61,
   "id": "8bd319bd",
   "metadata": {},
   "outputs": [],
   "source": [
    "model_names = []\n",
    "train_acc_list = []\n",
    "test_acc_list = []\n",
    "\n",
    "for model, name in models:\n",
    "    train_acc, test_acc = get_result_pd(model, X_train, y_train, X_test, y_test)\n",
    "    model_names.append(name)\n",
    "    train_acc_list.append(round(train_acc,2))\n",
    "    test_acc_list.append(round(test_acc,2))"
   ]
  },
  {
   "cell_type": "code",
   "execution_count": 62,
   "id": "b3694dec",
   "metadata": {},
   "outputs": [
    {
     "data": {
      "text/plain": [
       "['AdaBoost',\n",
       " 'GradientBoosting',\n",
       " 'RandomForest',\n",
       " 'DecisionTree',\n",
       " 'LogisticRegression',\n",
       " 'LGBM']"
      ]
     },
     "execution_count": 62,
     "metadata": {},
     "output_type": "execute_result"
    }
   ],
   "source": [
    "model_names"
   ]
  },
  {
   "cell_type": "code",
   "execution_count": 63,
   "id": "ed5b3646",
   "metadata": {},
   "outputs": [
    {
     "data": {
      "text/plain": [
       "[0.96, 1.0, 1.0, 1.0, 0.98, 1.0]"
      ]
     },
     "execution_count": 63,
     "metadata": {},
     "output_type": "execute_result"
    }
   ],
   "source": [
    "train_acc_list"
   ]
  },
  {
   "cell_type": "code",
   "execution_count": 64,
   "id": "fa776b46",
   "metadata": {},
   "outputs": [
    {
     "data": {
      "text/plain": [
       "[0.9, 0.97, 0.97, 0.93, 0.97, 0.93]"
      ]
     },
     "execution_count": 64,
     "metadata": {},
     "output_type": "execute_result"
    }
   ],
   "source": [
    "test_acc_list"
   ]
  },
  {
   "cell_type": "code",
   "execution_count": 75,
   "id": "08877b4b",
   "metadata": {},
   "outputs": [
    {
     "data": {
      "text/html": [
       "<div>\n",
       "<style scoped>\n",
       "    .dataframe tbody tr th:only-of-type {\n",
       "        vertical-align: middle;\n",
       "    }\n",
       "\n",
       "    .dataframe tbody tr th {\n",
       "        vertical-align: top;\n",
       "    }\n",
       "\n",
       "    .dataframe thead th {\n",
       "        text-align: right;\n",
       "    }\n",
       "</style>\n",
       "<table border=\"1\" class=\"dataframe\">\n",
       "  <thead>\n",
       "    <tr style=\"text-align: right;\">\n",
       "      <th></th>\n",
       "      <th>train_score</th>\n",
       "      <th>test_score</th>\n",
       "    </tr>\n",
       "  </thead>\n",
       "  <tbody>\n",
       "    <tr>\n",
       "      <th>AdaBoost</th>\n",
       "      <td>0.96</td>\n",
       "      <td>0.90</td>\n",
       "    </tr>\n",
       "    <tr>\n",
       "      <th>GradientBoosting</th>\n",
       "      <td>1.00</td>\n",
       "      <td>0.97</td>\n",
       "    </tr>\n",
       "    <tr>\n",
       "      <th>RandomForest</th>\n",
       "      <td>1.00</td>\n",
       "      <td>0.97</td>\n",
       "    </tr>\n",
       "    <tr>\n",
       "      <th>DecisionTree</th>\n",
       "      <td>1.00</td>\n",
       "      <td>0.93</td>\n",
       "    </tr>\n",
       "    <tr>\n",
       "      <th>LogisticRegression</th>\n",
       "      <td>0.98</td>\n",
       "      <td>0.97</td>\n",
       "    </tr>\n",
       "    <tr>\n",
       "      <th>LGBM</th>\n",
       "      <td>1.00</td>\n",
       "      <td>0.93</td>\n",
       "    </tr>\n",
       "  </tbody>\n",
       "</table>\n",
       "</div>"
      ],
      "text/plain": [
       "                    train_score  test_score\n",
       "AdaBoost                   0.96        0.90\n",
       "GradientBoosting           1.00        0.97\n",
       "RandomForest               1.00        0.97\n",
       "DecisionTree               1.00        0.93\n",
       "LogisticRegression         0.98        0.97\n",
       "LGBM                       1.00        0.93"
      ]
     },
     "execution_count": 75,
     "metadata": {},
     "output_type": "execute_result"
    }
   ],
   "source": [
    "train_test_score = pd.DataFrame({'train_score':train_acc_list,'test_score':test_acc_list}, index = model_names)\n",
    "train_test_score"
   ]
  },
  {
   "cell_type": "markdown",
   "id": "06dff0ca",
   "metadata": {},
   "source": [
    "- 데이터가 단순하기도 하고, 하이퍼파라미터로 규제하지 않아서 몇몇 모델에서는 과적합이 이루어진 것 같다."
   ]
  },
  {
   "cell_type": "markdown",
   "id": "d12c4fbf",
   "metadata": {},
   "source": [
    "# 문제8) \n",
    "**6번의 상황에서 5겹 kFold해서 cross validation score를 계산해서, 각 모델별로 각 score의 평균과 표준편차를 제시해 주세요.**"
   ]
  },
  {
   "cell_type": "code",
   "execution_count": 98,
   "id": "deb31df4",
   "metadata": {},
   "outputs": [
    {
     "data": {
      "text/plain": [
       "{'AdaBoost': array([0.91666667, 0.91666667, 0.91666667, 0.95833333, 0.95833333]),\n",
       " 'GradientBoosting': array([0.875     , 0.95833333, 0.95833333, 0.95833333, 0.95833333]),\n",
       " 'RandomForest': array([0.95833333, 0.91666667, 0.95833333, 0.95833333, 0.95833333]),\n",
       " 'DecisionTree': array([0.95833333, 0.95833333, 0.95833333, 0.91666667, 0.95833333]),\n",
       " 'LogisticRegression': array([0.91666667, 0.91666667, 0.95833333, 0.95833333, 1.        ]),\n",
       " 'LGBM': array([0.95833333, 0.91666667, 0.95833333, 0.95833333, 0.95833333])}"
      ]
     },
     "execution_count": 98,
     "metadata": {},
     "output_type": "execute_result"
    }
   ],
   "source": [
    "from sklearn.model_selection import cross_val_score,StratifiedKFold,cross_validate\n",
    "\n",
    "tmp = {}\n",
    "\n",
    "skfold = StratifiedKFold(n_splits = 5)\n",
    "\n",
    "for model, name in models:\n",
    "    tmp[name] = cross_val_score(model, X_train, y_train, cv = skfold)\n",
    "\n",
    "tmp"
   ]
  },
  {
   "cell_type": "code",
   "execution_count": 99,
   "id": "942d192b",
   "metadata": {},
   "outputs": [
    {
     "data": {
      "text/html": [
       "<div>\n",
       "<style scoped>\n",
       "    .dataframe tbody tr th:only-of-type {\n",
       "        vertical-align: middle;\n",
       "    }\n",
       "\n",
       "    .dataframe tbody tr th {\n",
       "        vertical-align: top;\n",
       "    }\n",
       "\n",
       "    .dataframe thead th {\n",
       "        text-align: right;\n",
       "    }\n",
       "</style>\n",
       "<table border=\"1\" class=\"dataframe\">\n",
       "  <thead>\n",
       "    <tr style=\"text-align: right;\">\n",
       "      <th></th>\n",
       "      <th>AdaBoost</th>\n",
       "      <th>GradientBoosting</th>\n",
       "      <th>RandomForest</th>\n",
       "      <th>DecisionTree</th>\n",
       "      <th>LogisticRegression</th>\n",
       "      <th>LGBM</th>\n",
       "    </tr>\n",
       "  </thead>\n",
       "  <tbody>\n",
       "    <tr>\n",
       "      <th>0</th>\n",
       "      <td>0.916667</td>\n",
       "      <td>0.875000</td>\n",
       "      <td>0.958333</td>\n",
       "      <td>0.958333</td>\n",
       "      <td>0.916667</td>\n",
       "      <td>0.958333</td>\n",
       "    </tr>\n",
       "    <tr>\n",
       "      <th>1</th>\n",
       "      <td>0.916667</td>\n",
       "      <td>0.958333</td>\n",
       "      <td>0.916667</td>\n",
       "      <td>0.958333</td>\n",
       "      <td>0.916667</td>\n",
       "      <td>0.916667</td>\n",
       "    </tr>\n",
       "    <tr>\n",
       "      <th>2</th>\n",
       "      <td>0.916667</td>\n",
       "      <td>0.958333</td>\n",
       "      <td>0.958333</td>\n",
       "      <td>0.958333</td>\n",
       "      <td>0.958333</td>\n",
       "      <td>0.958333</td>\n",
       "    </tr>\n",
       "    <tr>\n",
       "      <th>3</th>\n",
       "      <td>0.958333</td>\n",
       "      <td>0.958333</td>\n",
       "      <td>0.958333</td>\n",
       "      <td>0.916667</td>\n",
       "      <td>0.958333</td>\n",
       "      <td>0.958333</td>\n",
       "    </tr>\n",
       "    <tr>\n",
       "      <th>4</th>\n",
       "      <td>0.958333</td>\n",
       "      <td>0.958333</td>\n",
       "      <td>0.958333</td>\n",
       "      <td>0.958333</td>\n",
       "      <td>1.000000</td>\n",
       "      <td>0.958333</td>\n",
       "    </tr>\n",
       "  </tbody>\n",
       "</table>\n",
       "</div>"
      ],
      "text/plain": [
       "   AdaBoost  GradientBoosting  RandomForest  DecisionTree  LogisticRegression  \\\n",
       "0  0.916667          0.875000      0.958333      0.958333            0.916667   \n",
       "1  0.916667          0.958333      0.916667      0.958333            0.916667   \n",
       "2  0.916667          0.958333      0.958333      0.958333            0.958333   \n",
       "3  0.958333          0.958333      0.958333      0.916667            0.958333   \n",
       "4  0.958333          0.958333      0.958333      0.958333            1.000000   \n",
       "\n",
       "       LGBM  \n",
       "0  0.958333  \n",
       "1  0.916667  \n",
       "2  0.958333  \n",
       "3  0.958333  \n",
       "4  0.958333  "
      ]
     },
     "execution_count": 99,
     "metadata": {},
     "output_type": "execute_result"
    }
   ],
   "source": [
    "cv_results = pd.DataFrame(tmp)\n",
    "cv_results"
   ]
  },
  {
   "cell_type": "markdown",
   "id": "effe6517",
   "metadata": {},
   "source": [
    "- 본래, cv를 위하여 전체 데이터 셋을 넣어주면 자체로 train, test set을 분리하여 test set에 대한 스코어를 반환해준다.\n",
    "- 하지만 그렇게 결과를 시행했을시에, 다수의 모델에서 test_score가 1이 나오는 경우가 많았다.\n",
    "- 따라서 임의로 8:2로 구분한 train, test set에서 다시 한 번 train set을 5등분하는 방법을 선택했다."
   ]
  },
  {
   "cell_type": "markdown",
   "id": "8314b354",
   "metadata": {},
   "source": [
    "## 각 모델별 scores의 평균과 표준편차"
   ]
  },
  {
   "cell_type": "code",
   "execution_count": 100,
   "id": "9246bd18",
   "metadata": {},
   "outputs": [
    {
     "data": {
      "text/plain": [
       "AdaBoost              0.933333\n",
       "GradientBoosting      0.941667\n",
       "RandomForest          0.950000\n",
       "DecisionTree          0.950000\n",
       "LogisticRegression    0.950000\n",
       "LGBM                  0.950000\n",
       "dtype: float64"
      ]
     },
     "execution_count": 100,
     "metadata": {},
     "output_type": "execute_result"
    }
   ],
   "source": [
    "cv_results.mean()"
   ]
  },
  {
   "cell_type": "code",
   "execution_count": 102,
   "id": "06c02811",
   "metadata": {},
   "outputs": [
    {
     "data": {
      "text/plain": [
       "AdaBoost              0.022822\n",
       "GradientBoosting      0.037268\n",
       "RandomForest          0.018634\n",
       "DecisionTree          0.018634\n",
       "LogisticRegression    0.034861\n",
       "LGBM                  0.018634\n",
       "dtype: float64"
      ]
     },
     "execution_count": 102,
     "metadata": {},
     "output_type": "execute_result"
    }
   ],
   "source": [
    "cv_results.std()"
   ]
  },
  {
   "cell_type": "markdown",
   "id": "45b75c42",
   "metadata": {},
   "source": [
    "# 문제9) \n",
    "**8번의 상황에서 각 모델별 cv score를 boxplot으로 그려서 비교해주세요. 여러분들은 어떤 모델이 가장 좋다고 생각하나요?**"
   ]
  },
  {
   "cell_type": "code",
   "execution_count": 104,
   "id": "ae39031c",
   "metadata": {},
   "outputs": [
    {
     "data": {
      "application/vnd.plotly.v1+json": {
       "config": {
        "plotlyServerURL": "https://plot.ly"
       },
       "data": [
        {
         "alignmentgroup": "True",
         "hovertemplate": "variable=%{x}<br>value=%{y}<extra></extra>",
         "legendgroup": "",
         "marker": {
          "color": "#636efa"
         },
         "name": "",
         "notched": false,
         "offsetgroup": "",
         "orientation": "v",
         "showlegend": false,
         "type": "box",
         "x": [
          "AdaBoost",
          "AdaBoost",
          "AdaBoost",
          "AdaBoost",
          "AdaBoost",
          "GradientBoosting",
          "GradientBoosting",
          "GradientBoosting",
          "GradientBoosting",
          "GradientBoosting",
          "RandomForest",
          "RandomForest",
          "RandomForest",
          "RandomForest",
          "RandomForest",
          "DecisionTree",
          "DecisionTree",
          "DecisionTree",
          "DecisionTree",
          "DecisionTree",
          "LogisticRegression",
          "LogisticRegression",
          "LogisticRegression",
          "LogisticRegression",
          "LogisticRegression",
          "LGBM",
          "LGBM",
          "LGBM",
          "LGBM",
          "LGBM"
         ],
         "x0": " ",
         "xaxis": "x",
         "y": [
          0.9166666666666666,
          0.9166666666666666,
          0.9166666666666666,
          0.9583333333333334,
          0.9583333333333334,
          0.875,
          0.9583333333333334,
          0.9583333333333334,
          0.9583333333333334,
          0.9583333333333334,
          0.9583333333333334,
          0.9166666666666666,
          0.9583333333333334,
          0.9583333333333334,
          0.9583333333333334,
          0.9583333333333334,
          0.9583333333333334,
          0.9583333333333334,
          0.9166666666666666,
          0.9583333333333334,
          0.9166666666666666,
          0.9166666666666666,
          0.9583333333333334,
          0.9583333333333334,
          1,
          0.9583333333333334,
          0.9166666666666666,
          0.9583333333333334,
          0.9583333333333334,
          0.9583333333333334
         ],
         "y0": " ",
         "yaxis": "y"
        }
       ],
       "layout": {
        "boxmode": "group",
        "legend": {
         "tracegroupgap": 0
        },
        "margin": {
         "t": 60
        },
        "template": {
         "data": {
          "bar": [
           {
            "error_x": {
             "color": "#2a3f5f"
            },
            "error_y": {
             "color": "#2a3f5f"
            },
            "marker": {
             "line": {
              "color": "#E5ECF6",
              "width": 0.5
             },
             "pattern": {
              "fillmode": "overlay",
              "size": 10,
              "solidity": 0.2
             }
            },
            "type": "bar"
           }
          ],
          "barpolar": [
           {
            "marker": {
             "line": {
              "color": "#E5ECF6",
              "width": 0.5
             },
             "pattern": {
              "fillmode": "overlay",
              "size": 10,
              "solidity": 0.2
             }
            },
            "type": "barpolar"
           }
          ],
          "carpet": [
           {
            "aaxis": {
             "endlinecolor": "#2a3f5f",
             "gridcolor": "white",
             "linecolor": "white",
             "minorgridcolor": "white",
             "startlinecolor": "#2a3f5f"
            },
            "baxis": {
             "endlinecolor": "#2a3f5f",
             "gridcolor": "white",
             "linecolor": "white",
             "minorgridcolor": "white",
             "startlinecolor": "#2a3f5f"
            },
            "type": "carpet"
           }
          ],
          "choropleth": [
           {
            "colorbar": {
             "outlinewidth": 0,
             "ticks": ""
            },
            "type": "choropleth"
           }
          ],
          "contour": [
           {
            "colorbar": {
             "outlinewidth": 0,
             "ticks": ""
            },
            "colorscale": [
             [
              0,
              "#0d0887"
             ],
             [
              0.1111111111111111,
              "#46039f"
             ],
             [
              0.2222222222222222,
              "#7201a8"
             ],
             [
              0.3333333333333333,
              "#9c179e"
             ],
             [
              0.4444444444444444,
              "#bd3786"
             ],
             [
              0.5555555555555556,
              "#d8576b"
             ],
             [
              0.6666666666666666,
              "#ed7953"
             ],
             [
              0.7777777777777778,
              "#fb9f3a"
             ],
             [
              0.8888888888888888,
              "#fdca26"
             ],
             [
              1,
              "#f0f921"
             ]
            ],
            "type": "contour"
           }
          ],
          "contourcarpet": [
           {
            "colorbar": {
             "outlinewidth": 0,
             "ticks": ""
            },
            "type": "contourcarpet"
           }
          ],
          "heatmap": [
           {
            "colorbar": {
             "outlinewidth": 0,
             "ticks": ""
            },
            "colorscale": [
             [
              0,
              "#0d0887"
             ],
             [
              0.1111111111111111,
              "#46039f"
             ],
             [
              0.2222222222222222,
              "#7201a8"
             ],
             [
              0.3333333333333333,
              "#9c179e"
             ],
             [
              0.4444444444444444,
              "#bd3786"
             ],
             [
              0.5555555555555556,
              "#d8576b"
             ],
             [
              0.6666666666666666,
              "#ed7953"
             ],
             [
              0.7777777777777778,
              "#fb9f3a"
             ],
             [
              0.8888888888888888,
              "#fdca26"
             ],
             [
              1,
              "#f0f921"
             ]
            ],
            "type": "heatmap"
           }
          ],
          "heatmapgl": [
           {
            "colorbar": {
             "outlinewidth": 0,
             "ticks": ""
            },
            "colorscale": [
             [
              0,
              "#0d0887"
             ],
             [
              0.1111111111111111,
              "#46039f"
             ],
             [
              0.2222222222222222,
              "#7201a8"
             ],
             [
              0.3333333333333333,
              "#9c179e"
             ],
             [
              0.4444444444444444,
              "#bd3786"
             ],
             [
              0.5555555555555556,
              "#d8576b"
             ],
             [
              0.6666666666666666,
              "#ed7953"
             ],
             [
              0.7777777777777778,
              "#fb9f3a"
             ],
             [
              0.8888888888888888,
              "#fdca26"
             ],
             [
              1,
              "#f0f921"
             ]
            ],
            "type": "heatmapgl"
           }
          ],
          "histogram": [
           {
            "marker": {
             "pattern": {
              "fillmode": "overlay",
              "size": 10,
              "solidity": 0.2
             }
            },
            "type": "histogram"
           }
          ],
          "histogram2d": [
           {
            "colorbar": {
             "outlinewidth": 0,
             "ticks": ""
            },
            "colorscale": [
             [
              0,
              "#0d0887"
             ],
             [
              0.1111111111111111,
              "#46039f"
             ],
             [
              0.2222222222222222,
              "#7201a8"
             ],
             [
              0.3333333333333333,
              "#9c179e"
             ],
             [
              0.4444444444444444,
              "#bd3786"
             ],
             [
              0.5555555555555556,
              "#d8576b"
             ],
             [
              0.6666666666666666,
              "#ed7953"
             ],
             [
              0.7777777777777778,
              "#fb9f3a"
             ],
             [
              0.8888888888888888,
              "#fdca26"
             ],
             [
              1,
              "#f0f921"
             ]
            ],
            "type": "histogram2d"
           }
          ],
          "histogram2dcontour": [
           {
            "colorbar": {
             "outlinewidth": 0,
             "ticks": ""
            },
            "colorscale": [
             [
              0,
              "#0d0887"
             ],
             [
              0.1111111111111111,
              "#46039f"
             ],
             [
              0.2222222222222222,
              "#7201a8"
             ],
             [
              0.3333333333333333,
              "#9c179e"
             ],
             [
              0.4444444444444444,
              "#bd3786"
             ],
             [
              0.5555555555555556,
              "#d8576b"
             ],
             [
              0.6666666666666666,
              "#ed7953"
             ],
             [
              0.7777777777777778,
              "#fb9f3a"
             ],
             [
              0.8888888888888888,
              "#fdca26"
             ],
             [
              1,
              "#f0f921"
             ]
            ],
            "type": "histogram2dcontour"
           }
          ],
          "mesh3d": [
           {
            "colorbar": {
             "outlinewidth": 0,
             "ticks": ""
            },
            "type": "mesh3d"
           }
          ],
          "parcoords": [
           {
            "line": {
             "colorbar": {
              "outlinewidth": 0,
              "ticks": ""
             }
            },
            "type": "parcoords"
           }
          ],
          "pie": [
           {
            "automargin": true,
            "type": "pie"
           }
          ],
          "scatter": [
           {
            "marker": {
             "colorbar": {
              "outlinewidth": 0,
              "ticks": ""
             }
            },
            "type": "scatter"
           }
          ],
          "scatter3d": [
           {
            "line": {
             "colorbar": {
              "outlinewidth": 0,
              "ticks": ""
             }
            },
            "marker": {
             "colorbar": {
              "outlinewidth": 0,
              "ticks": ""
             }
            },
            "type": "scatter3d"
           }
          ],
          "scattercarpet": [
           {
            "marker": {
             "colorbar": {
              "outlinewidth": 0,
              "ticks": ""
             }
            },
            "type": "scattercarpet"
           }
          ],
          "scattergeo": [
           {
            "marker": {
             "colorbar": {
              "outlinewidth": 0,
              "ticks": ""
             }
            },
            "type": "scattergeo"
           }
          ],
          "scattergl": [
           {
            "marker": {
             "colorbar": {
              "outlinewidth": 0,
              "ticks": ""
             }
            },
            "type": "scattergl"
           }
          ],
          "scattermapbox": [
           {
            "marker": {
             "colorbar": {
              "outlinewidth": 0,
              "ticks": ""
             }
            },
            "type": "scattermapbox"
           }
          ],
          "scatterpolar": [
           {
            "marker": {
             "colorbar": {
              "outlinewidth": 0,
              "ticks": ""
             }
            },
            "type": "scatterpolar"
           }
          ],
          "scatterpolargl": [
           {
            "marker": {
             "colorbar": {
              "outlinewidth": 0,
              "ticks": ""
             }
            },
            "type": "scatterpolargl"
           }
          ],
          "scatterternary": [
           {
            "marker": {
             "colorbar": {
              "outlinewidth": 0,
              "ticks": ""
             }
            },
            "type": "scatterternary"
           }
          ],
          "surface": [
           {
            "colorbar": {
             "outlinewidth": 0,
             "ticks": ""
            },
            "colorscale": [
             [
              0,
              "#0d0887"
             ],
             [
              0.1111111111111111,
              "#46039f"
             ],
             [
              0.2222222222222222,
              "#7201a8"
             ],
             [
              0.3333333333333333,
              "#9c179e"
             ],
             [
              0.4444444444444444,
              "#bd3786"
             ],
             [
              0.5555555555555556,
              "#d8576b"
             ],
             [
              0.6666666666666666,
              "#ed7953"
             ],
             [
              0.7777777777777778,
              "#fb9f3a"
             ],
             [
              0.8888888888888888,
              "#fdca26"
             ],
             [
              1,
              "#f0f921"
             ]
            ],
            "type": "surface"
           }
          ],
          "table": [
           {
            "cells": {
             "fill": {
              "color": "#EBF0F8"
             },
             "line": {
              "color": "white"
             }
            },
            "header": {
             "fill": {
              "color": "#C8D4E3"
             },
             "line": {
              "color": "white"
             }
            },
            "type": "table"
           }
          ]
         },
         "layout": {
          "annotationdefaults": {
           "arrowcolor": "#2a3f5f",
           "arrowhead": 0,
           "arrowwidth": 1
          },
          "autotypenumbers": "strict",
          "coloraxis": {
           "colorbar": {
            "outlinewidth": 0,
            "ticks": ""
           }
          },
          "colorscale": {
           "diverging": [
            [
             0,
             "#8e0152"
            ],
            [
             0.1,
             "#c51b7d"
            ],
            [
             0.2,
             "#de77ae"
            ],
            [
             0.3,
             "#f1b6da"
            ],
            [
             0.4,
             "#fde0ef"
            ],
            [
             0.5,
             "#f7f7f7"
            ],
            [
             0.6,
             "#e6f5d0"
            ],
            [
             0.7,
             "#b8e186"
            ],
            [
             0.8,
             "#7fbc41"
            ],
            [
             0.9,
             "#4d9221"
            ],
            [
             1,
             "#276419"
            ]
           ],
           "sequential": [
            [
             0,
             "#0d0887"
            ],
            [
             0.1111111111111111,
             "#46039f"
            ],
            [
             0.2222222222222222,
             "#7201a8"
            ],
            [
             0.3333333333333333,
             "#9c179e"
            ],
            [
             0.4444444444444444,
             "#bd3786"
            ],
            [
             0.5555555555555556,
             "#d8576b"
            ],
            [
             0.6666666666666666,
             "#ed7953"
            ],
            [
             0.7777777777777778,
             "#fb9f3a"
            ],
            [
             0.8888888888888888,
             "#fdca26"
            ],
            [
             1,
             "#f0f921"
            ]
           ],
           "sequentialminus": [
            [
             0,
             "#0d0887"
            ],
            [
             0.1111111111111111,
             "#46039f"
            ],
            [
             0.2222222222222222,
             "#7201a8"
            ],
            [
             0.3333333333333333,
             "#9c179e"
            ],
            [
             0.4444444444444444,
             "#bd3786"
            ],
            [
             0.5555555555555556,
             "#d8576b"
            ],
            [
             0.6666666666666666,
             "#ed7953"
            ],
            [
             0.7777777777777778,
             "#fb9f3a"
            ],
            [
             0.8888888888888888,
             "#fdca26"
            ],
            [
             1,
             "#f0f921"
            ]
           ]
          },
          "colorway": [
           "#636efa",
           "#EF553B",
           "#00cc96",
           "#ab63fa",
           "#FFA15A",
           "#19d3f3",
           "#FF6692",
           "#B6E880",
           "#FF97FF",
           "#FECB52"
          ],
          "font": {
           "color": "#2a3f5f"
          },
          "geo": {
           "bgcolor": "white",
           "lakecolor": "white",
           "landcolor": "#E5ECF6",
           "showlakes": true,
           "showland": true,
           "subunitcolor": "white"
          },
          "hoverlabel": {
           "align": "left"
          },
          "hovermode": "closest",
          "mapbox": {
           "style": "light"
          },
          "paper_bgcolor": "white",
          "plot_bgcolor": "#E5ECF6",
          "polar": {
           "angularaxis": {
            "gridcolor": "white",
            "linecolor": "white",
            "ticks": ""
           },
           "bgcolor": "#E5ECF6",
           "radialaxis": {
            "gridcolor": "white",
            "linecolor": "white",
            "ticks": ""
           }
          },
          "scene": {
           "xaxis": {
            "backgroundcolor": "#E5ECF6",
            "gridcolor": "white",
            "gridwidth": 2,
            "linecolor": "white",
            "showbackground": true,
            "ticks": "",
            "zerolinecolor": "white"
           },
           "yaxis": {
            "backgroundcolor": "#E5ECF6",
            "gridcolor": "white",
            "gridwidth": 2,
            "linecolor": "white",
            "showbackground": true,
            "ticks": "",
            "zerolinecolor": "white"
           },
           "zaxis": {
            "backgroundcolor": "#E5ECF6",
            "gridcolor": "white",
            "gridwidth": 2,
            "linecolor": "white",
            "showbackground": true,
            "ticks": "",
            "zerolinecolor": "white"
           }
          },
          "shapedefaults": {
           "line": {
            "color": "#2a3f5f"
           }
          },
          "ternary": {
           "aaxis": {
            "gridcolor": "white",
            "linecolor": "white",
            "ticks": ""
           },
           "baxis": {
            "gridcolor": "white",
            "linecolor": "white",
            "ticks": ""
           },
           "bgcolor": "#E5ECF6",
           "caxis": {
            "gridcolor": "white",
            "linecolor": "white",
            "ticks": ""
           }
          },
          "title": {
           "x": 0.05
          },
          "xaxis": {
           "automargin": true,
           "gridcolor": "white",
           "linecolor": "white",
           "ticks": "",
           "title": {
            "standoff": 15
           },
           "zerolinecolor": "white",
           "zerolinewidth": 2
          },
          "yaxis": {
           "automargin": true,
           "gridcolor": "white",
           "linecolor": "white",
           "ticks": "",
           "title": {
            "standoff": 15
           },
           "zerolinecolor": "white",
           "zerolinewidth": 2
          }
         }
        },
        "xaxis": {
         "anchor": "y",
         "domain": [
          0,
          1
         ],
         "title": {
          "text": "variable"
         }
        },
        "yaxis": {
         "anchor": "x",
         "domain": [
          0,
          1
         ],
         "title": {
          "text": "value"
         }
        }
       }
      },
      "text/html": [
       "<div>                            <div id=\"57f1b8e2-bd0d-4848-9762-3730cc5c8e98\" class=\"plotly-graph-div\" style=\"height:525px; width:100%;\"></div>            <script type=\"text/javascript\">                require([\"plotly\"], function(Plotly) {                    window.PLOTLYENV=window.PLOTLYENV || {};                                    if (document.getElementById(\"57f1b8e2-bd0d-4848-9762-3730cc5c8e98\")) {                    Plotly.newPlot(                        \"57f1b8e2-bd0d-4848-9762-3730cc5c8e98\",                        [{\"alignmentgroup\":\"True\",\"hovertemplate\":\"variable=%{x}<br>value=%{y}<extra></extra>\",\"legendgroup\":\"\",\"marker\":{\"color\":\"#636efa\"},\"name\":\"\",\"notched\":false,\"offsetgroup\":\"\",\"orientation\":\"v\",\"showlegend\":false,\"type\":\"box\",\"x\":[\"AdaBoost\",\"AdaBoost\",\"AdaBoost\",\"AdaBoost\",\"AdaBoost\",\"GradientBoosting\",\"GradientBoosting\",\"GradientBoosting\",\"GradientBoosting\",\"GradientBoosting\",\"RandomForest\",\"RandomForest\",\"RandomForest\",\"RandomForest\",\"RandomForest\",\"DecisionTree\",\"DecisionTree\",\"DecisionTree\",\"DecisionTree\",\"DecisionTree\",\"LogisticRegression\",\"LogisticRegression\",\"LogisticRegression\",\"LogisticRegression\",\"LogisticRegression\",\"LGBM\",\"LGBM\",\"LGBM\",\"LGBM\",\"LGBM\"],\"x0\":\" \",\"xaxis\":\"x\",\"y\":[0.9166666666666666,0.9166666666666666,0.9166666666666666,0.9583333333333334,0.9583333333333334,0.875,0.9583333333333334,0.9583333333333334,0.9583333333333334,0.9583333333333334,0.9583333333333334,0.9166666666666666,0.9583333333333334,0.9583333333333334,0.9583333333333334,0.9583333333333334,0.9583333333333334,0.9583333333333334,0.9166666666666666,0.9583333333333334,0.9166666666666666,0.9166666666666666,0.9583333333333334,0.9583333333333334,1.0,0.9583333333333334,0.9166666666666666,0.9583333333333334,0.9583333333333334,0.9583333333333334],\"y0\":\" \",\"yaxis\":\"y\"}],                        {\"boxmode\":\"group\",\"legend\":{\"tracegroupgap\":0},\"margin\":{\"t\":60},\"template\":{\"data\":{\"bar\":[{\"error_x\":{\"color\":\"#2a3f5f\"},\"error_y\":{\"color\":\"#2a3f5f\"},\"marker\":{\"line\":{\"color\":\"#E5ECF6\",\"width\":0.5},\"pattern\":{\"fillmode\":\"overlay\",\"size\":10,\"solidity\":0.2}},\"type\":\"bar\"}],\"barpolar\":[{\"marker\":{\"line\":{\"color\":\"#E5ECF6\",\"width\":0.5},\"pattern\":{\"fillmode\":\"overlay\",\"size\":10,\"solidity\":0.2}},\"type\":\"barpolar\"}],\"carpet\":[{\"aaxis\":{\"endlinecolor\":\"#2a3f5f\",\"gridcolor\":\"white\",\"linecolor\":\"white\",\"minorgridcolor\":\"white\",\"startlinecolor\":\"#2a3f5f\"},\"baxis\":{\"endlinecolor\":\"#2a3f5f\",\"gridcolor\":\"white\",\"linecolor\":\"white\",\"minorgridcolor\":\"white\",\"startlinecolor\":\"#2a3f5f\"},\"type\":\"carpet\"}],\"choropleth\":[{\"colorbar\":{\"outlinewidth\":0,\"ticks\":\"\"},\"type\":\"choropleth\"}],\"contour\":[{\"colorbar\":{\"outlinewidth\":0,\"ticks\":\"\"},\"colorscale\":[[0.0,\"#0d0887\"],[0.1111111111111111,\"#46039f\"],[0.2222222222222222,\"#7201a8\"],[0.3333333333333333,\"#9c179e\"],[0.4444444444444444,\"#bd3786\"],[0.5555555555555556,\"#d8576b\"],[0.6666666666666666,\"#ed7953\"],[0.7777777777777778,\"#fb9f3a\"],[0.8888888888888888,\"#fdca26\"],[1.0,\"#f0f921\"]],\"type\":\"contour\"}],\"contourcarpet\":[{\"colorbar\":{\"outlinewidth\":0,\"ticks\":\"\"},\"type\":\"contourcarpet\"}],\"heatmap\":[{\"colorbar\":{\"outlinewidth\":0,\"ticks\":\"\"},\"colorscale\":[[0.0,\"#0d0887\"],[0.1111111111111111,\"#46039f\"],[0.2222222222222222,\"#7201a8\"],[0.3333333333333333,\"#9c179e\"],[0.4444444444444444,\"#bd3786\"],[0.5555555555555556,\"#d8576b\"],[0.6666666666666666,\"#ed7953\"],[0.7777777777777778,\"#fb9f3a\"],[0.8888888888888888,\"#fdca26\"],[1.0,\"#f0f921\"]],\"type\":\"heatmap\"}],\"heatmapgl\":[{\"colorbar\":{\"outlinewidth\":0,\"ticks\":\"\"},\"colorscale\":[[0.0,\"#0d0887\"],[0.1111111111111111,\"#46039f\"],[0.2222222222222222,\"#7201a8\"],[0.3333333333333333,\"#9c179e\"],[0.4444444444444444,\"#bd3786\"],[0.5555555555555556,\"#d8576b\"],[0.6666666666666666,\"#ed7953\"],[0.7777777777777778,\"#fb9f3a\"],[0.8888888888888888,\"#fdca26\"],[1.0,\"#f0f921\"]],\"type\":\"heatmapgl\"}],\"histogram\":[{\"marker\":{\"pattern\":{\"fillmode\":\"overlay\",\"size\":10,\"solidity\":0.2}},\"type\":\"histogram\"}],\"histogram2d\":[{\"colorbar\":{\"outlinewidth\":0,\"ticks\":\"\"},\"colorscale\":[[0.0,\"#0d0887\"],[0.1111111111111111,\"#46039f\"],[0.2222222222222222,\"#7201a8\"],[0.3333333333333333,\"#9c179e\"],[0.4444444444444444,\"#bd3786\"],[0.5555555555555556,\"#d8576b\"],[0.6666666666666666,\"#ed7953\"],[0.7777777777777778,\"#fb9f3a\"],[0.8888888888888888,\"#fdca26\"],[1.0,\"#f0f921\"]],\"type\":\"histogram2d\"}],\"histogram2dcontour\":[{\"colorbar\":{\"outlinewidth\":0,\"ticks\":\"\"},\"colorscale\":[[0.0,\"#0d0887\"],[0.1111111111111111,\"#46039f\"],[0.2222222222222222,\"#7201a8\"],[0.3333333333333333,\"#9c179e\"],[0.4444444444444444,\"#bd3786\"],[0.5555555555555556,\"#d8576b\"],[0.6666666666666666,\"#ed7953\"],[0.7777777777777778,\"#fb9f3a\"],[0.8888888888888888,\"#fdca26\"],[1.0,\"#f0f921\"]],\"type\":\"histogram2dcontour\"}],\"mesh3d\":[{\"colorbar\":{\"outlinewidth\":0,\"ticks\":\"\"},\"type\":\"mesh3d\"}],\"parcoords\":[{\"line\":{\"colorbar\":{\"outlinewidth\":0,\"ticks\":\"\"}},\"type\":\"parcoords\"}],\"pie\":[{\"automargin\":true,\"type\":\"pie\"}],\"scatter\":[{\"marker\":{\"colorbar\":{\"outlinewidth\":0,\"ticks\":\"\"}},\"type\":\"scatter\"}],\"scatter3d\":[{\"line\":{\"colorbar\":{\"outlinewidth\":0,\"ticks\":\"\"}},\"marker\":{\"colorbar\":{\"outlinewidth\":0,\"ticks\":\"\"}},\"type\":\"scatter3d\"}],\"scattercarpet\":[{\"marker\":{\"colorbar\":{\"outlinewidth\":0,\"ticks\":\"\"}},\"type\":\"scattercarpet\"}],\"scattergeo\":[{\"marker\":{\"colorbar\":{\"outlinewidth\":0,\"ticks\":\"\"}},\"type\":\"scattergeo\"}],\"scattergl\":[{\"marker\":{\"colorbar\":{\"outlinewidth\":0,\"ticks\":\"\"}},\"type\":\"scattergl\"}],\"scattermapbox\":[{\"marker\":{\"colorbar\":{\"outlinewidth\":0,\"ticks\":\"\"}},\"type\":\"scattermapbox\"}],\"scatterpolar\":[{\"marker\":{\"colorbar\":{\"outlinewidth\":0,\"ticks\":\"\"}},\"type\":\"scatterpolar\"}],\"scatterpolargl\":[{\"marker\":{\"colorbar\":{\"outlinewidth\":0,\"ticks\":\"\"}},\"type\":\"scatterpolargl\"}],\"scatterternary\":[{\"marker\":{\"colorbar\":{\"outlinewidth\":0,\"ticks\":\"\"}},\"type\":\"scatterternary\"}],\"surface\":[{\"colorbar\":{\"outlinewidth\":0,\"ticks\":\"\"},\"colorscale\":[[0.0,\"#0d0887\"],[0.1111111111111111,\"#46039f\"],[0.2222222222222222,\"#7201a8\"],[0.3333333333333333,\"#9c179e\"],[0.4444444444444444,\"#bd3786\"],[0.5555555555555556,\"#d8576b\"],[0.6666666666666666,\"#ed7953\"],[0.7777777777777778,\"#fb9f3a\"],[0.8888888888888888,\"#fdca26\"],[1.0,\"#f0f921\"]],\"type\":\"surface\"}],\"table\":[{\"cells\":{\"fill\":{\"color\":\"#EBF0F8\"},\"line\":{\"color\":\"white\"}},\"header\":{\"fill\":{\"color\":\"#C8D4E3\"},\"line\":{\"color\":\"white\"}},\"type\":\"table\"}]},\"layout\":{\"annotationdefaults\":{\"arrowcolor\":\"#2a3f5f\",\"arrowhead\":0,\"arrowwidth\":1},\"autotypenumbers\":\"strict\",\"coloraxis\":{\"colorbar\":{\"outlinewidth\":0,\"ticks\":\"\"}},\"colorscale\":{\"diverging\":[[0,\"#8e0152\"],[0.1,\"#c51b7d\"],[0.2,\"#de77ae\"],[0.3,\"#f1b6da\"],[0.4,\"#fde0ef\"],[0.5,\"#f7f7f7\"],[0.6,\"#e6f5d0\"],[0.7,\"#b8e186\"],[0.8,\"#7fbc41\"],[0.9,\"#4d9221\"],[1,\"#276419\"]],\"sequential\":[[0.0,\"#0d0887\"],[0.1111111111111111,\"#46039f\"],[0.2222222222222222,\"#7201a8\"],[0.3333333333333333,\"#9c179e\"],[0.4444444444444444,\"#bd3786\"],[0.5555555555555556,\"#d8576b\"],[0.6666666666666666,\"#ed7953\"],[0.7777777777777778,\"#fb9f3a\"],[0.8888888888888888,\"#fdca26\"],[1.0,\"#f0f921\"]],\"sequentialminus\":[[0.0,\"#0d0887\"],[0.1111111111111111,\"#46039f\"],[0.2222222222222222,\"#7201a8\"],[0.3333333333333333,\"#9c179e\"],[0.4444444444444444,\"#bd3786\"],[0.5555555555555556,\"#d8576b\"],[0.6666666666666666,\"#ed7953\"],[0.7777777777777778,\"#fb9f3a\"],[0.8888888888888888,\"#fdca26\"],[1.0,\"#f0f921\"]]},\"colorway\":[\"#636efa\",\"#EF553B\",\"#00cc96\",\"#ab63fa\",\"#FFA15A\",\"#19d3f3\",\"#FF6692\",\"#B6E880\",\"#FF97FF\",\"#FECB52\"],\"font\":{\"color\":\"#2a3f5f\"},\"geo\":{\"bgcolor\":\"white\",\"lakecolor\":\"white\",\"landcolor\":\"#E5ECF6\",\"showlakes\":true,\"showland\":true,\"subunitcolor\":\"white\"},\"hoverlabel\":{\"align\":\"left\"},\"hovermode\":\"closest\",\"mapbox\":{\"style\":\"light\"},\"paper_bgcolor\":\"white\",\"plot_bgcolor\":\"#E5ECF6\",\"polar\":{\"angularaxis\":{\"gridcolor\":\"white\",\"linecolor\":\"white\",\"ticks\":\"\"},\"bgcolor\":\"#E5ECF6\",\"radialaxis\":{\"gridcolor\":\"white\",\"linecolor\":\"white\",\"ticks\":\"\"}},\"scene\":{\"xaxis\":{\"backgroundcolor\":\"#E5ECF6\",\"gridcolor\":\"white\",\"gridwidth\":2,\"linecolor\":\"white\",\"showbackground\":true,\"ticks\":\"\",\"zerolinecolor\":\"white\"},\"yaxis\":{\"backgroundcolor\":\"#E5ECF6\",\"gridcolor\":\"white\",\"gridwidth\":2,\"linecolor\":\"white\",\"showbackground\":true,\"ticks\":\"\",\"zerolinecolor\":\"white\"},\"zaxis\":{\"backgroundcolor\":\"#E5ECF6\",\"gridcolor\":\"white\",\"gridwidth\":2,\"linecolor\":\"white\",\"showbackground\":true,\"ticks\":\"\",\"zerolinecolor\":\"white\"}},\"shapedefaults\":{\"line\":{\"color\":\"#2a3f5f\"}},\"ternary\":{\"aaxis\":{\"gridcolor\":\"white\",\"linecolor\":\"white\",\"ticks\":\"\"},\"baxis\":{\"gridcolor\":\"white\",\"linecolor\":\"white\",\"ticks\":\"\"},\"bgcolor\":\"#E5ECF6\",\"caxis\":{\"gridcolor\":\"white\",\"linecolor\":\"white\",\"ticks\":\"\"}},\"title\":{\"x\":0.05},\"xaxis\":{\"automargin\":true,\"gridcolor\":\"white\",\"linecolor\":\"white\",\"ticks\":\"\",\"title\":{\"standoff\":15},\"zerolinecolor\":\"white\",\"zerolinewidth\":2},\"yaxis\":{\"automargin\":true,\"gridcolor\":\"white\",\"linecolor\":\"white\",\"ticks\":\"\",\"title\":{\"standoff\":15},\"zerolinecolor\":\"white\",\"zerolinewidth\":2}}},\"xaxis\":{\"anchor\":\"y\",\"domain\":[0.0,1.0],\"title\":{\"text\":\"variable\"}},\"yaxis\":{\"anchor\":\"x\",\"domain\":[0.0,1.0],\"title\":{\"text\":\"value\"}}},                        {\"responsive\": true}                    ).then(function(){\n",
       "                            \n",
       "var gd = document.getElementById('57f1b8e2-bd0d-4848-9762-3730cc5c8e98');\n",
       "var x = new MutationObserver(function (mutations, observer) {{\n",
       "        var display = window.getComputedStyle(gd).display;\n",
       "        if (!display || display === 'none') {{\n",
       "            console.log([gd, 'removed!']);\n",
       "            Plotly.purge(gd);\n",
       "            observer.disconnect();\n",
       "        }}\n",
       "}});\n",
       "\n",
       "// Listen for the removal of the full notebook cells\n",
       "var notebookContainer = gd.closest('#notebook-container');\n",
       "if (notebookContainer) {{\n",
       "    x.observe(notebookContainer, {childList: true});\n",
       "}}\n",
       "\n",
       "// Listen for the clearing of the current output cell\n",
       "var outputEl = gd.closest('.output');\n",
       "if (outputEl) {{\n",
       "    x.observe(outputEl, {childList: true});\n",
       "}}\n",
       "\n",
       "                        })                };                });            </script>        </div>"
      ]
     },
     "metadata": {},
     "output_type": "display_data"
    }
   ],
   "source": [
    "fig = px.box(cv_results, y = cv_results.columns)\n",
    "fig.show()"
   ]
  },
  {
   "cell_type": "markdown",
   "id": "61f1a348",
   "metadata": {},
   "source": [
    "- 아무런 규제가 없으므로 과적합의 우려가 있다고 생각하지만, 아무래도 적은 표준편차를 보여주는 모델들이 좋은 성능을 보였다고 생각합니다\n",
    "- 즉, RandomForest, DecisionTree, LGBM등의 모델이 가장 좋다고 생각합니다.\n",
    "- 하나만 고르자면, 가장 시간적으로 효율적인 LGBM을 꼽고 싶습니다."
   ]
  },
  {
   "cell_type": "markdown",
   "id": "ee839502",
   "metadata": {},
   "source": [
    "# 문제10) \n",
    "**9번의 상황에서 각 fold별 score를 모델별로 pandas dataframe에 정리해주세요.**"
   ]
  },
  {
   "cell_type": "code",
   "execution_count": 106,
   "id": "26b8be7a",
   "metadata": {},
   "outputs": [
    {
     "data": {
      "text/html": [
       "<div>\n",
       "<style scoped>\n",
       "    .dataframe tbody tr th:only-of-type {\n",
       "        vertical-align: middle;\n",
       "    }\n",
       "\n",
       "    .dataframe tbody tr th {\n",
       "        vertical-align: top;\n",
       "    }\n",
       "\n",
       "    .dataframe thead th {\n",
       "        text-align: right;\n",
       "    }\n",
       "</style>\n",
       "<table border=\"1\" class=\"dataframe\">\n",
       "  <thead>\n",
       "    <tr style=\"text-align: right;\">\n",
       "      <th></th>\n",
       "      <th>AdaBoost</th>\n",
       "      <th>GradientBoosting</th>\n",
       "      <th>RandomForest</th>\n",
       "      <th>DecisionTree</th>\n",
       "      <th>LogisticRegression</th>\n",
       "      <th>LGBM</th>\n",
       "    </tr>\n",
       "  </thead>\n",
       "  <tbody>\n",
       "    <tr>\n",
       "      <th>0</th>\n",
       "      <td>0.916667</td>\n",
       "      <td>0.875000</td>\n",
       "      <td>0.958333</td>\n",
       "      <td>0.958333</td>\n",
       "      <td>0.916667</td>\n",
       "      <td>0.958333</td>\n",
       "    </tr>\n",
       "    <tr>\n",
       "      <th>1</th>\n",
       "      <td>0.916667</td>\n",
       "      <td>0.958333</td>\n",
       "      <td>0.916667</td>\n",
       "      <td>0.958333</td>\n",
       "      <td>0.916667</td>\n",
       "      <td>0.916667</td>\n",
       "    </tr>\n",
       "    <tr>\n",
       "      <th>2</th>\n",
       "      <td>0.916667</td>\n",
       "      <td>0.958333</td>\n",
       "      <td>0.958333</td>\n",
       "      <td>0.958333</td>\n",
       "      <td>0.958333</td>\n",
       "      <td>0.958333</td>\n",
       "    </tr>\n",
       "    <tr>\n",
       "      <th>3</th>\n",
       "      <td>0.958333</td>\n",
       "      <td>0.958333</td>\n",
       "      <td>0.958333</td>\n",
       "      <td>0.916667</td>\n",
       "      <td>0.958333</td>\n",
       "      <td>0.958333</td>\n",
       "    </tr>\n",
       "    <tr>\n",
       "      <th>4</th>\n",
       "      <td>0.958333</td>\n",
       "      <td>0.958333</td>\n",
       "      <td>0.958333</td>\n",
       "      <td>0.958333</td>\n",
       "      <td>1.000000</td>\n",
       "      <td>0.958333</td>\n",
       "    </tr>\n",
       "  </tbody>\n",
       "</table>\n",
       "</div>"
      ],
      "text/plain": [
       "   AdaBoost  GradientBoosting  RandomForest  DecisionTree  LogisticRegression  \\\n",
       "0  0.916667          0.875000      0.958333      0.958333            0.916667   \n",
       "1  0.916667          0.958333      0.916667      0.958333            0.916667   \n",
       "2  0.916667          0.958333      0.958333      0.958333            0.958333   \n",
       "3  0.958333          0.958333      0.958333      0.916667            0.958333   \n",
       "4  0.958333          0.958333      0.958333      0.958333            1.000000   \n",
       "\n",
       "       LGBM  \n",
       "0  0.958333  \n",
       "1  0.916667  \n",
       "2  0.958333  \n",
       "3  0.958333  \n",
       "4  0.958333  "
      ]
     },
     "execution_count": 106,
     "metadata": {},
     "output_type": "execute_result"
    }
   ],
   "source": [
    "cv_results"
   ]
  },
  {
   "cell_type": "markdown",
   "id": "130a51a5",
   "metadata": {},
   "source": [
    "# 문제11) \n",
    "**다시 원본 데이터에서 데이터를 test와 train으로 나눈 후, Standardscaler와 Decision Tree를 연달아 사용하는 pipeline을 꾸며 주세요.**\n",
    "\n",
    "**그리고, 해당 pipeline을 cross validation을 수행해서 score를 제시해 주세요.**"
   ]
  },
  {
   "cell_type": "code",
   "execution_count": 109,
   "id": "e63e8b65",
   "metadata": {},
   "outputs": [],
   "source": [
    "from sklearn.model_selection import train_test_split\n",
    "\n",
    "X_train, X_test, y_train, y_test = train_test_split(X, y, test_size = 0.2, random_state = 13)"
   ]
  },
  {
   "cell_type": "code",
   "execution_count": 110,
   "id": "e7c72e44",
   "metadata": {},
   "outputs": [],
   "source": [
    "from sklearn.pipeline import Pipeline\n",
    "\n",
    "estimators = [('scaler', StandardScaler()),\n",
    "              ('clf', DecisionTreeClassifier())]\n",
    "\n",
    "pipe = Pipeline(estimators)"
   ]
  },
  {
   "cell_type": "markdown",
   "id": "2017a434",
   "metadata": {},
   "source": [
    "- 모델이 1개이기도하고, pipeline에서 hyperparameters를 추가하는 작업이 유용하다고 생각했습니다.\n",
    "- 따라서 DecisionTree의 hyperparameter들을 몇개 추가해보겠습니다"
   ]
  },
  {
   "cell_type": "code",
   "execution_count": 112,
   "id": "b8fe6abc",
   "metadata": {},
   "outputs": [
    {
     "data": {
      "text/plain": [
       "Pipeline(steps=[('scaler', StandardScaler()),\n",
       "                ('clf', DecisionTreeClassifier(max_depth=2, random_state=13))])"
      ]
     },
     "execution_count": 112,
     "metadata": {},
     "output_type": "execute_result"
    }
   ],
   "source": [
    "pipe.set_params(clf__max_depth = 2)\n",
    "pipe.set_params(clf__random_state = 13)"
   ]
  },
  {
   "cell_type": "code",
   "execution_count": 113,
   "id": "cb49c229",
   "metadata": {},
   "outputs": [
    {
     "data": {
      "text/plain": [
       "Pipeline(steps=[('scaler', StandardScaler()),\n",
       "                ('clf', DecisionTreeClassifier(max_depth=2, random_state=13))])"
      ]
     },
     "execution_count": 113,
     "metadata": {},
     "output_type": "execute_result"
    }
   ],
   "source": [
    "pipe.fit(X_train, y_train)"
   ]
  },
  {
   "cell_type": "code",
   "execution_count": 119,
   "id": "00720908",
   "metadata": {},
   "outputs": [
    {
     "name": "stdout",
     "output_type": "stream",
     "text": [
      "pipeline을 통과한 5 fold cv scores :  [0.93333333 0.96666667 0.9        0.86666667 1.        ]\n",
      "평균 스코어 :  0.93\n"
     ]
    }
   ],
   "source": [
    "skfold = StratifiedKFold(n_splits = 5)\n",
    "print('pipeline을 통과한 5 fold cv scores : ', cross_val_score(pipe, X, y, cv = skfold))\n",
    "print('평균 스코어 : ', round(cross_val_score(pipe, X_train, y_train, cv = skfold).mean(),2))"
   ]
  },
  {
   "cell_type": "markdown",
   "id": "6e551f7c",
   "metadata": {},
   "source": [
    "# 문제12) \n",
    "**11번의 상황에서 6번의 모델들을 모두 pipeline에 각각 적용해주세요.**\n",
    "\n",
    "**그리고 해당 pipeline을 cross validation을 수행해서 score를 제시해주세요.**"
   ]
  },
  {
   "cell_type": "code",
   "execution_count": 120,
   "id": "9f8c31cb",
   "metadata": {},
   "outputs": [
    {
     "data": {
      "text/plain": [
       "{'AdaBoost': array([0.91666667, 0.91666667, 0.91666667, 0.95833333, 0.95833333]),\n",
       " 'GradientBoosting': array([0.875     , 0.95833333, 0.95833333, 0.95833333, 0.95833333]),\n",
       " 'RandomForest': array([0.95833333, 0.91666667, 0.95833333, 0.95833333, 0.95833333]),\n",
       " 'DecisionTree': array([0.95833333, 0.95833333, 0.95833333, 0.91666667, 0.95833333]),\n",
       " 'LogisticRegression': array([0.91666667, 0.91666667, 0.95833333, 0.95833333, 1.        ]),\n",
       " 'LGBM': array([0.95833333, 0.91666667, 0.95833333, 0.95833333, 0.95833333])}"
      ]
     },
     "execution_count": 120,
     "metadata": {},
     "output_type": "execute_result"
    }
   ],
   "source": [
    "tmp = {}\n",
    "\n",
    "skfold = StratifiedKFold(n_splits = 5)\n",
    "\n",
    "for model, name in models:\n",
    "    estimators = [('scaler', StandardScaler()),\n",
    "                  ('clf', model)]\n",
    "    pipe = Pipeline(estimators)\n",
    "    pipe.set_params(clf__random_state = 13)\n",
    "    pipe.fit(X_train, y_train)\n",
    "    \n",
    "    tmp[name] = cross_val_score(model, X_train, y_train, cv = skfold)\n",
    "\n",
    "tmp"
   ]
  },
  {
   "cell_type": "markdown",
   "id": "432b2fa8",
   "metadata": {},
   "source": [
    "- 각 모델별 파이프라인 수행 후 cv scores를 df에 저장"
   ]
  },
  {
   "cell_type": "code",
   "execution_count": 121,
   "id": "ccc999eb",
   "metadata": {},
   "outputs": [
    {
     "data": {
      "text/html": [
       "<div>\n",
       "<style scoped>\n",
       "    .dataframe tbody tr th:only-of-type {\n",
       "        vertical-align: middle;\n",
       "    }\n",
       "\n",
       "    .dataframe tbody tr th {\n",
       "        vertical-align: top;\n",
       "    }\n",
       "\n",
       "    .dataframe thead th {\n",
       "        text-align: right;\n",
       "    }\n",
       "</style>\n",
       "<table border=\"1\" class=\"dataframe\">\n",
       "  <thead>\n",
       "    <tr style=\"text-align: right;\">\n",
       "      <th></th>\n",
       "      <th>AdaBoost</th>\n",
       "      <th>GradientBoosting</th>\n",
       "      <th>RandomForest</th>\n",
       "      <th>DecisionTree</th>\n",
       "      <th>LogisticRegression</th>\n",
       "      <th>LGBM</th>\n",
       "    </tr>\n",
       "  </thead>\n",
       "  <tbody>\n",
       "    <tr>\n",
       "      <th>0</th>\n",
       "      <td>0.916667</td>\n",
       "      <td>0.875000</td>\n",
       "      <td>0.958333</td>\n",
       "      <td>0.958333</td>\n",
       "      <td>0.916667</td>\n",
       "      <td>0.958333</td>\n",
       "    </tr>\n",
       "    <tr>\n",
       "      <th>1</th>\n",
       "      <td>0.916667</td>\n",
       "      <td>0.958333</td>\n",
       "      <td>0.916667</td>\n",
       "      <td>0.958333</td>\n",
       "      <td>0.916667</td>\n",
       "      <td>0.916667</td>\n",
       "    </tr>\n",
       "    <tr>\n",
       "      <th>2</th>\n",
       "      <td>0.916667</td>\n",
       "      <td>0.958333</td>\n",
       "      <td>0.958333</td>\n",
       "      <td>0.958333</td>\n",
       "      <td>0.958333</td>\n",
       "      <td>0.958333</td>\n",
       "    </tr>\n",
       "    <tr>\n",
       "      <th>3</th>\n",
       "      <td>0.958333</td>\n",
       "      <td>0.958333</td>\n",
       "      <td>0.958333</td>\n",
       "      <td>0.916667</td>\n",
       "      <td>0.958333</td>\n",
       "      <td>0.958333</td>\n",
       "    </tr>\n",
       "    <tr>\n",
       "      <th>4</th>\n",
       "      <td>0.958333</td>\n",
       "      <td>0.958333</td>\n",
       "      <td>0.958333</td>\n",
       "      <td>0.958333</td>\n",
       "      <td>1.000000</td>\n",
       "      <td>0.958333</td>\n",
       "    </tr>\n",
       "  </tbody>\n",
       "</table>\n",
       "</div>"
      ],
      "text/plain": [
       "   AdaBoost  GradientBoosting  RandomForest  DecisionTree  LogisticRegression  \\\n",
       "0  0.916667          0.875000      0.958333      0.958333            0.916667   \n",
       "1  0.916667          0.958333      0.916667      0.958333            0.916667   \n",
       "2  0.916667          0.958333      0.958333      0.958333            0.958333   \n",
       "3  0.958333          0.958333      0.958333      0.916667            0.958333   \n",
       "4  0.958333          0.958333      0.958333      0.958333            1.000000   \n",
       "\n",
       "       LGBM  \n",
       "0  0.958333  \n",
       "1  0.916667  \n",
       "2  0.958333  \n",
       "3  0.958333  \n",
       "4  0.958333  "
      ]
     },
     "execution_count": 121,
     "metadata": {},
     "output_type": "execute_result"
    }
   ],
   "source": [
    "cv_results = pd.DataFrame(tmp)\n",
    "cv_results"
   ]
  },
  {
   "cell_type": "markdown",
   "id": "4889ca87",
   "metadata": {},
   "source": [
    "# 문제13) \n",
    "**Pipeline에 분류기를 DecisionTree와 RandomForest를 적용한 후 GridSearchCV를 통해 최적의 모델과 파라미터를 찾아주세요.**"
   ]
  },
  {
   "cell_type": "markdown",
   "id": "5638c7e5",
   "metadata": {},
   "source": [
    "## 1. Decision Tree"
   ]
  },
  {
   "cell_type": "code",
   "execution_count": 146,
   "id": "b03406ff",
   "metadata": {
    "scrolled": true
   },
   "outputs": [
    {
     "data": {
      "text/plain": [
       "GridSearchCV(cv=5,\n",
       "             estimator=Pipeline(steps=[('scaler', StandardScaler()),\n",
       "                                       ('clf',\n",
       "                                        DecisionTreeClassifier(random_state=13))]),\n",
       "             param_grid={'clf__max_depth': [2, 4, 7],\n",
       "                         'clf__min_samples_leaf': [5, 10, 20]})"
      ]
     },
     "execution_count": 146,
     "metadata": {},
     "output_type": "execute_result"
    }
   ],
   "source": [
    "from sklearn.model_selection import GridSearchCV\n",
    "\n",
    "params = {\n",
    "    'clf__max_depth' : [2,4,7],\n",
    "    'clf__min_samples_leaf' : [5,10,20]\n",
    "}\n",
    "\n",
    "estimators = [('scaler', StandardScaler()),\n",
    "              ('clf', dt_clf)]\n",
    "pipe = Pipeline(estimators)\n",
    "pipe.set_params(clf__random_state = 13)\n",
    "pipe.fit(X_train, y_train)\n",
    "\n",
    "\n",
    "\n",
    "gridsearch = GridSearchCV(estimator=pipe, param_grid=params, cv = 5)\n",
    "gridsearch.fit(X_train,y_train)"
   ]
  },
  {
   "cell_type": "markdown",
   "id": "fb27e7f6",
   "metadata": {},
   "source": [
    "- 가장 좋은 성능의 모델"
   ]
  },
  {
   "cell_type": "code",
   "execution_count": 147,
   "id": "75160eb9",
   "metadata": {},
   "outputs": [
    {
     "data": {
      "text/plain": [
       "Pipeline(steps=[('scaler', StandardScaler()),\n",
       "                ('clf',\n",
       "                 DecisionTreeClassifier(max_depth=2, min_samples_leaf=5,\n",
       "                                        random_state=13))])"
      ]
     },
     "execution_count": 147,
     "metadata": {},
     "output_type": "execute_result"
    }
   ],
   "source": [
    "gridsearch.best_estimator_"
   ]
  },
  {
   "cell_type": "markdown",
   "id": "ffef3652",
   "metadata": {},
   "source": [
    "- 가장 좋은 성능의 하이퍼 파라미터"
   ]
  },
  {
   "cell_type": "code",
   "execution_count": 148,
   "id": "06e1e3b9",
   "metadata": {},
   "outputs": [
    {
     "data": {
      "text/plain": [
       "{'clf__max_depth': 2, 'clf__min_samples_leaf': 5}"
      ]
     },
     "execution_count": 148,
     "metadata": {},
     "output_type": "execute_result"
    }
   ],
   "source": [
    "gridsearch.best_params_"
   ]
  },
  {
   "cell_type": "markdown",
   "id": "06427c5e",
   "metadata": {},
   "source": [
    "- 그 때의 score"
   ]
  },
  {
   "cell_type": "code",
   "execution_count": 149,
   "id": "a548ace4",
   "metadata": {},
   "outputs": [
    {
     "data": {
      "text/plain": [
       "0.9333333333333333"
      ]
     },
     "execution_count": 149,
     "metadata": {},
     "output_type": "execute_result"
    }
   ],
   "source": [
    "gridsearch.best_score_"
   ]
  },
  {
   "cell_type": "code",
   "execution_count": 151,
   "id": "ac658276",
   "metadata": {},
   "outputs": [
    {
     "data": {
      "text/html": [
       "<div>\n",
       "<style scoped>\n",
       "    .dataframe tbody tr th:only-of-type {\n",
       "        vertical-align: middle;\n",
       "    }\n",
       "\n",
       "    .dataframe tbody tr th {\n",
       "        vertical-align: top;\n",
       "    }\n",
       "\n",
       "    .dataframe thead th {\n",
       "        text-align: right;\n",
       "    }\n",
       "</style>\n",
       "<table border=\"1\" class=\"dataframe\">\n",
       "  <thead>\n",
       "    <tr style=\"text-align: right;\">\n",
       "      <th></th>\n",
       "      <th>mean_test_score</th>\n",
       "      <th>rank_test_score</th>\n",
       "    </tr>\n",
       "  </thead>\n",
       "  <tbody>\n",
       "    <tr>\n",
       "      <th>{'clf__max_depth': 2, 'clf__min_samples_leaf': 5}</th>\n",
       "      <td>0.933333</td>\n",
       "      <td>1</td>\n",
       "    </tr>\n",
       "    <tr>\n",
       "      <th>{'clf__max_depth': 2, 'clf__min_samples_leaf': 10}</th>\n",
       "      <td>0.933333</td>\n",
       "      <td>1</td>\n",
       "    </tr>\n",
       "    <tr>\n",
       "      <th>{'clf__max_depth': 2, 'clf__min_samples_leaf': 20}</th>\n",
       "      <td>0.933333</td>\n",
       "      <td>1</td>\n",
       "    </tr>\n",
       "    <tr>\n",
       "      <th>{'clf__max_depth': 4, 'clf__min_samples_leaf': 10}</th>\n",
       "      <td>0.933333</td>\n",
       "      <td>1</td>\n",
       "    </tr>\n",
       "    <tr>\n",
       "      <th>{'clf__max_depth': 4, 'clf__min_samples_leaf': 20}</th>\n",
       "      <td>0.933333</td>\n",
       "      <td>1</td>\n",
       "    </tr>\n",
       "    <tr>\n",
       "      <th>{'clf__max_depth': 7, 'clf__min_samples_leaf': 10}</th>\n",
       "      <td>0.933333</td>\n",
       "      <td>1</td>\n",
       "    </tr>\n",
       "    <tr>\n",
       "      <th>{'clf__max_depth': 7, 'clf__min_samples_leaf': 20}</th>\n",
       "      <td>0.933333</td>\n",
       "      <td>1</td>\n",
       "    </tr>\n",
       "    <tr>\n",
       "      <th>{'clf__max_depth': 4, 'clf__min_samples_leaf': 5}</th>\n",
       "      <td>0.933333</td>\n",
       "      <td>8</td>\n",
       "    </tr>\n",
       "    <tr>\n",
       "      <th>{'clf__max_depth': 7, 'clf__min_samples_leaf': 5}</th>\n",
       "      <td>0.933333</td>\n",
       "      <td>8</td>\n",
       "    </tr>\n",
       "  </tbody>\n",
       "</table>\n",
       "</div>"
      ],
      "text/plain": [
       "                                                    mean_test_score  \\\n",
       "{'clf__max_depth': 2, 'clf__min_samples_leaf': 5}          0.933333   \n",
       "{'clf__max_depth': 2, 'clf__min_samples_leaf': 10}         0.933333   \n",
       "{'clf__max_depth': 2, 'clf__min_samples_leaf': 20}         0.933333   \n",
       "{'clf__max_depth': 4, 'clf__min_samples_leaf': 10}         0.933333   \n",
       "{'clf__max_depth': 4, 'clf__min_samples_leaf': 20}         0.933333   \n",
       "{'clf__max_depth': 7, 'clf__min_samples_leaf': 10}         0.933333   \n",
       "{'clf__max_depth': 7, 'clf__min_samples_leaf': 20}         0.933333   \n",
       "{'clf__max_depth': 4, 'clf__min_samples_leaf': 5}          0.933333   \n",
       "{'clf__max_depth': 7, 'clf__min_samples_leaf': 5}          0.933333   \n",
       "\n",
       "                                                    rank_test_score  \n",
       "{'clf__max_depth': 2, 'clf__min_samples_leaf': 5}                 1  \n",
       "{'clf__max_depth': 2, 'clf__min_samples_leaf': 10}                1  \n",
       "{'clf__max_depth': 2, 'clf__min_samples_leaf': 20}                1  \n",
       "{'clf__max_depth': 4, 'clf__min_samples_leaf': 10}                1  \n",
       "{'clf__max_depth': 4, 'clf__min_samples_leaf': 20}                1  \n",
       "{'clf__max_depth': 7, 'clf__min_samples_leaf': 10}                1  \n",
       "{'clf__max_depth': 7, 'clf__min_samples_leaf': 20}                1  \n",
       "{'clf__max_depth': 4, 'clf__min_samples_leaf': 5}                 8  \n",
       "{'clf__max_depth': 7, 'clf__min_samples_leaf': 5}                 8  "
      ]
     },
     "execution_count": 151,
     "metadata": {},
     "output_type": "execute_result"
    }
   ],
   "source": [
    "pd.DataFrame(gridsearch.cv_results_, index = gridsearch.cv_results_['params'])[['mean_test_score','rank_test_score']].sort_values('rank_test_score')"
   ]
  },
  {
   "cell_type": "markdown",
   "id": "1f02fd4d",
   "metadata": {},
   "source": [
    "- 데이터가 단순해서인지, hyperparameter들의 조합에 영향을 크게 받지 않는 모습이다."
   ]
  },
  {
   "cell_type": "markdown",
   "id": "95721e26",
   "metadata": {},
   "source": [
    "## 2. RandomForest"
   ]
  },
  {
   "cell_type": "code",
   "execution_count": 140,
   "id": "b93665bb",
   "metadata": {},
   "outputs": [
    {
     "data": {
      "text/plain": [
       "GridSearchCV(cv=5,\n",
       "             estimator=Pipeline(steps=[('scaler', StandardScaler()),\n",
       "                                       ('clf',\n",
       "                                        RandomForestClassifier(random_state=13))]),\n",
       "             param_grid={'clf__max_depth': [2, 4, 7],\n",
       "                         'clf__min_samples_leaf': [10, 20],\n",
       "                         'clf__n_estimators': [100, 200, 500]})"
      ]
     },
     "execution_count": 140,
     "metadata": {},
     "output_type": "execute_result"
    }
   ],
   "source": [
    "from sklearn.model_selection import GridSearchCV\n",
    "\n",
    "params = {\n",
    "    'clf__max_depth' : [2,4,7],\n",
    "    'clf__min_samples_leaf' : [10,20],\n",
    "    'clf__n_estimators' : [100,200,500]\n",
    "}\n",
    "\n",
    "estimators = [('scaler', StandardScaler()),\n",
    "              ('clf', rf_clf)]\n",
    "pipe = Pipeline(estimators)\n",
    "pipe.set_params(clf__random_state = 13)\n",
    "pipe.fit(X_train, y_train)\n",
    "\n",
    "gridsearch = GridSearchCV(estimator=pipe, param_grid=params, cv = 5)\n",
    "gridsearch.fit(X_train,y_train)"
   ]
  },
  {
   "cell_type": "markdown",
   "id": "6f7163eb",
   "metadata": {},
   "source": [
    "- 가장 좋은 성능의 모델"
   ]
  },
  {
   "cell_type": "code",
   "execution_count": 141,
   "id": "9757d208",
   "metadata": {},
   "outputs": [
    {
     "data": {
      "text/plain": [
       "Pipeline(steps=[('scaler', StandardScaler()),\n",
       "                ('clf',\n",
       "                 RandomForestClassifier(max_depth=2, min_samples_leaf=20,\n",
       "                                        random_state=13))])"
      ]
     },
     "execution_count": 141,
     "metadata": {},
     "output_type": "execute_result"
    }
   ],
   "source": [
    "gridsearch.best_estimator_"
   ]
  },
  {
   "cell_type": "markdown",
   "id": "22b62db1",
   "metadata": {},
   "source": [
    "- 가장 좋은 성능의 하이퍼 파라미터"
   ]
  },
  {
   "cell_type": "code",
   "execution_count": 142,
   "id": "0b60f0ab",
   "metadata": {},
   "outputs": [
    {
     "data": {
      "text/plain": [
       "{'clf__max_depth': 2, 'clf__min_samples_leaf': 20, 'clf__n_estimators': 100}"
      ]
     },
     "execution_count": 142,
     "metadata": {},
     "output_type": "execute_result"
    }
   ],
   "source": [
    "gridsearch.best_params_"
   ]
  },
  {
   "cell_type": "markdown",
   "id": "e378a0e2",
   "metadata": {},
   "source": [
    "- 그 때의 score"
   ]
  },
  {
   "cell_type": "code",
   "execution_count": 143,
   "id": "67981c4e",
   "metadata": {},
   "outputs": [
    {
     "data": {
      "text/plain": [
       "0.9583333333333333"
      ]
     },
     "execution_count": 143,
     "metadata": {},
     "output_type": "execute_result"
    }
   ],
   "source": [
    "gridsearch.best_score_"
   ]
  },
  {
   "cell_type": "code",
   "execution_count": 145,
   "id": "2f5acda2",
   "metadata": {},
   "outputs": [
    {
     "data": {
      "text/html": [
       "<div>\n",
       "<style scoped>\n",
       "    .dataframe tbody tr th:only-of-type {\n",
       "        vertical-align: middle;\n",
       "    }\n",
       "\n",
       "    .dataframe tbody tr th {\n",
       "        vertical-align: top;\n",
       "    }\n",
       "\n",
       "    .dataframe thead th {\n",
       "        text-align: right;\n",
       "    }\n",
       "</style>\n",
       "<table border=\"1\" class=\"dataframe\">\n",
       "  <thead>\n",
       "    <tr style=\"text-align: right;\">\n",
       "      <th></th>\n",
       "      <th>mean_test_score</th>\n",
       "      <th>rank_test_score</th>\n",
       "    </tr>\n",
       "  </thead>\n",
       "  <tbody>\n",
       "    <tr>\n",
       "      <th>{'clf__max_depth': 7, 'clf__min_samples_leaf': 20, 'clf__n_estimators': 100}</th>\n",
       "      <td>0.958333</td>\n",
       "      <td>1</td>\n",
       "    </tr>\n",
       "    <tr>\n",
       "      <th>{'clf__max_depth': 2, 'clf__min_samples_leaf': 20, 'clf__n_estimators': 100}</th>\n",
       "      <td>0.958333</td>\n",
       "      <td>1</td>\n",
       "    </tr>\n",
       "    <tr>\n",
       "      <th>{'clf__max_depth': 4, 'clf__min_samples_leaf': 20, 'clf__n_estimators': 100}</th>\n",
       "      <td>0.958333</td>\n",
       "      <td>1</td>\n",
       "    </tr>\n",
       "    <tr>\n",
       "      <th>{'clf__max_depth': 7, 'clf__min_samples_leaf': 10, 'clf__n_estimators': 100}</th>\n",
       "      <td>0.950000</td>\n",
       "      <td>4</td>\n",
       "    </tr>\n",
       "    <tr>\n",
       "      <th>{'clf__max_depth': 4, 'clf__min_samples_leaf': 10, 'clf__n_estimators': 100}</th>\n",
       "      <td>0.950000</td>\n",
       "      <td>4</td>\n",
       "    </tr>\n",
       "    <tr>\n",
       "      <th>{'clf__max_depth': 2, 'clf__min_samples_leaf': 10, 'clf__n_estimators': 100}</th>\n",
       "      <td>0.941667</td>\n",
       "      <td>6</td>\n",
       "    </tr>\n",
       "    <tr>\n",
       "      <th>{'clf__max_depth': 7, 'clf__min_samples_leaf': 10, 'clf__n_estimators': 500}</th>\n",
       "      <td>0.941667</td>\n",
       "      <td>6</td>\n",
       "    </tr>\n",
       "    <tr>\n",
       "      <th>{'clf__max_depth': 7, 'clf__min_samples_leaf': 10, 'clf__n_estimators': 200}</th>\n",
       "      <td>0.941667</td>\n",
       "      <td>6</td>\n",
       "    </tr>\n",
       "    <tr>\n",
       "      <th>{'clf__max_depth': 4, 'clf__min_samples_leaf': 20, 'clf__n_estimators': 500}</th>\n",
       "      <td>0.941667</td>\n",
       "      <td>6</td>\n",
       "    </tr>\n",
       "    <tr>\n",
       "      <th>{'clf__max_depth': 4, 'clf__min_samples_leaf': 20, 'clf__n_estimators': 200}</th>\n",
       "      <td>0.941667</td>\n",
       "      <td>6</td>\n",
       "    </tr>\n",
       "    <tr>\n",
       "      <th>{'clf__max_depth': 4, 'clf__min_samples_leaf': 10, 'clf__n_estimators': 500}</th>\n",
       "      <td>0.941667</td>\n",
       "      <td>6</td>\n",
       "    </tr>\n",
       "    <tr>\n",
       "      <th>{'clf__max_depth': 4, 'clf__min_samples_leaf': 10, 'clf__n_estimators': 200}</th>\n",
       "      <td>0.941667</td>\n",
       "      <td>6</td>\n",
       "    </tr>\n",
       "    <tr>\n",
       "      <th>{'clf__max_depth': 2, 'clf__min_samples_leaf': 20, 'clf__n_estimators': 500}</th>\n",
       "      <td>0.941667</td>\n",
       "      <td>6</td>\n",
       "    </tr>\n",
       "    <tr>\n",
       "      <th>{'clf__max_depth': 2, 'clf__min_samples_leaf': 20, 'clf__n_estimators': 200}</th>\n",
       "      <td>0.941667</td>\n",
       "      <td>6</td>\n",
       "    </tr>\n",
       "    <tr>\n",
       "      <th>{'clf__max_depth': 2, 'clf__min_samples_leaf': 10, 'clf__n_estimators': 500}</th>\n",
       "      <td>0.941667</td>\n",
       "      <td>6</td>\n",
       "    </tr>\n",
       "    <tr>\n",
       "      <th>{'clf__max_depth': 2, 'clf__min_samples_leaf': 10, 'clf__n_estimators': 200}</th>\n",
       "      <td>0.941667</td>\n",
       "      <td>6</td>\n",
       "    </tr>\n",
       "    <tr>\n",
       "      <th>{'clf__max_depth': 7, 'clf__min_samples_leaf': 20, 'clf__n_estimators': 200}</th>\n",
       "      <td>0.941667</td>\n",
       "      <td>6</td>\n",
       "    </tr>\n",
       "    <tr>\n",
       "      <th>{'clf__max_depth': 7, 'clf__min_samples_leaf': 20, 'clf__n_estimators': 500}</th>\n",
       "      <td>0.941667</td>\n",
       "      <td>6</td>\n",
       "    </tr>\n",
       "  </tbody>\n",
       "</table>\n",
       "</div>"
      ],
      "text/plain": [
       "                                                    mean_test_score  \\\n",
       "{'clf__max_depth': 7, 'clf__min_samples_leaf': ...         0.958333   \n",
       "{'clf__max_depth': 2, 'clf__min_samples_leaf': ...         0.958333   \n",
       "{'clf__max_depth': 4, 'clf__min_samples_leaf': ...         0.958333   \n",
       "{'clf__max_depth': 7, 'clf__min_samples_leaf': ...         0.950000   \n",
       "{'clf__max_depth': 4, 'clf__min_samples_leaf': ...         0.950000   \n",
       "{'clf__max_depth': 2, 'clf__min_samples_leaf': ...         0.941667   \n",
       "{'clf__max_depth': 7, 'clf__min_samples_leaf': ...         0.941667   \n",
       "{'clf__max_depth': 7, 'clf__min_samples_leaf': ...         0.941667   \n",
       "{'clf__max_depth': 4, 'clf__min_samples_leaf': ...         0.941667   \n",
       "{'clf__max_depth': 4, 'clf__min_samples_leaf': ...         0.941667   \n",
       "{'clf__max_depth': 4, 'clf__min_samples_leaf': ...         0.941667   \n",
       "{'clf__max_depth': 4, 'clf__min_samples_leaf': ...         0.941667   \n",
       "{'clf__max_depth': 2, 'clf__min_samples_leaf': ...         0.941667   \n",
       "{'clf__max_depth': 2, 'clf__min_samples_leaf': ...         0.941667   \n",
       "{'clf__max_depth': 2, 'clf__min_samples_leaf': ...         0.941667   \n",
       "{'clf__max_depth': 2, 'clf__min_samples_leaf': ...         0.941667   \n",
       "{'clf__max_depth': 7, 'clf__min_samples_leaf': ...         0.941667   \n",
       "{'clf__max_depth': 7, 'clf__min_samples_leaf': ...         0.941667   \n",
       "\n",
       "                                                    rank_test_score  \n",
       "{'clf__max_depth': 7, 'clf__min_samples_leaf': ...                1  \n",
       "{'clf__max_depth': 2, 'clf__min_samples_leaf': ...                1  \n",
       "{'clf__max_depth': 4, 'clf__min_samples_leaf': ...                1  \n",
       "{'clf__max_depth': 7, 'clf__min_samples_leaf': ...                4  \n",
       "{'clf__max_depth': 4, 'clf__min_samples_leaf': ...                4  \n",
       "{'clf__max_depth': 2, 'clf__min_samples_leaf': ...                6  \n",
       "{'clf__max_depth': 7, 'clf__min_samples_leaf': ...                6  \n",
       "{'clf__max_depth': 7, 'clf__min_samples_leaf': ...                6  \n",
       "{'clf__max_depth': 4, 'clf__min_samples_leaf': ...                6  \n",
       "{'clf__max_depth': 4, 'clf__min_samples_leaf': ...                6  \n",
       "{'clf__max_depth': 4, 'clf__min_samples_leaf': ...                6  \n",
       "{'clf__max_depth': 4, 'clf__min_samples_leaf': ...                6  \n",
       "{'clf__max_depth': 2, 'clf__min_samples_leaf': ...                6  \n",
       "{'clf__max_depth': 2, 'clf__min_samples_leaf': ...                6  \n",
       "{'clf__max_depth': 2, 'clf__min_samples_leaf': ...                6  \n",
       "{'clf__max_depth': 2, 'clf__min_samples_leaf': ...                6  \n",
       "{'clf__max_depth': 7, 'clf__min_samples_leaf': ...                6  \n",
       "{'clf__max_depth': 7, 'clf__min_samples_leaf': ...                6  "
      ]
     },
     "execution_count": 145,
     "metadata": {},
     "output_type": "execute_result"
    }
   ],
   "source": [
    "pd.DataFrame(gridsearch.cv_results_, index = gridsearch.cv_results_['params'])[['mean_test_score','rank_test_score']].sort_values(['rank_test_score'])"
   ]
  },
  {
   "cell_type": "markdown",
   "id": "1d5b30b4",
   "metadata": {},
   "source": [
    "- 역시나 데이터가 워낙 소수여서, max_depth는 큰 영향을 주지 않고, min_samples_leaf가 10인것보다는 20이 성능이 좋았다"
   ]
  }
 ],
 "metadata": {
  "kernelspec": {
   "display_name": "Python 3 (ipykernel)",
   "language": "python",
   "name": "python3"
  },
  "language_info": {
   "codemirror_mode": {
    "name": "ipython",
    "version": 3
   },
   "file_extension": ".py",
   "mimetype": "text/x-python",
   "name": "python",
   "nbconvert_exporter": "python",
   "pygments_lexer": "ipython3",
   "version": "3.8.11"
  },
  "toc": {
   "base_numbering": 1,
   "nav_menu": {},
   "number_sections": true,
   "sideBar": true,
   "skip_h1_title": false,
   "title_cell": "Table of Contents",
   "title_sidebar": "Contents",
   "toc_cell": true,
   "toc_position": {},
   "toc_section_display": true,
   "toc_window_display": false
  }
 },
 "nbformat": 4,
 "nbformat_minor": 5
}
